{
 "cells": [
  {
   "cell_type": "code",
   "execution_count": 7,
   "id": "e7b98bb4",
   "metadata": {},
   "outputs": [
    {
     "data": {
      "text/html": [
       "        <script type=\"text/javascript\">\n",
       "        window.PlotlyConfig = {MathJaxConfig: 'local'};\n",
       "        if (window.MathJax && window.MathJax.Hub && window.MathJax.Hub.Config) {window.MathJax.Hub.Config({SVG: {font: \"STIX-Web\"}});}\n",
       "        if (typeof require !== 'undefined') {\n",
       "        require.undef(\"plotly\");\n",
       "        requirejs.config({\n",
       "            paths: {\n",
       "                'plotly': ['https://cdn.plot.ly/plotly-2.27.0.min']\n",
       "            }\n",
       "        });\n",
       "        require(['plotly'], function(Plotly) {\n",
       "            window._Plotly = Plotly;\n",
       "        });\n",
       "        }\n",
       "        </script>\n",
       "        "
      ]
     },
     "metadata": {},
     "output_type": "display_data"
    }
   ],
   "source": [
    "import pandas as pd\n",
    "import numpy as np\n",
    "import plotly\n",
    "import plotly.graph_objects as go\n",
    "\n",
    "# These local modules use data generated from raw data\n",
    "import tackle_plot\n",
    "import get_data\n",
    "\n",
    "%load_ext autoreload\n",
    "%autoreload 2\n",
    "plotly.offline.init_notebook_mode(connected=True)\n",
    "\n",
    "pd.set_option('display.max_rows', None)\n",
    "pd.set_option('display.max_columns', None)\n",
    "pd.set_option('display.max_colwidth', None)"
   ]
  },
  {
   "cell_type": "code",
   "execution_count": 4,
   "id": "10a36fe5",
   "metadata": {},
   "outputs": [],
   "source": [
    "def plot(gameId, playId):\n",
    "    game = get_data.game(gameId)\n",
    "    play = get_data.play(gameId, playId)\n",
    "    tracking = get_data.tracking(gameId, playId).reset_index()\n",
    "    \n",
    "    date = game['gameDate'].item()\n",
    "    tacklers = get_data.tacklers(gameId, playId)\n",
    "    carrier = play['ballCarrierId'].item()\n",
    "    offence = play['possessionTeam'].item()\n",
    "    defence = play['defensiveTeam'].item()\n",
    "    down = play['down'].item()\n",
    "    yardstogo = play['yardsToGo'].item()\n",
    "    ablos = play['absoluteYardlineNumber'].item()   \n",
    "    \n",
    "    fig0, fig = tackle_plot.plot(tracking, date, tacklers, carrier, offence, defence, down, yardstogo, ablos) \n",
    "    \n",
    "    fig0.show(config={'displayModeBar': False})    \n",
    "    fig.show(config={'displayModeBar': False})"
   ]
  },
  {
   "cell_type": "code",
   "execution_count": 33,
   "id": "ff091420",
   "metadata": {},
   "outputs": [
    {
     "data": {
      "application/vnd.plotly.v1+json": {
       "config": {
        "displayModeBar": false,
        "plotlyServerURL": "https://plot.ly"
       },
       "data": [
        {
         "marker": {
          "angle": -90,
          "color": "darkblue",
          "size": 20,
          "symbol": "arrow"
         },
         "mode": "markers",
         "name": "Tackler",
         "showlegend": true,
         "type": "scatter",
         "x": [
          null
         ],
         "y": [
          null
         ]
        },
        {
         "marker": {
          "angle": -90,
          "color": "#768cb0",
          "size": 12,
          "symbol": "arrow"
         },
         "mode": "markers",
         "name": "Defence",
         "showlegend": true,
         "type": "scatter",
         "x": [
          null
         ],
         "y": [
          null
         ]
        },
        {
         "marker": {
          "angle": -90,
          "color": "sienna",
          "size": 20,
          "symbol": "arrow"
         },
         "mode": "markers",
         "name": "Carrier",
         "showlegend": true,
         "type": "scatter",
         "x": [
          null
         ],
         "y": [
          null
         ]
        },
        {
         "marker": {
          "angle": -90,
          "color": "burlywood",
          "size": 12,
          "symbol": "arrow"
         },
         "mode": "markers",
         "name": "Offence",
         "showlegend": true,
         "type": "scatter",
         "x": [
          null
         ],
         "y": [
          null
         ]
        }
       ],
       "layout": {
        "height": 70,
        "legend": {
         "font": {
          "size": 13
         },
         "orientation": "h",
         "x": 0.5,
         "xanchor": "center",
         "y": 0,
         "yanchor": "bottom"
        },
        "plot_bgcolor": "rgba(0,0,0,0)",
        "template": {
         "data": {
          "bar": [
           {
            "error_x": {
             "color": "#2a3f5f"
            },
            "error_y": {
             "color": "#2a3f5f"
            },
            "marker": {
             "line": {
              "color": "#E5ECF6",
              "width": 0.5
             },
             "pattern": {
              "fillmode": "overlay",
              "size": 10,
              "solidity": 0.2
             }
            },
            "type": "bar"
           }
          ],
          "barpolar": [
           {
            "marker": {
             "line": {
              "color": "#E5ECF6",
              "width": 0.5
             },
             "pattern": {
              "fillmode": "overlay",
              "size": 10,
              "solidity": 0.2
             }
            },
            "type": "barpolar"
           }
          ],
          "carpet": [
           {
            "aaxis": {
             "endlinecolor": "#2a3f5f",
             "gridcolor": "white",
             "linecolor": "white",
             "minorgridcolor": "white",
             "startlinecolor": "#2a3f5f"
            },
            "baxis": {
             "endlinecolor": "#2a3f5f",
             "gridcolor": "white",
             "linecolor": "white",
             "minorgridcolor": "white",
             "startlinecolor": "#2a3f5f"
            },
            "type": "carpet"
           }
          ],
          "choropleth": [
           {
            "colorbar": {
             "outlinewidth": 0,
             "ticks": ""
            },
            "type": "choropleth"
           }
          ],
          "contour": [
           {
            "colorbar": {
             "outlinewidth": 0,
             "ticks": ""
            },
            "colorscale": [
             [
              0,
              "#0d0887"
             ],
             [
              0.1111111111111111,
              "#46039f"
             ],
             [
              0.2222222222222222,
              "#7201a8"
             ],
             [
              0.3333333333333333,
              "#9c179e"
             ],
             [
              0.4444444444444444,
              "#bd3786"
             ],
             [
              0.5555555555555556,
              "#d8576b"
             ],
             [
              0.6666666666666666,
              "#ed7953"
             ],
             [
              0.7777777777777778,
              "#fb9f3a"
             ],
             [
              0.8888888888888888,
              "#fdca26"
             ],
             [
              1,
              "#f0f921"
             ]
            ],
            "type": "contour"
           }
          ],
          "contourcarpet": [
           {
            "colorbar": {
             "outlinewidth": 0,
             "ticks": ""
            },
            "type": "contourcarpet"
           }
          ],
          "heatmap": [
           {
            "colorbar": {
             "outlinewidth": 0,
             "ticks": ""
            },
            "colorscale": [
             [
              0,
              "#0d0887"
             ],
             [
              0.1111111111111111,
              "#46039f"
             ],
             [
              0.2222222222222222,
              "#7201a8"
             ],
             [
              0.3333333333333333,
              "#9c179e"
             ],
             [
              0.4444444444444444,
              "#bd3786"
             ],
             [
              0.5555555555555556,
              "#d8576b"
             ],
             [
              0.6666666666666666,
              "#ed7953"
             ],
             [
              0.7777777777777778,
              "#fb9f3a"
             ],
             [
              0.8888888888888888,
              "#fdca26"
             ],
             [
              1,
              "#f0f921"
             ]
            ],
            "type": "heatmap"
           }
          ],
          "heatmapgl": [
           {
            "colorbar": {
             "outlinewidth": 0,
             "ticks": ""
            },
            "colorscale": [
             [
              0,
              "#0d0887"
             ],
             [
              0.1111111111111111,
              "#46039f"
             ],
             [
              0.2222222222222222,
              "#7201a8"
             ],
             [
              0.3333333333333333,
              "#9c179e"
             ],
             [
              0.4444444444444444,
              "#bd3786"
             ],
             [
              0.5555555555555556,
              "#d8576b"
             ],
             [
              0.6666666666666666,
              "#ed7953"
             ],
             [
              0.7777777777777778,
              "#fb9f3a"
             ],
             [
              0.8888888888888888,
              "#fdca26"
             ],
             [
              1,
              "#f0f921"
             ]
            ],
            "type": "heatmapgl"
           }
          ],
          "histogram": [
           {
            "marker": {
             "pattern": {
              "fillmode": "overlay",
              "size": 10,
              "solidity": 0.2
             }
            },
            "type": "histogram"
           }
          ],
          "histogram2d": [
           {
            "colorbar": {
             "outlinewidth": 0,
             "ticks": ""
            },
            "colorscale": [
             [
              0,
              "#0d0887"
             ],
             [
              0.1111111111111111,
              "#46039f"
             ],
             [
              0.2222222222222222,
              "#7201a8"
             ],
             [
              0.3333333333333333,
              "#9c179e"
             ],
             [
              0.4444444444444444,
              "#bd3786"
             ],
             [
              0.5555555555555556,
              "#d8576b"
             ],
             [
              0.6666666666666666,
              "#ed7953"
             ],
             [
              0.7777777777777778,
              "#fb9f3a"
             ],
             [
              0.8888888888888888,
              "#fdca26"
             ],
             [
              1,
              "#f0f921"
             ]
            ],
            "type": "histogram2d"
           }
          ],
          "histogram2dcontour": [
           {
            "colorbar": {
             "outlinewidth": 0,
             "ticks": ""
            },
            "colorscale": [
             [
              0,
              "#0d0887"
             ],
             [
              0.1111111111111111,
              "#46039f"
             ],
             [
              0.2222222222222222,
              "#7201a8"
             ],
             [
              0.3333333333333333,
              "#9c179e"
             ],
             [
              0.4444444444444444,
              "#bd3786"
             ],
             [
              0.5555555555555556,
              "#d8576b"
             ],
             [
              0.6666666666666666,
              "#ed7953"
             ],
             [
              0.7777777777777778,
              "#fb9f3a"
             ],
             [
              0.8888888888888888,
              "#fdca26"
             ],
             [
              1,
              "#f0f921"
             ]
            ],
            "type": "histogram2dcontour"
           }
          ],
          "mesh3d": [
           {
            "colorbar": {
             "outlinewidth": 0,
             "ticks": ""
            },
            "type": "mesh3d"
           }
          ],
          "parcoords": [
           {
            "line": {
             "colorbar": {
              "outlinewidth": 0,
              "ticks": ""
             }
            },
            "type": "parcoords"
           }
          ],
          "pie": [
           {
            "automargin": true,
            "type": "pie"
           }
          ],
          "scatter": [
           {
            "fillpattern": {
             "fillmode": "overlay",
             "size": 10,
             "solidity": 0.2
            },
            "type": "scatter"
           }
          ],
          "scatter3d": [
           {
            "line": {
             "colorbar": {
              "outlinewidth": 0,
              "ticks": ""
             }
            },
            "marker": {
             "colorbar": {
              "outlinewidth": 0,
              "ticks": ""
             }
            },
            "type": "scatter3d"
           }
          ],
          "scattercarpet": [
           {
            "marker": {
             "colorbar": {
              "outlinewidth": 0,
              "ticks": ""
             }
            },
            "type": "scattercarpet"
           }
          ],
          "scattergeo": [
           {
            "marker": {
             "colorbar": {
              "outlinewidth": 0,
              "ticks": ""
             }
            },
            "type": "scattergeo"
           }
          ],
          "scattergl": [
           {
            "marker": {
             "colorbar": {
              "outlinewidth": 0,
              "ticks": ""
             }
            },
            "type": "scattergl"
           }
          ],
          "scattermapbox": [
           {
            "marker": {
             "colorbar": {
              "outlinewidth": 0,
              "ticks": ""
             }
            },
            "type": "scattermapbox"
           }
          ],
          "scatterpolar": [
           {
            "marker": {
             "colorbar": {
              "outlinewidth": 0,
              "ticks": ""
             }
            },
            "type": "scatterpolar"
           }
          ],
          "scatterpolargl": [
           {
            "marker": {
             "colorbar": {
              "outlinewidth": 0,
              "ticks": ""
             }
            },
            "type": "scatterpolargl"
           }
          ],
          "scatterternary": [
           {
            "marker": {
             "colorbar": {
              "outlinewidth": 0,
              "ticks": ""
             }
            },
            "type": "scatterternary"
           }
          ],
          "surface": [
           {
            "colorbar": {
             "outlinewidth": 0,
             "ticks": ""
            },
            "colorscale": [
             [
              0,
              "#0d0887"
             ],
             [
              0.1111111111111111,
              "#46039f"
             ],
             [
              0.2222222222222222,
              "#7201a8"
             ],
             [
              0.3333333333333333,
              "#9c179e"
             ],
             [
              0.4444444444444444,
              "#bd3786"
             ],
             [
              0.5555555555555556,
              "#d8576b"
             ],
             [
              0.6666666666666666,
              "#ed7953"
             ],
             [
              0.7777777777777778,
              "#fb9f3a"
             ],
             [
              0.8888888888888888,
              "#fdca26"
             ],
             [
              1,
              "#f0f921"
             ]
            ],
            "type": "surface"
           }
          ],
          "table": [
           {
            "cells": {
             "fill": {
              "color": "#EBF0F8"
             },
             "line": {
              "color": "white"
             }
            },
            "header": {
             "fill": {
              "color": "#C8D4E3"
             },
             "line": {
              "color": "white"
             }
            },
            "type": "table"
           }
          ]
         },
         "layout": {
          "annotationdefaults": {
           "arrowcolor": "#2a3f5f",
           "arrowhead": 0,
           "arrowwidth": 1
          },
          "autotypenumbers": "strict",
          "coloraxis": {
           "colorbar": {
            "outlinewidth": 0,
            "ticks": ""
           }
          },
          "colorscale": {
           "diverging": [
            [
             0,
             "#8e0152"
            ],
            [
             0.1,
             "#c51b7d"
            ],
            [
             0.2,
             "#de77ae"
            ],
            [
             0.3,
             "#f1b6da"
            ],
            [
             0.4,
             "#fde0ef"
            ],
            [
             0.5,
             "#f7f7f7"
            ],
            [
             0.6,
             "#e6f5d0"
            ],
            [
             0.7,
             "#b8e186"
            ],
            [
             0.8,
             "#7fbc41"
            ],
            [
             0.9,
             "#4d9221"
            ],
            [
             1,
             "#276419"
            ]
           ],
           "sequential": [
            [
             0,
             "#0d0887"
            ],
            [
             0.1111111111111111,
             "#46039f"
            ],
            [
             0.2222222222222222,
             "#7201a8"
            ],
            [
             0.3333333333333333,
             "#9c179e"
            ],
            [
             0.4444444444444444,
             "#bd3786"
            ],
            [
             0.5555555555555556,
             "#d8576b"
            ],
            [
             0.6666666666666666,
             "#ed7953"
            ],
            [
             0.7777777777777778,
             "#fb9f3a"
            ],
            [
             0.8888888888888888,
             "#fdca26"
            ],
            [
             1,
             "#f0f921"
            ]
           ],
           "sequentialminus": [
            [
             0,
             "#0d0887"
            ],
            [
             0.1111111111111111,
             "#46039f"
            ],
            [
             0.2222222222222222,
             "#7201a8"
            ],
            [
             0.3333333333333333,
             "#9c179e"
            ],
            [
             0.4444444444444444,
             "#bd3786"
            ],
            [
             0.5555555555555556,
             "#d8576b"
            ],
            [
             0.6666666666666666,
             "#ed7953"
            ],
            [
             0.7777777777777778,
             "#fb9f3a"
            ],
            [
             0.8888888888888888,
             "#fdca26"
            ],
            [
             1,
             "#f0f921"
            ]
           ]
          },
          "colorway": [
           "#636efa",
           "#EF553B",
           "#00cc96",
           "#ab63fa",
           "#FFA15A",
           "#19d3f3",
           "#FF6692",
           "#B6E880",
           "#FF97FF",
           "#FECB52"
          ],
          "font": {
           "color": "#2a3f5f"
          },
          "geo": {
           "bgcolor": "white",
           "lakecolor": "white",
           "landcolor": "#E5ECF6",
           "showlakes": true,
           "showland": true,
           "subunitcolor": "white"
          },
          "hoverlabel": {
           "align": "left"
          },
          "hovermode": "closest",
          "mapbox": {
           "style": "light"
          },
          "paper_bgcolor": "white",
          "plot_bgcolor": "#E5ECF6",
          "polar": {
           "angularaxis": {
            "gridcolor": "white",
            "linecolor": "white",
            "ticks": ""
           },
           "bgcolor": "#E5ECF6",
           "radialaxis": {
            "gridcolor": "white",
            "linecolor": "white",
            "ticks": ""
           }
          },
          "scene": {
           "xaxis": {
            "backgroundcolor": "#E5ECF6",
            "gridcolor": "white",
            "gridwidth": 2,
            "linecolor": "white",
            "showbackground": true,
            "ticks": "",
            "zerolinecolor": "white"
           },
           "yaxis": {
            "backgroundcolor": "#E5ECF6",
            "gridcolor": "white",
            "gridwidth": 2,
            "linecolor": "white",
            "showbackground": true,
            "ticks": "",
            "zerolinecolor": "white"
           },
           "zaxis": {
            "backgroundcolor": "#E5ECF6",
            "gridcolor": "white",
            "gridwidth": 2,
            "linecolor": "white",
            "showbackground": true,
            "ticks": "",
            "zerolinecolor": "white"
           }
          },
          "shapedefaults": {
           "line": {
            "color": "#2a3f5f"
           }
          },
          "ternary": {
           "aaxis": {
            "gridcolor": "white",
            "linecolor": "white",
            "ticks": ""
           },
           "baxis": {
            "gridcolor": "white",
            "linecolor": "white",
            "ticks": ""
           },
           "bgcolor": "#E5ECF6",
           "caxis": {
            "gridcolor": "white",
            "linecolor": "white",
            "ticks": ""
           }
          },
          "title": {
           "x": 0.05
          },
          "xaxis": {
           "automargin": true,
           "gridcolor": "white",
           "linecolor": "white",
           "ticks": "",
           "title": {
            "standoff": 15
           },
           "zerolinecolor": "white",
           "zerolinewidth": 2
          },
          "yaxis": {
           "automargin": true,
           "gridcolor": "white",
           "linecolor": "white",
           "ticks": "",
           "title": {
            "standoff": 15
           },
           "zerolinecolor": "white",
           "zerolinewidth": 2
          }
         }
        },
        "title": {
         "font": {
          "size": 14
         },
         "text": "Date: 10/09/2022 | Offense: ATL | Defense: TB | Down: 1 | YTG: 15",
         "x": 0.5,
         "y": 0.05,
         "yanchor": "bottom"
        },
        "width": 800,
        "xaxis": {
         "showticklabels": false
        },
        "yaxis": {
         "showticklabels": false
        }
       }
      },
      "text/html": [
       "<div>                            <div id=\"fb1d8137-4e3c-4a57-a9b2-4f0fb5e0f30a\" class=\"plotly-graph-div\" style=\"height:70px; width:800px;\"></div>            <script type=\"text/javascript\">                require([\"plotly\"], function(Plotly) {                    window.PLOTLYENV=window.PLOTLYENV || {};                                    if (document.getElementById(\"fb1d8137-4e3c-4a57-a9b2-4f0fb5e0f30a\")) {                    Plotly.newPlot(                        \"fb1d8137-4e3c-4a57-a9b2-4f0fb5e0f30a\",                        [{\"marker\":{\"angle\":-90,\"color\":\"darkblue\",\"size\":20,\"symbol\":\"arrow\"},\"mode\":\"markers\",\"name\":\"Tackler\",\"showlegend\":true,\"x\":[null],\"y\":[null],\"type\":\"scatter\"},{\"marker\":{\"angle\":-90,\"color\":\"#768cb0\",\"size\":12,\"symbol\":\"arrow\"},\"mode\":\"markers\",\"name\":\"Defence\",\"showlegend\":true,\"x\":[null],\"y\":[null],\"type\":\"scatter\"},{\"marker\":{\"angle\":-90,\"color\":\"sienna\",\"size\":20,\"symbol\":\"arrow\"},\"mode\":\"markers\",\"name\":\"Carrier\",\"showlegend\":true,\"x\":[null],\"y\":[null],\"type\":\"scatter\"},{\"marker\":{\"angle\":-90,\"color\":\"burlywood\",\"size\":12,\"symbol\":\"arrow\"},\"mode\":\"markers\",\"name\":\"Offence\",\"showlegend\":true,\"x\":[null],\"y\":[null],\"type\":\"scatter\"}],                        {\"template\":{\"data\":{\"histogram2dcontour\":[{\"type\":\"histogram2dcontour\",\"colorbar\":{\"outlinewidth\":0,\"ticks\":\"\"},\"colorscale\":[[0.0,\"#0d0887\"],[0.1111111111111111,\"#46039f\"],[0.2222222222222222,\"#7201a8\"],[0.3333333333333333,\"#9c179e\"],[0.4444444444444444,\"#bd3786\"],[0.5555555555555556,\"#d8576b\"],[0.6666666666666666,\"#ed7953\"],[0.7777777777777778,\"#fb9f3a\"],[0.8888888888888888,\"#fdca26\"],[1.0,\"#f0f921\"]]}],\"choropleth\":[{\"type\":\"choropleth\",\"colorbar\":{\"outlinewidth\":0,\"ticks\":\"\"}}],\"histogram2d\":[{\"type\":\"histogram2d\",\"colorbar\":{\"outlinewidth\":0,\"ticks\":\"\"},\"colorscale\":[[0.0,\"#0d0887\"],[0.1111111111111111,\"#46039f\"],[0.2222222222222222,\"#7201a8\"],[0.3333333333333333,\"#9c179e\"],[0.4444444444444444,\"#bd3786\"],[0.5555555555555556,\"#d8576b\"],[0.6666666666666666,\"#ed7953\"],[0.7777777777777778,\"#fb9f3a\"],[0.8888888888888888,\"#fdca26\"],[1.0,\"#f0f921\"]]}],\"heatmap\":[{\"type\":\"heatmap\",\"colorbar\":{\"outlinewidth\":0,\"ticks\":\"\"},\"colorscale\":[[0.0,\"#0d0887\"],[0.1111111111111111,\"#46039f\"],[0.2222222222222222,\"#7201a8\"],[0.3333333333333333,\"#9c179e\"],[0.4444444444444444,\"#bd3786\"],[0.5555555555555556,\"#d8576b\"],[0.6666666666666666,\"#ed7953\"],[0.7777777777777778,\"#fb9f3a\"],[0.8888888888888888,\"#fdca26\"],[1.0,\"#f0f921\"]]}],\"heatmapgl\":[{\"type\":\"heatmapgl\",\"colorbar\":{\"outlinewidth\":0,\"ticks\":\"\"},\"colorscale\":[[0.0,\"#0d0887\"],[0.1111111111111111,\"#46039f\"],[0.2222222222222222,\"#7201a8\"],[0.3333333333333333,\"#9c179e\"],[0.4444444444444444,\"#bd3786\"],[0.5555555555555556,\"#d8576b\"],[0.6666666666666666,\"#ed7953\"],[0.7777777777777778,\"#fb9f3a\"],[0.8888888888888888,\"#fdca26\"],[1.0,\"#f0f921\"]]}],\"contourcarpet\":[{\"type\":\"contourcarpet\",\"colorbar\":{\"outlinewidth\":0,\"ticks\":\"\"}}],\"contour\":[{\"type\":\"contour\",\"colorbar\":{\"outlinewidth\":0,\"ticks\":\"\"},\"colorscale\":[[0.0,\"#0d0887\"],[0.1111111111111111,\"#46039f\"],[0.2222222222222222,\"#7201a8\"],[0.3333333333333333,\"#9c179e\"],[0.4444444444444444,\"#bd3786\"],[0.5555555555555556,\"#d8576b\"],[0.6666666666666666,\"#ed7953\"],[0.7777777777777778,\"#fb9f3a\"],[0.8888888888888888,\"#fdca26\"],[1.0,\"#f0f921\"]]}],\"surface\":[{\"type\":\"surface\",\"colorbar\":{\"outlinewidth\":0,\"ticks\":\"\"},\"colorscale\":[[0.0,\"#0d0887\"],[0.1111111111111111,\"#46039f\"],[0.2222222222222222,\"#7201a8\"],[0.3333333333333333,\"#9c179e\"],[0.4444444444444444,\"#bd3786\"],[0.5555555555555556,\"#d8576b\"],[0.6666666666666666,\"#ed7953\"],[0.7777777777777778,\"#fb9f3a\"],[0.8888888888888888,\"#fdca26\"],[1.0,\"#f0f921\"]]}],\"mesh3d\":[{\"type\":\"mesh3d\",\"colorbar\":{\"outlinewidth\":0,\"ticks\":\"\"}}],\"scatter\":[{\"fillpattern\":{\"fillmode\":\"overlay\",\"size\":10,\"solidity\":0.2},\"type\":\"scatter\"}],\"parcoords\":[{\"type\":\"parcoords\",\"line\":{\"colorbar\":{\"outlinewidth\":0,\"ticks\":\"\"}}}],\"scatterpolargl\":[{\"type\":\"scatterpolargl\",\"marker\":{\"colorbar\":{\"outlinewidth\":0,\"ticks\":\"\"}}}],\"bar\":[{\"error_x\":{\"color\":\"#2a3f5f\"},\"error_y\":{\"color\":\"#2a3f5f\"},\"marker\":{\"line\":{\"color\":\"#E5ECF6\",\"width\":0.5},\"pattern\":{\"fillmode\":\"overlay\",\"size\":10,\"solidity\":0.2}},\"type\":\"bar\"}],\"scattergeo\":[{\"type\":\"scattergeo\",\"marker\":{\"colorbar\":{\"outlinewidth\":0,\"ticks\":\"\"}}}],\"scatterpolar\":[{\"type\":\"scatterpolar\",\"marker\":{\"colorbar\":{\"outlinewidth\":0,\"ticks\":\"\"}}}],\"histogram\":[{\"marker\":{\"pattern\":{\"fillmode\":\"overlay\",\"size\":10,\"solidity\":0.2}},\"type\":\"histogram\"}],\"scattergl\":[{\"type\":\"scattergl\",\"marker\":{\"colorbar\":{\"outlinewidth\":0,\"ticks\":\"\"}}}],\"scatter3d\":[{\"type\":\"scatter3d\",\"line\":{\"colorbar\":{\"outlinewidth\":0,\"ticks\":\"\"}},\"marker\":{\"colorbar\":{\"outlinewidth\":0,\"ticks\":\"\"}}}],\"scattermapbox\":[{\"type\":\"scattermapbox\",\"marker\":{\"colorbar\":{\"outlinewidth\":0,\"ticks\":\"\"}}}],\"scatterternary\":[{\"type\":\"scatterternary\",\"marker\":{\"colorbar\":{\"outlinewidth\":0,\"ticks\":\"\"}}}],\"scattercarpet\":[{\"type\":\"scattercarpet\",\"marker\":{\"colorbar\":{\"outlinewidth\":0,\"ticks\":\"\"}}}],\"carpet\":[{\"aaxis\":{\"endlinecolor\":\"#2a3f5f\",\"gridcolor\":\"white\",\"linecolor\":\"white\",\"minorgridcolor\":\"white\",\"startlinecolor\":\"#2a3f5f\"},\"baxis\":{\"endlinecolor\":\"#2a3f5f\",\"gridcolor\":\"white\",\"linecolor\":\"white\",\"minorgridcolor\":\"white\",\"startlinecolor\":\"#2a3f5f\"},\"type\":\"carpet\"}],\"table\":[{\"cells\":{\"fill\":{\"color\":\"#EBF0F8\"},\"line\":{\"color\":\"white\"}},\"header\":{\"fill\":{\"color\":\"#C8D4E3\"},\"line\":{\"color\":\"white\"}},\"type\":\"table\"}],\"barpolar\":[{\"marker\":{\"line\":{\"color\":\"#E5ECF6\",\"width\":0.5},\"pattern\":{\"fillmode\":\"overlay\",\"size\":10,\"solidity\":0.2}},\"type\":\"barpolar\"}],\"pie\":[{\"automargin\":true,\"type\":\"pie\"}]},\"layout\":{\"autotypenumbers\":\"strict\",\"colorway\":[\"#636efa\",\"#EF553B\",\"#00cc96\",\"#ab63fa\",\"#FFA15A\",\"#19d3f3\",\"#FF6692\",\"#B6E880\",\"#FF97FF\",\"#FECB52\"],\"font\":{\"color\":\"#2a3f5f\"},\"hovermode\":\"closest\",\"hoverlabel\":{\"align\":\"left\"},\"paper_bgcolor\":\"white\",\"plot_bgcolor\":\"#E5ECF6\",\"polar\":{\"bgcolor\":\"#E5ECF6\",\"angularaxis\":{\"gridcolor\":\"white\",\"linecolor\":\"white\",\"ticks\":\"\"},\"radialaxis\":{\"gridcolor\":\"white\",\"linecolor\":\"white\",\"ticks\":\"\"}},\"ternary\":{\"bgcolor\":\"#E5ECF6\",\"aaxis\":{\"gridcolor\":\"white\",\"linecolor\":\"white\",\"ticks\":\"\"},\"baxis\":{\"gridcolor\":\"white\",\"linecolor\":\"white\",\"ticks\":\"\"},\"caxis\":{\"gridcolor\":\"white\",\"linecolor\":\"white\",\"ticks\":\"\"}},\"coloraxis\":{\"colorbar\":{\"outlinewidth\":0,\"ticks\":\"\"}},\"colorscale\":{\"sequential\":[[0.0,\"#0d0887\"],[0.1111111111111111,\"#46039f\"],[0.2222222222222222,\"#7201a8\"],[0.3333333333333333,\"#9c179e\"],[0.4444444444444444,\"#bd3786\"],[0.5555555555555556,\"#d8576b\"],[0.6666666666666666,\"#ed7953\"],[0.7777777777777778,\"#fb9f3a\"],[0.8888888888888888,\"#fdca26\"],[1.0,\"#f0f921\"]],\"sequentialminus\":[[0.0,\"#0d0887\"],[0.1111111111111111,\"#46039f\"],[0.2222222222222222,\"#7201a8\"],[0.3333333333333333,\"#9c179e\"],[0.4444444444444444,\"#bd3786\"],[0.5555555555555556,\"#d8576b\"],[0.6666666666666666,\"#ed7953\"],[0.7777777777777778,\"#fb9f3a\"],[0.8888888888888888,\"#fdca26\"],[1.0,\"#f0f921\"]],\"diverging\":[[0,\"#8e0152\"],[0.1,\"#c51b7d\"],[0.2,\"#de77ae\"],[0.3,\"#f1b6da\"],[0.4,\"#fde0ef\"],[0.5,\"#f7f7f7\"],[0.6,\"#e6f5d0\"],[0.7,\"#b8e186\"],[0.8,\"#7fbc41\"],[0.9,\"#4d9221\"],[1,\"#276419\"]]},\"xaxis\":{\"gridcolor\":\"white\",\"linecolor\":\"white\",\"ticks\":\"\",\"title\":{\"standoff\":15},\"zerolinecolor\":\"white\",\"automargin\":true,\"zerolinewidth\":2},\"yaxis\":{\"gridcolor\":\"white\",\"linecolor\":\"white\",\"ticks\":\"\",\"title\":{\"standoff\":15},\"zerolinecolor\":\"white\",\"automargin\":true,\"zerolinewidth\":2},\"scene\":{\"xaxis\":{\"backgroundcolor\":\"#E5ECF6\",\"gridcolor\":\"white\",\"linecolor\":\"white\",\"showbackground\":true,\"ticks\":\"\",\"zerolinecolor\":\"white\",\"gridwidth\":2},\"yaxis\":{\"backgroundcolor\":\"#E5ECF6\",\"gridcolor\":\"white\",\"linecolor\":\"white\",\"showbackground\":true,\"ticks\":\"\",\"zerolinecolor\":\"white\",\"gridwidth\":2},\"zaxis\":{\"backgroundcolor\":\"#E5ECF6\",\"gridcolor\":\"white\",\"linecolor\":\"white\",\"showbackground\":true,\"ticks\":\"\",\"zerolinecolor\":\"white\",\"gridwidth\":2}},\"shapedefaults\":{\"line\":{\"color\":\"#2a3f5f\"}},\"annotationdefaults\":{\"arrowcolor\":\"#2a3f5f\",\"arrowhead\":0,\"arrowwidth\":1},\"geo\":{\"bgcolor\":\"white\",\"landcolor\":\"#E5ECF6\",\"subunitcolor\":\"white\",\"showland\":true,\"showlakes\":true,\"lakecolor\":\"white\"},\"title\":{\"x\":0.05},\"mapbox\":{\"style\":\"light\"}}},\"legend\":{\"font\":{\"size\":13},\"xanchor\":\"center\",\"yanchor\":\"bottom\",\"x\":0.5,\"y\":0,\"orientation\":\"h\"},\"xaxis\":{\"showticklabels\":false},\"yaxis\":{\"showticklabels\":false},\"title\":{\"font\":{\"size\":14},\"text\":\"Date: 10\\u002f09\\u002f2022 | Offense: ATL | Defense: TB | Down: 1 | YTG: 15\",\"yanchor\":\"bottom\",\"x\":0.5,\"y\":0.05},\"width\":800,\"height\":70,\"plot_bgcolor\":\"rgba(0,0,0,0)\"},                        {\"displayModeBar\": false, \"responsive\": true}                    ).then(function(){\n",
       "                            \n",
       "var gd = document.getElementById('fb1d8137-4e3c-4a57-a9b2-4f0fb5e0f30a');\n",
       "var x = new MutationObserver(function (mutations, observer) {{\n",
       "        var display = window.getComputedStyle(gd).display;\n",
       "        if (!display || display === 'none') {{\n",
       "            console.log([gd, 'removed!']);\n",
       "            Plotly.purge(gd);\n",
       "            observer.disconnect();\n",
       "        }}\n",
       "}});\n",
       "\n",
       "// Listen for the removal of the full notebook cells\n",
       "var notebookContainer = gd.closest('#notebook-container');\n",
       "if (notebookContainer) {{\n",
       "    x.observe(notebookContainer, {childList: true});\n",
       "}}\n",
       "\n",
       "// Listen for the clearing of the current output cell\n",
       "var outputEl = gd.closest('.output');\n",
       "if (outputEl) {{\n",
       "    x.observe(outputEl, {childList: true});\n",
       "}}\n",
       "\n",
       "                        })                };                });            </script>        </div>"
      ]
     },
     "metadata": {},
     "output_type": "display_data"
    },
    {
     "data": {
      "application/vnd.plotly.v1+json": {
       "config": {
        "displayModeBar": false,
        "plotlyServerURL": "https://plot.ly"
       },
       "data": [
        {
         "hovertemplate": "%{hovertext}",
         "hovertext": [
          "Lavonte David",
          "Jake Matthews",
          "Shaquil Barrett",
          "Marcus Mariota",
          "Rakeem Nunez-Roches",
          "Keanu Neal",
          "Elijah Wilkinson",
          "Vita Vea",
          "Carlton Davis",
          "KhaDarel Hodge",
          "Devin White",
          "Chris Lindstrom",
          "Kaleb McGary",
          "Jamel Dean",
          "Mike Edwards",
          "Olamide Zaccheaus",
          "Antoine Winfield",
          "Joe Tryon",
          "Drew Dalman",
          "Feleipe Franks",
          "Drake London",
          "Tyler Allgeier"
         ],
         "marker": {
          "angle": [
           -176.94,
           -24.059999999999945,
           -63.05000000000001,
           171.01999999999998,
           -40.95999999999998,
           -168.41999999999996,
           79.57999999999998,
           -144.57,
           -107.94999999999999,
           29.650000000000006,
           -148.60000000000002,
           11.990000000000009,
           26.879999999999995,
           -138.93,
           -148.14999999999998,
           -52.129999999999995,
           -126.97000000000003,
           124.18,
           31.639999999999986,
           24.819999999999993,
           100.5,
           84.86000000000001
          ],
          "color": [
           "#768cb0",
           "burlywood",
           "#768cb0",
           "burlywood",
           "#768cb0",
           "#768cb0",
           "burlywood",
           "#768cb0",
           "darkblue",
           "sienna",
           "#768cb0",
           "burlywood",
           "burlywood",
           "#768cb0",
           "#768cb0",
           "burlywood",
           "#768cb0",
           "#768cb0",
           "burlywood",
           "burlywood",
           "burlywood",
           "burlywood"
          ],
          "size": [
           16,
           16,
           16,
           16,
           16,
           16,
           16,
           16,
           20,
           20,
           16,
           16,
           16,
           16,
           16,
           16,
           16,
           16,
           16,
           16,
           16,
           16
          ],
          "symbol": "arrow"
         },
         "mode": "markers",
         "showlegend": false,
         "type": "scatter",
         "visible": true,
         "x": [
          27.52,
          22.11,
          22.12,
          17.51,
          22.36,
          38.35,
          21.77,
          22.87,
          33.24,
          17.08,
          27.09,
          25.26,
          25.86,
          33.2,
          32.87,
          26.04,
          19.78,
          22.66,
          22.16,
          28.88,
          27.64,
          21.46
         ],
         "y": [
          34.57,
          37.33,
          29.99,
          30.61,
          34.54,
          30.94,
          35.21,
          35.28,
          12.02,
          17.84,
          25.73,
          32.95,
          31.31,
          42.72,
          18.96,
          16.58,
          23.97,
          37.83,
          34.4,
          42.97,
          11.65,
          31.16
         ]
        },
        {
         "marker": {
          "color": [
           "dimgrey"
          ],
          "size": 8
         },
         "mode": "markers",
         "showlegend": false,
         "type": "scatter",
         "visible": true,
         "x": [
          17.2399997711182
         ],
         "y": [
          21.25
         ]
        },
        {
         "hovertemplate": "%{hovertext}",
         "hovertext": [
          "Lavonte David",
          "Jake Matthews",
          "Shaquil Barrett",
          "Marcus Mariota",
          "Rakeem Nunez-Roches",
          "Keanu Neal",
          "Elijah Wilkinson",
          "Vita Vea",
          "Carlton Davis",
          "KhaDarel Hodge",
          "Devin White",
          "Chris Lindstrom",
          "Kaleb McGary",
          "Jamel Dean",
          "Mike Edwards",
          "Olamide Zaccheaus",
          "Antoine Winfield",
          "Joe Tryon",
          "Drew Dalman",
          "Feleipe Franks",
          "Drake London",
          "Tyler Allgeier"
         ],
         "marker": {
          "angle": [
           178.72000000000003,
           -20.350000000000023,
           -89.91000000000003,
           171.01999999999998,
           -27.370000000000005,
           -163.31,
           88.74000000000001,
           -147.51999999999998,
           -103.44,
           32.49000000000001,
           -150.76999999999998,
           11.990000000000009,
           26.879999999999995,
           -153.14,
           -144.27999999999997,
           -68.63,
           -152.14,
           135.26999999999998,
           28.099999999999994,
           62.860000000000014,
           98.98000000000002,
           96.52999999999997
          ],
          "color": [
           "#768cb0",
           "burlywood",
           "#768cb0",
           "burlywood",
           "#768cb0",
           "#768cb0",
           "burlywood",
           "#768cb0",
           "darkblue",
           "sienna",
           "#768cb0",
           "burlywood",
           "burlywood",
           "#768cb0",
           "#768cb0",
           "burlywood",
           "#768cb0",
           "#768cb0",
           "burlywood",
           "burlywood",
           "burlywood",
           "burlywood"
          ],
          "size": [
           16,
           16,
           16,
           16,
           16,
           16,
           16,
           16,
           20,
           20,
           16,
           16,
           16,
           16,
           16,
           16,
           16,
           16,
           16,
           16,
           16,
           16
          ],
          "symbol": "arrow"
         },
         "mode": "markers",
         "showlegend": false,
         "type": "scatter",
         "visible": false,
         "x": [
          27.59,
          22.23,
          21.97,
          17.49,
          22.33,
          38.71,
          21.84,
          22.99,
          33.27,
          17.31,
          27.04,
          25.62,
          26.19,
          33.49,
          32.55,
          26.46,
          19.46,
          22.88,
          22.1,
          29.52,
          28.07,
          21.89
         ],
         "y": [
          34.45,
          37.62,
          29.96,
          30.64,
          34.7,
          30.61,
          35.35,
          35.38,
          11.88,
          17.23,
          25.17,
          33.02,
          31.58,
          42.59,
          18.3,
          16.25,
          23.83,
          37.97,
          34.57,
          42.83,
          11.61,
          31.23
         ]
        },
        {
         "marker": {
          "color": [
           "dimgrey"
          ],
          "size": 8
         },
         "mode": "markers",
         "showlegend": false,
         "type": "scatter",
         "visible": false,
         "x": [
          17.2900009155273
         ],
         "y": [
          19.2399997711182
         ]
        },
        {
         "hovertemplate": "%{hovertext}",
         "hovertext": [
          "Lavonte David",
          "Jake Matthews",
          "Shaquil Barrett",
          "Marcus Mariota",
          "Rakeem Nunez-Roches",
          "Keanu Neal",
          "Elijah Wilkinson",
          "Vita Vea",
          "Carlton Davis",
          "KhaDarel Hodge",
          "Devin White",
          "Chris Lindstrom",
          "Kaleb McGary",
          "Jamel Dean",
          "Mike Edwards",
          "Olamide Zaccheaus",
          "Antoine Winfield",
          "Joe Tryon",
          "Drew Dalman",
          "Feleipe Franks",
          "Drake London",
          "Tyler Allgeier"
         ],
         "marker": {
          "angle": [
           173.48000000000002,
           -21.569999999999936,
           170.36,
           164.23000000000002,
           -9.680000000000064,
           -163.31,
           122.10000000000002,
           -151.39,
           -104.49000000000001,
           34.52000000000001,
           -151.35000000000002,
           12.659999999999997,
           21.289999999999992,
           -156.07,
           -145.41999999999996,
           -66.99000000000001,
           -155.83000000000004,
           151.35000000000002,
           17.829999999999984,
           73.47,
           98.14999999999998,
           109.44
          ],
          "color": [
           "#768cb0",
           "burlywood",
           "#768cb0",
           "burlywood",
           "#768cb0",
           "#768cb0",
           "burlywood",
           "#768cb0",
           "darkblue",
           "sienna",
           "#768cb0",
           "burlywood",
           "burlywood",
           "#768cb0",
           "#768cb0",
           "burlywood",
           "#768cb0",
           "#768cb0",
           "burlywood",
           "burlywood",
           "burlywood",
           "burlywood"
          ],
          "size": [
           16,
           16,
           16,
           16,
           16,
           16,
           16,
           16,
           20,
           20,
           16,
           16,
           16,
           16,
           16,
           16,
           16,
           16,
           16,
           16,
           16,
           16
          ],
          "symbol": "arrow"
         },
         "mode": "markers",
         "showlegend": false,
         "type": "scatter",
         "visible": false,
         "x": [
          27.67,
          22.35,
          21.84,
          17.49,
          22.33,
          39.02,
          21.92,
          23.13,
          33.24,
          17.55,
          26.98,
          25.99,
          26.53,
          33.76,
          32.23,
          26.87,
          19.16,
          23.16,
          22.05,
          30.13,
          28.46,
          22.34
         ],
         "y": [
          34.35,
          37.91,
          29.86,
          30.65,
          34.83,
          30.28,
          35.47,
          35.45,
          11.7,
          16.63,
          24.57,
          33.09,
          31.83,
          42.41,
          17.62,
          15.91,
          23.64,
          38.09,
          34.69,
          42.65,
          11.52,
          31.26
         ]
        },
        {
         "marker": {
          "color": [
           "dimgrey"
          ],
          "size": 8
         },
         "mode": "markers",
         "showlegend": false,
         "type": "scatter",
         "visible": false,
         "x": [
          17.3400001525879
         ],
         "y": [
          17.6200008392334
         ]
        },
        {
         "hovertemplate": "%{hovertext}",
         "hovertext": [
          "Lavonte David",
          "Jake Matthews",
          "Shaquil Barrett",
          "Marcus Mariota",
          "Rakeem Nunez-Roches",
          "Keanu Neal",
          "Elijah Wilkinson",
          "Vita Vea",
          "Carlton Davis",
          "KhaDarel Hodge",
          "Devin White",
          "Chris Lindstrom",
          "Kaleb McGary",
          "Jamel Dean",
          "Mike Edwards",
          "Olamide Zaccheaus",
          "Antoine Winfield",
          "Joe Tryon",
          "Drew Dalman",
          "Feleipe Franks",
          "Drake London",
          "Tyler Allgeier"
         ],
         "marker": {
          "angle": [
           161.64,
           -20.289999999999964,
           178.36,
           160.40999999999997,
           10.990000000000009,
           -161.93,
           134.25,
           -154.57,
           -96.85000000000002,
           39.97999999999999,
           -150.76999999999998,
           10.02000000000001,
           23.110000000000014,
           -161.93,
           -144.72000000000003,
           -60.19999999999999,
           -172.37,
           151.35000000000002,
           -21.399999999999977,
           99.27999999999997,
           102.90999999999997,
           118.13
          ],
          "color": [
           "#768cb0",
           "burlywood",
           "#768cb0",
           "burlywood",
           "#768cb0",
           "#768cb0",
           "burlywood",
           "#768cb0",
           "darkblue",
           "sienna",
           "#768cb0",
           "burlywood",
           "burlywood",
           "#768cb0",
           "#768cb0",
           "burlywood",
           "#768cb0",
           "#768cb0",
           "burlywood",
           "burlywood",
           "burlywood",
           "burlywood"
          ],
          "size": [
           16,
           16,
           16,
           16,
           16,
           16,
           16,
           16,
           20,
           20,
           16,
           16,
           16,
           16,
           16,
           16,
           16,
           16,
           16,
           16,
           16,
           16
          ],
          "symbol": "arrow"
         },
         "mode": "markers",
         "showlegend": false,
         "type": "scatter",
         "visible": false,
         "x": [
          27.75,
          22.51,
          21.73,
          17.51,
          22.35,
          39.28,
          22.01,
          23.28,
          33.15,
          17.8,
          26.92,
          26.36,
          26.89,
          34.02,
          31.91,
          27.25,
          18.9,
          23.49,
          22.03,
          30.72,
          28.82,
          22.8
         ],
         "y": [
          34.27,
          38.19,
          29.71,
          30.64,
          34.91,
          29.94,
          35.57,
          35.47,
          11.48,
          16.03,
          23.95,
          33.13,
          32.05,
          42.22,
          16.95,
          15.55,
          23.37,
          38.17,
          34.79,
          42.46,
          11.4,
          31.25
         ]
        },
        {
         "marker": {
          "color": [
           "dimgrey"
          ],
          "size": 8
         },
         "mode": "markers",
         "showlegend": false,
         "type": "scatter",
         "visible": false,
         "x": [
          17.3400001525879
         ],
         "y": [
          17.6200008392334
         ]
        },
        {
         "hovertemplate": "%{hovertext}",
         "hovertext": [
          "Lavonte David",
          "Jake Matthews",
          "Shaquil Barrett",
          "Marcus Mariota",
          "Rakeem Nunez-Roches",
          "Keanu Neal",
          "Elijah Wilkinson",
          "Vita Vea",
          "Carlton Davis",
          "KhaDarel Hodge",
          "Devin White",
          "Chris Lindstrom",
          "Kaleb McGary",
          "Jamel Dean",
          "Mike Edwards",
          "Olamide Zaccheaus",
          "Antoine Winfield",
          "Joe Tryon",
          "Drew Dalman",
          "Feleipe Franks",
          "Drake London",
          "Tyler Allgeier"
         ],
         "marker": {
          "angle": [
           141.94,
           -16.850000000000023,
           175.52999999999997,
           160.40999999999997,
           38.46000000000001,
           -160.66999999999996,
           135.08000000000004,
           -156.52999999999997,
           -96.85000000000002,
           56.31999999999999,
           -145.51,
           4.5,
           24.629999999999995,
           -167.16999999999996,
           -137.95,
           -73.25,
           -170.90999999999997,
           151.35000000000002,
           -106.14999999999998,
           104.13,
           108.54000000000002,
           125.73000000000002
          ],
          "color": [
           "#768cb0",
           "burlywood",
           "#768cb0",
           "burlywood",
           "#768cb0",
           "#768cb0",
           "burlywood",
           "#768cb0",
           "darkblue",
           "sienna",
           "#768cb0",
           "burlywood",
           "burlywood",
           "#768cb0",
           "#768cb0",
           "burlywood",
           "#768cb0",
           "#768cb0",
           "burlywood",
           "burlywood",
           "burlywood",
           "burlywood"
          ],
          "size": [
           16,
           16,
           16,
           16,
           16,
           16,
           16,
           16,
           20,
           20,
           16,
           16,
           16,
           16,
           16,
           16,
           16,
           16,
           16,
           16,
           16,
           16
          ],
          "symbol": "arrow"
         },
         "mode": "markers",
         "showlegend": false,
         "type": "scatter",
         "visible": false,
         "x": [
          27.84,
          22.68,
          21.64,
          17.55,
          22.42,
          39.46,
          22.11,
          23.45,
          33.01,
          18.04,
          26.87,
          26.72,
          27.23,
          34.27,
          31.58,
          27.61,
          18.69,
          23.86,
          22.01,
          31.29,
          29.14,
          23.24
         ],
         "y": [
          34.21,
          38.48,
          29.5,
          30.65,
          34.96,
          29.55,
          35.64,
          35.45,
          11.22,
          15.43,
          23.29,
          33.15,
          32.24,
          41.98,
          16.29,
          15.18,
          23.03,
          38.21,
          34.85,
          42.24,
          11.22,
          31.2
         ]
        },
        {
         "marker": {
          "color": [
           "dimgrey"
          ],
          "size": 8
         },
         "mode": "markers",
         "showlegend": false,
         "type": "scatter",
         "visible": false,
         "x": [
          17.9599990844727
         ],
         "y": [
          15.460000038147
         ]
        },
        {
         "hovertemplate": "%{hovertext}",
         "hovertext": [
          "Lavonte David",
          "Jake Matthews",
          "Shaquil Barrett",
          "Marcus Mariota",
          "Rakeem Nunez-Roches",
          "Keanu Neal",
          "Elijah Wilkinson",
          "Vita Vea",
          "Carlton Davis",
          "KhaDarel Hodge",
          "Devin White",
          "Chris Lindstrom",
          "Kaleb McGary",
          "Jamel Dean",
          "Mike Edwards",
          "Olamide Zaccheaus",
          "Antoine Winfield",
          "Joe Tryon",
          "Drew Dalman",
          "Feleipe Franks",
          "Drake London",
          "Tyler Allgeier"
         ],
         "marker": {
          "angle": [
           137.52999999999997,
           -14.019999999999982,
           172.97000000000003,
           158.08000000000004,
           65.19999999999999,
           -159.32,
           139.27999999999997,
           -157.33000000000004,
           -94.24000000000001,
           79.06,
           -152.48000000000002,
           2.1200000000000045,
           23.920000000000016,
           -167.16999999999996,
           -129.34000000000003,
           -122.69999999999999,
           -168.66999999999996,
           152.26,
           -125.69999999999999,
           104.13,
           112.00999999999999,
           131
          ],
          "color": [
           "#768cb0",
           "burlywood",
           "#768cb0",
           "burlywood",
           "#768cb0",
           "#768cb0",
           "burlywood",
           "#768cb0",
           "darkblue",
           "sienna",
           "#768cb0",
           "burlywood",
           "burlywood",
           "#768cb0",
           "#768cb0",
           "burlywood",
           "#768cb0",
           "#768cb0",
           "burlywood",
           "burlywood",
           "burlywood",
           "burlywood"
          ],
          "size": [
           16,
           16,
           16,
           16,
           16,
           16,
           16,
           16,
           20,
           20,
           16,
           16,
           16,
           16,
           16,
           16,
           16,
           16,
           16,
           16,
           16,
           16
          ],
          "symbol": "arrow"
         },
         "mode": "markers",
         "showlegend": false,
         "type": "scatter",
         "visible": false,
         "x": [
          27.93,
          22.86,
          21.57,
          17.6,
          22.51,
          39.61,
          22.25,
          23.63,
          32.82,
          18.3,
          26.82,
          27.09,
          27.59,
          34.51,
          31.24,
          27.94,
          18.56,
          24.28,
          21.99,
          31.8,
          29.44,
          23.69
         ],
         "y": [
          34.15,
          38.75,
          29.26,
          30.64,
          34.97,
          29.15,
          35.69,
          35.4,
          10.93,
          14.85,
          22.6,
          33.13,
          32.38,
          41.7,
          15.61,
          14.79,
          22.63,
          38.2,
          34.87,
          41.96,
          10.98,
          31.11
         ]
        },
        {
         "marker": {
          "color": [
           "dimgrey"
          ],
          "size": 8
         },
         "mode": "markers",
         "showlegend": false,
         "type": "scatter",
         "visible": false,
         "x": [
          18.1900005340576
         ],
         "y": [
          14.9300003051758
         ]
        },
        {
         "hovertemplate": "%{hovertext}",
         "hovertext": [
          "Lavonte David",
          "Jake Matthews",
          "Shaquil Barrett",
          "Marcus Mariota",
          "Rakeem Nunez-Roches",
          "Keanu Neal",
          "Elijah Wilkinson",
          "Vita Vea",
          "Carlton Davis",
          "KhaDarel Hodge",
          "Devin White",
          "Chris Lindstrom",
          "Kaleb McGary",
          "Jamel Dean",
          "Mike Edwards",
          "Olamide Zaccheaus",
          "Antoine Winfield",
          "Joe Tryon",
          "Drew Dalman",
          "Feleipe Franks",
          "Drake London",
          "Tyler Allgeier"
         ],
         "marker": {
          "angle": [
           131.49,
           -11.639999999999986,
           162.87,
           153.3,
           81.88999999999999,
           -159.32,
           145.13,
           -158.28999999999996,
           -89.05000000000001,
           90.80000000000001,
           -155.64,
           9.02000000000001,
           20.889999999999986,
           -170.38,
           -125.74000000000001,
           -83.94999999999999,
           -173.52999999999997,
           163.49,
           -132.86,
           98.73000000000002,
           115.47000000000003,
           137.90999999999997
          ],
          "color": [
           "#768cb0",
           "burlywood",
           "#768cb0",
           "burlywood",
           "#768cb0",
           "#768cb0",
           "burlywood",
           "#768cb0",
           "darkblue",
           "sienna",
           "#768cb0",
           "burlywood",
           "burlywood",
           "#768cb0",
           "#768cb0",
           "burlywood",
           "#768cb0",
           "#768cb0",
           "burlywood",
           "burlywood",
           "burlywood",
           "burlywood"
          ],
          "size": [
           16,
           16,
           16,
           16,
           16,
           16,
           16,
           16,
           20,
           20,
           16,
           16,
           16,
           16,
           16,
           16,
           16,
           16,
           16,
           16,
           16,
           16
          ],
          "symbol": "arrow"
         },
         "mode": "markers",
         "showlegend": false,
         "type": "scatter",
         "visible": false,
         "x": [
          28.01,
          23.07,
          21.54,
          17.68,
          22.63,
          39.69,
          22.4,
          23.81,
          32.61,
          18.57,
          26.77,
          27.48,
          27.95,
          34.72,
          30.93,
          28.24,
          18.5,
          24.72,
          22.01,
          32.26,
          29.71,
          24.13
         ],
         "y": [
          34.11,
          39.01,
          28.98,
          30.63,
          34.94,
          28.72,
          35.71,
          35.31,
          10.62,
          14.26,
          21.88,
          33.1,
          32.49,
          41.38,
          14.94,
          14.39,
          22.15,
          38.16,
          34.86,
          41.66,
          10.74,
          30.98
         ]
        },
        {
         "marker": {
          "color": [
           "dimgrey"
          ],
          "size": 8
         },
         "mode": "markers",
         "showlegend": false,
         "type": "scatter",
         "visible": false,
         "x": [
          18.3999996185303
         ],
         "y": [
          14.4399995803833
         ]
        },
        {
         "hovertemplate": "%{hovertext}",
         "hovertext": [
          "Lavonte David",
          "Jake Matthews",
          "Shaquil Barrett",
          "Marcus Mariota",
          "Rakeem Nunez-Roches",
          "Keanu Neal",
          "Elijah Wilkinson",
          "Vita Vea",
          "Carlton Davis",
          "KhaDarel Hodge",
          "Devin White",
          "Chris Lindstrom",
          "Kaleb McGary",
          "Jamel Dean",
          "Mike Edwards",
          "Olamide Zaccheaus",
          "Antoine Winfield",
          "Joe Tryon",
          "Drew Dalman",
          "Feleipe Franks",
          "Drake London",
          "Tyler Allgeier"
         ],
         "marker": {
          "angle": [
           126.14999999999998,
           -3.5399999999999636,
           165.73000000000002,
           151.51999999999998,
           100.50999999999999,
           -159.32,
           150.31,
           -164.33000000000004,
           -80.60000000000002,
           101.87,
           -153.22000000000003,
           5.02000000000001,
           16.599999999999994,
           -172.75,
           -120.00999999999999,
           -62.379999999999995,
           179.73000000000002,
           167.91999999999996,
           -166.71000000000004,
           107.11000000000001,
           120.19,
           146.01
          ],
          "color": [
           "#768cb0",
           "burlywood",
           "#768cb0",
           "burlywood",
           "#768cb0",
           "#768cb0",
           "burlywood",
           "#768cb0",
           "darkblue",
           "sienna",
           "#768cb0",
           "burlywood",
           "burlywood",
           "#768cb0",
           "#768cb0",
           "burlywood",
           "#768cb0",
           "#768cb0",
           "burlywood",
           "burlywood",
           "burlywood",
           "burlywood"
          ],
          "size": [
           16,
           16,
           16,
           16,
           16,
           16,
           16,
           16,
           20,
           20,
           16,
           16,
           16,
           16,
           16,
           16,
           16,
           16,
           16,
           16,
           16,
           16
          ],
          "symbol": "arrow"
         },
         "mode": "markers",
         "showlegend": false,
         "type": "scatter",
         "visible": false,
         "x": [
          28.1,
          23.32,
          21.54,
          17.76,
          22.77,
          39.73,
          22.59,
          24,
          32.37,
          18.84,
          26.72,
          27.83,
          28.34,
          34.9,
          30.61,
          28.46,
          18.5,
          25.19,
          22.07,
          32.67,
          29.94,
          24.58
         ],
         "y": [
          34.08,
          39.26,
          28.68,
          30.63,
          34.91,
          28.27,
          35.7,
          35.17,
          10.28,
          13.65,
          21.13,
          33.07,
          32.55,
          41.03,
          14.28,
          13.96,
          21.63,
          38.08,
          34.8,
          41.31,
          10.47,
          30.81
         ]
        },
        {
         "marker": {
          "color": [
           "dimgrey"
          ],
          "size": 8
         },
         "mode": "markers",
         "showlegend": false,
         "type": "scatter",
         "visible": false,
         "x": [
          18.6299991607666
         ],
         "y": [
          13.9099998474121
         ]
        },
        {
         "hovertemplate": "%{hovertext}",
         "hovertext": [
          "Lavonte David",
          "Jake Matthews",
          "Shaquil Barrett",
          "Marcus Mariota",
          "Rakeem Nunez-Roches",
          "Keanu Neal",
          "Elijah Wilkinson",
          "Vita Vea",
          "Carlton Davis",
          "KhaDarel Hodge",
          "Devin White",
          "Chris Lindstrom",
          "Kaleb McGary",
          "Jamel Dean",
          "Mike Edwards",
          "Olamide Zaccheaus",
          "Antoine Winfield",
          "Joe Tryon",
          "Drew Dalman",
          "Feleipe Franks",
          "Drake London",
          "Tyler Allgeier"
         ],
         "marker": {
          "angle": [
           122.63999999999999,
           -10.450000000000045,
           164.15999999999997,
           153.91999999999996,
           109.90999999999997,
           -160.40999999999997,
           153.69,
           -166.55,
           -79.01999999999998,
           126.19999999999999,
           -155.66999999999996,
           -0.8299999999999272,
           16.599999999999994,
           -168.63,
           -113.69999999999999,
           -52.620000000000005,
           -177.87,
           166.03999999999996,
           157.46000000000004,
           116.47000000000003,
           126.38,
           155.22000000000003
          ],
          "color": [
           "#768cb0",
           "burlywood",
           "#768cb0",
           "burlywood",
           "#768cb0",
           "#768cb0",
           "burlywood",
           "#768cb0",
           "darkblue",
           "sienna",
           "#768cb0",
           "burlywood",
           "burlywood",
           "#768cb0",
           "#768cb0",
           "burlywood",
           "#768cb0",
           "#768cb0",
           "burlywood",
           "burlywood",
           "burlywood",
           "burlywood"
          ],
          "size": [
           16,
           16,
           16,
           16,
           16,
           16,
           16,
           16,
           20,
           20,
           16,
           16,
           16,
           16,
           16,
           16,
           16,
           16,
           16,
           16,
           16,
           16
          ],
          "symbol": "arrow"
         },
         "mode": "markers",
         "showlegend": false,
         "type": "scatter",
         "visible": false,
         "x": [
          28.2,
          23.57,
          21.57,
          17.86,
          22.94,
          39.71,
          22.77,
          24.21,
          32.11,
          19.12,
          26.67,
          28.16,
          28.71,
          35.07,
          30.31,
          28.64,
          18.54,
          25.67,
          22.18,
          33.04,
          30.13,
          25.02
         ],
         "y": [
          34.05,
          39.53,
          28.35,
          30.61,
          34.81,
          27.8,
          35.67,
          35,
          9.94,
          13.03,
          20.36,
          33.05,
          32.6,
          40.62,
          13.64,
          13.51,
          21.09,
          37.95,
          34.66,
          40.93,
          10.17,
          30.62
         ]
        },
        {
         "marker": {
          "color": [
           "dimgrey"
          ],
          "size": 8
         },
         "mode": "markers",
         "showlegend": false,
         "type": "scatter",
         "visible": false,
         "x": [
          18.8600006103516
         ],
         "y": [
          13.3599996566772
         ]
        },
        {
         "hovertemplate": "%{hovertext}",
         "hovertext": [
          "Lavonte David",
          "Jake Matthews",
          "Shaquil Barrett",
          "Marcus Mariota",
          "Rakeem Nunez-Roches",
          "Keanu Neal",
          "Elijah Wilkinson",
          "Vita Vea",
          "Carlton Davis",
          "KhaDarel Hodge",
          "Devin White",
          "Chris Lindstrom",
          "Kaleb McGary",
          "Jamel Dean",
          "Mike Edwards",
          "Olamide Zaccheaus",
          "Antoine Winfield",
          "Joe Tryon",
          "Drew Dalman",
          "Feleipe Franks",
          "Drake London",
          "Tyler Allgeier"
         ],
         "marker": {
          "angle": [
           120.14999999999998,
           -10.450000000000045,
           162.72000000000003,
           153.91999999999996,
           122.18,
           -165.32,
           155.34000000000003,
           -168.91999999999996,
           -72.68,
           142.8,
           -164.72000000000003,
           -7.970000000000027,
           18.560000000000002,
           -168.63,
           -106.75999999999999,
           -55.04000000000002,
           -178.64999999999998,
           165.25,
           150.65999999999997,
           124.80000000000001,
           138.85000000000002,
           161.11
          ],
          "color": [
           "#768cb0",
           "burlywood",
           "#768cb0",
           "burlywood",
           "#768cb0",
           "#768cb0",
           "burlywood",
           "#768cb0",
           "darkblue",
           "sienna",
           "#768cb0",
           "burlywood",
           "burlywood",
           "#768cb0",
           "#768cb0",
           "burlywood",
           "#768cb0",
           "#768cb0",
           "burlywood",
           "burlywood",
           "burlywood",
           "burlywood"
          ],
          "size": [
           16,
           16,
           16,
           16,
           16,
           16,
           16,
           16,
           20,
           20,
           16,
           16,
           16,
           16,
           16,
           16,
           16,
           16,
           16,
           16,
           16,
           16
          ],
          "symbol": "arrow"
         },
         "mode": "markers",
         "showlegend": false,
         "type": "scatter",
         "visible": false,
         "x": [
          28.29,
          23.8,
          21.63,
          17.96,
          23.13,
          39.64,
          22.96,
          24.43,
          31.87,
          19.4,
          26.61,
          28.48,
          29.11,
          35.22,
          30.02,
          28.74,
          18.64,
          26.15,
          22.28,
          33.37,
          30.28,
          25.45
         ],
         "y": [
          34.04,
          39.76,
          27.99,
          30.6,
          34.69,
          27.31,
          35.61,
          34.79,
          9.59,
          12.41,
          19.58,
          33.01,
          32.64,
          40.16,
          13.01,
          13.04,
          20.53,
          37.79,
          34.51,
          40.51,
          9.86,
          30.39
         ]
        },
        {
         "marker": {
          "color": [
           "dimgrey"
          ],
          "size": 8
         },
         "mode": "markers",
         "showlegend": false,
         "type": "scatter",
         "visible": false,
         "x": [
          19.0699996948242
         ],
         "y": [
          12.8500003814697
         ]
        },
        {
         "hovertemplate": "%{hovertext}",
         "hovertext": [
          "Lavonte David",
          "Jake Matthews",
          "Shaquil Barrett",
          "Marcus Mariota",
          "Rakeem Nunez-Roches",
          "Keanu Neal",
          "Elijah Wilkinson",
          "Vita Vea",
          "Carlton Davis",
          "KhaDarel Hodge",
          "Devin White",
          "Chris Lindstrom",
          "Kaleb McGary",
          "Jamel Dean",
          "Mike Edwards",
          "Olamide Zaccheaus",
          "Antoine Winfield",
          "Joe Tryon",
          "Drew Dalman",
          "Feleipe Franks",
          "Drake London",
          "Tyler Allgeier"
         ],
         "marker": {
          "angle": [
           121.57999999999998,
           -6.069999999999936,
           157.64999999999998,
           162.01999999999998,
           138.14999999999998,
           -165.32,
           159.83000000000004,
           -172.60000000000002,
           -72.68,
           145.68,
           -176.82,
           -17.569999999999936,
           16.650000000000006,
           -169.23000000000002,
           -104.72000000000003,
           -42.50999999999999,
           178.7,
           163.77999999999997,
           155.12,
           139.90999999999997,
           145.75,
           162.58000000000004
          ],
          "color": [
           "#768cb0",
           "burlywood",
           "#768cb0",
           "burlywood",
           "#768cb0",
           "#768cb0",
           "burlywood",
           "#768cb0",
           "darkblue",
           "sienna",
           "#768cb0",
           "burlywood",
           "burlywood",
           "#768cb0",
           "#768cb0",
           "burlywood",
           "#768cb0",
           "#768cb0",
           "burlywood",
           "burlywood",
           "burlywood",
           "burlywood"
          ],
          "size": [
           16,
           16,
           16,
           16,
           16,
           16,
           16,
           16,
           20,
           20,
           16,
           16,
           16,
           16,
           16,
           16,
           16,
           16,
           16,
           16,
           16,
           16
          ],
          "symbol": "arrow"
         },
         "mode": "markers",
         "showlegend": false,
         "type": "scatter",
         "visible": false,
         "x": [
          28.39,
          24.04,
          21.72,
          18.07,
          23.34,
          39.54,
          23.17,
          24.65,
          31.63,
          19.71,
          26.56,
          28.77,
          29.48,
          35.35,
          29.75,
          28.78,
          18.79,
          26.61,
          22.41,
          33.66,
          30.4,
          25.88
         ],
         "y": [
          34.02,
          39.96,
          27.62,
          30.59,
          34.54,
          26.78,
          35.53,
          34.54,
          9.2,
          11.79,
          18.77,
          32.96,
          32.64,
          39.69,
          12.39,
          12.55,
          19.95,
          37.6,
          34.34,
          40.05,
          9.54,
          30.13
         ]
        },
        {
         "marker": {
          "color": [
           "dimgrey"
          ],
          "size": 8
         },
         "mode": "markers",
         "showlegend": false,
         "type": "scatter",
         "visible": false,
         "x": [
          19.2900009155273
         ],
         "y": [
          12.3599996566772
         ]
        },
        {
         "hovertemplate": "%{hovertext}",
         "hovertext": [
          "Lavonte David",
          "Jake Matthews",
          "Shaquil Barrett",
          "Marcus Mariota",
          "Rakeem Nunez-Roches",
          "Keanu Neal",
          "Elijah Wilkinson",
          "Vita Vea",
          "Carlton Davis",
          "KhaDarel Hodge",
          "Devin White",
          "Chris Lindstrom",
          "Kaleb McGary",
          "Jamel Dean",
          "Mike Edwards",
          "Olamide Zaccheaus",
          "Antoine Winfield",
          "Joe Tryon",
          "Drew Dalman",
          "Feleipe Franks",
          "Drake London",
          "Tyler Allgeier"
         ],
         "marker": {
          "angle": [
           122.84000000000003,
           -9.930000000000064,
           155.76,
           178.38,
           144.11,
           -166.39999999999998,
           154.33000000000004,
           -178.13,
           -71.82,
           152.64,
           179.88,
           -24.899999999999977,
           12.75,
           -169.23000000000002,
           -104.72000000000003,
           -10.779999999999973,
           176.89,
           162.27999999999997,
           150.12,
           139.90999999999997,
           152.73000000000002,
           157.78999999999996
          ],
          "color": [
           "#768cb0",
           "burlywood",
           "#768cb0",
           "burlywood",
           "#768cb0",
           "#768cb0",
           "burlywood",
           "#768cb0",
           "darkblue",
           "sienna",
           "#768cb0",
           "burlywood",
           "burlywood",
           "#768cb0",
           "#768cb0",
           "burlywood",
           "#768cb0",
           "#768cb0",
           "burlywood",
           "burlywood",
           "burlywood",
           "burlywood"
          ],
          "size": [
           16,
           16,
           16,
           16,
           16,
           16,
           16,
           16,
           20,
           20,
           16,
           16,
           16,
           16,
           16,
           16,
           16,
           16,
           16,
           16,
           16,
           16
          ],
          "symbol": "arrow"
         },
         "mode": "markers",
         "showlegend": false,
         "type": "scatter",
         "visible": false,
         "x": [
          28.48,
          24.29,
          21.83,
          18.19,
          23.54,
          39.41,
          23.38,
          24.89,
          31.39,
          20.03,
          26.52,
          29.05,
          29.85,
          35.46,
          29.52,
          28.78,
          18.99,
          27.07,
          22.55,
          33.92,
          30.47,
          26.29
         ],
         "y": [
          34.01,
          40.13,
          27.23,
          30.58,
          34.39,
          26.23,
          35.43,
          34.26,
          8.83,
          11.17,
          17.95,
          32.87,
          32.62,
          39.19,
          11.79,
          12.05,
          19.36,
          37.38,
          34.17,
          39.54,
          9.2,
          29.82
         ]
        },
        {
         "marker": {
          "color": [
           "dimgrey"
          ],
          "size": 8
         },
         "mode": "markers",
         "showlegend": false,
         "type": "scatter",
         "visible": false,
         "x": [
          19.5300006866455
         ],
         "y": [
          11.8699998855591
         ]
        },
        {
         "hovertemplate": "%{hovertext}",
         "hovertext": [
          "Lavonte David",
          "Jake Matthews",
          "Shaquil Barrett",
          "Marcus Mariota",
          "Rakeem Nunez-Roches",
          "Keanu Neal",
          "Elijah Wilkinson",
          "Vita Vea",
          "Carlton Davis",
          "KhaDarel Hodge",
          "Devin White",
          "Chris Lindstrom",
          "Kaleb McGary",
          "Jamel Dean",
          "Mike Edwards",
          "Olamide Zaccheaus",
          "Antoine Winfield",
          "Joe Tryon",
          "Drew Dalman",
          "Feleipe Franks",
          "Drake London",
          "Tyler Allgeier"
         ],
         "marker": {
          "angle": [
           122.84000000000003,
           -26.319999999999936,
           155.76,
           171.57,
           145.41999999999996,
           -170.99,
           154.33000000000004,
           176.5,
           -66.23000000000002,
           155.47000000000003,
           172.07,
           -25.75,
           -3.4200000000000728,
           -170.40999999999997,
           -102.54000000000002,
           22.28,
           179.82,
           160.86,
           153.12,
           135.31,
           160.09000000000003,
           161.51999999999998
          ],
          "color": [
           "#768cb0",
           "burlywood",
           "#768cb0",
           "burlywood",
           "#768cb0",
           "#768cb0",
           "burlywood",
           "#768cb0",
           "darkblue",
           "sienna",
           "#768cb0",
           "burlywood",
           "burlywood",
           "#768cb0",
           "#768cb0",
           "burlywood",
           "#768cb0",
           "#768cb0",
           "burlywood",
           "burlywood",
           "burlywood",
           "burlywood"
          ],
          "size": [
           16,
           16,
           16,
           16,
           16,
           16,
           16,
           16,
           20,
           20,
           16,
           16,
           16,
           16,
           16,
           16,
           16,
           16,
           16,
           16,
           16,
           16
          ],
          "symbol": "arrow"
         },
         "mode": "markers",
         "showlegend": false,
         "type": "scatter",
         "visible": false,
         "x": [
          28.58,
          24.58,
          21.97,
          18.33,
          23.75,
          39.25,
          23.6,
          25.14,
          31.18,
          20.39,
          26.5,
          29.31,
          30.18,
          35.56,
          29.32,
          28.74,
          19.23,
          27.52,
          22.7,
          34.15,
          30.5,
          26.69
         ],
         "y": [
          34,
          40.28,
          26.82,
          30.54,
          34.2,
          25.66,
          35.33,
          33.95,
          8.44,
          10.56,
          17.12,
          32.77,
          32.57,
          38.65,
          11.18,
          11.52,
          18.76,
          37.13,
          33.97,
          38.99,
          8.87,
          29.49
         ]
        },
        {
         "marker": {
          "color": [
           "dimgrey"
          ],
          "size": 8
         },
         "mode": "markers",
         "showlegend": false,
         "type": "scatter",
         "visible": false,
         "x": [
          19.8799991607666
         ],
         "y": [
          11.2399997711182
         ]
        },
        {
         "hovertemplate": "%{hovertext}",
         "hovertext": [
          "Lavonte David",
          "Jake Matthews",
          "Shaquil Barrett",
          "Marcus Mariota",
          "Rakeem Nunez-Roches",
          "Keanu Neal",
          "Elijah Wilkinson",
          "Vita Vea",
          "Carlton Davis",
          "KhaDarel Hodge",
          "Devin White",
          "Chris Lindstrom",
          "Kaleb McGary",
          "Jamel Dean",
          "Mike Edwards",
          "Olamide Zaccheaus",
          "Antoine Winfield",
          "Joe Tryon",
          "Drew Dalman",
          "Feleipe Franks",
          "Drake London",
          "Tyler Allgeier"
         ],
         "marker": {
          "angle": [
           127.18,
           -85.32,
           154.09000000000003,
           163.37,
           145.41999999999996,
           -175.11,
           157.78999999999996,
           171.44,
           -61.910000000000025,
           160.36,
           172.07,
           -37.98000000000002,
           -16.470000000000027,
           -169.76,
           -92.05000000000001,
           43.28,
           -177.95,
           158.99,
           170.38,
           142.77999999999997,
           165.83000000000004,
           164.43
          ],
          "color": [
           "#768cb0",
           "burlywood",
           "#768cb0",
           "burlywood",
           "#768cb0",
           "#768cb0",
           "burlywood",
           "#768cb0",
           "darkblue",
           "sienna",
           "#768cb0",
           "burlywood",
           "burlywood",
           "#768cb0",
           "#768cb0",
           "burlywood",
           "#768cb0",
           "#768cb0",
           "burlywood",
           "burlywood",
           "burlywood",
           "burlywood"
          ],
          "size": [
           16,
           16,
           16,
           16,
           16,
           16,
           16,
           16,
           20,
           20,
           16,
           16,
           16,
           16,
           16,
           16,
           16,
           16,
           16,
           16,
           16,
           16
          ],
          "symbol": "arrow"
         },
         "mode": "markers",
         "showlegend": false,
         "type": "scatter",
         "visible": false,
         "x": [
          28.68,
          24.85,
          22.13,
          18.47,
          23.97,
          39.08,
          23.83,
          25.38,
          30.95,
          20.77,
          26.5,
          29.56,
          30.5,
          35.66,
          29.14,
          28.67,
          19.54,
          27.96,
          22.87,
          34.35,
          30.49,
          27.08
         ],
         "y": [
          33.98,
          40.44,
          26.41,
          30.49,
          33.98,
          25.06,
          35.19,
          33.6,
          8.06,
          9.97,
          16.29,
          32.66,
          32.51,
          38.11,
          10.6,
          10.99,
          18.17,
          36.87,
          33.7,
          38.42,
          8.53,
          29.14
         ]
        },
        {
         "marker": {
          "color": [
           "dimgrey"
          ],
          "size": 8
         },
         "mode": "markers",
         "showlegend": false,
         "type": "scatter",
         "visible": false,
         "x": [
          20.2800006866455
         ],
         "y": [
          10.5900001525879
         ]
        },
        {
         "hovertemplate": "%{hovertext}",
         "hovertext": [
          "Lavonte David",
          "Jake Matthews",
          "Shaquil Barrett",
          "Marcus Mariota",
          "Rakeem Nunez-Roches",
          "Keanu Neal",
          "Elijah Wilkinson",
          "Vita Vea",
          "Carlton Davis",
          "KhaDarel Hodge",
          "Devin White",
          "Chris Lindstrom",
          "Kaleb McGary",
          "Jamel Dean",
          "Mike Edwards",
          "Olamide Zaccheaus",
          "Antoine Winfield",
          "Joe Tryon",
          "Drew Dalman",
          "Feleipe Franks",
          "Drake London",
          "Tyler Allgeier"
         ],
         "marker": {
          "angle": [
           129.93,
           -99.36000000000001,
           154.09000000000003,
           168.2,
           154.09000000000003,
           175,
           157.18,
           171.44,
           -57.85000000000002,
           161.11,
           174.64999999999998,
           -72.75999999999999,
           -33.110000000000014,
           -171.59000000000003,
           -84.47000000000003,
           72.26999999999998,
           -176.12,
           157.72000000000003,
           154.52999999999997,
           151.51,
           170.69,
           164.43
          ],
          "color": [
           "#768cb0",
           "burlywood",
           "#768cb0",
           "burlywood",
           "#768cb0",
           "#768cb0",
           "burlywood",
           "#768cb0",
           "darkblue",
           "sienna",
           "#768cb0",
           "burlywood",
           "burlywood",
           "#768cb0",
           "#768cb0",
           "burlywood",
           "#768cb0",
           "#768cb0",
           "burlywood",
           "burlywood",
           "burlywood",
           "burlywood"
          ],
          "size": [
           16,
           16,
           16,
           16,
           16,
           16,
           16,
           16,
           20,
           20,
           16,
           16,
           16,
           16,
           16,
           16,
           16,
           16,
           16,
           16,
           16,
           16
          ],
          "symbol": "arrow"
         },
         "mode": "markers",
         "showlegend": false,
         "type": "scatter",
         "visible": false,
         "x": [
          28.78,
          25.12,
          22.31,
          18.63,
          24.18,
          38.9,
          24.07,
          25.65,
          30.74,
          21.18,
          26.51,
          29.8,
          30.81,
          35.76,
          28.98,
          28.58,
          19.88,
          28.39,
          23.06,
          34.53,
          30.44,
          27.45
         ],
         "y": [
          33.96,
          40.55,
          26,
          30.42,
          33.73,
          24.44,
          35.03,
          33.24,
          7.67,
          9.4,
          15.46,
          32.55,
          32.43,
          37.54,
          10.02,
          10.44,
          17.59,
          36.6,
          33.42,
          37.83,
          8.2,
          28.75
         ]
        },
        {
         "marker": {
          "color": [
           "dimgrey"
          ],
          "size": 8
         },
         "mode": "markers",
         "showlegend": false,
         "type": "scatter",
         "visible": false,
         "x": [
          20.8400001525879
         ],
         "y": [
          9.84000015258789
         ]
        },
        {
         "hovertemplate": "%{hovertext}",
         "hovertext": [
          "Lavonte David",
          "Jake Matthews",
          "Shaquil Barrett",
          "Marcus Mariota",
          "Rakeem Nunez-Roches",
          "Keanu Neal",
          "Elijah Wilkinson",
          "Vita Vea",
          "Carlton Davis",
          "KhaDarel Hodge",
          "Devin White",
          "Chris Lindstrom",
          "Kaleb McGary",
          "Jamel Dean",
          "Mike Edwards",
          "Olamide Zaccheaus",
          "Antoine Winfield",
          "Joe Tryon",
          "Drew Dalman",
          "Feleipe Franks",
          "Drake London",
          "Tyler Allgeier"
         ],
         "marker": {
          "angle": [
           135.89,
           -107.61000000000001,
           152.53999999999996,
           -174.8,
           162.08000000000004,
           171.51999999999998,
           155.5,
           169.2,
           -52.75,
           164.99,
           176.49,
           -118.40999999999997,
           -68.39999999999998,
           -173.01,
           -77.82999999999998,
           107.05000000000001,
           -177.09000000000003,
           155.82,
           153.59000000000003,
           160.31,
           174.60000000000002,
           164.43
          ],
          "color": [
           "#768cb0",
           "burlywood",
           "#768cb0",
           "burlywood",
           "#768cb0",
           "#768cb0",
           "burlywood",
           "#768cb0",
           "darkblue",
           "sienna",
           "#768cb0",
           "burlywood",
           "burlywood",
           "#768cb0",
           "#768cb0",
           "burlywood",
           "#768cb0",
           "#768cb0",
           "burlywood",
           "burlywood",
           "burlywood",
           "burlywood"
          ],
          "size": [
           16,
           16,
           16,
           16,
           16,
           16,
           16,
           16,
           20,
           20,
           16,
           16,
           16,
           16,
           16,
           16,
           16,
           16,
           16,
           16,
           16,
           16
          ],
          "symbol": "arrow"
         },
         "mode": "markers",
         "showlegend": false,
         "type": "scatter",
         "visible": false,
         "x": [
          28.87,
          25.39,
          22.51,
          18.78,
          24.39,
          38.72,
          24.3,
          25.94,
          30.55,
          21.61,
          26.56,
          30.01,
          31.1,
          35.86,
          28.85,
          28.48,
          20.25,
          28.82,
          23.26,
          34.68,
          30.34,
          27.82
         ],
         "y": [
          33.94,
          40.6,
          25.59,
          30.35,
          33.47,
          23.81,
          34.84,
          32.86,
          7.29,
          8.85,
          14.64,
          32.45,
          32.33,
          36.95,
          9.46,
          9.88,
          17.02,
          36.32,
          33.13,
          37.21,
          7.87,
          28.35
         ]
        },
        {
         "marker": {
          "color": [
           "dimgrey"
          ],
          "size": 8
         },
         "mode": "markers",
         "showlegend": false,
         "type": "scatter",
         "visible": false,
         "x": [
          21.6599998474121
         ],
         "y": [
          8.97000026702881
         ]
        },
        {
         "hovertemplate": "%{hovertext}",
         "hovertext": [
          "Lavonte David",
          "Jake Matthews",
          "Shaquil Barrett",
          "Marcus Mariota",
          "Rakeem Nunez-Roches",
          "Keanu Neal",
          "Elijah Wilkinson",
          "Vita Vea",
          "Carlton Davis",
          "KhaDarel Hodge",
          "Devin White",
          "Chris Lindstrom",
          "Kaleb McGary",
          "Jamel Dean",
          "Mike Edwards",
          "Olamide Zaccheaus",
          "Antoine Winfield",
          "Joe Tryon",
          "Drew Dalman",
          "Feleipe Franks",
          "Drake London",
          "Tyler Allgeier"
         ],
         "marker": {
          "angle": [
           137.49,
           -109.94,
           150.3,
           -167.26,
           165.71000000000004,
           174.47000000000003,
           153.87,
           169.2,
           -49.55000000000001,
           164.06,
           178.40999999999997,
           -142.94,
           -131.7,
           -173.94,
           -72.81,
           90.88999999999999,
           179.47000000000003,
           152.39999999999998,
           165.11,
           168.44,
           177.64,
           167.09000000000003
          ],
          "color": [
           "#768cb0",
           "burlywood",
           "#768cb0",
           "burlywood",
           "#768cb0",
           "#768cb0",
           "burlywood",
           "#768cb0",
           "darkblue",
           "sienna",
           "#768cb0",
           "burlywood",
           "burlywood",
           "#768cb0",
           "#768cb0",
           "burlywood",
           "#768cb0",
           "#768cb0",
           "burlywood",
           "burlywood",
           "burlywood",
           "burlywood"
          ],
          "size": [
           16,
           16,
           16,
           16,
           16,
           16,
           16,
           16,
           20,
           20,
           16,
           16,
           16,
           16,
           16,
           16,
           16,
           16,
           16,
           16,
           16,
           16
          ],
          "symbol": "arrow"
         },
         "mode": "markers",
         "showlegend": false,
         "type": "scatter",
         "visible": false,
         "x": [
          28.97,
          25.65,
          22.72,
          18.96,
          24.6,
          38.53,
          24.55,
          26.23,
          30.37,
          22.07,
          26.63,
          30.22,
          31.38,
          35.96,
          28.75,
          28.38,
          20.66,
          29.24,
          23.45,
          34.81,
          30.21,
          28.18
         ],
         "y": [
          33.9,
          40.64,
          25.17,
          30.29,
          33.17,
          23.16,
          34.65,
          32.48,
          6.92,
          8.34,
          13.83,
          32.34,
          32.19,
          36.37,
          8.91,
          9.33,
          16.46,
          36.03,
          32.83,
          36.57,
          7.54,
          27.93
         ]
        },
        {
         "marker": {
          "color": [
           "dimgrey"
          ],
          "size": 8
         },
         "mode": "markers",
         "showlegend": false,
         "type": "scatter",
         "visible": false,
         "x": [
          22.1700000762939
         ],
         "y": [
          8.39999961853027
         ]
        },
        {
         "hovertemplate": "%{hovertext}",
         "hovertext": [
          "Lavonte David",
          "Jake Matthews",
          "Shaquil Barrett",
          "Marcus Mariota",
          "Rakeem Nunez-Roches",
          "Keanu Neal",
          "Elijah Wilkinson",
          "Vita Vea",
          "Carlton Davis",
          "KhaDarel Hodge",
          "Devin White",
          "Chris Lindstrom",
          "Kaleb McGary",
          "Jamel Dean",
          "Mike Edwards",
          "Olamide Zaccheaus",
          "Antoine Winfield",
          "Joe Tryon",
          "Drew Dalman",
          "Feleipe Franks",
          "Drake London",
          "Tyler Allgeier"
         ],
         "marker": {
          "angle": [
           146.63,
           -111.77999999999997,
           147.47000000000003,
           -170.8,
           167.96000000000004,
           174.47000000000003,
           154.62,
           169.2,
           -47.670000000000016,
           162.61,
           -179.58000000000004,
           -154.24,
           -147.74,
           -173.07,
           -73.92000000000002,
           83.99000000000001,
           179.47000000000003,
           151.2,
           167.10000000000002,
           178.83000000000004,
           179.40999999999997,
           170.47000000000003
          ],
          "color": [
           "#768cb0",
           "burlywood",
           "#768cb0",
           "burlywood",
           "#768cb0",
           "#768cb0",
           "burlywood",
           "#768cb0",
           "darkblue",
           "sienna",
           "#768cb0",
           "burlywood",
           "burlywood",
           "#768cb0",
           "#768cb0",
           "burlywood",
           "#768cb0",
           "#768cb0",
           "burlywood",
           "burlywood",
           "burlywood",
           "burlywood"
          ],
          "size": [
           16,
           16,
           16,
           16,
           16,
           16,
           16,
           16,
           20,
           20,
           16,
           16,
           16,
           16,
           16,
           16,
           16,
           16,
           16,
           16,
           16,
           16
          ],
          "symbol": "arrow"
         },
         "mode": "markers",
         "showlegend": false,
         "type": "scatter",
         "visible": false,
         "x": [
          29.08,
          25.89,
          22.94,
          19.14,
          24.81,
          38.34,
          24.78,
          26.53,
          30.21,
          22.53,
          26.73,
          30.43,
          31.64,
          36.07,
          28.67,
          28.3,
          21.1,
          29.65,
          23.65,
          34.94,
          30.07,
          28.53
         ],
         "y": [
          33.83,
          40.68,
          24.76,
          30.22,
          32.86,
          22.49,
          34.44,
          32.08,
          6.57,
          7.85,
          13.04,
          32.21,
          32.06,
          35.79,
          8.36,
          8.76,
          15.92,
          35.74,
          32.54,
          35.94,
          7.23,
          27.49
         ]
        },
        {
         "marker": {
          "color": [
           "dimgrey"
          ],
          "size": 8
         },
         "mode": "markers",
         "showlegend": false,
         "type": "scatter",
         "visible": false,
         "x": [
          22.6299991607666
         ],
         "y": [
          7.92000007629395
         ]
        },
        {
         "hovertemplate": "%{hovertext}",
         "hovertext": [
          "Lavonte David",
          "Jake Matthews",
          "Shaquil Barrett",
          "Marcus Mariota",
          "Rakeem Nunez-Roches",
          "Keanu Neal",
          "Elijah Wilkinson",
          "Vita Vea",
          "Carlton Davis",
          "KhaDarel Hodge",
          "Devin White",
          "Chris Lindstrom",
          "Kaleb McGary",
          "Jamel Dean",
          "Mike Edwards",
          "Olamide Zaccheaus",
          "Antoine Winfield",
          "Joe Tryon",
          "Drew Dalman",
          "Feleipe Franks",
          "Drake London",
          "Tyler Allgeier"
         ],
         "marker": {
          "angle": [
           153.62,
           -108.61000000000001,
           144.33000000000004,
           -169.81,
           175.41999999999996,
           174.47000000000003,
           155.90999999999997,
           167.41999999999996,
           -52.19,
           161.82,
           179.58000000000004,
           -159.19,
           -159.31,
           -172,
           -73.07999999999998,
           96.13,
           179.47000000000003,
           148.21000000000004,
           134.15999999999997,
           -177.02999999999997,
           173.09000000000003,
           173.2
          ],
          "color": [
           "#768cb0",
           "burlywood",
           "#768cb0",
           "burlywood",
           "#768cb0",
           "#768cb0",
           "burlywood",
           "#768cb0",
           "darkblue",
           "sienna",
           "#768cb0",
           "burlywood",
           "burlywood",
           "#768cb0",
           "#768cb0",
           "burlywood",
           "#768cb0",
           "#768cb0",
           "burlywood",
           "burlywood",
           "burlywood",
           "burlywood"
          ],
          "size": [
           16,
           16,
           16,
           16,
           16,
           16,
           16,
           16,
           20,
           20,
           16,
           16,
           16,
           16,
           16,
           16,
           16,
           16,
           16,
           16,
           16,
           16
          ],
          "symbol": "arrow"
         },
         "mode": "markers",
         "showlegend": false,
         "type": "scatter",
         "visible": false,
         "x": [
          29.19,
          26.14,
          23.16,
          19.32,
          25.02,
          38.16,
          25.01,
          26.83,
          30.06,
          23.02,
          26.84,
          30.61,
          31.87,
          36.2,
          28.61,
          28.23,
          21.55,
          30.07,
          23.84,
          35.06,
          29.92,
          28.89
         ],
         "y": [
          33.76,
          40.64,
          24.34,
          30.15,
          32.55,
          21.81,
          34.23,
          31.68,
          6.25,
          7.39,
          12.28,
          32.08,
          31.91,
          35.21,
          7.82,
          8.2,
          15.39,
          35.44,
          32.2,
          35.31,
          6.92,
          27.04
         ]
        },
        {
         "marker": {
          "color": [
           "dimgrey"
          ],
          "size": 8
         },
         "mode": "markers",
         "showlegend": false,
         "type": "scatter",
         "visible": false,
         "x": [
          23.0900001525879
         ],
         "y": [
          7.42999982833862
         ]
        },
        {
         "hovertemplate": "%{hovertext}",
         "hovertext": [
          "Lavonte David",
          "Jake Matthews",
          "Shaquil Barrett",
          "Marcus Mariota",
          "Rakeem Nunez-Roches",
          "Keanu Neal",
          "Elijah Wilkinson",
          "Vita Vea",
          "Carlton Davis",
          "KhaDarel Hodge",
          "Devin White",
          "Chris Lindstrom",
          "Kaleb McGary",
          "Jamel Dean",
          "Mike Edwards",
          "Olamide Zaccheaus",
          "Antoine Winfield",
          "Joe Tryon",
          "Drew Dalman",
          "Feleipe Franks",
          "Drake London",
          "Tyler Allgeier"
         ],
         "marker": {
          "angle": [
           165.31,
           -102.93,
           143.01999999999998,
           -159.22000000000003,
           172.91999999999996,
           175.89999999999998,
           156.99,
           166.09000000000003,
           -56.56,
           152.48000000000002,
           179.58000000000004,
           -153.75,
           -165.74,
           -172,
           -73.07999999999998,
           95.36000000000001,
           176.49,
           146.7,
           125.82,
           179.68,
           173.09000000000003,
           171.65999999999997
          ],
          "color": [
           "#768cb0",
           "burlywood",
           "#768cb0",
           "burlywood",
           "#768cb0",
           "#768cb0",
           "burlywood",
           "#768cb0",
           "darkblue",
           "sienna",
           "#768cb0",
           "burlywood",
           "burlywood",
           "#768cb0",
           "#768cb0",
           "burlywood",
           "#768cb0",
           "#768cb0",
           "burlywood",
           "burlywood",
           "burlywood",
           "burlywood"
          ],
          "size": [
           16,
           16,
           16,
           16,
           16,
           16,
           16,
           16,
           20,
           20,
           16,
           16,
           16,
           16,
           16,
           16,
           16,
           16,
           16,
           16,
           16,
           16
          ],
          "symbol": "arrow"
         },
         "mode": "markers",
         "showlegend": false,
         "type": "scatter",
         "visible": false,
         "x": [
          29.32,
          26.36,
          23.39,
          19.49,
          25.21,
          37.96,
          25.25,
          27.14,
          29.92,
          23.51,
          27.01,
          30.77,
          32.08,
          36.33,
          28.56,
          28.18,
          22.01,
          30.48,
          24.03,
          35.2,
          29.75,
          29.23
         ],
         "y": [
          33.64,
          40.52,
          23.93,
          30.06,
          32.2,
          21.13,
          34.02,
          31.28,
          5.96,
          6.96,
          11.53,
          31.94,
          31.75,
          34.64,
          7.29,
          7.64,
          14.85,
          35.15,
          31.83,
          34.67,
          6.61,
          26.56
         ]
        },
        {
         "marker": {
          "color": [
           "dimgrey"
          ],
          "size": 8
         },
         "mode": "markers",
         "showlegend": false,
         "type": "scatter",
         "visible": false,
         "x": [
          23.5200004577637
         ],
         "y": [
          6.98000001907349
         ]
        },
        {
         "hovertemplate": "%{hovertext}",
         "hovertext": [
          "Lavonte David",
          "Jake Matthews",
          "Shaquil Barrett",
          "Marcus Mariota",
          "Rakeem Nunez-Roches",
          "Keanu Neal",
          "Elijah Wilkinson",
          "Vita Vea",
          "Carlton Davis",
          "KhaDarel Hodge",
          "Devin White",
          "Chris Lindstrom",
          "Kaleb McGary",
          "Jamel Dean",
          "Mike Edwards",
          "Olamide Zaccheaus",
          "Antoine Winfield",
          "Joe Tryon",
          "Drew Dalman",
          "Feleipe Franks",
          "Drake London",
          "Tyler Allgeier"
         ],
         "marker": {
          "angle": [
           170.31,
           -98.37,
           140.82,
           -158.16999999999996,
           169.27999999999997,
           178.53999999999996,
           159.2,
           163.14999999999998,
           -66.13999999999999,
           131.7,
           179.58000000000004,
           -160.74,
           -165.74,
           -169.60000000000002,
           -66.92000000000002,
           97.39999999999998,
           171.35000000000002,
           146.7,
           132.84000000000003,
           -173.95,
           171.43,
           171.65999999999997
          ],
          "color": [
           "#768cb0",
           "burlywood",
           "#768cb0",
           "burlywood",
           "#768cb0",
           "#768cb0",
           "burlywood",
           "#768cb0",
           "darkblue",
           "sienna",
           "#768cb0",
           "burlywood",
           "burlywood",
           "#768cb0",
           "#768cb0",
           "burlywood",
           "#768cb0",
           "#768cb0",
           "burlywood",
           "burlywood",
           "burlywood",
           "burlywood"
          ],
          "size": [
           16,
           16,
           16,
           16,
           16,
           16,
           16,
           16,
           20,
           20,
           16,
           16,
           16,
           16,
           16,
           16,
           16,
           16,
           16,
           16,
           16,
           16
          ],
          "symbol": "arrow"
         },
         "mode": "markers",
         "showlegend": false,
         "type": "scatter",
         "visible": false,
         "x": [
          29.44,
          26.57,
          23.63,
          19.67,
          25.4,
          37.78,
          25.47,
          27.46,
          29.77,
          24.01,
          27.2,
          30.92,
          32.26,
          36.46,
          28.54,
          28.16,
          22.46,
          30.88,
          24.22,
          35.33,
          29.6,
          29.57
         ],
         "y": [
          33.51,
          40.36,
          23.53,
          29.98,
          31.85,
          20.45,
          33.82,
          30.88,
          5.68,
          6.53,
          10.8,
          31.8,
          31.6,
          34.08,
          6.76,
          7.1,
          14.32,
          34.86,
          31.45,
          34.03,
          6.34,
          26.07
         ]
        },
        {
         "marker": {
          "color": [
           "dimgrey"
          ],
          "size": 8
         },
         "mode": "markers",
         "showlegend": false,
         "type": "scatter",
         "visible": false,
         "x": [
          23.9899997711182
         ],
         "y": [
          6.53999996185303
         ]
        },
        {
         "hovertemplate": "%{hovertext}",
         "hovertext": [
          "Lavonte David",
          "Jake Matthews",
          "Shaquil Barrett",
          "Marcus Mariota",
          "Rakeem Nunez-Roches",
          "Keanu Neal",
          "Elijah Wilkinson",
          "Vita Vea",
          "Carlton Davis",
          "KhaDarel Hodge",
          "Devin White",
          "Chris Lindstrom",
          "Kaleb McGary",
          "Jamel Dean",
          "Mike Edwards",
          "Olamide Zaccheaus",
          "Antoine Winfield",
          "Joe Tryon",
          "Drew Dalman",
          "Feleipe Franks",
          "Drake London",
          "Tyler Allgeier"
         ],
         "marker": {
          "angle": [
           175.73000000000002,
           -99.20999999999998,
           139.3,
           -164.95,
           166.56,
           -179.2,
           162.33000000000004,
           165.01999999999998,
           -72.55000000000001,
           113.02999999999997,
           -174.74,
           -160.74,
           -163.66999999999996,
           -169.01,
           -52.81,
           95.79000000000002,
           170.36,
           146.7,
           137.34000000000003,
           -163.11,
           171.43,
           170.2
          ],
          "color": [
           "#768cb0",
           "burlywood",
           "#768cb0",
           "burlywood",
           "#768cb0",
           "#768cb0",
           "burlywood",
           "#768cb0",
           "darkblue",
           "sienna",
           "#768cb0",
           "burlywood",
           "burlywood",
           "#768cb0",
           "#768cb0",
           "burlywood",
           "#768cb0",
           "#768cb0",
           "burlywood",
           "burlywood",
           "burlywood",
           "burlywood"
          ],
          "size": [
           16,
           16,
           16,
           16,
           16,
           16,
           16,
           16,
           20,
           20,
           16,
           16,
           16,
           16,
           16,
           16,
           16,
           16,
           16,
           16,
           16,
           16
          ],
          "symbol": "arrow"
         },
         "mode": "markers",
         "showlegend": false,
         "type": "scatter",
         "visible": false,
         "x": [
          29.56,
          26.78,
          23.86,
          19.82,
          25.59,
          37.6,
          25.69,
          27.78,
          29.64,
          24.51,
          27.41,
          31.03,
          32.43,
          36.6,
          28.53,
          28.15,
          22.93,
          31.3,
          24.42,
          35.48,
          29.43,
          29.89
         ],
         "y": [
          33.37,
          40.2,
          23.14,
          29.89,
          31.47,
          19.76,
          33.58,
          30.49,
          5.42,
          6.15,
          10.1,
          31.65,
          31.45,
          33.54,
          6.21,
          6.58,
          13.8,
          34.56,
          31.07,
          33.41,
          6.07,
          25.56
         ]
        },
        {
         "marker": {
          "color": [
           "dimgrey"
          ],
          "size": 8
         },
         "mode": "markers",
         "showlegend": false,
         "type": "scatter",
         "visible": false,
         "x": [
          24.4699993133545
         ],
         "y": [
          6.1100001335144
         ]
        },
        {
         "hovertemplate": "%{hovertext}",
         "hovertext": [
          "Lavonte David",
          "Jake Matthews",
          "Shaquil Barrett",
          "Marcus Mariota",
          "Rakeem Nunez-Roches",
          "Keanu Neal",
          "Elijah Wilkinson",
          "Vita Vea",
          "Carlton Davis",
          "KhaDarel Hodge",
          "Devin White",
          "Chris Lindstrom",
          "Kaleb McGary",
          "Jamel Dean",
          "Mike Edwards",
          "Olamide Zaccheaus",
          "Antoine Winfield",
          "Joe Tryon",
          "Drew Dalman",
          "Feleipe Franks",
          "Drake London",
          "Tyler Allgeier"
         ],
         "marker": {
          "angle": [
           -179.36,
           -99.20999999999998,
           136.76999999999998,
           -167.71000000000004,
           166.56,
           -177.82,
           159.5,
           161.94,
           -81.75999999999999,
           97.95999999999998,
           -172.28999999999996,
           -164.39,
           -166.48000000000002,
           -170.91999999999996,
           -37.31,
           94.07,
           171.95,
           146.7,
           136.43,
           -157.81,
           153.65999999999997,
           168.41999999999996
          ],
          "color": [
           "#768cb0",
           "burlywood",
           "#768cb0",
           "burlywood",
           "#768cb0",
           "#768cb0",
           "burlywood",
           "#768cb0",
           "darkblue",
           "sienna",
           "#768cb0",
           "burlywood",
           "burlywood",
           "#768cb0",
           "#768cb0",
           "burlywood",
           "#768cb0",
           "#768cb0",
           "burlywood",
           "burlywood",
           "burlywood",
           "burlywood"
          ],
          "size": [
           16,
           16,
           16,
           16,
           16,
           16,
           16,
           16,
           20,
           20,
           16,
           16,
           16,
           16,
           16,
           16,
           16,
           16,
           16,
           16,
           16,
           16
          ],
          "symbol": "arrow"
         },
         "mode": "markers",
         "showlegend": false,
         "type": "scatter",
         "visible": false,
         "x": [
          29.68,
          26.96,
          24.1,
          19.98,
          25.78,
          37.42,
          25.9,
          28.1,
          29.52,
          25,
          27.63,
          31.13,
          32.55,
          36.75,
          28.55,
          28.17,
          23.39,
          31.7,
          24.63,
          35.63,
          29.28,
          30.22
         ],
         "y": [
          33.19,
          40.06,
          22.69,
          29.79,
          31.08,
          19.07,
          33.32,
          30.09,
          5.18,
          5.8,
          9.44,
          31.46,
          31.3,
          33,
          5.69,
          6.07,
          13.29,
          34.27,
          30.68,
          32.8,
          5.81,
          25.04
         ]
        },
        {
         "marker": {
          "color": [
           "dimgrey"
          ],
          "size": 8
         },
         "mode": "markers",
         "showlegend": false,
         "type": "scatter",
         "visible": false,
         "x": [
          24.9699993133545
         ],
         "y": [
          5.73000001907349
         ]
        },
        {
         "hovertemplate": "%{hovertext}",
         "hovertext": [
          "Lavonte David",
          "Jake Matthews",
          "Shaquil Barrett",
          "Marcus Mariota",
          "Rakeem Nunez-Roches",
          "Keanu Neal",
          "Elijah Wilkinson",
          "Vita Vea",
          "Carlton Davis",
          "KhaDarel Hodge",
          "Devin White",
          "Chris Lindstrom",
          "Kaleb McGary",
          "Jamel Dean",
          "Mike Edwards",
          "Olamide Zaccheaus",
          "Antoine Winfield",
          "Joe Tryon",
          "Drew Dalman",
          "Feleipe Franks",
          "Drake London",
          "Tyler Allgeier"
         ],
         "marker": {
          "angle": [
           -176.8,
           -99.20999999999998,
           134.65999999999997,
           -170.40999999999997,
           170.43,
           -177.82,
           157.95,
           160.69,
           -93.75999999999999,
           91.09000000000003,
           -169,
           -163.61,
           -170.51999999999998,
           -170.91999999999996,
           -29.519999999999982,
           97.94999999999999,
           173.47000000000003,
           146.7,
           143.51,
           -169.89999999999998,
           149.35000000000002,
           166.98000000000002
          ],
          "color": [
           "#768cb0",
           "burlywood",
           "#768cb0",
           "burlywood",
           "#768cb0",
           "#768cb0",
           "burlywood",
           "#768cb0",
           "darkblue",
           "sienna",
           "#768cb0",
           "burlywood",
           "burlywood",
           "#768cb0",
           "#768cb0",
           "burlywood",
           "#768cb0",
           "#768cb0",
           "burlywood",
           "burlywood",
           "burlywood",
           "burlywood"
          ],
          "size": [
           16,
           16,
           16,
           16,
           16,
           16,
           16,
           16,
           20,
           20,
           16,
           16,
           16,
           16,
           16,
           16,
           16,
           16,
           16,
           16,
           16,
           16
          ],
          "symbol": "arrow"
         },
         "mode": "markers",
         "showlegend": false,
         "type": "scatter",
         "visible": false,
         "x": [
          29.8,
          27.14,
          24.3,
          20.13,
          25.98,
          37.26,
          26.11,
          28.42,
          29.43,
          25.49,
          27.83,
          31.19,
          32.66,
          36.91,
          28.57,
          28.22,
          23.86,
          32.08,
          24.82,
          35.8,
          29.13,
          30.53
         ],
         "y": [
          33,
          39.93,
          22.19,
          29.68,
          30.7,
          18.37,
          33.08,
          29.7,
          4.97,
          5.48,
          8.8,
          31.24,
          31.14,
          32.47,
          5.19,
          5.61,
          12.77,
          33.96,
          30.3,
          32.18,
          5.57,
          24.52
         ]
        },
        {
         "marker": {
          "color": [
           "dimgrey"
          ],
          "size": 8
         },
         "mode": "markers",
         "showlegend": false,
         "type": "scatter",
         "visible": false,
         "x": [
          25.5
         ],
         "y": [
          5.38000011444092
         ]
        },
        {
         "hovertemplate": "%{hovertext}",
         "hovertext": [
          "Lavonte David",
          "Jake Matthews",
          "Shaquil Barrett",
          "Marcus Mariota",
          "Rakeem Nunez-Roches",
          "Keanu Neal",
          "Elijah Wilkinson",
          "Vita Vea",
          "Carlton Davis",
          "KhaDarel Hodge",
          "Devin White",
          "Chris Lindstrom",
          "Kaleb McGary",
          "Jamel Dean",
          "Mike Edwards",
          "Olamide Zaccheaus",
          "Antoine Winfield",
          "Joe Tryon",
          "Drew Dalman",
          "Feleipe Franks",
          "Drake London",
          "Tyler Allgeier"
         ],
         "marker": {
          "angle": [
           179.07,
           -103.66000000000003,
           128.14999999999998,
           -176.23000000000002,
           166.16999999999996,
           -176.09000000000003,
           157.95,
           159.47000000000003,
           -101.95999999999998,
           88.38,
           -163,
           -162.09000000000003,
           -165.01,
           -170.91999999999996,
           -11.309999999999945,
           110.49000000000001,
           174.16999999999996,
           144.19,
           141.84000000000003,
           115.09000000000003,
           145.76999999999998,
           168.15999999999997
          ],
          "color": [
           "#768cb0",
           "burlywood",
           "#768cb0",
           "burlywood",
           "#768cb0",
           "#768cb0",
           "burlywood",
           "#768cb0",
           "darkblue",
           "sienna",
           "#768cb0",
           "burlywood",
           "burlywood",
           "#768cb0",
           "#768cb0",
           "burlywood",
           "#768cb0",
           "#768cb0",
           "burlywood",
           "burlywood",
           "burlywood",
           "burlywood"
          ],
          "size": [
           16,
           16,
           16,
           16,
           16,
           16,
           16,
           16,
           20,
           20,
           16,
           16,
           16,
           16,
           16,
           16,
           16,
           16,
           16,
           16,
           16,
           16
          ],
          "symbol": "arrow"
         },
         "mode": "markers",
         "showlegend": false,
         "type": "scatter",
         "visible": false,
         "x": [
          29.93,
          27.32,
          24.48,
          20.29,
          26.16,
          37.1,
          26.3,
          28.75,
          29.37,
          25.97,
          28.05,
          31.21,
          32.74,
          37.07,
          28.6,
          28.29,
          24.32,
          32.47,
          25.04,
          35.98,
          29,
          30.81
         ],
         "y": [
          32.78,
          39.77,
          21.7,
          29.57,
          30.32,
          17.68,
          32.83,
          29.31,
          4.78,
          5.18,
          8.19,
          31.01,
          30.96,
          31.96,
          4.69,
          5.14,
          12.25,
          33.66,
          29.9,
          31.58,
          5.34,
          23.99
         ]
        },
        {
         "marker": {
          "color": [
           "dimgrey"
          ],
          "size": 8
         },
         "mode": "markers",
         "showlegend": false,
         "type": "scatter",
         "visible": false,
         "x": [
          25.9699993133545
         ],
         "y": [
          5.09000015258789
         ]
        },
        {
         "hovertemplate": "%{hovertext}",
         "hovertext": [
          "Lavonte David",
          "Jake Matthews",
          "Shaquil Barrett",
          "Marcus Mariota",
          "Rakeem Nunez-Roches",
          "Keanu Neal",
          "Elijah Wilkinson",
          "Vita Vea",
          "Carlton Davis",
          "KhaDarel Hodge",
          "Devin White",
          "Chris Lindstrom",
          "Kaleb McGary",
          "Jamel Dean",
          "Mike Edwards",
          "Olamide Zaccheaus",
          "Antoine Winfield",
          "Joe Tryon",
          "Drew Dalman",
          "Feleipe Franks",
          "Drake London",
          "Tyler Allgeier"
         ],
         "marker": {
          "angle": [
           178.05,
           -104.59000000000003,
           126.00999999999999,
           172.13,
           164.83000000000004,
           -176.09000000000003,
           156.3,
           158.22000000000003,
           -124.80000000000001,
           81.79000000000002,
           -162.26999999999998,
           -156.26,
           -161.19,
           -171.7,
           0.2599999999999909,
           114.14999999999998,
           175.53999999999996,
           145.24,
           119.79000000000002,
           103.85000000000002,
           143.93,
           169.01
          ],
          "color": [
           "#768cb0",
           "burlywood",
           "#768cb0",
           "burlywood",
           "#768cb0",
           "#768cb0",
           "burlywood",
           "#768cb0",
           "darkblue",
           "sienna",
           "#768cb0",
           "burlywood",
           "burlywood",
           "#768cb0",
           "#768cb0",
           "burlywood",
           "#768cb0",
           "#768cb0",
           "burlywood",
           "burlywood",
           "burlywood",
           "burlywood"
          ],
          "size": [
           16,
           16,
           16,
           16,
           16,
           16,
           16,
           16,
           20,
           20,
           16,
           16,
           16,
           16,
           16,
           16,
           16,
           16,
           16,
           16,
           16,
           16
          ],
          "symbol": "arrow"
         },
         "mode": "markers",
         "showlegend": false,
         "type": "scatter",
         "visible": false,
         "x": [
          30.06,
          27.47,
          24.67,
          20.44,
          26.34,
          36.95,
          26.51,
          29.07,
          29.32,
          26.45,
          28.27,
          31.23,
          32.82,
          37.24,
          28.64,
          28.37,
          24.8,
          32.83,
          25.29,
          36.17,
          28.89,
          31.09
         ],
         "y": [
          32.54,
          39.59,
          21.23,
          29.46,
          29.94,
          17,
          32.54,
          28.92,
          4.61,
          4.93,
          7.61,
          30.78,
          30.78,
          31.46,
          4.21,
          4.7,
          11.73,
          33.35,
          29.49,
          30.99,
          5.14,
          23.45
         ]
        },
        {
         "marker": {
          "color": [
           "dimgrey"
          ],
          "size": 8
         },
         "mode": "markers",
         "showlegend": false,
         "type": "scatter",
         "visible": false,
         "x": [
          26.3799991607666
         ],
         "y": [
          4.84999990463257
         ]
        },
        {
         "hovertemplate": "%{hovertext}",
         "hovertext": [
          "Lavonte David",
          "Jake Matthews",
          "Shaquil Barrett",
          "Marcus Mariota",
          "Rakeem Nunez-Roches",
          "Keanu Neal",
          "Elijah Wilkinson",
          "Vita Vea",
          "Carlton Davis",
          "KhaDarel Hodge",
          "Devin White",
          "Chris Lindstrom",
          "Kaleb McGary",
          "Jamel Dean",
          "Mike Edwards",
          "Olamide Zaccheaus",
          "Antoine Winfield",
          "Joe Tryon",
          "Drew Dalman",
          "Feleipe Franks",
          "Drake London",
          "Tyler Allgeier"
         ],
         "marker": {
          "angle": [
           176.49,
           -107.07,
           123.93,
           163.46000000000004,
           164.83000000000004,
           -176.09000000000003,
           155.60000000000002,
           158.91999999999996,
           -136.37,
           77.23000000000002,
           -158.66999999999996,
           -157.14999999999998,
           -160.57,
           -171.7,
           3.1899999999999977,
           120.79000000000002,
           174.26999999999998,
           146.31,
           127.65999999999997,
           100.32,
           135.23000000000002,
           167.69
          ],
          "color": [
           "#768cb0",
           "burlywood",
           "#768cb0",
           "burlywood",
           "#768cb0",
           "#768cb0",
           "burlywood",
           "#768cb0",
           "darkblue",
           "sienna",
           "#768cb0",
           "burlywood",
           "burlywood",
           "#768cb0",
           "#768cb0",
           "burlywood",
           "#768cb0",
           "#768cb0",
           "burlywood",
           "burlywood",
           "burlywood",
           "burlywood"
          ],
          "size": [
           16,
           16,
           16,
           16,
           16,
           16,
           16,
           16,
           20,
           20,
           16,
           16,
           16,
           16,
           16,
           16,
           16,
           16,
           16,
           16,
           16,
           16
          ],
          "symbol": "arrow"
         },
         "mode": "markers",
         "showlegend": false,
         "type": "scatter",
         "visible": false,
         "x": [
          30.16,
          27.62,
          25.01,
          20.58,
          26.51,
          36.82,
          26.69,
          29.39,
          29.28,
          26.92,
          28.49,
          31.28,
          32.88,
          37.43,
          28.7,
          28.46,
          25.27,
          33.19,
          25.53,
          36.36,
          28.81,
          31.36
         ],
         "y": [
          32.28,
          39.42,
          20.86,
          29.34,
          29.56,
          16.31,
          32.27,
          28.53,
          4.46,
          4.69,
          7.04,
          30.54,
          30.6,
          30.97,
          3.75,
          4.27,
          11.2,
          33.04,
          29.1,
          30.42,
          4.94,
          22.9
         ]
        },
        {
         "marker": {
          "color": [
           "dimgrey"
          ],
          "size": 8
         },
         "mode": "markers",
         "showlegend": false,
         "type": "scatter",
         "visible": false,
         "x": [
          26.8799991607666
         ],
         "y": [
          4.6100001335144
         ]
        },
        {
         "hovertemplate": "%{hovertext}",
         "hovertext": [
          "Lavonte David",
          "Jake Matthews",
          "Shaquil Barrett",
          "Marcus Mariota",
          "Rakeem Nunez-Roches",
          "Keanu Neal",
          "Elijah Wilkinson",
          "Vita Vea",
          "Carlton Davis",
          "KhaDarel Hodge",
          "Devin White",
          "Chris Lindstrom",
          "Kaleb McGary",
          "Jamel Dean",
          "Mike Edwards",
          "Olamide Zaccheaus",
          "Antoine Winfield",
          "Joe Tryon",
          "Drew Dalman",
          "Feleipe Franks",
          "Drake London",
          "Tyler Allgeier"
         ],
         "marker": {
          "angle": [
           -175.35000000000002,
           -115.21000000000004,
           121.88999999999999,
           154,
           172.26999999999998,
           -174.60000000000002,
           155.60000000000002,
           162.36,
           -174.21000000000004,
           79.14999999999998,
           -158.03999999999996,
           -157.14999999999998,
           -164.06,
           -169.64999999999998,
           7.180000000000007,
           125.10000000000002,
           168.2,
           150.34000000000003,
           139.3,
           103.98000000000002,
           132.8,
           169.40999999999997
          ],
          "color": [
           "#768cb0",
           "burlywood",
           "#768cb0",
           "burlywood",
           "#768cb0",
           "#768cb0",
           "burlywood",
           "#768cb0",
           "darkblue",
           "sienna",
           "#768cb0",
           "burlywood",
           "burlywood",
           "#768cb0",
           "#768cb0",
           "burlywood",
           "#768cb0",
           "#768cb0",
           "burlywood",
           "burlywood",
           "burlywood",
           "burlywood"
          ],
          "size": [
           16,
           16,
           16,
           16,
           16,
           16,
           16,
           16,
           20,
           20,
           16,
           16,
           16,
           16,
           16,
           16,
           16,
           16,
           16,
           16,
           16,
           16
          ],
          "symbol": "arrow"
         },
         "mode": "markers",
         "showlegend": false,
         "type": "scatter",
         "visible": false,
         "x": [
          30.26,
          27.78,
          25.25,
          20.73,
          26.7,
          36.68,
          26.88,
          29.71,
          29.29,
          27.36,
          28.7,
          31.31,
          32.94,
          37.61,
          28.76,
          28.55,
          25.75,
          33.52,
          25.75,
          36.56,
          28.78,
          31.62
         ],
         "y": [
          32.02,
          39.2,
          20.43,
          29.22,
          29.18,
          15.62,
          32,
          28.13,
          4.26,
          4.41,
          6.5,
          30.3,
          30.39,
          30.5,
          3.29,
          3.86,
          10.68,
          32.72,
          28.71,
          29.86,
          4.76,
          22.35
         ]
        },
        {
         "marker": {
          "color": [
           "dimgrey"
          ],
          "size": 8
         },
         "mode": "markers",
         "showlegend": false,
         "type": "scatter",
         "visible": false,
         "x": [
          27.3899993896484
         ],
         "y": [
          4.30000019073486
         ]
        },
        {
         "hovertemplate": "%{hovertext}",
         "hovertext": [
          "Lavonte David",
          "Jake Matthews",
          "Shaquil Barrett",
          "Marcus Mariota",
          "Rakeem Nunez-Roches",
          "Keanu Neal",
          "Elijah Wilkinson",
          "Vita Vea",
          "Carlton Davis",
          "KhaDarel Hodge",
          "Devin White",
          "Chris Lindstrom",
          "Kaleb McGary",
          "Jamel Dean",
          "Mike Edwards",
          "Olamide Zaccheaus",
          "Antoine Winfield",
          "Joe Tryon",
          "Drew Dalman",
          "Feleipe Franks",
          "Drake London",
          "Tyler Allgeier"
         ],
         "marker": {
          "angle": [
           -165.64999999999998,
           -119.34000000000003,
           126.50999999999999,
           150.64,
           169.73000000000002,
           -173.65999999999997,
           155.60000000000002,
           164.95,
           179.48000000000002,
           79.14999999999998,
           -158.03999999999996,
           -159.45,
           -164.06,
           -169.64999999999998,
           9.52000000000001,
           126.14999999999998,
           168.2,
           154.75,
           153.76999999999998,
           101.23000000000002,
           148.68,
           173.34000000000003
          ],
          "color": [
           "#768cb0",
           "burlywood",
           "#768cb0",
           "burlywood",
           "#768cb0",
           "#768cb0",
           "burlywood",
           "#768cb0",
           "darkblue",
           "sienna",
           "#768cb0",
           "burlywood",
           "burlywood",
           "#768cb0",
           "#768cb0",
           "burlywood",
           "#768cb0",
           "#768cb0",
           "burlywood",
           "burlywood",
           "burlywood",
           "burlywood"
          ],
          "size": [
           16,
           16,
           16,
           16,
           16,
           16,
           16,
           16,
           20,
           20,
           16,
           16,
           16,
           16,
           16,
           16,
           16,
           16,
           16,
           16,
           16,
           16
          ],
          "symbol": "arrow"
         },
         "mode": "markers",
         "showlegend": false,
         "type": "scatter",
         "visible": false,
         "x": [
          30.35,
          27.9,
          25.52,
          20.88,
          26.9,
          36.56,
          27.07,
          30.03,
          29.31,
          27.79,
          28.92,
          31.34,
          32.99,
          37.81,
          28.81,
          28.65,
          26.23,
          33.83,
          26.01,
          36.76,
          28.76,
          31.86
         ],
         "y": [
          31.74,
          39.01,
          20.04,
          29.08,
          28.8,
          14.95,
          31.72,
          27.72,
          4.06,
          4.15,
          5.98,
          30.05,
          30.17,
          30.05,
          2.85,
          3.45,
          10.18,
          32.4,
          28.3,
          29.32,
          4.59,
          21.8
         ]
        },
        {
         "marker": {
          "color": [
           "dimgrey"
          ],
          "size": 8
         },
         "mode": "markers",
         "showlegend": false,
         "type": "scatter",
         "visible": false,
         "x": [
          27.8500003814697
         ],
         "y": [
          4.01999998092651
         ]
        },
        {
         "hovertemplate": "%{hovertext}",
         "hovertext": [
          "Lavonte David",
          "Jake Matthews",
          "Shaquil Barrett",
          "Marcus Mariota",
          "Rakeem Nunez-Roches",
          "Keanu Neal",
          "Elijah Wilkinson",
          "Vita Vea",
          "Carlton Davis",
          "KhaDarel Hodge",
          "Devin White",
          "Chris Lindstrom",
          "Kaleb McGary",
          "Jamel Dean",
          "Mike Edwards",
          "Olamide Zaccheaus",
          "Antoine Winfield",
          "Joe Tryon",
          "Drew Dalman",
          "Feleipe Franks",
          "Drake London",
          "Tyler Allgeier"
         ],
         "marker": {
          "angle": [
           -160.33000000000004,
           -119.34000000000003,
           130.91999999999996,
           148.71000000000004,
           163.38,
           -173.65999999999997,
           160.25,
           163.88,
           171.87,
           82.65999999999997,
           -156.32,
           -158.76999999999998,
           -164.06,
           -169.64999999999998,
           13.810000000000002,
           116.47000000000003,
           173.62,
           160.23000000000002,
           163.61,
           101.23000000000002,
           160.3,
           171.7
          ],
          "color": [
           "#768cb0",
           "burlywood",
           "#768cb0",
           "burlywood",
           "#768cb0",
           "#768cb0",
           "burlywood",
           "#768cb0",
           "darkblue",
           "sienna",
           "#768cb0",
           "burlywood",
           "burlywood",
           "#768cb0",
           "#768cb0",
           "burlywood",
           "#768cb0",
           "#768cb0",
           "burlywood",
           "burlywood",
           "burlywood",
           "burlywood"
          ],
          "size": [
           16,
           16,
           16,
           16,
           16,
           16,
           16,
           16,
           20,
           20,
           16,
           16,
           16,
           16,
           16,
           16,
           16,
           16,
           16,
           16,
           16,
           16
          ],
          "symbol": "arrow"
         },
         "mode": "markers",
         "showlegend": false,
         "type": "scatter",
         "visible": false,
         "x": [
          30.43,
          28.03,
          25.77,
          21.03,
          27.09,
          36.44,
          27.27,
          30.34,
          29.36,
          28.2,
          29.14,
          31.35,
          33.03,
          38.01,
          28.87,
          28.76,
          26.69,
          34.13,
          26.24,
          36.97,
          28.77,
          32.09
         ],
         "y": [
          31.45,
          38.81,
          19.65,
          28.95,
          28.43,
          14.28,
          31.41,
          27.32,
          3.87,
          3.9,
          5.49,
          29.82,
          29.93,
          29.61,
          2.43,
          3.06,
          9.69,
          32.07,
          27.92,
          28.8,
          4.43,
          21.24
         ]
        },
        {
         "marker": {
          "color": [
           "dimgrey"
          ],
          "size": 8
         },
         "mode": "markers",
         "showlegend": false,
         "type": "scatter",
         "visible": false,
         "x": [
          28.2800006866455
         ],
         "y": [
          3.75999999046326
         ]
        },
        {
         "hovertemplate": "%{hovertext}",
         "hovertext": [
          "Lavonte David",
          "Jake Matthews",
          "Shaquil Barrett",
          "Marcus Mariota",
          "Rakeem Nunez-Roches",
          "Keanu Neal",
          "Elijah Wilkinson",
          "Vita Vea",
          "Carlton Davis",
          "KhaDarel Hodge",
          "Devin White",
          "Chris Lindstrom",
          "Kaleb McGary",
          "Jamel Dean",
          "Mike Edwards",
          "Olamide Zaccheaus",
          "Antoine Winfield",
          "Joe Tryon",
          "Drew Dalman",
          "Feleipe Franks",
          "Drake London",
          "Tyler Allgeier"
         ],
         "marker": {
          "angle": [
           -154.86,
           -120.19999999999999,
           128.65999999999997,
           146.44,
           161.8,
           -173.65999999999997,
           159.51,
           162.51,
           166.56,
           83.99000000000001,
           -155.61,
           -159.58000000000004,
           -168.43,
           -168.90999999999997,
           19.55000000000001,
           114.98000000000002,
           175.94,
           164.65999999999997,
           144.73000000000002,
           96.09000000000003,
           170.56,
           169.68
          ],
          "color": [
           "#768cb0",
           "burlywood",
           "#768cb0",
           "burlywood",
           "#768cb0",
           "#768cb0",
           "burlywood",
           "#768cb0",
           "darkblue",
           "sienna",
           "#768cb0",
           "burlywood",
           "burlywood",
           "#768cb0",
           "#768cb0",
           "burlywood",
           "#768cb0",
           "#768cb0",
           "burlywood",
           "burlywood",
           "burlywood",
           "burlywood"
          ],
          "size": [
           16,
           16,
           16,
           16,
           16,
           16,
           16,
           16,
           20,
           20,
           16,
           16,
           16,
           16,
           16,
           16,
           16,
           16,
           16,
           16,
           16,
           16
          ],
          "symbol": "arrow"
         },
         "mode": "markers",
         "showlegend": false,
         "type": "scatter",
         "visible": false,
         "x": [
          30.5,
          28.16,
          26.03,
          21.19,
          27.3,
          36.32,
          27.47,
          30.66,
          29.41,
          28.6,
          29.34,
          31.35,
          33.05,
          38.21,
          28.92,
          28.87,
          27.17,
          34.4,
          26.5,
          37.17,
          28.81,
          32.32
         ],
         "y": [
          31.16,
          38.59,
          19.27,
          28.82,
          28.06,
          13.62,
          31.11,
          26.93,
          3.7,
          3.66,
          5.03,
          29.57,
          29.64,
          29.19,
          2.02,
          2.68,
          9.2,
          31.74,
          27.55,
          28.31,
          4.29,
          20.69
         ]
        },
        {
         "marker": {
          "color": [
           "dimgrey"
          ],
          "size": 8
         },
         "mode": "markers",
         "showlegend": false,
         "type": "scatter",
         "visible": false,
         "x": [
          28.7199993133545
         ],
         "y": [
          3.50999999046326
         ]
        },
        {
         "hovertemplate": "%{hovertext}",
         "hovertext": [
          "Lavonte David",
          "Jake Matthews",
          "Shaquil Barrett",
          "Marcus Mariota",
          "Rakeem Nunez-Roches",
          "Keanu Neal",
          "Elijah Wilkinson",
          "Vita Vea",
          "Carlton Davis",
          "KhaDarel Hodge",
          "Devin White",
          "Chris Lindstrom",
          "Kaleb McGary",
          "Jamel Dean",
          "Mike Edwards",
          "Olamide Zaccheaus",
          "Antoine Winfield",
          "Joe Tryon",
          "Drew Dalman",
          "Feleipe Franks",
          "Drake London",
          "Tyler Allgeier"
         ],
         "marker": {
          "angle": [
           -165.19,
           -117.34000000000003,
           126.77999999999997,
           137.66999999999996,
           166.03999999999996,
           -175.24,
           157.93,
           163.55,
           162.06,
           83.99000000000001,
           -161.91999999999996,
           -158.83000000000004,
           -171.58000000000004,
           -167.59000000000003,
           25.47999999999999,
           113.42000000000002,
           177.53999999999996,
           166.10000000000002,
           161.93,
           97.59000000000003,
           175.85000000000002,
           169.68
          ],
          "color": [
           "#768cb0",
           "burlywood",
           "#768cb0",
           "burlywood",
           "#768cb0",
           "#768cb0",
           "burlywood",
           "#768cb0",
           "darkblue",
           "sienna",
           "#768cb0",
           "burlywood",
           "burlywood",
           "#768cb0",
           "#768cb0",
           "burlywood",
           "#768cb0",
           "#768cb0",
           "burlywood",
           "burlywood",
           "burlywood",
           "burlywood"
          ],
          "size": [
           16,
           16,
           16,
           16,
           16,
           16,
           16,
           16,
           20,
           20,
           16,
           16,
           16,
           16,
           16,
           16,
           16,
           16,
           16,
           16,
           16,
           16
          ],
          "symbol": "arrow"
         },
         "mode": "markers",
         "showlegend": false,
         "type": "scatter",
         "visible": false,
         "x": [
          30.55,
          28.29,
          26.29,
          21.35,
          27.53,
          36.22,
          27.66,
          30.97,
          29.5,
          28.98,
          29.52,
          31.33,
          33.07,
          38.37,
          28.96,
          28.97,
          27.62,
          34.64,
          26.77,
          37.38,
          28.87,
          32.53
         ],
         "y": [
          30.86,
          38.37,
          18.91,
          28.69,
          27.7,
          12.97,
          30.8,
          26.54,
          3.52,
          3.39,
          4.59,
          29.32,
          29.38,
          28.78,
          1.62,
          2.3,
          8.72,
          31.4,
          27.15,
          27.85,
          4.17,
          20.13
         ]
        },
        {
         "marker": {
          "color": [
           "dimgrey"
          ],
          "size": 8
         },
         "mode": "markers",
         "showlegend": false,
         "type": "scatter",
         "visible": false,
         "x": [
          29.1399993896484
         ],
         "y": [
          3.19000005722046
         ]
        },
        {
         "hovertemplate": "%{hovertext}",
         "hovertext": [
          "Lavonte David",
          "Jake Matthews",
          "Shaquil Barrett",
          "Marcus Mariota",
          "Rakeem Nunez-Roches",
          "Keanu Neal",
          "Elijah Wilkinson",
          "Vita Vea",
          "Carlton Davis",
          "KhaDarel Hodge",
          "Devin White",
          "Chris Lindstrom",
          "Kaleb McGary",
          "Jamel Dean",
          "Mike Edwards",
          "Olamide Zaccheaus",
          "Antoine Winfield",
          "Joe Tryon",
          "Drew Dalman",
          "Feleipe Franks",
          "Drake London",
          "Tyler Allgeier"
         ],
         "marker": {
          "angle": [
           179.53999999999996,
           -90.26999999999998,
           126.77999999999997,
           137.66999999999996,
           161.02999999999997,
           179.11,
           157.93,
           165.89,
           158.7,
           84.62,
           -163.90999999999997,
           -152.77999999999997,
           -174.03999999999996,
           -167.59000000000003,
           33.19999999999999,
           109.75999999999999,
           178.95,
           168.39,
           131.14,
           98.39999999999998,
           178.22000000000003,
           174.64999999999998
          ],
          "color": [
           "#768cb0",
           "burlywood",
           "#768cb0",
           "burlywood",
           "#768cb0",
           "#768cb0",
           "burlywood",
           "#768cb0",
           "darkblue",
           "sienna",
           "#768cb0",
           "burlywood",
           "burlywood",
           "#768cb0",
           "#768cb0",
           "burlywood",
           "#768cb0",
           "#768cb0",
           "burlywood",
           "burlywood",
           "burlywood",
           "burlywood"
          ],
          "size": [
           16,
           16,
           16,
           16,
           16,
           16,
           16,
           16,
           20,
           20,
           16,
           16,
           16,
           16,
           16,
           16,
           16,
           16,
           16,
           16,
           16,
           16
          ],
          "symbol": "arrow"
         },
         "mode": "markers",
         "showlegend": false,
         "type": "scatter",
         "visible": false,
         "x": [
          30.59,
          28.42,
          26.56,
          21.5,
          27.76,
          36.12,
          27.86,
          31.27,
          29.63,
          29.34,
          29.7,
          31.31,
          33.09,
          38.55,
          28.98,
          29.06,
          28.08,
          34.85,
          27.04,
          37.58,
          28.95,
          32.72
         ],
         "y": [
          30.56,
          38.15,
          18.57,
          28.58,
          27.34,
          12.33,
          30.47,
          26.16,
          3.31,
          3.11,
          4.17,
          29.07,
          29.11,
          28.39,
          1.25,
          1.93,
          8.26,
          31.06,
          26.74,
          27.41,
          4.05,
          19.55
         ]
        },
        {
         "marker": {
          "color": [
           "dimgrey"
          ],
          "size": 8
         },
         "mode": "markers",
         "showlegend": false,
         "type": "scatter",
         "visible": false,
         "x": [
          29.4899997711182
         ],
         "y": [
          2.9300000667572
         ]
        },
        {
         "hovertemplate": "%{hovertext}",
         "hovertext": [
          "Lavonte David",
          "Jake Matthews",
          "Shaquil Barrett",
          "Marcus Mariota",
          "Rakeem Nunez-Roches",
          "Keanu Neal",
          "Elijah Wilkinson",
          "Vita Vea",
          "Carlton Davis",
          "KhaDarel Hodge",
          "Devin White",
          "Chris Lindstrom",
          "Kaleb McGary",
          "Jamel Dean",
          "Mike Edwards",
          "Olamide Zaccheaus",
          "Antoine Winfield",
          "Joe Tryon",
          "Drew Dalman",
          "Feleipe Franks",
          "Drake London",
          "Tyler Allgeier"
         ],
         "marker": {
          "angle": [
           173.39,
           -82.98000000000002,
           126.13,
           136.24,
           154.55,
           -179.05,
           155.74,
           163.36,
           163.46000000000004,
           91.98000000000002,
           -163.90999999999997,
           -150.89,
           -176.05,
           -164.95,
           33.91,
           109.75999999999999,
           179.76999999999998,
           170.33000000000004,
           133.24,
           96.54000000000002,
           179.05,
           173.45
          ],
          "color": [
           "#768cb0",
           "burlywood",
           "#768cb0",
           "burlywood",
           "#768cb0",
           "#768cb0",
           "burlywood",
           "#768cb0",
           "darkblue",
           "sienna",
           "#768cb0",
           "burlywood",
           "burlywood",
           "#768cb0",
           "#768cb0",
           "burlywood",
           "#768cb0",
           "#768cb0",
           "burlywood",
           "burlywood",
           "burlywood",
           "burlywood"
          ],
          "size": [
           16,
           16,
           16,
           16,
           16,
           16,
           16,
           16,
           20,
           20,
           16,
           16,
           16,
           16,
           16,
           16,
           16,
           16,
           16,
           16,
           16,
           16
          ],
          "symbol": "arrow"
         },
         "mode": "markers",
         "showlegend": false,
         "type": "scatter",
         "visible": false,
         "x": [
          30.62,
          28.53,
          26.82,
          21.66,
          27.99,
          36.02,
          28.06,
          31.57,
          29.77,
          29.69,
          29.88,
          31.29,
          33.1,
          38.7,
          28.98,
          29.15,
          28.56,
          35.03,
          27.3,
          37.79,
          29.03,
          32.89
         ],
         "y": [
          30.27,
          37.93,
          18.22,
          28.47,
          27.01,
          11.71,
          30.15,
          25.77,
          3.08,
          2.81,
          3.77,
          28.84,
          28.83,
          28.03,
          0.89,
          1.56,
          7.82,
          30.71,
          26.37,
          27,
          3.94,
          18.98
         ]
        },
        {
         "marker": {
          "color": [
           "dimgrey"
          ],
          "size": 8
         },
         "mode": "markers",
         "showlegend": false,
         "type": "scatter",
         "visible": false,
         "x": [
          29.8099994659424
         ],
         "y": [
          2.67000007629395
         ]
        },
        {
         "hovertemplate": "%{hovertext}",
         "hovertext": [
          "Lavonte David",
          "Jake Matthews",
          "Shaquil Barrett",
          "Marcus Mariota",
          "Rakeem Nunez-Roches",
          "Keanu Neal",
          "Elijah Wilkinson",
          "Vita Vea",
          "Carlton Davis",
          "KhaDarel Hodge",
          "Devin White",
          "Chris Lindstrom",
          "Kaleb McGary",
          "Jamel Dean",
          "Mike Edwards",
          "Olamide Zaccheaus",
          "Antoine Winfield",
          "Joe Tryon",
          "Drew Dalman",
          "Feleipe Franks",
          "Drake London",
          "Tyler Allgeier"
         ],
         "marker": {
          "angle": [
           169.96000000000004,
           -84.07999999999998,
           125.47000000000003,
           134.49,
           150.12,
           -174.28999999999996,
           156.76999999999998,
           160.89999999999998,
           159.03999999999996,
           99.06,
           -164.56,
           -151.74,
           -178.63,
           -161.97000000000003,
           38.43000000000001,
           106.63,
           -175.3,
           171.52999999999997,
           125.18,
           95.88,
           178.24,
           177.31
          ],
          "color": [
           "#768cb0",
           "burlywood",
           "#768cb0",
           "burlywood",
           "#768cb0",
           "#768cb0",
           "burlywood",
           "#768cb0",
           "darkblue",
           "sienna",
           "#768cb0",
           "burlywood",
           "burlywood",
           "#768cb0",
           "#768cb0",
           "burlywood",
           "#768cb0",
           "#768cb0",
           "burlywood",
           "burlywood",
           "burlywood",
           "burlywood"
          ],
          "size": [
           16,
           16,
           16,
           16,
           16,
           16,
           16,
           16,
           20,
           20,
           16,
           16,
           16,
           16,
           16,
           16,
           16,
           16,
           16,
           16,
           16,
           16
          ],
          "symbol": "arrow"
         },
         "mode": "markers",
         "showlegend": false,
         "type": "scatter",
         "visible": false,
         "x": [
          30.64,
          28.65,
          27.06,
          21.82,
          28.21,
          35.92,
          28.25,
          31.86,
          29.96,
          30.02,
          30.06,
          31.27,
          33.1,
          38.85,
          28.96,
          29.23,
          28.99,
          35.2,
          27.54,
          37.98,
          29.11,
          33.05
         ],
         "y": [
          29.98,
          37.69,
          17.86,
          28.35,
          26.69,
          11.11,
          29.82,
          25.4,
          2.83,
          2.49,
          3.39,
          28.61,
          28.55,
          27.68,
          0.56,
          1.19,
          7.41,
          30.36,
          25.96,
          26.61,
          3.83,
          18.41
         ]
        },
        {
         "marker": {
          "color": [
           "dimgrey"
          ],
          "size": 8
         },
         "mode": "markers",
         "showlegend": false,
         "type": "scatter",
         "visible": false,
         "x": [
          30.1100006103516
         ],
         "y": [
          2.40000009536743
         ]
        },
        {
         "hovertemplate": "%{hovertext}",
         "hovertext": [
          "Lavonte David",
          "Jake Matthews",
          "Shaquil Barrett",
          "Marcus Mariota",
          "Rakeem Nunez-Roches",
          "Keanu Neal",
          "Elijah Wilkinson",
          "Vita Vea",
          "Carlton Davis",
          "KhaDarel Hodge",
          "Devin White",
          "Chris Lindstrom",
          "Kaleb McGary",
          "Jamel Dean",
          "Mike Edwards",
          "Olamide Zaccheaus",
          "Antoine Winfield",
          "Joe Tryon",
          "Drew Dalman",
          "Feleipe Franks",
          "Drake London",
          "Tyler Allgeier"
         ],
         "marker": {
          "angle": [
           164.72000000000003,
           -95.86000000000001,
           125.47000000000003,
           130.59000000000003,
           147.39,
           -169.86,
           156.76999999999998,
           159.36,
           152.8,
           100.29000000000002,
           -179.39,
           -156.91999999999996,
           -174.58000000000004,
           -161.97000000000003,
           46.72999999999999,
           103.98000000000002,
           -175.3,
           173.88,
           134.51999999999998,
           95.88,
           176.52999999999997,
           176.21000000000004
          ],
          "color": [
           "#768cb0",
           "burlywood",
           "#768cb0",
           "burlywood",
           "#768cb0",
           "#768cb0",
           "burlywood",
           "#768cb0",
           "darkblue",
           "sienna",
           "#768cb0",
           "burlywood",
           "burlywood",
           "#768cb0",
           "#768cb0",
           "burlywood",
           "#768cb0",
           "#768cb0",
           "burlywood",
           "burlywood",
           "burlywood",
           "burlywood"
          ],
          "size": [
           16,
           16,
           16,
           16,
           16,
           16,
           16,
           16,
           20,
           20,
           16,
           16,
           16,
           16,
           16,
           16,
           16,
           16,
           16,
           16,
           16,
           16
          ],
          "symbol": "arrow"
         },
         "mode": "markers",
         "showlegend": false,
         "type": "scatter",
         "visible": false,
         "x": [
          30.67,
          28.77,
          27.3,
          21.98,
          28.45,
          35.83,
          28.45,
          32.14,
          30.17,
          30.35,
          30.23,
          31.24,
          33.1,
          38.98,
          28.91,
          29.3,
          29.42,
          35.34,
          27.78,
          38.17,
          29.2,
          33.21
         ],
         "y": [
          29.7,
          37.43,
          17.5,
          28.24,
          26.38,
          10.52,
          29.48,
          25.04,
          2.56,
          2.15,
          3.01,
          28.38,
          28.26,
          27.35,
          0.25,
          0.82,
          6.98,
          30.01,
          25.59,
          26.26,
          3.73,
          17.84
         ]
        },
        {
         "marker": {
          "color": [
           "dimgrey"
          ],
          "size": 8
         },
         "mode": "markers",
         "showlegend": false,
         "type": "scatter",
         "visible": false,
         "x": [
          30.3999996185303
         ],
         "y": [
          2.11999988555908
         ]
        },
        {
         "hovertemplate": "%{hovertext}",
         "hovertext": [
          "Lavonte David",
          "Jake Matthews",
          "Shaquil Barrett",
          "Marcus Mariota",
          "Rakeem Nunez-Roches",
          "Keanu Neal",
          "Elijah Wilkinson",
          "Vita Vea",
          "Carlton Davis",
          "KhaDarel Hodge",
          "Devin White",
          "Chris Lindstrom",
          "Kaleb McGary",
          "Jamel Dean",
          "Mike Edwards",
          "Olamide Zaccheaus",
          "Antoine Winfield",
          "Joe Tryon",
          "Drew Dalman",
          "Feleipe Franks",
          "Drake London",
          "Tyler Allgeier"
         ],
         "marker": {
          "angle": [
           162.91999999999996,
           -126.44,
           127.06,
           132.55,
           144.61,
           -176.01,
           158.07,
           158.49,
           153.39999999999998,
           97.84000000000003,
           171.03999999999996,
           -159.34000000000003,
           -171.51999999999998,
           -160.15999999999997,
           61.66,
           99.73000000000002,
           -175.3,
           176.68,
           147.60000000000002,
           95.88,
           175,
           178.51999999999998
          ],
          "color": [
           "#768cb0",
           "burlywood",
           "#768cb0",
           "burlywood",
           "#768cb0",
           "#768cb0",
           "burlywood",
           "#768cb0",
           "darkblue",
           "sienna",
           "#768cb0",
           "burlywood",
           "burlywood",
           "#768cb0",
           "#768cb0",
           "burlywood",
           "#768cb0",
           "#768cb0",
           "burlywood",
           "burlywood",
           "burlywood",
           "burlywood"
          ],
          "size": [
           16,
           16,
           16,
           16,
           16,
           16,
           16,
           16,
           20,
           20,
           16,
           16,
           16,
           16,
           16,
           16,
           16,
           16,
           16,
           16,
           16,
           16
          ],
          "symbol": "arrow"
         },
         "mode": "markers",
         "showlegend": false,
         "type": "scatter",
         "visible": false,
         "x": [
          30.7,
          28.87,
          27.52,
          22.14,
          28.7,
          35.74,
          28.64,
          32.42,
          30.39,
          30.68,
          30.39,
          31.2,
          33.1,
          39.1,
          28.82,
          29.37,
          29.83,
          35.47,
          27.99,
          38.36,
          29.28,
          33.36
         ],
         "y": [
          29.43,
          37.19,
          17.16,
          28.14,
          26.07,
          9.95,
          29.16,
          24.7,
          2.27,
          1.82,
          2.64,
          28.14,
          27.98,
          27.04,
          -0.02,
          0.48,
          6.58,
          29.66,
          25.2,
          25.94,
          3.64,
          17.27
         ]
        },
        {
         "marker": {
          "color": [
           "dimgrey"
          ],
          "size": 8
         },
         "mode": "markers",
         "showlegend": false,
         "type": "scatter",
         "visible": false,
         "x": [
          30.6800003051758
         ],
         "y": [
          1.83000004291534
         ]
        },
        {
         "hovertemplate": "%{hovertext}",
         "hovertext": [
          "Lavonte David",
          "Jake Matthews",
          "Shaquil Barrett",
          "Marcus Mariota",
          "Rakeem Nunez-Roches",
          "Keanu Neal",
          "Elijah Wilkinson",
          "Vita Vea",
          "Carlton Davis",
          "KhaDarel Hodge",
          "Devin White",
          "Chris Lindstrom",
          "Kaleb McGary",
          "Jamel Dean",
          "Mike Edwards",
          "Olamide Zaccheaus",
          "Antoine Winfield",
          "Joe Tryon",
          "Drew Dalman",
          "Feleipe Franks",
          "Drake London",
          "Tyler Allgeier"
         ],
         "marker": {
          "angle": [
           153.24,
           -114.59000000000003,
           129.14,
           136.36,
           143.47000000000003,
           -176.01,
           159.62,
           159.21000000000004,
           145.51,
           95.19,
           165.76,
           -156.19,
           -171.51999999999998,
           -160.15999999999997,
           76.18,
           98.02999999999997,
           -173.36,
           179.49,
           141.7,
           92.52999999999997,
           175.82,
           -179.33000000000004
          ],
          "color": [
           "#768cb0",
           "burlywood",
           "#768cb0",
           "burlywood",
           "#768cb0",
           "#768cb0",
           "burlywood",
           "#768cb0",
           "darkblue",
           "sienna",
           "#768cb0",
           "burlywood",
           "burlywood",
           "#768cb0",
           "#768cb0",
           "burlywood",
           "#768cb0",
           "#768cb0",
           "burlywood",
           "burlywood",
           "burlywood",
           "burlywood"
          ],
          "size": [
           16,
           16,
           16,
           16,
           16,
           16,
           16,
           16,
           20,
           20,
           16,
           16,
           16,
           16,
           16,
           16,
           16,
           16,
           16,
           16,
           16,
           16
          ],
          "symbol": "arrow"
         },
         "mode": "markers",
         "showlegend": false,
         "type": "scatter",
         "visible": false,
         "x": [
          30.75,
          28.94,
          27.71,
          22.29,
          28.93,
          35.66,
          28.83,
          32.7,
          30.62,
          31,
          30.55,
          31.16,
          33.09,
          39.2,
          28.72,
          29.42,
          30.23,
          35.58,
          28.19,
          38.54,
          29.37,
          33.5
         ],
         "y": [
          29.17,
          36.93,
          16.81,
          28.05,
          25.77,
          9.4,
          28.84,
          24.37,
          1.94,
          1.48,
          2.28,
          27.92,
          27.71,
          26.76,
          -0.25,
          0.14,
          6.19,
          29.32,
          24.82,
          25.65,
          3.55,
          16.72
         ]
        },
        {
         "marker": {
          "color": [
           "dimgrey"
          ],
          "size": 8
         },
         "mode": "markers",
         "showlegend": false,
         "type": "scatter",
         "visible": false,
         "x": [
          30.9699993133545
         ],
         "y": [
          1.52999997138977
         ]
        },
        {
         "hovertemplate": "%{hovertext}",
         "hovertext": [
          "Lavonte David",
          "Jake Matthews",
          "Shaquil Barrett",
          "Marcus Mariota",
          "Rakeem Nunez-Roches",
          "Keanu Neal",
          "Elijah Wilkinson",
          "Vita Vea",
          "Carlton Davis",
          "KhaDarel Hodge",
          "Devin White",
          "Chris Lindstrom",
          "Kaleb McGary",
          "Jamel Dean",
          "Mike Edwards",
          "Olamide Zaccheaus",
          "Antoine Winfield",
          "Joe Tryon",
          "Drew Dalman",
          "Feleipe Franks",
          "Drake London",
          "Tyler Allgeier"
         ],
         "marker": {
          "angle": [
           142.62,
           -109.36000000000001,
           129.14,
           139.74,
           143.47000000000003,
           -176.89,
           159.62,
           159.21000000000004,
           136.12,
           95.92000000000002,
           158.7,
           -159.7,
           -170.65999999999997,
           -160.15999999999997,
           84.99000000000001,
           95.30000000000001,
           -172.77999999999997,
           -178.40999999999997,
           154.89999999999998,
           90.98000000000002,
           172.88,
           -179.33000000000004
          ],
          "color": [
           "#768cb0",
           "burlywood",
           "#768cb0",
           "burlywood",
           "#768cb0",
           "#768cb0",
           "burlywood",
           "#768cb0",
           "darkblue",
           "sienna",
           "#768cb0",
           "burlywood",
           "burlywood",
           "#768cb0",
           "#768cb0",
           "burlywood",
           "#768cb0",
           "#768cb0",
           "burlywood",
           "burlywood",
           "burlywood",
           "burlywood"
          ],
          "size": [
           16,
           16,
           16,
           16,
           16,
           16,
           16,
           16,
           20,
           20,
           16,
           16,
           16,
           16,
           16,
           16,
           16,
           16,
           16,
           16,
           16,
           16
          ],
          "symbol": "arrow"
         },
         "mode": "markers",
         "showlegend": false,
         "type": "scatter",
         "visible": false,
         "x": [
          30.79,
          29.02,
          27.88,
          22.44,
          29.16,
          35.58,
          29.04,
          32.97,
          30.86,
          31.31,
          30.69,
          31.12,
          33.07,
          39.31,
          28.6,
          29.47,
          30.62,
          35.67,
          28.38,
          38.72,
          29.46,
          33.64
         ],
         "y": [
          28.93,
          36.68,
          16.52,
          27.94,
          25.49,
          8.89,
          28.53,
          24.05,
          1.6,
          1.14,
          1.92,
          27.69,
          27.45,
          26.5,
          -0.47,
          -0.19,
          5.81,
          28.97,
          24.45,
          25.38,
          3.46,
          16.17
         ]
        },
        {
         "marker": {
          "color": [
           "dimgrey"
          ],
          "size": 8
         },
         "mode": "markers",
         "showlegend": false,
         "type": "scatter",
         "visible": false,
         "x": [
          31.2700004577637
         ],
         "y": [
          1.21000003814697
         ]
        },
        {
         "hovertemplate": "%{hovertext}",
         "hovertext": [
          "Lavonte David",
          "Jake Matthews",
          "Shaquil Barrett",
          "Marcus Mariota",
          "Rakeem Nunez-Roches",
          "Keanu Neal",
          "Elijah Wilkinson",
          "Vita Vea",
          "Carlton Davis",
          "KhaDarel Hodge",
          "Devin White",
          "Chris Lindstrom",
          "Kaleb McGary",
          "Jamel Dean",
          "Mike Edwards",
          "Olamide Zaccheaus",
          "Antoine Winfield",
          "Joe Tryon",
          "Drew Dalman",
          "Feleipe Franks",
          "Drake London",
          "Tyler Allgeier"
         ],
         "marker": {
          "angle": [
           148.49,
           -107.27999999999997,
           129.14,
           143.36,
           144.60000000000002,
           -176.89,
           160.35000000000002,
           159.21000000000004,
           120.39999999999998,
           95.13999999999999,
           154.52999999999997,
           -176.81,
           -165.39999999999998,
           -162.61,
           96.61000000000001,
           83.75999999999999,
           -171.31,
           -175.14,
           156.05,
           83.14999999999998,
           170.98000000000002,
           -176.60000000000002
          ],
          "color": [
           "#768cb0",
           "burlywood",
           "#768cb0",
           "burlywood",
           "#768cb0",
           "#768cb0",
           "burlywood",
           "#768cb0",
           "darkblue",
           "sienna",
           "#768cb0",
           "burlywood",
           "burlywood",
           "#768cb0",
           "#768cb0",
           "burlywood",
           "#768cb0",
           "#768cb0",
           "burlywood",
           "burlywood",
           "burlywood",
           "burlywood"
          ],
          "size": [
           16,
           16,
           16,
           16,
           16,
           16,
           16,
           16,
           20,
           20,
           16,
           16,
           16,
           16,
           16,
           16,
           16,
           16,
           16,
           16,
           16,
           16
          ],
          "symbol": "arrow"
         },
         "mode": "markers",
         "showlegend": false,
         "type": "scatter",
         "visible": false,
         "x": [
          30.82,
          29.09,
          28.05,
          22.58,
          29.39,
          35.51,
          29.21,
          33.23,
          31.1,
          31.63,
          30.84,
          31.07,
          33.05,
          39.4,
          28.46,
          29.52,
          30.99,
          35.74,
          28.61,
          38.89,
          29.55,
          33.76
         ],
         "y": [
          28.71,
          36.43,
          16.25,
          27.82,
          25.22,
          8.4,
          28.21,
          23.74,
          1.23,
          0.82,
          1.58,
          27.46,
          27.22,
          26.27,
          -0.66,
          -0.51,
          5.44,
          28.64,
          24.1,
          25.15,
          3.38,
          15.62
         ]
        },
        {
         "marker": {
          "color": [
           "dimgrey"
          ],
          "size": 8
         },
         "mode": "markers",
         "showlegend": false,
         "type": "scatter",
         "visible": false,
         "x": [
          31.5699996948242
         ],
         "y": [
          0.910000026226044
         ]
        },
        {
         "hovertemplate": "%{hovertext}",
         "hovertext": [
          "Lavonte David",
          "Jake Matthews",
          "Shaquil Barrett",
          "Marcus Mariota",
          "Rakeem Nunez-Roches",
          "Keanu Neal",
          "Elijah Wilkinson",
          "Vita Vea",
          "Carlton Davis",
          "KhaDarel Hodge",
          "Devin White",
          "Chris Lindstrom",
          "Kaleb McGary",
          "Jamel Dean",
          "Mike Edwards",
          "Olamide Zaccheaus",
          "Antoine Winfield",
          "Joe Tryon",
          "Drew Dalman",
          "Feleipe Franks",
          "Drake London",
          "Tyler Allgeier"
         ],
         "marker": {
          "angle": [
           151.86,
           -134.51999999999998,
           133.68,
           157.21000000000004,
           144.60000000000002,
           -179.25,
           161.37,
           160.89999999999998,
           106.13999999999999,
           91.75,
           146.26,
           -179.72000000000003,
           -166.93,
           -162.61,
           104.07999999999998,
           69.17000000000002,
           -169.38,
           -171.91999999999996,
           168.81,
           73.07999999999998,
           168.44,
           -177.73000000000002
          ],
          "color": [
           "#768cb0",
           "burlywood",
           "#768cb0",
           "burlywood",
           "#768cb0",
           "#768cb0",
           "burlywood",
           "#768cb0",
           "darkblue",
           "sienna",
           "#768cb0",
           "burlywood",
           "burlywood",
           "#768cb0",
           "#768cb0",
           "burlywood",
           "#768cb0",
           "#768cb0",
           "burlywood",
           "burlywood",
           "burlywood",
           "burlywood"
          ],
          "size": [
           16,
           16,
           16,
           16,
           16,
           16,
           16,
           16,
           20,
           20,
           16,
           16,
           16,
           16,
           16,
           16,
           16,
           16,
           16,
           16,
           16,
           16
          ],
          "symbol": "arrow"
         },
         "mode": "markers",
         "showlegend": false,
         "type": "scatter",
         "visible": false,
         "x": [
          30.85,
          29.14,
          28.22,
          22.73,
          29.62,
          35.44,
          29.4,
          33.48,
          31.34,
          31.95,
          30.98,
          31.03,
          33.03,
          39.49,
          28.31,
          29.56,
          31.35,
          35.8,
          28.82,
          39.04,
          29.64,
          33.86
         ],
         "y": [
          28.5,
          36.2,
          15.99,
          27.72,
          24.95,
          7.94,
          27.9,
          23.43,
          0.86,
          0.53,
          1.25,
          27.22,
          26.98,
          26.06,
          -0.83,
          -0.81,
          5.08,
          28.32,
          23.75,
          24.94,
          3.3,
          15.09
         ]
        },
        {
         "marker": {
          "color": [
           "dimgrey"
          ],
          "size": 8
         },
         "mode": "markers",
         "showlegend": false,
         "type": "scatter",
         "visible": false,
         "x": [
          31.8899993896484
         ],
         "y": [
          0.610000014305115
         ]
        },
        {
         "hovertemplate": "%{hovertext}",
         "hovertext": [
          "Lavonte David",
          "Jake Matthews",
          "Shaquil Barrett",
          "Marcus Mariota",
          "Rakeem Nunez-Roches",
          "Keanu Neal",
          "Elijah Wilkinson",
          "Vita Vea",
          "Carlton Davis",
          "KhaDarel Hodge",
          "Devin White",
          "Chris Lindstrom",
          "Kaleb McGary",
          "Jamel Dean",
          "Mike Edwards",
          "Olamide Zaccheaus",
          "Antoine Winfield",
          "Joe Tryon",
          "Drew Dalman",
          "Feleipe Franks",
          "Drake London",
          "Tyler Allgeier"
         ],
         "marker": {
          "angle": [
           147.76999999999998,
           -135.75,
           147.06,
           -177.59000000000003,
           142.93,
           -179.25,
           161.37,
           161.93,
           75.11000000000001,
           88.80000000000001,
           145.37,
           174.83000000000004,
           -168.97000000000003,
           -162.61,
           100.44,
           57.53999999999999,
           -175.56,
           -169.95,
           175.45,
           64.25999999999999,
           160.44,
           -177.10000000000002
          ],
          "color": [
           "#768cb0",
           "burlywood",
           "#768cb0",
           "burlywood",
           "#768cb0",
           "#768cb0",
           "burlywood",
           "#768cb0",
           "darkblue",
           "sienna",
           "#768cb0",
           "burlywood",
           "burlywood",
           "#768cb0",
           "#768cb0",
           "burlywood",
           "#768cb0",
           "#768cb0",
           "burlywood",
           "burlywood",
           "burlywood",
           "burlywood"
          ],
          "size": [
           16,
           16,
           16,
           16,
           16,
           16,
           16,
           16,
           20,
           20,
           16,
           16,
           16,
           16,
           16,
           16,
           16,
           16,
           16,
           16,
           16,
           16
          ],
          "symbol": "arrow"
         },
         "mode": "markers",
         "showlegend": false,
         "type": "scatter",
         "visible": false,
         "x": [
          30.87,
          29.2,
          28.4,
          22.87,
          29.83,
          35.37,
          29.56,
          33.72,
          31.58,
          32.26,
          31.13,
          31,
          33,
          39.57,
          28.16,
          29.61,
          31.68,
          35.85,
          29.02,
          39.19,
          29.74,
          33.97
         ],
         "y": [
          28.31,
          35.96,
          15.83,
          27.62,
          24.7,
          7.51,
          27.62,
          23.13,
          0.48,
          0.24,
          0.93,
          26.99,
          26.76,
          25.89,
          -0.95,
          -1.08,
          4.76,
          28,
          23.42,
          24.76,
          3.23,
          14.57
         ]
        },
        {
         "marker": {
          "color": [
           "dimgrey"
          ],
          "size": 8
         },
         "mode": "markers",
         "showlegend": false,
         "type": "scatter",
         "visible": false,
         "x": [
          32.2099990844727
         ],
         "y": [
          0.310000002384186
         ]
        },
        {
         "hovertemplate": "%{hovertext}",
         "hovertext": [
          "Lavonte David",
          "Jake Matthews",
          "Shaquil Barrett",
          "Marcus Mariota",
          "Rakeem Nunez-Roches",
          "Keanu Neal",
          "Elijah Wilkinson",
          "Vita Vea",
          "Carlton Davis",
          "KhaDarel Hodge",
          "Devin White",
          "Chris Lindstrom",
          "Kaleb McGary",
          "Jamel Dean",
          "Mike Edwards",
          "Olamide Zaccheaus",
          "Antoine Winfield",
          "Joe Tryon",
          "Drew Dalman",
          "Feleipe Franks",
          "Drake London",
          "Tyler Allgeier"
         ],
         "marker": {
          "angle": [
           146.71000000000004,
           -157.3,
           -163.73000000000002,
           178.72000000000003,
           140.31,
           175.48000000000002,
           160.26999999999998,
           160.40999999999997,
           50.22,
           87.94,
           135.43,
           167.84000000000003,
           -179.41999999999996,
           -162.61,
           100.44,
           25.49000000000001,
           -178.43,
           -168.97000000000003,
           -179.26,
           45.06999999999999,
           155.89999999999998,
           -177.10000000000002
          ],
          "color": [
           "#768cb0",
           "burlywood",
           "#768cb0",
           "burlywood",
           "#768cb0",
           "#768cb0",
           "burlywood",
           "#768cb0",
           "darkblue",
           "sienna",
           "#768cb0",
           "burlywood",
           "burlywood",
           "#768cb0",
           "#768cb0",
           "burlywood",
           "#768cb0",
           "#768cb0",
           "burlywood",
           "burlywood",
           "burlywood",
           "burlywood"
          ],
          "size": [
           16,
           16,
           16,
           16,
           16,
           16,
           16,
           16,
           20,
           20,
           16,
           16,
           16,
           16,
           16,
           16,
           16,
           16,
           16,
           16,
           16,
           16
          ],
          "symbol": "arrow"
         },
         "mode": "markers",
         "showlegend": false,
         "type": "scatter",
         "visible": false,
         "x": [
          30.88,
          29.25,
          28.56,
          23.02,
          30.04,
          35.3,
          29.7,
          33.95,
          31.83,
          32.57,
          31.27,
          30.98,
          32.97,
          39.64,
          27.99,
          29.65,
          32,
          35.89,
          29.22,
          39.32,
          29.82,
          34.07
         ],
         "y": [
          28.15,
          35.68,
          15.63,
          27.5,
          24.48,
          7.12,
          27.34,
          22.84,
          0.17,
          -0.04,
          0.62,
          26.75,
          26.51,
          25.75,
          -1.05,
          -1.35,
          4.46,
          27.7,
          23.08,
          24.62,
          3.16,
          14.07
         ]
        },
        {
         "marker": {
          "color": [
           "dimgrey"
          ],
          "size": 8
         },
         "mode": "markers",
         "showlegend": false,
         "type": "scatter",
         "visible": false,
         "x": [
          32.5400009155273
         ],
         "y": [
          0.0099999997764825
         ]
        },
        {
         "hovertemplate": "%{hovertext}",
         "hovertext": [
          "Lavonte David",
          "Jake Matthews",
          "Shaquil Barrett",
          "Marcus Mariota",
          "Rakeem Nunez-Roches",
          "Keanu Neal",
          "Elijah Wilkinson",
          "Vita Vea",
          "Carlton Davis",
          "KhaDarel Hodge",
          "Devin White",
          "Chris Lindstrom",
          "Kaleb McGary",
          "Jamel Dean",
          "Mike Edwards",
          "Olamide Zaccheaus",
          "Antoine Winfield",
          "Joe Tryon",
          "Drew Dalman",
          "Feleipe Franks",
          "Drake London",
          "Tyler Allgeier"
         ],
         "marker": {
          "angle": [
           142.52999999999997,
           -154.35000000000002,
           -109.69999999999999,
           -175.3,
           136.76999999999998,
           173.31,
           158.18,
           159.36,
           38.72,
           87.94,
           130.69,
           166.35000000000002,
           170.68,
           -162.61,
           100.44,
           -22.25,
           174.88,
           -167.84000000000003,
           -177.19,
           22.30000000000001,
           148.34000000000003,
           -176.28999999999996
          ],
          "color": [
           "#768cb0",
           "burlywood",
           "#768cb0",
           "burlywood",
           "#768cb0",
           "#768cb0",
           "burlywood",
           "#768cb0",
           "darkblue",
           "sienna",
           "#768cb0",
           "burlywood",
           "burlywood",
           "#768cb0",
           "#768cb0",
           "burlywood",
           "#768cb0",
           "#768cb0",
           "burlywood",
           "burlywood",
           "burlywood",
           "burlywood"
          ],
          "size": [
           16,
           16,
           16,
           16,
           16,
           16,
           16,
           16,
           20,
           20,
           16,
           16,
           16,
           16,
           16,
           16,
           16,
           16,
           16,
           16,
           16,
           16
          ],
          "symbol": "arrow"
         },
         "mode": "markers",
         "showlegend": false,
         "type": "scatter",
         "visible": false,
         "x": [
          30.88,
          29.32,
          28.71,
          23.17,
          30.23,
          35.23,
          29.85,
          34.17,
          32.08,
          32.85,
          31.42,
          30.97,
          32.95,
          39.7,
          27.83,
          29.69,
          32.3,
          35.92,
          29.4,
          39.43,
          29.91,
          34.18
         ],
         "y": [
          28,
          35.42,
          15.47,
          27.38,
          24.26,
          6.77,
          27.07,
          22.56,
          0.17,
          -0.28,
          0.31,
          26.52,
          26.29,
          25.62,
          -1.13,
          -1.58,
          4.18,
          27.42,
          22.76,
          24.49,
          3.1,
          13.6
         ]
        },
        {
         "marker": {
          "color": [
           "dimgrey"
          ],
          "size": 8
         },
         "mode": "markers",
         "showlegend": false,
         "type": "scatter",
         "visible": false,
         "x": [
          32.8199996948242
         ],
         "y": [
          -0.239999994635582
         ]
        },
        {
         "hovertemplate": "%{hovertext}",
         "hovertext": [
          "Lavonte David",
          "Jake Matthews",
          "Shaquil Barrett",
          "Marcus Mariota",
          "Rakeem Nunez-Roches",
          "Keanu Neal",
          "Elijah Wilkinson",
          "Vita Vea",
          "Carlton Davis",
          "KhaDarel Hodge",
          "Devin White",
          "Chris Lindstrom",
          "Kaleb McGary",
          "Jamel Dean",
          "Mike Edwards",
          "Olamide Zaccheaus",
          "Antoine Winfield",
          "Joe Tryon",
          "Drew Dalman",
          "Feleipe Franks",
          "Drake London",
          "Tyler Allgeier"
         ],
         "marker": {
          "angle": [
           134.22000000000003,
           -161.13,
           -88.19999999999999,
           170.91999999999996,
           136.76999999999998,
           178.55,
           170.39,
           156.39999999999998,
           33.170000000000016,
           84.82999999999998,
           108.99000000000001,
           164.62,
           170.68,
           -164.11,
           96.13999999999999,
           -55.80000000000001,
           171.14999999999998,
           -165.99,
           -176.47000000000003,
           12.060000000000002,
           129.83000000000004,
           -178.82
          ],
          "color": [
           "#768cb0",
           "burlywood",
           "#768cb0",
           "burlywood",
           "#768cb0",
           "#768cb0",
           "burlywood",
           "#768cb0",
           "darkblue",
           "sienna",
           "#768cb0",
           "burlywood",
           "burlywood",
           "#768cb0",
           "#768cb0",
           "burlywood",
           "#768cb0",
           "#768cb0",
           "burlywood",
           "burlywood",
           "burlywood",
           "burlywood"
          ],
          "size": [
           16,
           16,
           16,
           16,
           16,
           16,
           16,
           16,
           20,
           20,
           16,
           16,
           16,
           16,
           16,
           16,
           16,
           16,
           16,
           16,
           16,
           16
          ],
          "symbol": "arrow"
         },
         "mode": "markers",
         "showlegend": false,
         "type": "scatter",
         "visible": false,
         "x": [
          30.87,
          29.38,
          28.86,
          23.32,
          30.42,
          35.19,
          29.98,
          34.37,
          32.33,
          33.12,
          31.57,
          30.98,
          32.92,
          39.75,
          27.69,
          29.73,
          32.58,
          35.93,
          29.58,
          39.52,
          29.99,
          34.27
         ],
         "y": [
          27.86,
          35.14,
          15.33,
          27.25,
          24.05,
          6.45,
          26.8,
          22.3,
          0.17,
          -0.49,
          0.17,
          26.3,
          26.07,
          25.52,
          -1.18,
          -1.79,
          3.92,
          27.15,
          22.44,
          24.39,
          3.05,
          13.14
         ]
        },
        {
         "marker": {
          "color": [
           "dimgrey"
          ],
          "size": 8
         },
         "mode": "markers",
         "showlegend": false,
         "type": "scatter",
         "visible": false,
         "x": [
          33.0800018310547
         ],
         "y": [
          -0.449999988079071
         ]
        }
       ],
       "layout": {
        "annotations": [
         {
          "font": {
           "color": "grey",
           "size": 8
          },
          "showarrow": false,
          "text": "10",
          "x": 19,
          "xref": "x",
          "y": 5,
          "yref": "y"
         },
         {
          "font": {
           "color": "grey",
           "size": 8
          },
          "showarrow": false,
          "text": "10",
          "textangle": -180,
          "x": 19,
          "xref": "x",
          "y": 48.3,
          "yref": "y"
         },
         {
          "font": {
           "color": "grey",
           "size": 8
          },
          "showarrow": false,
          "text": "20",
          "x": 29,
          "xref": "x",
          "y": 5,
          "yref": "y"
         },
         {
          "font": {
           "color": "grey",
           "size": 8
          },
          "showarrow": false,
          "text": "20",
          "textangle": -180,
          "x": 29,
          "xref": "x",
          "y": 48.3,
          "yref": "y"
         },
         {
          "font": {
           "color": "grey",
           "size": 8
          },
          "showarrow": false,
          "text": "30",
          "x": 39,
          "xref": "x",
          "y": 5,
          "yref": "y"
         },
         {
          "font": {
           "color": "grey",
           "size": 8
          },
          "showarrow": false,
          "text": "30",
          "textangle": -180,
          "x": 39,
          "xref": "x",
          "y": 48.3,
          "yref": "y"
         },
         {
          "font": {
           "color": "grey",
           "size": 8
          },
          "showarrow": false,
          "text": "40",
          "x": 49,
          "xref": "x",
          "y": 5,
          "yref": "y"
         },
         {
          "font": {
           "color": "grey",
           "size": 8
          },
          "showarrow": false,
          "text": "40",
          "textangle": -180,
          "x": 49,
          "xref": "x",
          "y": 48.3,
          "yref": "y"
         },
         {
          "font": {
           "color": "grey",
           "size": 8
          },
          "showarrow": false,
          "text": "50",
          "x": 59,
          "xref": "x",
          "y": 5,
          "yref": "y"
         },
         {
          "font": {
           "color": "grey",
           "size": 8
          },
          "showarrow": false,
          "text": "50",
          "textangle": -180,
          "x": 59,
          "xref": "x",
          "y": 48.3,
          "yref": "y"
         },
         {
          "font": {
           "color": "grey",
           "size": 8
          },
          "showarrow": false,
          "text": "40",
          "x": 69,
          "xref": "x",
          "y": 5,
          "yref": "y"
         },
         {
          "font": {
           "color": "grey",
           "size": 8
          },
          "showarrow": false,
          "text": "40",
          "textangle": -180,
          "x": 69,
          "xref": "x",
          "y": 48.3,
          "yref": "y"
         },
         {
          "font": {
           "color": "grey",
           "size": 8
          },
          "showarrow": false,
          "text": "30",
          "x": 79,
          "xref": "x",
          "y": 5,
          "yref": "y"
         },
         {
          "font": {
           "color": "grey",
           "size": 8
          },
          "showarrow": false,
          "text": "30",
          "textangle": -180,
          "x": 79,
          "xref": "x",
          "y": 48.3,
          "yref": "y"
         },
         {
          "font": {
           "color": "grey",
           "size": 8
          },
          "showarrow": false,
          "text": "20",
          "x": 89,
          "xref": "x",
          "y": 5,
          "yref": "y"
         },
         {
          "font": {
           "color": "grey",
           "size": 8
          },
          "showarrow": false,
          "text": "20",
          "textangle": -180,
          "x": 89,
          "xref": "x",
          "y": 48.3,
          "yref": "y"
         },
         {
          "font": {
           "color": "grey",
           "size": 8
          },
          "showarrow": false,
          "text": "10",
          "x": 99,
          "xref": "x",
          "y": 5,
          "yref": "y"
         },
         {
          "font": {
           "color": "grey",
           "size": 8
          },
          "showarrow": false,
          "text": "10",
          "textangle": -180,
          "x": 99,
          "xref": "x",
          "y": 48.3,
          "yref": "y"
         }
        ],
        "dragmode": false,
        "height": 600,
        "margin": {
         "t": 20
        },
        "plot_bgcolor": "rgba(0,0,0,0)",
        "shapes": [
         {
          "line": {
           "color": "grey",
           "width": 0.5
          },
          "type": "line",
          "x0": 20,
          "x1": 20,
          "y0": 0,
          "y1": 53.3
         },
         {
          "line": {
           "color": "grey",
           "width": 0.5
          },
          "type": "line",
          "x0": 30,
          "x1": 30,
          "y0": 0,
          "y1": 53.3
         },
         {
          "line": {
           "color": "grey",
           "width": 0.5
          },
          "type": "line",
          "x0": 40,
          "x1": 40,
          "y0": 0,
          "y1": 53.3
         },
         {
          "line": {
           "color": "grey",
           "width": 0.5
          },
          "type": "line",
          "x0": 50,
          "x1": 50,
          "y0": 0,
          "y1": 53.3
         },
         {
          "line": {
           "color": "grey",
           "width": 0.5
          },
          "type": "line",
          "x0": 60,
          "x1": 60,
          "y0": 0,
          "y1": 53.3
         },
         {
          "line": {
           "color": "grey",
           "width": 0.5
          },
          "type": "line",
          "x0": 70,
          "x1": 70,
          "y0": 0,
          "y1": 53.3
         },
         {
          "line": {
           "color": "grey",
           "width": 0.5
          },
          "type": "line",
          "x0": 80,
          "x1": 80,
          "y0": 0,
          "y1": 53.3
         },
         {
          "line": {
           "color": "grey",
           "width": 0.5
          },
          "type": "line",
          "x0": 90,
          "x1": 90,
          "y0": 0,
          "y1": 53.3
         },
         {
          "line": {
           "color": "grey",
           "width": 0.5
          },
          "type": "line",
          "x0": 100,
          "x1": 100,
          "y0": 0,
          "y1": 53.3
         },
         {
          "line": {
           "color": "RGB(255,215,0)",
           "width": 1.3
          },
          "type": "line",
          "x0": 23,
          "x1": 23,
          "y0": 0,
          "y1": 53.3
         },
         {
          "line": {
           "color": "RGB(255,215,0)",
           "dash": "dash",
           "width": 1.3
          },
          "type": "line",
          "x0": 38,
          "x1": 38,
          "y0": 0,
          "y1": 53.3
         },
         {
          "line": {
           "color": "darkgrey",
           "width": 0.5
          },
          "type": "line",
          "x0": 11,
          "x1": 11,
          "y0": 0.2,
          "y1": 0.7
         },
         {
          "line": {
           "color": "darkgrey",
           "width": 0.5
          },
          "type": "line",
          "x0": 11,
          "x1": 11,
          "y0": 22.91,
          "y1": 23.57
         },
         {
          "line": {
           "color": "darkgrey",
           "width": 0.5
          },
          "type": "line",
          "x0": 11,
          "x1": 11,
          "y0": 29.73,
          "y1": 30.39
         },
         {
          "line": {
           "color": "darkgrey",
           "width": 0.5
          },
          "type": "line",
          "x0": 11,
          "x1": 11,
          "y0": 53,
          "y1": 52.5
         },
         {
          "line": {
           "color": "darkgrey",
           "width": 0.5
          },
          "type": "line",
          "x0": 12,
          "x1": 12,
          "y0": 0.2,
          "y1": 0.7
         },
         {
          "line": {
           "color": "darkgrey",
           "width": 0.5
          },
          "type": "line",
          "x0": 12,
          "x1": 12,
          "y0": 22.91,
          "y1": 23.57
         },
         {
          "line": {
           "color": "darkgrey",
           "width": 0.5
          },
          "type": "line",
          "x0": 12,
          "x1": 12,
          "y0": 29.73,
          "y1": 30.39
         },
         {
          "line": {
           "color": "darkgrey",
           "width": 0.5
          },
          "type": "line",
          "x0": 12,
          "x1": 12,
          "y0": 53,
          "y1": 52.5
         },
         {
          "line": {
           "color": "darkgrey",
           "width": 0.5
          },
          "type": "line",
          "x0": 13,
          "x1": 13,
          "y0": 0.2,
          "y1": 0.7
         },
         {
          "line": {
           "color": "darkgrey",
           "width": 0.5
          },
          "type": "line",
          "x0": 13,
          "x1": 13,
          "y0": 22.91,
          "y1": 23.57
         },
         {
          "line": {
           "color": "darkgrey",
           "width": 0.5
          },
          "type": "line",
          "x0": 13,
          "x1": 13,
          "y0": 29.73,
          "y1": 30.39
         },
         {
          "line": {
           "color": "darkgrey",
           "width": 0.5
          },
          "type": "line",
          "x0": 13,
          "x1": 13,
          "y0": 53,
          "y1": 52.5
         },
         {
          "line": {
           "color": "darkgrey",
           "width": 0.5
          },
          "type": "line",
          "x0": 14,
          "x1": 14,
          "y0": 0.2,
          "y1": 0.7
         },
         {
          "line": {
           "color": "darkgrey",
           "width": 0.5
          },
          "type": "line",
          "x0": 14,
          "x1": 14,
          "y0": 22.91,
          "y1": 23.57
         },
         {
          "line": {
           "color": "darkgrey",
           "width": 0.5
          },
          "type": "line",
          "x0": 14,
          "x1": 14,
          "y0": 29.73,
          "y1": 30.39
         },
         {
          "line": {
           "color": "darkgrey",
           "width": 0.5
          },
          "type": "line",
          "x0": 14,
          "x1": 14,
          "y0": 53,
          "y1": 52.5
         },
         {
          "line": {
           "color": "darkgrey",
           "width": 0.5
          },
          "type": "line",
          "x0": 15,
          "x1": 15,
          "y0": 0.2,
          "y1": 0.7
         },
         {
          "line": {
           "color": "darkgrey",
           "width": 0.5
          },
          "type": "line",
          "x0": 15,
          "x1": 15,
          "y0": 22.91,
          "y1": 23.57
         },
         {
          "line": {
           "color": "darkgrey",
           "width": 0.5
          },
          "type": "line",
          "x0": 15,
          "x1": 15,
          "y0": 29.73,
          "y1": 30.39
         },
         {
          "line": {
           "color": "darkgrey",
           "width": 0.5
          },
          "type": "line",
          "x0": 15,
          "x1": 15,
          "y0": 53,
          "y1": 52.5
         },
         {
          "line": {
           "color": "darkgrey",
           "width": 0.5
          },
          "type": "line",
          "x0": 16,
          "x1": 16,
          "y0": 0.2,
          "y1": 0.7
         },
         {
          "line": {
           "color": "darkgrey",
           "width": 0.5
          },
          "type": "line",
          "x0": 16,
          "x1": 16,
          "y0": 22.91,
          "y1": 23.57
         },
         {
          "line": {
           "color": "darkgrey",
           "width": 0.5
          },
          "type": "line",
          "x0": 16,
          "x1": 16,
          "y0": 29.73,
          "y1": 30.39
         },
         {
          "line": {
           "color": "darkgrey",
           "width": 0.5
          },
          "type": "line",
          "x0": 16,
          "x1": 16,
          "y0": 53,
          "y1": 52.5
         },
         {
          "line": {
           "color": "darkgrey",
           "width": 0.5
          },
          "type": "line",
          "x0": 17,
          "x1": 17,
          "y0": 0.2,
          "y1": 0.7
         },
         {
          "line": {
           "color": "darkgrey",
           "width": 0.5
          },
          "type": "line",
          "x0": 17,
          "x1": 17,
          "y0": 22.91,
          "y1": 23.57
         },
         {
          "line": {
           "color": "darkgrey",
           "width": 0.5
          },
          "type": "line",
          "x0": 17,
          "x1": 17,
          "y0": 29.73,
          "y1": 30.39
         },
         {
          "line": {
           "color": "darkgrey",
           "width": 0.5
          },
          "type": "line",
          "x0": 17,
          "x1": 17,
          "y0": 53,
          "y1": 52.5
         },
         {
          "line": {
           "color": "darkgrey",
           "width": 0.5
          },
          "type": "line",
          "x0": 18,
          "x1": 18,
          "y0": 0.2,
          "y1": 0.7
         },
         {
          "line": {
           "color": "darkgrey",
           "width": 0.5
          },
          "type": "line",
          "x0": 18,
          "x1": 18,
          "y0": 22.91,
          "y1": 23.57
         },
         {
          "line": {
           "color": "darkgrey",
           "width": 0.5
          },
          "type": "line",
          "x0": 18,
          "x1": 18,
          "y0": 29.73,
          "y1": 30.39
         },
         {
          "line": {
           "color": "darkgrey",
           "width": 0.5
          },
          "type": "line",
          "x0": 18,
          "x1": 18,
          "y0": 53,
          "y1": 52.5
         },
         {
          "line": {
           "color": "darkgrey",
           "width": 0.5
          },
          "type": "line",
          "x0": 19,
          "x1": 19,
          "y0": 0.2,
          "y1": 0.7
         },
         {
          "line": {
           "color": "darkgrey",
           "width": 0.5
          },
          "type": "line",
          "x0": 19,
          "x1": 19,
          "y0": 22.91,
          "y1": 23.57
         },
         {
          "line": {
           "color": "darkgrey",
           "width": 0.5
          },
          "type": "line",
          "x0": 19,
          "x1": 19,
          "y0": 29.73,
          "y1": 30.39
         },
         {
          "line": {
           "color": "darkgrey",
           "width": 0.5
          },
          "type": "line",
          "x0": 19,
          "x1": 19,
          "y0": 53,
          "y1": 52.5
         },
         {
          "line": {
           "color": "darkgrey",
           "width": 0.5
          },
          "type": "line",
          "x0": 20,
          "x1": 20,
          "y0": 0.2,
          "y1": 0.7
         },
         {
          "line": {
           "color": "darkgrey",
           "width": 0.5
          },
          "type": "line",
          "x0": 20,
          "x1": 20,
          "y0": 22.91,
          "y1": 23.57
         },
         {
          "line": {
           "color": "darkgrey",
           "width": 0.5
          },
          "type": "line",
          "x0": 20,
          "x1": 20,
          "y0": 29.73,
          "y1": 30.39
         },
         {
          "line": {
           "color": "darkgrey",
           "width": 0.5
          },
          "type": "line",
          "x0": 20,
          "x1": 20,
          "y0": 53,
          "y1": 52.5
         },
         {
          "line": {
           "color": "darkgrey",
           "width": 0.5
          },
          "type": "line",
          "x0": 21,
          "x1": 21,
          "y0": 0.2,
          "y1": 0.7
         },
         {
          "line": {
           "color": "darkgrey",
           "width": 0.5
          },
          "type": "line",
          "x0": 21,
          "x1": 21,
          "y0": 22.91,
          "y1": 23.57
         },
         {
          "line": {
           "color": "darkgrey",
           "width": 0.5
          },
          "type": "line",
          "x0": 21,
          "x1": 21,
          "y0": 29.73,
          "y1": 30.39
         },
         {
          "line": {
           "color": "darkgrey",
           "width": 0.5
          },
          "type": "line",
          "x0": 21,
          "x1": 21,
          "y0": 53,
          "y1": 52.5
         },
         {
          "line": {
           "color": "darkgrey",
           "width": 0.5
          },
          "type": "line",
          "x0": 22,
          "x1": 22,
          "y0": 0.2,
          "y1": 0.7
         },
         {
          "line": {
           "color": "darkgrey",
           "width": 0.5
          },
          "type": "line",
          "x0": 22,
          "x1": 22,
          "y0": 22.91,
          "y1": 23.57
         },
         {
          "line": {
           "color": "darkgrey",
           "width": 0.5
          },
          "type": "line",
          "x0": 22,
          "x1": 22,
          "y0": 29.73,
          "y1": 30.39
         },
         {
          "line": {
           "color": "darkgrey",
           "width": 0.5
          },
          "type": "line",
          "x0": 22,
          "x1": 22,
          "y0": 53,
          "y1": 52.5
         },
         {
          "line": {
           "color": "darkgrey",
           "width": 0.5
          },
          "type": "line",
          "x0": 23,
          "x1": 23,
          "y0": 0.2,
          "y1": 0.7
         },
         {
          "line": {
           "color": "darkgrey",
           "width": 0.5
          },
          "type": "line",
          "x0": 23,
          "x1": 23,
          "y0": 22.91,
          "y1": 23.57
         },
         {
          "line": {
           "color": "darkgrey",
           "width": 0.5
          },
          "type": "line",
          "x0": 23,
          "x1": 23,
          "y0": 29.73,
          "y1": 30.39
         },
         {
          "line": {
           "color": "darkgrey",
           "width": 0.5
          },
          "type": "line",
          "x0": 23,
          "x1": 23,
          "y0": 53,
          "y1": 52.5
         },
         {
          "line": {
           "color": "darkgrey",
           "width": 0.5
          },
          "type": "line",
          "x0": 24,
          "x1": 24,
          "y0": 0.2,
          "y1": 0.7
         },
         {
          "line": {
           "color": "darkgrey",
           "width": 0.5
          },
          "type": "line",
          "x0": 24,
          "x1": 24,
          "y0": 22.91,
          "y1": 23.57
         },
         {
          "line": {
           "color": "darkgrey",
           "width": 0.5
          },
          "type": "line",
          "x0": 24,
          "x1": 24,
          "y0": 29.73,
          "y1": 30.39
         },
         {
          "line": {
           "color": "darkgrey",
           "width": 0.5
          },
          "type": "line",
          "x0": 24,
          "x1": 24,
          "y0": 53,
          "y1": 52.5
         },
         {
          "line": {
           "color": "darkgrey",
           "width": 0.5
          },
          "type": "line",
          "x0": 25,
          "x1": 25,
          "y0": 0.2,
          "y1": 0.7
         },
         {
          "line": {
           "color": "darkgrey",
           "width": 0.5
          },
          "type": "line",
          "x0": 25,
          "x1": 25,
          "y0": 22.91,
          "y1": 23.57
         },
         {
          "line": {
           "color": "darkgrey",
           "width": 0.5
          },
          "type": "line",
          "x0": 25,
          "x1": 25,
          "y0": 29.73,
          "y1": 30.39
         },
         {
          "line": {
           "color": "darkgrey",
           "width": 0.5
          },
          "type": "line",
          "x0": 25,
          "x1": 25,
          "y0": 53,
          "y1": 52.5
         },
         {
          "line": {
           "color": "darkgrey",
           "width": 0.5
          },
          "type": "line",
          "x0": 26,
          "x1": 26,
          "y0": 0.2,
          "y1": 0.7
         },
         {
          "line": {
           "color": "darkgrey",
           "width": 0.5
          },
          "type": "line",
          "x0": 26,
          "x1": 26,
          "y0": 22.91,
          "y1": 23.57
         },
         {
          "line": {
           "color": "darkgrey",
           "width": 0.5
          },
          "type": "line",
          "x0": 26,
          "x1": 26,
          "y0": 29.73,
          "y1": 30.39
         },
         {
          "line": {
           "color": "darkgrey",
           "width": 0.5
          },
          "type": "line",
          "x0": 26,
          "x1": 26,
          "y0": 53,
          "y1": 52.5
         },
         {
          "line": {
           "color": "darkgrey",
           "width": 0.5
          },
          "type": "line",
          "x0": 27,
          "x1": 27,
          "y0": 0.2,
          "y1": 0.7
         },
         {
          "line": {
           "color": "darkgrey",
           "width": 0.5
          },
          "type": "line",
          "x0": 27,
          "x1": 27,
          "y0": 22.91,
          "y1": 23.57
         },
         {
          "line": {
           "color": "darkgrey",
           "width": 0.5
          },
          "type": "line",
          "x0": 27,
          "x1": 27,
          "y0": 29.73,
          "y1": 30.39
         },
         {
          "line": {
           "color": "darkgrey",
           "width": 0.5
          },
          "type": "line",
          "x0": 27,
          "x1": 27,
          "y0": 53,
          "y1": 52.5
         },
         {
          "line": {
           "color": "darkgrey",
           "width": 0.5
          },
          "type": "line",
          "x0": 28,
          "x1": 28,
          "y0": 0.2,
          "y1": 0.7
         },
         {
          "line": {
           "color": "darkgrey",
           "width": 0.5
          },
          "type": "line",
          "x0": 28,
          "x1": 28,
          "y0": 22.91,
          "y1": 23.57
         },
         {
          "line": {
           "color": "darkgrey",
           "width": 0.5
          },
          "type": "line",
          "x0": 28,
          "x1": 28,
          "y0": 29.73,
          "y1": 30.39
         },
         {
          "line": {
           "color": "darkgrey",
           "width": 0.5
          },
          "type": "line",
          "x0": 28,
          "x1": 28,
          "y0": 53,
          "y1": 52.5
         },
         {
          "line": {
           "color": "darkgrey",
           "width": 0.5
          },
          "type": "line",
          "x0": 29,
          "x1": 29,
          "y0": 0.2,
          "y1": 0.7
         },
         {
          "line": {
           "color": "darkgrey",
           "width": 0.5
          },
          "type": "line",
          "x0": 29,
          "x1": 29,
          "y0": 22.91,
          "y1": 23.57
         },
         {
          "line": {
           "color": "darkgrey",
           "width": 0.5
          },
          "type": "line",
          "x0": 29,
          "x1": 29,
          "y0": 29.73,
          "y1": 30.39
         },
         {
          "line": {
           "color": "darkgrey",
           "width": 0.5
          },
          "type": "line",
          "x0": 29,
          "x1": 29,
          "y0": 53,
          "y1": 52.5
         },
         {
          "line": {
           "color": "darkgrey",
           "width": 0.5
          },
          "type": "line",
          "x0": 30,
          "x1": 30,
          "y0": 0.2,
          "y1": 0.7
         },
         {
          "line": {
           "color": "darkgrey",
           "width": 0.5
          },
          "type": "line",
          "x0": 30,
          "x1": 30,
          "y0": 22.91,
          "y1": 23.57
         },
         {
          "line": {
           "color": "darkgrey",
           "width": 0.5
          },
          "type": "line",
          "x0": 30,
          "x1": 30,
          "y0": 29.73,
          "y1": 30.39
         },
         {
          "line": {
           "color": "darkgrey",
           "width": 0.5
          },
          "type": "line",
          "x0": 30,
          "x1": 30,
          "y0": 53,
          "y1": 52.5
         },
         {
          "line": {
           "color": "darkgrey",
           "width": 0.5
          },
          "type": "line",
          "x0": 31,
          "x1": 31,
          "y0": 0.2,
          "y1": 0.7
         },
         {
          "line": {
           "color": "darkgrey",
           "width": 0.5
          },
          "type": "line",
          "x0": 31,
          "x1": 31,
          "y0": 22.91,
          "y1": 23.57
         },
         {
          "line": {
           "color": "darkgrey",
           "width": 0.5
          },
          "type": "line",
          "x0": 31,
          "x1": 31,
          "y0": 29.73,
          "y1": 30.39
         },
         {
          "line": {
           "color": "darkgrey",
           "width": 0.5
          },
          "type": "line",
          "x0": 31,
          "x1": 31,
          "y0": 53,
          "y1": 52.5
         },
         {
          "line": {
           "color": "darkgrey",
           "width": 0.5
          },
          "type": "line",
          "x0": 32,
          "x1": 32,
          "y0": 0.2,
          "y1": 0.7
         },
         {
          "line": {
           "color": "darkgrey",
           "width": 0.5
          },
          "type": "line",
          "x0": 32,
          "x1": 32,
          "y0": 22.91,
          "y1": 23.57
         },
         {
          "line": {
           "color": "darkgrey",
           "width": 0.5
          },
          "type": "line",
          "x0": 32,
          "x1": 32,
          "y0": 29.73,
          "y1": 30.39
         },
         {
          "line": {
           "color": "darkgrey",
           "width": 0.5
          },
          "type": "line",
          "x0": 32,
          "x1": 32,
          "y0": 53,
          "y1": 52.5
         },
         {
          "line": {
           "color": "darkgrey",
           "width": 0.5
          },
          "type": "line",
          "x0": 33,
          "x1": 33,
          "y0": 0.2,
          "y1": 0.7
         },
         {
          "line": {
           "color": "darkgrey",
           "width": 0.5
          },
          "type": "line",
          "x0": 33,
          "x1": 33,
          "y0": 22.91,
          "y1": 23.57
         },
         {
          "line": {
           "color": "darkgrey",
           "width": 0.5
          },
          "type": "line",
          "x0": 33,
          "x1": 33,
          "y0": 29.73,
          "y1": 30.39
         },
         {
          "line": {
           "color": "darkgrey",
           "width": 0.5
          },
          "type": "line",
          "x0": 33,
          "x1": 33,
          "y0": 53,
          "y1": 52.5
         },
         {
          "line": {
           "color": "darkgrey",
           "width": 0.5
          },
          "type": "line",
          "x0": 34,
          "x1": 34,
          "y0": 0.2,
          "y1": 0.7
         },
         {
          "line": {
           "color": "darkgrey",
           "width": 0.5
          },
          "type": "line",
          "x0": 34,
          "x1": 34,
          "y0": 22.91,
          "y1": 23.57
         },
         {
          "line": {
           "color": "darkgrey",
           "width": 0.5
          },
          "type": "line",
          "x0": 34,
          "x1": 34,
          "y0": 29.73,
          "y1": 30.39
         },
         {
          "line": {
           "color": "darkgrey",
           "width": 0.5
          },
          "type": "line",
          "x0": 34,
          "x1": 34,
          "y0": 53,
          "y1": 52.5
         },
         {
          "line": {
           "color": "darkgrey",
           "width": 0.5
          },
          "type": "line",
          "x0": 35,
          "x1": 35,
          "y0": 0.2,
          "y1": 0.7
         },
         {
          "line": {
           "color": "darkgrey",
           "width": 0.5
          },
          "type": "line",
          "x0": 35,
          "x1": 35,
          "y0": 22.91,
          "y1": 23.57
         },
         {
          "line": {
           "color": "darkgrey",
           "width": 0.5
          },
          "type": "line",
          "x0": 35,
          "x1": 35,
          "y0": 29.73,
          "y1": 30.39
         },
         {
          "line": {
           "color": "darkgrey",
           "width": 0.5
          },
          "type": "line",
          "x0": 35,
          "x1": 35,
          "y0": 53,
          "y1": 52.5
         },
         {
          "line": {
           "color": "darkgrey",
           "width": 0.5
          },
          "type": "line",
          "x0": 36,
          "x1": 36,
          "y0": 0.2,
          "y1": 0.7
         },
         {
          "line": {
           "color": "darkgrey",
           "width": 0.5
          },
          "type": "line",
          "x0": 36,
          "x1": 36,
          "y0": 22.91,
          "y1": 23.57
         },
         {
          "line": {
           "color": "darkgrey",
           "width": 0.5
          },
          "type": "line",
          "x0": 36,
          "x1": 36,
          "y0": 29.73,
          "y1": 30.39
         },
         {
          "line": {
           "color": "darkgrey",
           "width": 0.5
          },
          "type": "line",
          "x0": 36,
          "x1": 36,
          "y0": 53,
          "y1": 52.5
         },
         {
          "line": {
           "color": "darkgrey",
           "width": 0.5
          },
          "type": "line",
          "x0": 37,
          "x1": 37,
          "y0": 0.2,
          "y1": 0.7
         },
         {
          "line": {
           "color": "darkgrey",
           "width": 0.5
          },
          "type": "line",
          "x0": 37,
          "x1": 37,
          "y0": 22.91,
          "y1": 23.57
         },
         {
          "line": {
           "color": "darkgrey",
           "width": 0.5
          },
          "type": "line",
          "x0": 37,
          "x1": 37,
          "y0": 29.73,
          "y1": 30.39
         },
         {
          "line": {
           "color": "darkgrey",
           "width": 0.5
          },
          "type": "line",
          "x0": 37,
          "x1": 37,
          "y0": 53,
          "y1": 52.5
         },
         {
          "line": {
           "color": "darkgrey",
           "width": 0.5
          },
          "type": "line",
          "x0": 38,
          "x1": 38,
          "y0": 0.2,
          "y1": 0.7
         },
         {
          "line": {
           "color": "darkgrey",
           "width": 0.5
          },
          "type": "line",
          "x0": 38,
          "x1": 38,
          "y0": 22.91,
          "y1": 23.57
         },
         {
          "line": {
           "color": "darkgrey",
           "width": 0.5
          },
          "type": "line",
          "x0": 38,
          "x1": 38,
          "y0": 29.73,
          "y1": 30.39
         },
         {
          "line": {
           "color": "darkgrey",
           "width": 0.5
          },
          "type": "line",
          "x0": 38,
          "x1": 38,
          "y0": 53,
          "y1": 52.5
         },
         {
          "line": {
           "color": "darkgrey",
           "width": 0.5
          },
          "type": "line",
          "x0": 39,
          "x1": 39,
          "y0": 0.2,
          "y1": 0.7
         },
         {
          "line": {
           "color": "darkgrey",
           "width": 0.5
          },
          "type": "line",
          "x0": 39,
          "x1": 39,
          "y0": 22.91,
          "y1": 23.57
         },
         {
          "line": {
           "color": "darkgrey",
           "width": 0.5
          },
          "type": "line",
          "x0": 39,
          "x1": 39,
          "y0": 29.73,
          "y1": 30.39
         },
         {
          "line": {
           "color": "darkgrey",
           "width": 0.5
          },
          "type": "line",
          "x0": 39,
          "x1": 39,
          "y0": 53,
          "y1": 52.5
         },
         {
          "line": {
           "color": "darkgrey",
           "width": 0.5
          },
          "type": "line",
          "x0": 40,
          "x1": 40,
          "y0": 0.2,
          "y1": 0.7
         },
         {
          "line": {
           "color": "darkgrey",
           "width": 0.5
          },
          "type": "line",
          "x0": 40,
          "x1": 40,
          "y0": 22.91,
          "y1": 23.57
         },
         {
          "line": {
           "color": "darkgrey",
           "width": 0.5
          },
          "type": "line",
          "x0": 40,
          "x1": 40,
          "y0": 29.73,
          "y1": 30.39
         },
         {
          "line": {
           "color": "darkgrey",
           "width": 0.5
          },
          "type": "line",
          "x0": 40,
          "x1": 40,
          "y0": 53,
          "y1": 52.5
         },
         {
          "line": {
           "color": "darkgrey",
           "width": 0.5
          },
          "type": "line",
          "x0": 41,
          "x1": 41,
          "y0": 0.2,
          "y1": 0.7
         },
         {
          "line": {
           "color": "darkgrey",
           "width": 0.5
          },
          "type": "line",
          "x0": 41,
          "x1": 41,
          "y0": 22.91,
          "y1": 23.57
         },
         {
          "line": {
           "color": "darkgrey",
           "width": 0.5
          },
          "type": "line",
          "x0": 41,
          "x1": 41,
          "y0": 29.73,
          "y1": 30.39
         },
         {
          "line": {
           "color": "darkgrey",
           "width": 0.5
          },
          "type": "line",
          "x0": 41,
          "x1": 41,
          "y0": 53,
          "y1": 52.5
         },
         {
          "line": {
           "color": "darkgrey",
           "width": 0.5
          },
          "type": "line",
          "x0": 42,
          "x1": 42,
          "y0": 0.2,
          "y1": 0.7
         },
         {
          "line": {
           "color": "darkgrey",
           "width": 0.5
          },
          "type": "line",
          "x0": 42,
          "x1": 42,
          "y0": 22.91,
          "y1": 23.57
         },
         {
          "line": {
           "color": "darkgrey",
           "width": 0.5
          },
          "type": "line",
          "x0": 42,
          "x1": 42,
          "y0": 29.73,
          "y1": 30.39
         },
         {
          "line": {
           "color": "darkgrey",
           "width": 0.5
          },
          "type": "line",
          "x0": 42,
          "x1": 42,
          "y0": 53,
          "y1": 52.5
         },
         {
          "line": {
           "color": "darkgrey",
           "width": 0.5
          },
          "type": "line",
          "x0": 43,
          "x1": 43,
          "y0": 0.2,
          "y1": 0.7
         },
         {
          "line": {
           "color": "darkgrey",
           "width": 0.5
          },
          "type": "line",
          "x0": 43,
          "x1": 43,
          "y0": 22.91,
          "y1": 23.57
         },
         {
          "line": {
           "color": "darkgrey",
           "width": 0.5
          },
          "type": "line",
          "x0": 43,
          "x1": 43,
          "y0": 29.73,
          "y1": 30.39
         },
         {
          "line": {
           "color": "darkgrey",
           "width": 0.5
          },
          "type": "line",
          "x0": 43,
          "x1": 43,
          "y0": 53,
          "y1": 52.5
         },
         {
          "line": {
           "color": "darkgrey",
           "width": 0.5
          },
          "type": "line",
          "x0": 44,
          "x1": 44,
          "y0": 0.2,
          "y1": 0.7
         },
         {
          "line": {
           "color": "darkgrey",
           "width": 0.5
          },
          "type": "line",
          "x0": 44,
          "x1": 44,
          "y0": 22.91,
          "y1": 23.57
         },
         {
          "line": {
           "color": "darkgrey",
           "width": 0.5
          },
          "type": "line",
          "x0": 44,
          "x1": 44,
          "y0": 29.73,
          "y1": 30.39
         },
         {
          "line": {
           "color": "darkgrey",
           "width": 0.5
          },
          "type": "line",
          "x0": 44,
          "x1": 44,
          "y0": 53,
          "y1": 52.5
         },
         {
          "line": {
           "color": "darkgrey",
           "width": 0.5
          },
          "type": "line",
          "x0": 45,
          "x1": 45,
          "y0": 0.2,
          "y1": 0.7
         },
         {
          "line": {
           "color": "darkgrey",
           "width": 0.5
          },
          "type": "line",
          "x0": 45,
          "x1": 45,
          "y0": 22.91,
          "y1": 23.57
         },
         {
          "line": {
           "color": "darkgrey",
           "width": 0.5
          },
          "type": "line",
          "x0": 45,
          "x1": 45,
          "y0": 29.73,
          "y1": 30.39
         },
         {
          "line": {
           "color": "darkgrey",
           "width": 0.5
          },
          "type": "line",
          "x0": 45,
          "x1": 45,
          "y0": 53,
          "y1": 52.5
         },
         {
          "line": {
           "color": "darkgrey",
           "width": 0.5
          },
          "type": "line",
          "x0": 46,
          "x1": 46,
          "y0": 0.2,
          "y1": 0.7
         },
         {
          "line": {
           "color": "darkgrey",
           "width": 0.5
          },
          "type": "line",
          "x0": 46,
          "x1": 46,
          "y0": 22.91,
          "y1": 23.57
         },
         {
          "line": {
           "color": "darkgrey",
           "width": 0.5
          },
          "type": "line",
          "x0": 46,
          "x1": 46,
          "y0": 29.73,
          "y1": 30.39
         },
         {
          "line": {
           "color": "darkgrey",
           "width": 0.5
          },
          "type": "line",
          "x0": 46,
          "x1": 46,
          "y0": 53,
          "y1": 52.5
         },
         {
          "line": {
           "color": "darkgrey",
           "width": 0.5
          },
          "type": "line",
          "x0": 47,
          "x1": 47,
          "y0": 0.2,
          "y1": 0.7
         },
         {
          "line": {
           "color": "darkgrey",
           "width": 0.5
          },
          "type": "line",
          "x0": 47,
          "x1": 47,
          "y0": 22.91,
          "y1": 23.57
         },
         {
          "line": {
           "color": "darkgrey",
           "width": 0.5
          },
          "type": "line",
          "x0": 47,
          "x1": 47,
          "y0": 29.73,
          "y1": 30.39
         },
         {
          "line": {
           "color": "darkgrey",
           "width": 0.5
          },
          "type": "line",
          "x0": 47,
          "x1": 47,
          "y0": 53,
          "y1": 52.5
         },
         {
          "line": {
           "color": "darkgrey",
           "width": 0.5
          },
          "type": "line",
          "x0": 48,
          "x1": 48,
          "y0": 0.2,
          "y1": 0.7
         },
         {
          "line": {
           "color": "darkgrey",
           "width": 0.5
          },
          "type": "line",
          "x0": 48,
          "x1": 48,
          "y0": 22.91,
          "y1": 23.57
         },
         {
          "line": {
           "color": "darkgrey",
           "width": 0.5
          },
          "type": "line",
          "x0": 48,
          "x1": 48,
          "y0": 29.73,
          "y1": 30.39
         },
         {
          "line": {
           "color": "darkgrey",
           "width": 0.5
          },
          "type": "line",
          "x0": 48,
          "x1": 48,
          "y0": 53,
          "y1": 52.5
         },
         {
          "line": {
           "color": "darkgrey",
           "width": 0.5
          },
          "type": "line",
          "x0": 49,
          "x1": 49,
          "y0": 0.2,
          "y1": 0.7
         },
         {
          "line": {
           "color": "darkgrey",
           "width": 0.5
          },
          "type": "line",
          "x0": 49,
          "x1": 49,
          "y0": 22.91,
          "y1": 23.57
         },
         {
          "line": {
           "color": "darkgrey",
           "width": 0.5
          },
          "type": "line",
          "x0": 49,
          "x1": 49,
          "y0": 29.73,
          "y1": 30.39
         },
         {
          "line": {
           "color": "darkgrey",
           "width": 0.5
          },
          "type": "line",
          "x0": 49,
          "x1": 49,
          "y0": 53,
          "y1": 52.5
         },
         {
          "line": {
           "color": "darkgrey",
           "width": 0.5
          },
          "type": "line",
          "x0": 50,
          "x1": 50,
          "y0": 0.2,
          "y1": 0.7
         },
         {
          "line": {
           "color": "darkgrey",
           "width": 0.5
          },
          "type": "line",
          "x0": 50,
          "x1": 50,
          "y0": 22.91,
          "y1": 23.57
         },
         {
          "line": {
           "color": "darkgrey",
           "width": 0.5
          },
          "type": "line",
          "x0": 50,
          "x1": 50,
          "y0": 29.73,
          "y1": 30.39
         },
         {
          "line": {
           "color": "darkgrey",
           "width": 0.5
          },
          "type": "line",
          "x0": 50,
          "x1": 50,
          "y0": 53,
          "y1": 52.5
         },
         {
          "line": {
           "color": "darkgrey",
           "width": 0.5
          },
          "type": "line",
          "x0": 51,
          "x1": 51,
          "y0": 0.2,
          "y1": 0.7
         },
         {
          "line": {
           "color": "darkgrey",
           "width": 0.5
          },
          "type": "line",
          "x0": 51,
          "x1": 51,
          "y0": 22.91,
          "y1": 23.57
         },
         {
          "line": {
           "color": "darkgrey",
           "width": 0.5
          },
          "type": "line",
          "x0": 51,
          "x1": 51,
          "y0": 29.73,
          "y1": 30.39
         },
         {
          "line": {
           "color": "darkgrey",
           "width": 0.5
          },
          "type": "line",
          "x0": 51,
          "x1": 51,
          "y0": 53,
          "y1": 52.5
         },
         {
          "line": {
           "color": "darkgrey",
           "width": 0.5
          },
          "type": "line",
          "x0": 52,
          "x1": 52,
          "y0": 0.2,
          "y1": 0.7
         },
         {
          "line": {
           "color": "darkgrey",
           "width": 0.5
          },
          "type": "line",
          "x0": 52,
          "x1": 52,
          "y0": 22.91,
          "y1": 23.57
         },
         {
          "line": {
           "color": "darkgrey",
           "width": 0.5
          },
          "type": "line",
          "x0": 52,
          "x1": 52,
          "y0": 29.73,
          "y1": 30.39
         },
         {
          "line": {
           "color": "darkgrey",
           "width": 0.5
          },
          "type": "line",
          "x0": 52,
          "x1": 52,
          "y0": 53,
          "y1": 52.5
         },
         {
          "line": {
           "color": "darkgrey",
           "width": 0.5
          },
          "type": "line",
          "x0": 53,
          "x1": 53,
          "y0": 0.2,
          "y1": 0.7
         },
         {
          "line": {
           "color": "darkgrey",
           "width": 0.5
          },
          "type": "line",
          "x0": 53,
          "x1": 53,
          "y0": 22.91,
          "y1": 23.57
         },
         {
          "line": {
           "color": "darkgrey",
           "width": 0.5
          },
          "type": "line",
          "x0": 53,
          "x1": 53,
          "y0": 29.73,
          "y1": 30.39
         },
         {
          "line": {
           "color": "darkgrey",
           "width": 0.5
          },
          "type": "line",
          "x0": 53,
          "x1": 53,
          "y0": 53,
          "y1": 52.5
         },
         {
          "line": {
           "color": "darkgrey",
           "width": 0.5
          },
          "type": "line",
          "x0": 54,
          "x1": 54,
          "y0": 0.2,
          "y1": 0.7
         },
         {
          "line": {
           "color": "darkgrey",
           "width": 0.5
          },
          "type": "line",
          "x0": 54,
          "x1": 54,
          "y0": 22.91,
          "y1": 23.57
         },
         {
          "line": {
           "color": "darkgrey",
           "width": 0.5
          },
          "type": "line",
          "x0": 54,
          "x1": 54,
          "y0": 29.73,
          "y1": 30.39
         },
         {
          "line": {
           "color": "darkgrey",
           "width": 0.5
          },
          "type": "line",
          "x0": 54,
          "x1": 54,
          "y0": 53,
          "y1": 52.5
         },
         {
          "line": {
           "color": "darkgrey",
           "width": 0.5
          },
          "type": "line",
          "x0": 55,
          "x1": 55,
          "y0": 0.2,
          "y1": 0.7
         },
         {
          "line": {
           "color": "darkgrey",
           "width": 0.5
          },
          "type": "line",
          "x0": 55,
          "x1": 55,
          "y0": 22.91,
          "y1": 23.57
         },
         {
          "line": {
           "color": "darkgrey",
           "width": 0.5
          },
          "type": "line",
          "x0": 55,
          "x1": 55,
          "y0": 29.73,
          "y1": 30.39
         },
         {
          "line": {
           "color": "darkgrey",
           "width": 0.5
          },
          "type": "line",
          "x0": 55,
          "x1": 55,
          "y0": 53,
          "y1": 52.5
         },
         {
          "line": {
           "color": "darkgrey",
           "width": 0.5
          },
          "type": "line",
          "x0": 56,
          "x1": 56,
          "y0": 0.2,
          "y1": 0.7
         },
         {
          "line": {
           "color": "darkgrey",
           "width": 0.5
          },
          "type": "line",
          "x0": 56,
          "x1": 56,
          "y0": 22.91,
          "y1": 23.57
         },
         {
          "line": {
           "color": "darkgrey",
           "width": 0.5
          },
          "type": "line",
          "x0": 56,
          "x1": 56,
          "y0": 29.73,
          "y1": 30.39
         },
         {
          "line": {
           "color": "darkgrey",
           "width": 0.5
          },
          "type": "line",
          "x0": 56,
          "x1": 56,
          "y0": 53,
          "y1": 52.5
         },
         {
          "line": {
           "color": "darkgrey",
           "width": 0.5
          },
          "type": "line",
          "x0": 57,
          "x1": 57,
          "y0": 0.2,
          "y1": 0.7
         },
         {
          "line": {
           "color": "darkgrey",
           "width": 0.5
          },
          "type": "line",
          "x0": 57,
          "x1": 57,
          "y0": 22.91,
          "y1": 23.57
         },
         {
          "line": {
           "color": "darkgrey",
           "width": 0.5
          },
          "type": "line",
          "x0": 57,
          "x1": 57,
          "y0": 29.73,
          "y1": 30.39
         },
         {
          "line": {
           "color": "darkgrey",
           "width": 0.5
          },
          "type": "line",
          "x0": 57,
          "x1": 57,
          "y0": 53,
          "y1": 52.5
         },
         {
          "line": {
           "color": "darkgrey",
           "width": 0.5
          },
          "type": "line",
          "x0": 58,
          "x1": 58,
          "y0": 0.2,
          "y1": 0.7
         },
         {
          "line": {
           "color": "darkgrey",
           "width": 0.5
          },
          "type": "line",
          "x0": 58,
          "x1": 58,
          "y0": 22.91,
          "y1": 23.57
         },
         {
          "line": {
           "color": "darkgrey",
           "width": 0.5
          },
          "type": "line",
          "x0": 58,
          "x1": 58,
          "y0": 29.73,
          "y1": 30.39
         },
         {
          "line": {
           "color": "darkgrey",
           "width": 0.5
          },
          "type": "line",
          "x0": 58,
          "x1": 58,
          "y0": 53,
          "y1": 52.5
         },
         {
          "line": {
           "color": "darkgrey",
           "width": 0.5
          },
          "type": "line",
          "x0": 59,
          "x1": 59,
          "y0": 0.2,
          "y1": 0.7
         },
         {
          "line": {
           "color": "darkgrey",
           "width": 0.5
          },
          "type": "line",
          "x0": 59,
          "x1": 59,
          "y0": 22.91,
          "y1": 23.57
         },
         {
          "line": {
           "color": "darkgrey",
           "width": 0.5
          },
          "type": "line",
          "x0": 59,
          "x1": 59,
          "y0": 29.73,
          "y1": 30.39
         },
         {
          "line": {
           "color": "darkgrey",
           "width": 0.5
          },
          "type": "line",
          "x0": 59,
          "x1": 59,
          "y0": 53,
          "y1": 52.5
         },
         {
          "line": {
           "color": "darkgrey",
           "width": 0.5
          },
          "type": "line",
          "x0": 60,
          "x1": 60,
          "y0": 0.2,
          "y1": 0.7
         },
         {
          "line": {
           "color": "darkgrey",
           "width": 0.5
          },
          "type": "line",
          "x0": 60,
          "x1": 60,
          "y0": 22.91,
          "y1": 23.57
         },
         {
          "line": {
           "color": "darkgrey",
           "width": 0.5
          },
          "type": "line",
          "x0": 60,
          "x1": 60,
          "y0": 29.73,
          "y1": 30.39
         },
         {
          "line": {
           "color": "darkgrey",
           "width": 0.5
          },
          "type": "line",
          "x0": 60,
          "x1": 60,
          "y0": 53,
          "y1": 52.5
         },
         {
          "line": {
           "color": "darkgrey",
           "width": 0.5
          },
          "type": "line",
          "x0": 61,
          "x1": 61,
          "y0": 0.2,
          "y1": 0.7
         },
         {
          "line": {
           "color": "darkgrey",
           "width": 0.5
          },
          "type": "line",
          "x0": 61,
          "x1": 61,
          "y0": 22.91,
          "y1": 23.57
         },
         {
          "line": {
           "color": "darkgrey",
           "width": 0.5
          },
          "type": "line",
          "x0": 61,
          "x1": 61,
          "y0": 29.73,
          "y1": 30.39
         },
         {
          "line": {
           "color": "darkgrey",
           "width": 0.5
          },
          "type": "line",
          "x0": 61,
          "x1": 61,
          "y0": 53,
          "y1": 52.5
         },
         {
          "line": {
           "color": "darkgrey",
           "width": 0.5
          },
          "type": "line",
          "x0": 62,
          "x1": 62,
          "y0": 0.2,
          "y1": 0.7
         },
         {
          "line": {
           "color": "darkgrey",
           "width": 0.5
          },
          "type": "line",
          "x0": 62,
          "x1": 62,
          "y0": 22.91,
          "y1": 23.57
         },
         {
          "line": {
           "color": "darkgrey",
           "width": 0.5
          },
          "type": "line",
          "x0": 62,
          "x1": 62,
          "y0": 29.73,
          "y1": 30.39
         },
         {
          "line": {
           "color": "darkgrey",
           "width": 0.5
          },
          "type": "line",
          "x0": 62,
          "x1": 62,
          "y0": 53,
          "y1": 52.5
         },
         {
          "line": {
           "color": "darkgrey",
           "width": 0.5
          },
          "type": "line",
          "x0": 63,
          "x1": 63,
          "y0": 0.2,
          "y1": 0.7
         },
         {
          "line": {
           "color": "darkgrey",
           "width": 0.5
          },
          "type": "line",
          "x0": 63,
          "x1": 63,
          "y0": 22.91,
          "y1": 23.57
         },
         {
          "line": {
           "color": "darkgrey",
           "width": 0.5
          },
          "type": "line",
          "x0": 63,
          "x1": 63,
          "y0": 29.73,
          "y1": 30.39
         },
         {
          "line": {
           "color": "darkgrey",
           "width": 0.5
          },
          "type": "line",
          "x0": 63,
          "x1": 63,
          "y0": 53,
          "y1": 52.5
         },
         {
          "line": {
           "color": "darkgrey",
           "width": 0.5
          },
          "type": "line",
          "x0": 64,
          "x1": 64,
          "y0": 0.2,
          "y1": 0.7
         },
         {
          "line": {
           "color": "darkgrey",
           "width": 0.5
          },
          "type": "line",
          "x0": 64,
          "x1": 64,
          "y0": 22.91,
          "y1": 23.57
         },
         {
          "line": {
           "color": "darkgrey",
           "width": 0.5
          },
          "type": "line",
          "x0": 64,
          "x1": 64,
          "y0": 29.73,
          "y1": 30.39
         },
         {
          "line": {
           "color": "darkgrey",
           "width": 0.5
          },
          "type": "line",
          "x0": 64,
          "x1": 64,
          "y0": 53,
          "y1": 52.5
         },
         {
          "line": {
           "color": "darkgrey",
           "width": 0.5
          },
          "type": "line",
          "x0": 65,
          "x1": 65,
          "y0": 0.2,
          "y1": 0.7
         },
         {
          "line": {
           "color": "darkgrey",
           "width": 0.5
          },
          "type": "line",
          "x0": 65,
          "x1": 65,
          "y0": 22.91,
          "y1": 23.57
         },
         {
          "line": {
           "color": "darkgrey",
           "width": 0.5
          },
          "type": "line",
          "x0": 65,
          "x1": 65,
          "y0": 29.73,
          "y1": 30.39
         },
         {
          "line": {
           "color": "darkgrey",
           "width": 0.5
          },
          "type": "line",
          "x0": 65,
          "x1": 65,
          "y0": 53,
          "y1": 52.5
         },
         {
          "line": {
           "color": "darkgrey",
           "width": 0.5
          },
          "type": "line",
          "x0": 66,
          "x1": 66,
          "y0": 0.2,
          "y1": 0.7
         },
         {
          "line": {
           "color": "darkgrey",
           "width": 0.5
          },
          "type": "line",
          "x0": 66,
          "x1": 66,
          "y0": 22.91,
          "y1": 23.57
         },
         {
          "line": {
           "color": "darkgrey",
           "width": 0.5
          },
          "type": "line",
          "x0": 66,
          "x1": 66,
          "y0": 29.73,
          "y1": 30.39
         },
         {
          "line": {
           "color": "darkgrey",
           "width": 0.5
          },
          "type": "line",
          "x0": 66,
          "x1": 66,
          "y0": 53,
          "y1": 52.5
         },
         {
          "line": {
           "color": "darkgrey",
           "width": 0.5
          },
          "type": "line",
          "x0": 67,
          "x1": 67,
          "y0": 0.2,
          "y1": 0.7
         },
         {
          "line": {
           "color": "darkgrey",
           "width": 0.5
          },
          "type": "line",
          "x0": 67,
          "x1": 67,
          "y0": 22.91,
          "y1": 23.57
         },
         {
          "line": {
           "color": "darkgrey",
           "width": 0.5
          },
          "type": "line",
          "x0": 67,
          "x1": 67,
          "y0": 29.73,
          "y1": 30.39
         },
         {
          "line": {
           "color": "darkgrey",
           "width": 0.5
          },
          "type": "line",
          "x0": 67,
          "x1": 67,
          "y0": 53,
          "y1": 52.5
         },
         {
          "line": {
           "color": "darkgrey",
           "width": 0.5
          },
          "type": "line",
          "x0": 68,
          "x1": 68,
          "y0": 0.2,
          "y1": 0.7
         },
         {
          "line": {
           "color": "darkgrey",
           "width": 0.5
          },
          "type": "line",
          "x0": 68,
          "x1": 68,
          "y0": 22.91,
          "y1": 23.57
         },
         {
          "line": {
           "color": "darkgrey",
           "width": 0.5
          },
          "type": "line",
          "x0": 68,
          "x1": 68,
          "y0": 29.73,
          "y1": 30.39
         },
         {
          "line": {
           "color": "darkgrey",
           "width": 0.5
          },
          "type": "line",
          "x0": 68,
          "x1": 68,
          "y0": 53,
          "y1": 52.5
         },
         {
          "line": {
           "color": "darkgrey",
           "width": 0.5
          },
          "type": "line",
          "x0": 69,
          "x1": 69,
          "y0": 0.2,
          "y1": 0.7
         },
         {
          "line": {
           "color": "darkgrey",
           "width": 0.5
          },
          "type": "line",
          "x0": 69,
          "x1": 69,
          "y0": 22.91,
          "y1": 23.57
         },
         {
          "line": {
           "color": "darkgrey",
           "width": 0.5
          },
          "type": "line",
          "x0": 69,
          "x1": 69,
          "y0": 29.73,
          "y1": 30.39
         },
         {
          "line": {
           "color": "darkgrey",
           "width": 0.5
          },
          "type": "line",
          "x0": 69,
          "x1": 69,
          "y0": 53,
          "y1": 52.5
         },
         {
          "line": {
           "color": "darkgrey",
           "width": 0.5
          },
          "type": "line",
          "x0": 70,
          "x1": 70,
          "y0": 0.2,
          "y1": 0.7
         },
         {
          "line": {
           "color": "darkgrey",
           "width": 0.5
          },
          "type": "line",
          "x0": 70,
          "x1": 70,
          "y0": 22.91,
          "y1": 23.57
         },
         {
          "line": {
           "color": "darkgrey",
           "width": 0.5
          },
          "type": "line",
          "x0": 70,
          "x1": 70,
          "y0": 29.73,
          "y1": 30.39
         },
         {
          "line": {
           "color": "darkgrey",
           "width": 0.5
          },
          "type": "line",
          "x0": 70,
          "x1": 70,
          "y0": 53,
          "y1": 52.5
         },
         {
          "line": {
           "color": "darkgrey",
           "width": 0.5
          },
          "type": "line",
          "x0": 71,
          "x1": 71,
          "y0": 0.2,
          "y1": 0.7
         },
         {
          "line": {
           "color": "darkgrey",
           "width": 0.5
          },
          "type": "line",
          "x0": 71,
          "x1": 71,
          "y0": 22.91,
          "y1": 23.57
         },
         {
          "line": {
           "color": "darkgrey",
           "width": 0.5
          },
          "type": "line",
          "x0": 71,
          "x1": 71,
          "y0": 29.73,
          "y1": 30.39
         },
         {
          "line": {
           "color": "darkgrey",
           "width": 0.5
          },
          "type": "line",
          "x0": 71,
          "x1": 71,
          "y0": 53,
          "y1": 52.5
         },
         {
          "line": {
           "color": "darkgrey",
           "width": 0.5
          },
          "type": "line",
          "x0": 72,
          "x1": 72,
          "y0": 0.2,
          "y1": 0.7
         },
         {
          "line": {
           "color": "darkgrey",
           "width": 0.5
          },
          "type": "line",
          "x0": 72,
          "x1": 72,
          "y0": 22.91,
          "y1": 23.57
         },
         {
          "line": {
           "color": "darkgrey",
           "width": 0.5
          },
          "type": "line",
          "x0": 72,
          "x1": 72,
          "y0": 29.73,
          "y1": 30.39
         },
         {
          "line": {
           "color": "darkgrey",
           "width": 0.5
          },
          "type": "line",
          "x0": 72,
          "x1": 72,
          "y0": 53,
          "y1": 52.5
         },
         {
          "line": {
           "color": "darkgrey",
           "width": 0.5
          },
          "type": "line",
          "x0": 73,
          "x1": 73,
          "y0": 0.2,
          "y1": 0.7
         },
         {
          "line": {
           "color": "darkgrey",
           "width": 0.5
          },
          "type": "line",
          "x0": 73,
          "x1": 73,
          "y0": 22.91,
          "y1": 23.57
         },
         {
          "line": {
           "color": "darkgrey",
           "width": 0.5
          },
          "type": "line",
          "x0": 73,
          "x1": 73,
          "y0": 29.73,
          "y1": 30.39
         },
         {
          "line": {
           "color": "darkgrey",
           "width": 0.5
          },
          "type": "line",
          "x0": 73,
          "x1": 73,
          "y0": 53,
          "y1": 52.5
         },
         {
          "line": {
           "color": "darkgrey",
           "width": 0.5
          },
          "type": "line",
          "x0": 74,
          "x1": 74,
          "y0": 0.2,
          "y1": 0.7
         },
         {
          "line": {
           "color": "darkgrey",
           "width": 0.5
          },
          "type": "line",
          "x0": 74,
          "x1": 74,
          "y0": 22.91,
          "y1": 23.57
         },
         {
          "line": {
           "color": "darkgrey",
           "width": 0.5
          },
          "type": "line",
          "x0": 74,
          "x1": 74,
          "y0": 29.73,
          "y1": 30.39
         },
         {
          "line": {
           "color": "darkgrey",
           "width": 0.5
          },
          "type": "line",
          "x0": 74,
          "x1": 74,
          "y0": 53,
          "y1": 52.5
         },
         {
          "line": {
           "color": "darkgrey",
           "width": 0.5
          },
          "type": "line",
          "x0": 75,
          "x1": 75,
          "y0": 0.2,
          "y1": 0.7
         },
         {
          "line": {
           "color": "darkgrey",
           "width": 0.5
          },
          "type": "line",
          "x0": 75,
          "x1": 75,
          "y0": 22.91,
          "y1": 23.57
         },
         {
          "line": {
           "color": "darkgrey",
           "width": 0.5
          },
          "type": "line",
          "x0": 75,
          "x1": 75,
          "y0": 29.73,
          "y1": 30.39
         },
         {
          "line": {
           "color": "darkgrey",
           "width": 0.5
          },
          "type": "line",
          "x0": 75,
          "x1": 75,
          "y0": 53,
          "y1": 52.5
         },
         {
          "line": {
           "color": "darkgrey",
           "width": 0.5
          },
          "type": "line",
          "x0": 76,
          "x1": 76,
          "y0": 0.2,
          "y1": 0.7
         },
         {
          "line": {
           "color": "darkgrey",
           "width": 0.5
          },
          "type": "line",
          "x0": 76,
          "x1": 76,
          "y0": 22.91,
          "y1": 23.57
         },
         {
          "line": {
           "color": "darkgrey",
           "width": 0.5
          },
          "type": "line",
          "x0": 76,
          "x1": 76,
          "y0": 29.73,
          "y1": 30.39
         },
         {
          "line": {
           "color": "darkgrey",
           "width": 0.5
          },
          "type": "line",
          "x0": 76,
          "x1": 76,
          "y0": 53,
          "y1": 52.5
         },
         {
          "line": {
           "color": "darkgrey",
           "width": 0.5
          },
          "type": "line",
          "x0": 77,
          "x1": 77,
          "y0": 0.2,
          "y1": 0.7
         },
         {
          "line": {
           "color": "darkgrey",
           "width": 0.5
          },
          "type": "line",
          "x0": 77,
          "x1": 77,
          "y0": 22.91,
          "y1": 23.57
         },
         {
          "line": {
           "color": "darkgrey",
           "width": 0.5
          },
          "type": "line",
          "x0": 77,
          "x1": 77,
          "y0": 29.73,
          "y1": 30.39
         },
         {
          "line": {
           "color": "darkgrey",
           "width": 0.5
          },
          "type": "line",
          "x0": 77,
          "x1": 77,
          "y0": 53,
          "y1": 52.5
         },
         {
          "line": {
           "color": "darkgrey",
           "width": 0.5
          },
          "type": "line",
          "x0": 78,
          "x1": 78,
          "y0": 0.2,
          "y1": 0.7
         },
         {
          "line": {
           "color": "darkgrey",
           "width": 0.5
          },
          "type": "line",
          "x0": 78,
          "x1": 78,
          "y0": 22.91,
          "y1": 23.57
         },
         {
          "line": {
           "color": "darkgrey",
           "width": 0.5
          },
          "type": "line",
          "x0": 78,
          "x1": 78,
          "y0": 29.73,
          "y1": 30.39
         },
         {
          "line": {
           "color": "darkgrey",
           "width": 0.5
          },
          "type": "line",
          "x0": 78,
          "x1": 78,
          "y0": 53,
          "y1": 52.5
         },
         {
          "line": {
           "color": "darkgrey",
           "width": 0.5
          },
          "type": "line",
          "x0": 79,
          "x1": 79,
          "y0": 0.2,
          "y1": 0.7
         },
         {
          "line": {
           "color": "darkgrey",
           "width": 0.5
          },
          "type": "line",
          "x0": 79,
          "x1": 79,
          "y0": 22.91,
          "y1": 23.57
         },
         {
          "line": {
           "color": "darkgrey",
           "width": 0.5
          },
          "type": "line",
          "x0": 79,
          "x1": 79,
          "y0": 29.73,
          "y1": 30.39
         },
         {
          "line": {
           "color": "darkgrey",
           "width": 0.5
          },
          "type": "line",
          "x0": 79,
          "x1": 79,
          "y0": 53,
          "y1": 52.5
         },
         {
          "line": {
           "color": "darkgrey",
           "width": 0.5
          },
          "type": "line",
          "x0": 80,
          "x1": 80,
          "y0": 0.2,
          "y1": 0.7
         },
         {
          "line": {
           "color": "darkgrey",
           "width": 0.5
          },
          "type": "line",
          "x0": 80,
          "x1": 80,
          "y0": 22.91,
          "y1": 23.57
         },
         {
          "line": {
           "color": "darkgrey",
           "width": 0.5
          },
          "type": "line",
          "x0": 80,
          "x1": 80,
          "y0": 29.73,
          "y1": 30.39
         },
         {
          "line": {
           "color": "darkgrey",
           "width": 0.5
          },
          "type": "line",
          "x0": 80,
          "x1": 80,
          "y0": 53,
          "y1": 52.5
         },
         {
          "line": {
           "color": "darkgrey",
           "width": 0.5
          },
          "type": "line",
          "x0": 81,
          "x1": 81,
          "y0": 0.2,
          "y1": 0.7
         },
         {
          "line": {
           "color": "darkgrey",
           "width": 0.5
          },
          "type": "line",
          "x0": 81,
          "x1": 81,
          "y0": 22.91,
          "y1": 23.57
         },
         {
          "line": {
           "color": "darkgrey",
           "width": 0.5
          },
          "type": "line",
          "x0": 81,
          "x1": 81,
          "y0": 29.73,
          "y1": 30.39
         },
         {
          "line": {
           "color": "darkgrey",
           "width": 0.5
          },
          "type": "line",
          "x0": 81,
          "x1": 81,
          "y0": 53,
          "y1": 52.5
         },
         {
          "line": {
           "color": "darkgrey",
           "width": 0.5
          },
          "type": "line",
          "x0": 82,
          "x1": 82,
          "y0": 0.2,
          "y1": 0.7
         },
         {
          "line": {
           "color": "darkgrey",
           "width": 0.5
          },
          "type": "line",
          "x0": 82,
          "x1": 82,
          "y0": 22.91,
          "y1": 23.57
         },
         {
          "line": {
           "color": "darkgrey",
           "width": 0.5
          },
          "type": "line",
          "x0": 82,
          "x1": 82,
          "y0": 29.73,
          "y1": 30.39
         },
         {
          "line": {
           "color": "darkgrey",
           "width": 0.5
          },
          "type": "line",
          "x0": 82,
          "x1": 82,
          "y0": 53,
          "y1": 52.5
         },
         {
          "line": {
           "color": "darkgrey",
           "width": 0.5
          },
          "type": "line",
          "x0": 83,
          "x1": 83,
          "y0": 0.2,
          "y1": 0.7
         },
         {
          "line": {
           "color": "darkgrey",
           "width": 0.5
          },
          "type": "line",
          "x0": 83,
          "x1": 83,
          "y0": 22.91,
          "y1": 23.57
         },
         {
          "line": {
           "color": "darkgrey",
           "width": 0.5
          },
          "type": "line",
          "x0": 83,
          "x1": 83,
          "y0": 29.73,
          "y1": 30.39
         },
         {
          "line": {
           "color": "darkgrey",
           "width": 0.5
          },
          "type": "line",
          "x0": 83,
          "x1": 83,
          "y0": 53,
          "y1": 52.5
         },
         {
          "line": {
           "color": "darkgrey",
           "width": 0.5
          },
          "type": "line",
          "x0": 84,
          "x1": 84,
          "y0": 0.2,
          "y1": 0.7
         },
         {
          "line": {
           "color": "darkgrey",
           "width": 0.5
          },
          "type": "line",
          "x0": 84,
          "x1": 84,
          "y0": 22.91,
          "y1": 23.57
         },
         {
          "line": {
           "color": "darkgrey",
           "width": 0.5
          },
          "type": "line",
          "x0": 84,
          "x1": 84,
          "y0": 29.73,
          "y1": 30.39
         },
         {
          "line": {
           "color": "darkgrey",
           "width": 0.5
          },
          "type": "line",
          "x0": 84,
          "x1": 84,
          "y0": 53,
          "y1": 52.5
         },
         {
          "line": {
           "color": "darkgrey",
           "width": 0.5
          },
          "type": "line",
          "x0": 85,
          "x1": 85,
          "y0": 0.2,
          "y1": 0.7
         },
         {
          "line": {
           "color": "darkgrey",
           "width": 0.5
          },
          "type": "line",
          "x0": 85,
          "x1": 85,
          "y0": 22.91,
          "y1": 23.57
         },
         {
          "line": {
           "color": "darkgrey",
           "width": 0.5
          },
          "type": "line",
          "x0": 85,
          "x1": 85,
          "y0": 29.73,
          "y1": 30.39
         },
         {
          "line": {
           "color": "darkgrey",
           "width": 0.5
          },
          "type": "line",
          "x0": 85,
          "x1": 85,
          "y0": 53,
          "y1": 52.5
         },
         {
          "line": {
           "color": "darkgrey",
           "width": 0.5
          },
          "type": "line",
          "x0": 86,
          "x1": 86,
          "y0": 0.2,
          "y1": 0.7
         },
         {
          "line": {
           "color": "darkgrey",
           "width": 0.5
          },
          "type": "line",
          "x0": 86,
          "x1": 86,
          "y0": 22.91,
          "y1": 23.57
         },
         {
          "line": {
           "color": "darkgrey",
           "width": 0.5
          },
          "type": "line",
          "x0": 86,
          "x1": 86,
          "y0": 29.73,
          "y1": 30.39
         },
         {
          "line": {
           "color": "darkgrey",
           "width": 0.5
          },
          "type": "line",
          "x0": 86,
          "x1": 86,
          "y0": 53,
          "y1": 52.5
         },
         {
          "line": {
           "color": "darkgrey",
           "width": 0.5
          },
          "type": "line",
          "x0": 87,
          "x1": 87,
          "y0": 0.2,
          "y1": 0.7
         },
         {
          "line": {
           "color": "darkgrey",
           "width": 0.5
          },
          "type": "line",
          "x0": 87,
          "x1": 87,
          "y0": 22.91,
          "y1": 23.57
         },
         {
          "line": {
           "color": "darkgrey",
           "width": 0.5
          },
          "type": "line",
          "x0": 87,
          "x1": 87,
          "y0": 29.73,
          "y1": 30.39
         },
         {
          "line": {
           "color": "darkgrey",
           "width": 0.5
          },
          "type": "line",
          "x0": 87,
          "x1": 87,
          "y0": 53,
          "y1": 52.5
         },
         {
          "line": {
           "color": "darkgrey",
           "width": 0.5
          },
          "type": "line",
          "x0": 88,
          "x1": 88,
          "y0": 0.2,
          "y1": 0.7
         },
         {
          "line": {
           "color": "darkgrey",
           "width": 0.5
          },
          "type": "line",
          "x0": 88,
          "x1": 88,
          "y0": 22.91,
          "y1": 23.57
         },
         {
          "line": {
           "color": "darkgrey",
           "width": 0.5
          },
          "type": "line",
          "x0": 88,
          "x1": 88,
          "y0": 29.73,
          "y1": 30.39
         },
         {
          "line": {
           "color": "darkgrey",
           "width": 0.5
          },
          "type": "line",
          "x0": 88,
          "x1": 88,
          "y0": 53,
          "y1": 52.5
         },
         {
          "line": {
           "color": "darkgrey",
           "width": 0.5
          },
          "type": "line",
          "x0": 89,
          "x1": 89,
          "y0": 0.2,
          "y1": 0.7
         },
         {
          "line": {
           "color": "darkgrey",
           "width": 0.5
          },
          "type": "line",
          "x0": 89,
          "x1": 89,
          "y0": 22.91,
          "y1": 23.57
         },
         {
          "line": {
           "color": "darkgrey",
           "width": 0.5
          },
          "type": "line",
          "x0": 89,
          "x1": 89,
          "y0": 29.73,
          "y1": 30.39
         },
         {
          "line": {
           "color": "darkgrey",
           "width": 0.5
          },
          "type": "line",
          "x0": 89,
          "x1": 89,
          "y0": 53,
          "y1": 52.5
         },
         {
          "line": {
           "color": "darkgrey",
           "width": 0.5
          },
          "type": "line",
          "x0": 90,
          "x1": 90,
          "y0": 0.2,
          "y1": 0.7
         },
         {
          "line": {
           "color": "darkgrey",
           "width": 0.5
          },
          "type": "line",
          "x0": 90,
          "x1": 90,
          "y0": 22.91,
          "y1": 23.57
         },
         {
          "line": {
           "color": "darkgrey",
           "width": 0.5
          },
          "type": "line",
          "x0": 90,
          "x1": 90,
          "y0": 29.73,
          "y1": 30.39
         },
         {
          "line": {
           "color": "darkgrey",
           "width": 0.5
          },
          "type": "line",
          "x0": 90,
          "x1": 90,
          "y0": 53,
          "y1": 52.5
         },
         {
          "line": {
           "color": "darkgrey",
           "width": 0.5
          },
          "type": "line",
          "x0": 91,
          "x1": 91,
          "y0": 0.2,
          "y1": 0.7
         },
         {
          "line": {
           "color": "darkgrey",
           "width": 0.5
          },
          "type": "line",
          "x0": 91,
          "x1": 91,
          "y0": 22.91,
          "y1": 23.57
         },
         {
          "line": {
           "color": "darkgrey",
           "width": 0.5
          },
          "type": "line",
          "x0": 91,
          "x1": 91,
          "y0": 29.73,
          "y1": 30.39
         },
         {
          "line": {
           "color": "darkgrey",
           "width": 0.5
          },
          "type": "line",
          "x0": 91,
          "x1": 91,
          "y0": 53,
          "y1": 52.5
         },
         {
          "line": {
           "color": "darkgrey",
           "width": 0.5
          },
          "type": "line",
          "x0": 92,
          "x1": 92,
          "y0": 0.2,
          "y1": 0.7
         },
         {
          "line": {
           "color": "darkgrey",
           "width": 0.5
          },
          "type": "line",
          "x0": 92,
          "x1": 92,
          "y0": 22.91,
          "y1": 23.57
         },
         {
          "line": {
           "color": "darkgrey",
           "width": 0.5
          },
          "type": "line",
          "x0": 92,
          "x1": 92,
          "y0": 29.73,
          "y1": 30.39
         },
         {
          "line": {
           "color": "darkgrey",
           "width": 0.5
          },
          "type": "line",
          "x0": 92,
          "x1": 92,
          "y0": 53,
          "y1": 52.5
         },
         {
          "line": {
           "color": "darkgrey",
           "width": 0.5
          },
          "type": "line",
          "x0": 93,
          "x1": 93,
          "y0": 0.2,
          "y1": 0.7
         },
         {
          "line": {
           "color": "darkgrey",
           "width": 0.5
          },
          "type": "line",
          "x0": 93,
          "x1": 93,
          "y0": 22.91,
          "y1": 23.57
         },
         {
          "line": {
           "color": "darkgrey",
           "width": 0.5
          },
          "type": "line",
          "x0": 93,
          "x1": 93,
          "y0": 29.73,
          "y1": 30.39
         },
         {
          "line": {
           "color": "darkgrey",
           "width": 0.5
          },
          "type": "line",
          "x0": 93,
          "x1": 93,
          "y0": 53,
          "y1": 52.5
         },
         {
          "line": {
           "color": "darkgrey",
           "width": 0.5
          },
          "type": "line",
          "x0": 94,
          "x1": 94,
          "y0": 0.2,
          "y1": 0.7
         },
         {
          "line": {
           "color": "darkgrey",
           "width": 0.5
          },
          "type": "line",
          "x0": 94,
          "x1": 94,
          "y0": 22.91,
          "y1": 23.57
         },
         {
          "line": {
           "color": "darkgrey",
           "width": 0.5
          },
          "type": "line",
          "x0": 94,
          "x1": 94,
          "y0": 29.73,
          "y1": 30.39
         },
         {
          "line": {
           "color": "darkgrey",
           "width": 0.5
          },
          "type": "line",
          "x0": 94,
          "x1": 94,
          "y0": 53,
          "y1": 52.5
         },
         {
          "line": {
           "color": "darkgrey",
           "width": 0.5
          },
          "type": "line",
          "x0": 95,
          "x1": 95,
          "y0": 0.2,
          "y1": 0.7
         },
         {
          "line": {
           "color": "darkgrey",
           "width": 0.5
          },
          "type": "line",
          "x0": 95,
          "x1": 95,
          "y0": 22.91,
          "y1": 23.57
         },
         {
          "line": {
           "color": "darkgrey",
           "width": 0.5
          },
          "type": "line",
          "x0": 95,
          "x1": 95,
          "y0": 29.73,
          "y1": 30.39
         },
         {
          "line": {
           "color": "darkgrey",
           "width": 0.5
          },
          "type": "line",
          "x0": 95,
          "x1": 95,
          "y0": 53,
          "y1": 52.5
         },
         {
          "line": {
           "color": "darkgrey",
           "width": 0.5
          },
          "type": "line",
          "x0": 96,
          "x1": 96,
          "y0": 0.2,
          "y1": 0.7
         },
         {
          "line": {
           "color": "darkgrey",
           "width": 0.5
          },
          "type": "line",
          "x0": 96,
          "x1": 96,
          "y0": 22.91,
          "y1": 23.57
         },
         {
          "line": {
           "color": "darkgrey",
           "width": 0.5
          },
          "type": "line",
          "x0": 96,
          "x1": 96,
          "y0": 29.73,
          "y1": 30.39
         },
         {
          "line": {
           "color": "darkgrey",
           "width": 0.5
          },
          "type": "line",
          "x0": 96,
          "x1": 96,
          "y0": 53,
          "y1": 52.5
         },
         {
          "line": {
           "color": "darkgrey",
           "width": 0.5
          },
          "type": "line",
          "x0": 97,
          "x1": 97,
          "y0": 0.2,
          "y1": 0.7
         },
         {
          "line": {
           "color": "darkgrey",
           "width": 0.5
          },
          "type": "line",
          "x0": 97,
          "x1": 97,
          "y0": 22.91,
          "y1": 23.57
         },
         {
          "line": {
           "color": "darkgrey",
           "width": 0.5
          },
          "type": "line",
          "x0": 97,
          "x1": 97,
          "y0": 29.73,
          "y1": 30.39
         },
         {
          "line": {
           "color": "darkgrey",
           "width": 0.5
          },
          "type": "line",
          "x0": 97,
          "x1": 97,
          "y0": 53,
          "y1": 52.5
         },
         {
          "line": {
           "color": "darkgrey",
           "width": 0.5
          },
          "type": "line",
          "x0": 98,
          "x1": 98,
          "y0": 0.2,
          "y1": 0.7
         },
         {
          "line": {
           "color": "darkgrey",
           "width": 0.5
          },
          "type": "line",
          "x0": 98,
          "x1": 98,
          "y0": 22.91,
          "y1": 23.57
         },
         {
          "line": {
           "color": "darkgrey",
           "width": 0.5
          },
          "type": "line",
          "x0": 98,
          "x1": 98,
          "y0": 29.73,
          "y1": 30.39
         },
         {
          "line": {
           "color": "darkgrey",
           "width": 0.5
          },
          "type": "line",
          "x0": 98,
          "x1": 98,
          "y0": 53,
          "y1": 52.5
         },
         {
          "line": {
           "color": "darkgrey",
           "width": 0.5
          },
          "type": "line",
          "x0": 99,
          "x1": 99,
          "y0": 0.2,
          "y1": 0.7
         },
         {
          "line": {
           "color": "darkgrey",
           "width": 0.5
          },
          "type": "line",
          "x0": 99,
          "x1": 99,
          "y0": 22.91,
          "y1": 23.57
         },
         {
          "line": {
           "color": "darkgrey",
           "width": 0.5
          },
          "type": "line",
          "x0": 99,
          "x1": 99,
          "y0": 29.73,
          "y1": 30.39
         },
         {
          "line": {
           "color": "darkgrey",
           "width": 0.5
          },
          "type": "line",
          "x0": 99,
          "x1": 99,
          "y0": 53,
          "y1": 52.5
         },
         {
          "line": {
           "color": "darkgrey",
           "width": 0.5
          },
          "type": "line",
          "x0": 100,
          "x1": 100,
          "y0": 0.2,
          "y1": 0.7
         },
         {
          "line": {
           "color": "darkgrey",
           "width": 0.5
          },
          "type": "line",
          "x0": 100,
          "x1": 100,
          "y0": 22.91,
          "y1": 23.57
         },
         {
          "line": {
           "color": "darkgrey",
           "width": 0.5
          },
          "type": "line",
          "x0": 100,
          "x1": 100,
          "y0": 29.73,
          "y1": 30.39
         },
         {
          "line": {
           "color": "darkgrey",
           "width": 0.5
          },
          "type": "line",
          "x0": 100,
          "x1": 100,
          "y0": 53,
          "y1": 52.5
         },
         {
          "line": {
           "color": "darkgrey",
           "width": 0.5
          },
          "type": "line",
          "x0": 101,
          "x1": 101,
          "y0": 0.2,
          "y1": 0.7
         },
         {
          "line": {
           "color": "darkgrey",
           "width": 0.5
          },
          "type": "line",
          "x0": 101,
          "x1": 101,
          "y0": 22.91,
          "y1": 23.57
         },
         {
          "line": {
           "color": "darkgrey",
           "width": 0.5
          },
          "type": "line",
          "x0": 101,
          "x1": 101,
          "y0": 29.73,
          "y1": 30.39
         },
         {
          "line": {
           "color": "darkgrey",
           "width": 0.5
          },
          "type": "line",
          "x0": 101,
          "x1": 101,
          "y0": 53,
          "y1": 52.5
         },
         {
          "line": {
           "color": "darkgrey",
           "width": 0.5
          },
          "type": "line",
          "x0": 102,
          "x1": 102,
          "y0": 0.2,
          "y1": 0.7
         },
         {
          "line": {
           "color": "darkgrey",
           "width": 0.5
          },
          "type": "line",
          "x0": 102,
          "x1": 102,
          "y0": 22.91,
          "y1": 23.57
         },
         {
          "line": {
           "color": "darkgrey",
           "width": 0.5
          },
          "type": "line",
          "x0": 102,
          "x1": 102,
          "y0": 29.73,
          "y1": 30.39
         },
         {
          "line": {
           "color": "darkgrey",
           "width": 0.5
          },
          "type": "line",
          "x0": 102,
          "x1": 102,
          "y0": 53,
          "y1": 52.5
         },
         {
          "line": {
           "color": "darkgrey",
           "width": 0.5
          },
          "type": "line",
          "x0": 103,
          "x1": 103,
          "y0": 0.2,
          "y1": 0.7
         },
         {
          "line": {
           "color": "darkgrey",
           "width": 0.5
          },
          "type": "line",
          "x0": 103,
          "x1": 103,
          "y0": 22.91,
          "y1": 23.57
         },
         {
          "line": {
           "color": "darkgrey",
           "width": 0.5
          },
          "type": "line",
          "x0": 103,
          "x1": 103,
          "y0": 29.73,
          "y1": 30.39
         },
         {
          "line": {
           "color": "darkgrey",
           "width": 0.5
          },
          "type": "line",
          "x0": 103,
          "x1": 103,
          "y0": 53,
          "y1": 52.5
         },
         {
          "line": {
           "color": "darkgrey",
           "width": 0.5
          },
          "type": "line",
          "x0": 104,
          "x1": 104,
          "y0": 0.2,
          "y1": 0.7
         },
         {
          "line": {
           "color": "darkgrey",
           "width": 0.5
          },
          "type": "line",
          "x0": 104,
          "x1": 104,
          "y0": 22.91,
          "y1": 23.57
         },
         {
          "line": {
           "color": "darkgrey",
           "width": 0.5
          },
          "type": "line",
          "x0": 104,
          "x1": 104,
          "y0": 29.73,
          "y1": 30.39
         },
         {
          "line": {
           "color": "darkgrey",
           "width": 0.5
          },
          "type": "line",
          "x0": 104,
          "x1": 104,
          "y0": 53,
          "y1": 52.5
         },
         {
          "line": {
           "color": "darkgrey",
           "width": 0.5
          },
          "type": "line",
          "x0": 105,
          "x1": 105,
          "y0": 0.2,
          "y1": 0.7
         },
         {
          "line": {
           "color": "darkgrey",
           "width": 0.5
          },
          "type": "line",
          "x0": 105,
          "x1": 105,
          "y0": 22.91,
          "y1": 23.57
         },
         {
          "line": {
           "color": "darkgrey",
           "width": 0.5
          },
          "type": "line",
          "x0": 105,
          "x1": 105,
          "y0": 29.73,
          "y1": 30.39
         },
         {
          "line": {
           "color": "darkgrey",
           "width": 0.5
          },
          "type": "line",
          "x0": 105,
          "x1": 105,
          "y0": 53,
          "y1": 52.5
         },
         {
          "line": {
           "color": "darkgrey",
           "width": 0.5
          },
          "type": "line",
          "x0": 106,
          "x1": 106,
          "y0": 0.2,
          "y1": 0.7
         },
         {
          "line": {
           "color": "darkgrey",
           "width": 0.5
          },
          "type": "line",
          "x0": 106,
          "x1": 106,
          "y0": 22.91,
          "y1": 23.57
         },
         {
          "line": {
           "color": "darkgrey",
           "width": 0.5
          },
          "type": "line",
          "x0": 106,
          "x1": 106,
          "y0": 29.73,
          "y1": 30.39
         },
         {
          "line": {
           "color": "darkgrey",
           "width": 0.5
          },
          "type": "line",
          "x0": 106,
          "x1": 106,
          "y0": 53,
          "y1": 52.5
         },
         {
          "line": {
           "color": "darkgrey",
           "width": 0.5
          },
          "type": "line",
          "x0": 107,
          "x1": 107,
          "y0": 0.2,
          "y1": 0.7
         },
         {
          "line": {
           "color": "darkgrey",
           "width": 0.5
          },
          "type": "line",
          "x0": 107,
          "x1": 107,
          "y0": 22.91,
          "y1": 23.57
         },
         {
          "line": {
           "color": "darkgrey",
           "width": 0.5
          },
          "type": "line",
          "x0": 107,
          "x1": 107,
          "y0": 29.73,
          "y1": 30.39
         },
         {
          "line": {
           "color": "darkgrey",
           "width": 0.5
          },
          "type": "line",
          "x0": 107,
          "x1": 107,
          "y0": 53,
          "y1": 52.5
         },
         {
          "line": {
           "color": "darkgrey",
           "width": 0.5
          },
          "type": "line",
          "x0": 108,
          "x1": 108,
          "y0": 0.2,
          "y1": 0.7
         },
         {
          "line": {
           "color": "darkgrey",
           "width": 0.5
          },
          "type": "line",
          "x0": 108,
          "x1": 108,
          "y0": 22.91,
          "y1": 23.57
         },
         {
          "line": {
           "color": "darkgrey",
           "width": 0.5
          },
          "type": "line",
          "x0": 108,
          "x1": 108,
          "y0": 29.73,
          "y1": 30.39
         },
         {
          "line": {
           "color": "darkgrey",
           "width": 0.5
          },
          "type": "line",
          "x0": 108,
          "x1": 108,
          "y0": 53,
          "y1": 52.5
         },
         {
          "line": {
           "color": "darkgrey",
           "width": 0.5
          },
          "type": "line",
          "x0": 109,
          "x1": 109,
          "y0": 0.2,
          "y1": 0.7
         },
         {
          "line": {
           "color": "darkgrey",
           "width": 0.5
          },
          "type": "line",
          "x0": 109,
          "x1": 109,
          "y0": 22.91,
          "y1": 23.57
         },
         {
          "line": {
           "color": "darkgrey",
           "width": 0.5
          },
          "type": "line",
          "x0": 109,
          "x1": 109,
          "y0": 29.73,
          "y1": 30.39
         },
         {
          "line": {
           "color": "darkgrey",
           "width": 0.5
          },
          "type": "line",
          "x0": 109,
          "x1": 109,
          "y0": 53,
          "y1": 52.5
         },
         {
          "line": {
           "color": "black",
           "width": 1
          },
          "type": "rect",
          "x0": 0,
          "x1": 120,
          "y0": 0,
          "y1": 53.3
         },
         {
          "fillcolor": "lightgrey",
          "layer": "below",
          "line": {
           "color": "darkgrey",
           "width": 1
          },
          "type": "rect",
          "x0": 0,
          "x1": 10,
          "y0": 0,
          "y1": 53.3
         },
         {
          "fillcolor": "lightgrey",
          "layer": "below",
          "line": {
           "color": "darkgrey",
           "width": 1
          },
          "type": "rect",
          "x0": 110,
          "x1": 120,
          "y0": 0,
          "y1": 53.3
         }
        ],
        "sliders": [
         {
          "active": 0,
          "font": {
           "size": 10
          },
          "steps": [
           {
            "args": [
             {
              "visible": [
               true,
               true,
               false,
               false,
               false,
               false,
               false,
               false,
               false,
               false,
               false,
               false,
               false,
               false,
               false,
               false,
               false,
               false,
               false,
               false,
               false,
               false,
               false,
               false,
               false,
               false,
               false,
               false,
               false,
               false,
               false,
               false,
               false,
               false,
               false,
               false,
               false,
               false,
               false,
               false,
               false,
               false,
               false,
               false,
               false,
               false,
               false,
               false,
               false,
               false,
               false,
               false,
               false,
               false,
               false,
               false,
               false,
               false,
               false,
               false,
               false,
               false,
               false,
               false,
               false,
               false,
               false,
               false,
               false,
               false,
               false,
               false,
               false,
               false,
               false,
               false,
               false,
               false,
               false,
               false,
               false,
               false,
               false,
               false,
               false,
               false,
               false,
               false,
               false,
               false
              ]
             },
             {
              "font": {
               "size": 10
              },
              "title": "Event: nan"
             }
            ],
            "label": "frame1",
            "method": "update"
           },
           {
            "args": [
             {
              "visible": [
               false,
               false,
               true,
               true,
               false,
               false,
               false,
               false,
               false,
               false,
               false,
               false,
               false,
               false,
               false,
               false,
               false,
               false,
               false,
               false,
               false,
               false,
               false,
               false,
               false,
               false,
               false,
               false,
               false,
               false,
               false,
               false,
               false,
               false,
               false,
               false,
               false,
               false,
               false,
               false,
               false,
               false,
               false,
               false,
               false,
               false,
               false,
               false,
               false,
               false,
               false,
               false,
               false,
               false,
               false,
               false,
               false,
               false,
               false,
               false,
               false,
               false,
               false,
               false,
               false,
               false,
               false,
               false,
               false,
               false,
               false,
               false,
               false,
               false,
               false,
               false,
               false,
               false,
               false,
               false,
               false,
               false,
               false,
               false,
               false,
               false,
               false,
               false,
               false,
               false
              ]
             },
             {
              "font": {
               "size": 10
              },
              "title": "Event: pass_arrived"
             }
            ],
            "label": "frame2",
            "method": "update"
           },
           {
            "args": [
             {
              "visible": [
               false,
               false,
               false,
               false,
               true,
               true,
               false,
               false,
               false,
               false,
               false,
               false,
               false,
               false,
               false,
               false,
               false,
               false,
               false,
               false,
               false,
               false,
               false,
               false,
               false,
               false,
               false,
               false,
               false,
               false,
               false,
               false,
               false,
               false,
               false,
               false,
               false,
               false,
               false,
               false,
               false,
               false,
               false,
               false,
               false,
               false,
               false,
               false,
               false,
               false,
               false,
               false,
               false,
               false,
               false,
               false,
               false,
               false,
               false,
               false,
               false,
               false,
               false,
               false,
               false,
               false,
               false,
               false,
               false,
               false,
               false,
               false,
               false,
               false,
               false,
               false,
               false,
               false,
               false,
               false,
               false,
               false,
               false,
               false,
               false,
               false,
               false,
               false,
               false,
               false
              ]
             },
             {
              "font": {
               "size": 10
              },
              "title": "Event: nan"
             }
            ],
            "label": "frame3",
            "method": "update"
           },
           {
            "args": [
             {
              "visible": [
               false,
               false,
               false,
               false,
               false,
               false,
               true,
               true,
               false,
               false,
               false,
               false,
               false,
               false,
               false,
               false,
               false,
               false,
               false,
               false,
               false,
               false,
               false,
               false,
               false,
               false,
               false,
               false,
               false,
               false,
               false,
               false,
               false,
               false,
               false,
               false,
               false,
               false,
               false,
               false,
               false,
               false,
               false,
               false,
               false,
               false,
               false,
               false,
               false,
               false,
               false,
               false,
               false,
               false,
               false,
               false,
               false,
               false,
               false,
               false,
               false,
               false,
               false,
               false,
               false,
               false,
               false,
               false,
               false,
               false,
               false,
               false,
               false,
               false,
               false,
               false,
               false,
               false,
               false,
               false,
               false,
               false,
               false,
               false,
               false,
               false,
               false,
               false,
               false,
               false
              ]
             },
             {
              "font": {
               "size": 10
              },
              "title": "Event: nan"
             }
            ],
            "label": "frame4",
            "method": "update"
           },
           {
            "args": [
             {
              "visible": [
               false,
               false,
               false,
               false,
               false,
               false,
               false,
               false,
               true,
               true,
               false,
               false,
               false,
               false,
               false,
               false,
               false,
               false,
               false,
               false,
               false,
               false,
               false,
               false,
               false,
               false,
               false,
               false,
               false,
               false,
               false,
               false,
               false,
               false,
               false,
               false,
               false,
               false,
               false,
               false,
               false,
               false,
               false,
               false,
               false,
               false,
               false,
               false,
               false,
               false,
               false,
               false,
               false,
               false,
               false,
               false,
               false,
               false,
               false,
               false,
               false,
               false,
               false,
               false,
               false,
               false,
               false,
               false,
               false,
               false,
               false,
               false,
               false,
               false,
               false,
               false,
               false,
               false,
               false,
               false,
               false,
               false,
               false,
               false,
               false,
               false,
               false,
               false,
               false,
               false
              ]
             },
             {
              "font": {
               "size": 10
              },
              "title": "Event: nan"
             }
            ],
            "label": "frame5",
            "method": "update"
           },
           {
            "args": [
             {
              "visible": [
               false,
               false,
               false,
               false,
               false,
               false,
               false,
               false,
               false,
               false,
               true,
               true,
               false,
               false,
               false,
               false,
               false,
               false,
               false,
               false,
               false,
               false,
               false,
               false,
               false,
               false,
               false,
               false,
               false,
               false,
               false,
               false,
               false,
               false,
               false,
               false,
               false,
               false,
               false,
               false,
               false,
               false,
               false,
               false,
               false,
               false,
               false,
               false,
               false,
               false,
               false,
               false,
               false,
               false,
               false,
               false,
               false,
               false,
               false,
               false,
               false,
               false,
               false,
               false,
               false,
               false,
               false,
               false,
               false,
               false,
               false,
               false,
               false,
               false,
               false,
               false,
               false,
               false,
               false,
               false,
               false,
               false,
               false,
               false,
               false,
               false,
               false,
               false,
               false,
               false
              ]
             },
             {
              "font": {
               "size": 10
              },
              "title": "Event: pass_outcome_caught"
             }
            ],
            "label": "frame6",
            "method": "update"
           },
           {
            "args": [
             {
              "visible": [
               false,
               false,
               false,
               false,
               false,
               false,
               false,
               false,
               false,
               false,
               false,
               false,
               true,
               true,
               false,
               false,
               false,
               false,
               false,
               false,
               false,
               false,
               false,
               false,
               false,
               false,
               false,
               false,
               false,
               false,
               false,
               false,
               false,
               false,
               false,
               false,
               false,
               false,
               false,
               false,
               false,
               false,
               false,
               false,
               false,
               false,
               false,
               false,
               false,
               false,
               false,
               false,
               false,
               false,
               false,
               false,
               false,
               false,
               false,
               false,
               false,
               false,
               false,
               false,
               false,
               false,
               false,
               false,
               false,
               false,
               false,
               false,
               false,
               false,
               false,
               false,
               false,
               false,
               false,
               false,
               false,
               false,
               false,
               false,
               false,
               false,
               false,
               false,
               false,
               false
              ]
             },
             {
              "font": {
               "size": 10
              },
              "title": "Event: nan"
             }
            ],
            "label": "frame7",
            "method": "update"
           },
           {
            "args": [
             {
              "visible": [
               false,
               false,
               false,
               false,
               false,
               false,
               false,
               false,
               false,
               false,
               false,
               false,
               false,
               false,
               true,
               true,
               false,
               false,
               false,
               false,
               false,
               false,
               false,
               false,
               false,
               false,
               false,
               false,
               false,
               false,
               false,
               false,
               false,
               false,
               false,
               false,
               false,
               false,
               false,
               false,
               false,
               false,
               false,
               false,
               false,
               false,
               false,
               false,
               false,
               false,
               false,
               false,
               false,
               false,
               false,
               false,
               false,
               false,
               false,
               false,
               false,
               false,
               false,
               false,
               false,
               false,
               false,
               false,
               false,
               false,
               false,
               false,
               false,
               false,
               false,
               false,
               false,
               false,
               false,
               false,
               false,
               false,
               false,
               false,
               false,
               false,
               false,
               false,
               false,
               false
              ]
             },
             {
              "font": {
               "size": 10
              },
              "title": "Event: nan"
             }
            ],
            "label": "frame8",
            "method": "update"
           },
           {
            "args": [
             {
              "visible": [
               false,
               false,
               false,
               false,
               false,
               false,
               false,
               false,
               false,
               false,
               false,
               false,
               false,
               false,
               false,
               false,
               true,
               true,
               false,
               false,
               false,
               false,
               false,
               false,
               false,
               false,
               false,
               false,
               false,
               false,
               false,
               false,
               false,
               false,
               false,
               false,
               false,
               false,
               false,
               false,
               false,
               false,
               false,
               false,
               false,
               false,
               false,
               false,
               false,
               false,
               false,
               false,
               false,
               false,
               false,
               false,
               false,
               false,
               false,
               false,
               false,
               false,
               false,
               false,
               false,
               false,
               false,
               false,
               false,
               false,
               false,
               false,
               false,
               false,
               false,
               false,
               false,
               false,
               false,
               false,
               false,
               false,
               false,
               false,
               false,
               false,
               false,
               false,
               false,
               false
              ]
             },
             {
              "font": {
               "size": 10
              },
              "title": "Event: nan"
             }
            ],
            "label": "frame9",
            "method": "update"
           },
           {
            "args": [
             {
              "visible": [
               false,
               false,
               false,
               false,
               false,
               false,
               false,
               false,
               false,
               false,
               false,
               false,
               false,
               false,
               false,
               false,
               false,
               false,
               true,
               true,
               false,
               false,
               false,
               false,
               false,
               false,
               false,
               false,
               false,
               false,
               false,
               false,
               false,
               false,
               false,
               false,
               false,
               false,
               false,
               false,
               false,
               false,
               false,
               false,
               false,
               false,
               false,
               false,
               false,
               false,
               false,
               false,
               false,
               false,
               false,
               false,
               false,
               false,
               false,
               false,
               false,
               false,
               false,
               false,
               false,
               false,
               false,
               false,
               false,
               false,
               false,
               false,
               false,
               false,
               false,
               false,
               false,
               false,
               false,
               false,
               false,
               false,
               false,
               false,
               false,
               false,
               false,
               false,
               false,
               false
              ]
             },
             {
              "font": {
               "size": 10
              },
              "title": "Event: nan"
             }
            ],
            "label": "frame10",
            "method": "update"
           },
           {
            "args": [
             {
              "visible": [
               false,
               false,
               false,
               false,
               false,
               false,
               false,
               false,
               false,
               false,
               false,
               false,
               false,
               false,
               false,
               false,
               false,
               false,
               false,
               false,
               true,
               true,
               false,
               false,
               false,
               false,
               false,
               false,
               false,
               false,
               false,
               false,
               false,
               false,
               false,
               false,
               false,
               false,
               false,
               false,
               false,
               false,
               false,
               false,
               false,
               false,
               false,
               false,
               false,
               false,
               false,
               false,
               false,
               false,
               false,
               false,
               false,
               false,
               false,
               false,
               false,
               false,
               false,
               false,
               false,
               false,
               false,
               false,
               false,
               false,
               false,
               false,
               false,
               false,
               false,
               false,
               false,
               false,
               false,
               false,
               false,
               false,
               false,
               false,
               false,
               false,
               false,
               false,
               false,
               false
              ]
             },
             {
              "font": {
               "size": 10
              },
              "title": "Event: nan"
             }
            ],
            "label": "frame11",
            "method": "update"
           },
           {
            "args": [
             {
              "visible": [
               false,
               false,
               false,
               false,
               false,
               false,
               false,
               false,
               false,
               false,
               false,
               false,
               false,
               false,
               false,
               false,
               false,
               false,
               false,
               false,
               false,
               false,
               true,
               true,
               false,
               false,
               false,
               false,
               false,
               false,
               false,
               false,
               false,
               false,
               false,
               false,
               false,
               false,
               false,
               false,
               false,
               false,
               false,
               false,
               false,
               false,
               false,
               false,
               false,
               false,
               false,
               false,
               false,
               false,
               false,
               false,
               false,
               false,
               false,
               false,
               false,
               false,
               false,
               false,
               false,
               false,
               false,
               false,
               false,
               false,
               false,
               false,
               false,
               false,
               false,
               false,
               false,
               false,
               false,
               false,
               false,
               false,
               false,
               false,
               false,
               false,
               false,
               false,
               false,
               false
              ]
             },
             {
              "font": {
               "size": 10
              },
              "title": "Event: nan"
             }
            ],
            "label": "frame12",
            "method": "update"
           },
           {
            "args": [
             {
              "visible": [
               false,
               false,
               false,
               false,
               false,
               false,
               false,
               false,
               false,
               false,
               false,
               false,
               false,
               false,
               false,
               false,
               false,
               false,
               false,
               false,
               false,
               false,
               false,
               false,
               true,
               true,
               false,
               false,
               false,
               false,
               false,
               false,
               false,
               false,
               false,
               false,
               false,
               false,
               false,
               false,
               false,
               false,
               false,
               false,
               false,
               false,
               false,
               false,
               false,
               false,
               false,
               false,
               false,
               false,
               false,
               false,
               false,
               false,
               false,
               false,
               false,
               false,
               false,
               false,
               false,
               false,
               false,
               false,
               false,
               false,
               false,
               false,
               false,
               false,
               false,
               false,
               false,
               false,
               false,
               false,
               false,
               false,
               false,
               false,
               false,
               false,
               false,
               false,
               false,
               false
              ]
             },
             {
              "font": {
               "size": 10
              },
              "title": "Event: nan"
             }
            ],
            "label": "frame13",
            "method": "update"
           },
           {
            "args": [
             {
              "visible": [
               false,
               false,
               false,
               false,
               false,
               false,
               false,
               false,
               false,
               false,
               false,
               false,
               false,
               false,
               false,
               false,
               false,
               false,
               false,
               false,
               false,
               false,
               false,
               false,
               false,
               false,
               true,
               true,
               false,
               false,
               false,
               false,
               false,
               false,
               false,
               false,
               false,
               false,
               false,
               false,
               false,
               false,
               false,
               false,
               false,
               false,
               false,
               false,
               false,
               false,
               false,
               false,
               false,
               false,
               false,
               false,
               false,
               false,
               false,
               false,
               false,
               false,
               false,
               false,
               false,
               false,
               false,
               false,
               false,
               false,
               false,
               false,
               false,
               false,
               false,
               false,
               false,
               false,
               false,
               false,
               false,
               false,
               false,
               false,
               false,
               false,
               false,
               false,
               false,
               false
              ]
             },
             {
              "font": {
               "size": 10
              },
              "title": "Event: nan"
             }
            ],
            "label": "frame14",
            "method": "update"
           },
           {
            "args": [
             {
              "visible": [
               false,
               false,
               false,
               false,
               false,
               false,
               false,
               false,
               false,
               false,
               false,
               false,
               false,
               false,
               false,
               false,
               false,
               false,
               false,
               false,
               false,
               false,
               false,
               false,
               false,
               false,
               false,
               false,
               true,
               true,
               false,
               false,
               false,
               false,
               false,
               false,
               false,
               false,
               false,
               false,
               false,
               false,
               false,
               false,
               false,
               false,
               false,
               false,
               false,
               false,
               false,
               false,
               false,
               false,
               false,
               false,
               false,
               false,
               false,
               false,
               false,
               false,
               false,
               false,
               false,
               false,
               false,
               false,
               false,
               false,
               false,
               false,
               false,
               false,
               false,
               false,
               false,
               false,
               false,
               false,
               false,
               false,
               false,
               false,
               false,
               false,
               false,
               false,
               false,
               false
              ]
             },
             {
              "font": {
               "size": 10
              },
              "title": "Event: nan"
             }
            ],
            "label": "frame15",
            "method": "update"
           },
           {
            "args": [
             {
              "visible": [
               false,
               false,
               false,
               false,
               false,
               false,
               false,
               false,
               false,
               false,
               false,
               false,
               false,
               false,
               false,
               false,
               false,
               false,
               false,
               false,
               false,
               false,
               false,
               false,
               false,
               false,
               false,
               false,
               false,
               false,
               true,
               true,
               false,
               false,
               false,
               false,
               false,
               false,
               false,
               false,
               false,
               false,
               false,
               false,
               false,
               false,
               false,
               false,
               false,
               false,
               false,
               false,
               false,
               false,
               false,
               false,
               false,
               false,
               false,
               false,
               false,
               false,
               false,
               false,
               false,
               false,
               false,
               false,
               false,
               false,
               false,
               false,
               false,
               false,
               false,
               false,
               false,
               false,
               false,
               false,
               false,
               false,
               false,
               false,
               false,
               false,
               false,
               false,
               false,
               false
              ]
             },
             {
              "font": {
               "size": 10
              },
              "title": "Event: nan"
             }
            ],
            "label": "frame16",
            "method": "update"
           },
           {
            "args": [
             {
              "visible": [
               false,
               false,
               false,
               false,
               false,
               false,
               false,
               false,
               false,
               false,
               false,
               false,
               false,
               false,
               false,
               false,
               false,
               false,
               false,
               false,
               false,
               false,
               false,
               false,
               false,
               false,
               false,
               false,
               false,
               false,
               false,
               false,
               true,
               true,
               false,
               false,
               false,
               false,
               false,
               false,
               false,
               false,
               false,
               false,
               false,
               false,
               false,
               false,
               false,
               false,
               false,
               false,
               false,
               false,
               false,
               false,
               false,
               false,
               false,
               false,
               false,
               false,
               false,
               false,
               false,
               false,
               false,
               false,
               false,
               false,
               false,
               false,
               false,
               false,
               false,
               false,
               false,
               false,
               false,
               false,
               false,
               false,
               false,
               false,
               false,
               false,
               false,
               false,
               false,
               false
              ]
             },
             {
              "font": {
               "size": 10
              },
              "title": "Event: nan"
             }
            ],
            "label": "frame17",
            "method": "update"
           },
           {
            "args": [
             {
              "visible": [
               false,
               false,
               false,
               false,
               false,
               false,
               false,
               false,
               false,
               false,
               false,
               false,
               false,
               false,
               false,
               false,
               false,
               false,
               false,
               false,
               false,
               false,
               false,
               false,
               false,
               false,
               false,
               false,
               false,
               false,
               false,
               false,
               false,
               false,
               true,
               true,
               false,
               false,
               false,
               false,
               false,
               false,
               false,
               false,
               false,
               false,
               false,
               false,
               false,
               false,
               false,
               false,
               false,
               false,
               false,
               false,
               false,
               false,
               false,
               false,
               false,
               false,
               false,
               false,
               false,
               false,
               false,
               false,
               false,
               false,
               false,
               false,
               false,
               false,
               false,
               false,
               false,
               false,
               false,
               false,
               false,
               false,
               false,
               false,
               false,
               false,
               false,
               false,
               false,
               false
              ]
             },
             {
              "font": {
               "size": 10
              },
              "title": "Event: nan"
             }
            ],
            "label": "frame18",
            "method": "update"
           },
           {
            "args": [
             {
              "visible": [
               false,
               false,
               false,
               false,
               false,
               false,
               false,
               false,
               false,
               false,
               false,
               false,
               false,
               false,
               false,
               false,
               false,
               false,
               false,
               false,
               false,
               false,
               false,
               false,
               false,
               false,
               false,
               false,
               false,
               false,
               false,
               false,
               false,
               false,
               false,
               false,
               true,
               true,
               false,
               false,
               false,
               false,
               false,
               false,
               false,
               false,
               false,
               false,
               false,
               false,
               false,
               false,
               false,
               false,
               false,
               false,
               false,
               false,
               false,
               false,
               false,
               false,
               false,
               false,
               false,
               false,
               false,
               false,
               false,
               false,
               false,
               false,
               false,
               false,
               false,
               false,
               false,
               false,
               false,
               false,
               false,
               false,
               false,
               false,
               false,
               false,
               false,
               false,
               false,
               false
              ]
             },
             {
              "font": {
               "size": 10
              },
              "title": "Event: nan"
             }
            ],
            "label": "frame19",
            "method": "update"
           },
           {
            "args": [
             {
              "visible": [
               false,
               false,
               false,
               false,
               false,
               false,
               false,
               false,
               false,
               false,
               false,
               false,
               false,
               false,
               false,
               false,
               false,
               false,
               false,
               false,
               false,
               false,
               false,
               false,
               false,
               false,
               false,
               false,
               false,
               false,
               false,
               false,
               false,
               false,
               false,
               false,
               false,
               false,
               true,
               true,
               false,
               false,
               false,
               false,
               false,
               false,
               false,
               false,
               false,
               false,
               false,
               false,
               false,
               false,
               false,
               false,
               false,
               false,
               false,
               false,
               false,
               false,
               false,
               false,
               false,
               false,
               false,
               false,
               false,
               false,
               false,
               false,
               false,
               false,
               false,
               false,
               false,
               false,
               false,
               false,
               false,
               false,
               false,
               false,
               false,
               false,
               false,
               false,
               false,
               false
              ]
             },
             {
              "font": {
               "size": 10
              },
              "title": "Event: nan"
             }
            ],
            "label": "frame20",
            "method": "update"
           },
           {
            "args": [
             {
              "visible": [
               false,
               false,
               false,
               false,
               false,
               false,
               false,
               false,
               false,
               false,
               false,
               false,
               false,
               false,
               false,
               false,
               false,
               false,
               false,
               false,
               false,
               false,
               false,
               false,
               false,
               false,
               false,
               false,
               false,
               false,
               false,
               false,
               false,
               false,
               false,
               false,
               false,
               false,
               false,
               false,
               true,
               true,
               false,
               false,
               false,
               false,
               false,
               false,
               false,
               false,
               false,
               false,
               false,
               false,
               false,
               false,
               false,
               false,
               false,
               false,
               false,
               false,
               false,
               false,
               false,
               false,
               false,
               false,
               false,
               false,
               false,
               false,
               false,
               false,
               false,
               false,
               false,
               false,
               false,
               false,
               false,
               false,
               false,
               false,
               false,
               false,
               false,
               false,
               false,
               false
              ]
             },
             {
              "font": {
               "size": 10
              },
              "title": "Event: nan"
             }
            ],
            "label": "frame21",
            "method": "update"
           },
           {
            "args": [
             {
              "visible": [
               false,
               false,
               false,
               false,
               false,
               false,
               false,
               false,
               false,
               false,
               false,
               false,
               false,
               false,
               false,
               false,
               false,
               false,
               false,
               false,
               false,
               false,
               false,
               false,
               false,
               false,
               false,
               false,
               false,
               false,
               false,
               false,
               false,
               false,
               false,
               false,
               false,
               false,
               false,
               false,
               false,
               false,
               true,
               true,
               false,
               false,
               false,
               false,
               false,
               false,
               false,
               false,
               false,
               false,
               false,
               false,
               false,
               false,
               false,
               false,
               false,
               false,
               false,
               false,
               false,
               false,
               false,
               false,
               false,
               false,
               false,
               false,
               false,
               false,
               false,
               false,
               false,
               false,
               false,
               false,
               false,
               false,
               false,
               false,
               false,
               false,
               false,
               false,
               false,
               false
              ]
             },
             {
              "font": {
               "size": 10
              },
              "title": "Event: nan"
             }
            ],
            "label": "frame22",
            "method": "update"
           },
           {
            "args": [
             {
              "visible": [
               false,
               false,
               false,
               false,
               false,
               false,
               false,
               false,
               false,
               false,
               false,
               false,
               false,
               false,
               false,
               false,
               false,
               false,
               false,
               false,
               false,
               false,
               false,
               false,
               false,
               false,
               false,
               false,
               false,
               false,
               false,
               false,
               false,
               false,
               false,
               false,
               false,
               false,
               false,
               false,
               false,
               false,
               false,
               false,
               true,
               true,
               false,
               false,
               false,
               false,
               false,
               false,
               false,
               false,
               false,
               false,
               false,
               false,
               false,
               false,
               false,
               false,
               false,
               false,
               false,
               false,
               false,
               false,
               false,
               false,
               false,
               false,
               false,
               false,
               false,
               false,
               false,
               false,
               false,
               false,
               false,
               false,
               false,
               false,
               false,
               false,
               false,
               false,
               false,
               false
              ]
             },
             {
              "font": {
               "size": 10
              },
              "title": "Event: nan"
             }
            ],
            "label": "frame23",
            "method": "update"
           },
           {
            "args": [
             {
              "visible": [
               false,
               false,
               false,
               false,
               false,
               false,
               false,
               false,
               false,
               false,
               false,
               false,
               false,
               false,
               false,
               false,
               false,
               false,
               false,
               false,
               false,
               false,
               false,
               false,
               false,
               false,
               false,
               false,
               false,
               false,
               false,
               false,
               false,
               false,
               false,
               false,
               false,
               false,
               false,
               false,
               false,
               false,
               false,
               false,
               false,
               false,
               true,
               true,
               false,
               false,
               false,
               false,
               false,
               false,
               false,
               false,
               false,
               false,
               false,
               false,
               false,
               false,
               false,
               false,
               false,
               false,
               false,
               false,
               false,
               false,
               false,
               false,
               false,
               false,
               false,
               false,
               false,
               false,
               false,
               false,
               false,
               false,
               false,
               false,
               false,
               false,
               false,
               false,
               false,
               false
              ]
             },
             {
              "font": {
               "size": 10
              },
              "title": "Event: nan"
             }
            ],
            "label": "frame24",
            "method": "update"
           },
           {
            "args": [
             {
              "visible": [
               false,
               false,
               false,
               false,
               false,
               false,
               false,
               false,
               false,
               false,
               false,
               false,
               false,
               false,
               false,
               false,
               false,
               false,
               false,
               false,
               false,
               false,
               false,
               false,
               false,
               false,
               false,
               false,
               false,
               false,
               false,
               false,
               false,
               false,
               false,
               false,
               false,
               false,
               false,
               false,
               false,
               false,
               false,
               false,
               false,
               false,
               false,
               false,
               true,
               true,
               false,
               false,
               false,
               false,
               false,
               false,
               false,
               false,
               false,
               false,
               false,
               false,
               false,
               false,
               false,
               false,
               false,
               false,
               false,
               false,
               false,
               false,
               false,
               false,
               false,
               false,
               false,
               false,
               false,
               false,
               false,
               false,
               false,
               false,
               false,
               false,
               false,
               false,
               false,
               false
              ]
             },
             {
              "font": {
               "size": 10
              },
              "title": "Event: nan"
             }
            ],
            "label": "frame25",
            "method": "update"
           },
           {
            "args": [
             {
              "visible": [
               false,
               false,
               false,
               false,
               false,
               false,
               false,
               false,
               false,
               false,
               false,
               false,
               false,
               false,
               false,
               false,
               false,
               false,
               false,
               false,
               false,
               false,
               false,
               false,
               false,
               false,
               false,
               false,
               false,
               false,
               false,
               false,
               false,
               false,
               false,
               false,
               false,
               false,
               false,
               false,
               false,
               false,
               false,
               false,
               false,
               false,
               false,
               false,
               false,
               false,
               true,
               true,
               false,
               false,
               false,
               false,
               false,
               false,
               false,
               false,
               false,
               false,
               false,
               false,
               false,
               false,
               false,
               false,
               false,
               false,
               false,
               false,
               false,
               false,
               false,
               false,
               false,
               false,
               false,
               false,
               false,
               false,
               false,
               false,
               false,
               false,
               false,
               false,
               false,
               false
              ]
             },
             {
              "font": {
               "size": 10
              },
              "title": "Event: nan"
             }
            ],
            "label": "frame26",
            "method": "update"
           },
           {
            "args": [
             {
              "visible": [
               false,
               false,
               false,
               false,
               false,
               false,
               false,
               false,
               false,
               false,
               false,
               false,
               false,
               false,
               false,
               false,
               false,
               false,
               false,
               false,
               false,
               false,
               false,
               false,
               false,
               false,
               false,
               false,
               false,
               false,
               false,
               false,
               false,
               false,
               false,
               false,
               false,
               false,
               false,
               false,
               false,
               false,
               false,
               false,
               false,
               false,
               false,
               false,
               false,
               false,
               false,
               false,
               true,
               true,
               false,
               false,
               false,
               false,
               false,
               false,
               false,
               false,
               false,
               false,
               false,
               false,
               false,
               false,
               false,
               false,
               false,
               false,
               false,
               false,
               false,
               false,
               false,
               false,
               false,
               false,
               false,
               false,
               false,
               false,
               false,
               false,
               false,
               false,
               false,
               false
              ]
             },
             {
              "font": {
               "size": 10
              },
              "title": "Event: nan"
             }
            ],
            "label": "frame27",
            "method": "update"
           },
           {
            "args": [
             {
              "visible": [
               false,
               false,
               false,
               false,
               false,
               false,
               false,
               false,
               false,
               false,
               false,
               false,
               false,
               false,
               false,
               false,
               false,
               false,
               false,
               false,
               false,
               false,
               false,
               false,
               false,
               false,
               false,
               false,
               false,
               false,
               false,
               false,
               false,
               false,
               false,
               false,
               false,
               false,
               false,
               false,
               false,
               false,
               false,
               false,
               false,
               false,
               false,
               false,
               false,
               false,
               false,
               false,
               false,
               false,
               true,
               true,
               false,
               false,
               false,
               false,
               false,
               false,
               false,
               false,
               false,
               false,
               false,
               false,
               false,
               false,
               false,
               false,
               false,
               false,
               false,
               false,
               false,
               false,
               false,
               false,
               false,
               false,
               false,
               false,
               false,
               false,
               false,
               false,
               false,
               false
              ]
             },
             {
              "font": {
               "size": 10
              },
              "title": "Event: nan"
             }
            ],
            "label": "frame28",
            "method": "update"
           },
           {
            "args": [
             {
              "visible": [
               false,
               false,
               false,
               false,
               false,
               false,
               false,
               false,
               false,
               false,
               false,
               false,
               false,
               false,
               false,
               false,
               false,
               false,
               false,
               false,
               false,
               false,
               false,
               false,
               false,
               false,
               false,
               false,
               false,
               false,
               false,
               false,
               false,
               false,
               false,
               false,
               false,
               false,
               false,
               false,
               false,
               false,
               false,
               false,
               false,
               false,
               false,
               false,
               false,
               false,
               false,
               false,
               false,
               false,
               false,
               false,
               true,
               true,
               false,
               false,
               false,
               false,
               false,
               false,
               false,
               false,
               false,
               false,
               false,
               false,
               false,
               false,
               false,
               false,
               false,
               false,
               false,
               false,
               false,
               false,
               false,
               false,
               false,
               false,
               false,
               false,
               false,
               false,
               false,
               false
              ]
             },
             {
              "font": {
               "size": 10
              },
              "title": "Event: first_contact"
             }
            ],
            "label": "frame29",
            "method": "update"
           },
           {
            "args": [
             {
              "visible": [
               false,
               false,
               false,
               false,
               false,
               false,
               false,
               false,
               false,
               false,
               false,
               false,
               false,
               false,
               false,
               false,
               false,
               false,
               false,
               false,
               false,
               false,
               false,
               false,
               false,
               false,
               false,
               false,
               false,
               false,
               false,
               false,
               false,
               false,
               false,
               false,
               false,
               false,
               false,
               false,
               false,
               false,
               false,
               false,
               false,
               false,
               false,
               false,
               false,
               false,
               false,
               false,
               false,
               false,
               false,
               false,
               false,
               false,
               true,
               true,
               false,
               false,
               false,
               false,
               false,
               false,
               false,
               false,
               false,
               false,
               false,
               false,
               false,
               false,
               false,
               false,
               false,
               false,
               false,
               false,
               false,
               false,
               false,
               false,
               false,
               false,
               false,
               false,
               false,
               false
              ]
             },
             {
              "font": {
               "size": 10
              },
              "title": "Event: nan"
             }
            ],
            "label": "frame30",
            "method": "update"
           },
           {
            "args": [
             {
              "visible": [
               false,
               false,
               false,
               false,
               false,
               false,
               false,
               false,
               false,
               false,
               false,
               false,
               false,
               false,
               false,
               false,
               false,
               false,
               false,
               false,
               false,
               false,
               false,
               false,
               false,
               false,
               false,
               false,
               false,
               false,
               false,
               false,
               false,
               false,
               false,
               false,
               false,
               false,
               false,
               false,
               false,
               false,
               false,
               false,
               false,
               false,
               false,
               false,
               false,
               false,
               false,
               false,
               false,
               false,
               false,
               false,
               false,
               false,
               false,
               false,
               true,
               true,
               false,
               false,
               false,
               false,
               false,
               false,
               false,
               false,
               false,
               false,
               false,
               false,
               false,
               false,
               false,
               false,
               false,
               false,
               false,
               false,
               false,
               false,
               false,
               false,
               false,
               false,
               false,
               false
              ]
             },
             {
              "font": {
               "size": 10
              },
              "title": "Event: nan"
             }
            ],
            "label": "frame31",
            "method": "update"
           },
           {
            "args": [
             {
              "visible": [
               false,
               false,
               false,
               false,
               false,
               false,
               false,
               false,
               false,
               false,
               false,
               false,
               false,
               false,
               false,
               false,
               false,
               false,
               false,
               false,
               false,
               false,
               false,
               false,
               false,
               false,
               false,
               false,
               false,
               false,
               false,
               false,
               false,
               false,
               false,
               false,
               false,
               false,
               false,
               false,
               false,
               false,
               false,
               false,
               false,
               false,
               false,
               false,
               false,
               false,
               false,
               false,
               false,
               false,
               false,
               false,
               false,
               false,
               false,
               false,
               false,
               false,
               true,
               true,
               false,
               false,
               false,
               false,
               false,
               false,
               false,
               false,
               false,
               false,
               false,
               false,
               false,
               false,
               false,
               false,
               false,
               false,
               false,
               false,
               false,
               false,
               false,
               false,
               false,
               false
              ]
             },
             {
              "font": {
               "size": 10
              },
              "title": "Event: nan"
             }
            ],
            "label": "frame32",
            "method": "update"
           },
           {
            "args": [
             {
              "visible": [
               false,
               false,
               false,
               false,
               false,
               false,
               false,
               false,
               false,
               false,
               false,
               false,
               false,
               false,
               false,
               false,
               false,
               false,
               false,
               false,
               false,
               false,
               false,
               false,
               false,
               false,
               false,
               false,
               false,
               false,
               false,
               false,
               false,
               false,
               false,
               false,
               false,
               false,
               false,
               false,
               false,
               false,
               false,
               false,
               false,
               false,
               false,
               false,
               false,
               false,
               false,
               false,
               false,
               false,
               false,
               false,
               false,
               false,
               false,
               false,
               false,
               false,
               false,
               false,
               true,
               true,
               false,
               false,
               false,
               false,
               false,
               false,
               false,
               false,
               false,
               false,
               false,
               false,
               false,
               false,
               false,
               false,
               false,
               false,
               false,
               false,
               false,
               false,
               false,
               false
              ]
             },
             {
              "font": {
               "size": 10
              },
              "title": "Event: nan"
             }
            ],
            "label": "frame33",
            "method": "update"
           },
           {
            "args": [
             {
              "visible": [
               false,
               false,
               false,
               false,
               false,
               false,
               false,
               false,
               false,
               false,
               false,
               false,
               false,
               false,
               false,
               false,
               false,
               false,
               false,
               false,
               false,
               false,
               false,
               false,
               false,
               false,
               false,
               false,
               false,
               false,
               false,
               false,
               false,
               false,
               false,
               false,
               false,
               false,
               false,
               false,
               false,
               false,
               false,
               false,
               false,
               false,
               false,
               false,
               false,
               false,
               false,
               false,
               false,
               false,
               false,
               false,
               false,
               false,
               false,
               false,
               false,
               false,
               false,
               false,
               false,
               false,
               true,
               true,
               false,
               false,
               false,
               false,
               false,
               false,
               false,
               false,
               false,
               false,
               false,
               false,
               false,
               false,
               false,
               false,
               false,
               false,
               false,
               false,
               false,
               false
              ]
             },
             {
              "font": {
               "size": 10
              },
              "title": "Event: nan"
             }
            ],
            "label": "frame34",
            "method": "update"
           },
           {
            "args": [
             {
              "visible": [
               false,
               false,
               false,
               false,
               false,
               false,
               false,
               false,
               false,
               false,
               false,
               false,
               false,
               false,
               false,
               false,
               false,
               false,
               false,
               false,
               false,
               false,
               false,
               false,
               false,
               false,
               false,
               false,
               false,
               false,
               false,
               false,
               false,
               false,
               false,
               false,
               false,
               false,
               false,
               false,
               false,
               false,
               false,
               false,
               false,
               false,
               false,
               false,
               false,
               false,
               false,
               false,
               false,
               false,
               false,
               false,
               false,
               false,
               false,
               false,
               false,
               false,
               false,
               false,
               false,
               false,
               false,
               false,
               true,
               true,
               false,
               false,
               false,
               false,
               false,
               false,
               false,
               false,
               false,
               false,
               false,
               false,
               false,
               false,
               false,
               false,
               false,
               false,
               false,
               false
              ]
             },
             {
              "font": {
               "size": 10
              },
              "title": "Event: nan"
             }
            ],
            "label": "frame35",
            "method": "update"
           },
           {
            "args": [
             {
              "visible": [
               false,
               false,
               false,
               false,
               false,
               false,
               false,
               false,
               false,
               false,
               false,
               false,
               false,
               false,
               false,
               false,
               false,
               false,
               false,
               false,
               false,
               false,
               false,
               false,
               false,
               false,
               false,
               false,
               false,
               false,
               false,
               false,
               false,
               false,
               false,
               false,
               false,
               false,
               false,
               false,
               false,
               false,
               false,
               false,
               false,
               false,
               false,
               false,
               false,
               false,
               false,
               false,
               false,
               false,
               false,
               false,
               false,
               false,
               false,
               false,
               false,
               false,
               false,
               false,
               false,
               false,
               false,
               false,
               false,
               false,
               true,
               true,
               false,
               false,
               false,
               false,
               false,
               false,
               false,
               false,
               false,
               false,
               false,
               false,
               false,
               false,
               false,
               false,
               false,
               false
              ]
             },
             {
              "font": {
               "size": 10
              },
              "title": "Event: nan"
             }
            ],
            "label": "frame36",
            "method": "update"
           },
           {
            "args": [
             {
              "visible": [
               false,
               false,
               false,
               false,
               false,
               false,
               false,
               false,
               false,
               false,
               false,
               false,
               false,
               false,
               false,
               false,
               false,
               false,
               false,
               false,
               false,
               false,
               false,
               false,
               false,
               false,
               false,
               false,
               false,
               false,
               false,
               false,
               false,
               false,
               false,
               false,
               false,
               false,
               false,
               false,
               false,
               false,
               false,
               false,
               false,
               false,
               false,
               false,
               false,
               false,
               false,
               false,
               false,
               false,
               false,
               false,
               false,
               false,
               false,
               false,
               false,
               false,
               false,
               false,
               false,
               false,
               false,
               false,
               false,
               false,
               false,
               false,
               true,
               true,
               false,
               false,
               false,
               false,
               false,
               false,
               false,
               false,
               false,
               false,
               false,
               false,
               false,
               false,
               false,
               false
              ]
             },
             {
              "font": {
               "size": 10
              },
              "title": "Event: nan"
             }
            ],
            "label": "frame37",
            "method": "update"
           },
           {
            "args": [
             {
              "visible": [
               false,
               false,
               false,
               false,
               false,
               false,
               false,
               false,
               false,
               false,
               false,
               false,
               false,
               false,
               false,
               false,
               false,
               false,
               false,
               false,
               false,
               false,
               false,
               false,
               false,
               false,
               false,
               false,
               false,
               false,
               false,
               false,
               false,
               false,
               false,
               false,
               false,
               false,
               false,
               false,
               false,
               false,
               false,
               false,
               false,
               false,
               false,
               false,
               false,
               false,
               false,
               false,
               false,
               false,
               false,
               false,
               false,
               false,
               false,
               false,
               false,
               false,
               false,
               false,
               false,
               false,
               false,
               false,
               false,
               false,
               false,
               false,
               false,
               false,
               true,
               true,
               false,
               false,
               false,
               false,
               false,
               false,
               false,
               false,
               false,
               false,
               false,
               false,
               false,
               false
              ]
             },
             {
              "font": {
               "size": 10
              },
              "title": "Event: nan"
             }
            ],
            "label": "frame38",
            "method": "update"
           },
           {
            "args": [
             {
              "visible": [
               false,
               false,
               false,
               false,
               false,
               false,
               false,
               false,
               false,
               false,
               false,
               false,
               false,
               false,
               false,
               false,
               false,
               false,
               false,
               false,
               false,
               false,
               false,
               false,
               false,
               false,
               false,
               false,
               false,
               false,
               false,
               false,
               false,
               false,
               false,
               false,
               false,
               false,
               false,
               false,
               false,
               false,
               false,
               false,
               false,
               false,
               false,
               false,
               false,
               false,
               false,
               false,
               false,
               false,
               false,
               false,
               false,
               false,
               false,
               false,
               false,
               false,
               false,
               false,
               false,
               false,
               false,
               false,
               false,
               false,
               false,
               false,
               false,
               false,
               false,
               false,
               true,
               true,
               false,
               false,
               false,
               false,
               false,
               false,
               false,
               false,
               false,
               false,
               false,
               false
              ]
             },
             {
              "font": {
               "size": 10
              },
              "title": "Event: nan"
             }
            ],
            "label": "frame39",
            "method": "update"
           },
           {
            "args": [
             {
              "visible": [
               false,
               false,
               false,
               false,
               false,
               false,
               false,
               false,
               false,
               false,
               false,
               false,
               false,
               false,
               false,
               false,
               false,
               false,
               false,
               false,
               false,
               false,
               false,
               false,
               false,
               false,
               false,
               false,
               false,
               false,
               false,
               false,
               false,
               false,
               false,
               false,
               false,
               false,
               false,
               false,
               false,
               false,
               false,
               false,
               false,
               false,
               false,
               false,
               false,
               false,
               false,
               false,
               false,
               false,
               false,
               false,
               false,
               false,
               false,
               false,
               false,
               false,
               false,
               false,
               false,
               false,
               false,
               false,
               false,
               false,
               false,
               false,
               false,
               false,
               false,
               false,
               false,
               false,
               true,
               true,
               false,
               false,
               false,
               false,
               false,
               false,
               false,
               false,
               false,
               false
              ]
             },
             {
              "font": {
               "size": 10
              },
              "title": "Event: nan"
             }
            ],
            "label": "frame40",
            "method": "update"
           },
           {
            "args": [
             {
              "visible": [
               false,
               false,
               false,
               false,
               false,
               false,
               false,
               false,
               false,
               false,
               false,
               false,
               false,
               false,
               false,
               false,
               false,
               false,
               false,
               false,
               false,
               false,
               false,
               false,
               false,
               false,
               false,
               false,
               false,
               false,
               false,
               false,
               false,
               false,
               false,
               false,
               false,
               false,
               false,
               false,
               false,
               false,
               false,
               false,
               false,
               false,
               false,
               false,
               false,
               false,
               false,
               false,
               false,
               false,
               false,
               false,
               false,
               false,
               false,
               false,
               false,
               false,
               false,
               false,
               false,
               false,
               false,
               false,
               false,
               false,
               false,
               false,
               false,
               false,
               false,
               false,
               false,
               false,
               false,
               false,
               true,
               true,
               false,
               false,
               false,
               false,
               false,
               false,
               false,
               false
              ]
             },
             {
              "font": {
               "size": 10
              },
              "title": "Event: out_of_bounds"
             }
            ],
            "label": "frame41",
            "method": "update"
           },
           {
            "args": [
             {
              "visible": [
               false,
               false,
               false,
               false,
               false,
               false,
               false,
               false,
               false,
               false,
               false,
               false,
               false,
               false,
               false,
               false,
               false,
               false,
               false,
               false,
               false,
               false,
               false,
               false,
               false,
               false,
               false,
               false,
               false,
               false,
               false,
               false,
               false,
               false,
               false,
               false,
               false,
               false,
               false,
               false,
               false,
               false,
               false,
               false,
               false,
               false,
               false,
               false,
               false,
               false,
               false,
               false,
               false,
               false,
               false,
               false,
               false,
               false,
               false,
               false,
               false,
               false,
               false,
               false,
               false,
               false,
               false,
               false,
               false,
               false,
               false,
               false,
               false,
               false,
               false,
               false,
               false,
               false,
               false,
               false,
               false,
               false,
               true,
               true,
               false,
               false,
               false,
               false,
               false,
               false
              ]
             },
             {
              "font": {
               "size": 10
              },
              "title": "Event: nan"
             }
            ],
            "label": "frame42",
            "method": "update"
           },
           {
            "args": [
             {
              "visible": [
               false,
               false,
               false,
               false,
               false,
               false,
               false,
               false,
               false,
               false,
               false,
               false,
               false,
               false,
               false,
               false,
               false,
               false,
               false,
               false,
               false,
               false,
               false,
               false,
               false,
               false,
               false,
               false,
               false,
               false,
               false,
               false,
               false,
               false,
               false,
               false,
               false,
               false,
               false,
               false,
               false,
               false,
               false,
               false,
               false,
               false,
               false,
               false,
               false,
               false,
               false,
               false,
               false,
               false,
               false,
               false,
               false,
               false,
               false,
               false,
               false,
               false,
               false,
               false,
               false,
               false,
               false,
               false,
               false,
               false,
               false,
               false,
               false,
               false,
               false,
               false,
               false,
               false,
               false,
               false,
               false,
               false,
               false,
               false,
               true,
               true,
               false,
               false,
               false,
               false
              ]
             },
             {
              "font": {
               "size": 10
              },
              "title": "Event: nan"
             }
            ],
            "label": "frame43",
            "method": "update"
           },
           {
            "args": [
             {
              "visible": [
               false,
               false,
               false,
               false,
               false,
               false,
               false,
               false,
               false,
               false,
               false,
               false,
               false,
               false,
               false,
               false,
               false,
               false,
               false,
               false,
               false,
               false,
               false,
               false,
               false,
               false,
               false,
               false,
               false,
               false,
               false,
               false,
               false,
               false,
               false,
               false,
               false,
               false,
               false,
               false,
               false,
               false,
               false,
               false,
               false,
               false,
               false,
               false,
               false,
               false,
               false,
               false,
               false,
               false,
               false,
               false,
               false,
               false,
               false,
               false,
               false,
               false,
               false,
               false,
               false,
               false,
               false,
               false,
               false,
               false,
               false,
               false,
               false,
               false,
               false,
               false,
               false,
               false,
               false,
               false,
               false,
               false,
               false,
               false,
               false,
               false,
               true,
               true,
               false,
               false
              ]
             },
             {
              "font": {
               "size": 10
              },
              "title": "Event: nan"
             }
            ],
            "label": "frame44",
            "method": "update"
           },
           {
            "args": [
             {
              "visible": [
               false,
               false,
               false,
               false,
               false,
               false,
               false,
               false,
               false,
               false,
               false,
               false,
               false,
               false,
               false,
               false,
               false,
               false,
               false,
               false,
               false,
               false,
               false,
               false,
               false,
               false,
               false,
               false,
               false,
               false,
               false,
               false,
               false,
               false,
               false,
               false,
               false,
               false,
               false,
               false,
               false,
               false,
               false,
               false,
               false,
               false,
               false,
               false,
               false,
               false,
               false,
               false,
               false,
               false,
               false,
               false,
               false,
               false,
               false,
               false,
               false,
               false,
               false,
               false,
               false,
               false,
               false,
               false,
               false,
               false,
               false,
               false,
               false,
               false,
               false,
               false,
               false,
               false,
               false,
               false,
               false,
               false,
               false,
               false,
               false,
               false,
               false,
               false,
               true,
               true
              ]
             },
             {
              "font": {
               "size": 10
              },
              "title": "Event: nan"
             }
            ],
            "label": "frame45",
            "method": "update"
           }
          ]
         }
        ],
        "template": {
         "data": {
          "bar": [
           {
            "error_x": {
             "color": "#2a3f5f"
            },
            "error_y": {
             "color": "#2a3f5f"
            },
            "marker": {
             "line": {
              "color": "#E5ECF6",
              "width": 0.5
             },
             "pattern": {
              "fillmode": "overlay",
              "size": 10,
              "solidity": 0.2
             }
            },
            "type": "bar"
           }
          ],
          "barpolar": [
           {
            "marker": {
             "line": {
              "color": "#E5ECF6",
              "width": 0.5
             },
             "pattern": {
              "fillmode": "overlay",
              "size": 10,
              "solidity": 0.2
             }
            },
            "type": "barpolar"
           }
          ],
          "carpet": [
           {
            "aaxis": {
             "endlinecolor": "#2a3f5f",
             "gridcolor": "white",
             "linecolor": "white",
             "minorgridcolor": "white",
             "startlinecolor": "#2a3f5f"
            },
            "baxis": {
             "endlinecolor": "#2a3f5f",
             "gridcolor": "white",
             "linecolor": "white",
             "minorgridcolor": "white",
             "startlinecolor": "#2a3f5f"
            },
            "type": "carpet"
           }
          ],
          "choropleth": [
           {
            "colorbar": {
             "outlinewidth": 0,
             "ticks": ""
            },
            "type": "choropleth"
           }
          ],
          "contour": [
           {
            "colorbar": {
             "outlinewidth": 0,
             "ticks": ""
            },
            "colorscale": [
             [
              0,
              "#0d0887"
             ],
             [
              0.1111111111111111,
              "#46039f"
             ],
             [
              0.2222222222222222,
              "#7201a8"
             ],
             [
              0.3333333333333333,
              "#9c179e"
             ],
             [
              0.4444444444444444,
              "#bd3786"
             ],
             [
              0.5555555555555556,
              "#d8576b"
             ],
             [
              0.6666666666666666,
              "#ed7953"
             ],
             [
              0.7777777777777778,
              "#fb9f3a"
             ],
             [
              0.8888888888888888,
              "#fdca26"
             ],
             [
              1,
              "#f0f921"
             ]
            ],
            "type": "contour"
           }
          ],
          "contourcarpet": [
           {
            "colorbar": {
             "outlinewidth": 0,
             "ticks": ""
            },
            "type": "contourcarpet"
           }
          ],
          "heatmap": [
           {
            "colorbar": {
             "outlinewidth": 0,
             "ticks": ""
            },
            "colorscale": [
             [
              0,
              "#0d0887"
             ],
             [
              0.1111111111111111,
              "#46039f"
             ],
             [
              0.2222222222222222,
              "#7201a8"
             ],
             [
              0.3333333333333333,
              "#9c179e"
             ],
             [
              0.4444444444444444,
              "#bd3786"
             ],
             [
              0.5555555555555556,
              "#d8576b"
             ],
             [
              0.6666666666666666,
              "#ed7953"
             ],
             [
              0.7777777777777778,
              "#fb9f3a"
             ],
             [
              0.8888888888888888,
              "#fdca26"
             ],
             [
              1,
              "#f0f921"
             ]
            ],
            "type": "heatmap"
           }
          ],
          "heatmapgl": [
           {
            "colorbar": {
             "outlinewidth": 0,
             "ticks": ""
            },
            "colorscale": [
             [
              0,
              "#0d0887"
             ],
             [
              0.1111111111111111,
              "#46039f"
             ],
             [
              0.2222222222222222,
              "#7201a8"
             ],
             [
              0.3333333333333333,
              "#9c179e"
             ],
             [
              0.4444444444444444,
              "#bd3786"
             ],
             [
              0.5555555555555556,
              "#d8576b"
             ],
             [
              0.6666666666666666,
              "#ed7953"
             ],
             [
              0.7777777777777778,
              "#fb9f3a"
             ],
             [
              0.8888888888888888,
              "#fdca26"
             ],
             [
              1,
              "#f0f921"
             ]
            ],
            "type": "heatmapgl"
           }
          ],
          "histogram": [
           {
            "marker": {
             "pattern": {
              "fillmode": "overlay",
              "size": 10,
              "solidity": 0.2
             }
            },
            "type": "histogram"
           }
          ],
          "histogram2d": [
           {
            "colorbar": {
             "outlinewidth": 0,
             "ticks": ""
            },
            "colorscale": [
             [
              0,
              "#0d0887"
             ],
             [
              0.1111111111111111,
              "#46039f"
             ],
             [
              0.2222222222222222,
              "#7201a8"
             ],
             [
              0.3333333333333333,
              "#9c179e"
             ],
             [
              0.4444444444444444,
              "#bd3786"
             ],
             [
              0.5555555555555556,
              "#d8576b"
             ],
             [
              0.6666666666666666,
              "#ed7953"
             ],
             [
              0.7777777777777778,
              "#fb9f3a"
             ],
             [
              0.8888888888888888,
              "#fdca26"
             ],
             [
              1,
              "#f0f921"
             ]
            ],
            "type": "histogram2d"
           }
          ],
          "histogram2dcontour": [
           {
            "colorbar": {
             "outlinewidth": 0,
             "ticks": ""
            },
            "colorscale": [
             [
              0,
              "#0d0887"
             ],
             [
              0.1111111111111111,
              "#46039f"
             ],
             [
              0.2222222222222222,
              "#7201a8"
             ],
             [
              0.3333333333333333,
              "#9c179e"
             ],
             [
              0.4444444444444444,
              "#bd3786"
             ],
             [
              0.5555555555555556,
              "#d8576b"
             ],
             [
              0.6666666666666666,
              "#ed7953"
             ],
             [
              0.7777777777777778,
              "#fb9f3a"
             ],
             [
              0.8888888888888888,
              "#fdca26"
             ],
             [
              1,
              "#f0f921"
             ]
            ],
            "type": "histogram2dcontour"
           }
          ],
          "mesh3d": [
           {
            "colorbar": {
             "outlinewidth": 0,
             "ticks": ""
            },
            "type": "mesh3d"
           }
          ],
          "parcoords": [
           {
            "line": {
             "colorbar": {
              "outlinewidth": 0,
              "ticks": ""
             }
            },
            "type": "parcoords"
           }
          ],
          "pie": [
           {
            "automargin": true,
            "type": "pie"
           }
          ],
          "scatter": [
           {
            "fillpattern": {
             "fillmode": "overlay",
             "size": 10,
             "solidity": 0.2
            },
            "type": "scatter"
           }
          ],
          "scatter3d": [
           {
            "line": {
             "colorbar": {
              "outlinewidth": 0,
              "ticks": ""
             }
            },
            "marker": {
             "colorbar": {
              "outlinewidth": 0,
              "ticks": ""
             }
            },
            "type": "scatter3d"
           }
          ],
          "scattercarpet": [
           {
            "marker": {
             "colorbar": {
              "outlinewidth": 0,
              "ticks": ""
             }
            },
            "type": "scattercarpet"
           }
          ],
          "scattergeo": [
           {
            "marker": {
             "colorbar": {
              "outlinewidth": 0,
              "ticks": ""
             }
            },
            "type": "scattergeo"
           }
          ],
          "scattergl": [
           {
            "marker": {
             "colorbar": {
              "outlinewidth": 0,
              "ticks": ""
             }
            },
            "type": "scattergl"
           }
          ],
          "scattermapbox": [
           {
            "marker": {
             "colorbar": {
              "outlinewidth": 0,
              "ticks": ""
             }
            },
            "type": "scattermapbox"
           }
          ],
          "scatterpolar": [
           {
            "marker": {
             "colorbar": {
              "outlinewidth": 0,
              "ticks": ""
             }
            },
            "type": "scatterpolar"
           }
          ],
          "scatterpolargl": [
           {
            "marker": {
             "colorbar": {
              "outlinewidth": 0,
              "ticks": ""
             }
            },
            "type": "scatterpolargl"
           }
          ],
          "scatterternary": [
           {
            "marker": {
             "colorbar": {
              "outlinewidth": 0,
              "ticks": ""
             }
            },
            "type": "scatterternary"
           }
          ],
          "surface": [
           {
            "colorbar": {
             "outlinewidth": 0,
             "ticks": ""
            },
            "colorscale": [
             [
              0,
              "#0d0887"
             ],
             [
              0.1111111111111111,
              "#46039f"
             ],
             [
              0.2222222222222222,
              "#7201a8"
             ],
             [
              0.3333333333333333,
              "#9c179e"
             ],
             [
              0.4444444444444444,
              "#bd3786"
             ],
             [
              0.5555555555555556,
              "#d8576b"
             ],
             [
              0.6666666666666666,
              "#ed7953"
             ],
             [
              0.7777777777777778,
              "#fb9f3a"
             ],
             [
              0.8888888888888888,
              "#fdca26"
             ],
             [
              1,
              "#f0f921"
             ]
            ],
            "type": "surface"
           }
          ],
          "table": [
           {
            "cells": {
             "fill": {
              "color": "#EBF0F8"
             },
             "line": {
              "color": "white"
             }
            },
            "header": {
             "fill": {
              "color": "#C8D4E3"
             },
             "line": {
              "color": "white"
             }
            },
            "type": "table"
           }
          ]
         },
         "layout": {
          "annotationdefaults": {
           "arrowcolor": "#2a3f5f",
           "arrowhead": 0,
           "arrowwidth": 1
          },
          "autotypenumbers": "strict",
          "coloraxis": {
           "colorbar": {
            "outlinewidth": 0,
            "ticks": ""
           }
          },
          "colorscale": {
           "diverging": [
            [
             0,
             "#8e0152"
            ],
            [
             0.1,
             "#c51b7d"
            ],
            [
             0.2,
             "#de77ae"
            ],
            [
             0.3,
             "#f1b6da"
            ],
            [
             0.4,
             "#fde0ef"
            ],
            [
             0.5,
             "#f7f7f7"
            ],
            [
             0.6,
             "#e6f5d0"
            ],
            [
             0.7,
             "#b8e186"
            ],
            [
             0.8,
             "#7fbc41"
            ],
            [
             0.9,
             "#4d9221"
            ],
            [
             1,
             "#276419"
            ]
           ],
           "sequential": [
            [
             0,
             "#0d0887"
            ],
            [
             0.1111111111111111,
             "#46039f"
            ],
            [
             0.2222222222222222,
             "#7201a8"
            ],
            [
             0.3333333333333333,
             "#9c179e"
            ],
            [
             0.4444444444444444,
             "#bd3786"
            ],
            [
             0.5555555555555556,
             "#d8576b"
            ],
            [
             0.6666666666666666,
             "#ed7953"
            ],
            [
             0.7777777777777778,
             "#fb9f3a"
            ],
            [
             0.8888888888888888,
             "#fdca26"
            ],
            [
             1,
             "#f0f921"
            ]
           ],
           "sequentialminus": [
            [
             0,
             "#0d0887"
            ],
            [
             0.1111111111111111,
             "#46039f"
            ],
            [
             0.2222222222222222,
             "#7201a8"
            ],
            [
             0.3333333333333333,
             "#9c179e"
            ],
            [
             0.4444444444444444,
             "#bd3786"
            ],
            [
             0.5555555555555556,
             "#d8576b"
            ],
            [
             0.6666666666666666,
             "#ed7953"
            ],
            [
             0.7777777777777778,
             "#fb9f3a"
            ],
            [
             0.8888888888888888,
             "#fdca26"
            ],
            [
             1,
             "#f0f921"
            ]
           ]
          },
          "colorway": [
           "#636efa",
           "#EF553B",
           "#00cc96",
           "#ab63fa",
           "#FFA15A",
           "#19d3f3",
           "#FF6692",
           "#B6E880",
           "#FF97FF",
           "#FECB52"
          ],
          "font": {
           "color": "#2a3f5f"
          },
          "geo": {
           "bgcolor": "white",
           "lakecolor": "white",
           "landcolor": "#E5ECF6",
           "showlakes": true,
           "showland": true,
           "subunitcolor": "white"
          },
          "hoverlabel": {
           "align": "left"
          },
          "hovermode": "closest",
          "mapbox": {
           "style": "light"
          },
          "paper_bgcolor": "white",
          "plot_bgcolor": "#E5ECF6",
          "polar": {
           "angularaxis": {
            "gridcolor": "white",
            "linecolor": "white",
            "ticks": ""
           },
           "bgcolor": "#E5ECF6",
           "radialaxis": {
            "gridcolor": "white",
            "linecolor": "white",
            "ticks": ""
           }
          },
          "scene": {
           "xaxis": {
            "backgroundcolor": "#E5ECF6",
            "gridcolor": "white",
            "gridwidth": 2,
            "linecolor": "white",
            "showbackground": true,
            "ticks": "",
            "zerolinecolor": "white"
           },
           "yaxis": {
            "backgroundcolor": "#E5ECF6",
            "gridcolor": "white",
            "gridwidth": 2,
            "linecolor": "white",
            "showbackground": true,
            "ticks": "",
            "zerolinecolor": "white"
           },
           "zaxis": {
            "backgroundcolor": "#E5ECF6",
            "gridcolor": "white",
            "gridwidth": 2,
            "linecolor": "white",
            "showbackground": true,
            "ticks": "",
            "zerolinecolor": "white"
           }
          },
          "shapedefaults": {
           "line": {
            "color": "#2a3f5f"
           }
          },
          "ternary": {
           "aaxis": {
            "gridcolor": "white",
            "linecolor": "white",
            "ticks": ""
           },
           "baxis": {
            "gridcolor": "white",
            "linecolor": "white",
            "ticks": ""
           },
           "bgcolor": "#E5ECF6",
           "caxis": {
            "gridcolor": "white",
            "linecolor": "white",
            "ticks": ""
           }
          },
          "title": {
           "x": 0.05
          },
          "xaxis": {
           "automargin": true,
           "gridcolor": "white",
           "linecolor": "white",
           "ticks": "",
           "title": {
            "standoff": 15
           },
           "zerolinecolor": "white",
           "zerolinewidth": 2
          },
          "yaxis": {
           "automargin": true,
           "gridcolor": "white",
           "linecolor": "white",
           "ticks": "",
           "title": {
            "standoff": 15
           },
           "zerolinecolor": "white",
           "zerolinewidth": 2
          }
         }
        },
        "title": {
         "font": {
          "size": 12
         },
         "x": 0.5,
         "y": 0.98,
         "yanchor": "top"
        },
        "width": 800,
        "xaxis": {
         "constrain": "range",
         "range": [
          12.079999999999998,
          44.75
         ],
         "showgrid": false,
         "showticklabels": false
        },
        "yaxis": {
         "range": [
          -0.5,
          54
         ],
         "scaleanchor": "x",
         "scaleratio": 1,
         "showgrid": false,
         "showticklabels": false
        }
       }
      },
      "text/html": [
       "<div>                            <div id=\"9bbc8430-c78b-4b92-b10f-ab1eca54fb19\" class=\"plotly-graph-div\" style=\"height:600px; width:800px;\"></div>            <script type=\"text/javascript\">                require([\"plotly\"], function(Plotly) {                    window.PLOTLYENV=window.PLOTLYENV || {};                                    if (document.getElementById(\"9bbc8430-c78b-4b92-b10f-ab1eca54fb19\")) {                    Plotly.newPlot(                        \"9bbc8430-c78b-4b92-b10f-ab1eca54fb19\",                        [{\"hovertemplate\":\"%{hovertext}\",\"hovertext\":[\"Lavonte David\",\"Jake Matthews\",\"Shaquil Barrett\",\"Marcus Mariota\",\"Rakeem Nunez-Roches\",\"Keanu Neal\",\"Elijah Wilkinson\",\"Vita Vea\",\"Carlton Davis\",\"KhaDarel Hodge\",\"Devin White\",\"Chris Lindstrom\",\"Kaleb McGary\",\"Jamel Dean\",\"Mike Edwards\",\"Olamide Zaccheaus\",\"Antoine Winfield\",\"Joe Tryon\",\"Drew Dalman\",\"Feleipe Franks\",\"Drake London\",\"Tyler Allgeier\"],\"marker\":{\"angle\":[-176.94,-24.059999999999945,-63.05000000000001,171.01999999999998,-40.95999999999998,-168.41999999999996,79.57999999999998,-144.57,-107.94999999999999,29.650000000000006,-148.60000000000002,11.990000000000009,26.879999999999995,-138.93,-148.14999999999998,-52.129999999999995,-126.97000000000003,124.18,31.639999999999986,24.819999999999993,100.5,84.86000000000001],\"color\":[\"#768cb0\",\"burlywood\",\"#768cb0\",\"burlywood\",\"#768cb0\",\"#768cb0\",\"burlywood\",\"#768cb0\",\"darkblue\",\"sienna\",\"#768cb0\",\"burlywood\",\"burlywood\",\"#768cb0\",\"#768cb0\",\"burlywood\",\"#768cb0\",\"#768cb0\",\"burlywood\",\"burlywood\",\"burlywood\",\"burlywood\"],\"size\":[16,16,16,16,16,16,16,16,20,20,16,16,16,16,16,16,16,16,16,16,16,16],\"symbol\":\"arrow\"},\"mode\":\"markers\",\"showlegend\":false,\"visible\":true,\"x\":[27.52,22.11,22.12,17.51,22.36,38.35,21.77,22.87,33.24,17.08,27.09,25.26,25.86,33.2,32.87,26.04,19.78,22.66,22.16,28.88,27.64,21.46],\"y\":[34.57,37.33,29.99,30.61,34.54,30.94,35.21,35.28,12.02,17.84,25.73,32.95,31.31,42.72,18.96,16.58,23.97,37.83,34.4,42.97,11.65,31.16],\"type\":\"scatter\"},{\"marker\":{\"color\":[\"dimgrey\"],\"size\":8},\"mode\":\"markers\",\"showlegend\":false,\"visible\":true,\"x\":[17.2399997711182],\"y\":[21.25],\"type\":\"scatter\"},{\"hovertemplate\":\"%{hovertext}\",\"hovertext\":[\"Lavonte David\",\"Jake Matthews\",\"Shaquil Barrett\",\"Marcus Mariota\",\"Rakeem Nunez-Roches\",\"Keanu Neal\",\"Elijah Wilkinson\",\"Vita Vea\",\"Carlton Davis\",\"KhaDarel Hodge\",\"Devin White\",\"Chris Lindstrom\",\"Kaleb McGary\",\"Jamel Dean\",\"Mike Edwards\",\"Olamide Zaccheaus\",\"Antoine Winfield\",\"Joe Tryon\",\"Drew Dalman\",\"Feleipe Franks\",\"Drake London\",\"Tyler Allgeier\"],\"marker\":{\"angle\":[178.72000000000003,-20.350000000000023,-89.91000000000003,171.01999999999998,-27.370000000000005,-163.31,88.74000000000001,-147.51999999999998,-103.44,32.49000000000001,-150.76999999999998,11.990000000000009,26.879999999999995,-153.14,-144.27999999999997,-68.63,-152.14,135.26999999999998,28.099999999999994,62.860000000000014,98.98000000000002,96.52999999999997],\"color\":[\"#768cb0\",\"burlywood\",\"#768cb0\",\"burlywood\",\"#768cb0\",\"#768cb0\",\"burlywood\",\"#768cb0\",\"darkblue\",\"sienna\",\"#768cb0\",\"burlywood\",\"burlywood\",\"#768cb0\",\"#768cb0\",\"burlywood\",\"#768cb0\",\"#768cb0\",\"burlywood\",\"burlywood\",\"burlywood\",\"burlywood\"],\"size\":[16,16,16,16,16,16,16,16,20,20,16,16,16,16,16,16,16,16,16,16,16,16],\"symbol\":\"arrow\"},\"mode\":\"markers\",\"showlegend\":false,\"visible\":false,\"x\":[27.59,22.23,21.97,17.49,22.33,38.71,21.84,22.99,33.27,17.31,27.04,25.62,26.19,33.49,32.55,26.46,19.46,22.88,22.1,29.52,28.07,21.89],\"y\":[34.45,37.62,29.96,30.64,34.7,30.61,35.35,35.38,11.88,17.23,25.17,33.02,31.58,42.59,18.3,16.25,23.83,37.97,34.57,42.83,11.61,31.23],\"type\":\"scatter\"},{\"marker\":{\"color\":[\"dimgrey\"],\"size\":8},\"mode\":\"markers\",\"showlegend\":false,\"visible\":false,\"x\":[17.2900009155273],\"y\":[19.2399997711182],\"type\":\"scatter\"},{\"hovertemplate\":\"%{hovertext}\",\"hovertext\":[\"Lavonte David\",\"Jake Matthews\",\"Shaquil Barrett\",\"Marcus Mariota\",\"Rakeem Nunez-Roches\",\"Keanu Neal\",\"Elijah Wilkinson\",\"Vita Vea\",\"Carlton Davis\",\"KhaDarel Hodge\",\"Devin White\",\"Chris Lindstrom\",\"Kaleb McGary\",\"Jamel Dean\",\"Mike Edwards\",\"Olamide Zaccheaus\",\"Antoine Winfield\",\"Joe Tryon\",\"Drew Dalman\",\"Feleipe Franks\",\"Drake London\",\"Tyler Allgeier\"],\"marker\":{\"angle\":[173.48000000000002,-21.569999999999936,170.36,164.23000000000002,-9.680000000000064,-163.31,122.10000000000002,-151.39,-104.49000000000001,34.52000000000001,-151.35000000000002,12.659999999999997,21.289999999999992,-156.07,-145.41999999999996,-66.99000000000001,-155.83000000000004,151.35000000000002,17.829999999999984,73.47,98.14999999999998,109.44],\"color\":[\"#768cb0\",\"burlywood\",\"#768cb0\",\"burlywood\",\"#768cb0\",\"#768cb0\",\"burlywood\",\"#768cb0\",\"darkblue\",\"sienna\",\"#768cb0\",\"burlywood\",\"burlywood\",\"#768cb0\",\"#768cb0\",\"burlywood\",\"#768cb0\",\"#768cb0\",\"burlywood\",\"burlywood\",\"burlywood\",\"burlywood\"],\"size\":[16,16,16,16,16,16,16,16,20,20,16,16,16,16,16,16,16,16,16,16,16,16],\"symbol\":\"arrow\"},\"mode\":\"markers\",\"showlegend\":false,\"visible\":false,\"x\":[27.67,22.35,21.84,17.49,22.33,39.02,21.92,23.13,33.24,17.55,26.98,25.99,26.53,33.76,32.23,26.87,19.16,23.16,22.05,30.13,28.46,22.34],\"y\":[34.35,37.91,29.86,30.65,34.83,30.28,35.47,35.45,11.7,16.63,24.57,33.09,31.83,42.41,17.62,15.91,23.64,38.09,34.69,42.65,11.52,31.26],\"type\":\"scatter\"},{\"marker\":{\"color\":[\"dimgrey\"],\"size\":8},\"mode\":\"markers\",\"showlegend\":false,\"visible\":false,\"x\":[17.3400001525879],\"y\":[17.6200008392334],\"type\":\"scatter\"},{\"hovertemplate\":\"%{hovertext}\",\"hovertext\":[\"Lavonte David\",\"Jake Matthews\",\"Shaquil Barrett\",\"Marcus Mariota\",\"Rakeem Nunez-Roches\",\"Keanu Neal\",\"Elijah Wilkinson\",\"Vita Vea\",\"Carlton Davis\",\"KhaDarel Hodge\",\"Devin White\",\"Chris Lindstrom\",\"Kaleb McGary\",\"Jamel Dean\",\"Mike Edwards\",\"Olamide Zaccheaus\",\"Antoine Winfield\",\"Joe Tryon\",\"Drew Dalman\",\"Feleipe Franks\",\"Drake London\",\"Tyler Allgeier\"],\"marker\":{\"angle\":[161.64,-20.289999999999964,178.36,160.40999999999997,10.990000000000009,-161.93,134.25,-154.57,-96.85000000000002,39.97999999999999,-150.76999999999998,10.02000000000001,23.110000000000014,-161.93,-144.72000000000003,-60.19999999999999,-172.37,151.35000000000002,-21.399999999999977,99.27999999999997,102.90999999999997,118.13],\"color\":[\"#768cb0\",\"burlywood\",\"#768cb0\",\"burlywood\",\"#768cb0\",\"#768cb0\",\"burlywood\",\"#768cb0\",\"darkblue\",\"sienna\",\"#768cb0\",\"burlywood\",\"burlywood\",\"#768cb0\",\"#768cb0\",\"burlywood\",\"#768cb0\",\"#768cb0\",\"burlywood\",\"burlywood\",\"burlywood\",\"burlywood\"],\"size\":[16,16,16,16,16,16,16,16,20,20,16,16,16,16,16,16,16,16,16,16,16,16],\"symbol\":\"arrow\"},\"mode\":\"markers\",\"showlegend\":false,\"visible\":false,\"x\":[27.75,22.51,21.73,17.51,22.35,39.28,22.01,23.28,33.15,17.8,26.92,26.36,26.89,34.02,31.91,27.25,18.9,23.49,22.03,30.72,28.82,22.8],\"y\":[34.27,38.19,29.71,30.64,34.91,29.94,35.57,35.47,11.48,16.03,23.95,33.13,32.05,42.22,16.95,15.55,23.37,38.17,34.79,42.46,11.4,31.25],\"type\":\"scatter\"},{\"marker\":{\"color\":[\"dimgrey\"],\"size\":8},\"mode\":\"markers\",\"showlegend\":false,\"visible\":false,\"x\":[17.3400001525879],\"y\":[17.6200008392334],\"type\":\"scatter\"},{\"hovertemplate\":\"%{hovertext}\",\"hovertext\":[\"Lavonte David\",\"Jake Matthews\",\"Shaquil Barrett\",\"Marcus Mariota\",\"Rakeem Nunez-Roches\",\"Keanu Neal\",\"Elijah Wilkinson\",\"Vita Vea\",\"Carlton Davis\",\"KhaDarel Hodge\",\"Devin White\",\"Chris Lindstrom\",\"Kaleb McGary\",\"Jamel Dean\",\"Mike Edwards\",\"Olamide Zaccheaus\",\"Antoine Winfield\",\"Joe Tryon\",\"Drew Dalman\",\"Feleipe Franks\",\"Drake London\",\"Tyler Allgeier\"],\"marker\":{\"angle\":[141.94,-16.850000000000023,175.52999999999997,160.40999999999997,38.46000000000001,-160.66999999999996,135.08000000000004,-156.52999999999997,-96.85000000000002,56.31999999999999,-145.51,4.5,24.629999999999995,-167.16999999999996,-137.95,-73.25,-170.90999999999997,151.35000000000002,-106.14999999999998,104.13,108.54000000000002,125.73000000000002],\"color\":[\"#768cb0\",\"burlywood\",\"#768cb0\",\"burlywood\",\"#768cb0\",\"#768cb0\",\"burlywood\",\"#768cb0\",\"darkblue\",\"sienna\",\"#768cb0\",\"burlywood\",\"burlywood\",\"#768cb0\",\"#768cb0\",\"burlywood\",\"#768cb0\",\"#768cb0\",\"burlywood\",\"burlywood\",\"burlywood\",\"burlywood\"],\"size\":[16,16,16,16,16,16,16,16,20,20,16,16,16,16,16,16,16,16,16,16,16,16],\"symbol\":\"arrow\"},\"mode\":\"markers\",\"showlegend\":false,\"visible\":false,\"x\":[27.84,22.68,21.64,17.55,22.42,39.46,22.11,23.45,33.01,18.04,26.87,26.72,27.23,34.27,31.58,27.61,18.69,23.86,22.01,31.29,29.14,23.24],\"y\":[34.21,38.48,29.5,30.65,34.96,29.55,35.64,35.45,11.22,15.43,23.29,33.15,32.24,41.98,16.29,15.18,23.03,38.21,34.85,42.24,11.22,31.2],\"type\":\"scatter\"},{\"marker\":{\"color\":[\"dimgrey\"],\"size\":8},\"mode\":\"markers\",\"showlegend\":false,\"visible\":false,\"x\":[17.9599990844727],\"y\":[15.460000038147],\"type\":\"scatter\"},{\"hovertemplate\":\"%{hovertext}\",\"hovertext\":[\"Lavonte David\",\"Jake Matthews\",\"Shaquil Barrett\",\"Marcus Mariota\",\"Rakeem Nunez-Roches\",\"Keanu Neal\",\"Elijah Wilkinson\",\"Vita Vea\",\"Carlton Davis\",\"KhaDarel Hodge\",\"Devin White\",\"Chris Lindstrom\",\"Kaleb McGary\",\"Jamel Dean\",\"Mike Edwards\",\"Olamide Zaccheaus\",\"Antoine Winfield\",\"Joe Tryon\",\"Drew Dalman\",\"Feleipe Franks\",\"Drake London\",\"Tyler Allgeier\"],\"marker\":{\"angle\":[137.52999999999997,-14.019999999999982,172.97000000000003,158.08000000000004,65.19999999999999,-159.32,139.27999999999997,-157.33000000000004,-94.24000000000001,79.06,-152.48000000000002,2.1200000000000045,23.920000000000016,-167.16999999999996,-129.34000000000003,-122.69999999999999,-168.66999999999996,152.26,-125.69999999999999,104.13,112.00999999999999,131.0],\"color\":[\"#768cb0\",\"burlywood\",\"#768cb0\",\"burlywood\",\"#768cb0\",\"#768cb0\",\"burlywood\",\"#768cb0\",\"darkblue\",\"sienna\",\"#768cb0\",\"burlywood\",\"burlywood\",\"#768cb0\",\"#768cb0\",\"burlywood\",\"#768cb0\",\"#768cb0\",\"burlywood\",\"burlywood\",\"burlywood\",\"burlywood\"],\"size\":[16,16,16,16,16,16,16,16,20,20,16,16,16,16,16,16,16,16,16,16,16,16],\"symbol\":\"arrow\"},\"mode\":\"markers\",\"showlegend\":false,\"visible\":false,\"x\":[27.93,22.86,21.57,17.6,22.51,39.61,22.25,23.63,32.82,18.3,26.82,27.09,27.59,34.51,31.24,27.94,18.56,24.28,21.99,31.8,29.44,23.69],\"y\":[34.15,38.75,29.26,30.64,34.97,29.15,35.69,35.4,10.93,14.85,22.6,33.13,32.38,41.7,15.61,14.79,22.63,38.2,34.87,41.96,10.98,31.11],\"type\":\"scatter\"},{\"marker\":{\"color\":[\"dimgrey\"],\"size\":8},\"mode\":\"markers\",\"showlegend\":false,\"visible\":false,\"x\":[18.1900005340576],\"y\":[14.9300003051758],\"type\":\"scatter\"},{\"hovertemplate\":\"%{hovertext}\",\"hovertext\":[\"Lavonte David\",\"Jake Matthews\",\"Shaquil Barrett\",\"Marcus Mariota\",\"Rakeem Nunez-Roches\",\"Keanu Neal\",\"Elijah Wilkinson\",\"Vita Vea\",\"Carlton Davis\",\"KhaDarel Hodge\",\"Devin White\",\"Chris Lindstrom\",\"Kaleb McGary\",\"Jamel Dean\",\"Mike Edwards\",\"Olamide Zaccheaus\",\"Antoine Winfield\",\"Joe Tryon\",\"Drew Dalman\",\"Feleipe Franks\",\"Drake London\",\"Tyler Allgeier\"],\"marker\":{\"angle\":[131.49,-11.639999999999986,162.87,153.3,81.88999999999999,-159.32,145.13,-158.28999999999996,-89.05000000000001,90.80000000000001,-155.64,9.02000000000001,20.889999999999986,-170.38,-125.74000000000001,-83.94999999999999,-173.52999999999997,163.49,-132.86,98.73000000000002,115.47000000000003,137.90999999999997],\"color\":[\"#768cb0\",\"burlywood\",\"#768cb0\",\"burlywood\",\"#768cb0\",\"#768cb0\",\"burlywood\",\"#768cb0\",\"darkblue\",\"sienna\",\"#768cb0\",\"burlywood\",\"burlywood\",\"#768cb0\",\"#768cb0\",\"burlywood\",\"#768cb0\",\"#768cb0\",\"burlywood\",\"burlywood\",\"burlywood\",\"burlywood\"],\"size\":[16,16,16,16,16,16,16,16,20,20,16,16,16,16,16,16,16,16,16,16,16,16],\"symbol\":\"arrow\"},\"mode\":\"markers\",\"showlegend\":false,\"visible\":false,\"x\":[28.01,23.07,21.54,17.68,22.63,39.69,22.4,23.81,32.61,18.57,26.77,27.48,27.95,34.72,30.93,28.24,18.5,24.72,22.01,32.26,29.71,24.13],\"y\":[34.11,39.01,28.98,30.63,34.94,28.72,35.71,35.31,10.62,14.26,21.88,33.1,32.49,41.38,14.94,14.39,22.15,38.16,34.86,41.66,10.74,30.98],\"type\":\"scatter\"},{\"marker\":{\"color\":[\"dimgrey\"],\"size\":8},\"mode\":\"markers\",\"showlegend\":false,\"visible\":false,\"x\":[18.3999996185303],\"y\":[14.4399995803833],\"type\":\"scatter\"},{\"hovertemplate\":\"%{hovertext}\",\"hovertext\":[\"Lavonte David\",\"Jake Matthews\",\"Shaquil Barrett\",\"Marcus Mariota\",\"Rakeem Nunez-Roches\",\"Keanu Neal\",\"Elijah Wilkinson\",\"Vita Vea\",\"Carlton Davis\",\"KhaDarel Hodge\",\"Devin White\",\"Chris Lindstrom\",\"Kaleb McGary\",\"Jamel Dean\",\"Mike Edwards\",\"Olamide Zaccheaus\",\"Antoine Winfield\",\"Joe Tryon\",\"Drew Dalman\",\"Feleipe Franks\",\"Drake London\",\"Tyler Allgeier\"],\"marker\":{\"angle\":[126.14999999999998,-3.5399999999999636,165.73000000000002,151.51999999999998,100.50999999999999,-159.32,150.31,-164.33000000000004,-80.60000000000002,101.87,-153.22000000000003,5.02000000000001,16.599999999999994,-172.75,-120.00999999999999,-62.379999999999995,179.73000000000002,167.91999999999996,-166.71000000000004,107.11000000000001,120.19,146.01],\"color\":[\"#768cb0\",\"burlywood\",\"#768cb0\",\"burlywood\",\"#768cb0\",\"#768cb0\",\"burlywood\",\"#768cb0\",\"darkblue\",\"sienna\",\"#768cb0\",\"burlywood\",\"burlywood\",\"#768cb0\",\"#768cb0\",\"burlywood\",\"#768cb0\",\"#768cb0\",\"burlywood\",\"burlywood\",\"burlywood\",\"burlywood\"],\"size\":[16,16,16,16,16,16,16,16,20,20,16,16,16,16,16,16,16,16,16,16,16,16],\"symbol\":\"arrow\"},\"mode\":\"markers\",\"showlegend\":false,\"visible\":false,\"x\":[28.1,23.32,21.54,17.76,22.77,39.73,22.59,24.0,32.37,18.84,26.72,27.83,28.34,34.9,30.61,28.46,18.5,25.19,22.07,32.67,29.94,24.58],\"y\":[34.08,39.26,28.68,30.63,34.91,28.27,35.7,35.17,10.28,13.65,21.13,33.07,32.55,41.03,14.28,13.96,21.63,38.08,34.8,41.31,10.47,30.81],\"type\":\"scatter\"},{\"marker\":{\"color\":[\"dimgrey\"],\"size\":8},\"mode\":\"markers\",\"showlegend\":false,\"visible\":false,\"x\":[18.6299991607666],\"y\":[13.9099998474121],\"type\":\"scatter\"},{\"hovertemplate\":\"%{hovertext}\",\"hovertext\":[\"Lavonte David\",\"Jake Matthews\",\"Shaquil Barrett\",\"Marcus Mariota\",\"Rakeem Nunez-Roches\",\"Keanu Neal\",\"Elijah Wilkinson\",\"Vita Vea\",\"Carlton Davis\",\"KhaDarel Hodge\",\"Devin White\",\"Chris Lindstrom\",\"Kaleb McGary\",\"Jamel Dean\",\"Mike Edwards\",\"Olamide Zaccheaus\",\"Antoine Winfield\",\"Joe Tryon\",\"Drew Dalman\",\"Feleipe Franks\",\"Drake London\",\"Tyler Allgeier\"],\"marker\":{\"angle\":[122.63999999999999,-10.450000000000045,164.15999999999997,153.91999999999996,109.90999999999997,-160.40999999999997,153.69,-166.55,-79.01999999999998,126.19999999999999,-155.66999999999996,-0.8299999999999272,16.599999999999994,-168.63,-113.69999999999999,-52.620000000000005,-177.87,166.03999999999996,157.46000000000004,116.47000000000003,126.38,155.22000000000003],\"color\":[\"#768cb0\",\"burlywood\",\"#768cb0\",\"burlywood\",\"#768cb0\",\"#768cb0\",\"burlywood\",\"#768cb0\",\"darkblue\",\"sienna\",\"#768cb0\",\"burlywood\",\"burlywood\",\"#768cb0\",\"#768cb0\",\"burlywood\",\"#768cb0\",\"#768cb0\",\"burlywood\",\"burlywood\",\"burlywood\",\"burlywood\"],\"size\":[16,16,16,16,16,16,16,16,20,20,16,16,16,16,16,16,16,16,16,16,16,16],\"symbol\":\"arrow\"},\"mode\":\"markers\",\"showlegend\":false,\"visible\":false,\"x\":[28.2,23.57,21.57,17.86,22.94,39.71,22.77,24.21,32.11,19.12,26.67,28.16,28.71,35.07,30.31,28.64,18.54,25.67,22.18,33.04,30.13,25.02],\"y\":[34.05,39.53,28.35,30.61,34.81,27.8,35.67,35.0,9.94,13.03,20.36,33.05,32.6,40.62,13.64,13.51,21.09,37.95,34.66,40.93,10.17,30.62],\"type\":\"scatter\"},{\"marker\":{\"color\":[\"dimgrey\"],\"size\":8},\"mode\":\"markers\",\"showlegend\":false,\"visible\":false,\"x\":[18.8600006103516],\"y\":[13.3599996566772],\"type\":\"scatter\"},{\"hovertemplate\":\"%{hovertext}\",\"hovertext\":[\"Lavonte David\",\"Jake Matthews\",\"Shaquil Barrett\",\"Marcus Mariota\",\"Rakeem Nunez-Roches\",\"Keanu Neal\",\"Elijah Wilkinson\",\"Vita Vea\",\"Carlton Davis\",\"KhaDarel Hodge\",\"Devin White\",\"Chris Lindstrom\",\"Kaleb McGary\",\"Jamel Dean\",\"Mike Edwards\",\"Olamide Zaccheaus\",\"Antoine Winfield\",\"Joe Tryon\",\"Drew Dalman\",\"Feleipe Franks\",\"Drake London\",\"Tyler Allgeier\"],\"marker\":{\"angle\":[120.14999999999998,-10.450000000000045,162.72000000000003,153.91999999999996,122.18,-165.32,155.34000000000003,-168.91999999999996,-72.68,142.8,-164.72000000000003,-7.970000000000027,18.560000000000002,-168.63,-106.75999999999999,-55.04000000000002,-178.64999999999998,165.25,150.65999999999997,124.80000000000001,138.85000000000002,161.11],\"color\":[\"#768cb0\",\"burlywood\",\"#768cb0\",\"burlywood\",\"#768cb0\",\"#768cb0\",\"burlywood\",\"#768cb0\",\"darkblue\",\"sienna\",\"#768cb0\",\"burlywood\",\"burlywood\",\"#768cb0\",\"#768cb0\",\"burlywood\",\"#768cb0\",\"#768cb0\",\"burlywood\",\"burlywood\",\"burlywood\",\"burlywood\"],\"size\":[16,16,16,16,16,16,16,16,20,20,16,16,16,16,16,16,16,16,16,16,16,16],\"symbol\":\"arrow\"},\"mode\":\"markers\",\"showlegend\":false,\"visible\":false,\"x\":[28.29,23.8,21.63,17.96,23.13,39.64,22.96,24.43,31.87,19.4,26.61,28.48,29.11,35.22,30.02,28.74,18.64,26.15,22.28,33.37,30.28,25.45],\"y\":[34.04,39.76,27.99,30.6,34.69,27.31,35.61,34.79,9.59,12.41,19.58,33.01,32.64,40.16,13.01,13.04,20.53,37.79,34.51,40.51,9.86,30.39],\"type\":\"scatter\"},{\"marker\":{\"color\":[\"dimgrey\"],\"size\":8},\"mode\":\"markers\",\"showlegend\":false,\"visible\":false,\"x\":[19.0699996948242],\"y\":[12.8500003814697],\"type\":\"scatter\"},{\"hovertemplate\":\"%{hovertext}\",\"hovertext\":[\"Lavonte David\",\"Jake Matthews\",\"Shaquil Barrett\",\"Marcus Mariota\",\"Rakeem Nunez-Roches\",\"Keanu Neal\",\"Elijah Wilkinson\",\"Vita Vea\",\"Carlton Davis\",\"KhaDarel Hodge\",\"Devin White\",\"Chris Lindstrom\",\"Kaleb McGary\",\"Jamel Dean\",\"Mike Edwards\",\"Olamide Zaccheaus\",\"Antoine Winfield\",\"Joe Tryon\",\"Drew Dalman\",\"Feleipe Franks\",\"Drake London\",\"Tyler Allgeier\"],\"marker\":{\"angle\":[121.57999999999998,-6.069999999999936,157.64999999999998,162.01999999999998,138.14999999999998,-165.32,159.83000000000004,-172.60000000000002,-72.68,145.68,-176.82,-17.569999999999936,16.650000000000006,-169.23000000000002,-104.72000000000003,-42.50999999999999,178.7,163.77999999999997,155.12,139.90999999999997,145.75,162.58000000000004],\"color\":[\"#768cb0\",\"burlywood\",\"#768cb0\",\"burlywood\",\"#768cb0\",\"#768cb0\",\"burlywood\",\"#768cb0\",\"darkblue\",\"sienna\",\"#768cb0\",\"burlywood\",\"burlywood\",\"#768cb0\",\"#768cb0\",\"burlywood\",\"#768cb0\",\"#768cb0\",\"burlywood\",\"burlywood\",\"burlywood\",\"burlywood\"],\"size\":[16,16,16,16,16,16,16,16,20,20,16,16,16,16,16,16,16,16,16,16,16,16],\"symbol\":\"arrow\"},\"mode\":\"markers\",\"showlegend\":false,\"visible\":false,\"x\":[28.39,24.04,21.72,18.07,23.34,39.54,23.17,24.65,31.63,19.71,26.56,28.77,29.48,35.35,29.75,28.78,18.79,26.61,22.41,33.66,30.4,25.88],\"y\":[34.02,39.96,27.62,30.59,34.54,26.78,35.53,34.54,9.2,11.79,18.77,32.96,32.64,39.69,12.39,12.55,19.95,37.6,34.34,40.05,9.54,30.13],\"type\":\"scatter\"},{\"marker\":{\"color\":[\"dimgrey\"],\"size\":8},\"mode\":\"markers\",\"showlegend\":false,\"visible\":false,\"x\":[19.2900009155273],\"y\":[12.3599996566772],\"type\":\"scatter\"},{\"hovertemplate\":\"%{hovertext}\",\"hovertext\":[\"Lavonte David\",\"Jake Matthews\",\"Shaquil Barrett\",\"Marcus Mariota\",\"Rakeem Nunez-Roches\",\"Keanu Neal\",\"Elijah Wilkinson\",\"Vita Vea\",\"Carlton Davis\",\"KhaDarel Hodge\",\"Devin White\",\"Chris Lindstrom\",\"Kaleb McGary\",\"Jamel Dean\",\"Mike Edwards\",\"Olamide Zaccheaus\",\"Antoine Winfield\",\"Joe Tryon\",\"Drew Dalman\",\"Feleipe Franks\",\"Drake London\",\"Tyler Allgeier\"],\"marker\":{\"angle\":[122.84000000000003,-9.930000000000064,155.76,178.38,144.11,-166.39999999999998,154.33000000000004,-178.13,-71.82,152.64,179.88,-24.899999999999977,12.75,-169.23000000000002,-104.72000000000003,-10.779999999999973,176.89,162.27999999999997,150.12,139.90999999999997,152.73000000000002,157.78999999999996],\"color\":[\"#768cb0\",\"burlywood\",\"#768cb0\",\"burlywood\",\"#768cb0\",\"#768cb0\",\"burlywood\",\"#768cb0\",\"darkblue\",\"sienna\",\"#768cb0\",\"burlywood\",\"burlywood\",\"#768cb0\",\"#768cb0\",\"burlywood\",\"#768cb0\",\"#768cb0\",\"burlywood\",\"burlywood\",\"burlywood\",\"burlywood\"],\"size\":[16,16,16,16,16,16,16,16,20,20,16,16,16,16,16,16,16,16,16,16,16,16],\"symbol\":\"arrow\"},\"mode\":\"markers\",\"showlegend\":false,\"visible\":false,\"x\":[28.48,24.29,21.83,18.19,23.54,39.41,23.38,24.89,31.39,20.03,26.52,29.05,29.85,35.46,29.52,28.78,18.99,27.07,22.55,33.92,30.47,26.29],\"y\":[34.01,40.13,27.23,30.58,34.39,26.23,35.43,34.26,8.83,11.17,17.95,32.87,32.62,39.19,11.79,12.05,19.36,37.38,34.17,39.54,9.2,29.82],\"type\":\"scatter\"},{\"marker\":{\"color\":[\"dimgrey\"],\"size\":8},\"mode\":\"markers\",\"showlegend\":false,\"visible\":false,\"x\":[19.5300006866455],\"y\":[11.8699998855591],\"type\":\"scatter\"},{\"hovertemplate\":\"%{hovertext}\",\"hovertext\":[\"Lavonte David\",\"Jake Matthews\",\"Shaquil Barrett\",\"Marcus Mariota\",\"Rakeem Nunez-Roches\",\"Keanu Neal\",\"Elijah Wilkinson\",\"Vita Vea\",\"Carlton Davis\",\"KhaDarel Hodge\",\"Devin White\",\"Chris Lindstrom\",\"Kaleb McGary\",\"Jamel Dean\",\"Mike Edwards\",\"Olamide Zaccheaus\",\"Antoine Winfield\",\"Joe Tryon\",\"Drew Dalman\",\"Feleipe Franks\",\"Drake London\",\"Tyler Allgeier\"],\"marker\":{\"angle\":[122.84000000000003,-26.319999999999936,155.76,171.57,145.41999999999996,-170.99,154.33000000000004,176.5,-66.23000000000002,155.47000000000003,172.07,-25.75,-3.4200000000000728,-170.40999999999997,-102.54000000000002,22.28,179.82,160.86,153.12,135.31,160.09000000000003,161.51999999999998],\"color\":[\"#768cb0\",\"burlywood\",\"#768cb0\",\"burlywood\",\"#768cb0\",\"#768cb0\",\"burlywood\",\"#768cb0\",\"darkblue\",\"sienna\",\"#768cb0\",\"burlywood\",\"burlywood\",\"#768cb0\",\"#768cb0\",\"burlywood\",\"#768cb0\",\"#768cb0\",\"burlywood\",\"burlywood\",\"burlywood\",\"burlywood\"],\"size\":[16,16,16,16,16,16,16,16,20,20,16,16,16,16,16,16,16,16,16,16,16,16],\"symbol\":\"arrow\"},\"mode\":\"markers\",\"showlegend\":false,\"visible\":false,\"x\":[28.58,24.58,21.97,18.33,23.75,39.25,23.6,25.14,31.18,20.39,26.5,29.31,30.18,35.56,29.32,28.74,19.23,27.52,22.7,34.15,30.5,26.69],\"y\":[34.0,40.28,26.82,30.54,34.2,25.66,35.33,33.95,8.44,10.56,17.12,32.77,32.57,38.65,11.18,11.52,18.76,37.13,33.97,38.99,8.87,29.49],\"type\":\"scatter\"},{\"marker\":{\"color\":[\"dimgrey\"],\"size\":8},\"mode\":\"markers\",\"showlegend\":false,\"visible\":false,\"x\":[19.8799991607666],\"y\":[11.2399997711182],\"type\":\"scatter\"},{\"hovertemplate\":\"%{hovertext}\",\"hovertext\":[\"Lavonte David\",\"Jake Matthews\",\"Shaquil Barrett\",\"Marcus Mariota\",\"Rakeem Nunez-Roches\",\"Keanu Neal\",\"Elijah Wilkinson\",\"Vita Vea\",\"Carlton Davis\",\"KhaDarel Hodge\",\"Devin White\",\"Chris Lindstrom\",\"Kaleb McGary\",\"Jamel Dean\",\"Mike Edwards\",\"Olamide Zaccheaus\",\"Antoine Winfield\",\"Joe Tryon\",\"Drew Dalman\",\"Feleipe Franks\",\"Drake London\",\"Tyler Allgeier\"],\"marker\":{\"angle\":[127.18,-85.32,154.09000000000003,163.37,145.41999999999996,-175.11,157.78999999999996,171.44,-61.910000000000025,160.36,172.07,-37.98000000000002,-16.470000000000027,-169.76,-92.05000000000001,43.28,-177.95,158.99,170.38,142.77999999999997,165.83000000000004,164.43],\"color\":[\"#768cb0\",\"burlywood\",\"#768cb0\",\"burlywood\",\"#768cb0\",\"#768cb0\",\"burlywood\",\"#768cb0\",\"darkblue\",\"sienna\",\"#768cb0\",\"burlywood\",\"burlywood\",\"#768cb0\",\"#768cb0\",\"burlywood\",\"#768cb0\",\"#768cb0\",\"burlywood\",\"burlywood\",\"burlywood\",\"burlywood\"],\"size\":[16,16,16,16,16,16,16,16,20,20,16,16,16,16,16,16,16,16,16,16,16,16],\"symbol\":\"arrow\"},\"mode\":\"markers\",\"showlegend\":false,\"visible\":false,\"x\":[28.68,24.85,22.13,18.47,23.97,39.08,23.83,25.38,30.95,20.77,26.5,29.56,30.5,35.66,29.14,28.67,19.54,27.96,22.87,34.35,30.49,27.08],\"y\":[33.98,40.44,26.41,30.49,33.98,25.06,35.19,33.6,8.06,9.97,16.29,32.66,32.51,38.11,10.6,10.99,18.17,36.87,33.7,38.42,8.53,29.14],\"type\":\"scatter\"},{\"marker\":{\"color\":[\"dimgrey\"],\"size\":8},\"mode\":\"markers\",\"showlegend\":false,\"visible\":false,\"x\":[20.2800006866455],\"y\":[10.5900001525879],\"type\":\"scatter\"},{\"hovertemplate\":\"%{hovertext}\",\"hovertext\":[\"Lavonte David\",\"Jake Matthews\",\"Shaquil Barrett\",\"Marcus Mariota\",\"Rakeem Nunez-Roches\",\"Keanu Neal\",\"Elijah Wilkinson\",\"Vita Vea\",\"Carlton Davis\",\"KhaDarel Hodge\",\"Devin White\",\"Chris Lindstrom\",\"Kaleb McGary\",\"Jamel Dean\",\"Mike Edwards\",\"Olamide Zaccheaus\",\"Antoine Winfield\",\"Joe Tryon\",\"Drew Dalman\",\"Feleipe Franks\",\"Drake London\",\"Tyler Allgeier\"],\"marker\":{\"angle\":[129.93,-99.36000000000001,154.09000000000003,168.2,154.09000000000003,175.0,157.18,171.44,-57.85000000000002,161.11,174.64999999999998,-72.75999999999999,-33.110000000000014,-171.59000000000003,-84.47000000000003,72.26999999999998,-176.12,157.72000000000003,154.52999999999997,151.51,170.69,164.43],\"color\":[\"#768cb0\",\"burlywood\",\"#768cb0\",\"burlywood\",\"#768cb0\",\"#768cb0\",\"burlywood\",\"#768cb0\",\"darkblue\",\"sienna\",\"#768cb0\",\"burlywood\",\"burlywood\",\"#768cb0\",\"#768cb0\",\"burlywood\",\"#768cb0\",\"#768cb0\",\"burlywood\",\"burlywood\",\"burlywood\",\"burlywood\"],\"size\":[16,16,16,16,16,16,16,16,20,20,16,16,16,16,16,16,16,16,16,16,16,16],\"symbol\":\"arrow\"},\"mode\":\"markers\",\"showlegend\":false,\"visible\":false,\"x\":[28.78,25.12,22.31,18.63,24.18,38.9,24.07,25.65,30.74,21.18,26.51,29.8,30.81,35.76,28.98,28.58,19.88,28.39,23.06,34.53,30.44,27.45],\"y\":[33.96,40.55,26.0,30.42,33.73,24.44,35.03,33.24,7.67,9.4,15.46,32.55,32.43,37.54,10.02,10.44,17.59,36.6,33.42,37.83,8.2,28.75],\"type\":\"scatter\"},{\"marker\":{\"color\":[\"dimgrey\"],\"size\":8},\"mode\":\"markers\",\"showlegend\":false,\"visible\":false,\"x\":[20.8400001525879],\"y\":[9.84000015258789],\"type\":\"scatter\"},{\"hovertemplate\":\"%{hovertext}\",\"hovertext\":[\"Lavonte David\",\"Jake Matthews\",\"Shaquil Barrett\",\"Marcus Mariota\",\"Rakeem Nunez-Roches\",\"Keanu Neal\",\"Elijah Wilkinson\",\"Vita Vea\",\"Carlton Davis\",\"KhaDarel Hodge\",\"Devin White\",\"Chris Lindstrom\",\"Kaleb McGary\",\"Jamel Dean\",\"Mike Edwards\",\"Olamide Zaccheaus\",\"Antoine Winfield\",\"Joe Tryon\",\"Drew Dalman\",\"Feleipe Franks\",\"Drake London\",\"Tyler Allgeier\"],\"marker\":{\"angle\":[135.89,-107.61000000000001,152.53999999999996,-174.8,162.08000000000004,171.51999999999998,155.5,169.2,-52.75,164.99,176.49,-118.40999999999997,-68.39999999999998,-173.01,-77.82999999999998,107.05000000000001,-177.09000000000003,155.82,153.59000000000003,160.31,174.60000000000002,164.43],\"color\":[\"#768cb0\",\"burlywood\",\"#768cb0\",\"burlywood\",\"#768cb0\",\"#768cb0\",\"burlywood\",\"#768cb0\",\"darkblue\",\"sienna\",\"#768cb0\",\"burlywood\",\"burlywood\",\"#768cb0\",\"#768cb0\",\"burlywood\",\"#768cb0\",\"#768cb0\",\"burlywood\",\"burlywood\",\"burlywood\",\"burlywood\"],\"size\":[16,16,16,16,16,16,16,16,20,20,16,16,16,16,16,16,16,16,16,16,16,16],\"symbol\":\"arrow\"},\"mode\":\"markers\",\"showlegend\":false,\"visible\":false,\"x\":[28.87,25.39,22.51,18.78,24.39,38.72,24.3,25.94,30.55,21.61,26.56,30.01,31.1,35.86,28.85,28.48,20.25,28.82,23.26,34.68,30.34,27.82],\"y\":[33.94,40.6,25.59,30.35,33.47,23.81,34.84,32.86,7.29,8.85,14.64,32.45,32.33,36.95,9.46,9.88,17.02,36.32,33.13,37.21,7.87,28.35],\"type\":\"scatter\"},{\"marker\":{\"color\":[\"dimgrey\"],\"size\":8},\"mode\":\"markers\",\"showlegend\":false,\"visible\":false,\"x\":[21.6599998474121],\"y\":[8.97000026702881],\"type\":\"scatter\"},{\"hovertemplate\":\"%{hovertext}\",\"hovertext\":[\"Lavonte David\",\"Jake Matthews\",\"Shaquil Barrett\",\"Marcus Mariota\",\"Rakeem Nunez-Roches\",\"Keanu Neal\",\"Elijah Wilkinson\",\"Vita Vea\",\"Carlton Davis\",\"KhaDarel Hodge\",\"Devin White\",\"Chris Lindstrom\",\"Kaleb McGary\",\"Jamel Dean\",\"Mike Edwards\",\"Olamide Zaccheaus\",\"Antoine Winfield\",\"Joe Tryon\",\"Drew Dalman\",\"Feleipe Franks\",\"Drake London\",\"Tyler Allgeier\"],\"marker\":{\"angle\":[137.49,-109.94,150.3,-167.26,165.71000000000004,174.47000000000003,153.87,169.2,-49.55000000000001,164.06,178.40999999999997,-142.94,-131.7,-173.94,-72.81,90.88999999999999,179.47000000000003,152.39999999999998,165.11,168.44,177.64,167.09000000000003],\"color\":[\"#768cb0\",\"burlywood\",\"#768cb0\",\"burlywood\",\"#768cb0\",\"#768cb0\",\"burlywood\",\"#768cb0\",\"darkblue\",\"sienna\",\"#768cb0\",\"burlywood\",\"burlywood\",\"#768cb0\",\"#768cb0\",\"burlywood\",\"#768cb0\",\"#768cb0\",\"burlywood\",\"burlywood\",\"burlywood\",\"burlywood\"],\"size\":[16,16,16,16,16,16,16,16,20,20,16,16,16,16,16,16,16,16,16,16,16,16],\"symbol\":\"arrow\"},\"mode\":\"markers\",\"showlegend\":false,\"visible\":false,\"x\":[28.97,25.65,22.72,18.96,24.6,38.53,24.55,26.23,30.37,22.07,26.63,30.22,31.38,35.96,28.75,28.38,20.66,29.24,23.45,34.81,30.21,28.18],\"y\":[33.9,40.64,25.17,30.29,33.17,23.16,34.65,32.48,6.92,8.34,13.83,32.34,32.19,36.37,8.91,9.33,16.46,36.03,32.83,36.57,7.54,27.93],\"type\":\"scatter\"},{\"marker\":{\"color\":[\"dimgrey\"],\"size\":8},\"mode\":\"markers\",\"showlegend\":false,\"visible\":false,\"x\":[22.1700000762939],\"y\":[8.39999961853027],\"type\":\"scatter\"},{\"hovertemplate\":\"%{hovertext}\",\"hovertext\":[\"Lavonte David\",\"Jake Matthews\",\"Shaquil Barrett\",\"Marcus Mariota\",\"Rakeem Nunez-Roches\",\"Keanu Neal\",\"Elijah Wilkinson\",\"Vita Vea\",\"Carlton Davis\",\"KhaDarel Hodge\",\"Devin White\",\"Chris Lindstrom\",\"Kaleb McGary\",\"Jamel Dean\",\"Mike Edwards\",\"Olamide Zaccheaus\",\"Antoine Winfield\",\"Joe Tryon\",\"Drew Dalman\",\"Feleipe Franks\",\"Drake London\",\"Tyler Allgeier\"],\"marker\":{\"angle\":[146.63,-111.77999999999997,147.47000000000003,-170.8,167.96000000000004,174.47000000000003,154.62,169.2,-47.670000000000016,162.61,-179.58000000000004,-154.24,-147.74,-173.07,-73.92000000000002,83.99000000000001,179.47000000000003,151.2,167.10000000000002,178.83000000000004,179.40999999999997,170.47000000000003],\"color\":[\"#768cb0\",\"burlywood\",\"#768cb0\",\"burlywood\",\"#768cb0\",\"#768cb0\",\"burlywood\",\"#768cb0\",\"darkblue\",\"sienna\",\"#768cb0\",\"burlywood\",\"burlywood\",\"#768cb0\",\"#768cb0\",\"burlywood\",\"#768cb0\",\"#768cb0\",\"burlywood\",\"burlywood\",\"burlywood\",\"burlywood\"],\"size\":[16,16,16,16,16,16,16,16,20,20,16,16,16,16,16,16,16,16,16,16,16,16],\"symbol\":\"arrow\"},\"mode\":\"markers\",\"showlegend\":false,\"visible\":false,\"x\":[29.08,25.89,22.94,19.14,24.81,38.34,24.78,26.53,30.21,22.53,26.73,30.43,31.64,36.07,28.67,28.3,21.1,29.65,23.65,34.94,30.07,28.53],\"y\":[33.83,40.68,24.76,30.22,32.86,22.49,34.44,32.08,6.57,7.85,13.04,32.21,32.06,35.79,8.36,8.76,15.92,35.74,32.54,35.94,7.23,27.49],\"type\":\"scatter\"},{\"marker\":{\"color\":[\"dimgrey\"],\"size\":8},\"mode\":\"markers\",\"showlegend\":false,\"visible\":false,\"x\":[22.6299991607666],\"y\":[7.92000007629395],\"type\":\"scatter\"},{\"hovertemplate\":\"%{hovertext}\",\"hovertext\":[\"Lavonte David\",\"Jake Matthews\",\"Shaquil Barrett\",\"Marcus Mariota\",\"Rakeem Nunez-Roches\",\"Keanu Neal\",\"Elijah Wilkinson\",\"Vita Vea\",\"Carlton Davis\",\"KhaDarel Hodge\",\"Devin White\",\"Chris Lindstrom\",\"Kaleb McGary\",\"Jamel Dean\",\"Mike Edwards\",\"Olamide Zaccheaus\",\"Antoine Winfield\",\"Joe Tryon\",\"Drew Dalman\",\"Feleipe Franks\",\"Drake London\",\"Tyler Allgeier\"],\"marker\":{\"angle\":[153.62,-108.61000000000001,144.33000000000004,-169.81,175.41999999999996,174.47000000000003,155.90999999999997,167.41999999999996,-52.19,161.82,179.58000000000004,-159.19,-159.31,-172.0,-73.07999999999998,96.13,179.47000000000003,148.21000000000004,134.15999999999997,-177.02999999999997,173.09000000000003,173.2],\"color\":[\"#768cb0\",\"burlywood\",\"#768cb0\",\"burlywood\",\"#768cb0\",\"#768cb0\",\"burlywood\",\"#768cb0\",\"darkblue\",\"sienna\",\"#768cb0\",\"burlywood\",\"burlywood\",\"#768cb0\",\"#768cb0\",\"burlywood\",\"#768cb0\",\"#768cb0\",\"burlywood\",\"burlywood\",\"burlywood\",\"burlywood\"],\"size\":[16,16,16,16,16,16,16,16,20,20,16,16,16,16,16,16,16,16,16,16,16,16],\"symbol\":\"arrow\"},\"mode\":\"markers\",\"showlegend\":false,\"visible\":false,\"x\":[29.19,26.14,23.16,19.32,25.02,38.16,25.01,26.83,30.06,23.02,26.84,30.61,31.87,36.2,28.61,28.23,21.55,30.07,23.84,35.06,29.92,28.89],\"y\":[33.76,40.64,24.34,30.15,32.55,21.81,34.23,31.68,6.25,7.39,12.28,32.08,31.91,35.21,7.82,8.2,15.39,35.44,32.2,35.31,6.92,27.04],\"type\":\"scatter\"},{\"marker\":{\"color\":[\"dimgrey\"],\"size\":8},\"mode\":\"markers\",\"showlegend\":false,\"visible\":false,\"x\":[23.0900001525879],\"y\":[7.42999982833862],\"type\":\"scatter\"},{\"hovertemplate\":\"%{hovertext}\",\"hovertext\":[\"Lavonte David\",\"Jake Matthews\",\"Shaquil Barrett\",\"Marcus Mariota\",\"Rakeem Nunez-Roches\",\"Keanu Neal\",\"Elijah Wilkinson\",\"Vita Vea\",\"Carlton Davis\",\"KhaDarel Hodge\",\"Devin White\",\"Chris Lindstrom\",\"Kaleb McGary\",\"Jamel Dean\",\"Mike Edwards\",\"Olamide Zaccheaus\",\"Antoine Winfield\",\"Joe Tryon\",\"Drew Dalman\",\"Feleipe Franks\",\"Drake London\",\"Tyler Allgeier\"],\"marker\":{\"angle\":[165.31,-102.93,143.01999999999998,-159.22000000000003,172.91999999999996,175.89999999999998,156.99,166.09000000000003,-56.56,152.48000000000002,179.58000000000004,-153.75,-165.74,-172.0,-73.07999999999998,95.36000000000001,176.49,146.7,125.82,179.68,173.09000000000003,171.65999999999997],\"color\":[\"#768cb0\",\"burlywood\",\"#768cb0\",\"burlywood\",\"#768cb0\",\"#768cb0\",\"burlywood\",\"#768cb0\",\"darkblue\",\"sienna\",\"#768cb0\",\"burlywood\",\"burlywood\",\"#768cb0\",\"#768cb0\",\"burlywood\",\"#768cb0\",\"#768cb0\",\"burlywood\",\"burlywood\",\"burlywood\",\"burlywood\"],\"size\":[16,16,16,16,16,16,16,16,20,20,16,16,16,16,16,16,16,16,16,16,16,16],\"symbol\":\"arrow\"},\"mode\":\"markers\",\"showlegend\":false,\"visible\":false,\"x\":[29.32,26.36,23.39,19.49,25.21,37.96,25.25,27.14,29.92,23.51,27.01,30.77,32.08,36.33,28.56,28.18,22.01,30.48,24.03,35.2,29.75,29.23],\"y\":[33.64,40.52,23.93,30.06,32.2,21.13,34.02,31.28,5.96,6.96,11.53,31.94,31.75,34.64,7.29,7.64,14.85,35.15,31.83,34.67,6.61,26.56],\"type\":\"scatter\"},{\"marker\":{\"color\":[\"dimgrey\"],\"size\":8},\"mode\":\"markers\",\"showlegend\":false,\"visible\":false,\"x\":[23.5200004577637],\"y\":[6.98000001907349],\"type\":\"scatter\"},{\"hovertemplate\":\"%{hovertext}\",\"hovertext\":[\"Lavonte David\",\"Jake Matthews\",\"Shaquil Barrett\",\"Marcus Mariota\",\"Rakeem Nunez-Roches\",\"Keanu Neal\",\"Elijah Wilkinson\",\"Vita Vea\",\"Carlton Davis\",\"KhaDarel Hodge\",\"Devin White\",\"Chris Lindstrom\",\"Kaleb McGary\",\"Jamel Dean\",\"Mike Edwards\",\"Olamide Zaccheaus\",\"Antoine Winfield\",\"Joe Tryon\",\"Drew Dalman\",\"Feleipe Franks\",\"Drake London\",\"Tyler Allgeier\"],\"marker\":{\"angle\":[170.31,-98.37,140.82,-158.16999999999996,169.27999999999997,178.53999999999996,159.2,163.14999999999998,-66.13999999999999,131.7,179.58000000000004,-160.74,-165.74,-169.60000000000002,-66.92000000000002,97.39999999999998,171.35000000000002,146.7,132.84000000000003,-173.95,171.43,171.65999999999997],\"color\":[\"#768cb0\",\"burlywood\",\"#768cb0\",\"burlywood\",\"#768cb0\",\"#768cb0\",\"burlywood\",\"#768cb0\",\"darkblue\",\"sienna\",\"#768cb0\",\"burlywood\",\"burlywood\",\"#768cb0\",\"#768cb0\",\"burlywood\",\"#768cb0\",\"#768cb0\",\"burlywood\",\"burlywood\",\"burlywood\",\"burlywood\"],\"size\":[16,16,16,16,16,16,16,16,20,20,16,16,16,16,16,16,16,16,16,16,16,16],\"symbol\":\"arrow\"},\"mode\":\"markers\",\"showlegend\":false,\"visible\":false,\"x\":[29.44,26.57,23.63,19.67,25.4,37.78,25.47,27.46,29.77,24.01,27.2,30.92,32.26,36.46,28.54,28.16,22.46,30.88,24.22,35.33,29.6,29.57],\"y\":[33.51,40.36,23.53,29.98,31.85,20.45,33.82,30.88,5.68,6.53,10.8,31.8,31.6,34.08,6.76,7.1,14.32,34.86,31.45,34.03,6.34,26.07],\"type\":\"scatter\"},{\"marker\":{\"color\":[\"dimgrey\"],\"size\":8},\"mode\":\"markers\",\"showlegend\":false,\"visible\":false,\"x\":[23.9899997711182],\"y\":[6.53999996185303],\"type\":\"scatter\"},{\"hovertemplate\":\"%{hovertext}\",\"hovertext\":[\"Lavonte David\",\"Jake Matthews\",\"Shaquil Barrett\",\"Marcus Mariota\",\"Rakeem Nunez-Roches\",\"Keanu Neal\",\"Elijah Wilkinson\",\"Vita Vea\",\"Carlton Davis\",\"KhaDarel Hodge\",\"Devin White\",\"Chris Lindstrom\",\"Kaleb McGary\",\"Jamel Dean\",\"Mike Edwards\",\"Olamide Zaccheaus\",\"Antoine Winfield\",\"Joe Tryon\",\"Drew Dalman\",\"Feleipe Franks\",\"Drake London\",\"Tyler Allgeier\"],\"marker\":{\"angle\":[175.73000000000002,-99.20999999999998,139.3,-164.95,166.56,-179.2,162.33000000000004,165.01999999999998,-72.55000000000001,113.02999999999997,-174.74,-160.74,-163.66999999999996,-169.01,-52.81,95.79000000000002,170.36,146.7,137.34000000000003,-163.11,171.43,170.2],\"color\":[\"#768cb0\",\"burlywood\",\"#768cb0\",\"burlywood\",\"#768cb0\",\"#768cb0\",\"burlywood\",\"#768cb0\",\"darkblue\",\"sienna\",\"#768cb0\",\"burlywood\",\"burlywood\",\"#768cb0\",\"#768cb0\",\"burlywood\",\"#768cb0\",\"#768cb0\",\"burlywood\",\"burlywood\",\"burlywood\",\"burlywood\"],\"size\":[16,16,16,16,16,16,16,16,20,20,16,16,16,16,16,16,16,16,16,16,16,16],\"symbol\":\"arrow\"},\"mode\":\"markers\",\"showlegend\":false,\"visible\":false,\"x\":[29.56,26.78,23.86,19.82,25.59,37.6,25.69,27.78,29.64,24.51,27.41,31.03,32.43,36.6,28.53,28.15,22.93,31.3,24.42,35.48,29.43,29.89],\"y\":[33.37,40.2,23.14,29.89,31.47,19.76,33.58,30.49,5.42,6.15,10.1,31.65,31.45,33.54,6.21,6.58,13.8,34.56,31.07,33.41,6.07,25.56],\"type\":\"scatter\"},{\"marker\":{\"color\":[\"dimgrey\"],\"size\":8},\"mode\":\"markers\",\"showlegend\":false,\"visible\":false,\"x\":[24.4699993133545],\"y\":[6.1100001335144],\"type\":\"scatter\"},{\"hovertemplate\":\"%{hovertext}\",\"hovertext\":[\"Lavonte David\",\"Jake Matthews\",\"Shaquil Barrett\",\"Marcus Mariota\",\"Rakeem Nunez-Roches\",\"Keanu Neal\",\"Elijah Wilkinson\",\"Vita Vea\",\"Carlton Davis\",\"KhaDarel Hodge\",\"Devin White\",\"Chris Lindstrom\",\"Kaleb McGary\",\"Jamel Dean\",\"Mike Edwards\",\"Olamide Zaccheaus\",\"Antoine Winfield\",\"Joe Tryon\",\"Drew Dalman\",\"Feleipe Franks\",\"Drake London\",\"Tyler Allgeier\"],\"marker\":{\"angle\":[-179.36,-99.20999999999998,136.76999999999998,-167.71000000000004,166.56,-177.82,159.5,161.94,-81.75999999999999,97.95999999999998,-172.28999999999996,-164.39,-166.48000000000002,-170.91999999999996,-37.31,94.07,171.95,146.7,136.43,-157.81,153.65999999999997,168.41999999999996],\"color\":[\"#768cb0\",\"burlywood\",\"#768cb0\",\"burlywood\",\"#768cb0\",\"#768cb0\",\"burlywood\",\"#768cb0\",\"darkblue\",\"sienna\",\"#768cb0\",\"burlywood\",\"burlywood\",\"#768cb0\",\"#768cb0\",\"burlywood\",\"#768cb0\",\"#768cb0\",\"burlywood\",\"burlywood\",\"burlywood\",\"burlywood\"],\"size\":[16,16,16,16,16,16,16,16,20,20,16,16,16,16,16,16,16,16,16,16,16,16],\"symbol\":\"arrow\"},\"mode\":\"markers\",\"showlegend\":false,\"visible\":false,\"x\":[29.68,26.96,24.1,19.98,25.78,37.42,25.9,28.1,29.52,25.0,27.63,31.13,32.55,36.75,28.55,28.17,23.39,31.7,24.63,35.63,29.28,30.22],\"y\":[33.19,40.06,22.69,29.79,31.08,19.07,33.32,30.09,5.18,5.8,9.44,31.46,31.3,33.0,5.69,6.07,13.29,34.27,30.68,32.8,5.81,25.04],\"type\":\"scatter\"},{\"marker\":{\"color\":[\"dimgrey\"],\"size\":8},\"mode\":\"markers\",\"showlegend\":false,\"visible\":false,\"x\":[24.9699993133545],\"y\":[5.73000001907349],\"type\":\"scatter\"},{\"hovertemplate\":\"%{hovertext}\",\"hovertext\":[\"Lavonte David\",\"Jake Matthews\",\"Shaquil Barrett\",\"Marcus Mariota\",\"Rakeem Nunez-Roches\",\"Keanu Neal\",\"Elijah Wilkinson\",\"Vita Vea\",\"Carlton Davis\",\"KhaDarel Hodge\",\"Devin White\",\"Chris Lindstrom\",\"Kaleb McGary\",\"Jamel Dean\",\"Mike Edwards\",\"Olamide Zaccheaus\",\"Antoine Winfield\",\"Joe Tryon\",\"Drew Dalman\",\"Feleipe Franks\",\"Drake London\",\"Tyler Allgeier\"],\"marker\":{\"angle\":[-176.8,-99.20999999999998,134.65999999999997,-170.40999999999997,170.43,-177.82,157.95,160.69,-93.75999999999999,91.09000000000003,-169.0,-163.61,-170.51999999999998,-170.91999999999996,-29.519999999999982,97.94999999999999,173.47000000000003,146.7,143.51,-169.89999999999998,149.35000000000002,166.98000000000002],\"color\":[\"#768cb0\",\"burlywood\",\"#768cb0\",\"burlywood\",\"#768cb0\",\"#768cb0\",\"burlywood\",\"#768cb0\",\"darkblue\",\"sienna\",\"#768cb0\",\"burlywood\",\"burlywood\",\"#768cb0\",\"#768cb0\",\"burlywood\",\"#768cb0\",\"#768cb0\",\"burlywood\",\"burlywood\",\"burlywood\",\"burlywood\"],\"size\":[16,16,16,16,16,16,16,16,20,20,16,16,16,16,16,16,16,16,16,16,16,16],\"symbol\":\"arrow\"},\"mode\":\"markers\",\"showlegend\":false,\"visible\":false,\"x\":[29.8,27.14,24.3,20.13,25.98,37.26,26.11,28.42,29.43,25.49,27.83,31.19,32.66,36.91,28.57,28.22,23.86,32.08,24.82,35.8,29.13,30.53],\"y\":[33.0,39.93,22.19,29.68,30.7,18.37,33.08,29.7,4.97,5.48,8.8,31.24,31.14,32.47,5.19,5.61,12.77,33.96,30.3,32.18,5.57,24.52],\"type\":\"scatter\"},{\"marker\":{\"color\":[\"dimgrey\"],\"size\":8},\"mode\":\"markers\",\"showlegend\":false,\"visible\":false,\"x\":[25.5],\"y\":[5.38000011444092],\"type\":\"scatter\"},{\"hovertemplate\":\"%{hovertext}\",\"hovertext\":[\"Lavonte David\",\"Jake Matthews\",\"Shaquil Barrett\",\"Marcus Mariota\",\"Rakeem Nunez-Roches\",\"Keanu Neal\",\"Elijah Wilkinson\",\"Vita Vea\",\"Carlton Davis\",\"KhaDarel Hodge\",\"Devin White\",\"Chris Lindstrom\",\"Kaleb McGary\",\"Jamel Dean\",\"Mike Edwards\",\"Olamide Zaccheaus\",\"Antoine Winfield\",\"Joe Tryon\",\"Drew Dalman\",\"Feleipe Franks\",\"Drake London\",\"Tyler Allgeier\"],\"marker\":{\"angle\":[179.07,-103.66000000000003,128.14999999999998,-176.23000000000002,166.16999999999996,-176.09000000000003,157.95,159.47000000000003,-101.95999999999998,88.38,-163.0,-162.09000000000003,-165.01,-170.91999999999996,-11.309999999999945,110.49000000000001,174.16999999999996,144.19,141.84000000000003,115.09000000000003,145.76999999999998,168.15999999999997],\"color\":[\"#768cb0\",\"burlywood\",\"#768cb0\",\"burlywood\",\"#768cb0\",\"#768cb0\",\"burlywood\",\"#768cb0\",\"darkblue\",\"sienna\",\"#768cb0\",\"burlywood\",\"burlywood\",\"#768cb0\",\"#768cb0\",\"burlywood\",\"#768cb0\",\"#768cb0\",\"burlywood\",\"burlywood\",\"burlywood\",\"burlywood\"],\"size\":[16,16,16,16,16,16,16,16,20,20,16,16,16,16,16,16,16,16,16,16,16,16],\"symbol\":\"arrow\"},\"mode\":\"markers\",\"showlegend\":false,\"visible\":false,\"x\":[29.93,27.32,24.48,20.29,26.16,37.1,26.3,28.75,29.37,25.97,28.05,31.21,32.74,37.07,28.6,28.29,24.32,32.47,25.04,35.98,29.0,30.81],\"y\":[32.78,39.77,21.7,29.57,30.32,17.68,32.83,29.31,4.78,5.18,8.19,31.01,30.96,31.96,4.69,5.14,12.25,33.66,29.9,31.58,5.34,23.99],\"type\":\"scatter\"},{\"marker\":{\"color\":[\"dimgrey\"],\"size\":8},\"mode\":\"markers\",\"showlegend\":false,\"visible\":false,\"x\":[25.9699993133545],\"y\":[5.09000015258789],\"type\":\"scatter\"},{\"hovertemplate\":\"%{hovertext}\",\"hovertext\":[\"Lavonte David\",\"Jake Matthews\",\"Shaquil Barrett\",\"Marcus Mariota\",\"Rakeem Nunez-Roches\",\"Keanu Neal\",\"Elijah Wilkinson\",\"Vita Vea\",\"Carlton Davis\",\"KhaDarel Hodge\",\"Devin White\",\"Chris Lindstrom\",\"Kaleb McGary\",\"Jamel Dean\",\"Mike Edwards\",\"Olamide Zaccheaus\",\"Antoine Winfield\",\"Joe Tryon\",\"Drew Dalman\",\"Feleipe Franks\",\"Drake London\",\"Tyler Allgeier\"],\"marker\":{\"angle\":[178.05,-104.59000000000003,126.00999999999999,172.13,164.83000000000004,-176.09000000000003,156.3,158.22000000000003,-124.80000000000001,81.79000000000002,-162.26999999999998,-156.26,-161.19,-171.7,0.2599999999999909,114.14999999999998,175.53999999999996,145.24,119.79000000000002,103.85000000000002,143.93,169.01],\"color\":[\"#768cb0\",\"burlywood\",\"#768cb0\",\"burlywood\",\"#768cb0\",\"#768cb0\",\"burlywood\",\"#768cb0\",\"darkblue\",\"sienna\",\"#768cb0\",\"burlywood\",\"burlywood\",\"#768cb0\",\"#768cb0\",\"burlywood\",\"#768cb0\",\"#768cb0\",\"burlywood\",\"burlywood\",\"burlywood\",\"burlywood\"],\"size\":[16,16,16,16,16,16,16,16,20,20,16,16,16,16,16,16,16,16,16,16,16,16],\"symbol\":\"arrow\"},\"mode\":\"markers\",\"showlegend\":false,\"visible\":false,\"x\":[30.06,27.47,24.67,20.44,26.34,36.95,26.51,29.07,29.32,26.45,28.27,31.23,32.82,37.24,28.64,28.37,24.8,32.83,25.29,36.17,28.89,31.09],\"y\":[32.54,39.59,21.23,29.46,29.94,17.0,32.54,28.92,4.61,4.93,7.61,30.78,30.78,31.46,4.21,4.7,11.73,33.35,29.49,30.99,5.14,23.45],\"type\":\"scatter\"},{\"marker\":{\"color\":[\"dimgrey\"],\"size\":8},\"mode\":\"markers\",\"showlegend\":false,\"visible\":false,\"x\":[26.3799991607666],\"y\":[4.84999990463257],\"type\":\"scatter\"},{\"hovertemplate\":\"%{hovertext}\",\"hovertext\":[\"Lavonte David\",\"Jake Matthews\",\"Shaquil Barrett\",\"Marcus Mariota\",\"Rakeem Nunez-Roches\",\"Keanu Neal\",\"Elijah Wilkinson\",\"Vita Vea\",\"Carlton Davis\",\"KhaDarel Hodge\",\"Devin White\",\"Chris Lindstrom\",\"Kaleb McGary\",\"Jamel Dean\",\"Mike Edwards\",\"Olamide Zaccheaus\",\"Antoine Winfield\",\"Joe Tryon\",\"Drew Dalman\",\"Feleipe Franks\",\"Drake London\",\"Tyler Allgeier\"],\"marker\":{\"angle\":[176.49,-107.07,123.93,163.46000000000004,164.83000000000004,-176.09000000000003,155.60000000000002,158.91999999999996,-136.37,77.23000000000002,-158.66999999999996,-157.14999999999998,-160.57,-171.7,3.1899999999999977,120.79000000000002,174.26999999999998,146.31,127.65999999999997,100.32,135.23000000000002,167.69],\"color\":[\"#768cb0\",\"burlywood\",\"#768cb0\",\"burlywood\",\"#768cb0\",\"#768cb0\",\"burlywood\",\"#768cb0\",\"darkblue\",\"sienna\",\"#768cb0\",\"burlywood\",\"burlywood\",\"#768cb0\",\"#768cb0\",\"burlywood\",\"#768cb0\",\"#768cb0\",\"burlywood\",\"burlywood\",\"burlywood\",\"burlywood\"],\"size\":[16,16,16,16,16,16,16,16,20,20,16,16,16,16,16,16,16,16,16,16,16,16],\"symbol\":\"arrow\"},\"mode\":\"markers\",\"showlegend\":false,\"visible\":false,\"x\":[30.16,27.62,25.01,20.58,26.51,36.82,26.69,29.39,29.28,26.92,28.49,31.28,32.88,37.43,28.7,28.46,25.27,33.19,25.53,36.36,28.81,31.36],\"y\":[32.28,39.42,20.86,29.34,29.56,16.31,32.27,28.53,4.46,4.69,7.04,30.54,30.6,30.97,3.75,4.27,11.2,33.04,29.1,30.42,4.94,22.9],\"type\":\"scatter\"},{\"marker\":{\"color\":[\"dimgrey\"],\"size\":8},\"mode\":\"markers\",\"showlegend\":false,\"visible\":false,\"x\":[26.8799991607666],\"y\":[4.6100001335144],\"type\":\"scatter\"},{\"hovertemplate\":\"%{hovertext}\",\"hovertext\":[\"Lavonte David\",\"Jake Matthews\",\"Shaquil Barrett\",\"Marcus Mariota\",\"Rakeem Nunez-Roches\",\"Keanu Neal\",\"Elijah Wilkinson\",\"Vita Vea\",\"Carlton Davis\",\"KhaDarel Hodge\",\"Devin White\",\"Chris Lindstrom\",\"Kaleb McGary\",\"Jamel Dean\",\"Mike Edwards\",\"Olamide Zaccheaus\",\"Antoine Winfield\",\"Joe Tryon\",\"Drew Dalman\",\"Feleipe Franks\",\"Drake London\",\"Tyler Allgeier\"],\"marker\":{\"angle\":[-175.35000000000002,-115.21000000000004,121.88999999999999,154.0,172.26999999999998,-174.60000000000002,155.60000000000002,162.36,-174.21000000000004,79.14999999999998,-158.03999999999996,-157.14999999999998,-164.06,-169.64999999999998,7.180000000000007,125.10000000000002,168.2,150.34000000000003,139.3,103.98000000000002,132.8,169.40999999999997],\"color\":[\"#768cb0\",\"burlywood\",\"#768cb0\",\"burlywood\",\"#768cb0\",\"#768cb0\",\"burlywood\",\"#768cb0\",\"darkblue\",\"sienna\",\"#768cb0\",\"burlywood\",\"burlywood\",\"#768cb0\",\"#768cb0\",\"burlywood\",\"#768cb0\",\"#768cb0\",\"burlywood\",\"burlywood\",\"burlywood\",\"burlywood\"],\"size\":[16,16,16,16,16,16,16,16,20,20,16,16,16,16,16,16,16,16,16,16,16,16],\"symbol\":\"arrow\"},\"mode\":\"markers\",\"showlegend\":false,\"visible\":false,\"x\":[30.26,27.78,25.25,20.73,26.7,36.68,26.88,29.71,29.29,27.36,28.7,31.31,32.94,37.61,28.76,28.55,25.75,33.52,25.75,36.56,28.78,31.62],\"y\":[32.02,39.2,20.43,29.22,29.18,15.62,32.0,28.13,4.26,4.41,6.5,30.3,30.39,30.5,3.29,3.86,10.68,32.72,28.71,29.86,4.76,22.35],\"type\":\"scatter\"},{\"marker\":{\"color\":[\"dimgrey\"],\"size\":8},\"mode\":\"markers\",\"showlegend\":false,\"visible\":false,\"x\":[27.3899993896484],\"y\":[4.30000019073486],\"type\":\"scatter\"},{\"hovertemplate\":\"%{hovertext}\",\"hovertext\":[\"Lavonte David\",\"Jake Matthews\",\"Shaquil Barrett\",\"Marcus Mariota\",\"Rakeem Nunez-Roches\",\"Keanu Neal\",\"Elijah Wilkinson\",\"Vita Vea\",\"Carlton Davis\",\"KhaDarel Hodge\",\"Devin White\",\"Chris Lindstrom\",\"Kaleb McGary\",\"Jamel Dean\",\"Mike Edwards\",\"Olamide Zaccheaus\",\"Antoine Winfield\",\"Joe Tryon\",\"Drew Dalman\",\"Feleipe Franks\",\"Drake London\",\"Tyler Allgeier\"],\"marker\":{\"angle\":[-165.64999999999998,-119.34000000000003,126.50999999999999,150.64,169.73000000000002,-173.65999999999997,155.60000000000002,164.95,179.48000000000002,79.14999999999998,-158.03999999999996,-159.45,-164.06,-169.64999999999998,9.52000000000001,126.14999999999998,168.2,154.75,153.76999999999998,101.23000000000002,148.68,173.34000000000003],\"color\":[\"#768cb0\",\"burlywood\",\"#768cb0\",\"burlywood\",\"#768cb0\",\"#768cb0\",\"burlywood\",\"#768cb0\",\"darkblue\",\"sienna\",\"#768cb0\",\"burlywood\",\"burlywood\",\"#768cb0\",\"#768cb0\",\"burlywood\",\"#768cb0\",\"#768cb0\",\"burlywood\",\"burlywood\",\"burlywood\",\"burlywood\"],\"size\":[16,16,16,16,16,16,16,16,20,20,16,16,16,16,16,16,16,16,16,16,16,16],\"symbol\":\"arrow\"},\"mode\":\"markers\",\"showlegend\":false,\"visible\":false,\"x\":[30.35,27.9,25.52,20.88,26.9,36.56,27.07,30.03,29.31,27.79,28.92,31.34,32.99,37.81,28.81,28.65,26.23,33.83,26.01,36.76,28.76,31.86],\"y\":[31.74,39.01,20.04,29.08,28.8,14.95,31.72,27.72,4.06,4.15,5.98,30.05,30.17,30.05,2.85,3.45,10.18,32.4,28.3,29.32,4.59,21.8],\"type\":\"scatter\"},{\"marker\":{\"color\":[\"dimgrey\"],\"size\":8},\"mode\":\"markers\",\"showlegend\":false,\"visible\":false,\"x\":[27.8500003814697],\"y\":[4.01999998092651],\"type\":\"scatter\"},{\"hovertemplate\":\"%{hovertext}\",\"hovertext\":[\"Lavonte David\",\"Jake Matthews\",\"Shaquil Barrett\",\"Marcus Mariota\",\"Rakeem Nunez-Roches\",\"Keanu Neal\",\"Elijah Wilkinson\",\"Vita Vea\",\"Carlton Davis\",\"KhaDarel Hodge\",\"Devin White\",\"Chris Lindstrom\",\"Kaleb McGary\",\"Jamel Dean\",\"Mike Edwards\",\"Olamide Zaccheaus\",\"Antoine Winfield\",\"Joe Tryon\",\"Drew Dalman\",\"Feleipe Franks\",\"Drake London\",\"Tyler Allgeier\"],\"marker\":{\"angle\":[-160.33000000000004,-119.34000000000003,130.91999999999996,148.71000000000004,163.38,-173.65999999999997,160.25,163.88,171.87,82.65999999999997,-156.32,-158.76999999999998,-164.06,-169.64999999999998,13.810000000000002,116.47000000000003,173.62,160.23000000000002,163.61,101.23000000000002,160.3,171.7],\"color\":[\"#768cb0\",\"burlywood\",\"#768cb0\",\"burlywood\",\"#768cb0\",\"#768cb0\",\"burlywood\",\"#768cb0\",\"darkblue\",\"sienna\",\"#768cb0\",\"burlywood\",\"burlywood\",\"#768cb0\",\"#768cb0\",\"burlywood\",\"#768cb0\",\"#768cb0\",\"burlywood\",\"burlywood\",\"burlywood\",\"burlywood\"],\"size\":[16,16,16,16,16,16,16,16,20,20,16,16,16,16,16,16,16,16,16,16,16,16],\"symbol\":\"arrow\"},\"mode\":\"markers\",\"showlegend\":false,\"visible\":false,\"x\":[30.43,28.03,25.77,21.03,27.09,36.44,27.27,30.34,29.36,28.2,29.14,31.35,33.03,38.01,28.87,28.76,26.69,34.13,26.24,36.97,28.77,32.09],\"y\":[31.45,38.81,19.65,28.95,28.43,14.28,31.41,27.32,3.87,3.9,5.49,29.82,29.93,29.61,2.43,3.06,9.69,32.07,27.92,28.8,4.43,21.24],\"type\":\"scatter\"},{\"marker\":{\"color\":[\"dimgrey\"],\"size\":8},\"mode\":\"markers\",\"showlegend\":false,\"visible\":false,\"x\":[28.2800006866455],\"y\":[3.75999999046326],\"type\":\"scatter\"},{\"hovertemplate\":\"%{hovertext}\",\"hovertext\":[\"Lavonte David\",\"Jake Matthews\",\"Shaquil Barrett\",\"Marcus Mariota\",\"Rakeem Nunez-Roches\",\"Keanu Neal\",\"Elijah Wilkinson\",\"Vita Vea\",\"Carlton Davis\",\"KhaDarel Hodge\",\"Devin White\",\"Chris Lindstrom\",\"Kaleb McGary\",\"Jamel Dean\",\"Mike Edwards\",\"Olamide Zaccheaus\",\"Antoine Winfield\",\"Joe Tryon\",\"Drew Dalman\",\"Feleipe Franks\",\"Drake London\",\"Tyler Allgeier\"],\"marker\":{\"angle\":[-154.86,-120.19999999999999,128.65999999999997,146.44,161.8,-173.65999999999997,159.51,162.51,166.56,83.99000000000001,-155.61,-159.58000000000004,-168.43,-168.90999999999997,19.55000000000001,114.98000000000002,175.94,164.65999999999997,144.73000000000002,96.09000000000003,170.56,169.68],\"color\":[\"#768cb0\",\"burlywood\",\"#768cb0\",\"burlywood\",\"#768cb0\",\"#768cb0\",\"burlywood\",\"#768cb0\",\"darkblue\",\"sienna\",\"#768cb0\",\"burlywood\",\"burlywood\",\"#768cb0\",\"#768cb0\",\"burlywood\",\"#768cb0\",\"#768cb0\",\"burlywood\",\"burlywood\",\"burlywood\",\"burlywood\"],\"size\":[16,16,16,16,16,16,16,16,20,20,16,16,16,16,16,16,16,16,16,16,16,16],\"symbol\":\"arrow\"},\"mode\":\"markers\",\"showlegend\":false,\"visible\":false,\"x\":[30.5,28.16,26.03,21.19,27.3,36.32,27.47,30.66,29.41,28.6,29.34,31.35,33.05,38.21,28.92,28.87,27.17,34.4,26.5,37.17,28.81,32.32],\"y\":[31.16,38.59,19.27,28.82,28.06,13.62,31.11,26.93,3.7,3.66,5.03,29.57,29.64,29.19,2.02,2.68,9.2,31.74,27.55,28.31,4.29,20.69],\"type\":\"scatter\"},{\"marker\":{\"color\":[\"dimgrey\"],\"size\":8},\"mode\":\"markers\",\"showlegend\":false,\"visible\":false,\"x\":[28.7199993133545],\"y\":[3.50999999046326],\"type\":\"scatter\"},{\"hovertemplate\":\"%{hovertext}\",\"hovertext\":[\"Lavonte David\",\"Jake Matthews\",\"Shaquil Barrett\",\"Marcus Mariota\",\"Rakeem Nunez-Roches\",\"Keanu Neal\",\"Elijah Wilkinson\",\"Vita Vea\",\"Carlton Davis\",\"KhaDarel Hodge\",\"Devin White\",\"Chris Lindstrom\",\"Kaleb McGary\",\"Jamel Dean\",\"Mike Edwards\",\"Olamide Zaccheaus\",\"Antoine Winfield\",\"Joe Tryon\",\"Drew Dalman\",\"Feleipe Franks\",\"Drake London\",\"Tyler Allgeier\"],\"marker\":{\"angle\":[-165.19,-117.34000000000003,126.77999999999997,137.66999999999996,166.03999999999996,-175.24,157.93,163.55,162.06,83.99000000000001,-161.91999999999996,-158.83000000000004,-171.58000000000004,-167.59000000000003,25.47999999999999,113.42000000000002,177.53999999999996,166.10000000000002,161.93,97.59000000000003,175.85000000000002,169.68],\"color\":[\"#768cb0\",\"burlywood\",\"#768cb0\",\"burlywood\",\"#768cb0\",\"#768cb0\",\"burlywood\",\"#768cb0\",\"darkblue\",\"sienna\",\"#768cb0\",\"burlywood\",\"burlywood\",\"#768cb0\",\"#768cb0\",\"burlywood\",\"#768cb0\",\"#768cb0\",\"burlywood\",\"burlywood\",\"burlywood\",\"burlywood\"],\"size\":[16,16,16,16,16,16,16,16,20,20,16,16,16,16,16,16,16,16,16,16,16,16],\"symbol\":\"arrow\"},\"mode\":\"markers\",\"showlegend\":false,\"visible\":false,\"x\":[30.55,28.29,26.29,21.35,27.53,36.22,27.66,30.97,29.5,28.98,29.52,31.33,33.07,38.37,28.96,28.97,27.62,34.64,26.77,37.38,28.87,32.53],\"y\":[30.86,38.37,18.91,28.69,27.7,12.97,30.8,26.54,3.52,3.39,4.59,29.32,29.38,28.78,1.62,2.3,8.72,31.4,27.15,27.85,4.17,20.13],\"type\":\"scatter\"},{\"marker\":{\"color\":[\"dimgrey\"],\"size\":8},\"mode\":\"markers\",\"showlegend\":false,\"visible\":false,\"x\":[29.1399993896484],\"y\":[3.19000005722046],\"type\":\"scatter\"},{\"hovertemplate\":\"%{hovertext}\",\"hovertext\":[\"Lavonte David\",\"Jake Matthews\",\"Shaquil Barrett\",\"Marcus Mariota\",\"Rakeem Nunez-Roches\",\"Keanu Neal\",\"Elijah Wilkinson\",\"Vita Vea\",\"Carlton Davis\",\"KhaDarel Hodge\",\"Devin White\",\"Chris Lindstrom\",\"Kaleb McGary\",\"Jamel Dean\",\"Mike Edwards\",\"Olamide Zaccheaus\",\"Antoine Winfield\",\"Joe Tryon\",\"Drew Dalman\",\"Feleipe Franks\",\"Drake London\",\"Tyler Allgeier\"],\"marker\":{\"angle\":[179.53999999999996,-90.26999999999998,126.77999999999997,137.66999999999996,161.02999999999997,179.11,157.93,165.89,158.7,84.62,-163.90999999999997,-152.77999999999997,-174.03999999999996,-167.59000000000003,33.19999999999999,109.75999999999999,178.95,168.39,131.14,98.39999999999998,178.22000000000003,174.64999999999998],\"color\":[\"#768cb0\",\"burlywood\",\"#768cb0\",\"burlywood\",\"#768cb0\",\"#768cb0\",\"burlywood\",\"#768cb0\",\"darkblue\",\"sienna\",\"#768cb0\",\"burlywood\",\"burlywood\",\"#768cb0\",\"#768cb0\",\"burlywood\",\"#768cb0\",\"#768cb0\",\"burlywood\",\"burlywood\",\"burlywood\",\"burlywood\"],\"size\":[16,16,16,16,16,16,16,16,20,20,16,16,16,16,16,16,16,16,16,16,16,16],\"symbol\":\"arrow\"},\"mode\":\"markers\",\"showlegend\":false,\"visible\":false,\"x\":[30.59,28.42,26.56,21.5,27.76,36.12,27.86,31.27,29.63,29.34,29.7,31.31,33.09,38.55,28.98,29.06,28.08,34.85,27.04,37.58,28.95,32.72],\"y\":[30.56,38.15,18.57,28.58,27.34,12.33,30.47,26.16,3.31,3.11,4.17,29.07,29.11,28.39,1.25,1.93,8.26,31.06,26.74,27.41,4.05,19.55],\"type\":\"scatter\"},{\"marker\":{\"color\":[\"dimgrey\"],\"size\":8},\"mode\":\"markers\",\"showlegend\":false,\"visible\":false,\"x\":[29.4899997711182],\"y\":[2.9300000667572],\"type\":\"scatter\"},{\"hovertemplate\":\"%{hovertext}\",\"hovertext\":[\"Lavonte David\",\"Jake Matthews\",\"Shaquil Barrett\",\"Marcus Mariota\",\"Rakeem Nunez-Roches\",\"Keanu Neal\",\"Elijah Wilkinson\",\"Vita Vea\",\"Carlton Davis\",\"KhaDarel Hodge\",\"Devin White\",\"Chris Lindstrom\",\"Kaleb McGary\",\"Jamel Dean\",\"Mike Edwards\",\"Olamide Zaccheaus\",\"Antoine Winfield\",\"Joe Tryon\",\"Drew Dalman\",\"Feleipe Franks\",\"Drake London\",\"Tyler Allgeier\"],\"marker\":{\"angle\":[173.39,-82.98000000000002,126.13,136.24,154.55,-179.05,155.74,163.36,163.46000000000004,91.98000000000002,-163.90999999999997,-150.89,-176.05,-164.95,33.91,109.75999999999999,179.76999999999998,170.33000000000004,133.24,96.54000000000002,179.05,173.45],\"color\":[\"#768cb0\",\"burlywood\",\"#768cb0\",\"burlywood\",\"#768cb0\",\"#768cb0\",\"burlywood\",\"#768cb0\",\"darkblue\",\"sienna\",\"#768cb0\",\"burlywood\",\"burlywood\",\"#768cb0\",\"#768cb0\",\"burlywood\",\"#768cb0\",\"#768cb0\",\"burlywood\",\"burlywood\",\"burlywood\",\"burlywood\"],\"size\":[16,16,16,16,16,16,16,16,20,20,16,16,16,16,16,16,16,16,16,16,16,16],\"symbol\":\"arrow\"},\"mode\":\"markers\",\"showlegend\":false,\"visible\":false,\"x\":[30.62,28.53,26.82,21.66,27.99,36.02,28.06,31.57,29.77,29.69,29.88,31.29,33.1,38.7,28.98,29.15,28.56,35.03,27.3,37.79,29.03,32.89],\"y\":[30.27,37.93,18.22,28.47,27.01,11.71,30.15,25.77,3.08,2.81,3.77,28.84,28.83,28.03,0.89,1.56,7.82,30.71,26.37,27.0,3.94,18.98],\"type\":\"scatter\"},{\"marker\":{\"color\":[\"dimgrey\"],\"size\":8},\"mode\":\"markers\",\"showlegend\":false,\"visible\":false,\"x\":[29.8099994659424],\"y\":[2.67000007629395],\"type\":\"scatter\"},{\"hovertemplate\":\"%{hovertext}\",\"hovertext\":[\"Lavonte David\",\"Jake Matthews\",\"Shaquil Barrett\",\"Marcus Mariota\",\"Rakeem Nunez-Roches\",\"Keanu Neal\",\"Elijah Wilkinson\",\"Vita Vea\",\"Carlton Davis\",\"KhaDarel Hodge\",\"Devin White\",\"Chris Lindstrom\",\"Kaleb McGary\",\"Jamel Dean\",\"Mike Edwards\",\"Olamide Zaccheaus\",\"Antoine Winfield\",\"Joe Tryon\",\"Drew Dalman\",\"Feleipe Franks\",\"Drake London\",\"Tyler Allgeier\"],\"marker\":{\"angle\":[169.96000000000004,-84.07999999999998,125.47000000000003,134.49,150.12,-174.28999999999996,156.76999999999998,160.89999999999998,159.03999999999996,99.06,-164.56,-151.74,-178.63,-161.97000000000003,38.43000000000001,106.63,-175.3,171.52999999999997,125.18,95.88,178.24,177.31],\"color\":[\"#768cb0\",\"burlywood\",\"#768cb0\",\"burlywood\",\"#768cb0\",\"#768cb0\",\"burlywood\",\"#768cb0\",\"darkblue\",\"sienna\",\"#768cb0\",\"burlywood\",\"burlywood\",\"#768cb0\",\"#768cb0\",\"burlywood\",\"#768cb0\",\"#768cb0\",\"burlywood\",\"burlywood\",\"burlywood\",\"burlywood\"],\"size\":[16,16,16,16,16,16,16,16,20,20,16,16,16,16,16,16,16,16,16,16,16,16],\"symbol\":\"arrow\"},\"mode\":\"markers\",\"showlegend\":false,\"visible\":false,\"x\":[30.64,28.65,27.06,21.82,28.21,35.92,28.25,31.86,29.96,30.02,30.06,31.27,33.1,38.85,28.96,29.23,28.99,35.2,27.54,37.98,29.11,33.05],\"y\":[29.98,37.69,17.86,28.35,26.69,11.11,29.82,25.4,2.83,2.49,3.39,28.61,28.55,27.68,0.56,1.19,7.41,30.36,25.96,26.61,3.83,18.41],\"type\":\"scatter\"},{\"marker\":{\"color\":[\"dimgrey\"],\"size\":8},\"mode\":\"markers\",\"showlegend\":false,\"visible\":false,\"x\":[30.1100006103516],\"y\":[2.40000009536743],\"type\":\"scatter\"},{\"hovertemplate\":\"%{hovertext}\",\"hovertext\":[\"Lavonte David\",\"Jake Matthews\",\"Shaquil Barrett\",\"Marcus Mariota\",\"Rakeem Nunez-Roches\",\"Keanu Neal\",\"Elijah Wilkinson\",\"Vita Vea\",\"Carlton Davis\",\"KhaDarel Hodge\",\"Devin White\",\"Chris Lindstrom\",\"Kaleb McGary\",\"Jamel Dean\",\"Mike Edwards\",\"Olamide Zaccheaus\",\"Antoine Winfield\",\"Joe Tryon\",\"Drew Dalman\",\"Feleipe Franks\",\"Drake London\",\"Tyler Allgeier\"],\"marker\":{\"angle\":[164.72000000000003,-95.86000000000001,125.47000000000003,130.59000000000003,147.39,-169.86,156.76999999999998,159.36,152.8,100.29000000000002,-179.39,-156.91999999999996,-174.58000000000004,-161.97000000000003,46.72999999999999,103.98000000000002,-175.3,173.88,134.51999999999998,95.88,176.52999999999997,176.21000000000004],\"color\":[\"#768cb0\",\"burlywood\",\"#768cb0\",\"burlywood\",\"#768cb0\",\"#768cb0\",\"burlywood\",\"#768cb0\",\"darkblue\",\"sienna\",\"#768cb0\",\"burlywood\",\"burlywood\",\"#768cb0\",\"#768cb0\",\"burlywood\",\"#768cb0\",\"#768cb0\",\"burlywood\",\"burlywood\",\"burlywood\",\"burlywood\"],\"size\":[16,16,16,16,16,16,16,16,20,20,16,16,16,16,16,16,16,16,16,16,16,16],\"symbol\":\"arrow\"},\"mode\":\"markers\",\"showlegend\":false,\"visible\":false,\"x\":[30.67,28.77,27.3,21.98,28.45,35.83,28.45,32.14,30.17,30.35,30.23,31.24,33.1,38.98,28.91,29.3,29.42,35.34,27.78,38.17,29.2,33.21],\"y\":[29.7,37.43,17.5,28.24,26.38,10.52,29.48,25.04,2.56,2.15,3.01,28.38,28.26,27.35,0.25,0.82,6.98,30.01,25.59,26.26,3.73,17.84],\"type\":\"scatter\"},{\"marker\":{\"color\":[\"dimgrey\"],\"size\":8},\"mode\":\"markers\",\"showlegend\":false,\"visible\":false,\"x\":[30.3999996185303],\"y\":[2.11999988555908],\"type\":\"scatter\"},{\"hovertemplate\":\"%{hovertext}\",\"hovertext\":[\"Lavonte David\",\"Jake Matthews\",\"Shaquil Barrett\",\"Marcus Mariota\",\"Rakeem Nunez-Roches\",\"Keanu Neal\",\"Elijah Wilkinson\",\"Vita Vea\",\"Carlton Davis\",\"KhaDarel Hodge\",\"Devin White\",\"Chris Lindstrom\",\"Kaleb McGary\",\"Jamel Dean\",\"Mike Edwards\",\"Olamide Zaccheaus\",\"Antoine Winfield\",\"Joe Tryon\",\"Drew Dalman\",\"Feleipe Franks\",\"Drake London\",\"Tyler Allgeier\"],\"marker\":{\"angle\":[162.91999999999996,-126.44,127.06,132.55,144.61,-176.01,158.07,158.49,153.39999999999998,97.84000000000003,171.03999999999996,-159.34000000000003,-171.51999999999998,-160.15999999999997,61.66,99.73000000000002,-175.3,176.68,147.60000000000002,95.88,175.0,178.51999999999998],\"color\":[\"#768cb0\",\"burlywood\",\"#768cb0\",\"burlywood\",\"#768cb0\",\"#768cb0\",\"burlywood\",\"#768cb0\",\"darkblue\",\"sienna\",\"#768cb0\",\"burlywood\",\"burlywood\",\"#768cb0\",\"#768cb0\",\"burlywood\",\"#768cb0\",\"#768cb0\",\"burlywood\",\"burlywood\",\"burlywood\",\"burlywood\"],\"size\":[16,16,16,16,16,16,16,16,20,20,16,16,16,16,16,16,16,16,16,16,16,16],\"symbol\":\"arrow\"},\"mode\":\"markers\",\"showlegend\":false,\"visible\":false,\"x\":[30.7,28.87,27.52,22.14,28.7,35.74,28.64,32.42,30.39,30.68,30.39,31.2,33.1,39.1,28.82,29.37,29.83,35.47,27.99,38.36,29.28,33.36],\"y\":[29.43,37.19,17.16,28.14,26.07,9.95,29.16,24.7,2.27,1.82,2.64,28.14,27.98,27.04,-0.02,0.48,6.58,29.66,25.2,25.94,3.64,17.27],\"type\":\"scatter\"},{\"marker\":{\"color\":[\"dimgrey\"],\"size\":8},\"mode\":\"markers\",\"showlegend\":false,\"visible\":false,\"x\":[30.6800003051758],\"y\":[1.83000004291534],\"type\":\"scatter\"},{\"hovertemplate\":\"%{hovertext}\",\"hovertext\":[\"Lavonte David\",\"Jake Matthews\",\"Shaquil Barrett\",\"Marcus Mariota\",\"Rakeem Nunez-Roches\",\"Keanu Neal\",\"Elijah Wilkinson\",\"Vita Vea\",\"Carlton Davis\",\"KhaDarel Hodge\",\"Devin White\",\"Chris Lindstrom\",\"Kaleb McGary\",\"Jamel Dean\",\"Mike Edwards\",\"Olamide Zaccheaus\",\"Antoine Winfield\",\"Joe Tryon\",\"Drew Dalman\",\"Feleipe Franks\",\"Drake London\",\"Tyler Allgeier\"],\"marker\":{\"angle\":[153.24,-114.59000000000003,129.14,136.36,143.47000000000003,-176.01,159.62,159.21000000000004,145.51,95.19,165.76,-156.19,-171.51999999999998,-160.15999999999997,76.18,98.02999999999997,-173.36,179.49,141.7,92.52999999999997,175.82,-179.33000000000004],\"color\":[\"#768cb0\",\"burlywood\",\"#768cb0\",\"burlywood\",\"#768cb0\",\"#768cb0\",\"burlywood\",\"#768cb0\",\"darkblue\",\"sienna\",\"#768cb0\",\"burlywood\",\"burlywood\",\"#768cb0\",\"#768cb0\",\"burlywood\",\"#768cb0\",\"#768cb0\",\"burlywood\",\"burlywood\",\"burlywood\",\"burlywood\"],\"size\":[16,16,16,16,16,16,16,16,20,20,16,16,16,16,16,16,16,16,16,16,16,16],\"symbol\":\"arrow\"},\"mode\":\"markers\",\"showlegend\":false,\"visible\":false,\"x\":[30.75,28.94,27.71,22.29,28.93,35.66,28.83,32.7,30.62,31.0,30.55,31.16,33.09,39.2,28.72,29.42,30.23,35.58,28.19,38.54,29.37,33.5],\"y\":[29.17,36.93,16.81,28.05,25.77,9.4,28.84,24.37,1.94,1.48,2.28,27.92,27.71,26.76,-0.25,0.14,6.19,29.32,24.82,25.65,3.55,16.72],\"type\":\"scatter\"},{\"marker\":{\"color\":[\"dimgrey\"],\"size\":8},\"mode\":\"markers\",\"showlegend\":false,\"visible\":false,\"x\":[30.9699993133545],\"y\":[1.52999997138977],\"type\":\"scatter\"},{\"hovertemplate\":\"%{hovertext}\",\"hovertext\":[\"Lavonte David\",\"Jake Matthews\",\"Shaquil Barrett\",\"Marcus Mariota\",\"Rakeem Nunez-Roches\",\"Keanu Neal\",\"Elijah Wilkinson\",\"Vita Vea\",\"Carlton Davis\",\"KhaDarel Hodge\",\"Devin White\",\"Chris Lindstrom\",\"Kaleb McGary\",\"Jamel Dean\",\"Mike Edwards\",\"Olamide Zaccheaus\",\"Antoine Winfield\",\"Joe Tryon\",\"Drew Dalman\",\"Feleipe Franks\",\"Drake London\",\"Tyler Allgeier\"],\"marker\":{\"angle\":[142.62,-109.36000000000001,129.14,139.74,143.47000000000003,-176.89,159.62,159.21000000000004,136.12,95.92000000000002,158.7,-159.7,-170.65999999999997,-160.15999999999997,84.99000000000001,95.30000000000001,-172.77999999999997,-178.40999999999997,154.89999999999998,90.98000000000002,172.88,-179.33000000000004],\"color\":[\"#768cb0\",\"burlywood\",\"#768cb0\",\"burlywood\",\"#768cb0\",\"#768cb0\",\"burlywood\",\"#768cb0\",\"darkblue\",\"sienna\",\"#768cb0\",\"burlywood\",\"burlywood\",\"#768cb0\",\"#768cb0\",\"burlywood\",\"#768cb0\",\"#768cb0\",\"burlywood\",\"burlywood\",\"burlywood\",\"burlywood\"],\"size\":[16,16,16,16,16,16,16,16,20,20,16,16,16,16,16,16,16,16,16,16,16,16],\"symbol\":\"arrow\"},\"mode\":\"markers\",\"showlegend\":false,\"visible\":false,\"x\":[30.79,29.02,27.88,22.44,29.16,35.58,29.04,32.97,30.86,31.31,30.69,31.12,33.07,39.31,28.6,29.47,30.62,35.67,28.38,38.72,29.46,33.64],\"y\":[28.93,36.68,16.52,27.94,25.49,8.89,28.53,24.05,1.6,1.14,1.92,27.69,27.45,26.5,-0.47,-0.19,5.81,28.97,24.45,25.38,3.46,16.17],\"type\":\"scatter\"},{\"marker\":{\"color\":[\"dimgrey\"],\"size\":8},\"mode\":\"markers\",\"showlegend\":false,\"visible\":false,\"x\":[31.2700004577637],\"y\":[1.21000003814697],\"type\":\"scatter\"},{\"hovertemplate\":\"%{hovertext}\",\"hovertext\":[\"Lavonte David\",\"Jake Matthews\",\"Shaquil Barrett\",\"Marcus Mariota\",\"Rakeem Nunez-Roches\",\"Keanu Neal\",\"Elijah Wilkinson\",\"Vita Vea\",\"Carlton Davis\",\"KhaDarel Hodge\",\"Devin White\",\"Chris Lindstrom\",\"Kaleb McGary\",\"Jamel Dean\",\"Mike Edwards\",\"Olamide Zaccheaus\",\"Antoine Winfield\",\"Joe Tryon\",\"Drew Dalman\",\"Feleipe Franks\",\"Drake London\",\"Tyler Allgeier\"],\"marker\":{\"angle\":[148.49,-107.27999999999997,129.14,143.36,144.60000000000002,-176.89,160.35000000000002,159.21000000000004,120.39999999999998,95.13999999999999,154.52999999999997,-176.81,-165.39999999999998,-162.61,96.61000000000001,83.75999999999999,-171.31,-175.14,156.05,83.14999999999998,170.98000000000002,-176.60000000000002],\"color\":[\"#768cb0\",\"burlywood\",\"#768cb0\",\"burlywood\",\"#768cb0\",\"#768cb0\",\"burlywood\",\"#768cb0\",\"darkblue\",\"sienna\",\"#768cb0\",\"burlywood\",\"burlywood\",\"#768cb0\",\"#768cb0\",\"burlywood\",\"#768cb0\",\"#768cb0\",\"burlywood\",\"burlywood\",\"burlywood\",\"burlywood\"],\"size\":[16,16,16,16,16,16,16,16,20,20,16,16,16,16,16,16,16,16,16,16,16,16],\"symbol\":\"arrow\"},\"mode\":\"markers\",\"showlegend\":false,\"visible\":false,\"x\":[30.82,29.09,28.05,22.58,29.39,35.51,29.21,33.23,31.1,31.63,30.84,31.07,33.05,39.4,28.46,29.52,30.99,35.74,28.61,38.89,29.55,33.76],\"y\":[28.71,36.43,16.25,27.82,25.22,8.4,28.21,23.74,1.23,0.82,1.58,27.46,27.22,26.27,-0.66,-0.51,5.44,28.64,24.1,25.15,3.38,15.62],\"type\":\"scatter\"},{\"marker\":{\"color\":[\"dimgrey\"],\"size\":8},\"mode\":\"markers\",\"showlegend\":false,\"visible\":false,\"x\":[31.5699996948242],\"y\":[0.910000026226044],\"type\":\"scatter\"},{\"hovertemplate\":\"%{hovertext}\",\"hovertext\":[\"Lavonte David\",\"Jake Matthews\",\"Shaquil Barrett\",\"Marcus Mariota\",\"Rakeem Nunez-Roches\",\"Keanu Neal\",\"Elijah Wilkinson\",\"Vita Vea\",\"Carlton Davis\",\"KhaDarel Hodge\",\"Devin White\",\"Chris Lindstrom\",\"Kaleb McGary\",\"Jamel Dean\",\"Mike Edwards\",\"Olamide Zaccheaus\",\"Antoine Winfield\",\"Joe Tryon\",\"Drew Dalman\",\"Feleipe Franks\",\"Drake London\",\"Tyler Allgeier\"],\"marker\":{\"angle\":[151.86,-134.51999999999998,133.68,157.21000000000004,144.60000000000002,-179.25,161.37,160.89999999999998,106.13999999999999,91.75,146.26,-179.72000000000003,-166.93,-162.61,104.07999999999998,69.17000000000002,-169.38,-171.91999999999996,168.81,73.07999999999998,168.44,-177.73000000000002],\"color\":[\"#768cb0\",\"burlywood\",\"#768cb0\",\"burlywood\",\"#768cb0\",\"#768cb0\",\"burlywood\",\"#768cb0\",\"darkblue\",\"sienna\",\"#768cb0\",\"burlywood\",\"burlywood\",\"#768cb0\",\"#768cb0\",\"burlywood\",\"#768cb0\",\"#768cb0\",\"burlywood\",\"burlywood\",\"burlywood\",\"burlywood\"],\"size\":[16,16,16,16,16,16,16,16,20,20,16,16,16,16,16,16,16,16,16,16,16,16],\"symbol\":\"arrow\"},\"mode\":\"markers\",\"showlegend\":false,\"visible\":false,\"x\":[30.85,29.14,28.22,22.73,29.62,35.44,29.4,33.48,31.34,31.95,30.98,31.03,33.03,39.49,28.31,29.56,31.35,35.8,28.82,39.04,29.64,33.86],\"y\":[28.5,36.2,15.99,27.72,24.95,7.94,27.9,23.43,0.86,0.53,1.25,27.22,26.98,26.06,-0.83,-0.81,5.08,28.32,23.75,24.94,3.3,15.09],\"type\":\"scatter\"},{\"marker\":{\"color\":[\"dimgrey\"],\"size\":8},\"mode\":\"markers\",\"showlegend\":false,\"visible\":false,\"x\":[31.8899993896484],\"y\":[0.610000014305115],\"type\":\"scatter\"},{\"hovertemplate\":\"%{hovertext}\",\"hovertext\":[\"Lavonte David\",\"Jake Matthews\",\"Shaquil Barrett\",\"Marcus Mariota\",\"Rakeem Nunez-Roches\",\"Keanu Neal\",\"Elijah Wilkinson\",\"Vita Vea\",\"Carlton Davis\",\"KhaDarel Hodge\",\"Devin White\",\"Chris Lindstrom\",\"Kaleb McGary\",\"Jamel Dean\",\"Mike Edwards\",\"Olamide Zaccheaus\",\"Antoine Winfield\",\"Joe Tryon\",\"Drew Dalman\",\"Feleipe Franks\",\"Drake London\",\"Tyler Allgeier\"],\"marker\":{\"angle\":[147.76999999999998,-135.75,147.06,-177.59000000000003,142.93,-179.25,161.37,161.93,75.11000000000001,88.80000000000001,145.37,174.83000000000004,-168.97000000000003,-162.61,100.44,57.53999999999999,-175.56,-169.95,175.45,64.25999999999999,160.44,-177.10000000000002],\"color\":[\"#768cb0\",\"burlywood\",\"#768cb0\",\"burlywood\",\"#768cb0\",\"#768cb0\",\"burlywood\",\"#768cb0\",\"darkblue\",\"sienna\",\"#768cb0\",\"burlywood\",\"burlywood\",\"#768cb0\",\"#768cb0\",\"burlywood\",\"#768cb0\",\"#768cb0\",\"burlywood\",\"burlywood\",\"burlywood\",\"burlywood\"],\"size\":[16,16,16,16,16,16,16,16,20,20,16,16,16,16,16,16,16,16,16,16,16,16],\"symbol\":\"arrow\"},\"mode\":\"markers\",\"showlegend\":false,\"visible\":false,\"x\":[30.87,29.2,28.4,22.87,29.83,35.37,29.56,33.72,31.58,32.26,31.13,31.0,33.0,39.57,28.16,29.61,31.68,35.85,29.02,39.19,29.74,33.97],\"y\":[28.31,35.96,15.83,27.62,24.7,7.51,27.62,23.13,0.48,0.24,0.93,26.99,26.76,25.89,-0.95,-1.08,4.76,28.0,23.42,24.76,3.23,14.57],\"type\":\"scatter\"},{\"marker\":{\"color\":[\"dimgrey\"],\"size\":8},\"mode\":\"markers\",\"showlegend\":false,\"visible\":false,\"x\":[32.2099990844727],\"y\":[0.310000002384186],\"type\":\"scatter\"},{\"hovertemplate\":\"%{hovertext}\",\"hovertext\":[\"Lavonte David\",\"Jake Matthews\",\"Shaquil Barrett\",\"Marcus Mariota\",\"Rakeem Nunez-Roches\",\"Keanu Neal\",\"Elijah Wilkinson\",\"Vita Vea\",\"Carlton Davis\",\"KhaDarel Hodge\",\"Devin White\",\"Chris Lindstrom\",\"Kaleb McGary\",\"Jamel Dean\",\"Mike Edwards\",\"Olamide Zaccheaus\",\"Antoine Winfield\",\"Joe Tryon\",\"Drew Dalman\",\"Feleipe Franks\",\"Drake London\",\"Tyler Allgeier\"],\"marker\":{\"angle\":[146.71000000000004,-157.3,-163.73000000000002,178.72000000000003,140.31,175.48000000000002,160.26999999999998,160.40999999999997,50.22,87.94,135.43,167.84000000000003,-179.41999999999996,-162.61,100.44,25.49000000000001,-178.43,-168.97000000000003,-179.26,45.06999999999999,155.89999999999998,-177.10000000000002],\"color\":[\"#768cb0\",\"burlywood\",\"#768cb0\",\"burlywood\",\"#768cb0\",\"#768cb0\",\"burlywood\",\"#768cb0\",\"darkblue\",\"sienna\",\"#768cb0\",\"burlywood\",\"burlywood\",\"#768cb0\",\"#768cb0\",\"burlywood\",\"#768cb0\",\"#768cb0\",\"burlywood\",\"burlywood\",\"burlywood\",\"burlywood\"],\"size\":[16,16,16,16,16,16,16,16,20,20,16,16,16,16,16,16,16,16,16,16,16,16],\"symbol\":\"arrow\"},\"mode\":\"markers\",\"showlegend\":false,\"visible\":false,\"x\":[30.88,29.25,28.56,23.02,30.04,35.3,29.7,33.95,31.83,32.57,31.27,30.98,32.97,39.64,27.99,29.65,32.0,35.89,29.22,39.32,29.82,34.07],\"y\":[28.15,35.68,15.63,27.5,24.48,7.12,27.34,22.84,0.17,-0.04,0.62,26.75,26.51,25.75,-1.05,-1.35,4.46,27.7,23.08,24.62,3.16,14.07],\"type\":\"scatter\"},{\"marker\":{\"color\":[\"dimgrey\"],\"size\":8},\"mode\":\"markers\",\"showlegend\":false,\"visible\":false,\"x\":[32.5400009155273],\"y\":[0.0099999997764825],\"type\":\"scatter\"},{\"hovertemplate\":\"%{hovertext}\",\"hovertext\":[\"Lavonte David\",\"Jake Matthews\",\"Shaquil Barrett\",\"Marcus Mariota\",\"Rakeem Nunez-Roches\",\"Keanu Neal\",\"Elijah Wilkinson\",\"Vita Vea\",\"Carlton Davis\",\"KhaDarel Hodge\",\"Devin White\",\"Chris Lindstrom\",\"Kaleb McGary\",\"Jamel Dean\",\"Mike Edwards\",\"Olamide Zaccheaus\",\"Antoine Winfield\",\"Joe Tryon\",\"Drew Dalman\",\"Feleipe Franks\",\"Drake London\",\"Tyler Allgeier\"],\"marker\":{\"angle\":[142.52999999999997,-154.35000000000002,-109.69999999999999,-175.3,136.76999999999998,173.31,158.18,159.36,38.72,87.94,130.69,166.35000000000002,170.68,-162.61,100.44,-22.25,174.88,-167.84000000000003,-177.19,22.30000000000001,148.34000000000003,-176.28999999999996],\"color\":[\"#768cb0\",\"burlywood\",\"#768cb0\",\"burlywood\",\"#768cb0\",\"#768cb0\",\"burlywood\",\"#768cb0\",\"darkblue\",\"sienna\",\"#768cb0\",\"burlywood\",\"burlywood\",\"#768cb0\",\"#768cb0\",\"burlywood\",\"#768cb0\",\"#768cb0\",\"burlywood\",\"burlywood\",\"burlywood\",\"burlywood\"],\"size\":[16,16,16,16,16,16,16,16,20,20,16,16,16,16,16,16,16,16,16,16,16,16],\"symbol\":\"arrow\"},\"mode\":\"markers\",\"showlegend\":false,\"visible\":false,\"x\":[30.88,29.32,28.71,23.17,30.23,35.23,29.85,34.17,32.08,32.85,31.42,30.97,32.95,39.7,27.83,29.69,32.3,35.92,29.4,39.43,29.91,34.18],\"y\":[28.0,35.42,15.47,27.38,24.26,6.77,27.07,22.56,0.17,-0.28,0.31,26.52,26.29,25.62,-1.13,-1.58,4.18,27.42,22.76,24.49,3.1,13.6],\"type\":\"scatter\"},{\"marker\":{\"color\":[\"dimgrey\"],\"size\":8},\"mode\":\"markers\",\"showlegend\":false,\"visible\":false,\"x\":[32.8199996948242],\"y\":[-0.239999994635582],\"type\":\"scatter\"},{\"hovertemplate\":\"%{hovertext}\",\"hovertext\":[\"Lavonte David\",\"Jake Matthews\",\"Shaquil Barrett\",\"Marcus Mariota\",\"Rakeem Nunez-Roches\",\"Keanu Neal\",\"Elijah Wilkinson\",\"Vita Vea\",\"Carlton Davis\",\"KhaDarel Hodge\",\"Devin White\",\"Chris Lindstrom\",\"Kaleb McGary\",\"Jamel Dean\",\"Mike Edwards\",\"Olamide Zaccheaus\",\"Antoine Winfield\",\"Joe Tryon\",\"Drew Dalman\",\"Feleipe Franks\",\"Drake London\",\"Tyler Allgeier\"],\"marker\":{\"angle\":[134.22000000000003,-161.13,-88.19999999999999,170.91999999999996,136.76999999999998,178.55,170.39,156.39999999999998,33.170000000000016,84.82999999999998,108.99000000000001,164.62,170.68,-164.11,96.13999999999999,-55.80000000000001,171.14999999999998,-165.99,-176.47000000000003,12.060000000000002,129.83000000000004,-178.82],\"color\":[\"#768cb0\",\"burlywood\",\"#768cb0\",\"burlywood\",\"#768cb0\",\"#768cb0\",\"burlywood\",\"#768cb0\",\"darkblue\",\"sienna\",\"#768cb0\",\"burlywood\",\"burlywood\",\"#768cb0\",\"#768cb0\",\"burlywood\",\"#768cb0\",\"#768cb0\",\"burlywood\",\"burlywood\",\"burlywood\",\"burlywood\"],\"size\":[16,16,16,16,16,16,16,16,20,20,16,16,16,16,16,16,16,16,16,16,16,16],\"symbol\":\"arrow\"},\"mode\":\"markers\",\"showlegend\":false,\"visible\":false,\"x\":[30.87,29.38,28.86,23.32,30.42,35.19,29.98,34.37,32.33,33.12,31.57,30.98,32.92,39.75,27.69,29.73,32.58,35.93,29.58,39.52,29.99,34.27],\"y\":[27.86,35.14,15.33,27.25,24.05,6.45,26.8,22.3,0.17,-0.49,0.17,26.3,26.07,25.52,-1.18,-1.79,3.92,27.15,22.44,24.39,3.05,13.14],\"type\":\"scatter\"},{\"marker\":{\"color\":[\"dimgrey\"],\"size\":8},\"mode\":\"markers\",\"showlegend\":false,\"visible\":false,\"x\":[33.0800018310547],\"y\":[-0.449999988079071],\"type\":\"scatter\"}],                        {\"plot_bgcolor\":\"rgba(0,0,0,0)\",\"shapes\":[{\"line\":{\"color\":\"grey\",\"width\":0.5},\"type\":\"line\",\"x0\":20,\"x1\":20,\"y0\":0,\"y1\":53.3},{\"line\":{\"color\":\"grey\",\"width\":0.5},\"type\":\"line\",\"x0\":30,\"x1\":30,\"y0\":0,\"y1\":53.3},{\"line\":{\"color\":\"grey\",\"width\":0.5},\"type\":\"line\",\"x0\":40,\"x1\":40,\"y0\":0,\"y1\":53.3},{\"line\":{\"color\":\"grey\",\"width\":0.5},\"type\":\"line\",\"x0\":50,\"x1\":50,\"y0\":0,\"y1\":53.3},{\"line\":{\"color\":\"grey\",\"width\":0.5},\"type\":\"line\",\"x0\":60,\"x1\":60,\"y0\":0,\"y1\":53.3},{\"line\":{\"color\":\"grey\",\"width\":0.5},\"type\":\"line\",\"x0\":70,\"x1\":70,\"y0\":0,\"y1\":53.3},{\"line\":{\"color\":\"grey\",\"width\":0.5},\"type\":\"line\",\"x0\":80,\"x1\":80,\"y0\":0,\"y1\":53.3},{\"line\":{\"color\":\"grey\",\"width\":0.5},\"type\":\"line\",\"x0\":90,\"x1\":90,\"y0\":0,\"y1\":53.3},{\"line\":{\"color\":\"grey\",\"width\":0.5},\"type\":\"line\",\"x0\":100,\"x1\":100,\"y0\":0,\"y1\":53.3},{\"line\":{\"color\":\"RGB(255,215,0)\",\"width\":1.3},\"type\":\"line\",\"x0\":23,\"x1\":23,\"y0\":0,\"y1\":53.3},{\"line\":{\"color\":\"RGB(255,215,0)\",\"dash\":\"dash\",\"width\":1.3},\"type\":\"line\",\"x0\":38,\"x1\":38,\"y0\":0,\"y1\":53.3},{\"line\":{\"color\":\"darkgrey\",\"width\":0.5},\"type\":\"line\",\"x0\":11,\"x1\":11,\"y0\":0.2,\"y1\":0.7},{\"line\":{\"color\":\"darkgrey\",\"width\":0.5},\"type\":\"line\",\"x0\":11,\"x1\":11,\"y0\":22.91,\"y1\":23.57},{\"line\":{\"color\":\"darkgrey\",\"width\":0.5},\"type\":\"line\",\"x0\":11,\"x1\":11,\"y0\":29.73,\"y1\":30.39},{\"line\":{\"color\":\"darkgrey\",\"width\":0.5},\"type\":\"line\",\"x0\":11,\"x1\":11,\"y0\":53,\"y1\":52.5},{\"line\":{\"color\":\"darkgrey\",\"width\":0.5},\"type\":\"line\",\"x0\":12,\"x1\":12,\"y0\":0.2,\"y1\":0.7},{\"line\":{\"color\":\"darkgrey\",\"width\":0.5},\"type\":\"line\",\"x0\":12,\"x1\":12,\"y0\":22.91,\"y1\":23.57},{\"line\":{\"color\":\"darkgrey\",\"width\":0.5},\"type\":\"line\",\"x0\":12,\"x1\":12,\"y0\":29.73,\"y1\":30.39},{\"line\":{\"color\":\"darkgrey\",\"width\":0.5},\"type\":\"line\",\"x0\":12,\"x1\":12,\"y0\":53,\"y1\":52.5},{\"line\":{\"color\":\"darkgrey\",\"width\":0.5},\"type\":\"line\",\"x0\":13,\"x1\":13,\"y0\":0.2,\"y1\":0.7},{\"line\":{\"color\":\"darkgrey\",\"width\":0.5},\"type\":\"line\",\"x0\":13,\"x1\":13,\"y0\":22.91,\"y1\":23.57},{\"line\":{\"color\":\"darkgrey\",\"width\":0.5},\"type\":\"line\",\"x0\":13,\"x1\":13,\"y0\":29.73,\"y1\":30.39},{\"line\":{\"color\":\"darkgrey\",\"width\":0.5},\"type\":\"line\",\"x0\":13,\"x1\":13,\"y0\":53,\"y1\":52.5},{\"line\":{\"color\":\"darkgrey\",\"width\":0.5},\"type\":\"line\",\"x0\":14,\"x1\":14,\"y0\":0.2,\"y1\":0.7},{\"line\":{\"color\":\"darkgrey\",\"width\":0.5},\"type\":\"line\",\"x0\":14,\"x1\":14,\"y0\":22.91,\"y1\":23.57},{\"line\":{\"color\":\"darkgrey\",\"width\":0.5},\"type\":\"line\",\"x0\":14,\"x1\":14,\"y0\":29.73,\"y1\":30.39},{\"line\":{\"color\":\"darkgrey\",\"width\":0.5},\"type\":\"line\",\"x0\":14,\"x1\":14,\"y0\":53,\"y1\":52.5},{\"line\":{\"color\":\"darkgrey\",\"width\":0.5},\"type\":\"line\",\"x0\":15,\"x1\":15,\"y0\":0.2,\"y1\":0.7},{\"line\":{\"color\":\"darkgrey\",\"width\":0.5},\"type\":\"line\",\"x0\":15,\"x1\":15,\"y0\":22.91,\"y1\":23.57},{\"line\":{\"color\":\"darkgrey\",\"width\":0.5},\"type\":\"line\",\"x0\":15,\"x1\":15,\"y0\":29.73,\"y1\":30.39},{\"line\":{\"color\":\"darkgrey\",\"width\":0.5},\"type\":\"line\",\"x0\":15,\"x1\":15,\"y0\":53,\"y1\":52.5},{\"line\":{\"color\":\"darkgrey\",\"width\":0.5},\"type\":\"line\",\"x0\":16,\"x1\":16,\"y0\":0.2,\"y1\":0.7},{\"line\":{\"color\":\"darkgrey\",\"width\":0.5},\"type\":\"line\",\"x0\":16,\"x1\":16,\"y0\":22.91,\"y1\":23.57},{\"line\":{\"color\":\"darkgrey\",\"width\":0.5},\"type\":\"line\",\"x0\":16,\"x1\":16,\"y0\":29.73,\"y1\":30.39},{\"line\":{\"color\":\"darkgrey\",\"width\":0.5},\"type\":\"line\",\"x0\":16,\"x1\":16,\"y0\":53,\"y1\":52.5},{\"line\":{\"color\":\"darkgrey\",\"width\":0.5},\"type\":\"line\",\"x0\":17,\"x1\":17,\"y0\":0.2,\"y1\":0.7},{\"line\":{\"color\":\"darkgrey\",\"width\":0.5},\"type\":\"line\",\"x0\":17,\"x1\":17,\"y0\":22.91,\"y1\":23.57},{\"line\":{\"color\":\"darkgrey\",\"width\":0.5},\"type\":\"line\",\"x0\":17,\"x1\":17,\"y0\":29.73,\"y1\":30.39},{\"line\":{\"color\":\"darkgrey\",\"width\":0.5},\"type\":\"line\",\"x0\":17,\"x1\":17,\"y0\":53,\"y1\":52.5},{\"line\":{\"color\":\"darkgrey\",\"width\":0.5},\"type\":\"line\",\"x0\":18,\"x1\":18,\"y0\":0.2,\"y1\":0.7},{\"line\":{\"color\":\"darkgrey\",\"width\":0.5},\"type\":\"line\",\"x0\":18,\"x1\":18,\"y0\":22.91,\"y1\":23.57},{\"line\":{\"color\":\"darkgrey\",\"width\":0.5},\"type\":\"line\",\"x0\":18,\"x1\":18,\"y0\":29.73,\"y1\":30.39},{\"line\":{\"color\":\"darkgrey\",\"width\":0.5},\"type\":\"line\",\"x0\":18,\"x1\":18,\"y0\":53,\"y1\":52.5},{\"line\":{\"color\":\"darkgrey\",\"width\":0.5},\"type\":\"line\",\"x0\":19,\"x1\":19,\"y0\":0.2,\"y1\":0.7},{\"line\":{\"color\":\"darkgrey\",\"width\":0.5},\"type\":\"line\",\"x0\":19,\"x1\":19,\"y0\":22.91,\"y1\":23.57},{\"line\":{\"color\":\"darkgrey\",\"width\":0.5},\"type\":\"line\",\"x0\":19,\"x1\":19,\"y0\":29.73,\"y1\":30.39},{\"line\":{\"color\":\"darkgrey\",\"width\":0.5},\"type\":\"line\",\"x0\":19,\"x1\":19,\"y0\":53,\"y1\":52.5},{\"line\":{\"color\":\"darkgrey\",\"width\":0.5},\"type\":\"line\",\"x0\":20,\"x1\":20,\"y0\":0.2,\"y1\":0.7},{\"line\":{\"color\":\"darkgrey\",\"width\":0.5},\"type\":\"line\",\"x0\":20,\"x1\":20,\"y0\":22.91,\"y1\":23.57},{\"line\":{\"color\":\"darkgrey\",\"width\":0.5},\"type\":\"line\",\"x0\":20,\"x1\":20,\"y0\":29.73,\"y1\":30.39},{\"line\":{\"color\":\"darkgrey\",\"width\":0.5},\"type\":\"line\",\"x0\":20,\"x1\":20,\"y0\":53,\"y1\":52.5},{\"line\":{\"color\":\"darkgrey\",\"width\":0.5},\"type\":\"line\",\"x0\":21,\"x1\":21,\"y0\":0.2,\"y1\":0.7},{\"line\":{\"color\":\"darkgrey\",\"width\":0.5},\"type\":\"line\",\"x0\":21,\"x1\":21,\"y0\":22.91,\"y1\":23.57},{\"line\":{\"color\":\"darkgrey\",\"width\":0.5},\"type\":\"line\",\"x0\":21,\"x1\":21,\"y0\":29.73,\"y1\":30.39},{\"line\":{\"color\":\"darkgrey\",\"width\":0.5},\"type\":\"line\",\"x0\":21,\"x1\":21,\"y0\":53,\"y1\":52.5},{\"line\":{\"color\":\"darkgrey\",\"width\":0.5},\"type\":\"line\",\"x0\":22,\"x1\":22,\"y0\":0.2,\"y1\":0.7},{\"line\":{\"color\":\"darkgrey\",\"width\":0.5},\"type\":\"line\",\"x0\":22,\"x1\":22,\"y0\":22.91,\"y1\":23.57},{\"line\":{\"color\":\"darkgrey\",\"width\":0.5},\"type\":\"line\",\"x0\":22,\"x1\":22,\"y0\":29.73,\"y1\":30.39},{\"line\":{\"color\":\"darkgrey\",\"width\":0.5},\"type\":\"line\",\"x0\":22,\"x1\":22,\"y0\":53,\"y1\":52.5},{\"line\":{\"color\":\"darkgrey\",\"width\":0.5},\"type\":\"line\",\"x0\":23,\"x1\":23,\"y0\":0.2,\"y1\":0.7},{\"line\":{\"color\":\"darkgrey\",\"width\":0.5},\"type\":\"line\",\"x0\":23,\"x1\":23,\"y0\":22.91,\"y1\":23.57},{\"line\":{\"color\":\"darkgrey\",\"width\":0.5},\"type\":\"line\",\"x0\":23,\"x1\":23,\"y0\":29.73,\"y1\":30.39},{\"line\":{\"color\":\"darkgrey\",\"width\":0.5},\"type\":\"line\",\"x0\":23,\"x1\":23,\"y0\":53,\"y1\":52.5},{\"line\":{\"color\":\"darkgrey\",\"width\":0.5},\"type\":\"line\",\"x0\":24,\"x1\":24,\"y0\":0.2,\"y1\":0.7},{\"line\":{\"color\":\"darkgrey\",\"width\":0.5},\"type\":\"line\",\"x0\":24,\"x1\":24,\"y0\":22.91,\"y1\":23.57},{\"line\":{\"color\":\"darkgrey\",\"width\":0.5},\"type\":\"line\",\"x0\":24,\"x1\":24,\"y0\":29.73,\"y1\":30.39},{\"line\":{\"color\":\"darkgrey\",\"width\":0.5},\"type\":\"line\",\"x0\":24,\"x1\":24,\"y0\":53,\"y1\":52.5},{\"line\":{\"color\":\"darkgrey\",\"width\":0.5},\"type\":\"line\",\"x0\":25,\"x1\":25,\"y0\":0.2,\"y1\":0.7},{\"line\":{\"color\":\"darkgrey\",\"width\":0.5},\"type\":\"line\",\"x0\":25,\"x1\":25,\"y0\":22.91,\"y1\":23.57},{\"line\":{\"color\":\"darkgrey\",\"width\":0.5},\"type\":\"line\",\"x0\":25,\"x1\":25,\"y0\":29.73,\"y1\":30.39},{\"line\":{\"color\":\"darkgrey\",\"width\":0.5},\"type\":\"line\",\"x0\":25,\"x1\":25,\"y0\":53,\"y1\":52.5},{\"line\":{\"color\":\"darkgrey\",\"width\":0.5},\"type\":\"line\",\"x0\":26,\"x1\":26,\"y0\":0.2,\"y1\":0.7},{\"line\":{\"color\":\"darkgrey\",\"width\":0.5},\"type\":\"line\",\"x0\":26,\"x1\":26,\"y0\":22.91,\"y1\":23.57},{\"line\":{\"color\":\"darkgrey\",\"width\":0.5},\"type\":\"line\",\"x0\":26,\"x1\":26,\"y0\":29.73,\"y1\":30.39},{\"line\":{\"color\":\"darkgrey\",\"width\":0.5},\"type\":\"line\",\"x0\":26,\"x1\":26,\"y0\":53,\"y1\":52.5},{\"line\":{\"color\":\"darkgrey\",\"width\":0.5},\"type\":\"line\",\"x0\":27,\"x1\":27,\"y0\":0.2,\"y1\":0.7},{\"line\":{\"color\":\"darkgrey\",\"width\":0.5},\"type\":\"line\",\"x0\":27,\"x1\":27,\"y0\":22.91,\"y1\":23.57},{\"line\":{\"color\":\"darkgrey\",\"width\":0.5},\"type\":\"line\",\"x0\":27,\"x1\":27,\"y0\":29.73,\"y1\":30.39},{\"line\":{\"color\":\"darkgrey\",\"width\":0.5},\"type\":\"line\",\"x0\":27,\"x1\":27,\"y0\":53,\"y1\":52.5},{\"line\":{\"color\":\"darkgrey\",\"width\":0.5},\"type\":\"line\",\"x0\":28,\"x1\":28,\"y0\":0.2,\"y1\":0.7},{\"line\":{\"color\":\"darkgrey\",\"width\":0.5},\"type\":\"line\",\"x0\":28,\"x1\":28,\"y0\":22.91,\"y1\":23.57},{\"line\":{\"color\":\"darkgrey\",\"width\":0.5},\"type\":\"line\",\"x0\":28,\"x1\":28,\"y0\":29.73,\"y1\":30.39},{\"line\":{\"color\":\"darkgrey\",\"width\":0.5},\"type\":\"line\",\"x0\":28,\"x1\":28,\"y0\":53,\"y1\":52.5},{\"line\":{\"color\":\"darkgrey\",\"width\":0.5},\"type\":\"line\",\"x0\":29,\"x1\":29,\"y0\":0.2,\"y1\":0.7},{\"line\":{\"color\":\"darkgrey\",\"width\":0.5},\"type\":\"line\",\"x0\":29,\"x1\":29,\"y0\":22.91,\"y1\":23.57},{\"line\":{\"color\":\"darkgrey\",\"width\":0.5},\"type\":\"line\",\"x0\":29,\"x1\":29,\"y0\":29.73,\"y1\":30.39},{\"line\":{\"color\":\"darkgrey\",\"width\":0.5},\"type\":\"line\",\"x0\":29,\"x1\":29,\"y0\":53,\"y1\":52.5},{\"line\":{\"color\":\"darkgrey\",\"width\":0.5},\"type\":\"line\",\"x0\":30,\"x1\":30,\"y0\":0.2,\"y1\":0.7},{\"line\":{\"color\":\"darkgrey\",\"width\":0.5},\"type\":\"line\",\"x0\":30,\"x1\":30,\"y0\":22.91,\"y1\":23.57},{\"line\":{\"color\":\"darkgrey\",\"width\":0.5},\"type\":\"line\",\"x0\":30,\"x1\":30,\"y0\":29.73,\"y1\":30.39},{\"line\":{\"color\":\"darkgrey\",\"width\":0.5},\"type\":\"line\",\"x0\":30,\"x1\":30,\"y0\":53,\"y1\":52.5},{\"line\":{\"color\":\"darkgrey\",\"width\":0.5},\"type\":\"line\",\"x0\":31,\"x1\":31,\"y0\":0.2,\"y1\":0.7},{\"line\":{\"color\":\"darkgrey\",\"width\":0.5},\"type\":\"line\",\"x0\":31,\"x1\":31,\"y0\":22.91,\"y1\":23.57},{\"line\":{\"color\":\"darkgrey\",\"width\":0.5},\"type\":\"line\",\"x0\":31,\"x1\":31,\"y0\":29.73,\"y1\":30.39},{\"line\":{\"color\":\"darkgrey\",\"width\":0.5},\"type\":\"line\",\"x0\":31,\"x1\":31,\"y0\":53,\"y1\":52.5},{\"line\":{\"color\":\"darkgrey\",\"width\":0.5},\"type\":\"line\",\"x0\":32,\"x1\":32,\"y0\":0.2,\"y1\":0.7},{\"line\":{\"color\":\"darkgrey\",\"width\":0.5},\"type\":\"line\",\"x0\":32,\"x1\":32,\"y0\":22.91,\"y1\":23.57},{\"line\":{\"color\":\"darkgrey\",\"width\":0.5},\"type\":\"line\",\"x0\":32,\"x1\":32,\"y0\":29.73,\"y1\":30.39},{\"line\":{\"color\":\"darkgrey\",\"width\":0.5},\"type\":\"line\",\"x0\":32,\"x1\":32,\"y0\":53,\"y1\":52.5},{\"line\":{\"color\":\"darkgrey\",\"width\":0.5},\"type\":\"line\",\"x0\":33,\"x1\":33,\"y0\":0.2,\"y1\":0.7},{\"line\":{\"color\":\"darkgrey\",\"width\":0.5},\"type\":\"line\",\"x0\":33,\"x1\":33,\"y0\":22.91,\"y1\":23.57},{\"line\":{\"color\":\"darkgrey\",\"width\":0.5},\"type\":\"line\",\"x0\":33,\"x1\":33,\"y0\":29.73,\"y1\":30.39},{\"line\":{\"color\":\"darkgrey\",\"width\":0.5},\"type\":\"line\",\"x0\":33,\"x1\":33,\"y0\":53,\"y1\":52.5},{\"line\":{\"color\":\"darkgrey\",\"width\":0.5},\"type\":\"line\",\"x0\":34,\"x1\":34,\"y0\":0.2,\"y1\":0.7},{\"line\":{\"color\":\"darkgrey\",\"width\":0.5},\"type\":\"line\",\"x0\":34,\"x1\":34,\"y0\":22.91,\"y1\":23.57},{\"line\":{\"color\":\"darkgrey\",\"width\":0.5},\"type\":\"line\",\"x0\":34,\"x1\":34,\"y0\":29.73,\"y1\":30.39},{\"line\":{\"color\":\"darkgrey\",\"width\":0.5},\"type\":\"line\",\"x0\":34,\"x1\":34,\"y0\":53,\"y1\":52.5},{\"line\":{\"color\":\"darkgrey\",\"width\":0.5},\"type\":\"line\",\"x0\":35,\"x1\":35,\"y0\":0.2,\"y1\":0.7},{\"line\":{\"color\":\"darkgrey\",\"width\":0.5},\"type\":\"line\",\"x0\":35,\"x1\":35,\"y0\":22.91,\"y1\":23.57},{\"line\":{\"color\":\"darkgrey\",\"width\":0.5},\"type\":\"line\",\"x0\":35,\"x1\":35,\"y0\":29.73,\"y1\":30.39},{\"line\":{\"color\":\"darkgrey\",\"width\":0.5},\"type\":\"line\",\"x0\":35,\"x1\":35,\"y0\":53,\"y1\":52.5},{\"line\":{\"color\":\"darkgrey\",\"width\":0.5},\"type\":\"line\",\"x0\":36,\"x1\":36,\"y0\":0.2,\"y1\":0.7},{\"line\":{\"color\":\"darkgrey\",\"width\":0.5},\"type\":\"line\",\"x0\":36,\"x1\":36,\"y0\":22.91,\"y1\":23.57},{\"line\":{\"color\":\"darkgrey\",\"width\":0.5},\"type\":\"line\",\"x0\":36,\"x1\":36,\"y0\":29.73,\"y1\":30.39},{\"line\":{\"color\":\"darkgrey\",\"width\":0.5},\"type\":\"line\",\"x0\":36,\"x1\":36,\"y0\":53,\"y1\":52.5},{\"line\":{\"color\":\"darkgrey\",\"width\":0.5},\"type\":\"line\",\"x0\":37,\"x1\":37,\"y0\":0.2,\"y1\":0.7},{\"line\":{\"color\":\"darkgrey\",\"width\":0.5},\"type\":\"line\",\"x0\":37,\"x1\":37,\"y0\":22.91,\"y1\":23.57},{\"line\":{\"color\":\"darkgrey\",\"width\":0.5},\"type\":\"line\",\"x0\":37,\"x1\":37,\"y0\":29.73,\"y1\":30.39},{\"line\":{\"color\":\"darkgrey\",\"width\":0.5},\"type\":\"line\",\"x0\":37,\"x1\":37,\"y0\":53,\"y1\":52.5},{\"line\":{\"color\":\"darkgrey\",\"width\":0.5},\"type\":\"line\",\"x0\":38,\"x1\":38,\"y0\":0.2,\"y1\":0.7},{\"line\":{\"color\":\"darkgrey\",\"width\":0.5},\"type\":\"line\",\"x0\":38,\"x1\":38,\"y0\":22.91,\"y1\":23.57},{\"line\":{\"color\":\"darkgrey\",\"width\":0.5},\"type\":\"line\",\"x0\":38,\"x1\":38,\"y0\":29.73,\"y1\":30.39},{\"line\":{\"color\":\"darkgrey\",\"width\":0.5},\"type\":\"line\",\"x0\":38,\"x1\":38,\"y0\":53,\"y1\":52.5},{\"line\":{\"color\":\"darkgrey\",\"width\":0.5},\"type\":\"line\",\"x0\":39,\"x1\":39,\"y0\":0.2,\"y1\":0.7},{\"line\":{\"color\":\"darkgrey\",\"width\":0.5},\"type\":\"line\",\"x0\":39,\"x1\":39,\"y0\":22.91,\"y1\":23.57},{\"line\":{\"color\":\"darkgrey\",\"width\":0.5},\"type\":\"line\",\"x0\":39,\"x1\":39,\"y0\":29.73,\"y1\":30.39},{\"line\":{\"color\":\"darkgrey\",\"width\":0.5},\"type\":\"line\",\"x0\":39,\"x1\":39,\"y0\":53,\"y1\":52.5},{\"line\":{\"color\":\"darkgrey\",\"width\":0.5},\"type\":\"line\",\"x0\":40,\"x1\":40,\"y0\":0.2,\"y1\":0.7},{\"line\":{\"color\":\"darkgrey\",\"width\":0.5},\"type\":\"line\",\"x0\":40,\"x1\":40,\"y0\":22.91,\"y1\":23.57},{\"line\":{\"color\":\"darkgrey\",\"width\":0.5},\"type\":\"line\",\"x0\":40,\"x1\":40,\"y0\":29.73,\"y1\":30.39},{\"line\":{\"color\":\"darkgrey\",\"width\":0.5},\"type\":\"line\",\"x0\":40,\"x1\":40,\"y0\":53,\"y1\":52.5},{\"line\":{\"color\":\"darkgrey\",\"width\":0.5},\"type\":\"line\",\"x0\":41,\"x1\":41,\"y0\":0.2,\"y1\":0.7},{\"line\":{\"color\":\"darkgrey\",\"width\":0.5},\"type\":\"line\",\"x0\":41,\"x1\":41,\"y0\":22.91,\"y1\":23.57},{\"line\":{\"color\":\"darkgrey\",\"width\":0.5},\"type\":\"line\",\"x0\":41,\"x1\":41,\"y0\":29.73,\"y1\":30.39},{\"line\":{\"color\":\"darkgrey\",\"width\":0.5},\"type\":\"line\",\"x0\":41,\"x1\":41,\"y0\":53,\"y1\":52.5},{\"line\":{\"color\":\"darkgrey\",\"width\":0.5},\"type\":\"line\",\"x0\":42,\"x1\":42,\"y0\":0.2,\"y1\":0.7},{\"line\":{\"color\":\"darkgrey\",\"width\":0.5},\"type\":\"line\",\"x0\":42,\"x1\":42,\"y0\":22.91,\"y1\":23.57},{\"line\":{\"color\":\"darkgrey\",\"width\":0.5},\"type\":\"line\",\"x0\":42,\"x1\":42,\"y0\":29.73,\"y1\":30.39},{\"line\":{\"color\":\"darkgrey\",\"width\":0.5},\"type\":\"line\",\"x0\":42,\"x1\":42,\"y0\":53,\"y1\":52.5},{\"line\":{\"color\":\"darkgrey\",\"width\":0.5},\"type\":\"line\",\"x0\":43,\"x1\":43,\"y0\":0.2,\"y1\":0.7},{\"line\":{\"color\":\"darkgrey\",\"width\":0.5},\"type\":\"line\",\"x0\":43,\"x1\":43,\"y0\":22.91,\"y1\":23.57},{\"line\":{\"color\":\"darkgrey\",\"width\":0.5},\"type\":\"line\",\"x0\":43,\"x1\":43,\"y0\":29.73,\"y1\":30.39},{\"line\":{\"color\":\"darkgrey\",\"width\":0.5},\"type\":\"line\",\"x0\":43,\"x1\":43,\"y0\":53,\"y1\":52.5},{\"line\":{\"color\":\"darkgrey\",\"width\":0.5},\"type\":\"line\",\"x0\":44,\"x1\":44,\"y0\":0.2,\"y1\":0.7},{\"line\":{\"color\":\"darkgrey\",\"width\":0.5},\"type\":\"line\",\"x0\":44,\"x1\":44,\"y0\":22.91,\"y1\":23.57},{\"line\":{\"color\":\"darkgrey\",\"width\":0.5},\"type\":\"line\",\"x0\":44,\"x1\":44,\"y0\":29.73,\"y1\":30.39},{\"line\":{\"color\":\"darkgrey\",\"width\":0.5},\"type\":\"line\",\"x0\":44,\"x1\":44,\"y0\":53,\"y1\":52.5},{\"line\":{\"color\":\"darkgrey\",\"width\":0.5},\"type\":\"line\",\"x0\":45,\"x1\":45,\"y0\":0.2,\"y1\":0.7},{\"line\":{\"color\":\"darkgrey\",\"width\":0.5},\"type\":\"line\",\"x0\":45,\"x1\":45,\"y0\":22.91,\"y1\":23.57},{\"line\":{\"color\":\"darkgrey\",\"width\":0.5},\"type\":\"line\",\"x0\":45,\"x1\":45,\"y0\":29.73,\"y1\":30.39},{\"line\":{\"color\":\"darkgrey\",\"width\":0.5},\"type\":\"line\",\"x0\":45,\"x1\":45,\"y0\":53,\"y1\":52.5},{\"line\":{\"color\":\"darkgrey\",\"width\":0.5},\"type\":\"line\",\"x0\":46,\"x1\":46,\"y0\":0.2,\"y1\":0.7},{\"line\":{\"color\":\"darkgrey\",\"width\":0.5},\"type\":\"line\",\"x0\":46,\"x1\":46,\"y0\":22.91,\"y1\":23.57},{\"line\":{\"color\":\"darkgrey\",\"width\":0.5},\"type\":\"line\",\"x0\":46,\"x1\":46,\"y0\":29.73,\"y1\":30.39},{\"line\":{\"color\":\"darkgrey\",\"width\":0.5},\"type\":\"line\",\"x0\":46,\"x1\":46,\"y0\":53,\"y1\":52.5},{\"line\":{\"color\":\"darkgrey\",\"width\":0.5},\"type\":\"line\",\"x0\":47,\"x1\":47,\"y0\":0.2,\"y1\":0.7},{\"line\":{\"color\":\"darkgrey\",\"width\":0.5},\"type\":\"line\",\"x0\":47,\"x1\":47,\"y0\":22.91,\"y1\":23.57},{\"line\":{\"color\":\"darkgrey\",\"width\":0.5},\"type\":\"line\",\"x0\":47,\"x1\":47,\"y0\":29.73,\"y1\":30.39},{\"line\":{\"color\":\"darkgrey\",\"width\":0.5},\"type\":\"line\",\"x0\":47,\"x1\":47,\"y0\":53,\"y1\":52.5},{\"line\":{\"color\":\"darkgrey\",\"width\":0.5},\"type\":\"line\",\"x0\":48,\"x1\":48,\"y0\":0.2,\"y1\":0.7},{\"line\":{\"color\":\"darkgrey\",\"width\":0.5},\"type\":\"line\",\"x0\":48,\"x1\":48,\"y0\":22.91,\"y1\":23.57},{\"line\":{\"color\":\"darkgrey\",\"width\":0.5},\"type\":\"line\",\"x0\":48,\"x1\":48,\"y0\":29.73,\"y1\":30.39},{\"line\":{\"color\":\"darkgrey\",\"width\":0.5},\"type\":\"line\",\"x0\":48,\"x1\":48,\"y0\":53,\"y1\":52.5},{\"line\":{\"color\":\"darkgrey\",\"width\":0.5},\"type\":\"line\",\"x0\":49,\"x1\":49,\"y0\":0.2,\"y1\":0.7},{\"line\":{\"color\":\"darkgrey\",\"width\":0.5},\"type\":\"line\",\"x0\":49,\"x1\":49,\"y0\":22.91,\"y1\":23.57},{\"line\":{\"color\":\"darkgrey\",\"width\":0.5},\"type\":\"line\",\"x0\":49,\"x1\":49,\"y0\":29.73,\"y1\":30.39},{\"line\":{\"color\":\"darkgrey\",\"width\":0.5},\"type\":\"line\",\"x0\":49,\"x1\":49,\"y0\":53,\"y1\":52.5},{\"line\":{\"color\":\"darkgrey\",\"width\":0.5},\"type\":\"line\",\"x0\":50,\"x1\":50,\"y0\":0.2,\"y1\":0.7},{\"line\":{\"color\":\"darkgrey\",\"width\":0.5},\"type\":\"line\",\"x0\":50,\"x1\":50,\"y0\":22.91,\"y1\":23.57},{\"line\":{\"color\":\"darkgrey\",\"width\":0.5},\"type\":\"line\",\"x0\":50,\"x1\":50,\"y0\":29.73,\"y1\":30.39},{\"line\":{\"color\":\"darkgrey\",\"width\":0.5},\"type\":\"line\",\"x0\":50,\"x1\":50,\"y0\":53,\"y1\":52.5},{\"line\":{\"color\":\"darkgrey\",\"width\":0.5},\"type\":\"line\",\"x0\":51,\"x1\":51,\"y0\":0.2,\"y1\":0.7},{\"line\":{\"color\":\"darkgrey\",\"width\":0.5},\"type\":\"line\",\"x0\":51,\"x1\":51,\"y0\":22.91,\"y1\":23.57},{\"line\":{\"color\":\"darkgrey\",\"width\":0.5},\"type\":\"line\",\"x0\":51,\"x1\":51,\"y0\":29.73,\"y1\":30.39},{\"line\":{\"color\":\"darkgrey\",\"width\":0.5},\"type\":\"line\",\"x0\":51,\"x1\":51,\"y0\":53,\"y1\":52.5},{\"line\":{\"color\":\"darkgrey\",\"width\":0.5},\"type\":\"line\",\"x0\":52,\"x1\":52,\"y0\":0.2,\"y1\":0.7},{\"line\":{\"color\":\"darkgrey\",\"width\":0.5},\"type\":\"line\",\"x0\":52,\"x1\":52,\"y0\":22.91,\"y1\":23.57},{\"line\":{\"color\":\"darkgrey\",\"width\":0.5},\"type\":\"line\",\"x0\":52,\"x1\":52,\"y0\":29.73,\"y1\":30.39},{\"line\":{\"color\":\"darkgrey\",\"width\":0.5},\"type\":\"line\",\"x0\":52,\"x1\":52,\"y0\":53,\"y1\":52.5},{\"line\":{\"color\":\"darkgrey\",\"width\":0.5},\"type\":\"line\",\"x0\":53,\"x1\":53,\"y0\":0.2,\"y1\":0.7},{\"line\":{\"color\":\"darkgrey\",\"width\":0.5},\"type\":\"line\",\"x0\":53,\"x1\":53,\"y0\":22.91,\"y1\":23.57},{\"line\":{\"color\":\"darkgrey\",\"width\":0.5},\"type\":\"line\",\"x0\":53,\"x1\":53,\"y0\":29.73,\"y1\":30.39},{\"line\":{\"color\":\"darkgrey\",\"width\":0.5},\"type\":\"line\",\"x0\":53,\"x1\":53,\"y0\":53,\"y1\":52.5},{\"line\":{\"color\":\"darkgrey\",\"width\":0.5},\"type\":\"line\",\"x0\":54,\"x1\":54,\"y0\":0.2,\"y1\":0.7},{\"line\":{\"color\":\"darkgrey\",\"width\":0.5},\"type\":\"line\",\"x0\":54,\"x1\":54,\"y0\":22.91,\"y1\":23.57},{\"line\":{\"color\":\"darkgrey\",\"width\":0.5},\"type\":\"line\",\"x0\":54,\"x1\":54,\"y0\":29.73,\"y1\":30.39},{\"line\":{\"color\":\"darkgrey\",\"width\":0.5},\"type\":\"line\",\"x0\":54,\"x1\":54,\"y0\":53,\"y1\":52.5},{\"line\":{\"color\":\"darkgrey\",\"width\":0.5},\"type\":\"line\",\"x0\":55,\"x1\":55,\"y0\":0.2,\"y1\":0.7},{\"line\":{\"color\":\"darkgrey\",\"width\":0.5},\"type\":\"line\",\"x0\":55,\"x1\":55,\"y0\":22.91,\"y1\":23.57},{\"line\":{\"color\":\"darkgrey\",\"width\":0.5},\"type\":\"line\",\"x0\":55,\"x1\":55,\"y0\":29.73,\"y1\":30.39},{\"line\":{\"color\":\"darkgrey\",\"width\":0.5},\"type\":\"line\",\"x0\":55,\"x1\":55,\"y0\":53,\"y1\":52.5},{\"line\":{\"color\":\"darkgrey\",\"width\":0.5},\"type\":\"line\",\"x0\":56,\"x1\":56,\"y0\":0.2,\"y1\":0.7},{\"line\":{\"color\":\"darkgrey\",\"width\":0.5},\"type\":\"line\",\"x0\":56,\"x1\":56,\"y0\":22.91,\"y1\":23.57},{\"line\":{\"color\":\"darkgrey\",\"width\":0.5},\"type\":\"line\",\"x0\":56,\"x1\":56,\"y0\":29.73,\"y1\":30.39},{\"line\":{\"color\":\"darkgrey\",\"width\":0.5},\"type\":\"line\",\"x0\":56,\"x1\":56,\"y0\":53,\"y1\":52.5},{\"line\":{\"color\":\"darkgrey\",\"width\":0.5},\"type\":\"line\",\"x0\":57,\"x1\":57,\"y0\":0.2,\"y1\":0.7},{\"line\":{\"color\":\"darkgrey\",\"width\":0.5},\"type\":\"line\",\"x0\":57,\"x1\":57,\"y0\":22.91,\"y1\":23.57},{\"line\":{\"color\":\"darkgrey\",\"width\":0.5},\"type\":\"line\",\"x0\":57,\"x1\":57,\"y0\":29.73,\"y1\":30.39},{\"line\":{\"color\":\"darkgrey\",\"width\":0.5},\"type\":\"line\",\"x0\":57,\"x1\":57,\"y0\":53,\"y1\":52.5},{\"line\":{\"color\":\"darkgrey\",\"width\":0.5},\"type\":\"line\",\"x0\":58,\"x1\":58,\"y0\":0.2,\"y1\":0.7},{\"line\":{\"color\":\"darkgrey\",\"width\":0.5},\"type\":\"line\",\"x0\":58,\"x1\":58,\"y0\":22.91,\"y1\":23.57},{\"line\":{\"color\":\"darkgrey\",\"width\":0.5},\"type\":\"line\",\"x0\":58,\"x1\":58,\"y0\":29.73,\"y1\":30.39},{\"line\":{\"color\":\"darkgrey\",\"width\":0.5},\"type\":\"line\",\"x0\":58,\"x1\":58,\"y0\":53,\"y1\":52.5},{\"line\":{\"color\":\"darkgrey\",\"width\":0.5},\"type\":\"line\",\"x0\":59,\"x1\":59,\"y0\":0.2,\"y1\":0.7},{\"line\":{\"color\":\"darkgrey\",\"width\":0.5},\"type\":\"line\",\"x0\":59,\"x1\":59,\"y0\":22.91,\"y1\":23.57},{\"line\":{\"color\":\"darkgrey\",\"width\":0.5},\"type\":\"line\",\"x0\":59,\"x1\":59,\"y0\":29.73,\"y1\":30.39},{\"line\":{\"color\":\"darkgrey\",\"width\":0.5},\"type\":\"line\",\"x0\":59,\"x1\":59,\"y0\":53,\"y1\":52.5},{\"line\":{\"color\":\"darkgrey\",\"width\":0.5},\"type\":\"line\",\"x0\":60,\"x1\":60,\"y0\":0.2,\"y1\":0.7},{\"line\":{\"color\":\"darkgrey\",\"width\":0.5},\"type\":\"line\",\"x0\":60,\"x1\":60,\"y0\":22.91,\"y1\":23.57},{\"line\":{\"color\":\"darkgrey\",\"width\":0.5},\"type\":\"line\",\"x0\":60,\"x1\":60,\"y0\":29.73,\"y1\":30.39},{\"line\":{\"color\":\"darkgrey\",\"width\":0.5},\"type\":\"line\",\"x0\":60,\"x1\":60,\"y0\":53,\"y1\":52.5},{\"line\":{\"color\":\"darkgrey\",\"width\":0.5},\"type\":\"line\",\"x0\":61,\"x1\":61,\"y0\":0.2,\"y1\":0.7},{\"line\":{\"color\":\"darkgrey\",\"width\":0.5},\"type\":\"line\",\"x0\":61,\"x1\":61,\"y0\":22.91,\"y1\":23.57},{\"line\":{\"color\":\"darkgrey\",\"width\":0.5},\"type\":\"line\",\"x0\":61,\"x1\":61,\"y0\":29.73,\"y1\":30.39},{\"line\":{\"color\":\"darkgrey\",\"width\":0.5},\"type\":\"line\",\"x0\":61,\"x1\":61,\"y0\":53,\"y1\":52.5},{\"line\":{\"color\":\"darkgrey\",\"width\":0.5},\"type\":\"line\",\"x0\":62,\"x1\":62,\"y0\":0.2,\"y1\":0.7},{\"line\":{\"color\":\"darkgrey\",\"width\":0.5},\"type\":\"line\",\"x0\":62,\"x1\":62,\"y0\":22.91,\"y1\":23.57},{\"line\":{\"color\":\"darkgrey\",\"width\":0.5},\"type\":\"line\",\"x0\":62,\"x1\":62,\"y0\":29.73,\"y1\":30.39},{\"line\":{\"color\":\"darkgrey\",\"width\":0.5},\"type\":\"line\",\"x0\":62,\"x1\":62,\"y0\":53,\"y1\":52.5},{\"line\":{\"color\":\"darkgrey\",\"width\":0.5},\"type\":\"line\",\"x0\":63,\"x1\":63,\"y0\":0.2,\"y1\":0.7},{\"line\":{\"color\":\"darkgrey\",\"width\":0.5},\"type\":\"line\",\"x0\":63,\"x1\":63,\"y0\":22.91,\"y1\":23.57},{\"line\":{\"color\":\"darkgrey\",\"width\":0.5},\"type\":\"line\",\"x0\":63,\"x1\":63,\"y0\":29.73,\"y1\":30.39},{\"line\":{\"color\":\"darkgrey\",\"width\":0.5},\"type\":\"line\",\"x0\":63,\"x1\":63,\"y0\":53,\"y1\":52.5},{\"line\":{\"color\":\"darkgrey\",\"width\":0.5},\"type\":\"line\",\"x0\":64,\"x1\":64,\"y0\":0.2,\"y1\":0.7},{\"line\":{\"color\":\"darkgrey\",\"width\":0.5},\"type\":\"line\",\"x0\":64,\"x1\":64,\"y0\":22.91,\"y1\":23.57},{\"line\":{\"color\":\"darkgrey\",\"width\":0.5},\"type\":\"line\",\"x0\":64,\"x1\":64,\"y0\":29.73,\"y1\":30.39},{\"line\":{\"color\":\"darkgrey\",\"width\":0.5},\"type\":\"line\",\"x0\":64,\"x1\":64,\"y0\":53,\"y1\":52.5},{\"line\":{\"color\":\"darkgrey\",\"width\":0.5},\"type\":\"line\",\"x0\":65,\"x1\":65,\"y0\":0.2,\"y1\":0.7},{\"line\":{\"color\":\"darkgrey\",\"width\":0.5},\"type\":\"line\",\"x0\":65,\"x1\":65,\"y0\":22.91,\"y1\":23.57},{\"line\":{\"color\":\"darkgrey\",\"width\":0.5},\"type\":\"line\",\"x0\":65,\"x1\":65,\"y0\":29.73,\"y1\":30.39},{\"line\":{\"color\":\"darkgrey\",\"width\":0.5},\"type\":\"line\",\"x0\":65,\"x1\":65,\"y0\":53,\"y1\":52.5},{\"line\":{\"color\":\"darkgrey\",\"width\":0.5},\"type\":\"line\",\"x0\":66,\"x1\":66,\"y0\":0.2,\"y1\":0.7},{\"line\":{\"color\":\"darkgrey\",\"width\":0.5},\"type\":\"line\",\"x0\":66,\"x1\":66,\"y0\":22.91,\"y1\":23.57},{\"line\":{\"color\":\"darkgrey\",\"width\":0.5},\"type\":\"line\",\"x0\":66,\"x1\":66,\"y0\":29.73,\"y1\":30.39},{\"line\":{\"color\":\"darkgrey\",\"width\":0.5},\"type\":\"line\",\"x0\":66,\"x1\":66,\"y0\":53,\"y1\":52.5},{\"line\":{\"color\":\"darkgrey\",\"width\":0.5},\"type\":\"line\",\"x0\":67,\"x1\":67,\"y0\":0.2,\"y1\":0.7},{\"line\":{\"color\":\"darkgrey\",\"width\":0.5},\"type\":\"line\",\"x0\":67,\"x1\":67,\"y0\":22.91,\"y1\":23.57},{\"line\":{\"color\":\"darkgrey\",\"width\":0.5},\"type\":\"line\",\"x0\":67,\"x1\":67,\"y0\":29.73,\"y1\":30.39},{\"line\":{\"color\":\"darkgrey\",\"width\":0.5},\"type\":\"line\",\"x0\":67,\"x1\":67,\"y0\":53,\"y1\":52.5},{\"line\":{\"color\":\"darkgrey\",\"width\":0.5},\"type\":\"line\",\"x0\":68,\"x1\":68,\"y0\":0.2,\"y1\":0.7},{\"line\":{\"color\":\"darkgrey\",\"width\":0.5},\"type\":\"line\",\"x0\":68,\"x1\":68,\"y0\":22.91,\"y1\":23.57},{\"line\":{\"color\":\"darkgrey\",\"width\":0.5},\"type\":\"line\",\"x0\":68,\"x1\":68,\"y0\":29.73,\"y1\":30.39},{\"line\":{\"color\":\"darkgrey\",\"width\":0.5},\"type\":\"line\",\"x0\":68,\"x1\":68,\"y0\":53,\"y1\":52.5},{\"line\":{\"color\":\"darkgrey\",\"width\":0.5},\"type\":\"line\",\"x0\":69,\"x1\":69,\"y0\":0.2,\"y1\":0.7},{\"line\":{\"color\":\"darkgrey\",\"width\":0.5},\"type\":\"line\",\"x0\":69,\"x1\":69,\"y0\":22.91,\"y1\":23.57},{\"line\":{\"color\":\"darkgrey\",\"width\":0.5},\"type\":\"line\",\"x0\":69,\"x1\":69,\"y0\":29.73,\"y1\":30.39},{\"line\":{\"color\":\"darkgrey\",\"width\":0.5},\"type\":\"line\",\"x0\":69,\"x1\":69,\"y0\":53,\"y1\":52.5},{\"line\":{\"color\":\"darkgrey\",\"width\":0.5},\"type\":\"line\",\"x0\":70,\"x1\":70,\"y0\":0.2,\"y1\":0.7},{\"line\":{\"color\":\"darkgrey\",\"width\":0.5},\"type\":\"line\",\"x0\":70,\"x1\":70,\"y0\":22.91,\"y1\":23.57},{\"line\":{\"color\":\"darkgrey\",\"width\":0.5},\"type\":\"line\",\"x0\":70,\"x1\":70,\"y0\":29.73,\"y1\":30.39},{\"line\":{\"color\":\"darkgrey\",\"width\":0.5},\"type\":\"line\",\"x0\":70,\"x1\":70,\"y0\":53,\"y1\":52.5},{\"line\":{\"color\":\"darkgrey\",\"width\":0.5},\"type\":\"line\",\"x0\":71,\"x1\":71,\"y0\":0.2,\"y1\":0.7},{\"line\":{\"color\":\"darkgrey\",\"width\":0.5},\"type\":\"line\",\"x0\":71,\"x1\":71,\"y0\":22.91,\"y1\":23.57},{\"line\":{\"color\":\"darkgrey\",\"width\":0.5},\"type\":\"line\",\"x0\":71,\"x1\":71,\"y0\":29.73,\"y1\":30.39},{\"line\":{\"color\":\"darkgrey\",\"width\":0.5},\"type\":\"line\",\"x0\":71,\"x1\":71,\"y0\":53,\"y1\":52.5},{\"line\":{\"color\":\"darkgrey\",\"width\":0.5},\"type\":\"line\",\"x0\":72,\"x1\":72,\"y0\":0.2,\"y1\":0.7},{\"line\":{\"color\":\"darkgrey\",\"width\":0.5},\"type\":\"line\",\"x0\":72,\"x1\":72,\"y0\":22.91,\"y1\":23.57},{\"line\":{\"color\":\"darkgrey\",\"width\":0.5},\"type\":\"line\",\"x0\":72,\"x1\":72,\"y0\":29.73,\"y1\":30.39},{\"line\":{\"color\":\"darkgrey\",\"width\":0.5},\"type\":\"line\",\"x0\":72,\"x1\":72,\"y0\":53,\"y1\":52.5},{\"line\":{\"color\":\"darkgrey\",\"width\":0.5},\"type\":\"line\",\"x0\":73,\"x1\":73,\"y0\":0.2,\"y1\":0.7},{\"line\":{\"color\":\"darkgrey\",\"width\":0.5},\"type\":\"line\",\"x0\":73,\"x1\":73,\"y0\":22.91,\"y1\":23.57},{\"line\":{\"color\":\"darkgrey\",\"width\":0.5},\"type\":\"line\",\"x0\":73,\"x1\":73,\"y0\":29.73,\"y1\":30.39},{\"line\":{\"color\":\"darkgrey\",\"width\":0.5},\"type\":\"line\",\"x0\":73,\"x1\":73,\"y0\":53,\"y1\":52.5},{\"line\":{\"color\":\"darkgrey\",\"width\":0.5},\"type\":\"line\",\"x0\":74,\"x1\":74,\"y0\":0.2,\"y1\":0.7},{\"line\":{\"color\":\"darkgrey\",\"width\":0.5},\"type\":\"line\",\"x0\":74,\"x1\":74,\"y0\":22.91,\"y1\":23.57},{\"line\":{\"color\":\"darkgrey\",\"width\":0.5},\"type\":\"line\",\"x0\":74,\"x1\":74,\"y0\":29.73,\"y1\":30.39},{\"line\":{\"color\":\"darkgrey\",\"width\":0.5},\"type\":\"line\",\"x0\":74,\"x1\":74,\"y0\":53,\"y1\":52.5},{\"line\":{\"color\":\"darkgrey\",\"width\":0.5},\"type\":\"line\",\"x0\":75,\"x1\":75,\"y0\":0.2,\"y1\":0.7},{\"line\":{\"color\":\"darkgrey\",\"width\":0.5},\"type\":\"line\",\"x0\":75,\"x1\":75,\"y0\":22.91,\"y1\":23.57},{\"line\":{\"color\":\"darkgrey\",\"width\":0.5},\"type\":\"line\",\"x0\":75,\"x1\":75,\"y0\":29.73,\"y1\":30.39},{\"line\":{\"color\":\"darkgrey\",\"width\":0.5},\"type\":\"line\",\"x0\":75,\"x1\":75,\"y0\":53,\"y1\":52.5},{\"line\":{\"color\":\"darkgrey\",\"width\":0.5},\"type\":\"line\",\"x0\":76,\"x1\":76,\"y0\":0.2,\"y1\":0.7},{\"line\":{\"color\":\"darkgrey\",\"width\":0.5},\"type\":\"line\",\"x0\":76,\"x1\":76,\"y0\":22.91,\"y1\":23.57},{\"line\":{\"color\":\"darkgrey\",\"width\":0.5},\"type\":\"line\",\"x0\":76,\"x1\":76,\"y0\":29.73,\"y1\":30.39},{\"line\":{\"color\":\"darkgrey\",\"width\":0.5},\"type\":\"line\",\"x0\":76,\"x1\":76,\"y0\":53,\"y1\":52.5},{\"line\":{\"color\":\"darkgrey\",\"width\":0.5},\"type\":\"line\",\"x0\":77,\"x1\":77,\"y0\":0.2,\"y1\":0.7},{\"line\":{\"color\":\"darkgrey\",\"width\":0.5},\"type\":\"line\",\"x0\":77,\"x1\":77,\"y0\":22.91,\"y1\":23.57},{\"line\":{\"color\":\"darkgrey\",\"width\":0.5},\"type\":\"line\",\"x0\":77,\"x1\":77,\"y0\":29.73,\"y1\":30.39},{\"line\":{\"color\":\"darkgrey\",\"width\":0.5},\"type\":\"line\",\"x0\":77,\"x1\":77,\"y0\":53,\"y1\":52.5},{\"line\":{\"color\":\"darkgrey\",\"width\":0.5},\"type\":\"line\",\"x0\":78,\"x1\":78,\"y0\":0.2,\"y1\":0.7},{\"line\":{\"color\":\"darkgrey\",\"width\":0.5},\"type\":\"line\",\"x0\":78,\"x1\":78,\"y0\":22.91,\"y1\":23.57},{\"line\":{\"color\":\"darkgrey\",\"width\":0.5},\"type\":\"line\",\"x0\":78,\"x1\":78,\"y0\":29.73,\"y1\":30.39},{\"line\":{\"color\":\"darkgrey\",\"width\":0.5},\"type\":\"line\",\"x0\":78,\"x1\":78,\"y0\":53,\"y1\":52.5},{\"line\":{\"color\":\"darkgrey\",\"width\":0.5},\"type\":\"line\",\"x0\":79,\"x1\":79,\"y0\":0.2,\"y1\":0.7},{\"line\":{\"color\":\"darkgrey\",\"width\":0.5},\"type\":\"line\",\"x0\":79,\"x1\":79,\"y0\":22.91,\"y1\":23.57},{\"line\":{\"color\":\"darkgrey\",\"width\":0.5},\"type\":\"line\",\"x0\":79,\"x1\":79,\"y0\":29.73,\"y1\":30.39},{\"line\":{\"color\":\"darkgrey\",\"width\":0.5},\"type\":\"line\",\"x0\":79,\"x1\":79,\"y0\":53,\"y1\":52.5},{\"line\":{\"color\":\"darkgrey\",\"width\":0.5},\"type\":\"line\",\"x0\":80,\"x1\":80,\"y0\":0.2,\"y1\":0.7},{\"line\":{\"color\":\"darkgrey\",\"width\":0.5},\"type\":\"line\",\"x0\":80,\"x1\":80,\"y0\":22.91,\"y1\":23.57},{\"line\":{\"color\":\"darkgrey\",\"width\":0.5},\"type\":\"line\",\"x0\":80,\"x1\":80,\"y0\":29.73,\"y1\":30.39},{\"line\":{\"color\":\"darkgrey\",\"width\":0.5},\"type\":\"line\",\"x0\":80,\"x1\":80,\"y0\":53,\"y1\":52.5},{\"line\":{\"color\":\"darkgrey\",\"width\":0.5},\"type\":\"line\",\"x0\":81,\"x1\":81,\"y0\":0.2,\"y1\":0.7},{\"line\":{\"color\":\"darkgrey\",\"width\":0.5},\"type\":\"line\",\"x0\":81,\"x1\":81,\"y0\":22.91,\"y1\":23.57},{\"line\":{\"color\":\"darkgrey\",\"width\":0.5},\"type\":\"line\",\"x0\":81,\"x1\":81,\"y0\":29.73,\"y1\":30.39},{\"line\":{\"color\":\"darkgrey\",\"width\":0.5},\"type\":\"line\",\"x0\":81,\"x1\":81,\"y0\":53,\"y1\":52.5},{\"line\":{\"color\":\"darkgrey\",\"width\":0.5},\"type\":\"line\",\"x0\":82,\"x1\":82,\"y0\":0.2,\"y1\":0.7},{\"line\":{\"color\":\"darkgrey\",\"width\":0.5},\"type\":\"line\",\"x0\":82,\"x1\":82,\"y0\":22.91,\"y1\":23.57},{\"line\":{\"color\":\"darkgrey\",\"width\":0.5},\"type\":\"line\",\"x0\":82,\"x1\":82,\"y0\":29.73,\"y1\":30.39},{\"line\":{\"color\":\"darkgrey\",\"width\":0.5},\"type\":\"line\",\"x0\":82,\"x1\":82,\"y0\":53,\"y1\":52.5},{\"line\":{\"color\":\"darkgrey\",\"width\":0.5},\"type\":\"line\",\"x0\":83,\"x1\":83,\"y0\":0.2,\"y1\":0.7},{\"line\":{\"color\":\"darkgrey\",\"width\":0.5},\"type\":\"line\",\"x0\":83,\"x1\":83,\"y0\":22.91,\"y1\":23.57},{\"line\":{\"color\":\"darkgrey\",\"width\":0.5},\"type\":\"line\",\"x0\":83,\"x1\":83,\"y0\":29.73,\"y1\":30.39},{\"line\":{\"color\":\"darkgrey\",\"width\":0.5},\"type\":\"line\",\"x0\":83,\"x1\":83,\"y0\":53,\"y1\":52.5},{\"line\":{\"color\":\"darkgrey\",\"width\":0.5},\"type\":\"line\",\"x0\":84,\"x1\":84,\"y0\":0.2,\"y1\":0.7},{\"line\":{\"color\":\"darkgrey\",\"width\":0.5},\"type\":\"line\",\"x0\":84,\"x1\":84,\"y0\":22.91,\"y1\":23.57},{\"line\":{\"color\":\"darkgrey\",\"width\":0.5},\"type\":\"line\",\"x0\":84,\"x1\":84,\"y0\":29.73,\"y1\":30.39},{\"line\":{\"color\":\"darkgrey\",\"width\":0.5},\"type\":\"line\",\"x0\":84,\"x1\":84,\"y0\":53,\"y1\":52.5},{\"line\":{\"color\":\"darkgrey\",\"width\":0.5},\"type\":\"line\",\"x0\":85,\"x1\":85,\"y0\":0.2,\"y1\":0.7},{\"line\":{\"color\":\"darkgrey\",\"width\":0.5},\"type\":\"line\",\"x0\":85,\"x1\":85,\"y0\":22.91,\"y1\":23.57},{\"line\":{\"color\":\"darkgrey\",\"width\":0.5},\"type\":\"line\",\"x0\":85,\"x1\":85,\"y0\":29.73,\"y1\":30.39},{\"line\":{\"color\":\"darkgrey\",\"width\":0.5},\"type\":\"line\",\"x0\":85,\"x1\":85,\"y0\":53,\"y1\":52.5},{\"line\":{\"color\":\"darkgrey\",\"width\":0.5},\"type\":\"line\",\"x0\":86,\"x1\":86,\"y0\":0.2,\"y1\":0.7},{\"line\":{\"color\":\"darkgrey\",\"width\":0.5},\"type\":\"line\",\"x0\":86,\"x1\":86,\"y0\":22.91,\"y1\":23.57},{\"line\":{\"color\":\"darkgrey\",\"width\":0.5},\"type\":\"line\",\"x0\":86,\"x1\":86,\"y0\":29.73,\"y1\":30.39},{\"line\":{\"color\":\"darkgrey\",\"width\":0.5},\"type\":\"line\",\"x0\":86,\"x1\":86,\"y0\":53,\"y1\":52.5},{\"line\":{\"color\":\"darkgrey\",\"width\":0.5},\"type\":\"line\",\"x0\":87,\"x1\":87,\"y0\":0.2,\"y1\":0.7},{\"line\":{\"color\":\"darkgrey\",\"width\":0.5},\"type\":\"line\",\"x0\":87,\"x1\":87,\"y0\":22.91,\"y1\":23.57},{\"line\":{\"color\":\"darkgrey\",\"width\":0.5},\"type\":\"line\",\"x0\":87,\"x1\":87,\"y0\":29.73,\"y1\":30.39},{\"line\":{\"color\":\"darkgrey\",\"width\":0.5},\"type\":\"line\",\"x0\":87,\"x1\":87,\"y0\":53,\"y1\":52.5},{\"line\":{\"color\":\"darkgrey\",\"width\":0.5},\"type\":\"line\",\"x0\":88,\"x1\":88,\"y0\":0.2,\"y1\":0.7},{\"line\":{\"color\":\"darkgrey\",\"width\":0.5},\"type\":\"line\",\"x0\":88,\"x1\":88,\"y0\":22.91,\"y1\":23.57},{\"line\":{\"color\":\"darkgrey\",\"width\":0.5},\"type\":\"line\",\"x0\":88,\"x1\":88,\"y0\":29.73,\"y1\":30.39},{\"line\":{\"color\":\"darkgrey\",\"width\":0.5},\"type\":\"line\",\"x0\":88,\"x1\":88,\"y0\":53,\"y1\":52.5},{\"line\":{\"color\":\"darkgrey\",\"width\":0.5},\"type\":\"line\",\"x0\":89,\"x1\":89,\"y0\":0.2,\"y1\":0.7},{\"line\":{\"color\":\"darkgrey\",\"width\":0.5},\"type\":\"line\",\"x0\":89,\"x1\":89,\"y0\":22.91,\"y1\":23.57},{\"line\":{\"color\":\"darkgrey\",\"width\":0.5},\"type\":\"line\",\"x0\":89,\"x1\":89,\"y0\":29.73,\"y1\":30.39},{\"line\":{\"color\":\"darkgrey\",\"width\":0.5},\"type\":\"line\",\"x0\":89,\"x1\":89,\"y0\":53,\"y1\":52.5},{\"line\":{\"color\":\"darkgrey\",\"width\":0.5},\"type\":\"line\",\"x0\":90,\"x1\":90,\"y0\":0.2,\"y1\":0.7},{\"line\":{\"color\":\"darkgrey\",\"width\":0.5},\"type\":\"line\",\"x0\":90,\"x1\":90,\"y0\":22.91,\"y1\":23.57},{\"line\":{\"color\":\"darkgrey\",\"width\":0.5},\"type\":\"line\",\"x0\":90,\"x1\":90,\"y0\":29.73,\"y1\":30.39},{\"line\":{\"color\":\"darkgrey\",\"width\":0.5},\"type\":\"line\",\"x0\":90,\"x1\":90,\"y0\":53,\"y1\":52.5},{\"line\":{\"color\":\"darkgrey\",\"width\":0.5},\"type\":\"line\",\"x0\":91,\"x1\":91,\"y0\":0.2,\"y1\":0.7},{\"line\":{\"color\":\"darkgrey\",\"width\":0.5},\"type\":\"line\",\"x0\":91,\"x1\":91,\"y0\":22.91,\"y1\":23.57},{\"line\":{\"color\":\"darkgrey\",\"width\":0.5},\"type\":\"line\",\"x0\":91,\"x1\":91,\"y0\":29.73,\"y1\":30.39},{\"line\":{\"color\":\"darkgrey\",\"width\":0.5},\"type\":\"line\",\"x0\":91,\"x1\":91,\"y0\":53,\"y1\":52.5},{\"line\":{\"color\":\"darkgrey\",\"width\":0.5},\"type\":\"line\",\"x0\":92,\"x1\":92,\"y0\":0.2,\"y1\":0.7},{\"line\":{\"color\":\"darkgrey\",\"width\":0.5},\"type\":\"line\",\"x0\":92,\"x1\":92,\"y0\":22.91,\"y1\":23.57},{\"line\":{\"color\":\"darkgrey\",\"width\":0.5},\"type\":\"line\",\"x0\":92,\"x1\":92,\"y0\":29.73,\"y1\":30.39},{\"line\":{\"color\":\"darkgrey\",\"width\":0.5},\"type\":\"line\",\"x0\":92,\"x1\":92,\"y0\":53,\"y1\":52.5},{\"line\":{\"color\":\"darkgrey\",\"width\":0.5},\"type\":\"line\",\"x0\":93,\"x1\":93,\"y0\":0.2,\"y1\":0.7},{\"line\":{\"color\":\"darkgrey\",\"width\":0.5},\"type\":\"line\",\"x0\":93,\"x1\":93,\"y0\":22.91,\"y1\":23.57},{\"line\":{\"color\":\"darkgrey\",\"width\":0.5},\"type\":\"line\",\"x0\":93,\"x1\":93,\"y0\":29.73,\"y1\":30.39},{\"line\":{\"color\":\"darkgrey\",\"width\":0.5},\"type\":\"line\",\"x0\":93,\"x1\":93,\"y0\":53,\"y1\":52.5},{\"line\":{\"color\":\"darkgrey\",\"width\":0.5},\"type\":\"line\",\"x0\":94,\"x1\":94,\"y0\":0.2,\"y1\":0.7},{\"line\":{\"color\":\"darkgrey\",\"width\":0.5},\"type\":\"line\",\"x0\":94,\"x1\":94,\"y0\":22.91,\"y1\":23.57},{\"line\":{\"color\":\"darkgrey\",\"width\":0.5},\"type\":\"line\",\"x0\":94,\"x1\":94,\"y0\":29.73,\"y1\":30.39},{\"line\":{\"color\":\"darkgrey\",\"width\":0.5},\"type\":\"line\",\"x0\":94,\"x1\":94,\"y0\":53,\"y1\":52.5},{\"line\":{\"color\":\"darkgrey\",\"width\":0.5},\"type\":\"line\",\"x0\":95,\"x1\":95,\"y0\":0.2,\"y1\":0.7},{\"line\":{\"color\":\"darkgrey\",\"width\":0.5},\"type\":\"line\",\"x0\":95,\"x1\":95,\"y0\":22.91,\"y1\":23.57},{\"line\":{\"color\":\"darkgrey\",\"width\":0.5},\"type\":\"line\",\"x0\":95,\"x1\":95,\"y0\":29.73,\"y1\":30.39},{\"line\":{\"color\":\"darkgrey\",\"width\":0.5},\"type\":\"line\",\"x0\":95,\"x1\":95,\"y0\":53,\"y1\":52.5},{\"line\":{\"color\":\"darkgrey\",\"width\":0.5},\"type\":\"line\",\"x0\":96,\"x1\":96,\"y0\":0.2,\"y1\":0.7},{\"line\":{\"color\":\"darkgrey\",\"width\":0.5},\"type\":\"line\",\"x0\":96,\"x1\":96,\"y0\":22.91,\"y1\":23.57},{\"line\":{\"color\":\"darkgrey\",\"width\":0.5},\"type\":\"line\",\"x0\":96,\"x1\":96,\"y0\":29.73,\"y1\":30.39},{\"line\":{\"color\":\"darkgrey\",\"width\":0.5},\"type\":\"line\",\"x0\":96,\"x1\":96,\"y0\":53,\"y1\":52.5},{\"line\":{\"color\":\"darkgrey\",\"width\":0.5},\"type\":\"line\",\"x0\":97,\"x1\":97,\"y0\":0.2,\"y1\":0.7},{\"line\":{\"color\":\"darkgrey\",\"width\":0.5},\"type\":\"line\",\"x0\":97,\"x1\":97,\"y0\":22.91,\"y1\":23.57},{\"line\":{\"color\":\"darkgrey\",\"width\":0.5},\"type\":\"line\",\"x0\":97,\"x1\":97,\"y0\":29.73,\"y1\":30.39},{\"line\":{\"color\":\"darkgrey\",\"width\":0.5},\"type\":\"line\",\"x0\":97,\"x1\":97,\"y0\":53,\"y1\":52.5},{\"line\":{\"color\":\"darkgrey\",\"width\":0.5},\"type\":\"line\",\"x0\":98,\"x1\":98,\"y0\":0.2,\"y1\":0.7},{\"line\":{\"color\":\"darkgrey\",\"width\":0.5},\"type\":\"line\",\"x0\":98,\"x1\":98,\"y0\":22.91,\"y1\":23.57},{\"line\":{\"color\":\"darkgrey\",\"width\":0.5},\"type\":\"line\",\"x0\":98,\"x1\":98,\"y0\":29.73,\"y1\":30.39},{\"line\":{\"color\":\"darkgrey\",\"width\":0.5},\"type\":\"line\",\"x0\":98,\"x1\":98,\"y0\":53,\"y1\":52.5},{\"line\":{\"color\":\"darkgrey\",\"width\":0.5},\"type\":\"line\",\"x0\":99,\"x1\":99,\"y0\":0.2,\"y1\":0.7},{\"line\":{\"color\":\"darkgrey\",\"width\":0.5},\"type\":\"line\",\"x0\":99,\"x1\":99,\"y0\":22.91,\"y1\":23.57},{\"line\":{\"color\":\"darkgrey\",\"width\":0.5},\"type\":\"line\",\"x0\":99,\"x1\":99,\"y0\":29.73,\"y1\":30.39},{\"line\":{\"color\":\"darkgrey\",\"width\":0.5},\"type\":\"line\",\"x0\":99,\"x1\":99,\"y0\":53,\"y1\":52.5},{\"line\":{\"color\":\"darkgrey\",\"width\":0.5},\"type\":\"line\",\"x0\":100,\"x1\":100,\"y0\":0.2,\"y1\":0.7},{\"line\":{\"color\":\"darkgrey\",\"width\":0.5},\"type\":\"line\",\"x0\":100,\"x1\":100,\"y0\":22.91,\"y1\":23.57},{\"line\":{\"color\":\"darkgrey\",\"width\":0.5},\"type\":\"line\",\"x0\":100,\"x1\":100,\"y0\":29.73,\"y1\":30.39},{\"line\":{\"color\":\"darkgrey\",\"width\":0.5},\"type\":\"line\",\"x0\":100,\"x1\":100,\"y0\":53,\"y1\":52.5},{\"line\":{\"color\":\"darkgrey\",\"width\":0.5},\"type\":\"line\",\"x0\":101,\"x1\":101,\"y0\":0.2,\"y1\":0.7},{\"line\":{\"color\":\"darkgrey\",\"width\":0.5},\"type\":\"line\",\"x0\":101,\"x1\":101,\"y0\":22.91,\"y1\":23.57},{\"line\":{\"color\":\"darkgrey\",\"width\":0.5},\"type\":\"line\",\"x0\":101,\"x1\":101,\"y0\":29.73,\"y1\":30.39},{\"line\":{\"color\":\"darkgrey\",\"width\":0.5},\"type\":\"line\",\"x0\":101,\"x1\":101,\"y0\":53,\"y1\":52.5},{\"line\":{\"color\":\"darkgrey\",\"width\":0.5},\"type\":\"line\",\"x0\":102,\"x1\":102,\"y0\":0.2,\"y1\":0.7},{\"line\":{\"color\":\"darkgrey\",\"width\":0.5},\"type\":\"line\",\"x0\":102,\"x1\":102,\"y0\":22.91,\"y1\":23.57},{\"line\":{\"color\":\"darkgrey\",\"width\":0.5},\"type\":\"line\",\"x0\":102,\"x1\":102,\"y0\":29.73,\"y1\":30.39},{\"line\":{\"color\":\"darkgrey\",\"width\":0.5},\"type\":\"line\",\"x0\":102,\"x1\":102,\"y0\":53,\"y1\":52.5},{\"line\":{\"color\":\"darkgrey\",\"width\":0.5},\"type\":\"line\",\"x0\":103,\"x1\":103,\"y0\":0.2,\"y1\":0.7},{\"line\":{\"color\":\"darkgrey\",\"width\":0.5},\"type\":\"line\",\"x0\":103,\"x1\":103,\"y0\":22.91,\"y1\":23.57},{\"line\":{\"color\":\"darkgrey\",\"width\":0.5},\"type\":\"line\",\"x0\":103,\"x1\":103,\"y0\":29.73,\"y1\":30.39},{\"line\":{\"color\":\"darkgrey\",\"width\":0.5},\"type\":\"line\",\"x0\":103,\"x1\":103,\"y0\":53,\"y1\":52.5},{\"line\":{\"color\":\"darkgrey\",\"width\":0.5},\"type\":\"line\",\"x0\":104,\"x1\":104,\"y0\":0.2,\"y1\":0.7},{\"line\":{\"color\":\"darkgrey\",\"width\":0.5},\"type\":\"line\",\"x0\":104,\"x1\":104,\"y0\":22.91,\"y1\":23.57},{\"line\":{\"color\":\"darkgrey\",\"width\":0.5},\"type\":\"line\",\"x0\":104,\"x1\":104,\"y0\":29.73,\"y1\":30.39},{\"line\":{\"color\":\"darkgrey\",\"width\":0.5},\"type\":\"line\",\"x0\":104,\"x1\":104,\"y0\":53,\"y1\":52.5},{\"line\":{\"color\":\"darkgrey\",\"width\":0.5},\"type\":\"line\",\"x0\":105,\"x1\":105,\"y0\":0.2,\"y1\":0.7},{\"line\":{\"color\":\"darkgrey\",\"width\":0.5},\"type\":\"line\",\"x0\":105,\"x1\":105,\"y0\":22.91,\"y1\":23.57},{\"line\":{\"color\":\"darkgrey\",\"width\":0.5},\"type\":\"line\",\"x0\":105,\"x1\":105,\"y0\":29.73,\"y1\":30.39},{\"line\":{\"color\":\"darkgrey\",\"width\":0.5},\"type\":\"line\",\"x0\":105,\"x1\":105,\"y0\":53,\"y1\":52.5},{\"line\":{\"color\":\"darkgrey\",\"width\":0.5},\"type\":\"line\",\"x0\":106,\"x1\":106,\"y0\":0.2,\"y1\":0.7},{\"line\":{\"color\":\"darkgrey\",\"width\":0.5},\"type\":\"line\",\"x0\":106,\"x1\":106,\"y0\":22.91,\"y1\":23.57},{\"line\":{\"color\":\"darkgrey\",\"width\":0.5},\"type\":\"line\",\"x0\":106,\"x1\":106,\"y0\":29.73,\"y1\":30.39},{\"line\":{\"color\":\"darkgrey\",\"width\":0.5},\"type\":\"line\",\"x0\":106,\"x1\":106,\"y0\":53,\"y1\":52.5},{\"line\":{\"color\":\"darkgrey\",\"width\":0.5},\"type\":\"line\",\"x0\":107,\"x1\":107,\"y0\":0.2,\"y1\":0.7},{\"line\":{\"color\":\"darkgrey\",\"width\":0.5},\"type\":\"line\",\"x0\":107,\"x1\":107,\"y0\":22.91,\"y1\":23.57},{\"line\":{\"color\":\"darkgrey\",\"width\":0.5},\"type\":\"line\",\"x0\":107,\"x1\":107,\"y0\":29.73,\"y1\":30.39},{\"line\":{\"color\":\"darkgrey\",\"width\":0.5},\"type\":\"line\",\"x0\":107,\"x1\":107,\"y0\":53,\"y1\":52.5},{\"line\":{\"color\":\"darkgrey\",\"width\":0.5},\"type\":\"line\",\"x0\":108,\"x1\":108,\"y0\":0.2,\"y1\":0.7},{\"line\":{\"color\":\"darkgrey\",\"width\":0.5},\"type\":\"line\",\"x0\":108,\"x1\":108,\"y0\":22.91,\"y1\":23.57},{\"line\":{\"color\":\"darkgrey\",\"width\":0.5},\"type\":\"line\",\"x0\":108,\"x1\":108,\"y0\":29.73,\"y1\":30.39},{\"line\":{\"color\":\"darkgrey\",\"width\":0.5},\"type\":\"line\",\"x0\":108,\"x1\":108,\"y0\":53,\"y1\":52.5},{\"line\":{\"color\":\"darkgrey\",\"width\":0.5},\"type\":\"line\",\"x0\":109,\"x1\":109,\"y0\":0.2,\"y1\":0.7},{\"line\":{\"color\":\"darkgrey\",\"width\":0.5},\"type\":\"line\",\"x0\":109,\"x1\":109,\"y0\":22.91,\"y1\":23.57},{\"line\":{\"color\":\"darkgrey\",\"width\":0.5},\"type\":\"line\",\"x0\":109,\"x1\":109,\"y0\":29.73,\"y1\":30.39},{\"line\":{\"color\":\"darkgrey\",\"width\":0.5},\"type\":\"line\",\"x0\":109,\"x1\":109,\"y0\":53,\"y1\":52.5},{\"line\":{\"color\":\"black\",\"width\":1},\"type\":\"rect\",\"x0\":0,\"x1\":120,\"y0\":0,\"y1\":53.3},{\"fillcolor\":\"lightgrey\",\"layer\":\"below\",\"line\":{\"color\":\"darkgrey\",\"width\":1},\"type\":\"rect\",\"x0\":0,\"x1\":10,\"y0\":0,\"y1\":53.3},{\"fillcolor\":\"lightgrey\",\"layer\":\"below\",\"line\":{\"color\":\"darkgrey\",\"width\":1},\"type\":\"rect\",\"x0\":110,\"x1\":120,\"y0\":0,\"y1\":53.3}],\"xaxis\":{\"constrain\":\"range\",\"range\":[12.079999999999998,44.75],\"showgrid\":false,\"showticklabels\":false},\"yaxis\":{\"range\":[-0.5,54],\"scaleanchor\":\"x\",\"scaleratio\":1,\"showgrid\":false,\"showticklabels\":false},\"template\":{\"data\":{\"histogram2dcontour\":[{\"type\":\"histogram2dcontour\",\"colorbar\":{\"outlinewidth\":0,\"ticks\":\"\"},\"colorscale\":[[0.0,\"#0d0887\"],[0.1111111111111111,\"#46039f\"],[0.2222222222222222,\"#7201a8\"],[0.3333333333333333,\"#9c179e\"],[0.4444444444444444,\"#bd3786\"],[0.5555555555555556,\"#d8576b\"],[0.6666666666666666,\"#ed7953\"],[0.7777777777777778,\"#fb9f3a\"],[0.8888888888888888,\"#fdca26\"],[1.0,\"#f0f921\"]]}],\"choropleth\":[{\"type\":\"choropleth\",\"colorbar\":{\"outlinewidth\":0,\"ticks\":\"\"}}],\"histogram2d\":[{\"type\":\"histogram2d\",\"colorbar\":{\"outlinewidth\":0,\"ticks\":\"\"},\"colorscale\":[[0.0,\"#0d0887\"],[0.1111111111111111,\"#46039f\"],[0.2222222222222222,\"#7201a8\"],[0.3333333333333333,\"#9c179e\"],[0.4444444444444444,\"#bd3786\"],[0.5555555555555556,\"#d8576b\"],[0.6666666666666666,\"#ed7953\"],[0.7777777777777778,\"#fb9f3a\"],[0.8888888888888888,\"#fdca26\"],[1.0,\"#f0f921\"]]}],\"heatmap\":[{\"type\":\"heatmap\",\"colorbar\":{\"outlinewidth\":0,\"ticks\":\"\"},\"colorscale\":[[0.0,\"#0d0887\"],[0.1111111111111111,\"#46039f\"],[0.2222222222222222,\"#7201a8\"],[0.3333333333333333,\"#9c179e\"],[0.4444444444444444,\"#bd3786\"],[0.5555555555555556,\"#d8576b\"],[0.6666666666666666,\"#ed7953\"],[0.7777777777777778,\"#fb9f3a\"],[0.8888888888888888,\"#fdca26\"],[1.0,\"#f0f921\"]]}],\"heatmapgl\":[{\"type\":\"heatmapgl\",\"colorbar\":{\"outlinewidth\":0,\"ticks\":\"\"},\"colorscale\":[[0.0,\"#0d0887\"],[0.1111111111111111,\"#46039f\"],[0.2222222222222222,\"#7201a8\"],[0.3333333333333333,\"#9c179e\"],[0.4444444444444444,\"#bd3786\"],[0.5555555555555556,\"#d8576b\"],[0.6666666666666666,\"#ed7953\"],[0.7777777777777778,\"#fb9f3a\"],[0.8888888888888888,\"#fdca26\"],[1.0,\"#f0f921\"]]}],\"contourcarpet\":[{\"type\":\"contourcarpet\",\"colorbar\":{\"outlinewidth\":0,\"ticks\":\"\"}}],\"contour\":[{\"type\":\"contour\",\"colorbar\":{\"outlinewidth\":0,\"ticks\":\"\"},\"colorscale\":[[0.0,\"#0d0887\"],[0.1111111111111111,\"#46039f\"],[0.2222222222222222,\"#7201a8\"],[0.3333333333333333,\"#9c179e\"],[0.4444444444444444,\"#bd3786\"],[0.5555555555555556,\"#d8576b\"],[0.6666666666666666,\"#ed7953\"],[0.7777777777777778,\"#fb9f3a\"],[0.8888888888888888,\"#fdca26\"],[1.0,\"#f0f921\"]]}],\"surface\":[{\"type\":\"surface\",\"colorbar\":{\"outlinewidth\":0,\"ticks\":\"\"},\"colorscale\":[[0.0,\"#0d0887\"],[0.1111111111111111,\"#46039f\"],[0.2222222222222222,\"#7201a8\"],[0.3333333333333333,\"#9c179e\"],[0.4444444444444444,\"#bd3786\"],[0.5555555555555556,\"#d8576b\"],[0.6666666666666666,\"#ed7953\"],[0.7777777777777778,\"#fb9f3a\"],[0.8888888888888888,\"#fdca26\"],[1.0,\"#f0f921\"]]}],\"mesh3d\":[{\"type\":\"mesh3d\",\"colorbar\":{\"outlinewidth\":0,\"ticks\":\"\"}}],\"scatter\":[{\"fillpattern\":{\"fillmode\":\"overlay\",\"size\":10,\"solidity\":0.2},\"type\":\"scatter\"}],\"parcoords\":[{\"type\":\"parcoords\",\"line\":{\"colorbar\":{\"outlinewidth\":0,\"ticks\":\"\"}}}],\"scatterpolargl\":[{\"type\":\"scatterpolargl\",\"marker\":{\"colorbar\":{\"outlinewidth\":0,\"ticks\":\"\"}}}],\"bar\":[{\"error_x\":{\"color\":\"#2a3f5f\"},\"error_y\":{\"color\":\"#2a3f5f\"},\"marker\":{\"line\":{\"color\":\"#E5ECF6\",\"width\":0.5},\"pattern\":{\"fillmode\":\"overlay\",\"size\":10,\"solidity\":0.2}},\"type\":\"bar\"}],\"scattergeo\":[{\"type\":\"scattergeo\",\"marker\":{\"colorbar\":{\"outlinewidth\":0,\"ticks\":\"\"}}}],\"scatterpolar\":[{\"type\":\"scatterpolar\",\"marker\":{\"colorbar\":{\"outlinewidth\":0,\"ticks\":\"\"}}}],\"histogram\":[{\"marker\":{\"pattern\":{\"fillmode\":\"overlay\",\"size\":10,\"solidity\":0.2}},\"type\":\"histogram\"}],\"scattergl\":[{\"type\":\"scattergl\",\"marker\":{\"colorbar\":{\"outlinewidth\":0,\"ticks\":\"\"}}}],\"scatter3d\":[{\"type\":\"scatter3d\",\"line\":{\"colorbar\":{\"outlinewidth\":0,\"ticks\":\"\"}},\"marker\":{\"colorbar\":{\"outlinewidth\":0,\"ticks\":\"\"}}}],\"scattermapbox\":[{\"type\":\"scattermapbox\",\"marker\":{\"colorbar\":{\"outlinewidth\":0,\"ticks\":\"\"}}}],\"scatterternary\":[{\"type\":\"scatterternary\",\"marker\":{\"colorbar\":{\"outlinewidth\":0,\"ticks\":\"\"}}}],\"scattercarpet\":[{\"type\":\"scattercarpet\",\"marker\":{\"colorbar\":{\"outlinewidth\":0,\"ticks\":\"\"}}}],\"carpet\":[{\"aaxis\":{\"endlinecolor\":\"#2a3f5f\",\"gridcolor\":\"white\",\"linecolor\":\"white\",\"minorgridcolor\":\"white\",\"startlinecolor\":\"#2a3f5f\"},\"baxis\":{\"endlinecolor\":\"#2a3f5f\",\"gridcolor\":\"white\",\"linecolor\":\"white\",\"minorgridcolor\":\"white\",\"startlinecolor\":\"#2a3f5f\"},\"type\":\"carpet\"}],\"table\":[{\"cells\":{\"fill\":{\"color\":\"#EBF0F8\"},\"line\":{\"color\":\"white\"}},\"header\":{\"fill\":{\"color\":\"#C8D4E3\"},\"line\":{\"color\":\"white\"}},\"type\":\"table\"}],\"barpolar\":[{\"marker\":{\"line\":{\"color\":\"#E5ECF6\",\"width\":0.5},\"pattern\":{\"fillmode\":\"overlay\",\"size\":10,\"solidity\":0.2}},\"type\":\"barpolar\"}],\"pie\":[{\"automargin\":true,\"type\":\"pie\"}]},\"layout\":{\"autotypenumbers\":\"strict\",\"colorway\":[\"#636efa\",\"#EF553B\",\"#00cc96\",\"#ab63fa\",\"#FFA15A\",\"#19d3f3\",\"#FF6692\",\"#B6E880\",\"#FF97FF\",\"#FECB52\"],\"font\":{\"color\":\"#2a3f5f\"},\"hovermode\":\"closest\",\"hoverlabel\":{\"align\":\"left\"},\"paper_bgcolor\":\"white\",\"plot_bgcolor\":\"#E5ECF6\",\"polar\":{\"bgcolor\":\"#E5ECF6\",\"angularaxis\":{\"gridcolor\":\"white\",\"linecolor\":\"white\",\"ticks\":\"\"},\"radialaxis\":{\"gridcolor\":\"white\",\"linecolor\":\"white\",\"ticks\":\"\"}},\"ternary\":{\"bgcolor\":\"#E5ECF6\",\"aaxis\":{\"gridcolor\":\"white\",\"linecolor\":\"white\",\"ticks\":\"\"},\"baxis\":{\"gridcolor\":\"white\",\"linecolor\":\"white\",\"ticks\":\"\"},\"caxis\":{\"gridcolor\":\"white\",\"linecolor\":\"white\",\"ticks\":\"\"}},\"coloraxis\":{\"colorbar\":{\"outlinewidth\":0,\"ticks\":\"\"}},\"colorscale\":{\"sequential\":[[0.0,\"#0d0887\"],[0.1111111111111111,\"#46039f\"],[0.2222222222222222,\"#7201a8\"],[0.3333333333333333,\"#9c179e\"],[0.4444444444444444,\"#bd3786\"],[0.5555555555555556,\"#d8576b\"],[0.6666666666666666,\"#ed7953\"],[0.7777777777777778,\"#fb9f3a\"],[0.8888888888888888,\"#fdca26\"],[1.0,\"#f0f921\"]],\"sequentialminus\":[[0.0,\"#0d0887\"],[0.1111111111111111,\"#46039f\"],[0.2222222222222222,\"#7201a8\"],[0.3333333333333333,\"#9c179e\"],[0.4444444444444444,\"#bd3786\"],[0.5555555555555556,\"#d8576b\"],[0.6666666666666666,\"#ed7953\"],[0.7777777777777778,\"#fb9f3a\"],[0.8888888888888888,\"#fdca26\"],[1.0,\"#f0f921\"]],\"diverging\":[[0,\"#8e0152\"],[0.1,\"#c51b7d\"],[0.2,\"#de77ae\"],[0.3,\"#f1b6da\"],[0.4,\"#fde0ef\"],[0.5,\"#f7f7f7\"],[0.6,\"#e6f5d0\"],[0.7,\"#b8e186\"],[0.8,\"#7fbc41\"],[0.9,\"#4d9221\"],[1,\"#276419\"]]},\"xaxis\":{\"gridcolor\":\"white\",\"linecolor\":\"white\",\"ticks\":\"\",\"title\":{\"standoff\":15},\"zerolinecolor\":\"white\",\"automargin\":true,\"zerolinewidth\":2},\"yaxis\":{\"gridcolor\":\"white\",\"linecolor\":\"white\",\"ticks\":\"\",\"title\":{\"standoff\":15},\"zerolinecolor\":\"white\",\"automargin\":true,\"zerolinewidth\":2},\"scene\":{\"xaxis\":{\"backgroundcolor\":\"#E5ECF6\",\"gridcolor\":\"white\",\"linecolor\":\"white\",\"showbackground\":true,\"ticks\":\"\",\"zerolinecolor\":\"white\",\"gridwidth\":2},\"yaxis\":{\"backgroundcolor\":\"#E5ECF6\",\"gridcolor\":\"white\",\"linecolor\":\"white\",\"showbackground\":true,\"ticks\":\"\",\"zerolinecolor\":\"white\",\"gridwidth\":2},\"zaxis\":{\"backgroundcolor\":\"#E5ECF6\",\"gridcolor\":\"white\",\"linecolor\":\"white\",\"showbackground\":true,\"ticks\":\"\",\"zerolinecolor\":\"white\",\"gridwidth\":2}},\"shapedefaults\":{\"line\":{\"color\":\"#2a3f5f\"}},\"annotationdefaults\":{\"arrowcolor\":\"#2a3f5f\",\"arrowhead\":0,\"arrowwidth\":1},\"geo\":{\"bgcolor\":\"white\",\"landcolor\":\"#E5ECF6\",\"subunitcolor\":\"white\",\"showland\":true,\"showlakes\":true,\"lakecolor\":\"white\"},\"title\":{\"x\":0.05},\"mapbox\":{\"style\":\"light\"}}},\"annotations\":[{\"font\":{\"color\":\"grey\",\"size\":8},\"showarrow\":false,\"text\":\"10\",\"x\":19,\"xref\":\"x\",\"y\":5,\"yref\":\"y\"},{\"font\":{\"color\":\"grey\",\"size\":8},\"showarrow\":false,\"text\":\"10\",\"textangle\":-180,\"x\":19,\"xref\":\"x\",\"y\":48.3,\"yref\":\"y\"},{\"font\":{\"color\":\"grey\",\"size\":8},\"showarrow\":false,\"text\":\"20\",\"x\":29,\"xref\":\"x\",\"y\":5,\"yref\":\"y\"},{\"font\":{\"color\":\"grey\",\"size\":8},\"showarrow\":false,\"text\":\"20\",\"textangle\":-180,\"x\":29,\"xref\":\"x\",\"y\":48.3,\"yref\":\"y\"},{\"font\":{\"color\":\"grey\",\"size\":8},\"showarrow\":false,\"text\":\"30\",\"x\":39,\"xref\":\"x\",\"y\":5,\"yref\":\"y\"},{\"font\":{\"color\":\"grey\",\"size\":8},\"showarrow\":false,\"text\":\"30\",\"textangle\":-180,\"x\":39,\"xref\":\"x\",\"y\":48.3,\"yref\":\"y\"},{\"font\":{\"color\":\"grey\",\"size\":8},\"showarrow\":false,\"text\":\"40\",\"x\":49,\"xref\":\"x\",\"y\":5,\"yref\":\"y\"},{\"font\":{\"color\":\"grey\",\"size\":8},\"showarrow\":false,\"text\":\"40\",\"textangle\":-180,\"x\":49,\"xref\":\"x\",\"y\":48.3,\"yref\":\"y\"},{\"font\":{\"color\":\"grey\",\"size\":8},\"showarrow\":false,\"text\":\"50\",\"x\":59,\"xref\":\"x\",\"y\":5,\"yref\":\"y\"},{\"font\":{\"color\":\"grey\",\"size\":8},\"showarrow\":false,\"text\":\"50\",\"textangle\":-180,\"x\":59,\"xref\":\"x\",\"y\":48.3,\"yref\":\"y\"},{\"font\":{\"color\":\"grey\",\"size\":8},\"showarrow\":false,\"text\":\"40\",\"x\":69,\"xref\":\"x\",\"y\":5,\"yref\":\"y\"},{\"font\":{\"color\":\"grey\",\"size\":8},\"showarrow\":false,\"text\":\"40\",\"textangle\":-180,\"x\":69,\"xref\":\"x\",\"y\":48.3,\"yref\":\"y\"},{\"font\":{\"color\":\"grey\",\"size\":8},\"showarrow\":false,\"text\":\"30\",\"x\":79,\"xref\":\"x\",\"y\":5,\"yref\":\"y\"},{\"font\":{\"color\":\"grey\",\"size\":8},\"showarrow\":false,\"text\":\"30\",\"textangle\":-180,\"x\":79,\"xref\":\"x\",\"y\":48.3,\"yref\":\"y\"},{\"font\":{\"color\":\"grey\",\"size\":8},\"showarrow\":false,\"text\":\"20\",\"x\":89,\"xref\":\"x\",\"y\":5,\"yref\":\"y\"},{\"font\":{\"color\":\"grey\",\"size\":8},\"showarrow\":false,\"text\":\"20\",\"textangle\":-180,\"x\":89,\"xref\":\"x\",\"y\":48.3,\"yref\":\"y\"},{\"font\":{\"color\":\"grey\",\"size\":8},\"showarrow\":false,\"text\":\"10\",\"x\":99,\"xref\":\"x\",\"y\":5,\"yref\":\"y\"},{\"font\":{\"color\":\"grey\",\"size\":8},\"showarrow\":false,\"text\":\"10\",\"textangle\":-180,\"x\":99,\"xref\":\"x\",\"y\":48.3,\"yref\":\"y\"}],\"title\":{\"font\":{\"size\":12},\"yanchor\":\"top\",\"x\":0.5,\"y\":0.98},\"margin\":{\"t\":20},\"sliders\":[{\"active\":0,\"font\":{\"size\":10},\"steps\":[{\"args\":[{\"visible\":[true,true,false,false,false,false,false,false,false,false,false,false,false,false,false,false,false,false,false,false,false,false,false,false,false,false,false,false,false,false,false,false,false,false,false,false,false,false,false,false,false,false,false,false,false,false,false,false,false,false,false,false,false,false,false,false,false,false,false,false,false,false,false,false,false,false,false,false,false,false,false,false,false,false,false,false,false,false,false,false,false,false,false,false,false,false,false,false,false,false]},{\"title\":\"Event: nan\",\"font\":{\"size\":10}}],\"label\":\"frame1\",\"method\":\"update\"},{\"args\":[{\"visible\":[false,false,true,true,false,false,false,false,false,false,false,false,false,false,false,false,false,false,false,false,false,false,false,false,false,false,false,false,false,false,false,false,false,false,false,false,false,false,false,false,false,false,false,false,false,false,false,false,false,false,false,false,false,false,false,false,false,false,false,false,false,false,false,false,false,false,false,false,false,false,false,false,false,false,false,false,false,false,false,false,false,false,false,false,false,false,false,false,false,false]},{\"title\":\"Event: pass_arrived\",\"font\":{\"size\":10}}],\"label\":\"frame2\",\"method\":\"update\"},{\"args\":[{\"visible\":[false,false,false,false,true,true,false,false,false,false,false,false,false,false,false,false,false,false,false,false,false,false,false,false,false,false,false,false,false,false,false,false,false,false,false,false,false,false,false,false,false,false,false,false,false,false,false,false,false,false,false,false,false,false,false,false,false,false,false,false,false,false,false,false,false,false,false,false,false,false,false,false,false,false,false,false,false,false,false,false,false,false,false,false,false,false,false,false,false,false]},{\"title\":\"Event: nan\",\"font\":{\"size\":10}}],\"label\":\"frame3\",\"method\":\"update\"},{\"args\":[{\"visible\":[false,false,false,false,false,false,true,true,false,false,false,false,false,false,false,false,false,false,false,false,false,false,false,false,false,false,false,false,false,false,false,false,false,false,false,false,false,false,false,false,false,false,false,false,false,false,false,false,false,false,false,false,false,false,false,false,false,false,false,false,false,false,false,false,false,false,false,false,false,false,false,false,false,false,false,false,false,false,false,false,false,false,false,false,false,false,false,false,false,false]},{\"title\":\"Event: nan\",\"font\":{\"size\":10}}],\"label\":\"frame4\",\"method\":\"update\"},{\"args\":[{\"visible\":[false,false,false,false,false,false,false,false,true,true,false,false,false,false,false,false,false,false,false,false,false,false,false,false,false,false,false,false,false,false,false,false,false,false,false,false,false,false,false,false,false,false,false,false,false,false,false,false,false,false,false,false,false,false,false,false,false,false,false,false,false,false,false,false,false,false,false,false,false,false,false,false,false,false,false,false,false,false,false,false,false,false,false,false,false,false,false,false,false,false]},{\"title\":\"Event: nan\",\"font\":{\"size\":10}}],\"label\":\"frame5\",\"method\":\"update\"},{\"args\":[{\"visible\":[false,false,false,false,false,false,false,false,false,false,true,true,false,false,false,false,false,false,false,false,false,false,false,false,false,false,false,false,false,false,false,false,false,false,false,false,false,false,false,false,false,false,false,false,false,false,false,false,false,false,false,false,false,false,false,false,false,false,false,false,false,false,false,false,false,false,false,false,false,false,false,false,false,false,false,false,false,false,false,false,false,false,false,false,false,false,false,false,false,false]},{\"title\":\"Event: pass_outcome_caught\",\"font\":{\"size\":10}}],\"label\":\"frame6\",\"method\":\"update\"},{\"args\":[{\"visible\":[false,false,false,false,false,false,false,false,false,false,false,false,true,true,false,false,false,false,false,false,false,false,false,false,false,false,false,false,false,false,false,false,false,false,false,false,false,false,false,false,false,false,false,false,false,false,false,false,false,false,false,false,false,false,false,false,false,false,false,false,false,false,false,false,false,false,false,false,false,false,false,false,false,false,false,false,false,false,false,false,false,false,false,false,false,false,false,false,false,false]},{\"title\":\"Event: nan\",\"font\":{\"size\":10}}],\"label\":\"frame7\",\"method\":\"update\"},{\"args\":[{\"visible\":[false,false,false,false,false,false,false,false,false,false,false,false,false,false,true,true,false,false,false,false,false,false,false,false,false,false,false,false,false,false,false,false,false,false,false,false,false,false,false,false,false,false,false,false,false,false,false,false,false,false,false,false,false,false,false,false,false,false,false,false,false,false,false,false,false,false,false,false,false,false,false,false,false,false,false,false,false,false,false,false,false,false,false,false,false,false,false,false,false,false]},{\"title\":\"Event: nan\",\"font\":{\"size\":10}}],\"label\":\"frame8\",\"method\":\"update\"},{\"args\":[{\"visible\":[false,false,false,false,false,false,false,false,false,false,false,false,false,false,false,false,true,true,false,false,false,false,false,false,false,false,false,false,false,false,false,false,false,false,false,false,false,false,false,false,false,false,false,false,false,false,false,false,false,false,false,false,false,false,false,false,false,false,false,false,false,false,false,false,false,false,false,false,false,false,false,false,false,false,false,false,false,false,false,false,false,false,false,false,false,false,false,false,false,false]},{\"title\":\"Event: nan\",\"font\":{\"size\":10}}],\"label\":\"frame9\",\"method\":\"update\"},{\"args\":[{\"visible\":[false,false,false,false,false,false,false,false,false,false,false,false,false,false,false,false,false,false,true,true,false,false,false,false,false,false,false,false,false,false,false,false,false,false,false,false,false,false,false,false,false,false,false,false,false,false,false,false,false,false,false,false,false,false,false,false,false,false,false,false,false,false,false,false,false,false,false,false,false,false,false,false,false,false,false,false,false,false,false,false,false,false,false,false,false,false,false,false,false,false]},{\"title\":\"Event: nan\",\"font\":{\"size\":10}}],\"label\":\"frame10\",\"method\":\"update\"},{\"args\":[{\"visible\":[false,false,false,false,false,false,false,false,false,false,false,false,false,false,false,false,false,false,false,false,true,true,false,false,false,false,false,false,false,false,false,false,false,false,false,false,false,false,false,false,false,false,false,false,false,false,false,false,false,false,false,false,false,false,false,false,false,false,false,false,false,false,false,false,false,false,false,false,false,false,false,false,false,false,false,false,false,false,false,false,false,false,false,false,false,false,false,false,false,false]},{\"title\":\"Event: nan\",\"font\":{\"size\":10}}],\"label\":\"frame11\",\"method\":\"update\"},{\"args\":[{\"visible\":[false,false,false,false,false,false,false,false,false,false,false,false,false,false,false,false,false,false,false,false,false,false,true,true,false,false,false,false,false,false,false,false,false,false,false,false,false,false,false,false,false,false,false,false,false,false,false,false,false,false,false,false,false,false,false,false,false,false,false,false,false,false,false,false,false,false,false,false,false,false,false,false,false,false,false,false,false,false,false,false,false,false,false,false,false,false,false,false,false,false]},{\"title\":\"Event: nan\",\"font\":{\"size\":10}}],\"label\":\"frame12\",\"method\":\"update\"},{\"args\":[{\"visible\":[false,false,false,false,false,false,false,false,false,false,false,false,false,false,false,false,false,false,false,false,false,false,false,false,true,true,false,false,false,false,false,false,false,false,false,false,false,false,false,false,false,false,false,false,false,false,false,false,false,false,false,false,false,false,false,false,false,false,false,false,false,false,false,false,false,false,false,false,false,false,false,false,false,false,false,false,false,false,false,false,false,false,false,false,false,false,false,false,false,false]},{\"title\":\"Event: nan\",\"font\":{\"size\":10}}],\"label\":\"frame13\",\"method\":\"update\"},{\"args\":[{\"visible\":[false,false,false,false,false,false,false,false,false,false,false,false,false,false,false,false,false,false,false,false,false,false,false,false,false,false,true,true,false,false,false,false,false,false,false,false,false,false,false,false,false,false,false,false,false,false,false,false,false,false,false,false,false,false,false,false,false,false,false,false,false,false,false,false,false,false,false,false,false,false,false,false,false,false,false,false,false,false,false,false,false,false,false,false,false,false,false,false,false,false]},{\"title\":\"Event: nan\",\"font\":{\"size\":10}}],\"label\":\"frame14\",\"method\":\"update\"},{\"args\":[{\"visible\":[false,false,false,false,false,false,false,false,false,false,false,false,false,false,false,false,false,false,false,false,false,false,false,false,false,false,false,false,true,true,false,false,false,false,false,false,false,false,false,false,false,false,false,false,false,false,false,false,false,false,false,false,false,false,false,false,false,false,false,false,false,false,false,false,false,false,false,false,false,false,false,false,false,false,false,false,false,false,false,false,false,false,false,false,false,false,false,false,false,false]},{\"title\":\"Event: nan\",\"font\":{\"size\":10}}],\"label\":\"frame15\",\"method\":\"update\"},{\"args\":[{\"visible\":[false,false,false,false,false,false,false,false,false,false,false,false,false,false,false,false,false,false,false,false,false,false,false,false,false,false,false,false,false,false,true,true,false,false,false,false,false,false,false,false,false,false,false,false,false,false,false,false,false,false,false,false,false,false,false,false,false,false,false,false,false,false,false,false,false,false,false,false,false,false,false,false,false,false,false,false,false,false,false,false,false,false,false,false,false,false,false,false,false,false]},{\"title\":\"Event: nan\",\"font\":{\"size\":10}}],\"label\":\"frame16\",\"method\":\"update\"},{\"args\":[{\"visible\":[false,false,false,false,false,false,false,false,false,false,false,false,false,false,false,false,false,false,false,false,false,false,false,false,false,false,false,false,false,false,false,false,true,true,false,false,false,false,false,false,false,false,false,false,false,false,false,false,false,false,false,false,false,false,false,false,false,false,false,false,false,false,false,false,false,false,false,false,false,false,false,false,false,false,false,false,false,false,false,false,false,false,false,false,false,false,false,false,false,false]},{\"title\":\"Event: nan\",\"font\":{\"size\":10}}],\"label\":\"frame17\",\"method\":\"update\"},{\"args\":[{\"visible\":[false,false,false,false,false,false,false,false,false,false,false,false,false,false,false,false,false,false,false,false,false,false,false,false,false,false,false,false,false,false,false,false,false,false,true,true,false,false,false,false,false,false,false,false,false,false,false,false,false,false,false,false,false,false,false,false,false,false,false,false,false,false,false,false,false,false,false,false,false,false,false,false,false,false,false,false,false,false,false,false,false,false,false,false,false,false,false,false,false,false]},{\"title\":\"Event: nan\",\"font\":{\"size\":10}}],\"label\":\"frame18\",\"method\":\"update\"},{\"args\":[{\"visible\":[false,false,false,false,false,false,false,false,false,false,false,false,false,false,false,false,false,false,false,false,false,false,false,false,false,false,false,false,false,false,false,false,false,false,false,false,true,true,false,false,false,false,false,false,false,false,false,false,false,false,false,false,false,false,false,false,false,false,false,false,false,false,false,false,false,false,false,false,false,false,false,false,false,false,false,false,false,false,false,false,false,false,false,false,false,false,false,false,false,false]},{\"title\":\"Event: nan\",\"font\":{\"size\":10}}],\"label\":\"frame19\",\"method\":\"update\"},{\"args\":[{\"visible\":[false,false,false,false,false,false,false,false,false,false,false,false,false,false,false,false,false,false,false,false,false,false,false,false,false,false,false,false,false,false,false,false,false,false,false,false,false,false,true,true,false,false,false,false,false,false,false,false,false,false,false,false,false,false,false,false,false,false,false,false,false,false,false,false,false,false,false,false,false,false,false,false,false,false,false,false,false,false,false,false,false,false,false,false,false,false,false,false,false,false]},{\"title\":\"Event: nan\",\"font\":{\"size\":10}}],\"label\":\"frame20\",\"method\":\"update\"},{\"args\":[{\"visible\":[false,false,false,false,false,false,false,false,false,false,false,false,false,false,false,false,false,false,false,false,false,false,false,false,false,false,false,false,false,false,false,false,false,false,false,false,false,false,false,false,true,true,false,false,false,false,false,false,false,false,false,false,false,false,false,false,false,false,false,false,false,false,false,false,false,false,false,false,false,false,false,false,false,false,false,false,false,false,false,false,false,false,false,false,false,false,false,false,false,false]},{\"title\":\"Event: nan\",\"font\":{\"size\":10}}],\"label\":\"frame21\",\"method\":\"update\"},{\"args\":[{\"visible\":[false,false,false,false,false,false,false,false,false,false,false,false,false,false,false,false,false,false,false,false,false,false,false,false,false,false,false,false,false,false,false,false,false,false,false,false,false,false,false,false,false,false,true,true,false,false,false,false,false,false,false,false,false,false,false,false,false,false,false,false,false,false,false,false,false,false,false,false,false,false,false,false,false,false,false,false,false,false,false,false,false,false,false,false,false,false,false,false,false,false]},{\"title\":\"Event: nan\",\"font\":{\"size\":10}}],\"label\":\"frame22\",\"method\":\"update\"},{\"args\":[{\"visible\":[false,false,false,false,false,false,false,false,false,false,false,false,false,false,false,false,false,false,false,false,false,false,false,false,false,false,false,false,false,false,false,false,false,false,false,false,false,false,false,false,false,false,false,false,true,true,false,false,false,false,false,false,false,false,false,false,false,false,false,false,false,false,false,false,false,false,false,false,false,false,false,false,false,false,false,false,false,false,false,false,false,false,false,false,false,false,false,false,false,false]},{\"title\":\"Event: nan\",\"font\":{\"size\":10}}],\"label\":\"frame23\",\"method\":\"update\"},{\"args\":[{\"visible\":[false,false,false,false,false,false,false,false,false,false,false,false,false,false,false,false,false,false,false,false,false,false,false,false,false,false,false,false,false,false,false,false,false,false,false,false,false,false,false,false,false,false,false,false,false,false,true,true,false,false,false,false,false,false,false,false,false,false,false,false,false,false,false,false,false,false,false,false,false,false,false,false,false,false,false,false,false,false,false,false,false,false,false,false,false,false,false,false,false,false]},{\"title\":\"Event: nan\",\"font\":{\"size\":10}}],\"label\":\"frame24\",\"method\":\"update\"},{\"args\":[{\"visible\":[false,false,false,false,false,false,false,false,false,false,false,false,false,false,false,false,false,false,false,false,false,false,false,false,false,false,false,false,false,false,false,false,false,false,false,false,false,false,false,false,false,false,false,false,false,false,false,false,true,true,false,false,false,false,false,false,false,false,false,false,false,false,false,false,false,false,false,false,false,false,false,false,false,false,false,false,false,false,false,false,false,false,false,false,false,false,false,false,false,false]},{\"title\":\"Event: nan\",\"font\":{\"size\":10}}],\"label\":\"frame25\",\"method\":\"update\"},{\"args\":[{\"visible\":[false,false,false,false,false,false,false,false,false,false,false,false,false,false,false,false,false,false,false,false,false,false,false,false,false,false,false,false,false,false,false,false,false,false,false,false,false,false,false,false,false,false,false,false,false,false,false,false,false,false,true,true,false,false,false,false,false,false,false,false,false,false,false,false,false,false,false,false,false,false,false,false,false,false,false,false,false,false,false,false,false,false,false,false,false,false,false,false,false,false]},{\"title\":\"Event: nan\",\"font\":{\"size\":10}}],\"label\":\"frame26\",\"method\":\"update\"},{\"args\":[{\"visible\":[false,false,false,false,false,false,false,false,false,false,false,false,false,false,false,false,false,false,false,false,false,false,false,false,false,false,false,false,false,false,false,false,false,false,false,false,false,false,false,false,false,false,false,false,false,false,false,false,false,false,false,false,true,true,false,false,false,false,false,false,false,false,false,false,false,false,false,false,false,false,false,false,false,false,false,false,false,false,false,false,false,false,false,false,false,false,false,false,false,false]},{\"title\":\"Event: nan\",\"font\":{\"size\":10}}],\"label\":\"frame27\",\"method\":\"update\"},{\"args\":[{\"visible\":[false,false,false,false,false,false,false,false,false,false,false,false,false,false,false,false,false,false,false,false,false,false,false,false,false,false,false,false,false,false,false,false,false,false,false,false,false,false,false,false,false,false,false,false,false,false,false,false,false,false,false,false,false,false,true,true,false,false,false,false,false,false,false,false,false,false,false,false,false,false,false,false,false,false,false,false,false,false,false,false,false,false,false,false,false,false,false,false,false,false]},{\"title\":\"Event: nan\",\"font\":{\"size\":10}}],\"label\":\"frame28\",\"method\":\"update\"},{\"args\":[{\"visible\":[false,false,false,false,false,false,false,false,false,false,false,false,false,false,false,false,false,false,false,false,false,false,false,false,false,false,false,false,false,false,false,false,false,false,false,false,false,false,false,false,false,false,false,false,false,false,false,false,false,false,false,false,false,false,false,false,true,true,false,false,false,false,false,false,false,false,false,false,false,false,false,false,false,false,false,false,false,false,false,false,false,false,false,false,false,false,false,false,false,false]},{\"title\":\"Event: first_contact\",\"font\":{\"size\":10}}],\"label\":\"frame29\",\"method\":\"update\"},{\"args\":[{\"visible\":[false,false,false,false,false,false,false,false,false,false,false,false,false,false,false,false,false,false,false,false,false,false,false,false,false,false,false,false,false,false,false,false,false,false,false,false,false,false,false,false,false,false,false,false,false,false,false,false,false,false,false,false,false,false,false,false,false,false,true,true,false,false,false,false,false,false,false,false,false,false,false,false,false,false,false,false,false,false,false,false,false,false,false,false,false,false,false,false,false,false]},{\"title\":\"Event: nan\",\"font\":{\"size\":10}}],\"label\":\"frame30\",\"method\":\"update\"},{\"args\":[{\"visible\":[false,false,false,false,false,false,false,false,false,false,false,false,false,false,false,false,false,false,false,false,false,false,false,false,false,false,false,false,false,false,false,false,false,false,false,false,false,false,false,false,false,false,false,false,false,false,false,false,false,false,false,false,false,false,false,false,false,false,false,false,true,true,false,false,false,false,false,false,false,false,false,false,false,false,false,false,false,false,false,false,false,false,false,false,false,false,false,false,false,false]},{\"title\":\"Event: nan\",\"font\":{\"size\":10}}],\"label\":\"frame31\",\"method\":\"update\"},{\"args\":[{\"visible\":[false,false,false,false,false,false,false,false,false,false,false,false,false,false,false,false,false,false,false,false,false,false,false,false,false,false,false,false,false,false,false,false,false,false,false,false,false,false,false,false,false,false,false,false,false,false,false,false,false,false,false,false,false,false,false,false,false,false,false,false,false,false,true,true,false,false,false,false,false,false,false,false,false,false,false,false,false,false,false,false,false,false,false,false,false,false,false,false,false,false]},{\"title\":\"Event: nan\",\"font\":{\"size\":10}}],\"label\":\"frame32\",\"method\":\"update\"},{\"args\":[{\"visible\":[false,false,false,false,false,false,false,false,false,false,false,false,false,false,false,false,false,false,false,false,false,false,false,false,false,false,false,false,false,false,false,false,false,false,false,false,false,false,false,false,false,false,false,false,false,false,false,false,false,false,false,false,false,false,false,false,false,false,false,false,false,false,false,false,true,true,false,false,false,false,false,false,false,false,false,false,false,false,false,false,false,false,false,false,false,false,false,false,false,false]},{\"title\":\"Event: nan\",\"font\":{\"size\":10}}],\"label\":\"frame33\",\"method\":\"update\"},{\"args\":[{\"visible\":[false,false,false,false,false,false,false,false,false,false,false,false,false,false,false,false,false,false,false,false,false,false,false,false,false,false,false,false,false,false,false,false,false,false,false,false,false,false,false,false,false,false,false,false,false,false,false,false,false,false,false,false,false,false,false,false,false,false,false,false,false,false,false,false,false,false,true,true,false,false,false,false,false,false,false,false,false,false,false,false,false,false,false,false,false,false,false,false,false,false]},{\"title\":\"Event: nan\",\"font\":{\"size\":10}}],\"label\":\"frame34\",\"method\":\"update\"},{\"args\":[{\"visible\":[false,false,false,false,false,false,false,false,false,false,false,false,false,false,false,false,false,false,false,false,false,false,false,false,false,false,false,false,false,false,false,false,false,false,false,false,false,false,false,false,false,false,false,false,false,false,false,false,false,false,false,false,false,false,false,false,false,false,false,false,false,false,false,false,false,false,false,false,true,true,false,false,false,false,false,false,false,false,false,false,false,false,false,false,false,false,false,false,false,false]},{\"title\":\"Event: nan\",\"font\":{\"size\":10}}],\"label\":\"frame35\",\"method\":\"update\"},{\"args\":[{\"visible\":[false,false,false,false,false,false,false,false,false,false,false,false,false,false,false,false,false,false,false,false,false,false,false,false,false,false,false,false,false,false,false,false,false,false,false,false,false,false,false,false,false,false,false,false,false,false,false,false,false,false,false,false,false,false,false,false,false,false,false,false,false,false,false,false,false,false,false,false,false,false,true,true,false,false,false,false,false,false,false,false,false,false,false,false,false,false,false,false,false,false]},{\"title\":\"Event: nan\",\"font\":{\"size\":10}}],\"label\":\"frame36\",\"method\":\"update\"},{\"args\":[{\"visible\":[false,false,false,false,false,false,false,false,false,false,false,false,false,false,false,false,false,false,false,false,false,false,false,false,false,false,false,false,false,false,false,false,false,false,false,false,false,false,false,false,false,false,false,false,false,false,false,false,false,false,false,false,false,false,false,false,false,false,false,false,false,false,false,false,false,false,false,false,false,false,false,false,true,true,false,false,false,false,false,false,false,false,false,false,false,false,false,false,false,false]},{\"title\":\"Event: nan\",\"font\":{\"size\":10}}],\"label\":\"frame37\",\"method\":\"update\"},{\"args\":[{\"visible\":[false,false,false,false,false,false,false,false,false,false,false,false,false,false,false,false,false,false,false,false,false,false,false,false,false,false,false,false,false,false,false,false,false,false,false,false,false,false,false,false,false,false,false,false,false,false,false,false,false,false,false,false,false,false,false,false,false,false,false,false,false,false,false,false,false,false,false,false,false,false,false,false,false,false,true,true,false,false,false,false,false,false,false,false,false,false,false,false,false,false]},{\"title\":\"Event: nan\",\"font\":{\"size\":10}}],\"label\":\"frame38\",\"method\":\"update\"},{\"args\":[{\"visible\":[false,false,false,false,false,false,false,false,false,false,false,false,false,false,false,false,false,false,false,false,false,false,false,false,false,false,false,false,false,false,false,false,false,false,false,false,false,false,false,false,false,false,false,false,false,false,false,false,false,false,false,false,false,false,false,false,false,false,false,false,false,false,false,false,false,false,false,false,false,false,false,false,false,false,false,false,true,true,false,false,false,false,false,false,false,false,false,false,false,false]},{\"title\":\"Event: nan\",\"font\":{\"size\":10}}],\"label\":\"frame39\",\"method\":\"update\"},{\"args\":[{\"visible\":[false,false,false,false,false,false,false,false,false,false,false,false,false,false,false,false,false,false,false,false,false,false,false,false,false,false,false,false,false,false,false,false,false,false,false,false,false,false,false,false,false,false,false,false,false,false,false,false,false,false,false,false,false,false,false,false,false,false,false,false,false,false,false,false,false,false,false,false,false,false,false,false,false,false,false,false,false,false,true,true,false,false,false,false,false,false,false,false,false,false]},{\"title\":\"Event: nan\",\"font\":{\"size\":10}}],\"label\":\"frame40\",\"method\":\"update\"},{\"args\":[{\"visible\":[false,false,false,false,false,false,false,false,false,false,false,false,false,false,false,false,false,false,false,false,false,false,false,false,false,false,false,false,false,false,false,false,false,false,false,false,false,false,false,false,false,false,false,false,false,false,false,false,false,false,false,false,false,false,false,false,false,false,false,false,false,false,false,false,false,false,false,false,false,false,false,false,false,false,false,false,false,false,false,false,true,true,false,false,false,false,false,false,false,false]},{\"title\":\"Event: out_of_bounds\",\"font\":{\"size\":10}}],\"label\":\"frame41\",\"method\":\"update\"},{\"args\":[{\"visible\":[false,false,false,false,false,false,false,false,false,false,false,false,false,false,false,false,false,false,false,false,false,false,false,false,false,false,false,false,false,false,false,false,false,false,false,false,false,false,false,false,false,false,false,false,false,false,false,false,false,false,false,false,false,false,false,false,false,false,false,false,false,false,false,false,false,false,false,false,false,false,false,false,false,false,false,false,false,false,false,false,false,false,true,true,false,false,false,false,false,false]},{\"title\":\"Event: nan\",\"font\":{\"size\":10}}],\"label\":\"frame42\",\"method\":\"update\"},{\"args\":[{\"visible\":[false,false,false,false,false,false,false,false,false,false,false,false,false,false,false,false,false,false,false,false,false,false,false,false,false,false,false,false,false,false,false,false,false,false,false,false,false,false,false,false,false,false,false,false,false,false,false,false,false,false,false,false,false,false,false,false,false,false,false,false,false,false,false,false,false,false,false,false,false,false,false,false,false,false,false,false,false,false,false,false,false,false,false,false,true,true,false,false,false,false]},{\"title\":\"Event: nan\",\"font\":{\"size\":10}}],\"label\":\"frame43\",\"method\":\"update\"},{\"args\":[{\"visible\":[false,false,false,false,false,false,false,false,false,false,false,false,false,false,false,false,false,false,false,false,false,false,false,false,false,false,false,false,false,false,false,false,false,false,false,false,false,false,false,false,false,false,false,false,false,false,false,false,false,false,false,false,false,false,false,false,false,false,false,false,false,false,false,false,false,false,false,false,false,false,false,false,false,false,false,false,false,false,false,false,false,false,false,false,false,false,true,true,false,false]},{\"title\":\"Event: nan\",\"font\":{\"size\":10}}],\"label\":\"frame44\",\"method\":\"update\"},{\"args\":[{\"visible\":[false,false,false,false,false,false,false,false,false,false,false,false,false,false,false,false,false,false,false,false,false,false,false,false,false,false,false,false,false,false,false,false,false,false,false,false,false,false,false,false,false,false,false,false,false,false,false,false,false,false,false,false,false,false,false,false,false,false,false,false,false,false,false,false,false,false,false,false,false,false,false,false,false,false,false,false,false,false,false,false,false,false,false,false,false,false,false,false,true,true]},{\"title\":\"Event: nan\",\"font\":{\"size\":10}}],\"label\":\"frame45\",\"method\":\"update\"}]}],\"width\":800,\"height\":600,\"dragmode\":false},                        {\"displayModeBar\": false, \"responsive\": true}                    ).then(function(){\n",
       "                            \n",
       "var gd = document.getElementById('9bbc8430-c78b-4b92-b10f-ab1eca54fb19');\n",
       "var x = new MutationObserver(function (mutations, observer) {{\n",
       "        var display = window.getComputedStyle(gd).display;\n",
       "        if (!display || display === 'none') {{\n",
       "            console.log([gd, 'removed!']);\n",
       "            Plotly.purge(gd);\n",
       "            observer.disconnect();\n",
       "        }}\n",
       "}});\n",
       "\n",
       "// Listen for the removal of the full notebook cells\n",
       "var notebookContainer = gd.closest('#notebook-container');\n",
       "if (notebookContainer) {{\n",
       "    x.observe(notebookContainer, {childList: true});\n",
       "}}\n",
       "\n",
       "// Listen for the clearing of the current output cell\n",
       "var outputEl = gd.closest('.output');\n",
       "if (outputEl) {{\n",
       "    x.observe(outputEl, {childList: true});\n",
       "}}\n",
       "\n",
       "                        })                };                });            </script>        </div>"
      ]
     },
     "metadata": {},
     "output_type": "display_data"
    }
   ],
   "source": [
    "plot(2022100908, 2160)"
   ]
  },
  {
   "cell_type": "code",
   "execution_count": null,
   "id": "1c15b2d0",
   "metadata": {},
   "outputs": [],
   "source": []
  }
 ],
 "metadata": {
  "kernelspec": {
   "display_name": "bowl",
   "language": "python",
   "name": "bowl"
  },
  "language_info": {
   "codemirror_mode": {
    "name": "ipython",
    "version": 3
   },
   "file_extension": ".py",
   "mimetype": "text/x-python",
   "name": "python",
   "nbconvert_exporter": "python",
   "pygments_lexer": "ipython3",
   "version": "3.11.4"
  }
 },
 "nbformat": 4,
 "nbformat_minor": 5
}
