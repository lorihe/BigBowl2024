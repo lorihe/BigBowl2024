{
 "cells": [
  {
   "cell_type": "code",
   "execution_count": 3,
   "id": "e7b98bb4",
   "metadata": {},
   "outputs": [
    {
     "data": {
      "text/html": [
       "        <script type=\"text/javascript\">\n",
       "        window.PlotlyConfig = {MathJaxConfig: 'local'};\n",
       "        if (window.MathJax && window.MathJax.Hub && window.MathJax.Hub.Config) {window.MathJax.Hub.Config({SVG: {font: \"STIX-Web\"}});}\n",
       "        if (typeof require !== 'undefined') {\n",
       "        require.undef(\"plotly\");\n",
       "        requirejs.config({\n",
       "            paths: {\n",
       "                'plotly': ['https://cdn.plot.ly/plotly-2.27.0.min']\n",
       "            }\n",
       "        });\n",
       "        require(['plotly'], function(Plotly) {\n",
       "            window._Plotly = Plotly;\n",
       "        });\n",
       "        }\n",
       "        </script>\n",
       "        "
      ]
     },
     "metadata": {},
     "output_type": "display_data"
    }
   ],
   "source": [
    "import pandas as pd\n",
    "import numpy as np\n",
    "import plotly\n",
    "import plotly.graph_objects as go\n",
    "\n",
    "# Generate separated tracking data via 'data_overview' before using these local modules\n",
    "import tackle_plot\n",
    "import get_data\n",
    "\n",
    "%load_ext autoreload\n",
    "%autoreload 2\n",
    "plotly.offline.init_notebook_mode(connected=True)"
   ]
  },
  {
   "cell_type": "code",
   "execution_count": 4,
   "id": "10a36fe5",
   "metadata": {},
   "outputs": [],
   "source": [
    "def plot(gameId, playId):\n",
    "    game = get_data.game(gameId)\n",
    "    play = get_data.play(gameId, playId)\n",
    "    tracking = get_data.tracking(gameId, playId).reset_index()\n",
    "    \n",
    "    date = game['gameDate'].item()\n",
    "    tacklers = get_data.tacklers(gameId, playId)\n",
    "    carrier = play['ballCarrierId'].item()\n",
    "    offence = play['possessionTeam'].item()\n",
    "    defence = play['defensiveTeam'].item()\n",
    "    down = play['down'].item()\n",
    "    yardstogo = play['yardsToGo'].item()\n",
    "    ablos = play['absoluteYardlineNumber'].item()    \n",
    "    \n",
    "    return tackle_plot.plot(tracking, date, tacklers, carrier, offence, defence, down, yardstogo, ablos)  "
   ]
  },
  {
   "cell_type": "code",
   "execution_count": 6,
   "id": "ff091420",
   "metadata": {},
   "outputs": [
    {
     "data": {
      "application/vnd.plotly.v1+json": {
       "config": {
        "displayModeBar": false,
        "plotlyServerURL": "https://plot.ly"
       },
       "data": [
        {
         "marker": {
          "angle": -90,
          "color": "midnightblue",
          "size": 20,
          "symbol": "arrow"
         },
         "mode": "markers",
         "name": "Tackler",
         "showlegend": true,
         "type": "scatter",
         "x": [
          null
         ],
         "y": [
          null
         ]
        },
        {
         "marker": {
          "angle": -90,
          "color": "lightsteelblue",
          "size": 12,
          "symbol": "arrow"
         },
         "mode": "markers",
         "name": "Defence",
         "showlegend": true,
         "type": "scatter",
         "x": [
          null
         ],
         "y": [
          null
         ]
        },
        {
         "marker": {
          "angle": -90,
          "color": "peru",
          "size": 20,
          "symbol": "arrow"
         },
         "mode": "markers",
         "name": "Carrier",
         "showlegend": true,
         "type": "scatter",
         "x": [
          null
         ],
         "y": [
          null
         ]
        },
        {
         "marker": {
          "angle": -90,
          "color": "burlywood",
          "size": 12,
          "symbol": "arrow"
         },
         "mode": "markers",
         "name": "Offence",
         "showlegend": true,
         "type": "scatter",
         "x": [
          null
         ],
         "y": [
          null
         ]
        }
       ],
       "layout": {
        "height": 70,
        "legend": {
         "orientation": "h",
         "x": 0.5,
         "xanchor": "center",
         "y": 0,
         "yanchor": "bottom"
        },
        "plot_bgcolor": "rgba(0,0,0,0)",
        "template": {
         "data": {
          "bar": [
           {
            "error_x": {
             "color": "#2a3f5f"
            },
            "error_y": {
             "color": "#2a3f5f"
            },
            "marker": {
             "line": {
              "color": "#E5ECF6",
              "width": 0.5
             },
             "pattern": {
              "fillmode": "overlay",
              "size": 10,
              "solidity": 0.2
             }
            },
            "type": "bar"
           }
          ],
          "barpolar": [
           {
            "marker": {
             "line": {
              "color": "#E5ECF6",
              "width": 0.5
             },
             "pattern": {
              "fillmode": "overlay",
              "size": 10,
              "solidity": 0.2
             }
            },
            "type": "barpolar"
           }
          ],
          "carpet": [
           {
            "aaxis": {
             "endlinecolor": "#2a3f5f",
             "gridcolor": "white",
             "linecolor": "white",
             "minorgridcolor": "white",
             "startlinecolor": "#2a3f5f"
            },
            "baxis": {
             "endlinecolor": "#2a3f5f",
             "gridcolor": "white",
             "linecolor": "white",
             "minorgridcolor": "white",
             "startlinecolor": "#2a3f5f"
            },
            "type": "carpet"
           }
          ],
          "choropleth": [
           {
            "colorbar": {
             "outlinewidth": 0,
             "ticks": ""
            },
            "type": "choropleth"
           }
          ],
          "contour": [
           {
            "colorbar": {
             "outlinewidth": 0,
             "ticks": ""
            },
            "colorscale": [
             [
              0,
              "#0d0887"
             ],
             [
              0.1111111111111111,
              "#46039f"
             ],
             [
              0.2222222222222222,
              "#7201a8"
             ],
             [
              0.3333333333333333,
              "#9c179e"
             ],
             [
              0.4444444444444444,
              "#bd3786"
             ],
             [
              0.5555555555555556,
              "#d8576b"
             ],
             [
              0.6666666666666666,
              "#ed7953"
             ],
             [
              0.7777777777777778,
              "#fb9f3a"
             ],
             [
              0.8888888888888888,
              "#fdca26"
             ],
             [
              1,
              "#f0f921"
             ]
            ],
            "type": "contour"
           }
          ],
          "contourcarpet": [
           {
            "colorbar": {
             "outlinewidth": 0,
             "ticks": ""
            },
            "type": "contourcarpet"
           }
          ],
          "heatmap": [
           {
            "colorbar": {
             "outlinewidth": 0,
             "ticks": ""
            },
            "colorscale": [
             [
              0,
              "#0d0887"
             ],
             [
              0.1111111111111111,
              "#46039f"
             ],
             [
              0.2222222222222222,
              "#7201a8"
             ],
             [
              0.3333333333333333,
              "#9c179e"
             ],
             [
              0.4444444444444444,
              "#bd3786"
             ],
             [
              0.5555555555555556,
              "#d8576b"
             ],
             [
              0.6666666666666666,
              "#ed7953"
             ],
             [
              0.7777777777777778,
              "#fb9f3a"
             ],
             [
              0.8888888888888888,
              "#fdca26"
             ],
             [
              1,
              "#f0f921"
             ]
            ],
            "type": "heatmap"
           }
          ],
          "heatmapgl": [
           {
            "colorbar": {
             "outlinewidth": 0,
             "ticks": ""
            },
            "colorscale": [
             [
              0,
              "#0d0887"
             ],
             [
              0.1111111111111111,
              "#46039f"
             ],
             [
              0.2222222222222222,
              "#7201a8"
             ],
             [
              0.3333333333333333,
              "#9c179e"
             ],
             [
              0.4444444444444444,
              "#bd3786"
             ],
             [
              0.5555555555555556,
              "#d8576b"
             ],
             [
              0.6666666666666666,
              "#ed7953"
             ],
             [
              0.7777777777777778,
              "#fb9f3a"
             ],
             [
              0.8888888888888888,
              "#fdca26"
             ],
             [
              1,
              "#f0f921"
             ]
            ],
            "type": "heatmapgl"
           }
          ],
          "histogram": [
           {
            "marker": {
             "pattern": {
              "fillmode": "overlay",
              "size": 10,
              "solidity": 0.2
             }
            },
            "type": "histogram"
           }
          ],
          "histogram2d": [
           {
            "colorbar": {
             "outlinewidth": 0,
             "ticks": ""
            },
            "colorscale": [
             [
              0,
              "#0d0887"
             ],
             [
              0.1111111111111111,
              "#46039f"
             ],
             [
              0.2222222222222222,
              "#7201a8"
             ],
             [
              0.3333333333333333,
              "#9c179e"
             ],
             [
              0.4444444444444444,
              "#bd3786"
             ],
             [
              0.5555555555555556,
              "#d8576b"
             ],
             [
              0.6666666666666666,
              "#ed7953"
             ],
             [
              0.7777777777777778,
              "#fb9f3a"
             ],
             [
              0.8888888888888888,
              "#fdca26"
             ],
             [
              1,
              "#f0f921"
             ]
            ],
            "type": "histogram2d"
           }
          ],
          "histogram2dcontour": [
           {
            "colorbar": {
             "outlinewidth": 0,
             "ticks": ""
            },
            "colorscale": [
             [
              0,
              "#0d0887"
             ],
             [
              0.1111111111111111,
              "#46039f"
             ],
             [
              0.2222222222222222,
              "#7201a8"
             ],
             [
              0.3333333333333333,
              "#9c179e"
             ],
             [
              0.4444444444444444,
              "#bd3786"
             ],
             [
              0.5555555555555556,
              "#d8576b"
             ],
             [
              0.6666666666666666,
              "#ed7953"
             ],
             [
              0.7777777777777778,
              "#fb9f3a"
             ],
             [
              0.8888888888888888,
              "#fdca26"
             ],
             [
              1,
              "#f0f921"
             ]
            ],
            "type": "histogram2dcontour"
           }
          ],
          "mesh3d": [
           {
            "colorbar": {
             "outlinewidth": 0,
             "ticks": ""
            },
            "type": "mesh3d"
           }
          ],
          "parcoords": [
           {
            "line": {
             "colorbar": {
              "outlinewidth": 0,
              "ticks": ""
             }
            },
            "type": "parcoords"
           }
          ],
          "pie": [
           {
            "automargin": true,
            "type": "pie"
           }
          ],
          "scatter": [
           {
            "fillpattern": {
             "fillmode": "overlay",
             "size": 10,
             "solidity": 0.2
            },
            "type": "scatter"
           }
          ],
          "scatter3d": [
           {
            "line": {
             "colorbar": {
              "outlinewidth": 0,
              "ticks": ""
             }
            },
            "marker": {
             "colorbar": {
              "outlinewidth": 0,
              "ticks": ""
             }
            },
            "type": "scatter3d"
           }
          ],
          "scattercarpet": [
           {
            "marker": {
             "colorbar": {
              "outlinewidth": 0,
              "ticks": ""
             }
            },
            "type": "scattercarpet"
           }
          ],
          "scattergeo": [
           {
            "marker": {
             "colorbar": {
              "outlinewidth": 0,
              "ticks": ""
             }
            },
            "type": "scattergeo"
           }
          ],
          "scattergl": [
           {
            "marker": {
             "colorbar": {
              "outlinewidth": 0,
              "ticks": ""
             }
            },
            "type": "scattergl"
           }
          ],
          "scattermapbox": [
           {
            "marker": {
             "colorbar": {
              "outlinewidth": 0,
              "ticks": ""
             }
            },
            "type": "scattermapbox"
           }
          ],
          "scatterpolar": [
           {
            "marker": {
             "colorbar": {
              "outlinewidth": 0,
              "ticks": ""
             }
            },
            "type": "scatterpolar"
           }
          ],
          "scatterpolargl": [
           {
            "marker": {
             "colorbar": {
              "outlinewidth": 0,
              "ticks": ""
             }
            },
            "type": "scatterpolargl"
           }
          ],
          "scatterternary": [
           {
            "marker": {
             "colorbar": {
              "outlinewidth": 0,
              "ticks": ""
             }
            },
            "type": "scatterternary"
           }
          ],
          "surface": [
           {
            "colorbar": {
             "outlinewidth": 0,
             "ticks": ""
            },
            "colorscale": [
             [
              0,
              "#0d0887"
             ],
             [
              0.1111111111111111,
              "#46039f"
             ],
             [
              0.2222222222222222,
              "#7201a8"
             ],
             [
              0.3333333333333333,
              "#9c179e"
             ],
             [
              0.4444444444444444,
              "#bd3786"
             ],
             [
              0.5555555555555556,
              "#d8576b"
             ],
             [
              0.6666666666666666,
              "#ed7953"
             ],
             [
              0.7777777777777778,
              "#fb9f3a"
             ],
             [
              0.8888888888888888,
              "#fdca26"
             ],
             [
              1,
              "#f0f921"
             ]
            ],
            "type": "surface"
           }
          ],
          "table": [
           {
            "cells": {
             "fill": {
              "color": "#EBF0F8"
             },
             "line": {
              "color": "white"
             }
            },
            "header": {
             "fill": {
              "color": "#C8D4E3"
             },
             "line": {
              "color": "white"
             }
            },
            "type": "table"
           }
          ]
         },
         "layout": {
          "annotationdefaults": {
           "arrowcolor": "#2a3f5f",
           "arrowhead": 0,
           "arrowwidth": 1
          },
          "autotypenumbers": "strict",
          "coloraxis": {
           "colorbar": {
            "outlinewidth": 0,
            "ticks": ""
           }
          },
          "colorscale": {
           "diverging": [
            [
             0,
             "#8e0152"
            ],
            [
             0.1,
             "#c51b7d"
            ],
            [
             0.2,
             "#de77ae"
            ],
            [
             0.3,
             "#f1b6da"
            ],
            [
             0.4,
             "#fde0ef"
            ],
            [
             0.5,
             "#f7f7f7"
            ],
            [
             0.6,
             "#e6f5d0"
            ],
            [
             0.7,
             "#b8e186"
            ],
            [
             0.8,
             "#7fbc41"
            ],
            [
             0.9,
             "#4d9221"
            ],
            [
             1,
             "#276419"
            ]
           ],
           "sequential": [
            [
             0,
             "#0d0887"
            ],
            [
             0.1111111111111111,
             "#46039f"
            ],
            [
             0.2222222222222222,
             "#7201a8"
            ],
            [
             0.3333333333333333,
             "#9c179e"
            ],
            [
             0.4444444444444444,
             "#bd3786"
            ],
            [
             0.5555555555555556,
             "#d8576b"
            ],
            [
             0.6666666666666666,
             "#ed7953"
            ],
            [
             0.7777777777777778,
             "#fb9f3a"
            ],
            [
             0.8888888888888888,
             "#fdca26"
            ],
            [
             1,
             "#f0f921"
            ]
           ],
           "sequentialminus": [
            [
             0,
             "#0d0887"
            ],
            [
             0.1111111111111111,
             "#46039f"
            ],
            [
             0.2222222222222222,
             "#7201a8"
            ],
            [
             0.3333333333333333,
             "#9c179e"
            ],
            [
             0.4444444444444444,
             "#bd3786"
            ],
            [
             0.5555555555555556,
             "#d8576b"
            ],
            [
             0.6666666666666666,
             "#ed7953"
            ],
            [
             0.7777777777777778,
             "#fb9f3a"
            ],
            [
             0.8888888888888888,
             "#fdca26"
            ],
            [
             1,
             "#f0f921"
            ]
           ]
          },
          "colorway": [
           "#636efa",
           "#EF553B",
           "#00cc96",
           "#ab63fa",
           "#FFA15A",
           "#19d3f3",
           "#FF6692",
           "#B6E880",
           "#FF97FF",
           "#FECB52"
          ],
          "font": {
           "color": "#2a3f5f"
          },
          "geo": {
           "bgcolor": "white",
           "lakecolor": "white",
           "landcolor": "#E5ECF6",
           "showlakes": true,
           "showland": true,
           "subunitcolor": "white"
          },
          "hoverlabel": {
           "align": "left"
          },
          "hovermode": "closest",
          "mapbox": {
           "style": "light"
          },
          "paper_bgcolor": "white",
          "plot_bgcolor": "#E5ECF6",
          "polar": {
           "angularaxis": {
            "gridcolor": "white",
            "linecolor": "white",
            "ticks": ""
           },
           "bgcolor": "#E5ECF6",
           "radialaxis": {
            "gridcolor": "white",
            "linecolor": "white",
            "ticks": ""
           }
          },
          "scene": {
           "xaxis": {
            "backgroundcolor": "#E5ECF6",
            "gridcolor": "white",
            "gridwidth": 2,
            "linecolor": "white",
            "showbackground": true,
            "ticks": "",
            "zerolinecolor": "white"
           },
           "yaxis": {
            "backgroundcolor": "#E5ECF6",
            "gridcolor": "white",
            "gridwidth": 2,
            "linecolor": "white",
            "showbackground": true,
            "ticks": "",
            "zerolinecolor": "white"
           },
           "zaxis": {
            "backgroundcolor": "#E5ECF6",
            "gridcolor": "white",
            "gridwidth": 2,
            "linecolor": "white",
            "showbackground": true,
            "ticks": "",
            "zerolinecolor": "white"
           }
          },
          "shapedefaults": {
           "line": {
            "color": "#2a3f5f"
           }
          },
          "ternary": {
           "aaxis": {
            "gridcolor": "white",
            "linecolor": "white",
            "ticks": ""
           },
           "baxis": {
            "gridcolor": "white",
            "linecolor": "white",
            "ticks": ""
           },
           "bgcolor": "#E5ECF6",
           "caxis": {
            "gridcolor": "white",
            "linecolor": "white",
            "ticks": ""
           }
          },
          "title": {
           "x": 0.05
          },
          "xaxis": {
           "automargin": true,
           "gridcolor": "white",
           "linecolor": "white",
           "ticks": "",
           "title": {
            "standoff": 15
           },
           "zerolinecolor": "white",
           "zerolinewidth": 2
          },
          "yaxis": {
           "automargin": true,
           "gridcolor": "white",
           "linecolor": "white",
           "ticks": "",
           "title": {
            "standoff": 15
           },
           "zerolinecolor": "white",
           "zerolinewidth": 2
          }
         }
        },
        "title": {
         "font": {
          "size": 12
         },
         "text": "Date: 09/25/2022 | Offence: KC | Defence: IND | Down: 3 | YTG: 7",
         "x": 0.5,
         "y": 0.05,
         "yanchor": "bottom"
        },
        "width": 800,
        "xaxis": {
         "showticklabels": false
        },
        "yaxis": {
         "showticklabels": false
        }
       }
      },
      "text/html": [
       "<div>                            <div id=\"5775a9ac-e43b-46f0-bae2-4b1ea23fd409\" class=\"plotly-graph-div\" style=\"height:70px; width:800px;\"></div>            <script type=\"text/javascript\">                require([\"plotly\"], function(Plotly) {                    window.PLOTLYENV=window.PLOTLYENV || {};                                    if (document.getElementById(\"5775a9ac-e43b-46f0-bae2-4b1ea23fd409\")) {                    Plotly.newPlot(                        \"5775a9ac-e43b-46f0-bae2-4b1ea23fd409\",                        [{\"marker\":{\"angle\":-90,\"color\":\"midnightblue\",\"size\":20,\"symbol\":\"arrow\"},\"mode\":\"markers\",\"name\":\"Tackler\",\"showlegend\":true,\"x\":[null],\"y\":[null],\"type\":\"scatter\"},{\"marker\":{\"angle\":-90,\"color\":\"lightsteelblue\",\"size\":12,\"symbol\":\"arrow\"},\"mode\":\"markers\",\"name\":\"Defence\",\"showlegend\":true,\"x\":[null],\"y\":[null],\"type\":\"scatter\"},{\"marker\":{\"angle\":-90,\"color\":\"peru\",\"size\":20,\"symbol\":\"arrow\"},\"mode\":\"markers\",\"name\":\"Carrier\",\"showlegend\":true,\"x\":[null],\"y\":[null],\"type\":\"scatter\"},{\"marker\":{\"angle\":-90,\"color\":\"burlywood\",\"size\":12,\"symbol\":\"arrow\"},\"mode\":\"markers\",\"name\":\"Offence\",\"showlegend\":true,\"x\":[null],\"y\":[null],\"type\":\"scatter\"}],                        {\"template\":{\"data\":{\"histogram2dcontour\":[{\"type\":\"histogram2dcontour\",\"colorbar\":{\"outlinewidth\":0,\"ticks\":\"\"},\"colorscale\":[[0.0,\"#0d0887\"],[0.1111111111111111,\"#46039f\"],[0.2222222222222222,\"#7201a8\"],[0.3333333333333333,\"#9c179e\"],[0.4444444444444444,\"#bd3786\"],[0.5555555555555556,\"#d8576b\"],[0.6666666666666666,\"#ed7953\"],[0.7777777777777778,\"#fb9f3a\"],[0.8888888888888888,\"#fdca26\"],[1.0,\"#f0f921\"]]}],\"choropleth\":[{\"type\":\"choropleth\",\"colorbar\":{\"outlinewidth\":0,\"ticks\":\"\"}}],\"histogram2d\":[{\"type\":\"histogram2d\",\"colorbar\":{\"outlinewidth\":0,\"ticks\":\"\"},\"colorscale\":[[0.0,\"#0d0887\"],[0.1111111111111111,\"#46039f\"],[0.2222222222222222,\"#7201a8\"],[0.3333333333333333,\"#9c179e\"],[0.4444444444444444,\"#bd3786\"],[0.5555555555555556,\"#d8576b\"],[0.6666666666666666,\"#ed7953\"],[0.7777777777777778,\"#fb9f3a\"],[0.8888888888888888,\"#fdca26\"],[1.0,\"#f0f921\"]]}],\"heatmap\":[{\"type\":\"heatmap\",\"colorbar\":{\"outlinewidth\":0,\"ticks\":\"\"},\"colorscale\":[[0.0,\"#0d0887\"],[0.1111111111111111,\"#46039f\"],[0.2222222222222222,\"#7201a8\"],[0.3333333333333333,\"#9c179e\"],[0.4444444444444444,\"#bd3786\"],[0.5555555555555556,\"#d8576b\"],[0.6666666666666666,\"#ed7953\"],[0.7777777777777778,\"#fb9f3a\"],[0.8888888888888888,\"#fdca26\"],[1.0,\"#f0f921\"]]}],\"heatmapgl\":[{\"type\":\"heatmapgl\",\"colorbar\":{\"outlinewidth\":0,\"ticks\":\"\"},\"colorscale\":[[0.0,\"#0d0887\"],[0.1111111111111111,\"#46039f\"],[0.2222222222222222,\"#7201a8\"],[0.3333333333333333,\"#9c179e\"],[0.4444444444444444,\"#bd3786\"],[0.5555555555555556,\"#d8576b\"],[0.6666666666666666,\"#ed7953\"],[0.7777777777777778,\"#fb9f3a\"],[0.8888888888888888,\"#fdca26\"],[1.0,\"#f0f921\"]]}],\"contourcarpet\":[{\"type\":\"contourcarpet\",\"colorbar\":{\"outlinewidth\":0,\"ticks\":\"\"}}],\"contour\":[{\"type\":\"contour\",\"colorbar\":{\"outlinewidth\":0,\"ticks\":\"\"},\"colorscale\":[[0.0,\"#0d0887\"],[0.1111111111111111,\"#46039f\"],[0.2222222222222222,\"#7201a8\"],[0.3333333333333333,\"#9c179e\"],[0.4444444444444444,\"#bd3786\"],[0.5555555555555556,\"#d8576b\"],[0.6666666666666666,\"#ed7953\"],[0.7777777777777778,\"#fb9f3a\"],[0.8888888888888888,\"#fdca26\"],[1.0,\"#f0f921\"]]}],\"surface\":[{\"type\":\"surface\",\"colorbar\":{\"outlinewidth\":0,\"ticks\":\"\"},\"colorscale\":[[0.0,\"#0d0887\"],[0.1111111111111111,\"#46039f\"],[0.2222222222222222,\"#7201a8\"],[0.3333333333333333,\"#9c179e\"],[0.4444444444444444,\"#bd3786\"],[0.5555555555555556,\"#d8576b\"],[0.6666666666666666,\"#ed7953\"],[0.7777777777777778,\"#fb9f3a\"],[0.8888888888888888,\"#fdca26\"],[1.0,\"#f0f921\"]]}],\"mesh3d\":[{\"type\":\"mesh3d\",\"colorbar\":{\"outlinewidth\":0,\"ticks\":\"\"}}],\"scatter\":[{\"fillpattern\":{\"fillmode\":\"overlay\",\"size\":10,\"solidity\":0.2},\"type\":\"scatter\"}],\"parcoords\":[{\"type\":\"parcoords\",\"line\":{\"colorbar\":{\"outlinewidth\":0,\"ticks\":\"\"}}}],\"scatterpolargl\":[{\"type\":\"scatterpolargl\",\"marker\":{\"colorbar\":{\"outlinewidth\":0,\"ticks\":\"\"}}}],\"bar\":[{\"error_x\":{\"color\":\"#2a3f5f\"},\"error_y\":{\"color\":\"#2a3f5f\"},\"marker\":{\"line\":{\"color\":\"#E5ECF6\",\"width\":0.5},\"pattern\":{\"fillmode\":\"overlay\",\"size\":10,\"solidity\":0.2}},\"type\":\"bar\"}],\"scattergeo\":[{\"type\":\"scattergeo\",\"marker\":{\"colorbar\":{\"outlinewidth\":0,\"ticks\":\"\"}}}],\"scatterpolar\":[{\"type\":\"scatterpolar\",\"marker\":{\"colorbar\":{\"outlinewidth\":0,\"ticks\":\"\"}}}],\"histogram\":[{\"marker\":{\"pattern\":{\"fillmode\":\"overlay\",\"size\":10,\"solidity\":0.2}},\"type\":\"histogram\"}],\"scattergl\":[{\"type\":\"scattergl\",\"marker\":{\"colorbar\":{\"outlinewidth\":0,\"ticks\":\"\"}}}],\"scatter3d\":[{\"type\":\"scatter3d\",\"line\":{\"colorbar\":{\"outlinewidth\":0,\"ticks\":\"\"}},\"marker\":{\"colorbar\":{\"outlinewidth\":0,\"ticks\":\"\"}}}],\"scattermapbox\":[{\"type\":\"scattermapbox\",\"marker\":{\"colorbar\":{\"outlinewidth\":0,\"ticks\":\"\"}}}],\"scatterternary\":[{\"type\":\"scatterternary\",\"marker\":{\"colorbar\":{\"outlinewidth\":0,\"ticks\":\"\"}}}],\"scattercarpet\":[{\"type\":\"scattercarpet\",\"marker\":{\"colorbar\":{\"outlinewidth\":0,\"ticks\":\"\"}}}],\"carpet\":[{\"aaxis\":{\"endlinecolor\":\"#2a3f5f\",\"gridcolor\":\"white\",\"linecolor\":\"white\",\"minorgridcolor\":\"white\",\"startlinecolor\":\"#2a3f5f\"},\"baxis\":{\"endlinecolor\":\"#2a3f5f\",\"gridcolor\":\"white\",\"linecolor\":\"white\",\"minorgridcolor\":\"white\",\"startlinecolor\":\"#2a3f5f\"},\"type\":\"carpet\"}],\"table\":[{\"cells\":{\"fill\":{\"color\":\"#EBF0F8\"},\"line\":{\"color\":\"white\"}},\"header\":{\"fill\":{\"color\":\"#C8D4E3\"},\"line\":{\"color\":\"white\"}},\"type\":\"table\"}],\"barpolar\":[{\"marker\":{\"line\":{\"color\":\"#E5ECF6\",\"width\":0.5},\"pattern\":{\"fillmode\":\"overlay\",\"size\":10,\"solidity\":0.2}},\"type\":\"barpolar\"}],\"pie\":[{\"automargin\":true,\"type\":\"pie\"}]},\"layout\":{\"autotypenumbers\":\"strict\",\"colorway\":[\"#636efa\",\"#EF553B\",\"#00cc96\",\"#ab63fa\",\"#FFA15A\",\"#19d3f3\",\"#FF6692\",\"#B6E880\",\"#FF97FF\",\"#FECB52\"],\"font\":{\"color\":\"#2a3f5f\"},\"hovermode\":\"closest\",\"hoverlabel\":{\"align\":\"left\"},\"paper_bgcolor\":\"white\",\"plot_bgcolor\":\"#E5ECF6\",\"polar\":{\"bgcolor\":\"#E5ECF6\",\"angularaxis\":{\"gridcolor\":\"white\",\"linecolor\":\"white\",\"ticks\":\"\"},\"radialaxis\":{\"gridcolor\":\"white\",\"linecolor\":\"white\",\"ticks\":\"\"}},\"ternary\":{\"bgcolor\":\"#E5ECF6\",\"aaxis\":{\"gridcolor\":\"white\",\"linecolor\":\"white\",\"ticks\":\"\"},\"baxis\":{\"gridcolor\":\"white\",\"linecolor\":\"white\",\"ticks\":\"\"},\"caxis\":{\"gridcolor\":\"white\",\"linecolor\":\"white\",\"ticks\":\"\"}},\"coloraxis\":{\"colorbar\":{\"outlinewidth\":0,\"ticks\":\"\"}},\"colorscale\":{\"sequential\":[[0.0,\"#0d0887\"],[0.1111111111111111,\"#46039f\"],[0.2222222222222222,\"#7201a8\"],[0.3333333333333333,\"#9c179e\"],[0.4444444444444444,\"#bd3786\"],[0.5555555555555556,\"#d8576b\"],[0.6666666666666666,\"#ed7953\"],[0.7777777777777778,\"#fb9f3a\"],[0.8888888888888888,\"#fdca26\"],[1.0,\"#f0f921\"]],\"sequentialminus\":[[0.0,\"#0d0887\"],[0.1111111111111111,\"#46039f\"],[0.2222222222222222,\"#7201a8\"],[0.3333333333333333,\"#9c179e\"],[0.4444444444444444,\"#bd3786\"],[0.5555555555555556,\"#d8576b\"],[0.6666666666666666,\"#ed7953\"],[0.7777777777777778,\"#fb9f3a\"],[0.8888888888888888,\"#fdca26\"],[1.0,\"#f0f921\"]],\"diverging\":[[0,\"#8e0152\"],[0.1,\"#c51b7d\"],[0.2,\"#de77ae\"],[0.3,\"#f1b6da\"],[0.4,\"#fde0ef\"],[0.5,\"#f7f7f7\"],[0.6,\"#e6f5d0\"],[0.7,\"#b8e186\"],[0.8,\"#7fbc41\"],[0.9,\"#4d9221\"],[1,\"#276419\"]]},\"xaxis\":{\"gridcolor\":\"white\",\"linecolor\":\"white\",\"ticks\":\"\",\"title\":{\"standoff\":15},\"zerolinecolor\":\"white\",\"automargin\":true,\"zerolinewidth\":2},\"yaxis\":{\"gridcolor\":\"white\",\"linecolor\":\"white\",\"ticks\":\"\",\"title\":{\"standoff\":15},\"zerolinecolor\":\"white\",\"automargin\":true,\"zerolinewidth\":2},\"scene\":{\"xaxis\":{\"backgroundcolor\":\"#E5ECF6\",\"gridcolor\":\"white\",\"linecolor\":\"white\",\"showbackground\":true,\"ticks\":\"\",\"zerolinecolor\":\"white\",\"gridwidth\":2},\"yaxis\":{\"backgroundcolor\":\"#E5ECF6\",\"gridcolor\":\"white\",\"linecolor\":\"white\",\"showbackground\":true,\"ticks\":\"\",\"zerolinecolor\":\"white\",\"gridwidth\":2},\"zaxis\":{\"backgroundcolor\":\"#E5ECF6\",\"gridcolor\":\"white\",\"linecolor\":\"white\",\"showbackground\":true,\"ticks\":\"\",\"zerolinecolor\":\"white\",\"gridwidth\":2}},\"shapedefaults\":{\"line\":{\"color\":\"#2a3f5f\"}},\"annotationdefaults\":{\"arrowcolor\":\"#2a3f5f\",\"arrowhead\":0,\"arrowwidth\":1},\"geo\":{\"bgcolor\":\"white\",\"landcolor\":\"#E5ECF6\",\"subunitcolor\":\"white\",\"showland\":true,\"showlakes\":true,\"lakecolor\":\"white\"},\"title\":{\"x\":0.05},\"mapbox\":{\"style\":\"light\"}}},\"legend\":{\"xanchor\":\"center\",\"yanchor\":\"bottom\",\"x\":0.5,\"y\":0,\"orientation\":\"h\"},\"xaxis\":{\"showticklabels\":false},\"yaxis\":{\"showticklabels\":false},\"title\":{\"font\":{\"size\":12},\"text\":\"Date: 09\\u002f25\\u002f2022 | Offence: KC | Defence: IND | Down: 3 | YTG: 7\",\"yanchor\":\"bottom\",\"x\":0.5,\"y\":0.05},\"width\":800,\"height\":70,\"plot_bgcolor\":\"rgba(0,0,0,0)\"},                        {\"displayModeBar\": false, \"responsive\": true}                    ).then(function(){\n",
       "                            \n",
       "var gd = document.getElementById('5775a9ac-e43b-46f0-bae2-4b1ea23fd409');\n",
       "var x = new MutationObserver(function (mutations, observer) {{\n",
       "        var display = window.getComputedStyle(gd).display;\n",
       "        if (!display || display === 'none') {{\n",
       "            console.log([gd, 'removed!']);\n",
       "            Plotly.purge(gd);\n",
       "            observer.disconnect();\n",
       "        }}\n",
       "}});\n",
       "\n",
       "// Listen for the removal of the full notebook cells\n",
       "var notebookContainer = gd.closest('#notebook-container');\n",
       "if (notebookContainer) {{\n",
       "    x.observe(notebookContainer, {childList: true});\n",
       "}}\n",
       "\n",
       "// Listen for the clearing of the current output cell\n",
       "var outputEl = gd.closest('.output');\n",
       "if (outputEl) {{\n",
       "    x.observe(outputEl, {childList: true});\n",
       "}}\n",
       "\n",
       "                        })                };                });            </script>        </div>"
      ]
     },
     "metadata": {},
     "output_type": "display_data"
    },
    {
     "data": {
      "application/vnd.plotly.v1+json": {
       "config": {
        "displayModeBar": false,
        "plotlyServerURL": "https://plot.ly"
       },
       "data": [
        {
         "hovertemplate": "%{hovertext}",
         "hovertext": [
          "Stephon Gilmore",
          "Rodney McLeod",
          "Travis Kelce",
          "Jerick McKinnon",
          "DeForest Buckner",
          "Yannick Ngakoue",
          "Joe Thuney",
          "Patrick Mahomes",
          "Kenny Moore",
          "Andrew Wylie",
          "Tyquan Lewis",
          "Orlando Brown",
          "Marquez Valdes-Scantling",
          "Zaire Franklin",
          "Mecole Hardman",
          "Bobby Okereke",
          "E.J. Speed",
          "Julian Blackmon",
          "Isaiah Rodgers",
          "Creed Humphrey",
          "Trey Smith",
          "Skyy Moore"
         ],
         "marker": {
          "angle": [
           -69.81,
           -6.600000000000023,
           2.4399999999999977,
           -48.860000000000014,
           -104.69999999999999,
           -63.77999999999997,
           -126.75,
           -88.00999999999999,
           -27.910000000000082,
           -26.160000000000082,
           -46.60000000000002,
           -83.79000000000002,
           -25.690000000000055,
           -25.769999999999982,
           -98.87,
           -27.700000000000045,
           -51.72000000000003,
           -27.100000000000023,
           -6.899999999999977,
           -67.04000000000002,
           -58.06,
           -58.44999999999999
          ],
          "color": [
           "lightsteelblue",
           "lightsteelblue",
           "peru",
           "burlywood",
           "lightsteelblue",
           "lightsteelblue",
           "burlywood",
           "burlywood",
           "lightsteelblue",
           "burlywood",
           "lightsteelblue",
           "burlywood",
           "burlywood",
           "lightsteelblue",
           "burlywood",
           "midnightblue",
           "lightsteelblue",
           "lightsteelblue",
           "lightsteelblue",
           "burlywood",
           "burlywood",
           "burlywood"
          ],
          "size": [
           15,
           15,
           18,
           15,
           15,
           15,
           15,
           15,
           15,
           15,
           15,
           15,
           15,
           15,
           15,
           18,
           15,
           15,
           15,
           15,
           15,
           15
          ],
          "symbol": "arrow"
         },
         "mode": "markers",
         "showlegend": false,
         "type": "scatter",
         "visible": true,
         "x": [
          32.88,
          32.67,
          28.01,
          38.93,
          51.93,
          49.92,
          49.37,
          51.36,
          30.76,
          51.3,
          46.09,
          50.03,
          32.34,
          23.86,
          39.07,
          29.5,
          41.62,
          18.72,
          31.34,
          46.6,
          46.98,
          22.14
         ],
         "y": [
          44.29,
          36.9,
          44.06,
          20.82,
          31.96,
          26.22,
          27.59,
          29.31,
          18.32,
          30.72,
          35.78,
          28.44,
          12.94,
          30.07,
          46.89,
          42.12,
          33.02,
          33.11,
          12.6,
          30.85,
          34.34,
          30.26
         ]
        },
        {
         "marker": {
          "color": [
           "dimgrey"
          ],
          "size": 8
         },
         "mode": "markers",
         "showlegend": false,
         "type": "scatter",
         "visible": true,
         "x": [
          28.6200008392334
         ],
         "y": [
          44.0900001525879
         ]
        },
        {
         "hovertemplate": "%{hovertext}",
         "hovertext": [
          "Stephon Gilmore",
          "Rodney McLeod",
          "Travis Kelce",
          "Jerick McKinnon",
          "DeForest Buckner",
          "Yannick Ngakoue",
          "Joe Thuney",
          "Patrick Mahomes",
          "Kenny Moore",
          "Andrew Wylie",
          "Tyquan Lewis",
          "Orlando Brown",
          "Marquez Valdes-Scantling",
          "Zaire Franklin",
          "Mecole Hardman",
          "Bobby Okereke",
          "E.J. Speed",
          "Julian Blackmon",
          "Isaiah Rodgers",
          "Creed Humphrey",
          "Trey Smith",
          "Skyy Moore"
         ],
         "marker": {
          "angle": [
           -60.99000000000001,
           -9.379999999999995,
           -1.1600000000000819,
           -42.629999999999995,
           -91.26999999999998,
           -65.22000000000003,
           -118.56,
           -81.27999999999997,
           -30.129999999999995,
           -28.829999999999984,
           -56.45999999999998,
           -81.63999999999999,
           -29.920000000000016,
           -25.769999999999982,
           -99.82999999999998,
           -36,
           -51.72000000000003,
           -30.639999999999986,
           -8.670000000000073,
           -64.58999999999997,
           -59.99000000000001,
           -56.75999999999999
          ],
          "color": [
           "lightsteelblue",
           "lightsteelblue",
           "peru",
           "burlywood",
           "lightsteelblue",
           "lightsteelblue",
           "burlywood",
           "burlywood",
           "lightsteelblue",
           "burlywood",
           "lightsteelblue",
           "burlywood",
           "burlywood",
           "lightsteelblue",
           "burlywood",
           "midnightblue",
           "lightsteelblue",
           "lightsteelblue",
           "lightsteelblue",
           "burlywood",
           "burlywood",
           "burlywood"
          ],
          "size": [
           15,
           15,
           18,
           15,
           15,
           15,
           15,
           15,
           15,
           15,
           15,
           15,
           15,
           15,
           15,
           18,
           15,
           15,
           15,
           15,
           15,
           15
          ],
          "symbol": "arrow"
         },
         "mode": "markers",
         "showlegend": false,
         "type": "scatter",
         "visible": false,
         "x": [
          32.46,
          32.42,
          27.5,
          38.7,
          51.95,
          49.86,
          49.35,
          51.35,
          30.44,
          51.25,
          45.76,
          50.03,
          32.19,
          23.35,
          38.92,
          28.96,
          41.11,
          18.53,
          31.14,
          46.44,
          46.69,
          21.58
         ],
         "y": [
          44.69,
          37.3,
          44.55,
          20.8,
          32.15,
          26.14,
          27.63,
          29.33,
          18.66,
          30.78,
          36.03,
          28.49,
          13.37,
          30.72,
          47.35,
          42.66,
          33.32,
          33.79,
          13.08,
          30.94,
          34.59,
          30.9
         ]
        },
        {
         "marker": {
          "color": [
           "dimgrey"
          ],
          "size": 8
         },
         "mode": "markers",
         "showlegend": false,
         "type": "scatter",
         "visible": false,
         "x": [
          27.5400009155273
         ],
         "y": [
          44.8600006103516
         ]
        },
        {
         "hovertemplate": "%{hovertext}",
         "hovertext": [
          "Stephon Gilmore",
          "Rodney McLeod",
          "Travis Kelce",
          "Jerick McKinnon",
          "DeForest Buckner",
          "Yannick Ngakoue",
          "Joe Thuney",
          "Patrick Mahomes",
          "Kenny Moore",
          "Andrew Wylie",
          "Tyquan Lewis",
          "Orlando Brown",
          "Marquez Valdes-Scantling",
          "Zaire Franklin",
          "Mecole Hardman",
          "Bobby Okereke",
          "E.J. Speed",
          "Julian Blackmon",
          "Isaiah Rodgers",
          "Creed Humphrey",
          "Trey Smith",
          "Skyy Moore"
         ],
         "marker": {
          "angle": [
           -60.99000000000001,
           -12.269999999999982,
           -9.600000000000023,
           -46.410000000000025,
           -78.33999999999997,
           -62.52999999999997,
           -111.68,
           -79.85000000000002,
           -32.73000000000002,
           -27.660000000000082,
           -64.62,
           -80.95999999999998,
           -33.170000000000016,
           -25.769999999999982,
           -102.79000000000002,
           -33.80000000000001,
           -52.79000000000002,
           -39.04000000000002,
           -9.980000000000018,
           -59.420000000000016,
           -65.62,
           -44.51999999999998
          ],
          "color": [
           "lightsteelblue",
           "lightsteelblue",
           "peru",
           "burlywood",
           "lightsteelblue",
           "lightsteelblue",
           "burlywood",
           "burlywood",
           "lightsteelblue",
           "burlywood",
           "lightsteelblue",
           "burlywood",
           "burlywood",
           "lightsteelblue",
           "burlywood",
           "midnightblue",
           "lightsteelblue",
           "lightsteelblue",
           "lightsteelblue",
           "burlywood",
           "burlywood",
           "burlywood"
          ],
          "size": [
           15,
           15,
           18,
           15,
           15,
           15,
           15,
           15,
           15,
           15,
           15,
           15,
           15,
           15,
           15,
           18,
           15,
           15,
           15,
           15,
           15,
           15
          ],
          "symbol": "arrow"
         },
         "mode": "markers",
         "showlegend": false,
         "type": "scatter",
         "visible": false,
         "x": [
          32.01,
          32.16,
          26.97,
          38.47,
          51.98,
          49.75,
          49.3,
          51.33,
          30.1,
          51.19,
          45.4,
          50.04,
          32.02,
          22.85,
          38.76,
          28.39,
          40.59,
          18.34,
          30.93,
          46.27,
          46.37,
          21.05
         ],
         "y": [
          45.1,
          37.7,
          45.04,
          20.82,
          32.36,
          26.04,
          27.67,
          29.38,
          19.01,
          30.86,
          36.27,
          28.54,
          13.8,
          31.37,
          47.8,
          43.2,
          33.62,
          34.46,
          13.55,
          31.05,
          34.82,
          31.53
         ]
        },
        {
         "marker": {
          "color": [
           "dimgrey"
          ],
          "size": 8
         },
         "mode": "markers",
         "showlegend": false,
         "type": "scatter",
         "visible": false,
         "x": [
          26.7900009155273
         ],
         "y": [
          45.4099998474121
         ]
        },
        {
         "hovertemplate": "%{hovertext}",
         "hovertext": [
          "Stephon Gilmore",
          "Rodney McLeod",
          "Travis Kelce",
          "Jerick McKinnon",
          "DeForest Buckner",
          "Yannick Ngakoue",
          "Joe Thuney",
          "Patrick Mahomes",
          "Kenny Moore",
          "Andrew Wylie",
          "Tyquan Lewis",
          "Orlando Brown",
          "Marquez Valdes-Scantling",
          "Zaire Franklin",
          "Mecole Hardman",
          "Bobby Okereke",
          "E.J. Speed",
          "Julian Blackmon",
          "Isaiah Rodgers",
          "Creed Humphrey",
          "Trey Smith",
          "Skyy Moore"
         ],
         "marker": {
          "angle": [
           -61.99000000000001,
           -10.430000000000064,
           -6.740000000000009,
           -53.81999999999999,
           -48.85000000000002,
           -61.389999999999986,
           -101.07,
           -78,
           -36.160000000000025,
           -29.49000000000001,
           -82.5,
           -82.57,
           -30.54000000000002,
           -22.99000000000001,
           -103.88,
           -42.660000000000025,
           -54.97000000000003,
           -40.99000000000001,
           -11.899999999999977,
           -58.44999999999999,
           -71.25999999999999,
           -47.23000000000002
          ],
          "color": [
           "lightsteelblue",
           "lightsteelblue",
           "peru",
           "burlywood",
           "lightsteelblue",
           "lightsteelblue",
           "burlywood",
           "burlywood",
           "lightsteelblue",
           "burlywood",
           "lightsteelblue",
           "burlywood",
           "burlywood",
           "lightsteelblue",
           "burlywood",
           "midnightblue",
           "lightsteelblue",
           "lightsteelblue",
           "lightsteelblue",
           "burlywood",
           "burlywood",
           "burlywood"
          ],
          "size": [
           15,
           15,
           18,
           15,
           15,
           15,
           15,
           15,
           15,
           15,
           15,
           15,
           15,
           15,
           15,
           18,
           15,
           15,
           15,
           15,
           15,
           15
          ],
          "symbol": "arrow"
         },
         "mode": "markers",
         "showlegend": false,
         "type": "scatter",
         "visible": false,
         "x": [
          31.54,
          31.87,
          26.43,
          38.23,
          51.97,
          49.63,
          49.23,
          51.3,
          29.74,
          51.11,
          45.01,
          50.02,
          31.85,
          22.38,
          38.59,
          27.79,
          40.07,
          18.13,
          30.71,
          46.08,
          46.03,
          20.51
         ],
         "y": [
          45.52,
          38.09,
          45.5,
          20.87,
          32.6,
          25.95,
          27.69,
          29.44,
          19.38,
          30.95,
          36.49,
          28.6,
          14.24,
          32.03,
          48.24,
          43.69,
          33.9,
          35.16,
          14.02,
          31.15,
          35.05,
          32.18
         ]
        },
        {
         "marker": {
          "color": [
           "dimgrey"
          ],
          "size": 8
         },
         "mode": "markers",
         "showlegend": false,
         "type": "scatter",
         "visible": false,
         "x": [
          26.0900001525879
         ],
         "y": [
          45.9300003051758
         ]
        },
        {
         "hovertemplate": "%{hovertext}",
         "hovertext": [
          "Stephon Gilmore",
          "Rodney McLeod",
          "Travis Kelce",
          "Jerick McKinnon",
          "DeForest Buckner",
          "Yannick Ngakoue",
          "Joe Thuney",
          "Patrick Mahomes",
          "Kenny Moore",
          "Andrew Wylie",
          "Tyquan Lewis",
          "Orlando Brown",
          "Marquez Valdes-Scantling",
          "Zaire Franklin",
          "Mecole Hardman",
          "Bobby Okereke",
          "E.J. Speed",
          "Julian Blackmon",
          "Isaiah Rodgers",
          "Creed Humphrey",
          "Trey Smith",
          "Skyy Moore"
         ],
         "marker": {
          "angle": [
           -65.00999999999999,
           -7.289999999999964,
           -6.079999999999927,
           -52.47000000000003,
           -43.410000000000025,
           -61.389999999999986,
           -97.62,
           -78,
           -39.660000000000025,
           -32.25999999999999,
           -71.25,
           -81.33999999999997,
           -34.04000000000002,
           -22.329999999999927,
           -107.08000000000004,
           -49.50999999999999,
           -57.95999999999998,
           -42.81,
           -17.059999999999945,
           -62.06,
           -69.56,
           -65.07
          ],
          "color": [
           "lightsteelblue",
           "lightsteelblue",
           "peru",
           "burlywood",
           "lightsteelblue",
           "lightsteelblue",
           "burlywood",
           "burlywood",
           "lightsteelblue",
           "burlywood",
           "lightsteelblue",
           "burlywood",
           "burlywood",
           "lightsteelblue",
           "burlywood",
           "midnightblue",
           "lightsteelblue",
           "lightsteelblue",
           "lightsteelblue",
           "burlywood",
           "burlywood",
           "burlywood"
          ],
          "size": [
           15,
           15,
           18,
           15,
           15,
           15,
           15,
           15,
           15,
           15,
           15,
           15,
           15,
           15,
           15,
           18,
           15,
           15,
           15,
           15,
           15,
           15
          ],
          "symbol": "arrow"
         },
         "mode": "markers",
         "showlegend": false,
         "type": "scatter",
         "visible": false,
         "x": [
          31.04,
          31.53,
          25.87,
          37.97,
          51.96,
          49.47,
          49.15,
          51.25,
          29.37,
          51.02,
          44.6,
          49.97,
          31.67,
          21.91,
          38.41,
          27.15,
          39.53,
          17.91,
          30.49,
          45.88,
          45.67,
          19.96
         ],
         "y": [
          45.94,
          38.47,
          45.94,
          20.96,
          32.85,
          25.86,
          27.72,
          29.52,
          19.76,
          31.04,
          36.69,
          28.65,
          14.67,
          32.7,
          48.65,
          44.17,
          34.17,
          35.86,
          14.48,
          31.27,
          35.27,
          32.83
         ]
        },
        {
         "marker": {
          "color": [
           "dimgrey"
          ],
          "size": 8
         },
         "mode": "markers",
         "showlegend": false,
         "type": "scatter",
         "visible": false,
         "x": [
          25.3899993896484
         ],
         "y": [
          46.439998626709
         ]
        },
        {
         "hovertemplate": "%{hovertext}",
         "hovertext": [
          "Stephon Gilmore",
          "Rodney McLeod",
          "Travis Kelce",
          "Jerick McKinnon",
          "DeForest Buckner",
          "Yannick Ngakoue",
          "Joe Thuney",
          "Patrick Mahomes",
          "Kenny Moore",
          "Andrew Wylie",
          "Tyquan Lewis",
          "Orlando Brown",
          "Marquez Valdes-Scantling",
          "Zaire Franklin",
          "Mecole Hardman",
          "Bobby Okereke",
          "E.J. Speed",
          "Julian Blackmon",
          "Isaiah Rodgers",
          "Creed Humphrey",
          "Trey Smith",
          "Skyy Moore"
         ],
         "marker": {
          "angle": [
           -69.24000000000001,
           -4.210000000000036,
           -13.149999999999977,
           -52.47000000000003,
           -43.99000000000001,
           -61.389999999999986,
           -92.93,
           -74.29000000000002,
           -42.47000000000003,
           -37.69,
           -72.75,
           -77.56,
           -37.64999999999998,
           -17.850000000000023,
           -116.78999999999996,
           -59.49000000000001,
           -62.85000000000002,
           -43.98000000000002,
           -19.75,
           -67.23000000000002,
           -82.79000000000002,
           -69.44
          ],
          "color": [
           "lightsteelblue",
           "lightsteelblue",
           "peru",
           "burlywood",
           "lightsteelblue",
           "lightsteelblue",
           "burlywood",
           "burlywood",
           "lightsteelblue",
           "burlywood",
           "lightsteelblue",
           "burlywood",
           "burlywood",
           "lightsteelblue",
           "burlywood",
           "midnightblue",
           "lightsteelblue",
           "lightsteelblue",
           "lightsteelblue",
           "burlywood",
           "burlywood",
           "burlywood"
          ],
          "size": [
           15,
           15,
           18,
           15,
           15,
           15,
           15,
           15,
           15,
           15,
           15,
           15,
           15,
           15,
           15,
           18,
           15,
           15,
           15,
           15,
           15,
           15
          ],
          "symbol": "arrow"
         },
         "mode": "markers",
         "showlegend": false,
         "type": "scatter",
         "visible": false,
         "x": [
          30.53,
          31.11,
          25.29,
          37.7,
          51.92,
          49.3,
          49.05,
          51.19,
          28.97,
          50.91,
          44.17,
          49.9,
          31.48,
          21.46,
          38.21,
          26.49,
          38.99,
          17.67,
          30.25,
          45.64,
          45.29,
          19.42
         ],
         "y": [
          46.35,
          38.86,
          46.37,
          21.08,
          33.12,
          25.76,
          27.73,
          29.6,
          20.14,
          31.15,
          36.87,
          28.7,
          15.1,
          33.38,
          49.06,
          44.63,
          34.43,
          36.58,
          14.94,
          31.41,
          35.49,
          33.47
         ]
        },
        {
         "marker": {
          "color": [
           "dimgrey"
          ],
          "size": 8
         },
         "mode": "markers",
         "showlegend": false,
         "type": "scatter",
         "visible": false,
         "x": [
          24.7099990844727
         ],
         "y": [
          46.9300003051758
         ]
        },
        {
         "hovertemplate": "%{hovertext}",
         "hovertext": [
          "Stephon Gilmore",
          "Rodney McLeod",
          "Travis Kelce",
          "Jerick McKinnon",
          "DeForest Buckner",
          "Yannick Ngakoue",
          "Joe Thuney",
          "Patrick Mahomes",
          "Kenny Moore",
          "Andrew Wylie",
          "Tyquan Lewis",
          "Orlando Brown",
          "Marquez Valdes-Scantling",
          "Zaire Franklin",
          "Mecole Hardman",
          "Bobby Okereke",
          "E.J. Speed",
          "Julian Blackmon",
          "Isaiah Rodgers",
          "Creed Humphrey",
          "Trey Smith",
          "Skyy Moore"
         ],
         "marker": {
          "angle": [
           -73.02999999999997,
           -1.1399999999999864,
           -15.720000000000027,
           -57.02999999999997,
           -46.339999999999975,
           -58.610000000000014,
           -86.61000000000001,
           -74.29000000000002,
           -37.379999999999995,
           -40.22000000000003,
           -80.49000000000001,
           -75.16000000000003,
           -41.23000000000002,
           -17.850000000000023,
           -117.88,
           -61.19,
           -61.160000000000025,
           -50.00999999999999,
           -18.799999999999955,
           -64.75999999999999,
           -87.17000000000002,
           -63.170000000000016
          ],
          "color": [
           "lightsteelblue",
           "lightsteelblue",
           "peru",
           "burlywood",
           "lightsteelblue",
           "lightsteelblue",
           "burlywood",
           "burlywood",
           "lightsteelblue",
           "burlywood",
           "lightsteelblue",
           "burlywood",
           "burlywood",
           "lightsteelblue",
           "burlywood",
           "midnightblue",
           "lightsteelblue",
           "lightsteelblue",
           "lightsteelblue",
           "burlywood",
           "burlywood",
           "burlywood"
          ],
          "size": [
           15,
           15,
           18,
           15,
           15,
           15,
           15,
           15,
           15,
           15,
           15,
           15,
           15,
           15,
           15,
           18,
           15,
           15,
           15,
           15,
           15,
           15
          ],
          "symbol": "arrow"
         },
         "mode": "markers",
         "showlegend": false,
         "type": "scatter",
         "visible": false,
         "x": [
          30,
          30.69,
          24.67,
          37.41,
          51.87,
          49.1,
          48.93,
          51.12,
          28.55,
          50.79,
          43.72,
          49.82,
          31.28,
          21.02,
          38,
          25.81,
          38.46,
          17.41,
          30.02,
          45.39,
          44.91,
          18.88
         ],
         "y": [
          46.76,
          39.24,
          46.79,
          21.23,
          33.41,
          25.68,
          27.74,
          29.69,
          20.52,
          31.25,
          37.03,
          28.75,
          15.54,
          34.06,
          49.44,
          45.08,
          34.7,
          37.3,
          15.4,
          31.55,
          35.7,
          34.1
         ]
        },
        {
         "marker": {
          "color": [
           "dimgrey"
          ],
          "size": 8
         },
         "mode": "markers",
         "showlegend": false,
         "type": "scatter",
         "visible": false,
         "x": [
          24.0699996948242
         ],
         "y": [
          47.3800010681152
         ]
        },
        {
         "hovertemplate": "%{hovertext}",
         "hovertext": [
          "Stephon Gilmore",
          "Rodney McLeod",
          "Travis Kelce",
          "Jerick McKinnon",
          "DeForest Buckner",
          "Yannick Ngakoue",
          "Joe Thuney",
          "Patrick Mahomes",
          "Kenny Moore",
          "Andrew Wylie",
          "Tyquan Lewis",
          "Orlando Brown",
          "Marquez Valdes-Scantling",
          "Zaire Franklin",
          "Mecole Hardman",
          "Bobby Okereke",
          "E.J. Speed",
          "Julian Blackmon",
          "Isaiah Rodgers",
          "Creed Humphrey",
          "Trey Smith",
          "Skyy Moore"
         ],
         "marker": {
          "angle": [
           -78.79000000000002,
           -0.38999999999998636,
           -9.519999999999982,
           -62.44,
           -39.01999999999998,
           -62.18000000000001,
           -83.22000000000003,
           -74.29000000000002,
           -36.35000000000002,
           -43.55000000000001,
           -93.35000000000002,
           -74.02999999999997,
           -39.24000000000001,
           -22.680000000000064,
           -119.5,
           -55,
           -52.75999999999999,
           -46.47000000000003,
           -21.450000000000045,
           -64.75999999999999,
           -87.17000000000002,
           -84.80000000000001
          ],
          "color": [
           "lightsteelblue",
           "lightsteelblue",
           "peru",
           "burlywood",
           "lightsteelblue",
           "lightsteelblue",
           "burlywood",
           "burlywood",
           "lightsteelblue",
           "burlywood",
           "lightsteelblue",
           "burlywood",
           "burlywood",
           "lightsteelblue",
           "burlywood",
           "midnightblue",
           "lightsteelblue",
           "lightsteelblue",
           "lightsteelblue",
           "burlywood",
           "burlywood",
           "burlywood"
          ],
          "size": [
           15,
           15,
           18,
           15,
           15,
           15,
           15,
           15,
           15,
           15,
           15,
           15,
           15,
           15,
           15,
           18,
           15,
           15,
           15,
           15,
           15,
           15
          ],
          "symbol": "arrow"
         },
         "mode": "markers",
         "showlegend": false,
         "type": "scatter",
         "visible": false,
         "x": [
          29.45,
          30.24,
          24.03,
          37.09,
          51.77,
          48.88,
          48.8,
          51.04,
          28.11,
          50.66,
          43.25,
          49.71,
          31.06,
          20.6,
          37.78,
          25.11,
          37.92,
          17.14,
          29.77,
          45.11,
          44.51,
          18.33
         ],
         "y": [
          47.16,
          39.62,
          47.17,
          21.41,
          33.71,
          25.61,
          27.76,
          29.79,
          20.89,
          31.35,
          37.16,
          28.79,
          15.97,
          34.74,
          49.79,
          45.52,
          34.96,
          38.04,
          15.85,
          31.7,
          35.91,
          34.76
         ]
        },
        {
         "marker": {
          "color": [
           "dimgrey"
          ],
          "size": 8
         },
         "mode": "markers",
         "showlegend": false,
         "type": "scatter",
         "visible": false,
         "x": [
          23.5699996948242
         ],
         "y": [
          47.7400016784668
         ]
        },
        {
         "hovertemplate": "%{hovertext}",
         "hovertext": [
          "Stephon Gilmore",
          "Rodney McLeod",
          "Travis Kelce",
          "Jerick McKinnon",
          "DeForest Buckner",
          "Yannick Ngakoue",
          "Joe Thuney",
          "Patrick Mahomes",
          "Kenny Moore",
          "Andrew Wylie",
          "Tyquan Lewis",
          "Orlando Brown",
          "Marquez Valdes-Scantling",
          "Zaire Franklin",
          "Mecole Hardman",
          "Bobby Okereke",
          "E.J. Speed",
          "Julian Blackmon",
          "Isaiah Rodgers",
          "Creed Humphrey",
          "Trey Smith",
          "Skyy Moore"
         ],
         "marker": {
          "angle": [
           -80.93,
           -4.539999999999964,
           -19.160000000000082,
           -62.44,
           -31.55000000000001,
           -64.06,
           -82.18,
           -74.29000000000002,
           -38.02999999999997,
           -46.06999999999999,
           -87.47000000000003,
           -71.76999999999998,
           -40.889999999999986,
           -28.79000000000002,
           -119.5,
           -52.02999999999997,
           -49.94999999999999,
           -39.98000000000002,
           -24.460000000000036,
           -68.27999999999997,
           -86.43,
           -96.10000000000002
          ],
          "color": [
           "lightsteelblue",
           "lightsteelblue",
           "peru",
           "burlywood",
           "lightsteelblue",
           "lightsteelblue",
           "burlywood",
           "burlywood",
           "lightsteelblue",
           "burlywood",
           "lightsteelblue",
           "burlywood",
           "burlywood",
           "lightsteelblue",
           "burlywood",
           "midnightblue",
           "lightsteelblue",
           "lightsteelblue",
           "lightsteelblue",
           "burlywood",
           "burlywood",
           "burlywood"
          ],
          "size": [
           15,
           15,
           18,
           15,
           15,
           15,
           15,
           15,
           15,
           15,
           15,
           15,
           15,
           15,
           15,
           18,
           15,
           15,
           15,
           15,
           15,
           15
          ],
          "symbol": "arrow"
         },
         "mode": "markers",
         "showlegend": false,
         "type": "scatter",
         "visible": false,
         "x": [
          28.88,
          29.75,
          23.34,
          36.75,
          51.65,
          48.67,
          48.66,
          50.94,
          27.66,
          50.53,
          42.76,
          49.59,
          30.84,
          20.19,
          37.55,
          24.36,
          37.39,
          16.86,
          29.52,
          44.81,
          44.13,
          17.78
         ],
         "y": [
          47.55,
          40.01,
          47.52,
          21.6,
          34.03,
          25.55,
          27.77,
          29.9,
          21.28,
          31.46,
          37.28,
          28.83,
          16.4,
          35.41,
          50.13,
          45.97,
          35.23,
          38.8,
          16.3,
          31.85,
          36.11,
          35.42
         ]
        },
        {
         "marker": {
          "color": [
           "dimgrey"
          ],
          "size": 8
         },
         "mode": "markers",
         "showlegend": false,
         "type": "scatter",
         "visible": false,
         "x": [
          23.1299991607666
         ],
         "y": [
          48.060001373291
         ]
        },
        {
         "hovertemplate": "%{hovertext}",
         "hovertext": [
          "Stephon Gilmore",
          "Rodney McLeod",
          "Travis Kelce",
          "Jerick McKinnon",
          "DeForest Buckner",
          "Yannick Ngakoue",
          "Joe Thuney",
          "Patrick Mahomes",
          "Kenny Moore",
          "Andrew Wylie",
          "Tyquan Lewis",
          "Orlando Brown",
          "Marquez Valdes-Scantling",
          "Zaire Franklin",
          "Mecole Hardman",
          "Bobby Okereke",
          "E.J. Speed",
          "Julian Blackmon",
          "Isaiah Rodgers",
          "Creed Humphrey",
          "Trey Smith",
          "Skyy Moore"
         ],
         "marker": {
          "angle": [
           -83.27999999999997,
           -15.569999999999936,
           -35.43000000000001,
           -59.22000000000003,
           -21.360000000000014,
           -64.06,
           -80.45999999999998,
           -74.29000000000002,
           -42.339999999999975,
           -48.55000000000001,
           -85.18,
           -67.11000000000001,
           -38.01999999999998,
           -35.379999999999995,
           -117.89999999999998,
           -61.97000000000003,
           -54.31999999999999,
           -40.660000000000025,
           -25.930000000000064,
           -68.27999999999997,
           -90.79000000000002,
           -96.10000000000002
          ],
          "color": [
           "lightsteelblue",
           "lightsteelblue",
           "peru",
           "burlywood",
           "lightsteelblue",
           "lightsteelblue",
           "burlywood",
           "burlywood",
           "lightsteelblue",
           "burlywood",
           "lightsteelblue",
           "burlywood",
           "burlywood",
           "lightsteelblue",
           "burlywood",
           "midnightblue",
           "lightsteelblue",
           "lightsteelblue",
           "lightsteelblue",
           "burlywood",
           "burlywood",
           "burlywood"
          ],
          "size": [
           15,
           15,
           18,
           15,
           15,
           15,
           15,
           15,
           15,
           15,
           15,
           15,
           15,
           15,
           15,
           18,
           15,
           15,
           15,
           15,
           15,
           15
          ],
          "symbol": "arrow"
         },
         "mode": "markers",
         "showlegend": false,
         "type": "scatter",
         "visible": false,
         "x": [
          28.3,
          29.24,
          22.62,
          36.39,
          51.52,
          48.44,
          48.52,
          50.84,
          27.18,
          50.38,
          42.26,
          49.46,
          30.61,
          19.79,
          37.29,
          23.57,
          36.85,
          16.56,
          29.27,
          44.5,
          43.71,
          17.21
         ],
         "y": [
          47.93,
          40.4,
          47.84,
          21.82,
          34.34,
          25.49,
          27.78,
          30.01,
          21.66,
          31.56,
          37.37,
          28.86,
          16.83,
          36.09,
          50.44,
          46.41,
          35.48,
          39.57,
          16.74,
          32.01,
          36.32,
          36.07
         ]
        },
        {
         "marker": {
          "color": [
           "dimgrey"
          ],
          "size": 8
         },
         "mode": "markers",
         "showlegend": false,
         "type": "scatter",
         "visible": false,
         "x": [
          22.5100002288818
         ],
         "y": [
          48.3899993896484
         ]
        },
        {
         "hovertemplate": "%{hovertext}",
         "hovertext": [
          "Stephon Gilmore",
          "Rodney McLeod",
          "Travis Kelce",
          "Jerick McKinnon",
          "DeForest Buckner",
          "Yannick Ngakoue",
          "Joe Thuney",
          "Patrick Mahomes",
          "Kenny Moore",
          "Andrew Wylie",
          "Tyquan Lewis",
          "Orlando Brown",
          "Marquez Valdes-Scantling",
          "Zaire Franklin",
          "Mecole Hardman",
          "Bobby Okereke",
          "E.J. Speed",
          "Julian Blackmon",
          "Isaiah Rodgers",
          "Creed Humphrey",
          "Trey Smith",
          "Skyy Moore"
         ],
         "marker": {
          "angle": [
           -84.24000000000001,
           -25.220000000000027,
           -54.35000000000002,
           -59.22000000000003,
           -13.269999999999982,
           -64.06,
           -78.24000000000001,
           -73.63999999999999,
           -42.339999999999975,
           -53.00999999999999,
           -90.61000000000001,
           -67.75,
           -33.110000000000014,
           -35.379999999999995,
           -114.25999999999999,
           -58.410000000000025,
           -55.389999999999986,
           -40.660000000000025,
           -27.460000000000036,
           -66.32999999999998,
           -93.07999999999998,
           -93.13999999999999
          ],
          "color": [
           "lightsteelblue",
           "lightsteelblue",
           "peru",
           "burlywood",
           "lightsteelblue",
           "lightsteelblue",
           "burlywood",
           "burlywood",
           "lightsteelblue",
           "burlywood",
           "lightsteelblue",
           "burlywood",
           "burlywood",
           "lightsteelblue",
           "burlywood",
           "midnightblue",
           "lightsteelblue",
           "lightsteelblue",
           "lightsteelblue",
           "burlywood",
           "burlywood",
           "burlywood"
          ],
          "size": [
           15,
           15,
           18,
           15,
           15,
           15,
           15,
           15,
           15,
           15,
           15,
           15,
           15,
           15,
           15,
           18,
           15,
           15,
           15,
           15,
           15,
           15
          ],
          "symbol": "arrow"
         },
         "mode": "markers",
         "showlegend": false,
         "type": "scatter",
         "visible": false,
         "x": [
          27.71,
          28.7,
          21.89,
          36.01,
          51.35,
          48.21,
          48.36,
          50.72,
          26.69,
          50.23,
          41.74,
          49.31,
          30.38,
          19.4,
          37.02,
          22.77,
          36.3,
          16.26,
          29.01,
          44.17,
          43.31,
          16.66
         ],
         "y": [
          48.29,
          40.78,
          48.12,
          22.04,
          34.68,
          25.45,
          27.79,
          30.12,
          22.03,
          31.67,
          37.45,
          28.89,
          17.25,
          36.76,
          50.72,
          46.83,
          35.73,
          40.36,
          17.18,
          32.17,
          36.51,
          36.71
         ]
        },
        {
         "marker": {
          "color": [
           "dimgrey"
          ],
          "size": 8
         },
         "mode": "markers",
         "showlegend": false,
         "type": "scatter",
         "visible": false,
         "x": [
          22.0799999237061
         ],
         "y": [
          48.6599998474121
         ]
        },
        {
         "hovertemplate": "%{hovertext}",
         "hovertext": [
          "Stephon Gilmore",
          "Rodney McLeod",
          "Travis Kelce",
          "Jerick McKinnon",
          "DeForest Buckner",
          "Yannick Ngakoue",
          "Joe Thuney",
          "Patrick Mahomes",
          "Kenny Moore",
          "Andrew Wylie",
          "Tyquan Lewis",
          "Orlando Brown",
          "Marquez Valdes-Scantling",
          "Zaire Franklin",
          "Mecole Hardman",
          "Bobby Okereke",
          "E.J. Speed",
          "Julian Blackmon",
          "Isaiah Rodgers",
          "Creed Humphrey",
          "Trey Smith",
          "Skyy Moore"
         ],
         "marker": {
          "angle": [
           -89.64999999999998,
           -30.060000000000002,
           -72.77999999999997,
           -62.97000000000003,
           -9.819999999999936,
           -62.75999999999999,
           -78.24000000000001,
           -74.52999999999997,
           -42.339999999999975,
           -53.00999999999999,
           -89.38,
           -65.60000000000002,
           -30.670000000000016,
           -39,
           -115.47000000000003,
           -56.29000000000002,
           -51.339999999999975,
           -36.339999999999975,
           -31.620000000000005,
           -61.95999999999998,
           -87.50999999999999,
           -93.88999999999999
          ],
          "color": [
           "lightsteelblue",
           "lightsteelblue",
           "peru",
           "burlywood",
           "lightsteelblue",
           "lightsteelblue",
           "burlywood",
           "burlywood",
           "lightsteelblue",
           "burlywood",
           "lightsteelblue",
           "burlywood",
           "burlywood",
           "lightsteelblue",
           "burlywood",
           "midnightblue",
           "lightsteelblue",
           "lightsteelblue",
           "lightsteelblue",
           "burlywood",
           "burlywood",
           "burlywood"
          ],
          "size": [
           15,
           15,
           18,
           15,
           15,
           15,
           15,
           15,
           15,
           15,
           15,
           15,
           15,
           15,
           15,
           18,
           15,
           15,
           15,
           15,
           15,
           15
          ],
          "symbol": "arrow"
         },
         "mode": "markers",
         "showlegend": false,
         "type": "scatter",
         "visible": false,
         "x": [
          27.1,
          28.14,
          21.12,
          35.61,
          51.16,
          47.97,
          48.19,
          50.59,
          26.19,
          50.07,
          41.22,
          49.16,
          30.14,
          19,
          36.74,
          21.96,
          35.76,
          15.95,
          28.74,
          43.84,
          42.86,
          16.1
         ],
         "y": [
          48.63,
          41.16,
          48.36,
          22.28,
          35.01,
          25.41,
          27.8,
          30.23,
          22.4,
          31.77,
          37.5,
          28.92,
          17.68,
          37.41,
          50.98,
          47.25,
          35.98,
          41.16,
          17.61,
          32.33,
          36.69,
          37.35
         ]
        },
        {
         "marker": {
          "color": [
           "dimgrey"
          ],
          "size": 8
         },
         "mode": "markers",
         "showlegend": false,
         "type": "scatter",
         "visible": false,
         "x": [
          21.0400009155273
         ],
         "y": [
          48.9700012207031
         ]
        },
        {
         "hovertemplate": "%{hovertext}",
         "hovertext": [
          "Stephon Gilmore",
          "Rodney McLeod",
          "Travis Kelce",
          "Jerick McKinnon",
          "DeForest Buckner",
          "Yannick Ngakoue",
          "Joe Thuney",
          "Patrick Mahomes",
          "Kenny Moore",
          "Andrew Wylie",
          "Tyquan Lewis",
          "Orlando Brown",
          "Marquez Valdes-Scantling",
          "Zaire Franklin",
          "Mecole Hardman",
          "Bobby Okereke",
          "E.J. Speed",
          "Julian Blackmon",
          "Isaiah Rodgers",
          "Creed Humphrey",
          "Trey Smith",
          "Skyy Moore"
         ],
         "marker": {
          "angle": [
           -89.64999999999998,
           -30.060000000000002,
           -87.42000000000002,
           -60.85000000000002,
           -7.6200000000000045,
           -62.75999999999999,
           -79.32999999999998,
           -76.76999999999998,
           -44.579999999999984,
           -55.75,
           -79.49000000000001,
           -64.35000000000002,
           -30.670000000000016,
           -49.68000000000001,
           -116.39999999999998,
           -57.18000000000001,
           -53.69999999999999,
           -29.25999999999999,
           -36.99000000000001,
           -68.35000000000002,
           -84.18,
           -89.86000000000001
          ],
          "color": [
           "lightsteelblue",
           "lightsteelblue",
           "peru",
           "burlywood",
           "lightsteelblue",
           "lightsteelblue",
           "burlywood",
           "burlywood",
           "lightsteelblue",
           "burlywood",
           "lightsteelblue",
           "burlywood",
           "burlywood",
           "lightsteelblue",
           "burlywood",
           "midnightblue",
           "lightsteelblue",
           "lightsteelblue",
           "lightsteelblue",
           "burlywood",
           "burlywood",
           "burlywood"
          ],
          "size": [
           15,
           15,
           18,
           15,
           15,
           15,
           15,
           15,
           15,
           15,
           15,
           15,
           15,
           15,
           15,
           18,
           15,
           15,
           15,
           15,
           15,
           15
          ],
          "symbol": "arrow"
         },
         "mode": "markers",
         "showlegend": false,
         "type": "scatter",
         "visible": false,
         "x": [
          26.49,
          27.58,
          20.31,
          35.19,
          50.97,
          47.73,
          48.02,
          50.45,
          25.67,
          49.91,
          40.7,
          49.02,
          29.89,
          18.6,
          36.45,
          21.14,
          35.21,
          15.64,
          28.48,
          43.49,
          42.42,
          15.55
         ],
         "y": [
          48.97,
          41.54,
          48.58,
          22.54,
          35.33,
          25.37,
          27.81,
          30.34,
          22.77,
          31.87,
          37.55,
          28.94,
          18.1,
          38.07,
          51.23,
          47.66,
          36.22,
          41.96,
          18.02,
          32.48,
          36.87,
          37.99
         ]
        },
        {
         "marker": {
          "color": [
           "dimgrey"
          ],
          "size": 8
         },
         "mode": "markers",
         "showlegend": false,
         "type": "scatter",
         "visible": false,
         "x": [
          20.2900009155273
         ],
         "y": [
          49.1800003051758
         ]
        },
        {
         "hovertemplate": "%{hovertext}",
         "hovertext": [
          "Stephon Gilmore",
          "Rodney McLeod",
          "Travis Kelce",
          "Jerick McKinnon",
          "DeForest Buckner",
          "Yannick Ngakoue",
          "Joe Thuney",
          "Patrick Mahomes",
          "Kenny Moore",
          "Andrew Wylie",
          "Tyquan Lewis",
          "Orlando Brown",
          "Marquez Valdes-Scantling",
          "Zaire Franklin",
          "Mecole Hardman",
          "Bobby Okereke",
          "E.J. Speed",
          "Julian Blackmon",
          "Isaiah Rodgers",
          "Creed Humphrey",
          "Trey Smith",
          "Skyy Moore"
         ],
         "marker": {
          "angle": [
           -89.64999999999998,
           -35.81999999999999,
           -88.50999999999999,
           -59.48000000000002,
           -10.389999999999986,
           -62.75999999999999,
           -78.64999999999998,
           -79.69,
           -46.72000000000003,
           -62.48000000000002,
           -78.49000000000001,
           -64.35000000000002,
           -33.129999999999995,
           -52.26999999999998,
           -113.06,
           -59.79000000000002,
           -57.73000000000002,
           -37.97000000000003,
           -40.75,
           -65.92000000000002,
           -86.89999999999998,
           -82.05000000000001
          ],
          "color": [
           "lightsteelblue",
           "lightsteelblue",
           "peru",
           "burlywood",
           "lightsteelblue",
           "lightsteelblue",
           "burlywood",
           "burlywood",
           "lightsteelblue",
           "burlywood",
           "lightsteelblue",
           "burlywood",
           "burlywood",
           "lightsteelblue",
           "burlywood",
           "midnightblue",
           "lightsteelblue",
           "lightsteelblue",
           "lightsteelblue",
           "burlywood",
           "burlywood",
           "burlywood"
          ],
          "size": [
           15,
           15,
           18,
           15,
           15,
           15,
           15,
           15,
           15,
           15,
           15,
           15,
           15,
           15,
           15,
           18,
           15,
           15,
           15,
           15,
           15,
           15
          ],
          "symbol": "arrow"
         },
         "mode": "markers",
         "showlegend": false,
         "type": "scatter",
         "visible": false,
         "x": [
          25.89,
          26.99,
          19.48,
          34.76,
          50.77,
          47.48,
          47.84,
          50.3,
          25.15,
          49.74,
          40.17,
          48.86,
          29.64,
          18.2,
          36.13,
          20.3,
          34.68,
          15.31,
          28.22,
          43.14,
          41.97,
          15
         ],
         "y": [
          49.29,
          41.9,
          48.76,
          22.8,
          35.65,
          25.35,
          27.82,
          30.45,
          23.14,
          31.97,
          37.57,
          28.97,
          18.51,
          38.71,
          51.46,
          48.04,
          36.47,
          42.77,
          18.43,
          32.63,
          37.04,
          38.63
         ]
        },
        {
         "marker": {
          "color": [
           "dimgrey"
          ],
          "size": 8
         },
         "mode": "markers",
         "showlegend": false,
         "type": "scatter",
         "visible": false,
         "x": [
          19.5100002288818
         ],
         "y": [
          49.3300018310547
         ]
        },
        {
         "hovertemplate": "%{hovertext}",
         "hovertext": [
          "Stephon Gilmore",
          "Rodney McLeod",
          "Travis Kelce",
          "Jerick McKinnon",
          "DeForest Buckner",
          "Yannick Ngakoue",
          "Joe Thuney",
          "Patrick Mahomes",
          "Kenny Moore",
          "Andrew Wylie",
          "Tyquan Lewis",
          "Orlando Brown",
          "Marquez Valdes-Scantling",
          "Zaire Franklin",
          "Mecole Hardman",
          "Bobby Okereke",
          "E.J. Speed",
          "Julian Blackmon",
          "Isaiah Rodgers",
          "Creed Humphrey",
          "Trey Smith",
          "Skyy Moore"
         ],
         "marker": {
          "angle": [
           -90.99000000000001,
           -44.76999999999998,
           -93.22000000000003,
           -57.69999999999999,
           -20.720000000000027,
           -61.45999999999998,
           -77.92000000000002,
           -79.69,
           -45.339999999999975,
           -65.88999999999999,
           -86.13,
           -66.85000000000002,
           -37.04000000000002,
           -62.45999999999998,
           -110.81,
           -69.63,
           -61.02999999999997,
           -55.60000000000002,
           -41.54000000000002,
           -67.98000000000002,
           -86.89999999999998,
           -79.23000000000002
          ],
          "color": [
           "lightsteelblue",
           "lightsteelblue",
           "peru",
           "burlywood",
           "lightsteelblue",
           "lightsteelblue",
           "burlywood",
           "burlywood",
           "lightsteelblue",
           "burlywood",
           "lightsteelblue",
           "burlywood",
           "burlywood",
           "lightsteelblue",
           "burlywood",
           "midnightblue",
           "lightsteelblue",
           "lightsteelblue",
           "lightsteelblue",
           "burlywood",
           "burlywood",
           "burlywood"
          ],
          "size": [
           15,
           15,
           18,
           15,
           15,
           15,
           15,
           15,
           15,
           15,
           15,
           15,
           15,
           15,
           15,
           18,
           15,
           15,
           15,
           15,
           15,
           15
          ],
          "symbol": "arrow"
         },
         "mode": "markers",
         "showlegend": false,
         "type": "scatter",
         "visible": false,
         "x": [
          25.29,
          26.38,
          18.64,
          34.32,
          50.55,
          47.22,
          47.67,
          50.14,
          24.64,
          49.57,
          39.63,
          48.69,
          29.39,
          17.79,
          35.81,
          19.42,
          34.15,
          14.99,
          27.96,
          42.78,
          41.51,
          14.45
         ],
         "y": [
          49.59,
          42.25,
          48.93,
          23.06,
          35.98,
          25.32,
          27.83,
          30.56,
          23.52,
          32.07,
          37.59,
          28.99,
          18.93,
          39.35,
          51.66,
          48.39,
          36.73,
          43.56,
          18.84,
          32.8,
          37.22,
          39.26
         ]
        },
        {
         "marker": {
          "color": [
           "dimgrey"
          ],
          "size": 8
         },
         "mode": "markers",
         "showlegend": false,
         "type": "scatter",
         "visible": false,
         "x": [
          18.5699996948242
         ],
         "y": [
          49.3899993896484
         ]
        },
        {
         "hovertemplate": "%{hovertext}",
         "hovertext": [
          "Stephon Gilmore",
          "Rodney McLeod",
          "Travis Kelce",
          "Jerick McKinnon",
          "DeForest Buckner",
          "Yannick Ngakoue",
          "Joe Thuney",
          "Patrick Mahomes",
          "Kenny Moore",
          "Andrew Wylie",
          "Tyquan Lewis",
          "Orlando Brown",
          "Marquez Valdes-Scantling",
          "Zaire Franklin",
          "Mecole Hardman",
          "Bobby Okereke",
          "E.J. Speed",
          "Julian Blackmon",
          "Isaiah Rodgers",
          "Creed Humphrey",
          "Trey Smith",
          "Skyy Moore"
         ],
         "marker": {
          "angle": [
           -94.25,
           -54.01999999999998,
           -90.32,
           -56.089999999999975,
           -21.420000000000073,
           -63.420000000000016,
           -77.92000000000002,
           -79.69,
           -43.089999999999975,
           -68.19,
           -88.32999999999998,
           -68.89999999999998,
           -37.04000000000002,
           -76.18,
           -109.66999999999996,
           -73.39999999999998,
           -57.660000000000025,
           -70.02999999999997,
           -40.420000000000016,
           -69.75999999999999,
           -81.26999999999998,
           -76.95999999999998
          ],
          "color": [
           "lightsteelblue",
           "lightsteelblue",
           "peru",
           "burlywood",
           "lightsteelblue",
           "lightsteelblue",
           "burlywood",
           "burlywood",
           "lightsteelblue",
           "burlywood",
           "lightsteelblue",
           "burlywood",
           "burlywood",
           "lightsteelblue",
           "burlywood",
           "midnightblue",
           "lightsteelblue",
           "lightsteelblue",
           "lightsteelblue",
           "burlywood",
           "burlywood",
           "burlywood"
          ],
          "size": [
           15,
           15,
           18,
           15,
           15,
           15,
           15,
           15,
           15,
           15,
           15,
           15,
           15,
           15,
           15,
           18,
           15,
           15,
           15,
           15,
           15,
           15
          ],
          "symbol": "arrow"
         },
         "mode": "markers",
         "showlegend": false,
         "type": "scatter",
         "visible": false,
         "x": [
          24.7,
          25.77,
          17.79,
          33.87,
          50.31,
          46.97,
          47.49,
          49.98,
          24.13,
          49.4,
          39.11,
          48.53,
          29.14,
          17.38,
          35.47,
          18.56,
          33.63,
          14.66,
          27.7,
          42.42,
          41.04,
          13.91
         ],
         "y": [
          49.87,
          42.59,
          49.06,
          23.33,
          36.29,
          25.31,
          27.84,
          30.67,
          23.88,
          32.16,
          37.59,
          29,
          19.33,
          39.97,
          51.85,
          48.72,
          36.98,
          44.34,
          19.23,
          32.95,
          37.38,
          39.88
         ]
        },
        {
         "marker": {
          "color": [
           "dimgrey"
          ],
          "size": 8
         },
         "mode": "markers",
         "showlegend": false,
         "type": "scatter",
         "visible": false,
         "x": [
          18.0900001525879
         ],
         "y": [
          49.5099983215332
         ]
        },
        {
         "hovertemplate": "%{hovertext}",
         "hovertext": [
          "Stephon Gilmore",
          "Rodney McLeod",
          "Travis Kelce",
          "Jerick McKinnon",
          "DeForest Buckner",
          "Yannick Ngakoue",
          "Joe Thuney",
          "Patrick Mahomes",
          "Kenny Moore",
          "Andrew Wylie",
          "Tyquan Lewis",
          "Orlando Brown",
          "Marquez Valdes-Scantling",
          "Zaire Franklin",
          "Mecole Hardman",
          "Bobby Okereke",
          "E.J. Speed",
          "Julian Blackmon",
          "Isaiah Rodgers",
          "Creed Humphrey",
          "Trey Smith",
          "Skyy Moore"
         ],
         "marker": {
          "angle": [
           -97.79000000000002,
           -60.04000000000002,
           -89.24000000000001,
           -55.129999999999995,
           -25.850000000000023,
           -65.91000000000003,
           -79.35000000000002,
           -78.31,
           -41.110000000000014,
           -70.69999999999999,
           -83.64999999999998,
           -71.18,
           -35.94999999999999,
           -100.30000000000001,
           -108.09000000000003,
           -76.56,
           -57.660000000000025,
           -68.45999999999998,
           -39.31999999999999,
           -66.93,
           -82.48000000000002,
           -76.95999999999998
          ],
          "color": [
           "lightsteelblue",
           "lightsteelblue",
           "peru",
           "burlywood",
           "lightsteelblue",
           "lightsteelblue",
           "burlywood",
           "burlywood",
           "lightsteelblue",
           "burlywood",
           "lightsteelblue",
           "burlywood",
           "burlywood",
           "lightsteelblue",
           "burlywood",
           "midnightblue",
           "lightsteelblue",
           "lightsteelblue",
           "lightsteelblue",
           "burlywood",
           "burlywood",
           "burlywood"
          ],
          "size": [
           15,
           15,
           18,
           15,
           15,
           15,
           15,
           15,
           15,
           15,
           15,
           15,
           15,
           15,
           15,
           18,
           15,
           15,
           15,
           15,
           15,
           15
          ],
          "symbol": "arrow"
         },
         "mode": "markers",
         "showlegend": false,
         "type": "scatter",
         "visible": false,
         "x": [
          24.13,
          25.16,
          16.92,
          33.41,
          50.06,
          46.73,
          47.3,
          49.81,
          23.61,
          49.23,
          38.58,
          48.36,
          28.88,
          16.96,
          35.14,
          17.71,
          33.12,
          14.32,
          27.43,
          42.02,
          40.57,
          13.39
         ],
         "y": [
          50.14,
          42.92,
          49.18,
          23.59,
          36.59,
          25.29,
          27.86,
          30.79,
          24.24,
          32.25,
          37.58,
          29.01,
          19.73,
          40.58,
          52.01,
          49.02,
          37.23,
          45.12,
          19.6,
          33.1,
          37.54,
          40.5
         ]
        },
        {
         "marker": {
          "color": [
           "dimgrey"
          ],
          "size": 8
         },
         "mode": "markers",
         "showlegend": false,
         "type": "scatter",
         "visible": false,
         "x": [
          16.8199996948242
         ],
         "y": [
          49.5299987792969
         ]
        },
        {
         "hovertemplate": "%{hovertext}",
         "hovertext": [
          "Stephon Gilmore",
          "Rodney McLeod",
          "Travis Kelce",
          "Jerick McKinnon",
          "DeForest Buckner",
          "Yannick Ngakoue",
          "Joe Thuney",
          "Patrick Mahomes",
          "Kenny Moore",
          "Andrew Wylie",
          "Tyquan Lewis",
          "Orlando Brown",
          "Marquez Valdes-Scantling",
          "Zaire Franklin",
          "Mecole Hardman",
          "Bobby Okereke",
          "E.J. Speed",
          "Julian Blackmon",
          "Isaiah Rodgers",
          "Creed Humphrey",
          "Trey Smith",
          "Skyy Moore"
         ],
         "marker": {
          "angle": [
           -99.94999999999999,
           -64.94,
           -84.19999999999999,
           -55.129999999999995,
           -29.45999999999998,
           -67.82,
           -76.75,
           -76.93,
           -39.829999999999984,
           -72.62,
           -78.69,
           -71.18,
           -35.94999999999999,
           -109.32,
           -108.09000000000003,
           -73.39999999999998,
           -59.94,
           -76.95999999999998,
           -39.31999999999999,
           -64.60000000000002,
           -91.93,
           -79.88
          ],
          "color": [
           "lightsteelblue",
           "lightsteelblue",
           "peru",
           "burlywood",
           "lightsteelblue",
           "lightsteelblue",
           "burlywood",
           "burlywood",
           "lightsteelblue",
           "burlywood",
           "lightsteelblue",
           "burlywood",
           "burlywood",
           "lightsteelblue",
           "burlywood",
           "midnightblue",
           "lightsteelblue",
           "lightsteelblue",
           "lightsteelblue",
           "burlywood",
           "burlywood",
           "burlywood"
          ],
          "size": [
           15,
           15,
           18,
           15,
           15,
           15,
           15,
           15,
           15,
           15,
           15,
           15,
           15,
           15,
           15,
           18,
           15,
           15,
           15,
           15,
           15,
           15
          ],
          "symbol": "arrow"
         },
         "mode": "markers",
         "showlegend": false,
         "type": "scatter",
         "visible": false,
         "x": [
          23.58,
          24.55,
          16.08,
          32.96,
          49.8,
          46.48,
          47.11,
          49.63,
          23.08,
          49.06,
          38.05,
          48.19,
          28.61,
          16.52,
          34.79,
          16.86,
          32.61,
          13.97,
          27.16,
          41.64,
          40.09,
          12.88
         ],
         "y": [
          50.39,
          43.24,
          49.3,
          23.86,
          36.87,
          25.28,
          27.89,
          30.91,
          24.59,
          32.33,
          37.55,
          29.01,
          20.12,
          41.16,
          52.16,
          49.3,
          37.47,
          45.89,
          19.97,
          33.25,
          37.7,
          41.11
         ]
        },
        {
         "marker": {
          "color": [
           "dimgrey"
          ],
          "size": 8
         },
         "mode": "markers",
         "showlegend": false,
         "type": "scatter",
         "visible": false,
         "x": [
          16.4599990844727
         ],
         "y": [
          49.5999984741211
         ]
        },
        {
         "hovertemplate": "%{hovertext}",
         "hovertext": [
          "Stephon Gilmore",
          "Rodney McLeod",
          "Travis Kelce",
          "Jerick McKinnon",
          "DeForest Buckner",
          "Yannick Ngakoue",
          "Joe Thuney",
          "Patrick Mahomes",
          "Kenny Moore",
          "Andrew Wylie",
          "Tyquan Lewis",
          "Orlando Brown",
          "Marquez Valdes-Scantling",
          "Zaire Franklin",
          "Mecole Hardman",
          "Bobby Okereke",
          "E.J. Speed",
          "Julian Blackmon",
          "Isaiah Rodgers",
          "Creed Humphrey",
          "Trey Smith",
          "Skyy Moore"
         ],
         "marker": {
          "angle": [
           -102.07,
           -64.04000000000002,
           -84.19999999999999,
           -55.129999999999995,
           -43.05000000000001,
           -70.10000000000002,
           -76.75,
           -73.62,
           -39.05000000000001,
           -73.32,
           -79.88999999999999,
           -72.68,
           -32.77999999999997,
           -114.00999999999999,
           -108.78999999999996,
           -76.47000000000003,
           -60.52999999999997,
           -84.39999999999998,
           -41.31999999999999,
           -62.98000000000002,
           -86.45999999999998,
           -88.83999999999997
          ],
          "color": [
           "lightsteelblue",
           "lightsteelblue",
           "peru",
           "burlywood",
           "lightsteelblue",
           "lightsteelblue",
           "burlywood",
           "burlywood",
           "lightsteelblue",
           "burlywood",
           "lightsteelblue",
           "burlywood",
           "burlywood",
           "lightsteelblue",
           "burlywood",
           "midnightblue",
           "lightsteelblue",
           "lightsteelblue",
           "lightsteelblue",
           "burlywood",
           "burlywood",
           "burlywood"
          ],
          "size": [
           15,
           15,
           18,
           15,
           15,
           15,
           15,
           15,
           15,
           15,
           15,
           15,
           15,
           15,
           15,
           18,
           15,
           15,
           15,
           15,
           15,
           15
          ],
          "symbol": "arrow"
         },
         "mode": "markers",
         "showlegend": false,
         "type": "scatter",
         "visible": false,
         "x": [
          23.06,
          23.93,
          15.27,
          32.52,
          49.52,
          46.24,
          46.92,
          49.45,
          22.56,
          48.87,
          37.52,
          48.02,
          28.34,
          16.08,
          34.44,
          16.06,
          32.12,
          13.62,
          26.9,
          41.25,
          39.6,
          12.4
         ],
         "y": [
          50.61,
          43.53,
          49.41,
          24.13,
          37.15,
          25.26,
          27.91,
          31.03,
          24.92,
          32.41,
          37.53,
          29.02,
          20.5,
          41.73,
          52.29,
          49.56,
          37.71,
          46.67,
          20.32,
          33.4,
          37.86,
          41.71
         ]
        },
        {
         "marker": {
          "color": [
           "dimgrey"
          ],
          "size": 8
         },
         "mode": "markers",
         "showlegend": false,
         "type": "scatter",
         "visible": false,
         "x": [
          14.460000038147
         ],
         "y": [
          49.7299995422363
         ]
        },
        {
         "hovertemplate": "%{hovertext}",
         "hovertext": [
          "Stephon Gilmore",
          "Rodney McLeod",
          "Travis Kelce",
          "Jerick McKinnon",
          "DeForest Buckner",
          "Yannick Ngakoue",
          "Joe Thuney",
          "Patrick Mahomes",
          "Kenny Moore",
          "Andrew Wylie",
          "Tyquan Lewis",
          "Orlando Brown",
          "Marquez Valdes-Scantling",
          "Zaire Franklin",
          "Mecole Hardman",
          "Bobby Okereke",
          "E.J. Speed",
          "Julian Blackmon",
          "Isaiah Rodgers",
          "Creed Humphrey",
          "Trey Smith",
          "Skyy Moore"
         ],
         "marker": {
          "angle": [
           -102.64999999999998,
           -64.86000000000001,
           -60.85000000000002,
           -56.39999999999998,
           -46.52999999999997,
           -72.05000000000001,
           -76.75,
           -71.95999999999998,
           -39.05000000000001,
           -75.22000000000003,
           -81.70999999999998,
           -73.55000000000001,
           -32.77999999999997,
           -112.38,
           -107.90999999999997,
           -75.29000000000002,
           -62.45999999999998,
           -78.70999999999998,
           -42,
           -69.88,
           -80.43,
           -98.61000000000001
          ],
          "color": [
           "lightsteelblue",
           "lightsteelblue",
           "peru",
           "burlywood",
           "lightsteelblue",
           "lightsteelblue",
           "burlywood",
           "burlywood",
           "lightsteelblue",
           "burlywood",
           "lightsteelblue",
           "burlywood",
           "burlywood",
           "lightsteelblue",
           "burlywood",
           "midnightblue",
           "lightsteelblue",
           "lightsteelblue",
           "lightsteelblue",
           "burlywood",
           "burlywood",
           "burlywood"
          ],
          "size": [
           15,
           15,
           18,
           15,
           15,
           15,
           15,
           15,
           15,
           15,
           15,
           15,
           15,
           15,
           15,
           18,
           15,
           15,
           15,
           15,
           15,
           15
          ],
          "symbol": "arrow"
         },
         "mode": "markers",
         "showlegend": false,
         "type": "scatter",
         "visible": false,
         "x": [
          22.58,
          23.32,
          14.48,
          32.07,
          49.24,
          46.01,
          46.72,
          49.27,
          22.06,
          48.69,
          37,
          47.86,
          28.08,
          15.63,
          34.08,
          15.27,
          31.64,
          13.29,
          26.64,
          40.85,
          39.12,
          11.94
         ],
         "y": [
          50.82,
          43.82,
          49.54,
          24.4,
          37.41,
          25.24,
          27.94,
          31.16,
          25.25,
          32.49,
          37.5,
          29.02,
          20.87,
          42.29,
          52.39,
          49.79,
          37.94,
          47.44,
          20.65,
          33.54,
          38,
          42.28
         ]
        },
        {
         "marker": {
          "color": [
           "dimgrey"
          ],
          "size": 8
         },
         "mode": "markers",
         "showlegend": false,
         "type": "scatter",
         "visible": false,
         "x": [
          13.8699998855591
         ],
         "y": [
          49.810001373291
         ]
        },
        {
         "hovertemplate": "%{hovertext}",
         "hovertext": [
          "Stephon Gilmore",
          "Rodney McLeod",
          "Travis Kelce",
          "Jerick McKinnon",
          "DeForest Buckner",
          "Yannick Ngakoue",
          "Joe Thuney",
          "Patrick Mahomes",
          "Kenny Moore",
          "Andrew Wylie",
          "Tyquan Lewis",
          "Orlando Brown",
          "Marquez Valdes-Scantling",
          "Zaire Franklin",
          "Mecole Hardman",
          "Bobby Okereke",
          "E.J. Speed",
          "Julian Blackmon",
          "Isaiah Rodgers",
          "Creed Humphrey",
          "Trey Smith",
          "Skyy Moore"
         ],
         "marker": {
          "angle": [
           -105.31,
           -66.44999999999999,
           -28.05000000000001,
           -57.45999999999998,
           -50.25999999999999,
           -72.05000000000001,
           -78.04000000000002,
           -71.27999999999997,
           -41.76999999999998,
           -75.22000000000003,
           -77.75999999999999,
           -72.08999999999997,
           -34.839999999999975,
           -103.99000000000001,
           -105.68,
           -75.29000000000002,
           -60.50999999999999,
           -77.87,
           -40.79000000000002,
           -68.27999999999997,
           -78.89999999999998,
           -114.01999999999998
          ],
          "color": [
           "lightsteelblue",
           "lightsteelblue",
           "peru",
           "burlywood",
           "lightsteelblue",
           "lightsteelblue",
           "burlywood",
           "burlywood",
           "lightsteelblue",
           "burlywood",
           "lightsteelblue",
           "burlywood",
           "burlywood",
           "lightsteelblue",
           "burlywood",
           "midnightblue",
           "lightsteelblue",
           "lightsteelblue",
           "lightsteelblue",
           "burlywood",
           "burlywood",
           "burlywood"
          ],
          "size": [
           15,
           15,
           18,
           15,
           15,
           15,
           15,
           15,
           15,
           15,
           15,
           15,
           15,
           15,
           15,
           18,
           15,
           15,
           15,
           15,
           15,
           15
          ],
          "symbol": "arrow"
         },
         "mode": "markers",
         "showlegend": false,
         "type": "scatter",
         "visible": false,
         "x": [
          22.12,
          22.71,
          13.74,
          31.62,
          48.96,
          45.77,
          46.52,
          49.09,
          21.58,
          48.51,
          36.49,
          47.69,
          27.82,
          15.18,
          33.73,
          14.5,
          31.18,
          12.95,
          26.38,
          40.45,
          38.63,
          11.53
         ],
         "y": [
          51.02,
          44.08,
          49.65,
          24.68,
          37.65,
          25.21,
          27.97,
          31.29,
          25.57,
          32.56,
          37.45,
          29.03,
          21.23,
          42.82,
          52.48,
          50.01,
          38.18,
          48.19,
          20.98,
          33.68,
          38.15,
          42.83
         ]
        },
        {
         "marker": {
          "color": [
           "dimgrey"
          ],
          "size": 8
         },
         "mode": "markers",
         "showlegend": false,
         "type": "scatter",
         "visible": false,
         "x": [
          13.3699998855591
         ],
         "y": [
          49.8600006103516
         ]
        },
        {
         "hovertemplate": "%{hovertext}",
         "hovertext": [
          "Stephon Gilmore",
          "Rodney McLeod",
          "Travis Kelce",
          "Jerick McKinnon",
          "DeForest Buckner",
          "Yannick Ngakoue",
          "Joe Thuney",
          "Patrick Mahomes",
          "Kenny Moore",
          "Andrew Wylie",
          "Tyquan Lewis",
          "Orlando Brown",
          "Marquez Valdes-Scantling",
          "Zaire Franklin",
          "Mecole Hardman",
          "Bobby Okereke",
          "E.J. Speed",
          "Julian Blackmon",
          "Isaiah Rodgers",
          "Creed Humphrey",
          "Trey Smith",
          "Skyy Moore"
         ],
         "marker": {
          "angle": [
           -108.87,
           -69.00999999999999,
           -16.920000000000073,
           -54.579999999999984,
           -52.29000000000002,
           -74.93,
           -79.45999999999998,
           -70.37,
           -41,
           -75.22000000000003,
           -79.38999999999999,
           -70.13999999999999,
           -38.27999999999997,
           -103.04000000000002,
           -105.68,
           -76.39999999999998,
           -59.00999999999999,
           -73.68,
           -40.79000000000002,
           -67.38,
           -85.43,
           -116.55000000000001
          ],
          "color": [
           "lightsteelblue",
           "lightsteelblue",
           "peru",
           "burlywood",
           "lightsteelblue",
           "lightsteelblue",
           "burlywood",
           "burlywood",
           "lightsteelblue",
           "burlywood",
           "lightsteelblue",
           "burlywood",
           "burlywood",
           "lightsteelblue",
           "burlywood",
           "midnightblue",
           "lightsteelblue",
           "lightsteelblue",
           "lightsteelblue",
           "burlywood",
           "burlywood",
           "burlywood"
          ],
          "size": [
           15,
           15,
           18,
           15,
           15,
           15,
           15,
           15,
           15,
           15,
           15,
           15,
           15,
           15,
           15,
           18,
           15,
           15,
           15,
           15,
           15,
           15
          ],
          "symbol": "arrow"
         },
         "mode": "markers",
         "showlegend": false,
         "type": "scatter",
         "visible": false,
         "x": [
          21.71,
          22.12,
          13.04,
          31.18,
          48.66,
          45.55,
          46.32,
          48.91,
          21.12,
          48.33,
          35.98,
          47.52,
          27.56,
          14.74,
          33.37,
          13.8,
          30.71,
          12.63,
          26.12,
          40.05,
          38.14,
          11.14
         ],
         "y": [
          51.2,
          44.33,
          49.75,
          24.95,
          37.87,
          25.19,
          27.99,
          31.41,
          25.88,
          32.63,
          37.41,
          29.03,
          21.59,
          43.33,
          52.56,
          50.21,
          38.41,
          48.95,
          21.29,
          33.82,
          38.3,
          43.38
         ]
        },
        {
         "marker": {
          "color": [
           "dimgrey"
          ],
          "size": 8
         },
         "mode": "markers",
         "showlegend": false,
         "type": "scatter",
         "visible": false,
         "x": [
          13.0600004196167
         ],
         "y": [
          49.8899993896484
         ]
        },
        {
         "hovertemplate": "%{hovertext}",
         "hovertext": [
          "Stephon Gilmore",
          "Rodney McLeod",
          "Travis Kelce",
          "Jerick McKinnon",
          "DeForest Buckner",
          "Yannick Ngakoue",
          "Joe Thuney",
          "Patrick Mahomes",
          "Kenny Moore",
          "Andrew Wylie",
          "Tyquan Lewis",
          "Orlando Brown",
          "Marquez Valdes-Scantling",
          "Zaire Franklin",
          "Mecole Hardman",
          "Bobby Okereke",
          "E.J. Speed",
          "Julian Blackmon",
          "Isaiah Rodgers",
          "Creed Humphrey",
          "Trey Smith",
          "Skyy Moore"
         ],
         "marker": {
          "angle": [
           -114.10000000000002,
           -72.39999999999998,
           -10.529999999999973,
           -58.94,
           -68.32999999999998,
           -77.94999999999999,
           -80.68,
           -71.06,
           -42.26999999999998,
           -75.22000000000003,
           -81.25999999999999,
           -68.07,
           -38.27999999999997,
           -102.23000000000002,
           -103.92000000000002,
           -83.39999999999998,
           -57.51999999999998,
           -69.29000000000002,
           -42.389999999999986,
           -67.38,
           -78.81,
           -113.75999999999999
          ],
          "color": [
           "lightsteelblue",
           "lightsteelblue",
           "peru",
           "burlywood",
           "lightsteelblue",
           "lightsteelblue",
           "burlywood",
           "burlywood",
           "lightsteelblue",
           "burlywood",
           "lightsteelblue",
           "burlywood",
           "burlywood",
           "lightsteelblue",
           "burlywood",
           "midnightblue",
           "lightsteelblue",
           "lightsteelblue",
           "lightsteelblue",
           "burlywood",
           "burlywood",
           "burlywood"
          ],
          "size": [
           15,
           15,
           18,
           15,
           15,
           15,
           15,
           15,
           15,
           15,
           15,
           15,
           15,
           15,
           15,
           18,
           15,
           15,
           15,
           15,
           15,
           15
          ],
          "symbol": "arrow"
         },
         "mode": "markers",
         "showlegend": false,
         "type": "scatter",
         "visible": false,
         "x": [
          21.33,
          21.54,
          12.45,
          30.75,
          48.33,
          45.32,
          46.12,
          48.72,
          20.68,
          48.14,
          35.49,
          47.36,
          27.31,
          14.29,
          33.01,
          13.31,
          30.26,
          12.31,
          25.87,
          39.64,
          37.64,
          10.77
         ],
         "y": [
          51.36,
          44.57,
          49.86,
          25.22,
          38.04,
          25.16,
          28.02,
          31.53,
          26.17,
          32.69,
          37.35,
          29.05,
          21.93,
          43.81,
          52.62,
          50.41,
          38.62,
          49.69,
          21.58,
          33.95,
          38.45,
          43.94
         ]
        },
        {
         "marker": {
          "color": [
           "dimgrey"
          ],
          "size": 8
         },
         "mode": "markers",
         "showlegend": false,
         "type": "scatter",
         "visible": false,
         "x": [
          12.6300001144409
         ],
         "y": [
          49.9500007629395
         ]
        },
        {
         "hovertemplate": "%{hovertext}",
         "hovertext": [
          "Stephon Gilmore",
          "Rodney McLeod",
          "Travis Kelce",
          "Jerick McKinnon",
          "DeForest Buckner",
          "Yannick Ngakoue",
          "Joe Thuney",
          "Patrick Mahomes",
          "Kenny Moore",
          "Andrew Wylie",
          "Tyquan Lewis",
          "Orlando Brown",
          "Marquez Valdes-Scantling",
          "Zaire Franklin",
          "Mecole Hardman",
          "Bobby Okereke",
          "E.J. Speed",
          "Julian Blackmon",
          "Isaiah Rodgers",
          "Creed Humphrey",
          "Trey Smith",
          "Skyy Moore"
         ],
         "marker": {
          "angle": [
           -116.11000000000001,
           -73.23000000000002,
           -6.690000000000055,
           -58.94,
           -75.00999999999999,
           -78.79000000000002,
           -80.68,
           -71.06,
           -42.26999999999998,
           -75.22000000000003,
           -81.25999999999999,
           -68.07,
           -38.27999999999997,
           -102.23000000000002,
           -101.93,
           -85.57,
           -57.51999999999998,
           -68.30000000000001,
           -42.389999999999986,
           -67.38,
           -77.30000000000001,
           -115.05000000000001
          ],
          "color": [
           "lightsteelblue",
           "lightsteelblue",
           "peru",
           "burlywood",
           "lightsteelblue",
           "lightsteelblue",
           "burlywood",
           "burlywood",
           "lightsteelblue",
           "burlywood",
           "lightsteelblue",
           "burlywood",
           "burlywood",
           "lightsteelblue",
           "burlywood",
           "midnightblue",
           "lightsteelblue",
           "lightsteelblue",
           "lightsteelblue",
           "burlywood",
           "burlywood",
           "burlywood"
          ],
          "size": [
           15,
           15,
           18,
           15,
           15,
           15,
           15,
           15,
           15,
           15,
           15,
           15,
           15,
           15,
           15,
           18,
           15,
           15,
           15,
           15,
           15,
           15
          ],
          "symbol": "arrow"
         },
         "mode": "markers",
         "showlegend": false,
         "type": "scatter",
         "visible": false,
         "x": [
          20.98,
          20.97,
          11.91,
          30.33,
          48.04,
          45.12,
          45.91,
          48.53,
          20.27,
          47.96,
          35.03,
          47.2,
          27.06,
          13.85,
          32.65,
          12.74,
          29.83,
          11.99,
          25.63,
          39.25,
          37.17,
          10.43
         ],
         "y": [
          51.5,
          44.79,
          49.97,
          25.48,
          38.21,
          25.13,
          28.05,
          31.64,
          26.44,
          32.74,
          37.3,
          29.06,
          22.27,
          44.27,
          52.67,
          50.59,
          38.83,
          50.42,
          21.87,
          34.08,
          38.59,
          44.47
         ]
        },
        {
         "marker": {
          "color": [
           "dimgrey"
          ],
          "size": 8
         },
         "mode": "markers",
         "showlegend": false,
         "type": "scatter",
         "visible": false,
         "x": [
          12.3999996185303
         ],
         "y": [
          49.9700012207031
         ]
        }
       ],
       "layout": {
        "annotations": [
         {
          "font": {
           "color": "grey",
           "size": 8
          },
          "showarrow": false,
          "text": "10",
          "x": 19,
          "xref": "x",
          "y": 5,
          "yref": "y"
         },
         {
          "font": {
           "color": "grey",
           "size": 8
          },
          "showarrow": false,
          "text": "10",
          "textangle": -180,
          "x": 19,
          "xref": "x",
          "y": 48.3,
          "yref": "y"
         },
         {
          "font": {
           "color": "grey",
           "size": 8
          },
          "showarrow": false,
          "text": "20",
          "x": 29,
          "xref": "x",
          "y": 5,
          "yref": "y"
         },
         {
          "font": {
           "color": "grey",
           "size": 8
          },
          "showarrow": false,
          "text": "20",
          "textangle": -180,
          "x": 29,
          "xref": "x",
          "y": 48.3,
          "yref": "y"
         },
         {
          "font": {
           "color": "grey",
           "size": 8
          },
          "showarrow": false,
          "text": "30",
          "x": 39,
          "xref": "x",
          "y": 5,
          "yref": "y"
         },
         {
          "font": {
           "color": "grey",
           "size": 8
          },
          "showarrow": false,
          "text": "30",
          "textangle": -180,
          "x": 39,
          "xref": "x",
          "y": 48.3,
          "yref": "y"
         },
         {
          "font": {
           "color": "grey",
           "size": 8
          },
          "showarrow": false,
          "text": "40",
          "x": 49,
          "xref": "x",
          "y": 5,
          "yref": "y"
         },
         {
          "font": {
           "color": "grey",
           "size": 8
          },
          "showarrow": false,
          "text": "40",
          "textangle": -180,
          "x": 49,
          "xref": "x",
          "y": 48.3,
          "yref": "y"
         },
         {
          "font": {
           "color": "grey",
           "size": 8
          },
          "showarrow": false,
          "text": "50",
          "x": 59,
          "xref": "x",
          "y": 5,
          "yref": "y"
         },
         {
          "font": {
           "color": "grey",
           "size": 8
          },
          "showarrow": false,
          "text": "50",
          "textangle": -180,
          "x": 59,
          "xref": "x",
          "y": 48.3,
          "yref": "y"
         },
         {
          "font": {
           "color": "grey",
           "size": 8
          },
          "showarrow": false,
          "text": "40",
          "x": 69,
          "xref": "x",
          "y": 5,
          "yref": "y"
         },
         {
          "font": {
           "color": "grey",
           "size": 8
          },
          "showarrow": false,
          "text": "40",
          "textangle": -180,
          "x": 69,
          "xref": "x",
          "y": 48.3,
          "yref": "y"
         },
         {
          "font": {
           "color": "grey",
           "size": 8
          },
          "showarrow": false,
          "text": "30",
          "x": 79,
          "xref": "x",
          "y": 5,
          "yref": "y"
         },
         {
          "font": {
           "color": "grey",
           "size": 8
          },
          "showarrow": false,
          "text": "30",
          "textangle": -180,
          "x": 79,
          "xref": "x",
          "y": 48.3,
          "yref": "y"
         },
         {
          "font": {
           "color": "grey",
           "size": 8
          },
          "showarrow": false,
          "text": "20",
          "x": 89,
          "xref": "x",
          "y": 5,
          "yref": "y"
         },
         {
          "font": {
           "color": "grey",
           "size": 8
          },
          "showarrow": false,
          "text": "20",
          "textangle": -180,
          "x": 89,
          "xref": "x",
          "y": 48.3,
          "yref": "y"
         },
         {
          "font": {
           "color": "grey",
           "size": 8
          },
          "showarrow": false,
          "text": "10",
          "x": 99,
          "xref": "x",
          "y": 5,
          "yref": "y"
         },
         {
          "font": {
           "color": "grey",
           "size": 8
          },
          "showarrow": false,
          "text": "10",
          "textangle": -180,
          "x": 99,
          "xref": "x",
          "y": 48.3,
          "yref": "y"
         }
        ],
        "dragmode": false,
        "height": 600,
        "margin": {
         "t": 20
        },
        "plot_bgcolor": "rgba(0,0,0,0)",
        "shapes": [
         {
          "line": {
           "color": "darkgrey",
           "width": 0.5
          },
          "type": "line",
          "x0": 20,
          "x1": 20,
          "y0": 0,
          "y1": 53.3
         },
         {
          "line": {
           "color": "darkgrey",
           "width": 0.5
          },
          "type": "line",
          "x0": 30,
          "x1": 30,
          "y0": 0,
          "y1": 53.3
         },
         {
          "line": {
           "color": "darkgrey",
           "width": 0.5
          },
          "type": "line",
          "x0": 40,
          "x1": 40,
          "y0": 0,
          "y1": 53.3
         },
         {
          "line": {
           "color": "darkgrey",
           "width": 0.5
          },
          "type": "line",
          "x0": 50,
          "x1": 50,
          "y0": 0,
          "y1": 53.3
         },
         {
          "line": {
           "color": "darkgrey",
           "width": 0.5
          },
          "type": "line",
          "x0": 60,
          "x1": 60,
          "y0": 0,
          "y1": 53.3
         },
         {
          "line": {
           "color": "darkgrey",
           "width": 0.5
          },
          "type": "line",
          "x0": 70,
          "x1": 70,
          "y0": 0,
          "y1": 53.3
         },
         {
          "line": {
           "color": "darkgrey",
           "width": 0.5
          },
          "type": "line",
          "x0": 80,
          "x1": 80,
          "y0": 0,
          "y1": 53.3
         },
         {
          "line": {
           "color": "darkgrey",
           "width": 0.5
          },
          "type": "line",
          "x0": 90,
          "x1": 90,
          "y0": 0,
          "y1": 53.3
         },
         {
          "line": {
           "color": "darkgrey",
           "width": 0.5
          },
          "type": "line",
          "x0": 100,
          "x1": 100,
          "y0": 0,
          "y1": 53.3
         },
         {
          "line": {
           "color": "RGB(255,215,0)",
           "width": 1
          },
          "type": "line",
          "x0": 42,
          "x1": 42,
          "y0": 0,
          "y1": 53.3
         },
         {
          "line": {
           "color": "RGB(255,215,0)",
           "dash": "dash",
           "width": 1
          },
          "type": "line",
          "x0": 35,
          "x1": 35,
          "y0": 0,
          "y1": 53.3
         },
         {
          "line": {
           "color": "darkgrey",
           "width": 0.5
          },
          "type": "line",
          "x0": 11,
          "x1": 11,
          "y0": 0.2,
          "y1": 0.7
         },
         {
          "line": {
           "color": "darkgrey",
           "width": 0.5
          },
          "type": "line",
          "x0": 11,
          "x1": 11,
          "y0": 22.91,
          "y1": 23.57
         },
         {
          "line": {
           "color": "darkgrey",
           "width": 0.5
          },
          "type": "line",
          "x0": 11,
          "x1": 11,
          "y0": 29.73,
          "y1": 30.39
         },
         {
          "line": {
           "color": "darkgrey",
           "width": 0.5
          },
          "type": "line",
          "x0": 11,
          "x1": 11,
          "y0": 53,
          "y1": 52.5
         },
         {
          "line": {
           "color": "darkgrey",
           "width": 0.5
          },
          "type": "line",
          "x0": 12,
          "x1": 12,
          "y0": 0.2,
          "y1": 0.7
         },
         {
          "line": {
           "color": "darkgrey",
           "width": 0.5
          },
          "type": "line",
          "x0": 12,
          "x1": 12,
          "y0": 22.91,
          "y1": 23.57
         },
         {
          "line": {
           "color": "darkgrey",
           "width": 0.5
          },
          "type": "line",
          "x0": 12,
          "x1": 12,
          "y0": 29.73,
          "y1": 30.39
         },
         {
          "line": {
           "color": "darkgrey",
           "width": 0.5
          },
          "type": "line",
          "x0": 12,
          "x1": 12,
          "y0": 53,
          "y1": 52.5
         },
         {
          "line": {
           "color": "darkgrey",
           "width": 0.5
          },
          "type": "line",
          "x0": 13,
          "x1": 13,
          "y0": 0.2,
          "y1": 0.7
         },
         {
          "line": {
           "color": "darkgrey",
           "width": 0.5
          },
          "type": "line",
          "x0": 13,
          "x1": 13,
          "y0": 22.91,
          "y1": 23.57
         },
         {
          "line": {
           "color": "darkgrey",
           "width": 0.5
          },
          "type": "line",
          "x0": 13,
          "x1": 13,
          "y0": 29.73,
          "y1": 30.39
         },
         {
          "line": {
           "color": "darkgrey",
           "width": 0.5
          },
          "type": "line",
          "x0": 13,
          "x1": 13,
          "y0": 53,
          "y1": 52.5
         },
         {
          "line": {
           "color": "darkgrey",
           "width": 0.5
          },
          "type": "line",
          "x0": 14,
          "x1": 14,
          "y0": 0.2,
          "y1": 0.7
         },
         {
          "line": {
           "color": "darkgrey",
           "width": 0.5
          },
          "type": "line",
          "x0": 14,
          "x1": 14,
          "y0": 22.91,
          "y1": 23.57
         },
         {
          "line": {
           "color": "darkgrey",
           "width": 0.5
          },
          "type": "line",
          "x0": 14,
          "x1": 14,
          "y0": 29.73,
          "y1": 30.39
         },
         {
          "line": {
           "color": "darkgrey",
           "width": 0.5
          },
          "type": "line",
          "x0": 14,
          "x1": 14,
          "y0": 53,
          "y1": 52.5
         },
         {
          "line": {
           "color": "darkgrey",
           "width": 0.5
          },
          "type": "line",
          "x0": 15,
          "x1": 15,
          "y0": 0.2,
          "y1": 0.7
         },
         {
          "line": {
           "color": "darkgrey",
           "width": 0.5
          },
          "type": "line",
          "x0": 15,
          "x1": 15,
          "y0": 22.91,
          "y1": 23.57
         },
         {
          "line": {
           "color": "darkgrey",
           "width": 0.5
          },
          "type": "line",
          "x0": 15,
          "x1": 15,
          "y0": 29.73,
          "y1": 30.39
         },
         {
          "line": {
           "color": "darkgrey",
           "width": 0.5
          },
          "type": "line",
          "x0": 15,
          "x1": 15,
          "y0": 53,
          "y1": 52.5
         },
         {
          "line": {
           "color": "darkgrey",
           "width": 0.5
          },
          "type": "line",
          "x0": 16,
          "x1": 16,
          "y0": 0.2,
          "y1": 0.7
         },
         {
          "line": {
           "color": "darkgrey",
           "width": 0.5
          },
          "type": "line",
          "x0": 16,
          "x1": 16,
          "y0": 22.91,
          "y1": 23.57
         },
         {
          "line": {
           "color": "darkgrey",
           "width": 0.5
          },
          "type": "line",
          "x0": 16,
          "x1": 16,
          "y0": 29.73,
          "y1": 30.39
         },
         {
          "line": {
           "color": "darkgrey",
           "width": 0.5
          },
          "type": "line",
          "x0": 16,
          "x1": 16,
          "y0": 53,
          "y1": 52.5
         },
         {
          "line": {
           "color": "darkgrey",
           "width": 0.5
          },
          "type": "line",
          "x0": 17,
          "x1": 17,
          "y0": 0.2,
          "y1": 0.7
         },
         {
          "line": {
           "color": "darkgrey",
           "width": 0.5
          },
          "type": "line",
          "x0": 17,
          "x1": 17,
          "y0": 22.91,
          "y1": 23.57
         },
         {
          "line": {
           "color": "darkgrey",
           "width": 0.5
          },
          "type": "line",
          "x0": 17,
          "x1": 17,
          "y0": 29.73,
          "y1": 30.39
         },
         {
          "line": {
           "color": "darkgrey",
           "width": 0.5
          },
          "type": "line",
          "x0": 17,
          "x1": 17,
          "y0": 53,
          "y1": 52.5
         },
         {
          "line": {
           "color": "darkgrey",
           "width": 0.5
          },
          "type": "line",
          "x0": 18,
          "x1": 18,
          "y0": 0.2,
          "y1": 0.7
         },
         {
          "line": {
           "color": "darkgrey",
           "width": 0.5
          },
          "type": "line",
          "x0": 18,
          "x1": 18,
          "y0": 22.91,
          "y1": 23.57
         },
         {
          "line": {
           "color": "darkgrey",
           "width": 0.5
          },
          "type": "line",
          "x0": 18,
          "x1": 18,
          "y0": 29.73,
          "y1": 30.39
         },
         {
          "line": {
           "color": "darkgrey",
           "width": 0.5
          },
          "type": "line",
          "x0": 18,
          "x1": 18,
          "y0": 53,
          "y1": 52.5
         },
         {
          "line": {
           "color": "darkgrey",
           "width": 0.5
          },
          "type": "line",
          "x0": 19,
          "x1": 19,
          "y0": 0.2,
          "y1": 0.7
         },
         {
          "line": {
           "color": "darkgrey",
           "width": 0.5
          },
          "type": "line",
          "x0": 19,
          "x1": 19,
          "y0": 22.91,
          "y1": 23.57
         },
         {
          "line": {
           "color": "darkgrey",
           "width": 0.5
          },
          "type": "line",
          "x0": 19,
          "x1": 19,
          "y0": 29.73,
          "y1": 30.39
         },
         {
          "line": {
           "color": "darkgrey",
           "width": 0.5
          },
          "type": "line",
          "x0": 19,
          "x1": 19,
          "y0": 53,
          "y1": 52.5
         },
         {
          "line": {
           "color": "darkgrey",
           "width": 0.5
          },
          "type": "line",
          "x0": 20,
          "x1": 20,
          "y0": 0.2,
          "y1": 0.7
         },
         {
          "line": {
           "color": "darkgrey",
           "width": 0.5
          },
          "type": "line",
          "x0": 20,
          "x1": 20,
          "y0": 22.91,
          "y1": 23.57
         },
         {
          "line": {
           "color": "darkgrey",
           "width": 0.5
          },
          "type": "line",
          "x0": 20,
          "x1": 20,
          "y0": 29.73,
          "y1": 30.39
         },
         {
          "line": {
           "color": "darkgrey",
           "width": 0.5
          },
          "type": "line",
          "x0": 20,
          "x1": 20,
          "y0": 53,
          "y1": 52.5
         },
         {
          "line": {
           "color": "darkgrey",
           "width": 0.5
          },
          "type": "line",
          "x0": 21,
          "x1": 21,
          "y0": 0.2,
          "y1": 0.7
         },
         {
          "line": {
           "color": "darkgrey",
           "width": 0.5
          },
          "type": "line",
          "x0": 21,
          "x1": 21,
          "y0": 22.91,
          "y1": 23.57
         },
         {
          "line": {
           "color": "darkgrey",
           "width": 0.5
          },
          "type": "line",
          "x0": 21,
          "x1": 21,
          "y0": 29.73,
          "y1": 30.39
         },
         {
          "line": {
           "color": "darkgrey",
           "width": 0.5
          },
          "type": "line",
          "x0": 21,
          "x1": 21,
          "y0": 53,
          "y1": 52.5
         },
         {
          "line": {
           "color": "darkgrey",
           "width": 0.5
          },
          "type": "line",
          "x0": 22,
          "x1": 22,
          "y0": 0.2,
          "y1": 0.7
         },
         {
          "line": {
           "color": "darkgrey",
           "width": 0.5
          },
          "type": "line",
          "x0": 22,
          "x1": 22,
          "y0": 22.91,
          "y1": 23.57
         },
         {
          "line": {
           "color": "darkgrey",
           "width": 0.5
          },
          "type": "line",
          "x0": 22,
          "x1": 22,
          "y0": 29.73,
          "y1": 30.39
         },
         {
          "line": {
           "color": "darkgrey",
           "width": 0.5
          },
          "type": "line",
          "x0": 22,
          "x1": 22,
          "y0": 53,
          "y1": 52.5
         },
         {
          "line": {
           "color": "darkgrey",
           "width": 0.5
          },
          "type": "line",
          "x0": 23,
          "x1": 23,
          "y0": 0.2,
          "y1": 0.7
         },
         {
          "line": {
           "color": "darkgrey",
           "width": 0.5
          },
          "type": "line",
          "x0": 23,
          "x1": 23,
          "y0": 22.91,
          "y1": 23.57
         },
         {
          "line": {
           "color": "darkgrey",
           "width": 0.5
          },
          "type": "line",
          "x0": 23,
          "x1": 23,
          "y0": 29.73,
          "y1": 30.39
         },
         {
          "line": {
           "color": "darkgrey",
           "width": 0.5
          },
          "type": "line",
          "x0": 23,
          "x1": 23,
          "y0": 53,
          "y1": 52.5
         },
         {
          "line": {
           "color": "darkgrey",
           "width": 0.5
          },
          "type": "line",
          "x0": 24,
          "x1": 24,
          "y0": 0.2,
          "y1": 0.7
         },
         {
          "line": {
           "color": "darkgrey",
           "width": 0.5
          },
          "type": "line",
          "x0": 24,
          "x1": 24,
          "y0": 22.91,
          "y1": 23.57
         },
         {
          "line": {
           "color": "darkgrey",
           "width": 0.5
          },
          "type": "line",
          "x0": 24,
          "x1": 24,
          "y0": 29.73,
          "y1": 30.39
         },
         {
          "line": {
           "color": "darkgrey",
           "width": 0.5
          },
          "type": "line",
          "x0": 24,
          "x1": 24,
          "y0": 53,
          "y1": 52.5
         },
         {
          "line": {
           "color": "darkgrey",
           "width": 0.5
          },
          "type": "line",
          "x0": 25,
          "x1": 25,
          "y0": 0.2,
          "y1": 0.7
         },
         {
          "line": {
           "color": "darkgrey",
           "width": 0.5
          },
          "type": "line",
          "x0": 25,
          "x1": 25,
          "y0": 22.91,
          "y1": 23.57
         },
         {
          "line": {
           "color": "darkgrey",
           "width": 0.5
          },
          "type": "line",
          "x0": 25,
          "x1": 25,
          "y0": 29.73,
          "y1": 30.39
         },
         {
          "line": {
           "color": "darkgrey",
           "width": 0.5
          },
          "type": "line",
          "x0": 25,
          "x1": 25,
          "y0": 53,
          "y1": 52.5
         },
         {
          "line": {
           "color": "darkgrey",
           "width": 0.5
          },
          "type": "line",
          "x0": 26,
          "x1": 26,
          "y0": 0.2,
          "y1": 0.7
         },
         {
          "line": {
           "color": "darkgrey",
           "width": 0.5
          },
          "type": "line",
          "x0": 26,
          "x1": 26,
          "y0": 22.91,
          "y1": 23.57
         },
         {
          "line": {
           "color": "darkgrey",
           "width": 0.5
          },
          "type": "line",
          "x0": 26,
          "x1": 26,
          "y0": 29.73,
          "y1": 30.39
         },
         {
          "line": {
           "color": "darkgrey",
           "width": 0.5
          },
          "type": "line",
          "x0": 26,
          "x1": 26,
          "y0": 53,
          "y1": 52.5
         },
         {
          "line": {
           "color": "darkgrey",
           "width": 0.5
          },
          "type": "line",
          "x0": 27,
          "x1": 27,
          "y0": 0.2,
          "y1": 0.7
         },
         {
          "line": {
           "color": "darkgrey",
           "width": 0.5
          },
          "type": "line",
          "x0": 27,
          "x1": 27,
          "y0": 22.91,
          "y1": 23.57
         },
         {
          "line": {
           "color": "darkgrey",
           "width": 0.5
          },
          "type": "line",
          "x0": 27,
          "x1": 27,
          "y0": 29.73,
          "y1": 30.39
         },
         {
          "line": {
           "color": "darkgrey",
           "width": 0.5
          },
          "type": "line",
          "x0": 27,
          "x1": 27,
          "y0": 53,
          "y1": 52.5
         },
         {
          "line": {
           "color": "darkgrey",
           "width": 0.5
          },
          "type": "line",
          "x0": 28,
          "x1": 28,
          "y0": 0.2,
          "y1": 0.7
         },
         {
          "line": {
           "color": "darkgrey",
           "width": 0.5
          },
          "type": "line",
          "x0": 28,
          "x1": 28,
          "y0": 22.91,
          "y1": 23.57
         },
         {
          "line": {
           "color": "darkgrey",
           "width": 0.5
          },
          "type": "line",
          "x0": 28,
          "x1": 28,
          "y0": 29.73,
          "y1": 30.39
         },
         {
          "line": {
           "color": "darkgrey",
           "width": 0.5
          },
          "type": "line",
          "x0": 28,
          "x1": 28,
          "y0": 53,
          "y1": 52.5
         },
         {
          "line": {
           "color": "darkgrey",
           "width": 0.5
          },
          "type": "line",
          "x0": 29,
          "x1": 29,
          "y0": 0.2,
          "y1": 0.7
         },
         {
          "line": {
           "color": "darkgrey",
           "width": 0.5
          },
          "type": "line",
          "x0": 29,
          "x1": 29,
          "y0": 22.91,
          "y1": 23.57
         },
         {
          "line": {
           "color": "darkgrey",
           "width": 0.5
          },
          "type": "line",
          "x0": 29,
          "x1": 29,
          "y0": 29.73,
          "y1": 30.39
         },
         {
          "line": {
           "color": "darkgrey",
           "width": 0.5
          },
          "type": "line",
          "x0": 29,
          "x1": 29,
          "y0": 53,
          "y1": 52.5
         },
         {
          "line": {
           "color": "darkgrey",
           "width": 0.5
          },
          "type": "line",
          "x0": 30,
          "x1": 30,
          "y0": 0.2,
          "y1": 0.7
         },
         {
          "line": {
           "color": "darkgrey",
           "width": 0.5
          },
          "type": "line",
          "x0": 30,
          "x1": 30,
          "y0": 22.91,
          "y1": 23.57
         },
         {
          "line": {
           "color": "darkgrey",
           "width": 0.5
          },
          "type": "line",
          "x0": 30,
          "x1": 30,
          "y0": 29.73,
          "y1": 30.39
         },
         {
          "line": {
           "color": "darkgrey",
           "width": 0.5
          },
          "type": "line",
          "x0": 30,
          "x1": 30,
          "y0": 53,
          "y1": 52.5
         },
         {
          "line": {
           "color": "darkgrey",
           "width": 0.5
          },
          "type": "line",
          "x0": 31,
          "x1": 31,
          "y0": 0.2,
          "y1": 0.7
         },
         {
          "line": {
           "color": "darkgrey",
           "width": 0.5
          },
          "type": "line",
          "x0": 31,
          "x1": 31,
          "y0": 22.91,
          "y1": 23.57
         },
         {
          "line": {
           "color": "darkgrey",
           "width": 0.5
          },
          "type": "line",
          "x0": 31,
          "x1": 31,
          "y0": 29.73,
          "y1": 30.39
         },
         {
          "line": {
           "color": "darkgrey",
           "width": 0.5
          },
          "type": "line",
          "x0": 31,
          "x1": 31,
          "y0": 53,
          "y1": 52.5
         },
         {
          "line": {
           "color": "darkgrey",
           "width": 0.5
          },
          "type": "line",
          "x0": 32,
          "x1": 32,
          "y0": 0.2,
          "y1": 0.7
         },
         {
          "line": {
           "color": "darkgrey",
           "width": 0.5
          },
          "type": "line",
          "x0": 32,
          "x1": 32,
          "y0": 22.91,
          "y1": 23.57
         },
         {
          "line": {
           "color": "darkgrey",
           "width": 0.5
          },
          "type": "line",
          "x0": 32,
          "x1": 32,
          "y0": 29.73,
          "y1": 30.39
         },
         {
          "line": {
           "color": "darkgrey",
           "width": 0.5
          },
          "type": "line",
          "x0": 32,
          "x1": 32,
          "y0": 53,
          "y1": 52.5
         },
         {
          "line": {
           "color": "darkgrey",
           "width": 0.5
          },
          "type": "line",
          "x0": 33,
          "x1": 33,
          "y0": 0.2,
          "y1": 0.7
         },
         {
          "line": {
           "color": "darkgrey",
           "width": 0.5
          },
          "type": "line",
          "x0": 33,
          "x1": 33,
          "y0": 22.91,
          "y1": 23.57
         },
         {
          "line": {
           "color": "darkgrey",
           "width": 0.5
          },
          "type": "line",
          "x0": 33,
          "x1": 33,
          "y0": 29.73,
          "y1": 30.39
         },
         {
          "line": {
           "color": "darkgrey",
           "width": 0.5
          },
          "type": "line",
          "x0": 33,
          "x1": 33,
          "y0": 53,
          "y1": 52.5
         },
         {
          "line": {
           "color": "darkgrey",
           "width": 0.5
          },
          "type": "line",
          "x0": 34,
          "x1": 34,
          "y0": 0.2,
          "y1": 0.7
         },
         {
          "line": {
           "color": "darkgrey",
           "width": 0.5
          },
          "type": "line",
          "x0": 34,
          "x1": 34,
          "y0": 22.91,
          "y1": 23.57
         },
         {
          "line": {
           "color": "darkgrey",
           "width": 0.5
          },
          "type": "line",
          "x0": 34,
          "x1": 34,
          "y0": 29.73,
          "y1": 30.39
         },
         {
          "line": {
           "color": "darkgrey",
           "width": 0.5
          },
          "type": "line",
          "x0": 34,
          "x1": 34,
          "y0": 53,
          "y1": 52.5
         },
         {
          "line": {
           "color": "darkgrey",
           "width": 0.5
          },
          "type": "line",
          "x0": 35,
          "x1": 35,
          "y0": 0.2,
          "y1": 0.7
         },
         {
          "line": {
           "color": "darkgrey",
           "width": 0.5
          },
          "type": "line",
          "x0": 35,
          "x1": 35,
          "y0": 22.91,
          "y1": 23.57
         },
         {
          "line": {
           "color": "darkgrey",
           "width": 0.5
          },
          "type": "line",
          "x0": 35,
          "x1": 35,
          "y0": 29.73,
          "y1": 30.39
         },
         {
          "line": {
           "color": "darkgrey",
           "width": 0.5
          },
          "type": "line",
          "x0": 35,
          "x1": 35,
          "y0": 53,
          "y1": 52.5
         },
         {
          "line": {
           "color": "darkgrey",
           "width": 0.5
          },
          "type": "line",
          "x0": 36,
          "x1": 36,
          "y0": 0.2,
          "y1": 0.7
         },
         {
          "line": {
           "color": "darkgrey",
           "width": 0.5
          },
          "type": "line",
          "x0": 36,
          "x1": 36,
          "y0": 22.91,
          "y1": 23.57
         },
         {
          "line": {
           "color": "darkgrey",
           "width": 0.5
          },
          "type": "line",
          "x0": 36,
          "x1": 36,
          "y0": 29.73,
          "y1": 30.39
         },
         {
          "line": {
           "color": "darkgrey",
           "width": 0.5
          },
          "type": "line",
          "x0": 36,
          "x1": 36,
          "y0": 53,
          "y1": 52.5
         },
         {
          "line": {
           "color": "darkgrey",
           "width": 0.5
          },
          "type": "line",
          "x0": 37,
          "x1": 37,
          "y0": 0.2,
          "y1": 0.7
         },
         {
          "line": {
           "color": "darkgrey",
           "width": 0.5
          },
          "type": "line",
          "x0": 37,
          "x1": 37,
          "y0": 22.91,
          "y1": 23.57
         },
         {
          "line": {
           "color": "darkgrey",
           "width": 0.5
          },
          "type": "line",
          "x0": 37,
          "x1": 37,
          "y0": 29.73,
          "y1": 30.39
         },
         {
          "line": {
           "color": "darkgrey",
           "width": 0.5
          },
          "type": "line",
          "x0": 37,
          "x1": 37,
          "y0": 53,
          "y1": 52.5
         },
         {
          "line": {
           "color": "darkgrey",
           "width": 0.5
          },
          "type": "line",
          "x0": 38,
          "x1": 38,
          "y0": 0.2,
          "y1": 0.7
         },
         {
          "line": {
           "color": "darkgrey",
           "width": 0.5
          },
          "type": "line",
          "x0": 38,
          "x1": 38,
          "y0": 22.91,
          "y1": 23.57
         },
         {
          "line": {
           "color": "darkgrey",
           "width": 0.5
          },
          "type": "line",
          "x0": 38,
          "x1": 38,
          "y0": 29.73,
          "y1": 30.39
         },
         {
          "line": {
           "color": "darkgrey",
           "width": 0.5
          },
          "type": "line",
          "x0": 38,
          "x1": 38,
          "y0": 53,
          "y1": 52.5
         },
         {
          "line": {
           "color": "darkgrey",
           "width": 0.5
          },
          "type": "line",
          "x0": 39,
          "x1": 39,
          "y0": 0.2,
          "y1": 0.7
         },
         {
          "line": {
           "color": "darkgrey",
           "width": 0.5
          },
          "type": "line",
          "x0": 39,
          "x1": 39,
          "y0": 22.91,
          "y1": 23.57
         },
         {
          "line": {
           "color": "darkgrey",
           "width": 0.5
          },
          "type": "line",
          "x0": 39,
          "x1": 39,
          "y0": 29.73,
          "y1": 30.39
         },
         {
          "line": {
           "color": "darkgrey",
           "width": 0.5
          },
          "type": "line",
          "x0": 39,
          "x1": 39,
          "y0": 53,
          "y1": 52.5
         },
         {
          "line": {
           "color": "darkgrey",
           "width": 0.5
          },
          "type": "line",
          "x0": 40,
          "x1": 40,
          "y0": 0.2,
          "y1": 0.7
         },
         {
          "line": {
           "color": "darkgrey",
           "width": 0.5
          },
          "type": "line",
          "x0": 40,
          "x1": 40,
          "y0": 22.91,
          "y1": 23.57
         },
         {
          "line": {
           "color": "darkgrey",
           "width": 0.5
          },
          "type": "line",
          "x0": 40,
          "x1": 40,
          "y0": 29.73,
          "y1": 30.39
         },
         {
          "line": {
           "color": "darkgrey",
           "width": 0.5
          },
          "type": "line",
          "x0": 40,
          "x1": 40,
          "y0": 53,
          "y1": 52.5
         },
         {
          "line": {
           "color": "darkgrey",
           "width": 0.5
          },
          "type": "line",
          "x0": 41,
          "x1": 41,
          "y0": 0.2,
          "y1": 0.7
         },
         {
          "line": {
           "color": "darkgrey",
           "width": 0.5
          },
          "type": "line",
          "x0": 41,
          "x1": 41,
          "y0": 22.91,
          "y1": 23.57
         },
         {
          "line": {
           "color": "darkgrey",
           "width": 0.5
          },
          "type": "line",
          "x0": 41,
          "x1": 41,
          "y0": 29.73,
          "y1": 30.39
         },
         {
          "line": {
           "color": "darkgrey",
           "width": 0.5
          },
          "type": "line",
          "x0": 41,
          "x1": 41,
          "y0": 53,
          "y1": 52.5
         },
         {
          "line": {
           "color": "darkgrey",
           "width": 0.5
          },
          "type": "line",
          "x0": 42,
          "x1": 42,
          "y0": 0.2,
          "y1": 0.7
         },
         {
          "line": {
           "color": "darkgrey",
           "width": 0.5
          },
          "type": "line",
          "x0": 42,
          "x1": 42,
          "y0": 22.91,
          "y1": 23.57
         },
         {
          "line": {
           "color": "darkgrey",
           "width": 0.5
          },
          "type": "line",
          "x0": 42,
          "x1": 42,
          "y0": 29.73,
          "y1": 30.39
         },
         {
          "line": {
           "color": "darkgrey",
           "width": 0.5
          },
          "type": "line",
          "x0": 42,
          "x1": 42,
          "y0": 53,
          "y1": 52.5
         },
         {
          "line": {
           "color": "darkgrey",
           "width": 0.5
          },
          "type": "line",
          "x0": 43,
          "x1": 43,
          "y0": 0.2,
          "y1": 0.7
         },
         {
          "line": {
           "color": "darkgrey",
           "width": 0.5
          },
          "type": "line",
          "x0": 43,
          "x1": 43,
          "y0": 22.91,
          "y1": 23.57
         },
         {
          "line": {
           "color": "darkgrey",
           "width": 0.5
          },
          "type": "line",
          "x0": 43,
          "x1": 43,
          "y0": 29.73,
          "y1": 30.39
         },
         {
          "line": {
           "color": "darkgrey",
           "width": 0.5
          },
          "type": "line",
          "x0": 43,
          "x1": 43,
          "y0": 53,
          "y1": 52.5
         },
         {
          "line": {
           "color": "darkgrey",
           "width": 0.5
          },
          "type": "line",
          "x0": 44,
          "x1": 44,
          "y0": 0.2,
          "y1": 0.7
         },
         {
          "line": {
           "color": "darkgrey",
           "width": 0.5
          },
          "type": "line",
          "x0": 44,
          "x1": 44,
          "y0": 22.91,
          "y1": 23.57
         },
         {
          "line": {
           "color": "darkgrey",
           "width": 0.5
          },
          "type": "line",
          "x0": 44,
          "x1": 44,
          "y0": 29.73,
          "y1": 30.39
         },
         {
          "line": {
           "color": "darkgrey",
           "width": 0.5
          },
          "type": "line",
          "x0": 44,
          "x1": 44,
          "y0": 53,
          "y1": 52.5
         },
         {
          "line": {
           "color": "darkgrey",
           "width": 0.5
          },
          "type": "line",
          "x0": 45,
          "x1": 45,
          "y0": 0.2,
          "y1": 0.7
         },
         {
          "line": {
           "color": "darkgrey",
           "width": 0.5
          },
          "type": "line",
          "x0": 45,
          "x1": 45,
          "y0": 22.91,
          "y1": 23.57
         },
         {
          "line": {
           "color": "darkgrey",
           "width": 0.5
          },
          "type": "line",
          "x0": 45,
          "x1": 45,
          "y0": 29.73,
          "y1": 30.39
         },
         {
          "line": {
           "color": "darkgrey",
           "width": 0.5
          },
          "type": "line",
          "x0": 45,
          "x1": 45,
          "y0": 53,
          "y1": 52.5
         },
         {
          "line": {
           "color": "darkgrey",
           "width": 0.5
          },
          "type": "line",
          "x0": 46,
          "x1": 46,
          "y0": 0.2,
          "y1": 0.7
         },
         {
          "line": {
           "color": "darkgrey",
           "width": 0.5
          },
          "type": "line",
          "x0": 46,
          "x1": 46,
          "y0": 22.91,
          "y1": 23.57
         },
         {
          "line": {
           "color": "darkgrey",
           "width": 0.5
          },
          "type": "line",
          "x0": 46,
          "x1": 46,
          "y0": 29.73,
          "y1": 30.39
         },
         {
          "line": {
           "color": "darkgrey",
           "width": 0.5
          },
          "type": "line",
          "x0": 46,
          "x1": 46,
          "y0": 53,
          "y1": 52.5
         },
         {
          "line": {
           "color": "darkgrey",
           "width": 0.5
          },
          "type": "line",
          "x0": 47,
          "x1": 47,
          "y0": 0.2,
          "y1": 0.7
         },
         {
          "line": {
           "color": "darkgrey",
           "width": 0.5
          },
          "type": "line",
          "x0": 47,
          "x1": 47,
          "y0": 22.91,
          "y1": 23.57
         },
         {
          "line": {
           "color": "darkgrey",
           "width": 0.5
          },
          "type": "line",
          "x0": 47,
          "x1": 47,
          "y0": 29.73,
          "y1": 30.39
         },
         {
          "line": {
           "color": "darkgrey",
           "width": 0.5
          },
          "type": "line",
          "x0": 47,
          "x1": 47,
          "y0": 53,
          "y1": 52.5
         },
         {
          "line": {
           "color": "darkgrey",
           "width": 0.5
          },
          "type": "line",
          "x0": 48,
          "x1": 48,
          "y0": 0.2,
          "y1": 0.7
         },
         {
          "line": {
           "color": "darkgrey",
           "width": 0.5
          },
          "type": "line",
          "x0": 48,
          "x1": 48,
          "y0": 22.91,
          "y1": 23.57
         },
         {
          "line": {
           "color": "darkgrey",
           "width": 0.5
          },
          "type": "line",
          "x0": 48,
          "x1": 48,
          "y0": 29.73,
          "y1": 30.39
         },
         {
          "line": {
           "color": "darkgrey",
           "width": 0.5
          },
          "type": "line",
          "x0": 48,
          "x1": 48,
          "y0": 53,
          "y1": 52.5
         },
         {
          "line": {
           "color": "darkgrey",
           "width": 0.5
          },
          "type": "line",
          "x0": 49,
          "x1": 49,
          "y0": 0.2,
          "y1": 0.7
         },
         {
          "line": {
           "color": "darkgrey",
           "width": 0.5
          },
          "type": "line",
          "x0": 49,
          "x1": 49,
          "y0": 22.91,
          "y1": 23.57
         },
         {
          "line": {
           "color": "darkgrey",
           "width": 0.5
          },
          "type": "line",
          "x0": 49,
          "x1": 49,
          "y0": 29.73,
          "y1": 30.39
         },
         {
          "line": {
           "color": "darkgrey",
           "width": 0.5
          },
          "type": "line",
          "x0": 49,
          "x1": 49,
          "y0": 53,
          "y1": 52.5
         },
         {
          "line": {
           "color": "darkgrey",
           "width": 0.5
          },
          "type": "line",
          "x0": 50,
          "x1": 50,
          "y0": 0.2,
          "y1": 0.7
         },
         {
          "line": {
           "color": "darkgrey",
           "width": 0.5
          },
          "type": "line",
          "x0": 50,
          "x1": 50,
          "y0": 22.91,
          "y1": 23.57
         },
         {
          "line": {
           "color": "darkgrey",
           "width": 0.5
          },
          "type": "line",
          "x0": 50,
          "x1": 50,
          "y0": 29.73,
          "y1": 30.39
         },
         {
          "line": {
           "color": "darkgrey",
           "width": 0.5
          },
          "type": "line",
          "x0": 50,
          "x1": 50,
          "y0": 53,
          "y1": 52.5
         },
         {
          "line": {
           "color": "darkgrey",
           "width": 0.5
          },
          "type": "line",
          "x0": 51,
          "x1": 51,
          "y0": 0.2,
          "y1": 0.7
         },
         {
          "line": {
           "color": "darkgrey",
           "width": 0.5
          },
          "type": "line",
          "x0": 51,
          "x1": 51,
          "y0": 22.91,
          "y1": 23.57
         },
         {
          "line": {
           "color": "darkgrey",
           "width": 0.5
          },
          "type": "line",
          "x0": 51,
          "x1": 51,
          "y0": 29.73,
          "y1": 30.39
         },
         {
          "line": {
           "color": "darkgrey",
           "width": 0.5
          },
          "type": "line",
          "x0": 51,
          "x1": 51,
          "y0": 53,
          "y1": 52.5
         },
         {
          "line": {
           "color": "darkgrey",
           "width": 0.5
          },
          "type": "line",
          "x0": 52,
          "x1": 52,
          "y0": 0.2,
          "y1": 0.7
         },
         {
          "line": {
           "color": "darkgrey",
           "width": 0.5
          },
          "type": "line",
          "x0": 52,
          "x1": 52,
          "y0": 22.91,
          "y1": 23.57
         },
         {
          "line": {
           "color": "darkgrey",
           "width": 0.5
          },
          "type": "line",
          "x0": 52,
          "x1": 52,
          "y0": 29.73,
          "y1": 30.39
         },
         {
          "line": {
           "color": "darkgrey",
           "width": 0.5
          },
          "type": "line",
          "x0": 52,
          "x1": 52,
          "y0": 53,
          "y1": 52.5
         },
         {
          "line": {
           "color": "darkgrey",
           "width": 0.5
          },
          "type": "line",
          "x0": 53,
          "x1": 53,
          "y0": 0.2,
          "y1": 0.7
         },
         {
          "line": {
           "color": "darkgrey",
           "width": 0.5
          },
          "type": "line",
          "x0": 53,
          "x1": 53,
          "y0": 22.91,
          "y1": 23.57
         },
         {
          "line": {
           "color": "darkgrey",
           "width": 0.5
          },
          "type": "line",
          "x0": 53,
          "x1": 53,
          "y0": 29.73,
          "y1": 30.39
         },
         {
          "line": {
           "color": "darkgrey",
           "width": 0.5
          },
          "type": "line",
          "x0": 53,
          "x1": 53,
          "y0": 53,
          "y1": 52.5
         },
         {
          "line": {
           "color": "darkgrey",
           "width": 0.5
          },
          "type": "line",
          "x0": 54,
          "x1": 54,
          "y0": 0.2,
          "y1": 0.7
         },
         {
          "line": {
           "color": "darkgrey",
           "width": 0.5
          },
          "type": "line",
          "x0": 54,
          "x1": 54,
          "y0": 22.91,
          "y1": 23.57
         },
         {
          "line": {
           "color": "darkgrey",
           "width": 0.5
          },
          "type": "line",
          "x0": 54,
          "x1": 54,
          "y0": 29.73,
          "y1": 30.39
         },
         {
          "line": {
           "color": "darkgrey",
           "width": 0.5
          },
          "type": "line",
          "x0": 54,
          "x1": 54,
          "y0": 53,
          "y1": 52.5
         },
         {
          "line": {
           "color": "darkgrey",
           "width": 0.5
          },
          "type": "line",
          "x0": 55,
          "x1": 55,
          "y0": 0.2,
          "y1": 0.7
         },
         {
          "line": {
           "color": "darkgrey",
           "width": 0.5
          },
          "type": "line",
          "x0": 55,
          "x1": 55,
          "y0": 22.91,
          "y1": 23.57
         },
         {
          "line": {
           "color": "darkgrey",
           "width": 0.5
          },
          "type": "line",
          "x0": 55,
          "x1": 55,
          "y0": 29.73,
          "y1": 30.39
         },
         {
          "line": {
           "color": "darkgrey",
           "width": 0.5
          },
          "type": "line",
          "x0": 55,
          "x1": 55,
          "y0": 53,
          "y1": 52.5
         },
         {
          "line": {
           "color": "darkgrey",
           "width": 0.5
          },
          "type": "line",
          "x0": 56,
          "x1": 56,
          "y0": 0.2,
          "y1": 0.7
         },
         {
          "line": {
           "color": "darkgrey",
           "width": 0.5
          },
          "type": "line",
          "x0": 56,
          "x1": 56,
          "y0": 22.91,
          "y1": 23.57
         },
         {
          "line": {
           "color": "darkgrey",
           "width": 0.5
          },
          "type": "line",
          "x0": 56,
          "x1": 56,
          "y0": 29.73,
          "y1": 30.39
         },
         {
          "line": {
           "color": "darkgrey",
           "width": 0.5
          },
          "type": "line",
          "x0": 56,
          "x1": 56,
          "y0": 53,
          "y1": 52.5
         },
         {
          "line": {
           "color": "darkgrey",
           "width": 0.5
          },
          "type": "line",
          "x0": 57,
          "x1": 57,
          "y0": 0.2,
          "y1": 0.7
         },
         {
          "line": {
           "color": "darkgrey",
           "width": 0.5
          },
          "type": "line",
          "x0": 57,
          "x1": 57,
          "y0": 22.91,
          "y1": 23.57
         },
         {
          "line": {
           "color": "darkgrey",
           "width": 0.5
          },
          "type": "line",
          "x0": 57,
          "x1": 57,
          "y0": 29.73,
          "y1": 30.39
         },
         {
          "line": {
           "color": "darkgrey",
           "width": 0.5
          },
          "type": "line",
          "x0": 57,
          "x1": 57,
          "y0": 53,
          "y1": 52.5
         },
         {
          "line": {
           "color": "darkgrey",
           "width": 0.5
          },
          "type": "line",
          "x0": 58,
          "x1": 58,
          "y0": 0.2,
          "y1": 0.7
         },
         {
          "line": {
           "color": "darkgrey",
           "width": 0.5
          },
          "type": "line",
          "x0": 58,
          "x1": 58,
          "y0": 22.91,
          "y1": 23.57
         },
         {
          "line": {
           "color": "darkgrey",
           "width": 0.5
          },
          "type": "line",
          "x0": 58,
          "x1": 58,
          "y0": 29.73,
          "y1": 30.39
         },
         {
          "line": {
           "color": "darkgrey",
           "width": 0.5
          },
          "type": "line",
          "x0": 58,
          "x1": 58,
          "y0": 53,
          "y1": 52.5
         },
         {
          "line": {
           "color": "darkgrey",
           "width": 0.5
          },
          "type": "line",
          "x0": 59,
          "x1": 59,
          "y0": 0.2,
          "y1": 0.7
         },
         {
          "line": {
           "color": "darkgrey",
           "width": 0.5
          },
          "type": "line",
          "x0": 59,
          "x1": 59,
          "y0": 22.91,
          "y1": 23.57
         },
         {
          "line": {
           "color": "darkgrey",
           "width": 0.5
          },
          "type": "line",
          "x0": 59,
          "x1": 59,
          "y0": 29.73,
          "y1": 30.39
         },
         {
          "line": {
           "color": "darkgrey",
           "width": 0.5
          },
          "type": "line",
          "x0": 59,
          "x1": 59,
          "y0": 53,
          "y1": 52.5
         },
         {
          "line": {
           "color": "darkgrey",
           "width": 0.5
          },
          "type": "line",
          "x0": 60,
          "x1": 60,
          "y0": 0.2,
          "y1": 0.7
         },
         {
          "line": {
           "color": "darkgrey",
           "width": 0.5
          },
          "type": "line",
          "x0": 60,
          "x1": 60,
          "y0": 22.91,
          "y1": 23.57
         },
         {
          "line": {
           "color": "darkgrey",
           "width": 0.5
          },
          "type": "line",
          "x0": 60,
          "x1": 60,
          "y0": 29.73,
          "y1": 30.39
         },
         {
          "line": {
           "color": "darkgrey",
           "width": 0.5
          },
          "type": "line",
          "x0": 60,
          "x1": 60,
          "y0": 53,
          "y1": 52.5
         },
         {
          "line": {
           "color": "darkgrey",
           "width": 0.5
          },
          "type": "line",
          "x0": 61,
          "x1": 61,
          "y0": 0.2,
          "y1": 0.7
         },
         {
          "line": {
           "color": "darkgrey",
           "width": 0.5
          },
          "type": "line",
          "x0": 61,
          "x1": 61,
          "y0": 22.91,
          "y1": 23.57
         },
         {
          "line": {
           "color": "darkgrey",
           "width": 0.5
          },
          "type": "line",
          "x0": 61,
          "x1": 61,
          "y0": 29.73,
          "y1": 30.39
         },
         {
          "line": {
           "color": "darkgrey",
           "width": 0.5
          },
          "type": "line",
          "x0": 61,
          "x1": 61,
          "y0": 53,
          "y1": 52.5
         },
         {
          "line": {
           "color": "darkgrey",
           "width": 0.5
          },
          "type": "line",
          "x0": 62,
          "x1": 62,
          "y0": 0.2,
          "y1": 0.7
         },
         {
          "line": {
           "color": "darkgrey",
           "width": 0.5
          },
          "type": "line",
          "x0": 62,
          "x1": 62,
          "y0": 22.91,
          "y1": 23.57
         },
         {
          "line": {
           "color": "darkgrey",
           "width": 0.5
          },
          "type": "line",
          "x0": 62,
          "x1": 62,
          "y0": 29.73,
          "y1": 30.39
         },
         {
          "line": {
           "color": "darkgrey",
           "width": 0.5
          },
          "type": "line",
          "x0": 62,
          "x1": 62,
          "y0": 53,
          "y1": 52.5
         },
         {
          "line": {
           "color": "darkgrey",
           "width": 0.5
          },
          "type": "line",
          "x0": 63,
          "x1": 63,
          "y0": 0.2,
          "y1": 0.7
         },
         {
          "line": {
           "color": "darkgrey",
           "width": 0.5
          },
          "type": "line",
          "x0": 63,
          "x1": 63,
          "y0": 22.91,
          "y1": 23.57
         },
         {
          "line": {
           "color": "darkgrey",
           "width": 0.5
          },
          "type": "line",
          "x0": 63,
          "x1": 63,
          "y0": 29.73,
          "y1": 30.39
         },
         {
          "line": {
           "color": "darkgrey",
           "width": 0.5
          },
          "type": "line",
          "x0": 63,
          "x1": 63,
          "y0": 53,
          "y1": 52.5
         },
         {
          "line": {
           "color": "darkgrey",
           "width": 0.5
          },
          "type": "line",
          "x0": 64,
          "x1": 64,
          "y0": 0.2,
          "y1": 0.7
         },
         {
          "line": {
           "color": "darkgrey",
           "width": 0.5
          },
          "type": "line",
          "x0": 64,
          "x1": 64,
          "y0": 22.91,
          "y1": 23.57
         },
         {
          "line": {
           "color": "darkgrey",
           "width": 0.5
          },
          "type": "line",
          "x0": 64,
          "x1": 64,
          "y0": 29.73,
          "y1": 30.39
         },
         {
          "line": {
           "color": "darkgrey",
           "width": 0.5
          },
          "type": "line",
          "x0": 64,
          "x1": 64,
          "y0": 53,
          "y1": 52.5
         },
         {
          "line": {
           "color": "darkgrey",
           "width": 0.5
          },
          "type": "line",
          "x0": 65,
          "x1": 65,
          "y0": 0.2,
          "y1": 0.7
         },
         {
          "line": {
           "color": "darkgrey",
           "width": 0.5
          },
          "type": "line",
          "x0": 65,
          "x1": 65,
          "y0": 22.91,
          "y1": 23.57
         },
         {
          "line": {
           "color": "darkgrey",
           "width": 0.5
          },
          "type": "line",
          "x0": 65,
          "x1": 65,
          "y0": 29.73,
          "y1": 30.39
         },
         {
          "line": {
           "color": "darkgrey",
           "width": 0.5
          },
          "type": "line",
          "x0": 65,
          "x1": 65,
          "y0": 53,
          "y1": 52.5
         },
         {
          "line": {
           "color": "darkgrey",
           "width": 0.5
          },
          "type": "line",
          "x0": 66,
          "x1": 66,
          "y0": 0.2,
          "y1": 0.7
         },
         {
          "line": {
           "color": "darkgrey",
           "width": 0.5
          },
          "type": "line",
          "x0": 66,
          "x1": 66,
          "y0": 22.91,
          "y1": 23.57
         },
         {
          "line": {
           "color": "darkgrey",
           "width": 0.5
          },
          "type": "line",
          "x0": 66,
          "x1": 66,
          "y0": 29.73,
          "y1": 30.39
         },
         {
          "line": {
           "color": "darkgrey",
           "width": 0.5
          },
          "type": "line",
          "x0": 66,
          "x1": 66,
          "y0": 53,
          "y1": 52.5
         },
         {
          "line": {
           "color": "darkgrey",
           "width": 0.5
          },
          "type": "line",
          "x0": 67,
          "x1": 67,
          "y0": 0.2,
          "y1": 0.7
         },
         {
          "line": {
           "color": "darkgrey",
           "width": 0.5
          },
          "type": "line",
          "x0": 67,
          "x1": 67,
          "y0": 22.91,
          "y1": 23.57
         },
         {
          "line": {
           "color": "darkgrey",
           "width": 0.5
          },
          "type": "line",
          "x0": 67,
          "x1": 67,
          "y0": 29.73,
          "y1": 30.39
         },
         {
          "line": {
           "color": "darkgrey",
           "width": 0.5
          },
          "type": "line",
          "x0": 67,
          "x1": 67,
          "y0": 53,
          "y1": 52.5
         },
         {
          "line": {
           "color": "darkgrey",
           "width": 0.5
          },
          "type": "line",
          "x0": 68,
          "x1": 68,
          "y0": 0.2,
          "y1": 0.7
         },
         {
          "line": {
           "color": "darkgrey",
           "width": 0.5
          },
          "type": "line",
          "x0": 68,
          "x1": 68,
          "y0": 22.91,
          "y1": 23.57
         },
         {
          "line": {
           "color": "darkgrey",
           "width": 0.5
          },
          "type": "line",
          "x0": 68,
          "x1": 68,
          "y0": 29.73,
          "y1": 30.39
         },
         {
          "line": {
           "color": "darkgrey",
           "width": 0.5
          },
          "type": "line",
          "x0": 68,
          "x1": 68,
          "y0": 53,
          "y1": 52.5
         },
         {
          "line": {
           "color": "darkgrey",
           "width": 0.5
          },
          "type": "line",
          "x0": 69,
          "x1": 69,
          "y0": 0.2,
          "y1": 0.7
         },
         {
          "line": {
           "color": "darkgrey",
           "width": 0.5
          },
          "type": "line",
          "x0": 69,
          "x1": 69,
          "y0": 22.91,
          "y1": 23.57
         },
         {
          "line": {
           "color": "darkgrey",
           "width": 0.5
          },
          "type": "line",
          "x0": 69,
          "x1": 69,
          "y0": 29.73,
          "y1": 30.39
         },
         {
          "line": {
           "color": "darkgrey",
           "width": 0.5
          },
          "type": "line",
          "x0": 69,
          "x1": 69,
          "y0": 53,
          "y1": 52.5
         },
         {
          "line": {
           "color": "darkgrey",
           "width": 0.5
          },
          "type": "line",
          "x0": 70,
          "x1": 70,
          "y0": 0.2,
          "y1": 0.7
         },
         {
          "line": {
           "color": "darkgrey",
           "width": 0.5
          },
          "type": "line",
          "x0": 70,
          "x1": 70,
          "y0": 22.91,
          "y1": 23.57
         },
         {
          "line": {
           "color": "darkgrey",
           "width": 0.5
          },
          "type": "line",
          "x0": 70,
          "x1": 70,
          "y0": 29.73,
          "y1": 30.39
         },
         {
          "line": {
           "color": "darkgrey",
           "width": 0.5
          },
          "type": "line",
          "x0": 70,
          "x1": 70,
          "y0": 53,
          "y1": 52.5
         },
         {
          "line": {
           "color": "darkgrey",
           "width": 0.5
          },
          "type": "line",
          "x0": 71,
          "x1": 71,
          "y0": 0.2,
          "y1": 0.7
         },
         {
          "line": {
           "color": "darkgrey",
           "width": 0.5
          },
          "type": "line",
          "x0": 71,
          "x1": 71,
          "y0": 22.91,
          "y1": 23.57
         },
         {
          "line": {
           "color": "darkgrey",
           "width": 0.5
          },
          "type": "line",
          "x0": 71,
          "x1": 71,
          "y0": 29.73,
          "y1": 30.39
         },
         {
          "line": {
           "color": "darkgrey",
           "width": 0.5
          },
          "type": "line",
          "x0": 71,
          "x1": 71,
          "y0": 53,
          "y1": 52.5
         },
         {
          "line": {
           "color": "darkgrey",
           "width": 0.5
          },
          "type": "line",
          "x0": 72,
          "x1": 72,
          "y0": 0.2,
          "y1": 0.7
         },
         {
          "line": {
           "color": "darkgrey",
           "width": 0.5
          },
          "type": "line",
          "x0": 72,
          "x1": 72,
          "y0": 22.91,
          "y1": 23.57
         },
         {
          "line": {
           "color": "darkgrey",
           "width": 0.5
          },
          "type": "line",
          "x0": 72,
          "x1": 72,
          "y0": 29.73,
          "y1": 30.39
         },
         {
          "line": {
           "color": "darkgrey",
           "width": 0.5
          },
          "type": "line",
          "x0": 72,
          "x1": 72,
          "y0": 53,
          "y1": 52.5
         },
         {
          "line": {
           "color": "darkgrey",
           "width": 0.5
          },
          "type": "line",
          "x0": 73,
          "x1": 73,
          "y0": 0.2,
          "y1": 0.7
         },
         {
          "line": {
           "color": "darkgrey",
           "width": 0.5
          },
          "type": "line",
          "x0": 73,
          "x1": 73,
          "y0": 22.91,
          "y1": 23.57
         },
         {
          "line": {
           "color": "darkgrey",
           "width": 0.5
          },
          "type": "line",
          "x0": 73,
          "x1": 73,
          "y0": 29.73,
          "y1": 30.39
         },
         {
          "line": {
           "color": "darkgrey",
           "width": 0.5
          },
          "type": "line",
          "x0": 73,
          "x1": 73,
          "y0": 53,
          "y1": 52.5
         },
         {
          "line": {
           "color": "darkgrey",
           "width": 0.5
          },
          "type": "line",
          "x0": 74,
          "x1": 74,
          "y0": 0.2,
          "y1": 0.7
         },
         {
          "line": {
           "color": "darkgrey",
           "width": 0.5
          },
          "type": "line",
          "x0": 74,
          "x1": 74,
          "y0": 22.91,
          "y1": 23.57
         },
         {
          "line": {
           "color": "darkgrey",
           "width": 0.5
          },
          "type": "line",
          "x0": 74,
          "x1": 74,
          "y0": 29.73,
          "y1": 30.39
         },
         {
          "line": {
           "color": "darkgrey",
           "width": 0.5
          },
          "type": "line",
          "x0": 74,
          "x1": 74,
          "y0": 53,
          "y1": 52.5
         },
         {
          "line": {
           "color": "darkgrey",
           "width": 0.5
          },
          "type": "line",
          "x0": 75,
          "x1": 75,
          "y0": 0.2,
          "y1": 0.7
         },
         {
          "line": {
           "color": "darkgrey",
           "width": 0.5
          },
          "type": "line",
          "x0": 75,
          "x1": 75,
          "y0": 22.91,
          "y1": 23.57
         },
         {
          "line": {
           "color": "darkgrey",
           "width": 0.5
          },
          "type": "line",
          "x0": 75,
          "x1": 75,
          "y0": 29.73,
          "y1": 30.39
         },
         {
          "line": {
           "color": "darkgrey",
           "width": 0.5
          },
          "type": "line",
          "x0": 75,
          "x1": 75,
          "y0": 53,
          "y1": 52.5
         },
         {
          "line": {
           "color": "darkgrey",
           "width": 0.5
          },
          "type": "line",
          "x0": 76,
          "x1": 76,
          "y0": 0.2,
          "y1": 0.7
         },
         {
          "line": {
           "color": "darkgrey",
           "width": 0.5
          },
          "type": "line",
          "x0": 76,
          "x1": 76,
          "y0": 22.91,
          "y1": 23.57
         },
         {
          "line": {
           "color": "darkgrey",
           "width": 0.5
          },
          "type": "line",
          "x0": 76,
          "x1": 76,
          "y0": 29.73,
          "y1": 30.39
         },
         {
          "line": {
           "color": "darkgrey",
           "width": 0.5
          },
          "type": "line",
          "x0": 76,
          "x1": 76,
          "y0": 53,
          "y1": 52.5
         },
         {
          "line": {
           "color": "darkgrey",
           "width": 0.5
          },
          "type": "line",
          "x0": 77,
          "x1": 77,
          "y0": 0.2,
          "y1": 0.7
         },
         {
          "line": {
           "color": "darkgrey",
           "width": 0.5
          },
          "type": "line",
          "x0": 77,
          "x1": 77,
          "y0": 22.91,
          "y1": 23.57
         },
         {
          "line": {
           "color": "darkgrey",
           "width": 0.5
          },
          "type": "line",
          "x0": 77,
          "x1": 77,
          "y0": 29.73,
          "y1": 30.39
         },
         {
          "line": {
           "color": "darkgrey",
           "width": 0.5
          },
          "type": "line",
          "x0": 77,
          "x1": 77,
          "y0": 53,
          "y1": 52.5
         },
         {
          "line": {
           "color": "darkgrey",
           "width": 0.5
          },
          "type": "line",
          "x0": 78,
          "x1": 78,
          "y0": 0.2,
          "y1": 0.7
         },
         {
          "line": {
           "color": "darkgrey",
           "width": 0.5
          },
          "type": "line",
          "x0": 78,
          "x1": 78,
          "y0": 22.91,
          "y1": 23.57
         },
         {
          "line": {
           "color": "darkgrey",
           "width": 0.5
          },
          "type": "line",
          "x0": 78,
          "x1": 78,
          "y0": 29.73,
          "y1": 30.39
         },
         {
          "line": {
           "color": "darkgrey",
           "width": 0.5
          },
          "type": "line",
          "x0": 78,
          "x1": 78,
          "y0": 53,
          "y1": 52.5
         },
         {
          "line": {
           "color": "darkgrey",
           "width": 0.5
          },
          "type": "line",
          "x0": 79,
          "x1": 79,
          "y0": 0.2,
          "y1": 0.7
         },
         {
          "line": {
           "color": "darkgrey",
           "width": 0.5
          },
          "type": "line",
          "x0": 79,
          "x1": 79,
          "y0": 22.91,
          "y1": 23.57
         },
         {
          "line": {
           "color": "darkgrey",
           "width": 0.5
          },
          "type": "line",
          "x0": 79,
          "x1": 79,
          "y0": 29.73,
          "y1": 30.39
         },
         {
          "line": {
           "color": "darkgrey",
           "width": 0.5
          },
          "type": "line",
          "x0": 79,
          "x1": 79,
          "y0": 53,
          "y1": 52.5
         },
         {
          "line": {
           "color": "darkgrey",
           "width": 0.5
          },
          "type": "line",
          "x0": 80,
          "x1": 80,
          "y0": 0.2,
          "y1": 0.7
         },
         {
          "line": {
           "color": "darkgrey",
           "width": 0.5
          },
          "type": "line",
          "x0": 80,
          "x1": 80,
          "y0": 22.91,
          "y1": 23.57
         },
         {
          "line": {
           "color": "darkgrey",
           "width": 0.5
          },
          "type": "line",
          "x0": 80,
          "x1": 80,
          "y0": 29.73,
          "y1": 30.39
         },
         {
          "line": {
           "color": "darkgrey",
           "width": 0.5
          },
          "type": "line",
          "x0": 80,
          "x1": 80,
          "y0": 53,
          "y1": 52.5
         },
         {
          "line": {
           "color": "darkgrey",
           "width": 0.5
          },
          "type": "line",
          "x0": 81,
          "x1": 81,
          "y0": 0.2,
          "y1": 0.7
         },
         {
          "line": {
           "color": "darkgrey",
           "width": 0.5
          },
          "type": "line",
          "x0": 81,
          "x1": 81,
          "y0": 22.91,
          "y1": 23.57
         },
         {
          "line": {
           "color": "darkgrey",
           "width": 0.5
          },
          "type": "line",
          "x0": 81,
          "x1": 81,
          "y0": 29.73,
          "y1": 30.39
         },
         {
          "line": {
           "color": "darkgrey",
           "width": 0.5
          },
          "type": "line",
          "x0": 81,
          "x1": 81,
          "y0": 53,
          "y1": 52.5
         },
         {
          "line": {
           "color": "darkgrey",
           "width": 0.5
          },
          "type": "line",
          "x0": 82,
          "x1": 82,
          "y0": 0.2,
          "y1": 0.7
         },
         {
          "line": {
           "color": "darkgrey",
           "width": 0.5
          },
          "type": "line",
          "x0": 82,
          "x1": 82,
          "y0": 22.91,
          "y1": 23.57
         },
         {
          "line": {
           "color": "darkgrey",
           "width": 0.5
          },
          "type": "line",
          "x0": 82,
          "x1": 82,
          "y0": 29.73,
          "y1": 30.39
         },
         {
          "line": {
           "color": "darkgrey",
           "width": 0.5
          },
          "type": "line",
          "x0": 82,
          "x1": 82,
          "y0": 53,
          "y1": 52.5
         },
         {
          "line": {
           "color": "darkgrey",
           "width": 0.5
          },
          "type": "line",
          "x0": 83,
          "x1": 83,
          "y0": 0.2,
          "y1": 0.7
         },
         {
          "line": {
           "color": "darkgrey",
           "width": 0.5
          },
          "type": "line",
          "x0": 83,
          "x1": 83,
          "y0": 22.91,
          "y1": 23.57
         },
         {
          "line": {
           "color": "darkgrey",
           "width": 0.5
          },
          "type": "line",
          "x0": 83,
          "x1": 83,
          "y0": 29.73,
          "y1": 30.39
         },
         {
          "line": {
           "color": "darkgrey",
           "width": 0.5
          },
          "type": "line",
          "x0": 83,
          "x1": 83,
          "y0": 53,
          "y1": 52.5
         },
         {
          "line": {
           "color": "darkgrey",
           "width": 0.5
          },
          "type": "line",
          "x0": 84,
          "x1": 84,
          "y0": 0.2,
          "y1": 0.7
         },
         {
          "line": {
           "color": "darkgrey",
           "width": 0.5
          },
          "type": "line",
          "x0": 84,
          "x1": 84,
          "y0": 22.91,
          "y1": 23.57
         },
         {
          "line": {
           "color": "darkgrey",
           "width": 0.5
          },
          "type": "line",
          "x0": 84,
          "x1": 84,
          "y0": 29.73,
          "y1": 30.39
         },
         {
          "line": {
           "color": "darkgrey",
           "width": 0.5
          },
          "type": "line",
          "x0": 84,
          "x1": 84,
          "y0": 53,
          "y1": 52.5
         },
         {
          "line": {
           "color": "darkgrey",
           "width": 0.5
          },
          "type": "line",
          "x0": 85,
          "x1": 85,
          "y0": 0.2,
          "y1": 0.7
         },
         {
          "line": {
           "color": "darkgrey",
           "width": 0.5
          },
          "type": "line",
          "x0": 85,
          "x1": 85,
          "y0": 22.91,
          "y1": 23.57
         },
         {
          "line": {
           "color": "darkgrey",
           "width": 0.5
          },
          "type": "line",
          "x0": 85,
          "x1": 85,
          "y0": 29.73,
          "y1": 30.39
         },
         {
          "line": {
           "color": "darkgrey",
           "width": 0.5
          },
          "type": "line",
          "x0": 85,
          "x1": 85,
          "y0": 53,
          "y1": 52.5
         },
         {
          "line": {
           "color": "darkgrey",
           "width": 0.5
          },
          "type": "line",
          "x0": 86,
          "x1": 86,
          "y0": 0.2,
          "y1": 0.7
         },
         {
          "line": {
           "color": "darkgrey",
           "width": 0.5
          },
          "type": "line",
          "x0": 86,
          "x1": 86,
          "y0": 22.91,
          "y1": 23.57
         },
         {
          "line": {
           "color": "darkgrey",
           "width": 0.5
          },
          "type": "line",
          "x0": 86,
          "x1": 86,
          "y0": 29.73,
          "y1": 30.39
         },
         {
          "line": {
           "color": "darkgrey",
           "width": 0.5
          },
          "type": "line",
          "x0": 86,
          "x1": 86,
          "y0": 53,
          "y1": 52.5
         },
         {
          "line": {
           "color": "darkgrey",
           "width": 0.5
          },
          "type": "line",
          "x0": 87,
          "x1": 87,
          "y0": 0.2,
          "y1": 0.7
         },
         {
          "line": {
           "color": "darkgrey",
           "width": 0.5
          },
          "type": "line",
          "x0": 87,
          "x1": 87,
          "y0": 22.91,
          "y1": 23.57
         },
         {
          "line": {
           "color": "darkgrey",
           "width": 0.5
          },
          "type": "line",
          "x0": 87,
          "x1": 87,
          "y0": 29.73,
          "y1": 30.39
         },
         {
          "line": {
           "color": "darkgrey",
           "width": 0.5
          },
          "type": "line",
          "x0": 87,
          "x1": 87,
          "y0": 53,
          "y1": 52.5
         },
         {
          "line": {
           "color": "darkgrey",
           "width": 0.5
          },
          "type": "line",
          "x0": 88,
          "x1": 88,
          "y0": 0.2,
          "y1": 0.7
         },
         {
          "line": {
           "color": "darkgrey",
           "width": 0.5
          },
          "type": "line",
          "x0": 88,
          "x1": 88,
          "y0": 22.91,
          "y1": 23.57
         },
         {
          "line": {
           "color": "darkgrey",
           "width": 0.5
          },
          "type": "line",
          "x0": 88,
          "x1": 88,
          "y0": 29.73,
          "y1": 30.39
         },
         {
          "line": {
           "color": "darkgrey",
           "width": 0.5
          },
          "type": "line",
          "x0": 88,
          "x1": 88,
          "y0": 53,
          "y1": 52.5
         },
         {
          "line": {
           "color": "darkgrey",
           "width": 0.5
          },
          "type": "line",
          "x0": 89,
          "x1": 89,
          "y0": 0.2,
          "y1": 0.7
         },
         {
          "line": {
           "color": "darkgrey",
           "width": 0.5
          },
          "type": "line",
          "x0": 89,
          "x1": 89,
          "y0": 22.91,
          "y1": 23.57
         },
         {
          "line": {
           "color": "darkgrey",
           "width": 0.5
          },
          "type": "line",
          "x0": 89,
          "x1": 89,
          "y0": 29.73,
          "y1": 30.39
         },
         {
          "line": {
           "color": "darkgrey",
           "width": 0.5
          },
          "type": "line",
          "x0": 89,
          "x1": 89,
          "y0": 53,
          "y1": 52.5
         },
         {
          "line": {
           "color": "darkgrey",
           "width": 0.5
          },
          "type": "line",
          "x0": 90,
          "x1": 90,
          "y0": 0.2,
          "y1": 0.7
         },
         {
          "line": {
           "color": "darkgrey",
           "width": 0.5
          },
          "type": "line",
          "x0": 90,
          "x1": 90,
          "y0": 22.91,
          "y1": 23.57
         },
         {
          "line": {
           "color": "darkgrey",
           "width": 0.5
          },
          "type": "line",
          "x0": 90,
          "x1": 90,
          "y0": 29.73,
          "y1": 30.39
         },
         {
          "line": {
           "color": "darkgrey",
           "width": 0.5
          },
          "type": "line",
          "x0": 90,
          "x1": 90,
          "y0": 53,
          "y1": 52.5
         },
         {
          "line": {
           "color": "darkgrey",
           "width": 0.5
          },
          "type": "line",
          "x0": 91,
          "x1": 91,
          "y0": 0.2,
          "y1": 0.7
         },
         {
          "line": {
           "color": "darkgrey",
           "width": 0.5
          },
          "type": "line",
          "x0": 91,
          "x1": 91,
          "y0": 22.91,
          "y1": 23.57
         },
         {
          "line": {
           "color": "darkgrey",
           "width": 0.5
          },
          "type": "line",
          "x0": 91,
          "x1": 91,
          "y0": 29.73,
          "y1": 30.39
         },
         {
          "line": {
           "color": "darkgrey",
           "width": 0.5
          },
          "type": "line",
          "x0": 91,
          "x1": 91,
          "y0": 53,
          "y1": 52.5
         },
         {
          "line": {
           "color": "darkgrey",
           "width": 0.5
          },
          "type": "line",
          "x0": 92,
          "x1": 92,
          "y0": 0.2,
          "y1": 0.7
         },
         {
          "line": {
           "color": "darkgrey",
           "width": 0.5
          },
          "type": "line",
          "x0": 92,
          "x1": 92,
          "y0": 22.91,
          "y1": 23.57
         },
         {
          "line": {
           "color": "darkgrey",
           "width": 0.5
          },
          "type": "line",
          "x0": 92,
          "x1": 92,
          "y0": 29.73,
          "y1": 30.39
         },
         {
          "line": {
           "color": "darkgrey",
           "width": 0.5
          },
          "type": "line",
          "x0": 92,
          "x1": 92,
          "y0": 53,
          "y1": 52.5
         },
         {
          "line": {
           "color": "darkgrey",
           "width": 0.5
          },
          "type": "line",
          "x0": 93,
          "x1": 93,
          "y0": 0.2,
          "y1": 0.7
         },
         {
          "line": {
           "color": "darkgrey",
           "width": 0.5
          },
          "type": "line",
          "x0": 93,
          "x1": 93,
          "y0": 22.91,
          "y1": 23.57
         },
         {
          "line": {
           "color": "darkgrey",
           "width": 0.5
          },
          "type": "line",
          "x0": 93,
          "x1": 93,
          "y0": 29.73,
          "y1": 30.39
         },
         {
          "line": {
           "color": "darkgrey",
           "width": 0.5
          },
          "type": "line",
          "x0": 93,
          "x1": 93,
          "y0": 53,
          "y1": 52.5
         },
         {
          "line": {
           "color": "darkgrey",
           "width": 0.5
          },
          "type": "line",
          "x0": 94,
          "x1": 94,
          "y0": 0.2,
          "y1": 0.7
         },
         {
          "line": {
           "color": "darkgrey",
           "width": 0.5
          },
          "type": "line",
          "x0": 94,
          "x1": 94,
          "y0": 22.91,
          "y1": 23.57
         },
         {
          "line": {
           "color": "darkgrey",
           "width": 0.5
          },
          "type": "line",
          "x0": 94,
          "x1": 94,
          "y0": 29.73,
          "y1": 30.39
         },
         {
          "line": {
           "color": "darkgrey",
           "width": 0.5
          },
          "type": "line",
          "x0": 94,
          "x1": 94,
          "y0": 53,
          "y1": 52.5
         },
         {
          "line": {
           "color": "darkgrey",
           "width": 0.5
          },
          "type": "line",
          "x0": 95,
          "x1": 95,
          "y0": 0.2,
          "y1": 0.7
         },
         {
          "line": {
           "color": "darkgrey",
           "width": 0.5
          },
          "type": "line",
          "x0": 95,
          "x1": 95,
          "y0": 22.91,
          "y1": 23.57
         },
         {
          "line": {
           "color": "darkgrey",
           "width": 0.5
          },
          "type": "line",
          "x0": 95,
          "x1": 95,
          "y0": 29.73,
          "y1": 30.39
         },
         {
          "line": {
           "color": "darkgrey",
           "width": 0.5
          },
          "type": "line",
          "x0": 95,
          "x1": 95,
          "y0": 53,
          "y1": 52.5
         },
         {
          "line": {
           "color": "darkgrey",
           "width": 0.5
          },
          "type": "line",
          "x0": 96,
          "x1": 96,
          "y0": 0.2,
          "y1": 0.7
         },
         {
          "line": {
           "color": "darkgrey",
           "width": 0.5
          },
          "type": "line",
          "x0": 96,
          "x1": 96,
          "y0": 22.91,
          "y1": 23.57
         },
         {
          "line": {
           "color": "darkgrey",
           "width": 0.5
          },
          "type": "line",
          "x0": 96,
          "x1": 96,
          "y0": 29.73,
          "y1": 30.39
         },
         {
          "line": {
           "color": "darkgrey",
           "width": 0.5
          },
          "type": "line",
          "x0": 96,
          "x1": 96,
          "y0": 53,
          "y1": 52.5
         },
         {
          "line": {
           "color": "darkgrey",
           "width": 0.5
          },
          "type": "line",
          "x0": 97,
          "x1": 97,
          "y0": 0.2,
          "y1": 0.7
         },
         {
          "line": {
           "color": "darkgrey",
           "width": 0.5
          },
          "type": "line",
          "x0": 97,
          "x1": 97,
          "y0": 22.91,
          "y1": 23.57
         },
         {
          "line": {
           "color": "darkgrey",
           "width": 0.5
          },
          "type": "line",
          "x0": 97,
          "x1": 97,
          "y0": 29.73,
          "y1": 30.39
         },
         {
          "line": {
           "color": "darkgrey",
           "width": 0.5
          },
          "type": "line",
          "x0": 97,
          "x1": 97,
          "y0": 53,
          "y1": 52.5
         },
         {
          "line": {
           "color": "darkgrey",
           "width": 0.5
          },
          "type": "line",
          "x0": 98,
          "x1": 98,
          "y0": 0.2,
          "y1": 0.7
         },
         {
          "line": {
           "color": "darkgrey",
           "width": 0.5
          },
          "type": "line",
          "x0": 98,
          "x1": 98,
          "y0": 22.91,
          "y1": 23.57
         },
         {
          "line": {
           "color": "darkgrey",
           "width": 0.5
          },
          "type": "line",
          "x0": 98,
          "x1": 98,
          "y0": 29.73,
          "y1": 30.39
         },
         {
          "line": {
           "color": "darkgrey",
           "width": 0.5
          },
          "type": "line",
          "x0": 98,
          "x1": 98,
          "y0": 53,
          "y1": 52.5
         },
         {
          "line": {
           "color": "darkgrey",
           "width": 0.5
          },
          "type": "line",
          "x0": 99,
          "x1": 99,
          "y0": 0.2,
          "y1": 0.7
         },
         {
          "line": {
           "color": "darkgrey",
           "width": 0.5
          },
          "type": "line",
          "x0": 99,
          "x1": 99,
          "y0": 22.91,
          "y1": 23.57
         },
         {
          "line": {
           "color": "darkgrey",
           "width": 0.5
          },
          "type": "line",
          "x0": 99,
          "x1": 99,
          "y0": 29.73,
          "y1": 30.39
         },
         {
          "line": {
           "color": "darkgrey",
           "width": 0.5
          },
          "type": "line",
          "x0": 99,
          "x1": 99,
          "y0": 53,
          "y1": 52.5
         },
         {
          "line": {
           "color": "darkgrey",
           "width": 0.5
          },
          "type": "line",
          "x0": 100,
          "x1": 100,
          "y0": 0.2,
          "y1": 0.7
         },
         {
          "line": {
           "color": "darkgrey",
           "width": 0.5
          },
          "type": "line",
          "x0": 100,
          "x1": 100,
          "y0": 22.91,
          "y1": 23.57
         },
         {
          "line": {
           "color": "darkgrey",
           "width": 0.5
          },
          "type": "line",
          "x0": 100,
          "x1": 100,
          "y0": 29.73,
          "y1": 30.39
         },
         {
          "line": {
           "color": "darkgrey",
           "width": 0.5
          },
          "type": "line",
          "x0": 100,
          "x1": 100,
          "y0": 53,
          "y1": 52.5
         },
         {
          "line": {
           "color": "darkgrey",
           "width": 0.5
          },
          "type": "line",
          "x0": 101,
          "x1": 101,
          "y0": 0.2,
          "y1": 0.7
         },
         {
          "line": {
           "color": "darkgrey",
           "width": 0.5
          },
          "type": "line",
          "x0": 101,
          "x1": 101,
          "y0": 22.91,
          "y1": 23.57
         },
         {
          "line": {
           "color": "darkgrey",
           "width": 0.5
          },
          "type": "line",
          "x0": 101,
          "x1": 101,
          "y0": 29.73,
          "y1": 30.39
         },
         {
          "line": {
           "color": "darkgrey",
           "width": 0.5
          },
          "type": "line",
          "x0": 101,
          "x1": 101,
          "y0": 53,
          "y1": 52.5
         },
         {
          "line": {
           "color": "darkgrey",
           "width": 0.5
          },
          "type": "line",
          "x0": 102,
          "x1": 102,
          "y0": 0.2,
          "y1": 0.7
         },
         {
          "line": {
           "color": "darkgrey",
           "width": 0.5
          },
          "type": "line",
          "x0": 102,
          "x1": 102,
          "y0": 22.91,
          "y1": 23.57
         },
         {
          "line": {
           "color": "darkgrey",
           "width": 0.5
          },
          "type": "line",
          "x0": 102,
          "x1": 102,
          "y0": 29.73,
          "y1": 30.39
         },
         {
          "line": {
           "color": "darkgrey",
           "width": 0.5
          },
          "type": "line",
          "x0": 102,
          "x1": 102,
          "y0": 53,
          "y1": 52.5
         },
         {
          "line": {
           "color": "darkgrey",
           "width": 0.5
          },
          "type": "line",
          "x0": 103,
          "x1": 103,
          "y0": 0.2,
          "y1": 0.7
         },
         {
          "line": {
           "color": "darkgrey",
           "width": 0.5
          },
          "type": "line",
          "x0": 103,
          "x1": 103,
          "y0": 22.91,
          "y1": 23.57
         },
         {
          "line": {
           "color": "darkgrey",
           "width": 0.5
          },
          "type": "line",
          "x0": 103,
          "x1": 103,
          "y0": 29.73,
          "y1": 30.39
         },
         {
          "line": {
           "color": "darkgrey",
           "width": 0.5
          },
          "type": "line",
          "x0": 103,
          "x1": 103,
          "y0": 53,
          "y1": 52.5
         },
         {
          "line": {
           "color": "darkgrey",
           "width": 0.5
          },
          "type": "line",
          "x0": 104,
          "x1": 104,
          "y0": 0.2,
          "y1": 0.7
         },
         {
          "line": {
           "color": "darkgrey",
           "width": 0.5
          },
          "type": "line",
          "x0": 104,
          "x1": 104,
          "y0": 22.91,
          "y1": 23.57
         },
         {
          "line": {
           "color": "darkgrey",
           "width": 0.5
          },
          "type": "line",
          "x0": 104,
          "x1": 104,
          "y0": 29.73,
          "y1": 30.39
         },
         {
          "line": {
           "color": "darkgrey",
           "width": 0.5
          },
          "type": "line",
          "x0": 104,
          "x1": 104,
          "y0": 53,
          "y1": 52.5
         },
         {
          "line": {
           "color": "darkgrey",
           "width": 0.5
          },
          "type": "line",
          "x0": 105,
          "x1": 105,
          "y0": 0.2,
          "y1": 0.7
         },
         {
          "line": {
           "color": "darkgrey",
           "width": 0.5
          },
          "type": "line",
          "x0": 105,
          "x1": 105,
          "y0": 22.91,
          "y1": 23.57
         },
         {
          "line": {
           "color": "darkgrey",
           "width": 0.5
          },
          "type": "line",
          "x0": 105,
          "x1": 105,
          "y0": 29.73,
          "y1": 30.39
         },
         {
          "line": {
           "color": "darkgrey",
           "width": 0.5
          },
          "type": "line",
          "x0": 105,
          "x1": 105,
          "y0": 53,
          "y1": 52.5
         },
         {
          "line": {
           "color": "darkgrey",
           "width": 0.5
          },
          "type": "line",
          "x0": 106,
          "x1": 106,
          "y0": 0.2,
          "y1": 0.7
         },
         {
          "line": {
           "color": "darkgrey",
           "width": 0.5
          },
          "type": "line",
          "x0": 106,
          "x1": 106,
          "y0": 22.91,
          "y1": 23.57
         },
         {
          "line": {
           "color": "darkgrey",
           "width": 0.5
          },
          "type": "line",
          "x0": 106,
          "x1": 106,
          "y0": 29.73,
          "y1": 30.39
         },
         {
          "line": {
           "color": "darkgrey",
           "width": 0.5
          },
          "type": "line",
          "x0": 106,
          "x1": 106,
          "y0": 53,
          "y1": 52.5
         },
         {
          "line": {
           "color": "darkgrey",
           "width": 0.5
          },
          "type": "line",
          "x0": 107,
          "x1": 107,
          "y0": 0.2,
          "y1": 0.7
         },
         {
          "line": {
           "color": "darkgrey",
           "width": 0.5
          },
          "type": "line",
          "x0": 107,
          "x1": 107,
          "y0": 22.91,
          "y1": 23.57
         },
         {
          "line": {
           "color": "darkgrey",
           "width": 0.5
          },
          "type": "line",
          "x0": 107,
          "x1": 107,
          "y0": 29.73,
          "y1": 30.39
         },
         {
          "line": {
           "color": "darkgrey",
           "width": 0.5
          },
          "type": "line",
          "x0": 107,
          "x1": 107,
          "y0": 53,
          "y1": 52.5
         },
         {
          "line": {
           "color": "darkgrey",
           "width": 0.5
          },
          "type": "line",
          "x0": 108,
          "x1": 108,
          "y0": 0.2,
          "y1": 0.7
         },
         {
          "line": {
           "color": "darkgrey",
           "width": 0.5
          },
          "type": "line",
          "x0": 108,
          "x1": 108,
          "y0": 22.91,
          "y1": 23.57
         },
         {
          "line": {
           "color": "darkgrey",
           "width": 0.5
          },
          "type": "line",
          "x0": 108,
          "x1": 108,
          "y0": 29.73,
          "y1": 30.39
         },
         {
          "line": {
           "color": "darkgrey",
           "width": 0.5
          },
          "type": "line",
          "x0": 108,
          "x1": 108,
          "y0": 53,
          "y1": 52.5
         },
         {
          "line": {
           "color": "darkgrey",
           "width": 0.5
          },
          "type": "line",
          "x0": 109,
          "x1": 109,
          "y0": 0.2,
          "y1": 0.7
         },
         {
          "line": {
           "color": "darkgrey",
           "width": 0.5
          },
          "type": "line",
          "x0": 109,
          "x1": 109,
          "y0": 22.91,
          "y1": 23.57
         },
         {
          "line": {
           "color": "darkgrey",
           "width": 0.5
          },
          "type": "line",
          "x0": 109,
          "x1": 109,
          "y0": 29.73,
          "y1": 30.39
         },
         {
          "line": {
           "color": "darkgrey",
           "width": 0.5
          },
          "type": "line",
          "x0": 109,
          "x1": 109,
          "y0": 53,
          "y1": 52.5
         },
         {
          "line": {
           "color": "dimgrey",
           "width": 1
          },
          "type": "rect",
          "x0": 0,
          "x1": 120,
          "y0": 0,
          "y1": 53.3
         },
         {
          "fillcolor": "lightgrey",
          "layer": "below",
          "line": {
           "color": "darkgrey",
           "width": 1
          },
          "type": "rect",
          "x0": 0,
          "x1": 10,
          "y0": 0,
          "y1": 53.3
         },
         {
          "fillcolor": "lightgrey",
          "layer": "below",
          "line": {
           "color": "darkgrey",
           "width": 1
          },
          "type": "rect",
          "x0": 110,
          "x1": 120,
          "y0": 0,
          "y1": 53.3
         }
        ],
        "sliders": [
         {
          "active": 0,
          "font": {
           "size": 10
          },
          "steps": [
           {
            "args": [
             {
              "visible": [
               true,
               true,
               false,
               false,
               false,
               false,
               false,
               false,
               false,
               false,
               false,
               false,
               false,
               false,
               false,
               false,
               false,
               false,
               false,
               false,
               false,
               false,
               false,
               false,
               false,
               false,
               false,
               false,
               false,
               false,
               false,
               false,
               false,
               false,
               false,
               false,
               false,
               false,
               false,
               false,
               false,
               false,
               false,
               false,
               false,
               false,
               false,
               false
              ]
             },
             {
              "font": {
               "size": 10
              },
              "title": "Event: nan"
             }
            ],
            "label": "frame1",
            "method": "update"
           },
           {
            "args": [
             {
              "visible": [
               false,
               false,
               true,
               true,
               false,
               false,
               false,
               false,
               false,
               false,
               false,
               false,
               false,
               false,
               false,
               false,
               false,
               false,
               false,
               false,
               false,
               false,
               false,
               false,
               false,
               false,
               false,
               false,
               false,
               false,
               false,
               false,
               false,
               false,
               false,
               false,
               false,
               false,
               false,
               false,
               false,
               false,
               false,
               false,
               false,
               false,
               false,
               false
              ]
             },
             {
              "font": {
               "size": 10
              },
              "title": "Event: pass_arrived"
             }
            ],
            "label": "frame2",
            "method": "update"
           },
           {
            "args": [
             {
              "visible": [
               false,
               false,
               false,
               false,
               true,
               true,
               false,
               false,
               false,
               false,
               false,
               false,
               false,
               false,
               false,
               false,
               false,
               false,
               false,
               false,
               false,
               false,
               false,
               false,
               false,
               false,
               false,
               false,
               false,
               false,
               false,
               false,
               false,
               false,
               false,
               false,
               false,
               false,
               false,
               false,
               false,
               false,
               false,
               false,
               false,
               false,
               false,
               false
              ]
             },
             {
              "font": {
               "size": 10
              },
              "title": "Event: nan"
             }
            ],
            "label": "frame3",
            "method": "update"
           },
           {
            "args": [
             {
              "visible": [
               false,
               false,
               false,
               false,
               false,
               false,
               true,
               true,
               false,
               false,
               false,
               false,
               false,
               false,
               false,
               false,
               false,
               false,
               false,
               false,
               false,
               false,
               false,
               false,
               false,
               false,
               false,
               false,
               false,
               false,
               false,
               false,
               false,
               false,
               false,
               false,
               false,
               false,
               false,
               false,
               false,
               false,
               false,
               false,
               false,
               false,
               false,
               false
              ]
             },
             {
              "font": {
               "size": 10
              },
              "title": "Event: nan"
             }
            ],
            "label": "frame4",
            "method": "update"
           },
           {
            "args": [
             {
              "visible": [
               false,
               false,
               false,
               false,
               false,
               false,
               false,
               false,
               true,
               true,
               false,
               false,
               false,
               false,
               false,
               false,
               false,
               false,
               false,
               false,
               false,
               false,
               false,
               false,
               false,
               false,
               false,
               false,
               false,
               false,
               false,
               false,
               false,
               false,
               false,
               false,
               false,
               false,
               false,
               false,
               false,
               false,
               false,
               false,
               false,
               false,
               false,
               false
              ]
             },
             {
              "font": {
               "size": 10
              },
              "title": "Event: nan"
             }
            ],
            "label": "frame5",
            "method": "update"
           },
           {
            "args": [
             {
              "visible": [
               false,
               false,
               false,
               false,
               false,
               false,
               false,
               false,
               false,
               false,
               true,
               true,
               false,
               false,
               false,
               false,
               false,
               false,
               false,
               false,
               false,
               false,
               false,
               false,
               false,
               false,
               false,
               false,
               false,
               false,
               false,
               false,
               false,
               false,
               false,
               false,
               false,
               false,
               false,
               false,
               false,
               false,
               false,
               false,
               false,
               false,
               false,
               false
              ]
             },
             {
              "font": {
               "size": 10
              },
              "title": "Event: pass_outcome_caught"
             }
            ],
            "label": "frame6",
            "method": "update"
           },
           {
            "args": [
             {
              "visible": [
               false,
               false,
               false,
               false,
               false,
               false,
               false,
               false,
               false,
               false,
               false,
               false,
               true,
               true,
               false,
               false,
               false,
               false,
               false,
               false,
               false,
               false,
               false,
               false,
               false,
               false,
               false,
               false,
               false,
               false,
               false,
               false,
               false,
               false,
               false,
               false,
               false,
               false,
               false,
               false,
               false,
               false,
               false,
               false,
               false,
               false,
               false,
               false
              ]
             },
             {
              "font": {
               "size": 10
              },
              "title": "Event: nan"
             }
            ],
            "label": "frame7",
            "method": "update"
           },
           {
            "args": [
             {
              "visible": [
               false,
               false,
               false,
               false,
               false,
               false,
               false,
               false,
               false,
               false,
               false,
               false,
               false,
               false,
               true,
               true,
               false,
               false,
               false,
               false,
               false,
               false,
               false,
               false,
               false,
               false,
               false,
               false,
               false,
               false,
               false,
               false,
               false,
               false,
               false,
               false,
               false,
               false,
               false,
               false,
               false,
               false,
               false,
               false,
               false,
               false,
               false,
               false
              ]
             },
             {
              "font": {
               "size": 10
              },
              "title": "Event: nan"
             }
            ],
            "label": "frame8",
            "method": "update"
           },
           {
            "args": [
             {
              "visible": [
               false,
               false,
               false,
               false,
               false,
               false,
               false,
               false,
               false,
               false,
               false,
               false,
               false,
               false,
               false,
               false,
               true,
               true,
               false,
               false,
               false,
               false,
               false,
               false,
               false,
               false,
               false,
               false,
               false,
               false,
               false,
               false,
               false,
               false,
               false,
               false,
               false,
               false,
               false,
               false,
               false,
               false,
               false,
               false,
               false,
               false,
               false,
               false
              ]
             },
             {
              "font": {
               "size": 10
              },
              "title": "Event: nan"
             }
            ],
            "label": "frame9",
            "method": "update"
           },
           {
            "args": [
             {
              "visible": [
               false,
               false,
               false,
               false,
               false,
               false,
               false,
               false,
               false,
               false,
               false,
               false,
               false,
               false,
               false,
               false,
               false,
               false,
               true,
               true,
               false,
               false,
               false,
               false,
               false,
               false,
               false,
               false,
               false,
               false,
               false,
               false,
               false,
               false,
               false,
               false,
               false,
               false,
               false,
               false,
               false,
               false,
               false,
               false,
               false,
               false,
               false,
               false
              ]
             },
             {
              "font": {
               "size": 10
              },
              "title": "Event: nan"
             }
            ],
            "label": "frame10",
            "method": "update"
           },
           {
            "args": [
             {
              "visible": [
               false,
               false,
               false,
               false,
               false,
               false,
               false,
               false,
               false,
               false,
               false,
               false,
               false,
               false,
               false,
               false,
               false,
               false,
               false,
               false,
               true,
               true,
               false,
               false,
               false,
               false,
               false,
               false,
               false,
               false,
               false,
               false,
               false,
               false,
               false,
               false,
               false,
               false,
               false,
               false,
               false,
               false,
               false,
               false,
               false,
               false,
               false,
               false
              ]
             },
             {
              "font": {
               "size": 10
              },
              "title": "Event: nan"
             }
            ],
            "label": "frame11",
            "method": "update"
           },
           {
            "args": [
             {
              "visible": [
               false,
               false,
               false,
               false,
               false,
               false,
               false,
               false,
               false,
               false,
               false,
               false,
               false,
               false,
               false,
               false,
               false,
               false,
               false,
               false,
               false,
               false,
               true,
               true,
               false,
               false,
               false,
               false,
               false,
               false,
               false,
               false,
               false,
               false,
               false,
               false,
               false,
               false,
               false,
               false,
               false,
               false,
               false,
               false,
               false,
               false,
               false,
               false
              ]
             },
             {
              "font": {
               "size": 10
              },
              "title": "Event: nan"
             }
            ],
            "label": "frame12",
            "method": "update"
           },
           {
            "args": [
             {
              "visible": [
               false,
               false,
               false,
               false,
               false,
               false,
               false,
               false,
               false,
               false,
               false,
               false,
               false,
               false,
               false,
               false,
               false,
               false,
               false,
               false,
               false,
               false,
               false,
               false,
               true,
               true,
               false,
               false,
               false,
               false,
               false,
               false,
               false,
               false,
               false,
               false,
               false,
               false,
               false,
               false,
               false,
               false,
               false,
               false,
               false,
               false,
               false,
               false
              ]
             },
             {
              "font": {
               "size": 10
              },
              "title": "Event: nan"
             }
            ],
            "label": "frame13",
            "method": "update"
           },
           {
            "args": [
             {
              "visible": [
               false,
               false,
               false,
               false,
               false,
               false,
               false,
               false,
               false,
               false,
               false,
               false,
               false,
               false,
               false,
               false,
               false,
               false,
               false,
               false,
               false,
               false,
               false,
               false,
               false,
               false,
               true,
               true,
               false,
               false,
               false,
               false,
               false,
               false,
               false,
               false,
               false,
               false,
               false,
               false,
               false,
               false,
               false,
               false,
               false,
               false,
               false,
               false
              ]
             },
             {
              "font": {
               "size": 10
              },
              "title": "Event: nan"
             }
            ],
            "label": "frame14",
            "method": "update"
           },
           {
            "args": [
             {
              "visible": [
               false,
               false,
               false,
               false,
               false,
               false,
               false,
               false,
               false,
               false,
               false,
               false,
               false,
               false,
               false,
               false,
               false,
               false,
               false,
               false,
               false,
               false,
               false,
               false,
               false,
               false,
               false,
               false,
               true,
               true,
               false,
               false,
               false,
               false,
               false,
               false,
               false,
               false,
               false,
               false,
               false,
               false,
               false,
               false,
               false,
               false,
               false,
               false
              ]
             },
             {
              "font": {
               "size": 10
              },
              "title": "Event: nan"
             }
            ],
            "label": "frame15",
            "method": "update"
           },
           {
            "args": [
             {
              "visible": [
               false,
               false,
               false,
               false,
               false,
               false,
               false,
               false,
               false,
               false,
               false,
               false,
               false,
               false,
               false,
               false,
               false,
               false,
               false,
               false,
               false,
               false,
               false,
               false,
               false,
               false,
               false,
               false,
               false,
               false,
               true,
               true,
               false,
               false,
               false,
               false,
               false,
               false,
               false,
               false,
               false,
               false,
               false,
               false,
               false,
               false,
               false,
               false
              ]
             },
             {
              "font": {
               "size": 10
              },
              "title": "Event: nan"
             }
            ],
            "label": "frame16",
            "method": "update"
           },
           {
            "args": [
             {
              "visible": [
               false,
               false,
               false,
               false,
               false,
               false,
               false,
               false,
               false,
               false,
               false,
               false,
               false,
               false,
               false,
               false,
               false,
               false,
               false,
               false,
               false,
               false,
               false,
               false,
               false,
               false,
               false,
               false,
               false,
               false,
               false,
               false,
               true,
               true,
               false,
               false,
               false,
               false,
               false,
               false,
               false,
               false,
               false,
               false,
               false,
               false,
               false,
               false
              ]
             },
             {
              "font": {
               "size": 10
              },
              "title": "Event: first_contact"
             }
            ],
            "label": "frame17",
            "method": "update"
           },
           {
            "args": [
             {
              "visible": [
               false,
               false,
               false,
               false,
               false,
               false,
               false,
               false,
               false,
               false,
               false,
               false,
               false,
               false,
               false,
               false,
               false,
               false,
               false,
               false,
               false,
               false,
               false,
               false,
               false,
               false,
               false,
               false,
               false,
               false,
               false,
               false,
               false,
               false,
               true,
               true,
               false,
               false,
               false,
               false,
               false,
               false,
               false,
               false,
               false,
               false,
               false,
               false
              ]
             },
             {
              "font": {
               "size": 10
              },
              "title": "Event: nan"
             }
            ],
            "label": "frame18",
            "method": "update"
           },
           {
            "args": [
             {
              "visible": [
               false,
               false,
               false,
               false,
               false,
               false,
               false,
               false,
               false,
               false,
               false,
               false,
               false,
               false,
               false,
               false,
               false,
               false,
               false,
               false,
               false,
               false,
               false,
               false,
               false,
               false,
               false,
               false,
               false,
               false,
               false,
               false,
               false,
               false,
               false,
               false,
               true,
               true,
               false,
               false,
               false,
               false,
               false,
               false,
               false,
               false,
               false,
               false
              ]
             },
             {
              "font": {
               "size": 10
              },
              "title": "Event: nan"
             }
            ],
            "label": "frame19",
            "method": "update"
           },
           {
            "args": [
             {
              "visible": [
               false,
               false,
               false,
               false,
               false,
               false,
               false,
               false,
               false,
               false,
               false,
               false,
               false,
               false,
               false,
               false,
               false,
               false,
               false,
               false,
               false,
               false,
               false,
               false,
               false,
               false,
               false,
               false,
               false,
               false,
               false,
               false,
               false,
               false,
               false,
               false,
               false,
               false,
               true,
               true,
               false,
               false,
               false,
               false,
               false,
               false,
               false,
               false
              ]
             },
             {
              "font": {
               "size": 10
              },
              "title": "Event: tackle"
             }
            ],
            "label": "frame20",
            "method": "update"
           },
           {
            "args": [
             {
              "visible": [
               false,
               false,
               false,
               false,
               false,
               false,
               false,
               false,
               false,
               false,
               false,
               false,
               false,
               false,
               false,
               false,
               false,
               false,
               false,
               false,
               false,
               false,
               false,
               false,
               false,
               false,
               false,
               false,
               false,
               false,
               false,
               false,
               false,
               false,
               false,
               false,
               false,
               false,
               false,
               false,
               true,
               true,
               false,
               false,
               false,
               false,
               false,
               false
              ]
             },
             {
              "font": {
               "size": 10
              },
              "title": "Event: nan"
             }
            ],
            "label": "frame21",
            "method": "update"
           },
           {
            "args": [
             {
              "visible": [
               false,
               false,
               false,
               false,
               false,
               false,
               false,
               false,
               false,
               false,
               false,
               false,
               false,
               false,
               false,
               false,
               false,
               false,
               false,
               false,
               false,
               false,
               false,
               false,
               false,
               false,
               false,
               false,
               false,
               false,
               false,
               false,
               false,
               false,
               false,
               false,
               false,
               false,
               false,
               false,
               false,
               false,
               true,
               true,
               false,
               false,
               false,
               false
              ]
             },
             {
              "font": {
               "size": 10
              },
              "title": "Event: nan"
             }
            ],
            "label": "frame22",
            "method": "update"
           },
           {
            "args": [
             {
              "visible": [
               false,
               false,
               false,
               false,
               false,
               false,
               false,
               false,
               false,
               false,
               false,
               false,
               false,
               false,
               false,
               false,
               false,
               false,
               false,
               false,
               false,
               false,
               false,
               false,
               false,
               false,
               false,
               false,
               false,
               false,
               false,
               false,
               false,
               false,
               false,
               false,
               false,
               false,
               false,
               false,
               false,
               false,
               false,
               false,
               true,
               true,
               false,
               false
              ]
             },
             {
              "font": {
               "size": 10
              },
              "title": "Event: nan"
             }
            ],
            "label": "frame23",
            "method": "update"
           },
           {
            "args": [
             {
              "visible": [
               false,
               false,
               false,
               false,
               false,
               false,
               false,
               false,
               false,
               false,
               false,
               false,
               false,
               false,
               false,
               false,
               false,
               false,
               false,
               false,
               false,
               false,
               false,
               false,
               false,
               false,
               false,
               false,
               false,
               false,
               false,
               false,
               false,
               false,
               false,
               false,
               false,
               false,
               false,
               false,
               false,
               false,
               false,
               false,
               false,
               false,
               true,
               true
              ]
             },
             {
              "font": {
               "size": 10
              },
              "title": "Event: nan"
             }
            ],
            "label": "frame24",
            "method": "update"
           }
          ]
         }
        ],
        "template": {
         "data": {
          "bar": [
           {
            "error_x": {
             "color": "#2a3f5f"
            },
            "error_y": {
             "color": "#2a3f5f"
            },
            "marker": {
             "line": {
              "color": "#E5ECF6",
              "width": 0.5
             },
             "pattern": {
              "fillmode": "overlay",
              "size": 10,
              "solidity": 0.2
             }
            },
            "type": "bar"
           }
          ],
          "barpolar": [
           {
            "marker": {
             "line": {
              "color": "#E5ECF6",
              "width": 0.5
             },
             "pattern": {
              "fillmode": "overlay",
              "size": 10,
              "solidity": 0.2
             }
            },
            "type": "barpolar"
           }
          ],
          "carpet": [
           {
            "aaxis": {
             "endlinecolor": "#2a3f5f",
             "gridcolor": "white",
             "linecolor": "white",
             "minorgridcolor": "white",
             "startlinecolor": "#2a3f5f"
            },
            "baxis": {
             "endlinecolor": "#2a3f5f",
             "gridcolor": "white",
             "linecolor": "white",
             "minorgridcolor": "white",
             "startlinecolor": "#2a3f5f"
            },
            "type": "carpet"
           }
          ],
          "choropleth": [
           {
            "colorbar": {
             "outlinewidth": 0,
             "ticks": ""
            },
            "type": "choropleth"
           }
          ],
          "contour": [
           {
            "colorbar": {
             "outlinewidth": 0,
             "ticks": ""
            },
            "colorscale": [
             [
              0,
              "#0d0887"
             ],
             [
              0.1111111111111111,
              "#46039f"
             ],
             [
              0.2222222222222222,
              "#7201a8"
             ],
             [
              0.3333333333333333,
              "#9c179e"
             ],
             [
              0.4444444444444444,
              "#bd3786"
             ],
             [
              0.5555555555555556,
              "#d8576b"
             ],
             [
              0.6666666666666666,
              "#ed7953"
             ],
             [
              0.7777777777777778,
              "#fb9f3a"
             ],
             [
              0.8888888888888888,
              "#fdca26"
             ],
             [
              1,
              "#f0f921"
             ]
            ],
            "type": "contour"
           }
          ],
          "contourcarpet": [
           {
            "colorbar": {
             "outlinewidth": 0,
             "ticks": ""
            },
            "type": "contourcarpet"
           }
          ],
          "heatmap": [
           {
            "colorbar": {
             "outlinewidth": 0,
             "ticks": ""
            },
            "colorscale": [
             [
              0,
              "#0d0887"
             ],
             [
              0.1111111111111111,
              "#46039f"
             ],
             [
              0.2222222222222222,
              "#7201a8"
             ],
             [
              0.3333333333333333,
              "#9c179e"
             ],
             [
              0.4444444444444444,
              "#bd3786"
             ],
             [
              0.5555555555555556,
              "#d8576b"
             ],
             [
              0.6666666666666666,
              "#ed7953"
             ],
             [
              0.7777777777777778,
              "#fb9f3a"
             ],
             [
              0.8888888888888888,
              "#fdca26"
             ],
             [
              1,
              "#f0f921"
             ]
            ],
            "type": "heatmap"
           }
          ],
          "heatmapgl": [
           {
            "colorbar": {
             "outlinewidth": 0,
             "ticks": ""
            },
            "colorscale": [
             [
              0,
              "#0d0887"
             ],
             [
              0.1111111111111111,
              "#46039f"
             ],
             [
              0.2222222222222222,
              "#7201a8"
             ],
             [
              0.3333333333333333,
              "#9c179e"
             ],
             [
              0.4444444444444444,
              "#bd3786"
             ],
             [
              0.5555555555555556,
              "#d8576b"
             ],
             [
              0.6666666666666666,
              "#ed7953"
             ],
             [
              0.7777777777777778,
              "#fb9f3a"
             ],
             [
              0.8888888888888888,
              "#fdca26"
             ],
             [
              1,
              "#f0f921"
             ]
            ],
            "type": "heatmapgl"
           }
          ],
          "histogram": [
           {
            "marker": {
             "pattern": {
              "fillmode": "overlay",
              "size": 10,
              "solidity": 0.2
             }
            },
            "type": "histogram"
           }
          ],
          "histogram2d": [
           {
            "colorbar": {
             "outlinewidth": 0,
             "ticks": ""
            },
            "colorscale": [
             [
              0,
              "#0d0887"
             ],
             [
              0.1111111111111111,
              "#46039f"
             ],
             [
              0.2222222222222222,
              "#7201a8"
             ],
             [
              0.3333333333333333,
              "#9c179e"
             ],
             [
              0.4444444444444444,
              "#bd3786"
             ],
             [
              0.5555555555555556,
              "#d8576b"
             ],
             [
              0.6666666666666666,
              "#ed7953"
             ],
             [
              0.7777777777777778,
              "#fb9f3a"
             ],
             [
              0.8888888888888888,
              "#fdca26"
             ],
             [
              1,
              "#f0f921"
             ]
            ],
            "type": "histogram2d"
           }
          ],
          "histogram2dcontour": [
           {
            "colorbar": {
             "outlinewidth": 0,
             "ticks": ""
            },
            "colorscale": [
             [
              0,
              "#0d0887"
             ],
             [
              0.1111111111111111,
              "#46039f"
             ],
             [
              0.2222222222222222,
              "#7201a8"
             ],
             [
              0.3333333333333333,
              "#9c179e"
             ],
             [
              0.4444444444444444,
              "#bd3786"
             ],
             [
              0.5555555555555556,
              "#d8576b"
             ],
             [
              0.6666666666666666,
              "#ed7953"
             ],
             [
              0.7777777777777778,
              "#fb9f3a"
             ],
             [
              0.8888888888888888,
              "#fdca26"
             ],
             [
              1,
              "#f0f921"
             ]
            ],
            "type": "histogram2dcontour"
           }
          ],
          "mesh3d": [
           {
            "colorbar": {
             "outlinewidth": 0,
             "ticks": ""
            },
            "type": "mesh3d"
           }
          ],
          "parcoords": [
           {
            "line": {
             "colorbar": {
              "outlinewidth": 0,
              "ticks": ""
             }
            },
            "type": "parcoords"
           }
          ],
          "pie": [
           {
            "automargin": true,
            "type": "pie"
           }
          ],
          "scatter": [
           {
            "fillpattern": {
             "fillmode": "overlay",
             "size": 10,
             "solidity": 0.2
            },
            "type": "scatter"
           }
          ],
          "scatter3d": [
           {
            "line": {
             "colorbar": {
              "outlinewidth": 0,
              "ticks": ""
             }
            },
            "marker": {
             "colorbar": {
              "outlinewidth": 0,
              "ticks": ""
             }
            },
            "type": "scatter3d"
           }
          ],
          "scattercarpet": [
           {
            "marker": {
             "colorbar": {
              "outlinewidth": 0,
              "ticks": ""
             }
            },
            "type": "scattercarpet"
           }
          ],
          "scattergeo": [
           {
            "marker": {
             "colorbar": {
              "outlinewidth": 0,
              "ticks": ""
             }
            },
            "type": "scattergeo"
           }
          ],
          "scattergl": [
           {
            "marker": {
             "colorbar": {
              "outlinewidth": 0,
              "ticks": ""
             }
            },
            "type": "scattergl"
           }
          ],
          "scattermapbox": [
           {
            "marker": {
             "colorbar": {
              "outlinewidth": 0,
              "ticks": ""
             }
            },
            "type": "scattermapbox"
           }
          ],
          "scatterpolar": [
           {
            "marker": {
             "colorbar": {
              "outlinewidth": 0,
              "ticks": ""
             }
            },
            "type": "scatterpolar"
           }
          ],
          "scatterpolargl": [
           {
            "marker": {
             "colorbar": {
              "outlinewidth": 0,
              "ticks": ""
             }
            },
            "type": "scatterpolargl"
           }
          ],
          "scatterternary": [
           {
            "marker": {
             "colorbar": {
              "outlinewidth": 0,
              "ticks": ""
             }
            },
            "type": "scatterternary"
           }
          ],
          "surface": [
           {
            "colorbar": {
             "outlinewidth": 0,
             "ticks": ""
            },
            "colorscale": [
             [
              0,
              "#0d0887"
             ],
             [
              0.1111111111111111,
              "#46039f"
             ],
             [
              0.2222222222222222,
              "#7201a8"
             ],
             [
              0.3333333333333333,
              "#9c179e"
             ],
             [
              0.4444444444444444,
              "#bd3786"
             ],
             [
              0.5555555555555556,
              "#d8576b"
             ],
             [
              0.6666666666666666,
              "#ed7953"
             ],
             [
              0.7777777777777778,
              "#fb9f3a"
             ],
             [
              0.8888888888888888,
              "#fdca26"
             ],
             [
              1,
              "#f0f921"
             ]
            ],
            "type": "surface"
           }
          ],
          "table": [
           {
            "cells": {
             "fill": {
              "color": "#EBF0F8"
             },
             "line": {
              "color": "white"
             }
            },
            "header": {
             "fill": {
              "color": "#C8D4E3"
             },
             "line": {
              "color": "white"
             }
            },
            "type": "table"
           }
          ]
         },
         "layout": {
          "annotationdefaults": {
           "arrowcolor": "#2a3f5f",
           "arrowhead": 0,
           "arrowwidth": 1
          },
          "autotypenumbers": "strict",
          "coloraxis": {
           "colorbar": {
            "outlinewidth": 0,
            "ticks": ""
           }
          },
          "colorscale": {
           "diverging": [
            [
             0,
             "#8e0152"
            ],
            [
             0.1,
             "#c51b7d"
            ],
            [
             0.2,
             "#de77ae"
            ],
            [
             0.3,
             "#f1b6da"
            ],
            [
             0.4,
             "#fde0ef"
            ],
            [
             0.5,
             "#f7f7f7"
            ],
            [
             0.6,
             "#e6f5d0"
            ],
            [
             0.7,
             "#b8e186"
            ],
            [
             0.8,
             "#7fbc41"
            ],
            [
             0.9,
             "#4d9221"
            ],
            [
             1,
             "#276419"
            ]
           ],
           "sequential": [
            [
             0,
             "#0d0887"
            ],
            [
             0.1111111111111111,
             "#46039f"
            ],
            [
             0.2222222222222222,
             "#7201a8"
            ],
            [
             0.3333333333333333,
             "#9c179e"
            ],
            [
             0.4444444444444444,
             "#bd3786"
            ],
            [
             0.5555555555555556,
             "#d8576b"
            ],
            [
             0.6666666666666666,
             "#ed7953"
            ],
            [
             0.7777777777777778,
             "#fb9f3a"
            ],
            [
             0.8888888888888888,
             "#fdca26"
            ],
            [
             1,
             "#f0f921"
            ]
           ],
           "sequentialminus": [
            [
             0,
             "#0d0887"
            ],
            [
             0.1111111111111111,
             "#46039f"
            ],
            [
             0.2222222222222222,
             "#7201a8"
            ],
            [
             0.3333333333333333,
             "#9c179e"
            ],
            [
             0.4444444444444444,
             "#bd3786"
            ],
            [
             0.5555555555555556,
             "#d8576b"
            ],
            [
             0.6666666666666666,
             "#ed7953"
            ],
            [
             0.7777777777777778,
             "#fb9f3a"
            ],
            [
             0.8888888888888888,
             "#fdca26"
            ],
            [
             1,
             "#f0f921"
            ]
           ]
          },
          "colorway": [
           "#636efa",
           "#EF553B",
           "#00cc96",
           "#ab63fa",
           "#FFA15A",
           "#19d3f3",
           "#FF6692",
           "#B6E880",
           "#FF97FF",
           "#FECB52"
          ],
          "font": {
           "color": "#2a3f5f"
          },
          "geo": {
           "bgcolor": "white",
           "lakecolor": "white",
           "landcolor": "#E5ECF6",
           "showlakes": true,
           "showland": true,
           "subunitcolor": "white"
          },
          "hoverlabel": {
           "align": "left"
          },
          "hovermode": "closest",
          "mapbox": {
           "style": "light"
          },
          "paper_bgcolor": "white",
          "plot_bgcolor": "#E5ECF6",
          "polar": {
           "angularaxis": {
            "gridcolor": "white",
            "linecolor": "white",
            "ticks": ""
           },
           "bgcolor": "#E5ECF6",
           "radialaxis": {
            "gridcolor": "white",
            "linecolor": "white",
            "ticks": ""
           }
          },
          "scene": {
           "xaxis": {
            "backgroundcolor": "#E5ECF6",
            "gridcolor": "white",
            "gridwidth": 2,
            "linecolor": "white",
            "showbackground": true,
            "ticks": "",
            "zerolinecolor": "white"
           },
           "yaxis": {
            "backgroundcolor": "#E5ECF6",
            "gridcolor": "white",
            "gridwidth": 2,
            "linecolor": "white",
            "showbackground": true,
            "ticks": "",
            "zerolinecolor": "white"
           },
           "zaxis": {
            "backgroundcolor": "#E5ECF6",
            "gridcolor": "white",
            "gridwidth": 2,
            "linecolor": "white",
            "showbackground": true,
            "ticks": "",
            "zerolinecolor": "white"
           }
          },
          "shapedefaults": {
           "line": {
            "color": "#2a3f5f"
           }
          },
          "ternary": {
           "aaxis": {
            "gridcolor": "white",
            "linecolor": "white",
            "ticks": ""
           },
           "baxis": {
            "gridcolor": "white",
            "linecolor": "white",
            "ticks": ""
           },
           "bgcolor": "#E5ECF6",
           "caxis": {
            "gridcolor": "white",
            "linecolor": "white",
            "ticks": ""
           }
          },
          "title": {
           "x": 0.05
          },
          "xaxis": {
           "automargin": true,
           "gridcolor": "white",
           "linecolor": "white",
           "ticks": "",
           "title": {
            "standoff": 15
           },
           "zerolinecolor": "white",
           "zerolinewidth": 2
          },
          "yaxis": {
           "automargin": true,
           "gridcolor": "white",
           "linecolor": "white",
           "ticks": "",
           "title": {
            "standoff": 15
           },
           "zerolinecolor": "white",
           "zerolinewidth": 2
          }
         }
        },
        "title": {
         "font": {
          "size": 12
         },
         "x": 0.5,
         "y": 0.98,
         "yanchor": "top"
        },
        "width": 800,
        "xaxis": {
         "constrain": "domain",
         "range": [
          0.4299999999999997,
          61.98
         ],
         "showgrid": false,
         "showticklabels": false
        },
        "yaxis": {
         "range": [
          -0.5,
          54
         ],
         "scaleanchor": "x",
         "scaleratio": 1,
         "showgrid": false,
         "showticklabels": false
        }
       }
      },
      "text/html": [
       "<div>                            <div id=\"1e3bb515-8291-47dd-ba5c-81a70f1fa3bf\" class=\"plotly-graph-div\" style=\"height:600px; width:800px;\"></div>            <script type=\"text/javascript\">                require([\"plotly\"], function(Plotly) {                    window.PLOTLYENV=window.PLOTLYENV || {};                                    if (document.getElementById(\"1e3bb515-8291-47dd-ba5c-81a70f1fa3bf\")) {                    Plotly.newPlot(                        \"1e3bb515-8291-47dd-ba5c-81a70f1fa3bf\",                        [{\"hovertemplate\":\"%{hovertext}\",\"hovertext\":[\"Stephon Gilmore\",\"Rodney McLeod\",\"Travis Kelce\",\"Jerick McKinnon\",\"DeForest Buckner\",\"Yannick Ngakoue\",\"Joe Thuney\",\"Patrick Mahomes\",\"Kenny Moore\",\"Andrew Wylie\",\"Tyquan Lewis\",\"Orlando Brown\",\"Marquez Valdes-Scantling\",\"Zaire Franklin\",\"Mecole Hardman\",\"Bobby Okereke\",\"E.J. Speed\",\"Julian Blackmon\",\"Isaiah Rodgers\",\"Creed Humphrey\",\"Trey Smith\",\"Skyy Moore\"],\"marker\":{\"angle\":[-69.81,-6.600000000000023,2.4399999999999977,-48.860000000000014,-104.69999999999999,-63.77999999999997,-126.75,-88.00999999999999,-27.910000000000082,-26.160000000000082,-46.60000000000002,-83.79000000000002,-25.690000000000055,-25.769999999999982,-98.87,-27.700000000000045,-51.72000000000003,-27.100000000000023,-6.899999999999977,-67.04000000000002,-58.06,-58.44999999999999],\"color\":[\"lightsteelblue\",\"lightsteelblue\",\"peru\",\"burlywood\",\"lightsteelblue\",\"lightsteelblue\",\"burlywood\",\"burlywood\",\"lightsteelblue\",\"burlywood\",\"lightsteelblue\",\"burlywood\",\"burlywood\",\"lightsteelblue\",\"burlywood\",\"midnightblue\",\"lightsteelblue\",\"lightsteelblue\",\"lightsteelblue\",\"burlywood\",\"burlywood\",\"burlywood\"],\"size\":[15,15,18,15,15,15,15,15,15,15,15,15,15,15,15,18,15,15,15,15,15,15],\"symbol\":\"arrow\"},\"mode\":\"markers\",\"showlegend\":false,\"visible\":true,\"x\":[32.88,32.67,28.01,38.93,51.93,49.92,49.37,51.36,30.76,51.3,46.09,50.03,32.34,23.86,39.07,29.5,41.62,18.72,31.34,46.6,46.98,22.14],\"y\":[44.29,36.9,44.06,20.82,31.96,26.22,27.59,29.31,18.32,30.72,35.78,28.44,12.94,30.07,46.89,42.12,33.02,33.11,12.6,30.85,34.34,30.26],\"type\":\"scatter\"},{\"marker\":{\"color\":[\"dimgrey\"],\"size\":8},\"mode\":\"markers\",\"showlegend\":false,\"visible\":true,\"x\":[28.6200008392334],\"y\":[44.0900001525879],\"type\":\"scatter\"},{\"hovertemplate\":\"%{hovertext}\",\"hovertext\":[\"Stephon Gilmore\",\"Rodney McLeod\",\"Travis Kelce\",\"Jerick McKinnon\",\"DeForest Buckner\",\"Yannick Ngakoue\",\"Joe Thuney\",\"Patrick Mahomes\",\"Kenny Moore\",\"Andrew Wylie\",\"Tyquan Lewis\",\"Orlando Brown\",\"Marquez Valdes-Scantling\",\"Zaire Franklin\",\"Mecole Hardman\",\"Bobby Okereke\",\"E.J. Speed\",\"Julian Blackmon\",\"Isaiah Rodgers\",\"Creed Humphrey\",\"Trey Smith\",\"Skyy Moore\"],\"marker\":{\"angle\":[-60.99000000000001,-9.379999999999995,-1.1600000000000819,-42.629999999999995,-91.26999999999998,-65.22000000000003,-118.56,-81.27999999999997,-30.129999999999995,-28.829999999999984,-56.45999999999998,-81.63999999999999,-29.920000000000016,-25.769999999999982,-99.82999999999998,-36.0,-51.72000000000003,-30.639999999999986,-8.670000000000073,-64.58999999999997,-59.99000000000001,-56.75999999999999],\"color\":[\"lightsteelblue\",\"lightsteelblue\",\"peru\",\"burlywood\",\"lightsteelblue\",\"lightsteelblue\",\"burlywood\",\"burlywood\",\"lightsteelblue\",\"burlywood\",\"lightsteelblue\",\"burlywood\",\"burlywood\",\"lightsteelblue\",\"burlywood\",\"midnightblue\",\"lightsteelblue\",\"lightsteelblue\",\"lightsteelblue\",\"burlywood\",\"burlywood\",\"burlywood\"],\"size\":[15,15,18,15,15,15,15,15,15,15,15,15,15,15,15,18,15,15,15,15,15,15],\"symbol\":\"arrow\"},\"mode\":\"markers\",\"showlegend\":false,\"visible\":false,\"x\":[32.46,32.42,27.5,38.7,51.95,49.86,49.35,51.35,30.44,51.25,45.76,50.03,32.19,23.35,38.92,28.96,41.11,18.53,31.14,46.44,46.69,21.58],\"y\":[44.69,37.3,44.55,20.8,32.15,26.14,27.63,29.33,18.66,30.78,36.03,28.49,13.37,30.72,47.35,42.66,33.32,33.79,13.08,30.94,34.59,30.9],\"type\":\"scatter\"},{\"marker\":{\"color\":[\"dimgrey\"],\"size\":8},\"mode\":\"markers\",\"showlegend\":false,\"visible\":false,\"x\":[27.5400009155273],\"y\":[44.8600006103516],\"type\":\"scatter\"},{\"hovertemplate\":\"%{hovertext}\",\"hovertext\":[\"Stephon Gilmore\",\"Rodney McLeod\",\"Travis Kelce\",\"Jerick McKinnon\",\"DeForest Buckner\",\"Yannick Ngakoue\",\"Joe Thuney\",\"Patrick Mahomes\",\"Kenny Moore\",\"Andrew Wylie\",\"Tyquan Lewis\",\"Orlando Brown\",\"Marquez Valdes-Scantling\",\"Zaire Franklin\",\"Mecole Hardman\",\"Bobby Okereke\",\"E.J. Speed\",\"Julian Blackmon\",\"Isaiah Rodgers\",\"Creed Humphrey\",\"Trey Smith\",\"Skyy Moore\"],\"marker\":{\"angle\":[-60.99000000000001,-12.269999999999982,-9.600000000000023,-46.410000000000025,-78.33999999999997,-62.52999999999997,-111.68,-79.85000000000002,-32.73000000000002,-27.660000000000082,-64.62,-80.95999999999998,-33.170000000000016,-25.769999999999982,-102.79000000000002,-33.80000000000001,-52.79000000000002,-39.04000000000002,-9.980000000000018,-59.420000000000016,-65.62,-44.51999999999998],\"color\":[\"lightsteelblue\",\"lightsteelblue\",\"peru\",\"burlywood\",\"lightsteelblue\",\"lightsteelblue\",\"burlywood\",\"burlywood\",\"lightsteelblue\",\"burlywood\",\"lightsteelblue\",\"burlywood\",\"burlywood\",\"lightsteelblue\",\"burlywood\",\"midnightblue\",\"lightsteelblue\",\"lightsteelblue\",\"lightsteelblue\",\"burlywood\",\"burlywood\",\"burlywood\"],\"size\":[15,15,18,15,15,15,15,15,15,15,15,15,15,15,15,18,15,15,15,15,15,15],\"symbol\":\"arrow\"},\"mode\":\"markers\",\"showlegend\":false,\"visible\":false,\"x\":[32.01,32.16,26.97,38.47,51.98,49.75,49.3,51.33,30.1,51.19,45.4,50.04,32.02,22.85,38.76,28.39,40.59,18.34,30.93,46.27,46.37,21.05],\"y\":[45.1,37.7,45.04,20.82,32.36,26.04,27.67,29.38,19.01,30.86,36.27,28.54,13.8,31.37,47.8,43.2,33.62,34.46,13.55,31.05,34.82,31.53],\"type\":\"scatter\"},{\"marker\":{\"color\":[\"dimgrey\"],\"size\":8},\"mode\":\"markers\",\"showlegend\":false,\"visible\":false,\"x\":[26.7900009155273],\"y\":[45.4099998474121],\"type\":\"scatter\"},{\"hovertemplate\":\"%{hovertext}\",\"hovertext\":[\"Stephon Gilmore\",\"Rodney McLeod\",\"Travis Kelce\",\"Jerick McKinnon\",\"DeForest Buckner\",\"Yannick Ngakoue\",\"Joe Thuney\",\"Patrick Mahomes\",\"Kenny Moore\",\"Andrew Wylie\",\"Tyquan Lewis\",\"Orlando Brown\",\"Marquez Valdes-Scantling\",\"Zaire Franklin\",\"Mecole Hardman\",\"Bobby Okereke\",\"E.J. Speed\",\"Julian Blackmon\",\"Isaiah Rodgers\",\"Creed Humphrey\",\"Trey Smith\",\"Skyy Moore\"],\"marker\":{\"angle\":[-61.99000000000001,-10.430000000000064,-6.740000000000009,-53.81999999999999,-48.85000000000002,-61.389999999999986,-101.07,-78.0,-36.160000000000025,-29.49000000000001,-82.5,-82.57,-30.54000000000002,-22.99000000000001,-103.88,-42.660000000000025,-54.97000000000003,-40.99000000000001,-11.899999999999977,-58.44999999999999,-71.25999999999999,-47.23000000000002],\"color\":[\"lightsteelblue\",\"lightsteelblue\",\"peru\",\"burlywood\",\"lightsteelblue\",\"lightsteelblue\",\"burlywood\",\"burlywood\",\"lightsteelblue\",\"burlywood\",\"lightsteelblue\",\"burlywood\",\"burlywood\",\"lightsteelblue\",\"burlywood\",\"midnightblue\",\"lightsteelblue\",\"lightsteelblue\",\"lightsteelblue\",\"burlywood\",\"burlywood\",\"burlywood\"],\"size\":[15,15,18,15,15,15,15,15,15,15,15,15,15,15,15,18,15,15,15,15,15,15],\"symbol\":\"arrow\"},\"mode\":\"markers\",\"showlegend\":false,\"visible\":false,\"x\":[31.54,31.87,26.43,38.23,51.97,49.63,49.23,51.3,29.74,51.11,45.01,50.02,31.85,22.38,38.59,27.79,40.07,18.13,30.71,46.08,46.03,20.51],\"y\":[45.52,38.09,45.5,20.87,32.6,25.95,27.69,29.44,19.38,30.95,36.49,28.6,14.24,32.03,48.24,43.69,33.9,35.16,14.02,31.15,35.05,32.18],\"type\":\"scatter\"},{\"marker\":{\"color\":[\"dimgrey\"],\"size\":8},\"mode\":\"markers\",\"showlegend\":false,\"visible\":false,\"x\":[26.0900001525879],\"y\":[45.9300003051758],\"type\":\"scatter\"},{\"hovertemplate\":\"%{hovertext}\",\"hovertext\":[\"Stephon Gilmore\",\"Rodney McLeod\",\"Travis Kelce\",\"Jerick McKinnon\",\"DeForest Buckner\",\"Yannick Ngakoue\",\"Joe Thuney\",\"Patrick Mahomes\",\"Kenny Moore\",\"Andrew Wylie\",\"Tyquan Lewis\",\"Orlando Brown\",\"Marquez Valdes-Scantling\",\"Zaire Franklin\",\"Mecole Hardman\",\"Bobby Okereke\",\"E.J. Speed\",\"Julian Blackmon\",\"Isaiah Rodgers\",\"Creed Humphrey\",\"Trey Smith\",\"Skyy Moore\"],\"marker\":{\"angle\":[-65.00999999999999,-7.289999999999964,-6.079999999999927,-52.47000000000003,-43.410000000000025,-61.389999999999986,-97.62,-78.0,-39.660000000000025,-32.25999999999999,-71.25,-81.33999999999997,-34.04000000000002,-22.329999999999927,-107.08000000000004,-49.50999999999999,-57.95999999999998,-42.81,-17.059999999999945,-62.06,-69.56,-65.07],\"color\":[\"lightsteelblue\",\"lightsteelblue\",\"peru\",\"burlywood\",\"lightsteelblue\",\"lightsteelblue\",\"burlywood\",\"burlywood\",\"lightsteelblue\",\"burlywood\",\"lightsteelblue\",\"burlywood\",\"burlywood\",\"lightsteelblue\",\"burlywood\",\"midnightblue\",\"lightsteelblue\",\"lightsteelblue\",\"lightsteelblue\",\"burlywood\",\"burlywood\",\"burlywood\"],\"size\":[15,15,18,15,15,15,15,15,15,15,15,15,15,15,15,18,15,15,15,15,15,15],\"symbol\":\"arrow\"},\"mode\":\"markers\",\"showlegend\":false,\"visible\":false,\"x\":[31.04,31.53,25.87,37.97,51.96,49.47,49.15,51.25,29.37,51.02,44.6,49.97,31.67,21.91,38.41,27.15,39.53,17.91,30.49,45.88,45.67,19.96],\"y\":[45.94,38.47,45.94,20.96,32.85,25.86,27.72,29.52,19.76,31.04,36.69,28.65,14.67,32.7,48.65,44.17,34.17,35.86,14.48,31.27,35.27,32.83],\"type\":\"scatter\"},{\"marker\":{\"color\":[\"dimgrey\"],\"size\":8},\"mode\":\"markers\",\"showlegend\":false,\"visible\":false,\"x\":[25.3899993896484],\"y\":[46.439998626709],\"type\":\"scatter\"},{\"hovertemplate\":\"%{hovertext}\",\"hovertext\":[\"Stephon Gilmore\",\"Rodney McLeod\",\"Travis Kelce\",\"Jerick McKinnon\",\"DeForest Buckner\",\"Yannick Ngakoue\",\"Joe Thuney\",\"Patrick Mahomes\",\"Kenny Moore\",\"Andrew Wylie\",\"Tyquan Lewis\",\"Orlando Brown\",\"Marquez Valdes-Scantling\",\"Zaire Franklin\",\"Mecole Hardman\",\"Bobby Okereke\",\"E.J. Speed\",\"Julian Blackmon\",\"Isaiah Rodgers\",\"Creed Humphrey\",\"Trey Smith\",\"Skyy Moore\"],\"marker\":{\"angle\":[-69.24000000000001,-4.210000000000036,-13.149999999999977,-52.47000000000003,-43.99000000000001,-61.389999999999986,-92.93,-74.29000000000002,-42.47000000000003,-37.69,-72.75,-77.56,-37.64999999999998,-17.850000000000023,-116.78999999999996,-59.49000000000001,-62.85000000000002,-43.98000000000002,-19.75,-67.23000000000002,-82.79000000000002,-69.44],\"color\":[\"lightsteelblue\",\"lightsteelblue\",\"peru\",\"burlywood\",\"lightsteelblue\",\"lightsteelblue\",\"burlywood\",\"burlywood\",\"lightsteelblue\",\"burlywood\",\"lightsteelblue\",\"burlywood\",\"burlywood\",\"lightsteelblue\",\"burlywood\",\"midnightblue\",\"lightsteelblue\",\"lightsteelblue\",\"lightsteelblue\",\"burlywood\",\"burlywood\",\"burlywood\"],\"size\":[15,15,18,15,15,15,15,15,15,15,15,15,15,15,15,18,15,15,15,15,15,15],\"symbol\":\"arrow\"},\"mode\":\"markers\",\"showlegend\":false,\"visible\":false,\"x\":[30.53,31.11,25.29,37.7,51.92,49.3,49.05,51.19,28.97,50.91,44.17,49.9,31.48,21.46,38.21,26.49,38.99,17.67,30.25,45.64,45.29,19.42],\"y\":[46.35,38.86,46.37,21.08,33.12,25.76,27.73,29.6,20.14,31.15,36.87,28.7,15.1,33.38,49.06,44.63,34.43,36.58,14.94,31.41,35.49,33.47],\"type\":\"scatter\"},{\"marker\":{\"color\":[\"dimgrey\"],\"size\":8},\"mode\":\"markers\",\"showlegend\":false,\"visible\":false,\"x\":[24.7099990844727],\"y\":[46.9300003051758],\"type\":\"scatter\"},{\"hovertemplate\":\"%{hovertext}\",\"hovertext\":[\"Stephon Gilmore\",\"Rodney McLeod\",\"Travis Kelce\",\"Jerick McKinnon\",\"DeForest Buckner\",\"Yannick Ngakoue\",\"Joe Thuney\",\"Patrick Mahomes\",\"Kenny Moore\",\"Andrew Wylie\",\"Tyquan Lewis\",\"Orlando Brown\",\"Marquez Valdes-Scantling\",\"Zaire Franklin\",\"Mecole Hardman\",\"Bobby Okereke\",\"E.J. Speed\",\"Julian Blackmon\",\"Isaiah Rodgers\",\"Creed Humphrey\",\"Trey Smith\",\"Skyy Moore\"],\"marker\":{\"angle\":[-73.02999999999997,-1.1399999999999864,-15.720000000000027,-57.02999999999997,-46.339999999999975,-58.610000000000014,-86.61000000000001,-74.29000000000002,-37.379999999999995,-40.22000000000003,-80.49000000000001,-75.16000000000003,-41.23000000000002,-17.850000000000023,-117.88,-61.19,-61.160000000000025,-50.00999999999999,-18.799999999999955,-64.75999999999999,-87.17000000000002,-63.170000000000016],\"color\":[\"lightsteelblue\",\"lightsteelblue\",\"peru\",\"burlywood\",\"lightsteelblue\",\"lightsteelblue\",\"burlywood\",\"burlywood\",\"lightsteelblue\",\"burlywood\",\"lightsteelblue\",\"burlywood\",\"burlywood\",\"lightsteelblue\",\"burlywood\",\"midnightblue\",\"lightsteelblue\",\"lightsteelblue\",\"lightsteelblue\",\"burlywood\",\"burlywood\",\"burlywood\"],\"size\":[15,15,18,15,15,15,15,15,15,15,15,15,15,15,15,18,15,15,15,15,15,15],\"symbol\":\"arrow\"},\"mode\":\"markers\",\"showlegend\":false,\"visible\":false,\"x\":[30.0,30.69,24.67,37.41,51.87,49.1,48.93,51.12,28.55,50.79,43.72,49.82,31.28,21.02,38.0,25.81,38.46,17.41,30.02,45.39,44.91,18.88],\"y\":[46.76,39.24,46.79,21.23,33.41,25.68,27.74,29.69,20.52,31.25,37.03,28.75,15.54,34.06,49.44,45.08,34.7,37.3,15.4,31.55,35.7,34.1],\"type\":\"scatter\"},{\"marker\":{\"color\":[\"dimgrey\"],\"size\":8},\"mode\":\"markers\",\"showlegend\":false,\"visible\":false,\"x\":[24.0699996948242],\"y\":[47.3800010681152],\"type\":\"scatter\"},{\"hovertemplate\":\"%{hovertext}\",\"hovertext\":[\"Stephon Gilmore\",\"Rodney McLeod\",\"Travis Kelce\",\"Jerick McKinnon\",\"DeForest Buckner\",\"Yannick Ngakoue\",\"Joe Thuney\",\"Patrick Mahomes\",\"Kenny Moore\",\"Andrew Wylie\",\"Tyquan Lewis\",\"Orlando Brown\",\"Marquez Valdes-Scantling\",\"Zaire Franklin\",\"Mecole Hardman\",\"Bobby Okereke\",\"E.J. Speed\",\"Julian Blackmon\",\"Isaiah Rodgers\",\"Creed Humphrey\",\"Trey Smith\",\"Skyy Moore\"],\"marker\":{\"angle\":[-78.79000000000002,-0.38999999999998636,-9.519999999999982,-62.44,-39.01999999999998,-62.18000000000001,-83.22000000000003,-74.29000000000002,-36.35000000000002,-43.55000000000001,-93.35000000000002,-74.02999999999997,-39.24000000000001,-22.680000000000064,-119.5,-55.0,-52.75999999999999,-46.47000000000003,-21.450000000000045,-64.75999999999999,-87.17000000000002,-84.80000000000001],\"color\":[\"lightsteelblue\",\"lightsteelblue\",\"peru\",\"burlywood\",\"lightsteelblue\",\"lightsteelblue\",\"burlywood\",\"burlywood\",\"lightsteelblue\",\"burlywood\",\"lightsteelblue\",\"burlywood\",\"burlywood\",\"lightsteelblue\",\"burlywood\",\"midnightblue\",\"lightsteelblue\",\"lightsteelblue\",\"lightsteelblue\",\"burlywood\",\"burlywood\",\"burlywood\"],\"size\":[15,15,18,15,15,15,15,15,15,15,15,15,15,15,15,18,15,15,15,15,15,15],\"symbol\":\"arrow\"},\"mode\":\"markers\",\"showlegend\":false,\"visible\":false,\"x\":[29.45,30.24,24.03,37.09,51.77,48.88,48.8,51.04,28.11,50.66,43.25,49.71,31.06,20.6,37.78,25.11,37.92,17.14,29.77,45.11,44.51,18.33],\"y\":[47.16,39.62,47.17,21.41,33.71,25.61,27.76,29.79,20.89,31.35,37.16,28.79,15.97,34.74,49.79,45.52,34.96,38.04,15.85,31.7,35.91,34.76],\"type\":\"scatter\"},{\"marker\":{\"color\":[\"dimgrey\"],\"size\":8},\"mode\":\"markers\",\"showlegend\":false,\"visible\":false,\"x\":[23.5699996948242],\"y\":[47.7400016784668],\"type\":\"scatter\"},{\"hovertemplate\":\"%{hovertext}\",\"hovertext\":[\"Stephon Gilmore\",\"Rodney McLeod\",\"Travis Kelce\",\"Jerick McKinnon\",\"DeForest Buckner\",\"Yannick Ngakoue\",\"Joe Thuney\",\"Patrick Mahomes\",\"Kenny Moore\",\"Andrew Wylie\",\"Tyquan Lewis\",\"Orlando Brown\",\"Marquez Valdes-Scantling\",\"Zaire Franklin\",\"Mecole Hardman\",\"Bobby Okereke\",\"E.J. Speed\",\"Julian Blackmon\",\"Isaiah Rodgers\",\"Creed Humphrey\",\"Trey Smith\",\"Skyy Moore\"],\"marker\":{\"angle\":[-80.93,-4.539999999999964,-19.160000000000082,-62.44,-31.55000000000001,-64.06,-82.18,-74.29000000000002,-38.02999999999997,-46.06999999999999,-87.47000000000003,-71.76999999999998,-40.889999999999986,-28.79000000000002,-119.5,-52.02999999999997,-49.94999999999999,-39.98000000000002,-24.460000000000036,-68.27999999999997,-86.43,-96.10000000000002],\"color\":[\"lightsteelblue\",\"lightsteelblue\",\"peru\",\"burlywood\",\"lightsteelblue\",\"lightsteelblue\",\"burlywood\",\"burlywood\",\"lightsteelblue\",\"burlywood\",\"lightsteelblue\",\"burlywood\",\"burlywood\",\"lightsteelblue\",\"burlywood\",\"midnightblue\",\"lightsteelblue\",\"lightsteelblue\",\"lightsteelblue\",\"burlywood\",\"burlywood\",\"burlywood\"],\"size\":[15,15,18,15,15,15,15,15,15,15,15,15,15,15,15,18,15,15,15,15,15,15],\"symbol\":\"arrow\"},\"mode\":\"markers\",\"showlegend\":false,\"visible\":false,\"x\":[28.88,29.75,23.34,36.75,51.65,48.67,48.66,50.94,27.66,50.53,42.76,49.59,30.84,20.19,37.55,24.36,37.39,16.86,29.52,44.81,44.13,17.78],\"y\":[47.55,40.01,47.52,21.6,34.03,25.55,27.77,29.9,21.28,31.46,37.28,28.83,16.4,35.41,50.13,45.97,35.23,38.8,16.3,31.85,36.11,35.42],\"type\":\"scatter\"},{\"marker\":{\"color\":[\"dimgrey\"],\"size\":8},\"mode\":\"markers\",\"showlegend\":false,\"visible\":false,\"x\":[23.1299991607666],\"y\":[48.060001373291],\"type\":\"scatter\"},{\"hovertemplate\":\"%{hovertext}\",\"hovertext\":[\"Stephon Gilmore\",\"Rodney McLeod\",\"Travis Kelce\",\"Jerick McKinnon\",\"DeForest Buckner\",\"Yannick Ngakoue\",\"Joe Thuney\",\"Patrick Mahomes\",\"Kenny Moore\",\"Andrew Wylie\",\"Tyquan Lewis\",\"Orlando Brown\",\"Marquez Valdes-Scantling\",\"Zaire Franklin\",\"Mecole Hardman\",\"Bobby Okereke\",\"E.J. Speed\",\"Julian Blackmon\",\"Isaiah Rodgers\",\"Creed Humphrey\",\"Trey Smith\",\"Skyy Moore\"],\"marker\":{\"angle\":[-83.27999999999997,-15.569999999999936,-35.43000000000001,-59.22000000000003,-21.360000000000014,-64.06,-80.45999999999998,-74.29000000000002,-42.339999999999975,-48.55000000000001,-85.18,-67.11000000000001,-38.01999999999998,-35.379999999999995,-117.89999999999998,-61.97000000000003,-54.31999999999999,-40.660000000000025,-25.930000000000064,-68.27999999999997,-90.79000000000002,-96.10000000000002],\"color\":[\"lightsteelblue\",\"lightsteelblue\",\"peru\",\"burlywood\",\"lightsteelblue\",\"lightsteelblue\",\"burlywood\",\"burlywood\",\"lightsteelblue\",\"burlywood\",\"lightsteelblue\",\"burlywood\",\"burlywood\",\"lightsteelblue\",\"burlywood\",\"midnightblue\",\"lightsteelblue\",\"lightsteelblue\",\"lightsteelblue\",\"burlywood\",\"burlywood\",\"burlywood\"],\"size\":[15,15,18,15,15,15,15,15,15,15,15,15,15,15,15,18,15,15,15,15,15,15],\"symbol\":\"arrow\"},\"mode\":\"markers\",\"showlegend\":false,\"visible\":false,\"x\":[28.3,29.24,22.62,36.39,51.52,48.44,48.52,50.84,27.18,50.38,42.26,49.46,30.61,19.79,37.29,23.57,36.85,16.56,29.27,44.5,43.71,17.21],\"y\":[47.93,40.4,47.84,21.82,34.34,25.49,27.78,30.01,21.66,31.56,37.37,28.86,16.83,36.09,50.44,46.41,35.48,39.57,16.74,32.01,36.32,36.07],\"type\":\"scatter\"},{\"marker\":{\"color\":[\"dimgrey\"],\"size\":8},\"mode\":\"markers\",\"showlegend\":false,\"visible\":false,\"x\":[22.5100002288818],\"y\":[48.3899993896484],\"type\":\"scatter\"},{\"hovertemplate\":\"%{hovertext}\",\"hovertext\":[\"Stephon Gilmore\",\"Rodney McLeod\",\"Travis Kelce\",\"Jerick McKinnon\",\"DeForest Buckner\",\"Yannick Ngakoue\",\"Joe Thuney\",\"Patrick Mahomes\",\"Kenny Moore\",\"Andrew Wylie\",\"Tyquan Lewis\",\"Orlando Brown\",\"Marquez Valdes-Scantling\",\"Zaire Franklin\",\"Mecole Hardman\",\"Bobby Okereke\",\"E.J. Speed\",\"Julian Blackmon\",\"Isaiah Rodgers\",\"Creed Humphrey\",\"Trey Smith\",\"Skyy Moore\"],\"marker\":{\"angle\":[-84.24000000000001,-25.220000000000027,-54.35000000000002,-59.22000000000003,-13.269999999999982,-64.06,-78.24000000000001,-73.63999999999999,-42.339999999999975,-53.00999999999999,-90.61000000000001,-67.75,-33.110000000000014,-35.379999999999995,-114.25999999999999,-58.410000000000025,-55.389999999999986,-40.660000000000025,-27.460000000000036,-66.32999999999998,-93.07999999999998,-93.13999999999999],\"color\":[\"lightsteelblue\",\"lightsteelblue\",\"peru\",\"burlywood\",\"lightsteelblue\",\"lightsteelblue\",\"burlywood\",\"burlywood\",\"lightsteelblue\",\"burlywood\",\"lightsteelblue\",\"burlywood\",\"burlywood\",\"lightsteelblue\",\"burlywood\",\"midnightblue\",\"lightsteelblue\",\"lightsteelblue\",\"lightsteelblue\",\"burlywood\",\"burlywood\",\"burlywood\"],\"size\":[15,15,18,15,15,15,15,15,15,15,15,15,15,15,15,18,15,15,15,15,15,15],\"symbol\":\"arrow\"},\"mode\":\"markers\",\"showlegend\":false,\"visible\":false,\"x\":[27.71,28.7,21.89,36.01,51.35,48.21,48.36,50.72,26.69,50.23,41.74,49.31,30.38,19.4,37.02,22.77,36.3,16.26,29.01,44.17,43.31,16.66],\"y\":[48.29,40.78,48.12,22.04,34.68,25.45,27.79,30.12,22.03,31.67,37.45,28.89,17.25,36.76,50.72,46.83,35.73,40.36,17.18,32.17,36.51,36.71],\"type\":\"scatter\"},{\"marker\":{\"color\":[\"dimgrey\"],\"size\":8},\"mode\":\"markers\",\"showlegend\":false,\"visible\":false,\"x\":[22.0799999237061],\"y\":[48.6599998474121],\"type\":\"scatter\"},{\"hovertemplate\":\"%{hovertext}\",\"hovertext\":[\"Stephon Gilmore\",\"Rodney McLeod\",\"Travis Kelce\",\"Jerick McKinnon\",\"DeForest Buckner\",\"Yannick Ngakoue\",\"Joe Thuney\",\"Patrick Mahomes\",\"Kenny Moore\",\"Andrew Wylie\",\"Tyquan Lewis\",\"Orlando Brown\",\"Marquez Valdes-Scantling\",\"Zaire Franklin\",\"Mecole Hardman\",\"Bobby Okereke\",\"E.J. Speed\",\"Julian Blackmon\",\"Isaiah Rodgers\",\"Creed Humphrey\",\"Trey Smith\",\"Skyy Moore\"],\"marker\":{\"angle\":[-89.64999999999998,-30.060000000000002,-72.77999999999997,-62.97000000000003,-9.819999999999936,-62.75999999999999,-78.24000000000001,-74.52999999999997,-42.339999999999975,-53.00999999999999,-89.38,-65.60000000000002,-30.670000000000016,-39.0,-115.47000000000003,-56.29000000000002,-51.339999999999975,-36.339999999999975,-31.620000000000005,-61.95999999999998,-87.50999999999999,-93.88999999999999],\"color\":[\"lightsteelblue\",\"lightsteelblue\",\"peru\",\"burlywood\",\"lightsteelblue\",\"lightsteelblue\",\"burlywood\",\"burlywood\",\"lightsteelblue\",\"burlywood\",\"lightsteelblue\",\"burlywood\",\"burlywood\",\"lightsteelblue\",\"burlywood\",\"midnightblue\",\"lightsteelblue\",\"lightsteelblue\",\"lightsteelblue\",\"burlywood\",\"burlywood\",\"burlywood\"],\"size\":[15,15,18,15,15,15,15,15,15,15,15,15,15,15,15,18,15,15,15,15,15,15],\"symbol\":\"arrow\"},\"mode\":\"markers\",\"showlegend\":false,\"visible\":false,\"x\":[27.1,28.14,21.12,35.61,51.16,47.97,48.19,50.59,26.19,50.07,41.22,49.16,30.14,19.0,36.74,21.96,35.76,15.95,28.74,43.84,42.86,16.1],\"y\":[48.63,41.16,48.36,22.28,35.01,25.41,27.8,30.23,22.4,31.77,37.5,28.92,17.68,37.41,50.98,47.25,35.98,41.16,17.61,32.33,36.69,37.35],\"type\":\"scatter\"},{\"marker\":{\"color\":[\"dimgrey\"],\"size\":8},\"mode\":\"markers\",\"showlegend\":false,\"visible\":false,\"x\":[21.0400009155273],\"y\":[48.9700012207031],\"type\":\"scatter\"},{\"hovertemplate\":\"%{hovertext}\",\"hovertext\":[\"Stephon Gilmore\",\"Rodney McLeod\",\"Travis Kelce\",\"Jerick McKinnon\",\"DeForest Buckner\",\"Yannick Ngakoue\",\"Joe Thuney\",\"Patrick Mahomes\",\"Kenny Moore\",\"Andrew Wylie\",\"Tyquan Lewis\",\"Orlando Brown\",\"Marquez Valdes-Scantling\",\"Zaire Franklin\",\"Mecole Hardman\",\"Bobby Okereke\",\"E.J. Speed\",\"Julian Blackmon\",\"Isaiah Rodgers\",\"Creed Humphrey\",\"Trey Smith\",\"Skyy Moore\"],\"marker\":{\"angle\":[-89.64999999999998,-30.060000000000002,-87.42000000000002,-60.85000000000002,-7.6200000000000045,-62.75999999999999,-79.32999999999998,-76.76999999999998,-44.579999999999984,-55.75,-79.49000000000001,-64.35000000000002,-30.670000000000016,-49.68000000000001,-116.39999999999998,-57.18000000000001,-53.69999999999999,-29.25999999999999,-36.99000000000001,-68.35000000000002,-84.18,-89.86000000000001],\"color\":[\"lightsteelblue\",\"lightsteelblue\",\"peru\",\"burlywood\",\"lightsteelblue\",\"lightsteelblue\",\"burlywood\",\"burlywood\",\"lightsteelblue\",\"burlywood\",\"lightsteelblue\",\"burlywood\",\"burlywood\",\"lightsteelblue\",\"burlywood\",\"midnightblue\",\"lightsteelblue\",\"lightsteelblue\",\"lightsteelblue\",\"burlywood\",\"burlywood\",\"burlywood\"],\"size\":[15,15,18,15,15,15,15,15,15,15,15,15,15,15,15,18,15,15,15,15,15,15],\"symbol\":\"arrow\"},\"mode\":\"markers\",\"showlegend\":false,\"visible\":false,\"x\":[26.49,27.58,20.31,35.19,50.97,47.73,48.02,50.45,25.67,49.91,40.7,49.02,29.89,18.6,36.45,21.14,35.21,15.64,28.48,43.49,42.42,15.55],\"y\":[48.97,41.54,48.58,22.54,35.33,25.37,27.81,30.34,22.77,31.87,37.55,28.94,18.1,38.07,51.23,47.66,36.22,41.96,18.02,32.48,36.87,37.99],\"type\":\"scatter\"},{\"marker\":{\"color\":[\"dimgrey\"],\"size\":8},\"mode\":\"markers\",\"showlegend\":false,\"visible\":false,\"x\":[20.2900009155273],\"y\":[49.1800003051758],\"type\":\"scatter\"},{\"hovertemplate\":\"%{hovertext}\",\"hovertext\":[\"Stephon Gilmore\",\"Rodney McLeod\",\"Travis Kelce\",\"Jerick McKinnon\",\"DeForest Buckner\",\"Yannick Ngakoue\",\"Joe Thuney\",\"Patrick Mahomes\",\"Kenny Moore\",\"Andrew Wylie\",\"Tyquan Lewis\",\"Orlando Brown\",\"Marquez Valdes-Scantling\",\"Zaire Franklin\",\"Mecole Hardman\",\"Bobby Okereke\",\"E.J. Speed\",\"Julian Blackmon\",\"Isaiah Rodgers\",\"Creed Humphrey\",\"Trey Smith\",\"Skyy Moore\"],\"marker\":{\"angle\":[-89.64999999999998,-35.81999999999999,-88.50999999999999,-59.48000000000002,-10.389999999999986,-62.75999999999999,-78.64999999999998,-79.69,-46.72000000000003,-62.48000000000002,-78.49000000000001,-64.35000000000002,-33.129999999999995,-52.26999999999998,-113.06,-59.79000000000002,-57.73000000000002,-37.97000000000003,-40.75,-65.92000000000002,-86.89999999999998,-82.05000000000001],\"color\":[\"lightsteelblue\",\"lightsteelblue\",\"peru\",\"burlywood\",\"lightsteelblue\",\"lightsteelblue\",\"burlywood\",\"burlywood\",\"lightsteelblue\",\"burlywood\",\"lightsteelblue\",\"burlywood\",\"burlywood\",\"lightsteelblue\",\"burlywood\",\"midnightblue\",\"lightsteelblue\",\"lightsteelblue\",\"lightsteelblue\",\"burlywood\",\"burlywood\",\"burlywood\"],\"size\":[15,15,18,15,15,15,15,15,15,15,15,15,15,15,15,18,15,15,15,15,15,15],\"symbol\":\"arrow\"},\"mode\":\"markers\",\"showlegend\":false,\"visible\":false,\"x\":[25.89,26.99,19.48,34.76,50.77,47.48,47.84,50.3,25.15,49.74,40.17,48.86,29.64,18.2,36.13,20.3,34.68,15.31,28.22,43.14,41.97,15.0],\"y\":[49.29,41.9,48.76,22.8,35.65,25.35,27.82,30.45,23.14,31.97,37.57,28.97,18.51,38.71,51.46,48.04,36.47,42.77,18.43,32.63,37.04,38.63],\"type\":\"scatter\"},{\"marker\":{\"color\":[\"dimgrey\"],\"size\":8},\"mode\":\"markers\",\"showlegend\":false,\"visible\":false,\"x\":[19.5100002288818],\"y\":[49.3300018310547],\"type\":\"scatter\"},{\"hovertemplate\":\"%{hovertext}\",\"hovertext\":[\"Stephon Gilmore\",\"Rodney McLeod\",\"Travis Kelce\",\"Jerick McKinnon\",\"DeForest Buckner\",\"Yannick Ngakoue\",\"Joe Thuney\",\"Patrick Mahomes\",\"Kenny Moore\",\"Andrew Wylie\",\"Tyquan Lewis\",\"Orlando Brown\",\"Marquez Valdes-Scantling\",\"Zaire Franklin\",\"Mecole Hardman\",\"Bobby Okereke\",\"E.J. Speed\",\"Julian Blackmon\",\"Isaiah Rodgers\",\"Creed Humphrey\",\"Trey Smith\",\"Skyy Moore\"],\"marker\":{\"angle\":[-90.99000000000001,-44.76999999999998,-93.22000000000003,-57.69999999999999,-20.720000000000027,-61.45999999999998,-77.92000000000002,-79.69,-45.339999999999975,-65.88999999999999,-86.13,-66.85000000000002,-37.04000000000002,-62.45999999999998,-110.81,-69.63,-61.02999999999997,-55.60000000000002,-41.54000000000002,-67.98000000000002,-86.89999999999998,-79.23000000000002],\"color\":[\"lightsteelblue\",\"lightsteelblue\",\"peru\",\"burlywood\",\"lightsteelblue\",\"lightsteelblue\",\"burlywood\",\"burlywood\",\"lightsteelblue\",\"burlywood\",\"lightsteelblue\",\"burlywood\",\"burlywood\",\"lightsteelblue\",\"burlywood\",\"midnightblue\",\"lightsteelblue\",\"lightsteelblue\",\"lightsteelblue\",\"burlywood\",\"burlywood\",\"burlywood\"],\"size\":[15,15,18,15,15,15,15,15,15,15,15,15,15,15,15,18,15,15,15,15,15,15],\"symbol\":\"arrow\"},\"mode\":\"markers\",\"showlegend\":false,\"visible\":false,\"x\":[25.29,26.38,18.64,34.32,50.55,47.22,47.67,50.14,24.64,49.57,39.63,48.69,29.39,17.79,35.81,19.42,34.15,14.99,27.96,42.78,41.51,14.45],\"y\":[49.59,42.25,48.93,23.06,35.98,25.32,27.83,30.56,23.52,32.07,37.59,28.99,18.93,39.35,51.66,48.39,36.73,43.56,18.84,32.8,37.22,39.26],\"type\":\"scatter\"},{\"marker\":{\"color\":[\"dimgrey\"],\"size\":8},\"mode\":\"markers\",\"showlegend\":false,\"visible\":false,\"x\":[18.5699996948242],\"y\":[49.3899993896484],\"type\":\"scatter\"},{\"hovertemplate\":\"%{hovertext}\",\"hovertext\":[\"Stephon Gilmore\",\"Rodney McLeod\",\"Travis Kelce\",\"Jerick McKinnon\",\"DeForest Buckner\",\"Yannick Ngakoue\",\"Joe Thuney\",\"Patrick Mahomes\",\"Kenny Moore\",\"Andrew Wylie\",\"Tyquan Lewis\",\"Orlando Brown\",\"Marquez Valdes-Scantling\",\"Zaire Franklin\",\"Mecole Hardman\",\"Bobby Okereke\",\"E.J. Speed\",\"Julian Blackmon\",\"Isaiah Rodgers\",\"Creed Humphrey\",\"Trey Smith\",\"Skyy Moore\"],\"marker\":{\"angle\":[-94.25,-54.01999999999998,-90.32,-56.089999999999975,-21.420000000000073,-63.420000000000016,-77.92000000000002,-79.69,-43.089999999999975,-68.19,-88.32999999999998,-68.89999999999998,-37.04000000000002,-76.18,-109.66999999999996,-73.39999999999998,-57.660000000000025,-70.02999999999997,-40.420000000000016,-69.75999999999999,-81.26999999999998,-76.95999999999998],\"color\":[\"lightsteelblue\",\"lightsteelblue\",\"peru\",\"burlywood\",\"lightsteelblue\",\"lightsteelblue\",\"burlywood\",\"burlywood\",\"lightsteelblue\",\"burlywood\",\"lightsteelblue\",\"burlywood\",\"burlywood\",\"lightsteelblue\",\"burlywood\",\"midnightblue\",\"lightsteelblue\",\"lightsteelblue\",\"lightsteelblue\",\"burlywood\",\"burlywood\",\"burlywood\"],\"size\":[15,15,18,15,15,15,15,15,15,15,15,15,15,15,15,18,15,15,15,15,15,15],\"symbol\":\"arrow\"},\"mode\":\"markers\",\"showlegend\":false,\"visible\":false,\"x\":[24.7,25.77,17.79,33.87,50.31,46.97,47.49,49.98,24.13,49.4,39.11,48.53,29.14,17.38,35.47,18.56,33.63,14.66,27.7,42.42,41.04,13.91],\"y\":[49.87,42.59,49.06,23.33,36.29,25.31,27.84,30.67,23.88,32.16,37.59,29.0,19.33,39.97,51.85,48.72,36.98,44.34,19.23,32.95,37.38,39.88],\"type\":\"scatter\"},{\"marker\":{\"color\":[\"dimgrey\"],\"size\":8},\"mode\":\"markers\",\"showlegend\":false,\"visible\":false,\"x\":[18.0900001525879],\"y\":[49.5099983215332],\"type\":\"scatter\"},{\"hovertemplate\":\"%{hovertext}\",\"hovertext\":[\"Stephon Gilmore\",\"Rodney McLeod\",\"Travis Kelce\",\"Jerick McKinnon\",\"DeForest Buckner\",\"Yannick Ngakoue\",\"Joe Thuney\",\"Patrick Mahomes\",\"Kenny Moore\",\"Andrew Wylie\",\"Tyquan Lewis\",\"Orlando Brown\",\"Marquez Valdes-Scantling\",\"Zaire Franklin\",\"Mecole Hardman\",\"Bobby Okereke\",\"E.J. Speed\",\"Julian Blackmon\",\"Isaiah Rodgers\",\"Creed Humphrey\",\"Trey Smith\",\"Skyy Moore\"],\"marker\":{\"angle\":[-97.79000000000002,-60.04000000000002,-89.24000000000001,-55.129999999999995,-25.850000000000023,-65.91000000000003,-79.35000000000002,-78.31,-41.110000000000014,-70.69999999999999,-83.64999999999998,-71.18,-35.94999999999999,-100.30000000000001,-108.09000000000003,-76.56,-57.660000000000025,-68.45999999999998,-39.31999999999999,-66.93,-82.48000000000002,-76.95999999999998],\"color\":[\"lightsteelblue\",\"lightsteelblue\",\"peru\",\"burlywood\",\"lightsteelblue\",\"lightsteelblue\",\"burlywood\",\"burlywood\",\"lightsteelblue\",\"burlywood\",\"lightsteelblue\",\"burlywood\",\"burlywood\",\"lightsteelblue\",\"burlywood\",\"midnightblue\",\"lightsteelblue\",\"lightsteelblue\",\"lightsteelblue\",\"burlywood\",\"burlywood\",\"burlywood\"],\"size\":[15,15,18,15,15,15,15,15,15,15,15,15,15,15,15,18,15,15,15,15,15,15],\"symbol\":\"arrow\"},\"mode\":\"markers\",\"showlegend\":false,\"visible\":false,\"x\":[24.13,25.16,16.92,33.41,50.06,46.73,47.3,49.81,23.61,49.23,38.58,48.36,28.88,16.96,35.14,17.71,33.12,14.32,27.43,42.02,40.57,13.39],\"y\":[50.14,42.92,49.18,23.59,36.59,25.29,27.86,30.79,24.24,32.25,37.58,29.01,19.73,40.58,52.01,49.02,37.23,45.12,19.6,33.1,37.54,40.5],\"type\":\"scatter\"},{\"marker\":{\"color\":[\"dimgrey\"],\"size\":8},\"mode\":\"markers\",\"showlegend\":false,\"visible\":false,\"x\":[16.8199996948242],\"y\":[49.5299987792969],\"type\":\"scatter\"},{\"hovertemplate\":\"%{hovertext}\",\"hovertext\":[\"Stephon Gilmore\",\"Rodney McLeod\",\"Travis Kelce\",\"Jerick McKinnon\",\"DeForest Buckner\",\"Yannick Ngakoue\",\"Joe Thuney\",\"Patrick Mahomes\",\"Kenny Moore\",\"Andrew Wylie\",\"Tyquan Lewis\",\"Orlando Brown\",\"Marquez Valdes-Scantling\",\"Zaire Franklin\",\"Mecole Hardman\",\"Bobby Okereke\",\"E.J. Speed\",\"Julian Blackmon\",\"Isaiah Rodgers\",\"Creed Humphrey\",\"Trey Smith\",\"Skyy Moore\"],\"marker\":{\"angle\":[-99.94999999999999,-64.94,-84.19999999999999,-55.129999999999995,-29.45999999999998,-67.82,-76.75,-76.93,-39.829999999999984,-72.62,-78.69,-71.18,-35.94999999999999,-109.32,-108.09000000000003,-73.39999999999998,-59.94,-76.95999999999998,-39.31999999999999,-64.60000000000002,-91.93,-79.88],\"color\":[\"lightsteelblue\",\"lightsteelblue\",\"peru\",\"burlywood\",\"lightsteelblue\",\"lightsteelblue\",\"burlywood\",\"burlywood\",\"lightsteelblue\",\"burlywood\",\"lightsteelblue\",\"burlywood\",\"burlywood\",\"lightsteelblue\",\"burlywood\",\"midnightblue\",\"lightsteelblue\",\"lightsteelblue\",\"lightsteelblue\",\"burlywood\",\"burlywood\",\"burlywood\"],\"size\":[15,15,18,15,15,15,15,15,15,15,15,15,15,15,15,18,15,15,15,15,15,15],\"symbol\":\"arrow\"},\"mode\":\"markers\",\"showlegend\":false,\"visible\":false,\"x\":[23.58,24.55,16.08,32.96,49.8,46.48,47.11,49.63,23.08,49.06,38.05,48.19,28.61,16.52,34.79,16.86,32.61,13.97,27.16,41.64,40.09,12.88],\"y\":[50.39,43.24,49.3,23.86,36.87,25.28,27.89,30.91,24.59,32.33,37.55,29.01,20.12,41.16,52.16,49.3,37.47,45.89,19.97,33.25,37.7,41.11],\"type\":\"scatter\"},{\"marker\":{\"color\":[\"dimgrey\"],\"size\":8},\"mode\":\"markers\",\"showlegend\":false,\"visible\":false,\"x\":[16.4599990844727],\"y\":[49.5999984741211],\"type\":\"scatter\"},{\"hovertemplate\":\"%{hovertext}\",\"hovertext\":[\"Stephon Gilmore\",\"Rodney McLeod\",\"Travis Kelce\",\"Jerick McKinnon\",\"DeForest Buckner\",\"Yannick Ngakoue\",\"Joe Thuney\",\"Patrick Mahomes\",\"Kenny Moore\",\"Andrew Wylie\",\"Tyquan Lewis\",\"Orlando Brown\",\"Marquez Valdes-Scantling\",\"Zaire Franklin\",\"Mecole Hardman\",\"Bobby Okereke\",\"E.J. Speed\",\"Julian Blackmon\",\"Isaiah Rodgers\",\"Creed Humphrey\",\"Trey Smith\",\"Skyy Moore\"],\"marker\":{\"angle\":[-102.07,-64.04000000000002,-84.19999999999999,-55.129999999999995,-43.05000000000001,-70.10000000000002,-76.75,-73.62,-39.05000000000001,-73.32,-79.88999999999999,-72.68,-32.77999999999997,-114.00999999999999,-108.78999999999996,-76.47000000000003,-60.52999999999997,-84.39999999999998,-41.31999999999999,-62.98000000000002,-86.45999999999998,-88.83999999999997],\"color\":[\"lightsteelblue\",\"lightsteelblue\",\"peru\",\"burlywood\",\"lightsteelblue\",\"lightsteelblue\",\"burlywood\",\"burlywood\",\"lightsteelblue\",\"burlywood\",\"lightsteelblue\",\"burlywood\",\"burlywood\",\"lightsteelblue\",\"burlywood\",\"midnightblue\",\"lightsteelblue\",\"lightsteelblue\",\"lightsteelblue\",\"burlywood\",\"burlywood\",\"burlywood\"],\"size\":[15,15,18,15,15,15,15,15,15,15,15,15,15,15,15,18,15,15,15,15,15,15],\"symbol\":\"arrow\"},\"mode\":\"markers\",\"showlegend\":false,\"visible\":false,\"x\":[23.06,23.93,15.27,32.52,49.52,46.24,46.92,49.45,22.56,48.87,37.52,48.02,28.34,16.08,34.44,16.06,32.12,13.62,26.9,41.25,39.6,12.4],\"y\":[50.61,43.53,49.41,24.13,37.15,25.26,27.91,31.03,24.92,32.41,37.53,29.02,20.5,41.73,52.29,49.56,37.71,46.67,20.32,33.4,37.86,41.71],\"type\":\"scatter\"},{\"marker\":{\"color\":[\"dimgrey\"],\"size\":8},\"mode\":\"markers\",\"showlegend\":false,\"visible\":false,\"x\":[14.460000038147],\"y\":[49.7299995422363],\"type\":\"scatter\"},{\"hovertemplate\":\"%{hovertext}\",\"hovertext\":[\"Stephon Gilmore\",\"Rodney McLeod\",\"Travis Kelce\",\"Jerick McKinnon\",\"DeForest Buckner\",\"Yannick Ngakoue\",\"Joe Thuney\",\"Patrick Mahomes\",\"Kenny Moore\",\"Andrew Wylie\",\"Tyquan Lewis\",\"Orlando Brown\",\"Marquez Valdes-Scantling\",\"Zaire Franklin\",\"Mecole Hardman\",\"Bobby Okereke\",\"E.J. Speed\",\"Julian Blackmon\",\"Isaiah Rodgers\",\"Creed Humphrey\",\"Trey Smith\",\"Skyy Moore\"],\"marker\":{\"angle\":[-102.64999999999998,-64.86000000000001,-60.85000000000002,-56.39999999999998,-46.52999999999997,-72.05000000000001,-76.75,-71.95999999999998,-39.05000000000001,-75.22000000000003,-81.70999999999998,-73.55000000000001,-32.77999999999997,-112.38,-107.90999999999997,-75.29000000000002,-62.45999999999998,-78.70999999999998,-42.0,-69.88,-80.43,-98.61000000000001],\"color\":[\"lightsteelblue\",\"lightsteelblue\",\"peru\",\"burlywood\",\"lightsteelblue\",\"lightsteelblue\",\"burlywood\",\"burlywood\",\"lightsteelblue\",\"burlywood\",\"lightsteelblue\",\"burlywood\",\"burlywood\",\"lightsteelblue\",\"burlywood\",\"midnightblue\",\"lightsteelblue\",\"lightsteelblue\",\"lightsteelblue\",\"burlywood\",\"burlywood\",\"burlywood\"],\"size\":[15,15,18,15,15,15,15,15,15,15,15,15,15,15,15,18,15,15,15,15,15,15],\"symbol\":\"arrow\"},\"mode\":\"markers\",\"showlegend\":false,\"visible\":false,\"x\":[22.58,23.32,14.48,32.07,49.24,46.01,46.72,49.27,22.06,48.69,37.0,47.86,28.08,15.63,34.08,15.27,31.64,13.29,26.64,40.85,39.12,11.94],\"y\":[50.82,43.82,49.54,24.4,37.41,25.24,27.94,31.16,25.25,32.49,37.5,29.02,20.87,42.29,52.39,49.79,37.94,47.44,20.65,33.54,38.0,42.28],\"type\":\"scatter\"},{\"marker\":{\"color\":[\"dimgrey\"],\"size\":8},\"mode\":\"markers\",\"showlegend\":false,\"visible\":false,\"x\":[13.8699998855591],\"y\":[49.810001373291],\"type\":\"scatter\"},{\"hovertemplate\":\"%{hovertext}\",\"hovertext\":[\"Stephon Gilmore\",\"Rodney McLeod\",\"Travis Kelce\",\"Jerick McKinnon\",\"DeForest Buckner\",\"Yannick Ngakoue\",\"Joe Thuney\",\"Patrick Mahomes\",\"Kenny Moore\",\"Andrew Wylie\",\"Tyquan Lewis\",\"Orlando Brown\",\"Marquez Valdes-Scantling\",\"Zaire Franklin\",\"Mecole Hardman\",\"Bobby Okereke\",\"E.J. Speed\",\"Julian Blackmon\",\"Isaiah Rodgers\",\"Creed Humphrey\",\"Trey Smith\",\"Skyy Moore\"],\"marker\":{\"angle\":[-105.31,-66.44999999999999,-28.05000000000001,-57.45999999999998,-50.25999999999999,-72.05000000000001,-78.04000000000002,-71.27999999999997,-41.76999999999998,-75.22000000000003,-77.75999999999999,-72.08999999999997,-34.839999999999975,-103.99000000000001,-105.68,-75.29000000000002,-60.50999999999999,-77.87,-40.79000000000002,-68.27999999999997,-78.89999999999998,-114.01999999999998],\"color\":[\"lightsteelblue\",\"lightsteelblue\",\"peru\",\"burlywood\",\"lightsteelblue\",\"lightsteelblue\",\"burlywood\",\"burlywood\",\"lightsteelblue\",\"burlywood\",\"lightsteelblue\",\"burlywood\",\"burlywood\",\"lightsteelblue\",\"burlywood\",\"midnightblue\",\"lightsteelblue\",\"lightsteelblue\",\"lightsteelblue\",\"burlywood\",\"burlywood\",\"burlywood\"],\"size\":[15,15,18,15,15,15,15,15,15,15,15,15,15,15,15,18,15,15,15,15,15,15],\"symbol\":\"arrow\"},\"mode\":\"markers\",\"showlegend\":false,\"visible\":false,\"x\":[22.12,22.71,13.74,31.62,48.96,45.77,46.52,49.09,21.58,48.51,36.49,47.69,27.82,15.18,33.73,14.5,31.18,12.95,26.38,40.45,38.63,11.53],\"y\":[51.02,44.08,49.65,24.68,37.65,25.21,27.97,31.29,25.57,32.56,37.45,29.03,21.23,42.82,52.48,50.01,38.18,48.19,20.98,33.68,38.15,42.83],\"type\":\"scatter\"},{\"marker\":{\"color\":[\"dimgrey\"],\"size\":8},\"mode\":\"markers\",\"showlegend\":false,\"visible\":false,\"x\":[13.3699998855591],\"y\":[49.8600006103516],\"type\":\"scatter\"},{\"hovertemplate\":\"%{hovertext}\",\"hovertext\":[\"Stephon Gilmore\",\"Rodney McLeod\",\"Travis Kelce\",\"Jerick McKinnon\",\"DeForest Buckner\",\"Yannick Ngakoue\",\"Joe Thuney\",\"Patrick Mahomes\",\"Kenny Moore\",\"Andrew Wylie\",\"Tyquan Lewis\",\"Orlando Brown\",\"Marquez Valdes-Scantling\",\"Zaire Franklin\",\"Mecole Hardman\",\"Bobby Okereke\",\"E.J. Speed\",\"Julian Blackmon\",\"Isaiah Rodgers\",\"Creed Humphrey\",\"Trey Smith\",\"Skyy Moore\"],\"marker\":{\"angle\":[-108.87,-69.00999999999999,-16.920000000000073,-54.579999999999984,-52.29000000000002,-74.93,-79.45999999999998,-70.37,-41.0,-75.22000000000003,-79.38999999999999,-70.13999999999999,-38.27999999999997,-103.04000000000002,-105.68,-76.39999999999998,-59.00999999999999,-73.68,-40.79000000000002,-67.38,-85.43,-116.55000000000001],\"color\":[\"lightsteelblue\",\"lightsteelblue\",\"peru\",\"burlywood\",\"lightsteelblue\",\"lightsteelblue\",\"burlywood\",\"burlywood\",\"lightsteelblue\",\"burlywood\",\"lightsteelblue\",\"burlywood\",\"burlywood\",\"lightsteelblue\",\"burlywood\",\"midnightblue\",\"lightsteelblue\",\"lightsteelblue\",\"lightsteelblue\",\"burlywood\",\"burlywood\",\"burlywood\"],\"size\":[15,15,18,15,15,15,15,15,15,15,15,15,15,15,15,18,15,15,15,15,15,15],\"symbol\":\"arrow\"},\"mode\":\"markers\",\"showlegend\":false,\"visible\":false,\"x\":[21.71,22.12,13.04,31.18,48.66,45.55,46.32,48.91,21.12,48.33,35.98,47.52,27.56,14.74,33.37,13.8,30.71,12.63,26.12,40.05,38.14,11.14],\"y\":[51.2,44.33,49.75,24.95,37.87,25.19,27.99,31.41,25.88,32.63,37.41,29.03,21.59,43.33,52.56,50.21,38.41,48.95,21.29,33.82,38.3,43.38],\"type\":\"scatter\"},{\"marker\":{\"color\":[\"dimgrey\"],\"size\":8},\"mode\":\"markers\",\"showlegend\":false,\"visible\":false,\"x\":[13.0600004196167],\"y\":[49.8899993896484],\"type\":\"scatter\"},{\"hovertemplate\":\"%{hovertext}\",\"hovertext\":[\"Stephon Gilmore\",\"Rodney McLeod\",\"Travis Kelce\",\"Jerick McKinnon\",\"DeForest Buckner\",\"Yannick Ngakoue\",\"Joe Thuney\",\"Patrick Mahomes\",\"Kenny Moore\",\"Andrew Wylie\",\"Tyquan Lewis\",\"Orlando Brown\",\"Marquez Valdes-Scantling\",\"Zaire Franklin\",\"Mecole Hardman\",\"Bobby Okereke\",\"E.J. Speed\",\"Julian Blackmon\",\"Isaiah Rodgers\",\"Creed Humphrey\",\"Trey Smith\",\"Skyy Moore\"],\"marker\":{\"angle\":[-114.10000000000002,-72.39999999999998,-10.529999999999973,-58.94,-68.32999999999998,-77.94999999999999,-80.68,-71.06,-42.26999999999998,-75.22000000000003,-81.25999999999999,-68.07,-38.27999999999997,-102.23000000000002,-103.92000000000002,-83.39999999999998,-57.51999999999998,-69.29000000000002,-42.389999999999986,-67.38,-78.81,-113.75999999999999],\"color\":[\"lightsteelblue\",\"lightsteelblue\",\"peru\",\"burlywood\",\"lightsteelblue\",\"lightsteelblue\",\"burlywood\",\"burlywood\",\"lightsteelblue\",\"burlywood\",\"lightsteelblue\",\"burlywood\",\"burlywood\",\"lightsteelblue\",\"burlywood\",\"midnightblue\",\"lightsteelblue\",\"lightsteelblue\",\"lightsteelblue\",\"burlywood\",\"burlywood\",\"burlywood\"],\"size\":[15,15,18,15,15,15,15,15,15,15,15,15,15,15,15,18,15,15,15,15,15,15],\"symbol\":\"arrow\"},\"mode\":\"markers\",\"showlegend\":false,\"visible\":false,\"x\":[21.33,21.54,12.45,30.75,48.33,45.32,46.12,48.72,20.68,48.14,35.49,47.36,27.31,14.29,33.01,13.31,30.26,12.31,25.87,39.64,37.64,10.77],\"y\":[51.36,44.57,49.86,25.22,38.04,25.16,28.02,31.53,26.17,32.69,37.35,29.05,21.93,43.81,52.62,50.41,38.62,49.69,21.58,33.95,38.45,43.94],\"type\":\"scatter\"},{\"marker\":{\"color\":[\"dimgrey\"],\"size\":8},\"mode\":\"markers\",\"showlegend\":false,\"visible\":false,\"x\":[12.6300001144409],\"y\":[49.9500007629395],\"type\":\"scatter\"},{\"hovertemplate\":\"%{hovertext}\",\"hovertext\":[\"Stephon Gilmore\",\"Rodney McLeod\",\"Travis Kelce\",\"Jerick McKinnon\",\"DeForest Buckner\",\"Yannick Ngakoue\",\"Joe Thuney\",\"Patrick Mahomes\",\"Kenny Moore\",\"Andrew Wylie\",\"Tyquan Lewis\",\"Orlando Brown\",\"Marquez Valdes-Scantling\",\"Zaire Franklin\",\"Mecole Hardman\",\"Bobby Okereke\",\"E.J. Speed\",\"Julian Blackmon\",\"Isaiah Rodgers\",\"Creed Humphrey\",\"Trey Smith\",\"Skyy Moore\"],\"marker\":{\"angle\":[-116.11000000000001,-73.23000000000002,-6.690000000000055,-58.94,-75.00999999999999,-78.79000000000002,-80.68,-71.06,-42.26999999999998,-75.22000000000003,-81.25999999999999,-68.07,-38.27999999999997,-102.23000000000002,-101.93,-85.57,-57.51999999999998,-68.30000000000001,-42.389999999999986,-67.38,-77.30000000000001,-115.05000000000001],\"color\":[\"lightsteelblue\",\"lightsteelblue\",\"peru\",\"burlywood\",\"lightsteelblue\",\"lightsteelblue\",\"burlywood\",\"burlywood\",\"lightsteelblue\",\"burlywood\",\"lightsteelblue\",\"burlywood\",\"burlywood\",\"lightsteelblue\",\"burlywood\",\"midnightblue\",\"lightsteelblue\",\"lightsteelblue\",\"lightsteelblue\",\"burlywood\",\"burlywood\",\"burlywood\"],\"size\":[15,15,18,15,15,15,15,15,15,15,15,15,15,15,15,18,15,15,15,15,15,15],\"symbol\":\"arrow\"},\"mode\":\"markers\",\"showlegend\":false,\"visible\":false,\"x\":[20.98,20.97,11.91,30.33,48.04,45.12,45.91,48.53,20.27,47.96,35.03,47.2,27.06,13.85,32.65,12.74,29.83,11.99,25.63,39.25,37.17,10.43],\"y\":[51.5,44.79,49.97,25.48,38.21,25.13,28.05,31.64,26.44,32.74,37.3,29.06,22.27,44.27,52.67,50.59,38.83,50.42,21.87,34.08,38.59,44.47],\"type\":\"scatter\"},{\"marker\":{\"color\":[\"dimgrey\"],\"size\":8},\"mode\":\"markers\",\"showlegend\":false,\"visible\":false,\"x\":[12.3999996185303],\"y\":[49.9700012207031],\"type\":\"scatter\"}],                        {\"plot_bgcolor\":\"rgba(0,0,0,0)\",\"shapes\":[{\"line\":{\"color\":\"darkgrey\",\"width\":0.5},\"type\":\"line\",\"x0\":20,\"x1\":20,\"y0\":0,\"y1\":53.3},{\"line\":{\"color\":\"darkgrey\",\"width\":0.5},\"type\":\"line\",\"x0\":30,\"x1\":30,\"y0\":0,\"y1\":53.3},{\"line\":{\"color\":\"darkgrey\",\"width\":0.5},\"type\":\"line\",\"x0\":40,\"x1\":40,\"y0\":0,\"y1\":53.3},{\"line\":{\"color\":\"darkgrey\",\"width\":0.5},\"type\":\"line\",\"x0\":50,\"x1\":50,\"y0\":0,\"y1\":53.3},{\"line\":{\"color\":\"darkgrey\",\"width\":0.5},\"type\":\"line\",\"x0\":60,\"x1\":60,\"y0\":0,\"y1\":53.3},{\"line\":{\"color\":\"darkgrey\",\"width\":0.5},\"type\":\"line\",\"x0\":70,\"x1\":70,\"y0\":0,\"y1\":53.3},{\"line\":{\"color\":\"darkgrey\",\"width\":0.5},\"type\":\"line\",\"x0\":80,\"x1\":80,\"y0\":0,\"y1\":53.3},{\"line\":{\"color\":\"darkgrey\",\"width\":0.5},\"type\":\"line\",\"x0\":90,\"x1\":90,\"y0\":0,\"y1\":53.3},{\"line\":{\"color\":\"darkgrey\",\"width\":0.5},\"type\":\"line\",\"x0\":100,\"x1\":100,\"y0\":0,\"y1\":53.3},{\"line\":{\"color\":\"RGB(255,215,0)\",\"width\":1},\"type\":\"line\",\"x0\":42,\"x1\":42,\"y0\":0,\"y1\":53.3},{\"line\":{\"color\":\"RGB(255,215,0)\",\"dash\":\"dash\",\"width\":1},\"type\":\"line\",\"x0\":35,\"x1\":35,\"y0\":0,\"y1\":53.3},{\"line\":{\"color\":\"darkgrey\",\"width\":0.5},\"type\":\"line\",\"x0\":11,\"x1\":11,\"y0\":0.2,\"y1\":0.7},{\"line\":{\"color\":\"darkgrey\",\"width\":0.5},\"type\":\"line\",\"x0\":11,\"x1\":11,\"y0\":22.91,\"y1\":23.57},{\"line\":{\"color\":\"darkgrey\",\"width\":0.5},\"type\":\"line\",\"x0\":11,\"x1\":11,\"y0\":29.73,\"y1\":30.39},{\"line\":{\"color\":\"darkgrey\",\"width\":0.5},\"type\":\"line\",\"x0\":11,\"x1\":11,\"y0\":53,\"y1\":52.5},{\"line\":{\"color\":\"darkgrey\",\"width\":0.5},\"type\":\"line\",\"x0\":12,\"x1\":12,\"y0\":0.2,\"y1\":0.7},{\"line\":{\"color\":\"darkgrey\",\"width\":0.5},\"type\":\"line\",\"x0\":12,\"x1\":12,\"y0\":22.91,\"y1\":23.57},{\"line\":{\"color\":\"darkgrey\",\"width\":0.5},\"type\":\"line\",\"x0\":12,\"x1\":12,\"y0\":29.73,\"y1\":30.39},{\"line\":{\"color\":\"darkgrey\",\"width\":0.5},\"type\":\"line\",\"x0\":12,\"x1\":12,\"y0\":53,\"y1\":52.5},{\"line\":{\"color\":\"darkgrey\",\"width\":0.5},\"type\":\"line\",\"x0\":13,\"x1\":13,\"y0\":0.2,\"y1\":0.7},{\"line\":{\"color\":\"darkgrey\",\"width\":0.5},\"type\":\"line\",\"x0\":13,\"x1\":13,\"y0\":22.91,\"y1\":23.57},{\"line\":{\"color\":\"darkgrey\",\"width\":0.5},\"type\":\"line\",\"x0\":13,\"x1\":13,\"y0\":29.73,\"y1\":30.39},{\"line\":{\"color\":\"darkgrey\",\"width\":0.5},\"type\":\"line\",\"x0\":13,\"x1\":13,\"y0\":53,\"y1\":52.5},{\"line\":{\"color\":\"darkgrey\",\"width\":0.5},\"type\":\"line\",\"x0\":14,\"x1\":14,\"y0\":0.2,\"y1\":0.7},{\"line\":{\"color\":\"darkgrey\",\"width\":0.5},\"type\":\"line\",\"x0\":14,\"x1\":14,\"y0\":22.91,\"y1\":23.57},{\"line\":{\"color\":\"darkgrey\",\"width\":0.5},\"type\":\"line\",\"x0\":14,\"x1\":14,\"y0\":29.73,\"y1\":30.39},{\"line\":{\"color\":\"darkgrey\",\"width\":0.5},\"type\":\"line\",\"x0\":14,\"x1\":14,\"y0\":53,\"y1\":52.5},{\"line\":{\"color\":\"darkgrey\",\"width\":0.5},\"type\":\"line\",\"x0\":15,\"x1\":15,\"y0\":0.2,\"y1\":0.7},{\"line\":{\"color\":\"darkgrey\",\"width\":0.5},\"type\":\"line\",\"x0\":15,\"x1\":15,\"y0\":22.91,\"y1\":23.57},{\"line\":{\"color\":\"darkgrey\",\"width\":0.5},\"type\":\"line\",\"x0\":15,\"x1\":15,\"y0\":29.73,\"y1\":30.39},{\"line\":{\"color\":\"darkgrey\",\"width\":0.5},\"type\":\"line\",\"x0\":15,\"x1\":15,\"y0\":53,\"y1\":52.5},{\"line\":{\"color\":\"darkgrey\",\"width\":0.5},\"type\":\"line\",\"x0\":16,\"x1\":16,\"y0\":0.2,\"y1\":0.7},{\"line\":{\"color\":\"darkgrey\",\"width\":0.5},\"type\":\"line\",\"x0\":16,\"x1\":16,\"y0\":22.91,\"y1\":23.57},{\"line\":{\"color\":\"darkgrey\",\"width\":0.5},\"type\":\"line\",\"x0\":16,\"x1\":16,\"y0\":29.73,\"y1\":30.39},{\"line\":{\"color\":\"darkgrey\",\"width\":0.5},\"type\":\"line\",\"x0\":16,\"x1\":16,\"y0\":53,\"y1\":52.5},{\"line\":{\"color\":\"darkgrey\",\"width\":0.5},\"type\":\"line\",\"x0\":17,\"x1\":17,\"y0\":0.2,\"y1\":0.7},{\"line\":{\"color\":\"darkgrey\",\"width\":0.5},\"type\":\"line\",\"x0\":17,\"x1\":17,\"y0\":22.91,\"y1\":23.57},{\"line\":{\"color\":\"darkgrey\",\"width\":0.5},\"type\":\"line\",\"x0\":17,\"x1\":17,\"y0\":29.73,\"y1\":30.39},{\"line\":{\"color\":\"darkgrey\",\"width\":0.5},\"type\":\"line\",\"x0\":17,\"x1\":17,\"y0\":53,\"y1\":52.5},{\"line\":{\"color\":\"darkgrey\",\"width\":0.5},\"type\":\"line\",\"x0\":18,\"x1\":18,\"y0\":0.2,\"y1\":0.7},{\"line\":{\"color\":\"darkgrey\",\"width\":0.5},\"type\":\"line\",\"x0\":18,\"x1\":18,\"y0\":22.91,\"y1\":23.57},{\"line\":{\"color\":\"darkgrey\",\"width\":0.5},\"type\":\"line\",\"x0\":18,\"x1\":18,\"y0\":29.73,\"y1\":30.39},{\"line\":{\"color\":\"darkgrey\",\"width\":0.5},\"type\":\"line\",\"x0\":18,\"x1\":18,\"y0\":53,\"y1\":52.5},{\"line\":{\"color\":\"darkgrey\",\"width\":0.5},\"type\":\"line\",\"x0\":19,\"x1\":19,\"y0\":0.2,\"y1\":0.7},{\"line\":{\"color\":\"darkgrey\",\"width\":0.5},\"type\":\"line\",\"x0\":19,\"x1\":19,\"y0\":22.91,\"y1\":23.57},{\"line\":{\"color\":\"darkgrey\",\"width\":0.5},\"type\":\"line\",\"x0\":19,\"x1\":19,\"y0\":29.73,\"y1\":30.39},{\"line\":{\"color\":\"darkgrey\",\"width\":0.5},\"type\":\"line\",\"x0\":19,\"x1\":19,\"y0\":53,\"y1\":52.5},{\"line\":{\"color\":\"darkgrey\",\"width\":0.5},\"type\":\"line\",\"x0\":20,\"x1\":20,\"y0\":0.2,\"y1\":0.7},{\"line\":{\"color\":\"darkgrey\",\"width\":0.5},\"type\":\"line\",\"x0\":20,\"x1\":20,\"y0\":22.91,\"y1\":23.57},{\"line\":{\"color\":\"darkgrey\",\"width\":0.5},\"type\":\"line\",\"x0\":20,\"x1\":20,\"y0\":29.73,\"y1\":30.39},{\"line\":{\"color\":\"darkgrey\",\"width\":0.5},\"type\":\"line\",\"x0\":20,\"x1\":20,\"y0\":53,\"y1\":52.5},{\"line\":{\"color\":\"darkgrey\",\"width\":0.5},\"type\":\"line\",\"x0\":21,\"x1\":21,\"y0\":0.2,\"y1\":0.7},{\"line\":{\"color\":\"darkgrey\",\"width\":0.5},\"type\":\"line\",\"x0\":21,\"x1\":21,\"y0\":22.91,\"y1\":23.57},{\"line\":{\"color\":\"darkgrey\",\"width\":0.5},\"type\":\"line\",\"x0\":21,\"x1\":21,\"y0\":29.73,\"y1\":30.39},{\"line\":{\"color\":\"darkgrey\",\"width\":0.5},\"type\":\"line\",\"x0\":21,\"x1\":21,\"y0\":53,\"y1\":52.5},{\"line\":{\"color\":\"darkgrey\",\"width\":0.5},\"type\":\"line\",\"x0\":22,\"x1\":22,\"y0\":0.2,\"y1\":0.7},{\"line\":{\"color\":\"darkgrey\",\"width\":0.5},\"type\":\"line\",\"x0\":22,\"x1\":22,\"y0\":22.91,\"y1\":23.57},{\"line\":{\"color\":\"darkgrey\",\"width\":0.5},\"type\":\"line\",\"x0\":22,\"x1\":22,\"y0\":29.73,\"y1\":30.39},{\"line\":{\"color\":\"darkgrey\",\"width\":0.5},\"type\":\"line\",\"x0\":22,\"x1\":22,\"y0\":53,\"y1\":52.5},{\"line\":{\"color\":\"darkgrey\",\"width\":0.5},\"type\":\"line\",\"x0\":23,\"x1\":23,\"y0\":0.2,\"y1\":0.7},{\"line\":{\"color\":\"darkgrey\",\"width\":0.5},\"type\":\"line\",\"x0\":23,\"x1\":23,\"y0\":22.91,\"y1\":23.57},{\"line\":{\"color\":\"darkgrey\",\"width\":0.5},\"type\":\"line\",\"x0\":23,\"x1\":23,\"y0\":29.73,\"y1\":30.39},{\"line\":{\"color\":\"darkgrey\",\"width\":0.5},\"type\":\"line\",\"x0\":23,\"x1\":23,\"y0\":53,\"y1\":52.5},{\"line\":{\"color\":\"darkgrey\",\"width\":0.5},\"type\":\"line\",\"x0\":24,\"x1\":24,\"y0\":0.2,\"y1\":0.7},{\"line\":{\"color\":\"darkgrey\",\"width\":0.5},\"type\":\"line\",\"x0\":24,\"x1\":24,\"y0\":22.91,\"y1\":23.57},{\"line\":{\"color\":\"darkgrey\",\"width\":0.5},\"type\":\"line\",\"x0\":24,\"x1\":24,\"y0\":29.73,\"y1\":30.39},{\"line\":{\"color\":\"darkgrey\",\"width\":0.5},\"type\":\"line\",\"x0\":24,\"x1\":24,\"y0\":53,\"y1\":52.5},{\"line\":{\"color\":\"darkgrey\",\"width\":0.5},\"type\":\"line\",\"x0\":25,\"x1\":25,\"y0\":0.2,\"y1\":0.7},{\"line\":{\"color\":\"darkgrey\",\"width\":0.5},\"type\":\"line\",\"x0\":25,\"x1\":25,\"y0\":22.91,\"y1\":23.57},{\"line\":{\"color\":\"darkgrey\",\"width\":0.5},\"type\":\"line\",\"x0\":25,\"x1\":25,\"y0\":29.73,\"y1\":30.39},{\"line\":{\"color\":\"darkgrey\",\"width\":0.5},\"type\":\"line\",\"x0\":25,\"x1\":25,\"y0\":53,\"y1\":52.5},{\"line\":{\"color\":\"darkgrey\",\"width\":0.5},\"type\":\"line\",\"x0\":26,\"x1\":26,\"y0\":0.2,\"y1\":0.7},{\"line\":{\"color\":\"darkgrey\",\"width\":0.5},\"type\":\"line\",\"x0\":26,\"x1\":26,\"y0\":22.91,\"y1\":23.57},{\"line\":{\"color\":\"darkgrey\",\"width\":0.5},\"type\":\"line\",\"x0\":26,\"x1\":26,\"y0\":29.73,\"y1\":30.39},{\"line\":{\"color\":\"darkgrey\",\"width\":0.5},\"type\":\"line\",\"x0\":26,\"x1\":26,\"y0\":53,\"y1\":52.5},{\"line\":{\"color\":\"darkgrey\",\"width\":0.5},\"type\":\"line\",\"x0\":27,\"x1\":27,\"y0\":0.2,\"y1\":0.7},{\"line\":{\"color\":\"darkgrey\",\"width\":0.5},\"type\":\"line\",\"x0\":27,\"x1\":27,\"y0\":22.91,\"y1\":23.57},{\"line\":{\"color\":\"darkgrey\",\"width\":0.5},\"type\":\"line\",\"x0\":27,\"x1\":27,\"y0\":29.73,\"y1\":30.39},{\"line\":{\"color\":\"darkgrey\",\"width\":0.5},\"type\":\"line\",\"x0\":27,\"x1\":27,\"y0\":53,\"y1\":52.5},{\"line\":{\"color\":\"darkgrey\",\"width\":0.5},\"type\":\"line\",\"x0\":28,\"x1\":28,\"y0\":0.2,\"y1\":0.7},{\"line\":{\"color\":\"darkgrey\",\"width\":0.5},\"type\":\"line\",\"x0\":28,\"x1\":28,\"y0\":22.91,\"y1\":23.57},{\"line\":{\"color\":\"darkgrey\",\"width\":0.5},\"type\":\"line\",\"x0\":28,\"x1\":28,\"y0\":29.73,\"y1\":30.39},{\"line\":{\"color\":\"darkgrey\",\"width\":0.5},\"type\":\"line\",\"x0\":28,\"x1\":28,\"y0\":53,\"y1\":52.5},{\"line\":{\"color\":\"darkgrey\",\"width\":0.5},\"type\":\"line\",\"x0\":29,\"x1\":29,\"y0\":0.2,\"y1\":0.7},{\"line\":{\"color\":\"darkgrey\",\"width\":0.5},\"type\":\"line\",\"x0\":29,\"x1\":29,\"y0\":22.91,\"y1\":23.57},{\"line\":{\"color\":\"darkgrey\",\"width\":0.5},\"type\":\"line\",\"x0\":29,\"x1\":29,\"y0\":29.73,\"y1\":30.39},{\"line\":{\"color\":\"darkgrey\",\"width\":0.5},\"type\":\"line\",\"x0\":29,\"x1\":29,\"y0\":53,\"y1\":52.5},{\"line\":{\"color\":\"darkgrey\",\"width\":0.5},\"type\":\"line\",\"x0\":30,\"x1\":30,\"y0\":0.2,\"y1\":0.7},{\"line\":{\"color\":\"darkgrey\",\"width\":0.5},\"type\":\"line\",\"x0\":30,\"x1\":30,\"y0\":22.91,\"y1\":23.57},{\"line\":{\"color\":\"darkgrey\",\"width\":0.5},\"type\":\"line\",\"x0\":30,\"x1\":30,\"y0\":29.73,\"y1\":30.39},{\"line\":{\"color\":\"darkgrey\",\"width\":0.5},\"type\":\"line\",\"x0\":30,\"x1\":30,\"y0\":53,\"y1\":52.5},{\"line\":{\"color\":\"darkgrey\",\"width\":0.5},\"type\":\"line\",\"x0\":31,\"x1\":31,\"y0\":0.2,\"y1\":0.7},{\"line\":{\"color\":\"darkgrey\",\"width\":0.5},\"type\":\"line\",\"x0\":31,\"x1\":31,\"y0\":22.91,\"y1\":23.57},{\"line\":{\"color\":\"darkgrey\",\"width\":0.5},\"type\":\"line\",\"x0\":31,\"x1\":31,\"y0\":29.73,\"y1\":30.39},{\"line\":{\"color\":\"darkgrey\",\"width\":0.5},\"type\":\"line\",\"x0\":31,\"x1\":31,\"y0\":53,\"y1\":52.5},{\"line\":{\"color\":\"darkgrey\",\"width\":0.5},\"type\":\"line\",\"x0\":32,\"x1\":32,\"y0\":0.2,\"y1\":0.7},{\"line\":{\"color\":\"darkgrey\",\"width\":0.5},\"type\":\"line\",\"x0\":32,\"x1\":32,\"y0\":22.91,\"y1\":23.57},{\"line\":{\"color\":\"darkgrey\",\"width\":0.5},\"type\":\"line\",\"x0\":32,\"x1\":32,\"y0\":29.73,\"y1\":30.39},{\"line\":{\"color\":\"darkgrey\",\"width\":0.5},\"type\":\"line\",\"x0\":32,\"x1\":32,\"y0\":53,\"y1\":52.5},{\"line\":{\"color\":\"darkgrey\",\"width\":0.5},\"type\":\"line\",\"x0\":33,\"x1\":33,\"y0\":0.2,\"y1\":0.7},{\"line\":{\"color\":\"darkgrey\",\"width\":0.5},\"type\":\"line\",\"x0\":33,\"x1\":33,\"y0\":22.91,\"y1\":23.57},{\"line\":{\"color\":\"darkgrey\",\"width\":0.5},\"type\":\"line\",\"x0\":33,\"x1\":33,\"y0\":29.73,\"y1\":30.39},{\"line\":{\"color\":\"darkgrey\",\"width\":0.5},\"type\":\"line\",\"x0\":33,\"x1\":33,\"y0\":53,\"y1\":52.5},{\"line\":{\"color\":\"darkgrey\",\"width\":0.5},\"type\":\"line\",\"x0\":34,\"x1\":34,\"y0\":0.2,\"y1\":0.7},{\"line\":{\"color\":\"darkgrey\",\"width\":0.5},\"type\":\"line\",\"x0\":34,\"x1\":34,\"y0\":22.91,\"y1\":23.57},{\"line\":{\"color\":\"darkgrey\",\"width\":0.5},\"type\":\"line\",\"x0\":34,\"x1\":34,\"y0\":29.73,\"y1\":30.39},{\"line\":{\"color\":\"darkgrey\",\"width\":0.5},\"type\":\"line\",\"x0\":34,\"x1\":34,\"y0\":53,\"y1\":52.5},{\"line\":{\"color\":\"darkgrey\",\"width\":0.5},\"type\":\"line\",\"x0\":35,\"x1\":35,\"y0\":0.2,\"y1\":0.7},{\"line\":{\"color\":\"darkgrey\",\"width\":0.5},\"type\":\"line\",\"x0\":35,\"x1\":35,\"y0\":22.91,\"y1\":23.57},{\"line\":{\"color\":\"darkgrey\",\"width\":0.5},\"type\":\"line\",\"x0\":35,\"x1\":35,\"y0\":29.73,\"y1\":30.39},{\"line\":{\"color\":\"darkgrey\",\"width\":0.5},\"type\":\"line\",\"x0\":35,\"x1\":35,\"y0\":53,\"y1\":52.5},{\"line\":{\"color\":\"darkgrey\",\"width\":0.5},\"type\":\"line\",\"x0\":36,\"x1\":36,\"y0\":0.2,\"y1\":0.7},{\"line\":{\"color\":\"darkgrey\",\"width\":0.5},\"type\":\"line\",\"x0\":36,\"x1\":36,\"y0\":22.91,\"y1\":23.57},{\"line\":{\"color\":\"darkgrey\",\"width\":0.5},\"type\":\"line\",\"x0\":36,\"x1\":36,\"y0\":29.73,\"y1\":30.39},{\"line\":{\"color\":\"darkgrey\",\"width\":0.5},\"type\":\"line\",\"x0\":36,\"x1\":36,\"y0\":53,\"y1\":52.5},{\"line\":{\"color\":\"darkgrey\",\"width\":0.5},\"type\":\"line\",\"x0\":37,\"x1\":37,\"y0\":0.2,\"y1\":0.7},{\"line\":{\"color\":\"darkgrey\",\"width\":0.5},\"type\":\"line\",\"x0\":37,\"x1\":37,\"y0\":22.91,\"y1\":23.57},{\"line\":{\"color\":\"darkgrey\",\"width\":0.5},\"type\":\"line\",\"x0\":37,\"x1\":37,\"y0\":29.73,\"y1\":30.39},{\"line\":{\"color\":\"darkgrey\",\"width\":0.5},\"type\":\"line\",\"x0\":37,\"x1\":37,\"y0\":53,\"y1\":52.5},{\"line\":{\"color\":\"darkgrey\",\"width\":0.5},\"type\":\"line\",\"x0\":38,\"x1\":38,\"y0\":0.2,\"y1\":0.7},{\"line\":{\"color\":\"darkgrey\",\"width\":0.5},\"type\":\"line\",\"x0\":38,\"x1\":38,\"y0\":22.91,\"y1\":23.57},{\"line\":{\"color\":\"darkgrey\",\"width\":0.5},\"type\":\"line\",\"x0\":38,\"x1\":38,\"y0\":29.73,\"y1\":30.39},{\"line\":{\"color\":\"darkgrey\",\"width\":0.5},\"type\":\"line\",\"x0\":38,\"x1\":38,\"y0\":53,\"y1\":52.5},{\"line\":{\"color\":\"darkgrey\",\"width\":0.5},\"type\":\"line\",\"x0\":39,\"x1\":39,\"y0\":0.2,\"y1\":0.7},{\"line\":{\"color\":\"darkgrey\",\"width\":0.5},\"type\":\"line\",\"x0\":39,\"x1\":39,\"y0\":22.91,\"y1\":23.57},{\"line\":{\"color\":\"darkgrey\",\"width\":0.5},\"type\":\"line\",\"x0\":39,\"x1\":39,\"y0\":29.73,\"y1\":30.39},{\"line\":{\"color\":\"darkgrey\",\"width\":0.5},\"type\":\"line\",\"x0\":39,\"x1\":39,\"y0\":53,\"y1\":52.5},{\"line\":{\"color\":\"darkgrey\",\"width\":0.5},\"type\":\"line\",\"x0\":40,\"x1\":40,\"y0\":0.2,\"y1\":0.7},{\"line\":{\"color\":\"darkgrey\",\"width\":0.5},\"type\":\"line\",\"x0\":40,\"x1\":40,\"y0\":22.91,\"y1\":23.57},{\"line\":{\"color\":\"darkgrey\",\"width\":0.5},\"type\":\"line\",\"x0\":40,\"x1\":40,\"y0\":29.73,\"y1\":30.39},{\"line\":{\"color\":\"darkgrey\",\"width\":0.5},\"type\":\"line\",\"x0\":40,\"x1\":40,\"y0\":53,\"y1\":52.5},{\"line\":{\"color\":\"darkgrey\",\"width\":0.5},\"type\":\"line\",\"x0\":41,\"x1\":41,\"y0\":0.2,\"y1\":0.7},{\"line\":{\"color\":\"darkgrey\",\"width\":0.5},\"type\":\"line\",\"x0\":41,\"x1\":41,\"y0\":22.91,\"y1\":23.57},{\"line\":{\"color\":\"darkgrey\",\"width\":0.5},\"type\":\"line\",\"x0\":41,\"x1\":41,\"y0\":29.73,\"y1\":30.39},{\"line\":{\"color\":\"darkgrey\",\"width\":0.5},\"type\":\"line\",\"x0\":41,\"x1\":41,\"y0\":53,\"y1\":52.5},{\"line\":{\"color\":\"darkgrey\",\"width\":0.5},\"type\":\"line\",\"x0\":42,\"x1\":42,\"y0\":0.2,\"y1\":0.7},{\"line\":{\"color\":\"darkgrey\",\"width\":0.5},\"type\":\"line\",\"x0\":42,\"x1\":42,\"y0\":22.91,\"y1\":23.57},{\"line\":{\"color\":\"darkgrey\",\"width\":0.5},\"type\":\"line\",\"x0\":42,\"x1\":42,\"y0\":29.73,\"y1\":30.39},{\"line\":{\"color\":\"darkgrey\",\"width\":0.5},\"type\":\"line\",\"x0\":42,\"x1\":42,\"y0\":53,\"y1\":52.5},{\"line\":{\"color\":\"darkgrey\",\"width\":0.5},\"type\":\"line\",\"x0\":43,\"x1\":43,\"y0\":0.2,\"y1\":0.7},{\"line\":{\"color\":\"darkgrey\",\"width\":0.5},\"type\":\"line\",\"x0\":43,\"x1\":43,\"y0\":22.91,\"y1\":23.57},{\"line\":{\"color\":\"darkgrey\",\"width\":0.5},\"type\":\"line\",\"x0\":43,\"x1\":43,\"y0\":29.73,\"y1\":30.39},{\"line\":{\"color\":\"darkgrey\",\"width\":0.5},\"type\":\"line\",\"x0\":43,\"x1\":43,\"y0\":53,\"y1\":52.5},{\"line\":{\"color\":\"darkgrey\",\"width\":0.5},\"type\":\"line\",\"x0\":44,\"x1\":44,\"y0\":0.2,\"y1\":0.7},{\"line\":{\"color\":\"darkgrey\",\"width\":0.5},\"type\":\"line\",\"x0\":44,\"x1\":44,\"y0\":22.91,\"y1\":23.57},{\"line\":{\"color\":\"darkgrey\",\"width\":0.5},\"type\":\"line\",\"x0\":44,\"x1\":44,\"y0\":29.73,\"y1\":30.39},{\"line\":{\"color\":\"darkgrey\",\"width\":0.5},\"type\":\"line\",\"x0\":44,\"x1\":44,\"y0\":53,\"y1\":52.5},{\"line\":{\"color\":\"darkgrey\",\"width\":0.5},\"type\":\"line\",\"x0\":45,\"x1\":45,\"y0\":0.2,\"y1\":0.7},{\"line\":{\"color\":\"darkgrey\",\"width\":0.5},\"type\":\"line\",\"x0\":45,\"x1\":45,\"y0\":22.91,\"y1\":23.57},{\"line\":{\"color\":\"darkgrey\",\"width\":0.5},\"type\":\"line\",\"x0\":45,\"x1\":45,\"y0\":29.73,\"y1\":30.39},{\"line\":{\"color\":\"darkgrey\",\"width\":0.5},\"type\":\"line\",\"x0\":45,\"x1\":45,\"y0\":53,\"y1\":52.5},{\"line\":{\"color\":\"darkgrey\",\"width\":0.5},\"type\":\"line\",\"x0\":46,\"x1\":46,\"y0\":0.2,\"y1\":0.7},{\"line\":{\"color\":\"darkgrey\",\"width\":0.5},\"type\":\"line\",\"x0\":46,\"x1\":46,\"y0\":22.91,\"y1\":23.57},{\"line\":{\"color\":\"darkgrey\",\"width\":0.5},\"type\":\"line\",\"x0\":46,\"x1\":46,\"y0\":29.73,\"y1\":30.39},{\"line\":{\"color\":\"darkgrey\",\"width\":0.5},\"type\":\"line\",\"x0\":46,\"x1\":46,\"y0\":53,\"y1\":52.5},{\"line\":{\"color\":\"darkgrey\",\"width\":0.5},\"type\":\"line\",\"x0\":47,\"x1\":47,\"y0\":0.2,\"y1\":0.7},{\"line\":{\"color\":\"darkgrey\",\"width\":0.5},\"type\":\"line\",\"x0\":47,\"x1\":47,\"y0\":22.91,\"y1\":23.57},{\"line\":{\"color\":\"darkgrey\",\"width\":0.5},\"type\":\"line\",\"x0\":47,\"x1\":47,\"y0\":29.73,\"y1\":30.39},{\"line\":{\"color\":\"darkgrey\",\"width\":0.5},\"type\":\"line\",\"x0\":47,\"x1\":47,\"y0\":53,\"y1\":52.5},{\"line\":{\"color\":\"darkgrey\",\"width\":0.5},\"type\":\"line\",\"x0\":48,\"x1\":48,\"y0\":0.2,\"y1\":0.7},{\"line\":{\"color\":\"darkgrey\",\"width\":0.5},\"type\":\"line\",\"x0\":48,\"x1\":48,\"y0\":22.91,\"y1\":23.57},{\"line\":{\"color\":\"darkgrey\",\"width\":0.5},\"type\":\"line\",\"x0\":48,\"x1\":48,\"y0\":29.73,\"y1\":30.39},{\"line\":{\"color\":\"darkgrey\",\"width\":0.5},\"type\":\"line\",\"x0\":48,\"x1\":48,\"y0\":53,\"y1\":52.5},{\"line\":{\"color\":\"darkgrey\",\"width\":0.5},\"type\":\"line\",\"x0\":49,\"x1\":49,\"y0\":0.2,\"y1\":0.7},{\"line\":{\"color\":\"darkgrey\",\"width\":0.5},\"type\":\"line\",\"x0\":49,\"x1\":49,\"y0\":22.91,\"y1\":23.57},{\"line\":{\"color\":\"darkgrey\",\"width\":0.5},\"type\":\"line\",\"x0\":49,\"x1\":49,\"y0\":29.73,\"y1\":30.39},{\"line\":{\"color\":\"darkgrey\",\"width\":0.5},\"type\":\"line\",\"x0\":49,\"x1\":49,\"y0\":53,\"y1\":52.5},{\"line\":{\"color\":\"darkgrey\",\"width\":0.5},\"type\":\"line\",\"x0\":50,\"x1\":50,\"y0\":0.2,\"y1\":0.7},{\"line\":{\"color\":\"darkgrey\",\"width\":0.5},\"type\":\"line\",\"x0\":50,\"x1\":50,\"y0\":22.91,\"y1\":23.57},{\"line\":{\"color\":\"darkgrey\",\"width\":0.5},\"type\":\"line\",\"x0\":50,\"x1\":50,\"y0\":29.73,\"y1\":30.39},{\"line\":{\"color\":\"darkgrey\",\"width\":0.5},\"type\":\"line\",\"x0\":50,\"x1\":50,\"y0\":53,\"y1\":52.5},{\"line\":{\"color\":\"darkgrey\",\"width\":0.5},\"type\":\"line\",\"x0\":51,\"x1\":51,\"y0\":0.2,\"y1\":0.7},{\"line\":{\"color\":\"darkgrey\",\"width\":0.5},\"type\":\"line\",\"x0\":51,\"x1\":51,\"y0\":22.91,\"y1\":23.57},{\"line\":{\"color\":\"darkgrey\",\"width\":0.5},\"type\":\"line\",\"x0\":51,\"x1\":51,\"y0\":29.73,\"y1\":30.39},{\"line\":{\"color\":\"darkgrey\",\"width\":0.5},\"type\":\"line\",\"x0\":51,\"x1\":51,\"y0\":53,\"y1\":52.5},{\"line\":{\"color\":\"darkgrey\",\"width\":0.5},\"type\":\"line\",\"x0\":52,\"x1\":52,\"y0\":0.2,\"y1\":0.7},{\"line\":{\"color\":\"darkgrey\",\"width\":0.5},\"type\":\"line\",\"x0\":52,\"x1\":52,\"y0\":22.91,\"y1\":23.57},{\"line\":{\"color\":\"darkgrey\",\"width\":0.5},\"type\":\"line\",\"x0\":52,\"x1\":52,\"y0\":29.73,\"y1\":30.39},{\"line\":{\"color\":\"darkgrey\",\"width\":0.5},\"type\":\"line\",\"x0\":52,\"x1\":52,\"y0\":53,\"y1\":52.5},{\"line\":{\"color\":\"darkgrey\",\"width\":0.5},\"type\":\"line\",\"x0\":53,\"x1\":53,\"y0\":0.2,\"y1\":0.7},{\"line\":{\"color\":\"darkgrey\",\"width\":0.5},\"type\":\"line\",\"x0\":53,\"x1\":53,\"y0\":22.91,\"y1\":23.57},{\"line\":{\"color\":\"darkgrey\",\"width\":0.5},\"type\":\"line\",\"x0\":53,\"x1\":53,\"y0\":29.73,\"y1\":30.39},{\"line\":{\"color\":\"darkgrey\",\"width\":0.5},\"type\":\"line\",\"x0\":53,\"x1\":53,\"y0\":53,\"y1\":52.5},{\"line\":{\"color\":\"darkgrey\",\"width\":0.5},\"type\":\"line\",\"x0\":54,\"x1\":54,\"y0\":0.2,\"y1\":0.7},{\"line\":{\"color\":\"darkgrey\",\"width\":0.5},\"type\":\"line\",\"x0\":54,\"x1\":54,\"y0\":22.91,\"y1\":23.57},{\"line\":{\"color\":\"darkgrey\",\"width\":0.5},\"type\":\"line\",\"x0\":54,\"x1\":54,\"y0\":29.73,\"y1\":30.39},{\"line\":{\"color\":\"darkgrey\",\"width\":0.5},\"type\":\"line\",\"x0\":54,\"x1\":54,\"y0\":53,\"y1\":52.5},{\"line\":{\"color\":\"darkgrey\",\"width\":0.5},\"type\":\"line\",\"x0\":55,\"x1\":55,\"y0\":0.2,\"y1\":0.7},{\"line\":{\"color\":\"darkgrey\",\"width\":0.5},\"type\":\"line\",\"x0\":55,\"x1\":55,\"y0\":22.91,\"y1\":23.57},{\"line\":{\"color\":\"darkgrey\",\"width\":0.5},\"type\":\"line\",\"x0\":55,\"x1\":55,\"y0\":29.73,\"y1\":30.39},{\"line\":{\"color\":\"darkgrey\",\"width\":0.5},\"type\":\"line\",\"x0\":55,\"x1\":55,\"y0\":53,\"y1\":52.5},{\"line\":{\"color\":\"darkgrey\",\"width\":0.5},\"type\":\"line\",\"x0\":56,\"x1\":56,\"y0\":0.2,\"y1\":0.7},{\"line\":{\"color\":\"darkgrey\",\"width\":0.5},\"type\":\"line\",\"x0\":56,\"x1\":56,\"y0\":22.91,\"y1\":23.57},{\"line\":{\"color\":\"darkgrey\",\"width\":0.5},\"type\":\"line\",\"x0\":56,\"x1\":56,\"y0\":29.73,\"y1\":30.39},{\"line\":{\"color\":\"darkgrey\",\"width\":0.5},\"type\":\"line\",\"x0\":56,\"x1\":56,\"y0\":53,\"y1\":52.5},{\"line\":{\"color\":\"darkgrey\",\"width\":0.5},\"type\":\"line\",\"x0\":57,\"x1\":57,\"y0\":0.2,\"y1\":0.7},{\"line\":{\"color\":\"darkgrey\",\"width\":0.5},\"type\":\"line\",\"x0\":57,\"x1\":57,\"y0\":22.91,\"y1\":23.57},{\"line\":{\"color\":\"darkgrey\",\"width\":0.5},\"type\":\"line\",\"x0\":57,\"x1\":57,\"y0\":29.73,\"y1\":30.39},{\"line\":{\"color\":\"darkgrey\",\"width\":0.5},\"type\":\"line\",\"x0\":57,\"x1\":57,\"y0\":53,\"y1\":52.5},{\"line\":{\"color\":\"darkgrey\",\"width\":0.5},\"type\":\"line\",\"x0\":58,\"x1\":58,\"y0\":0.2,\"y1\":0.7},{\"line\":{\"color\":\"darkgrey\",\"width\":0.5},\"type\":\"line\",\"x0\":58,\"x1\":58,\"y0\":22.91,\"y1\":23.57},{\"line\":{\"color\":\"darkgrey\",\"width\":0.5},\"type\":\"line\",\"x0\":58,\"x1\":58,\"y0\":29.73,\"y1\":30.39},{\"line\":{\"color\":\"darkgrey\",\"width\":0.5},\"type\":\"line\",\"x0\":58,\"x1\":58,\"y0\":53,\"y1\":52.5},{\"line\":{\"color\":\"darkgrey\",\"width\":0.5},\"type\":\"line\",\"x0\":59,\"x1\":59,\"y0\":0.2,\"y1\":0.7},{\"line\":{\"color\":\"darkgrey\",\"width\":0.5},\"type\":\"line\",\"x0\":59,\"x1\":59,\"y0\":22.91,\"y1\":23.57},{\"line\":{\"color\":\"darkgrey\",\"width\":0.5},\"type\":\"line\",\"x0\":59,\"x1\":59,\"y0\":29.73,\"y1\":30.39},{\"line\":{\"color\":\"darkgrey\",\"width\":0.5},\"type\":\"line\",\"x0\":59,\"x1\":59,\"y0\":53,\"y1\":52.5},{\"line\":{\"color\":\"darkgrey\",\"width\":0.5},\"type\":\"line\",\"x0\":60,\"x1\":60,\"y0\":0.2,\"y1\":0.7},{\"line\":{\"color\":\"darkgrey\",\"width\":0.5},\"type\":\"line\",\"x0\":60,\"x1\":60,\"y0\":22.91,\"y1\":23.57},{\"line\":{\"color\":\"darkgrey\",\"width\":0.5},\"type\":\"line\",\"x0\":60,\"x1\":60,\"y0\":29.73,\"y1\":30.39},{\"line\":{\"color\":\"darkgrey\",\"width\":0.5},\"type\":\"line\",\"x0\":60,\"x1\":60,\"y0\":53,\"y1\":52.5},{\"line\":{\"color\":\"darkgrey\",\"width\":0.5},\"type\":\"line\",\"x0\":61,\"x1\":61,\"y0\":0.2,\"y1\":0.7},{\"line\":{\"color\":\"darkgrey\",\"width\":0.5},\"type\":\"line\",\"x0\":61,\"x1\":61,\"y0\":22.91,\"y1\":23.57},{\"line\":{\"color\":\"darkgrey\",\"width\":0.5},\"type\":\"line\",\"x0\":61,\"x1\":61,\"y0\":29.73,\"y1\":30.39},{\"line\":{\"color\":\"darkgrey\",\"width\":0.5},\"type\":\"line\",\"x0\":61,\"x1\":61,\"y0\":53,\"y1\":52.5},{\"line\":{\"color\":\"darkgrey\",\"width\":0.5},\"type\":\"line\",\"x0\":62,\"x1\":62,\"y0\":0.2,\"y1\":0.7},{\"line\":{\"color\":\"darkgrey\",\"width\":0.5},\"type\":\"line\",\"x0\":62,\"x1\":62,\"y0\":22.91,\"y1\":23.57},{\"line\":{\"color\":\"darkgrey\",\"width\":0.5},\"type\":\"line\",\"x0\":62,\"x1\":62,\"y0\":29.73,\"y1\":30.39},{\"line\":{\"color\":\"darkgrey\",\"width\":0.5},\"type\":\"line\",\"x0\":62,\"x1\":62,\"y0\":53,\"y1\":52.5},{\"line\":{\"color\":\"darkgrey\",\"width\":0.5},\"type\":\"line\",\"x0\":63,\"x1\":63,\"y0\":0.2,\"y1\":0.7},{\"line\":{\"color\":\"darkgrey\",\"width\":0.5},\"type\":\"line\",\"x0\":63,\"x1\":63,\"y0\":22.91,\"y1\":23.57},{\"line\":{\"color\":\"darkgrey\",\"width\":0.5},\"type\":\"line\",\"x0\":63,\"x1\":63,\"y0\":29.73,\"y1\":30.39},{\"line\":{\"color\":\"darkgrey\",\"width\":0.5},\"type\":\"line\",\"x0\":63,\"x1\":63,\"y0\":53,\"y1\":52.5},{\"line\":{\"color\":\"darkgrey\",\"width\":0.5},\"type\":\"line\",\"x0\":64,\"x1\":64,\"y0\":0.2,\"y1\":0.7},{\"line\":{\"color\":\"darkgrey\",\"width\":0.5},\"type\":\"line\",\"x0\":64,\"x1\":64,\"y0\":22.91,\"y1\":23.57},{\"line\":{\"color\":\"darkgrey\",\"width\":0.5},\"type\":\"line\",\"x0\":64,\"x1\":64,\"y0\":29.73,\"y1\":30.39},{\"line\":{\"color\":\"darkgrey\",\"width\":0.5},\"type\":\"line\",\"x0\":64,\"x1\":64,\"y0\":53,\"y1\":52.5},{\"line\":{\"color\":\"darkgrey\",\"width\":0.5},\"type\":\"line\",\"x0\":65,\"x1\":65,\"y0\":0.2,\"y1\":0.7},{\"line\":{\"color\":\"darkgrey\",\"width\":0.5},\"type\":\"line\",\"x0\":65,\"x1\":65,\"y0\":22.91,\"y1\":23.57},{\"line\":{\"color\":\"darkgrey\",\"width\":0.5},\"type\":\"line\",\"x0\":65,\"x1\":65,\"y0\":29.73,\"y1\":30.39},{\"line\":{\"color\":\"darkgrey\",\"width\":0.5},\"type\":\"line\",\"x0\":65,\"x1\":65,\"y0\":53,\"y1\":52.5},{\"line\":{\"color\":\"darkgrey\",\"width\":0.5},\"type\":\"line\",\"x0\":66,\"x1\":66,\"y0\":0.2,\"y1\":0.7},{\"line\":{\"color\":\"darkgrey\",\"width\":0.5},\"type\":\"line\",\"x0\":66,\"x1\":66,\"y0\":22.91,\"y1\":23.57},{\"line\":{\"color\":\"darkgrey\",\"width\":0.5},\"type\":\"line\",\"x0\":66,\"x1\":66,\"y0\":29.73,\"y1\":30.39},{\"line\":{\"color\":\"darkgrey\",\"width\":0.5},\"type\":\"line\",\"x0\":66,\"x1\":66,\"y0\":53,\"y1\":52.5},{\"line\":{\"color\":\"darkgrey\",\"width\":0.5},\"type\":\"line\",\"x0\":67,\"x1\":67,\"y0\":0.2,\"y1\":0.7},{\"line\":{\"color\":\"darkgrey\",\"width\":0.5},\"type\":\"line\",\"x0\":67,\"x1\":67,\"y0\":22.91,\"y1\":23.57},{\"line\":{\"color\":\"darkgrey\",\"width\":0.5},\"type\":\"line\",\"x0\":67,\"x1\":67,\"y0\":29.73,\"y1\":30.39},{\"line\":{\"color\":\"darkgrey\",\"width\":0.5},\"type\":\"line\",\"x0\":67,\"x1\":67,\"y0\":53,\"y1\":52.5},{\"line\":{\"color\":\"darkgrey\",\"width\":0.5},\"type\":\"line\",\"x0\":68,\"x1\":68,\"y0\":0.2,\"y1\":0.7},{\"line\":{\"color\":\"darkgrey\",\"width\":0.5},\"type\":\"line\",\"x0\":68,\"x1\":68,\"y0\":22.91,\"y1\":23.57},{\"line\":{\"color\":\"darkgrey\",\"width\":0.5},\"type\":\"line\",\"x0\":68,\"x1\":68,\"y0\":29.73,\"y1\":30.39},{\"line\":{\"color\":\"darkgrey\",\"width\":0.5},\"type\":\"line\",\"x0\":68,\"x1\":68,\"y0\":53,\"y1\":52.5},{\"line\":{\"color\":\"darkgrey\",\"width\":0.5},\"type\":\"line\",\"x0\":69,\"x1\":69,\"y0\":0.2,\"y1\":0.7},{\"line\":{\"color\":\"darkgrey\",\"width\":0.5},\"type\":\"line\",\"x0\":69,\"x1\":69,\"y0\":22.91,\"y1\":23.57},{\"line\":{\"color\":\"darkgrey\",\"width\":0.5},\"type\":\"line\",\"x0\":69,\"x1\":69,\"y0\":29.73,\"y1\":30.39},{\"line\":{\"color\":\"darkgrey\",\"width\":0.5},\"type\":\"line\",\"x0\":69,\"x1\":69,\"y0\":53,\"y1\":52.5},{\"line\":{\"color\":\"darkgrey\",\"width\":0.5},\"type\":\"line\",\"x0\":70,\"x1\":70,\"y0\":0.2,\"y1\":0.7},{\"line\":{\"color\":\"darkgrey\",\"width\":0.5},\"type\":\"line\",\"x0\":70,\"x1\":70,\"y0\":22.91,\"y1\":23.57},{\"line\":{\"color\":\"darkgrey\",\"width\":0.5},\"type\":\"line\",\"x0\":70,\"x1\":70,\"y0\":29.73,\"y1\":30.39},{\"line\":{\"color\":\"darkgrey\",\"width\":0.5},\"type\":\"line\",\"x0\":70,\"x1\":70,\"y0\":53,\"y1\":52.5},{\"line\":{\"color\":\"darkgrey\",\"width\":0.5},\"type\":\"line\",\"x0\":71,\"x1\":71,\"y0\":0.2,\"y1\":0.7},{\"line\":{\"color\":\"darkgrey\",\"width\":0.5},\"type\":\"line\",\"x0\":71,\"x1\":71,\"y0\":22.91,\"y1\":23.57},{\"line\":{\"color\":\"darkgrey\",\"width\":0.5},\"type\":\"line\",\"x0\":71,\"x1\":71,\"y0\":29.73,\"y1\":30.39},{\"line\":{\"color\":\"darkgrey\",\"width\":0.5},\"type\":\"line\",\"x0\":71,\"x1\":71,\"y0\":53,\"y1\":52.5},{\"line\":{\"color\":\"darkgrey\",\"width\":0.5},\"type\":\"line\",\"x0\":72,\"x1\":72,\"y0\":0.2,\"y1\":0.7},{\"line\":{\"color\":\"darkgrey\",\"width\":0.5},\"type\":\"line\",\"x0\":72,\"x1\":72,\"y0\":22.91,\"y1\":23.57},{\"line\":{\"color\":\"darkgrey\",\"width\":0.5},\"type\":\"line\",\"x0\":72,\"x1\":72,\"y0\":29.73,\"y1\":30.39},{\"line\":{\"color\":\"darkgrey\",\"width\":0.5},\"type\":\"line\",\"x0\":72,\"x1\":72,\"y0\":53,\"y1\":52.5},{\"line\":{\"color\":\"darkgrey\",\"width\":0.5},\"type\":\"line\",\"x0\":73,\"x1\":73,\"y0\":0.2,\"y1\":0.7},{\"line\":{\"color\":\"darkgrey\",\"width\":0.5},\"type\":\"line\",\"x0\":73,\"x1\":73,\"y0\":22.91,\"y1\":23.57},{\"line\":{\"color\":\"darkgrey\",\"width\":0.5},\"type\":\"line\",\"x0\":73,\"x1\":73,\"y0\":29.73,\"y1\":30.39},{\"line\":{\"color\":\"darkgrey\",\"width\":0.5},\"type\":\"line\",\"x0\":73,\"x1\":73,\"y0\":53,\"y1\":52.5},{\"line\":{\"color\":\"darkgrey\",\"width\":0.5},\"type\":\"line\",\"x0\":74,\"x1\":74,\"y0\":0.2,\"y1\":0.7},{\"line\":{\"color\":\"darkgrey\",\"width\":0.5},\"type\":\"line\",\"x0\":74,\"x1\":74,\"y0\":22.91,\"y1\":23.57},{\"line\":{\"color\":\"darkgrey\",\"width\":0.5},\"type\":\"line\",\"x0\":74,\"x1\":74,\"y0\":29.73,\"y1\":30.39},{\"line\":{\"color\":\"darkgrey\",\"width\":0.5},\"type\":\"line\",\"x0\":74,\"x1\":74,\"y0\":53,\"y1\":52.5},{\"line\":{\"color\":\"darkgrey\",\"width\":0.5},\"type\":\"line\",\"x0\":75,\"x1\":75,\"y0\":0.2,\"y1\":0.7},{\"line\":{\"color\":\"darkgrey\",\"width\":0.5},\"type\":\"line\",\"x0\":75,\"x1\":75,\"y0\":22.91,\"y1\":23.57},{\"line\":{\"color\":\"darkgrey\",\"width\":0.5},\"type\":\"line\",\"x0\":75,\"x1\":75,\"y0\":29.73,\"y1\":30.39},{\"line\":{\"color\":\"darkgrey\",\"width\":0.5},\"type\":\"line\",\"x0\":75,\"x1\":75,\"y0\":53,\"y1\":52.5},{\"line\":{\"color\":\"darkgrey\",\"width\":0.5},\"type\":\"line\",\"x0\":76,\"x1\":76,\"y0\":0.2,\"y1\":0.7},{\"line\":{\"color\":\"darkgrey\",\"width\":0.5},\"type\":\"line\",\"x0\":76,\"x1\":76,\"y0\":22.91,\"y1\":23.57},{\"line\":{\"color\":\"darkgrey\",\"width\":0.5},\"type\":\"line\",\"x0\":76,\"x1\":76,\"y0\":29.73,\"y1\":30.39},{\"line\":{\"color\":\"darkgrey\",\"width\":0.5},\"type\":\"line\",\"x0\":76,\"x1\":76,\"y0\":53,\"y1\":52.5},{\"line\":{\"color\":\"darkgrey\",\"width\":0.5},\"type\":\"line\",\"x0\":77,\"x1\":77,\"y0\":0.2,\"y1\":0.7},{\"line\":{\"color\":\"darkgrey\",\"width\":0.5},\"type\":\"line\",\"x0\":77,\"x1\":77,\"y0\":22.91,\"y1\":23.57},{\"line\":{\"color\":\"darkgrey\",\"width\":0.5},\"type\":\"line\",\"x0\":77,\"x1\":77,\"y0\":29.73,\"y1\":30.39},{\"line\":{\"color\":\"darkgrey\",\"width\":0.5},\"type\":\"line\",\"x0\":77,\"x1\":77,\"y0\":53,\"y1\":52.5},{\"line\":{\"color\":\"darkgrey\",\"width\":0.5},\"type\":\"line\",\"x0\":78,\"x1\":78,\"y0\":0.2,\"y1\":0.7},{\"line\":{\"color\":\"darkgrey\",\"width\":0.5},\"type\":\"line\",\"x0\":78,\"x1\":78,\"y0\":22.91,\"y1\":23.57},{\"line\":{\"color\":\"darkgrey\",\"width\":0.5},\"type\":\"line\",\"x0\":78,\"x1\":78,\"y0\":29.73,\"y1\":30.39},{\"line\":{\"color\":\"darkgrey\",\"width\":0.5},\"type\":\"line\",\"x0\":78,\"x1\":78,\"y0\":53,\"y1\":52.5},{\"line\":{\"color\":\"darkgrey\",\"width\":0.5},\"type\":\"line\",\"x0\":79,\"x1\":79,\"y0\":0.2,\"y1\":0.7},{\"line\":{\"color\":\"darkgrey\",\"width\":0.5},\"type\":\"line\",\"x0\":79,\"x1\":79,\"y0\":22.91,\"y1\":23.57},{\"line\":{\"color\":\"darkgrey\",\"width\":0.5},\"type\":\"line\",\"x0\":79,\"x1\":79,\"y0\":29.73,\"y1\":30.39},{\"line\":{\"color\":\"darkgrey\",\"width\":0.5},\"type\":\"line\",\"x0\":79,\"x1\":79,\"y0\":53,\"y1\":52.5},{\"line\":{\"color\":\"darkgrey\",\"width\":0.5},\"type\":\"line\",\"x0\":80,\"x1\":80,\"y0\":0.2,\"y1\":0.7},{\"line\":{\"color\":\"darkgrey\",\"width\":0.5},\"type\":\"line\",\"x0\":80,\"x1\":80,\"y0\":22.91,\"y1\":23.57},{\"line\":{\"color\":\"darkgrey\",\"width\":0.5},\"type\":\"line\",\"x0\":80,\"x1\":80,\"y0\":29.73,\"y1\":30.39},{\"line\":{\"color\":\"darkgrey\",\"width\":0.5},\"type\":\"line\",\"x0\":80,\"x1\":80,\"y0\":53,\"y1\":52.5},{\"line\":{\"color\":\"darkgrey\",\"width\":0.5},\"type\":\"line\",\"x0\":81,\"x1\":81,\"y0\":0.2,\"y1\":0.7},{\"line\":{\"color\":\"darkgrey\",\"width\":0.5},\"type\":\"line\",\"x0\":81,\"x1\":81,\"y0\":22.91,\"y1\":23.57},{\"line\":{\"color\":\"darkgrey\",\"width\":0.5},\"type\":\"line\",\"x0\":81,\"x1\":81,\"y0\":29.73,\"y1\":30.39},{\"line\":{\"color\":\"darkgrey\",\"width\":0.5},\"type\":\"line\",\"x0\":81,\"x1\":81,\"y0\":53,\"y1\":52.5},{\"line\":{\"color\":\"darkgrey\",\"width\":0.5},\"type\":\"line\",\"x0\":82,\"x1\":82,\"y0\":0.2,\"y1\":0.7},{\"line\":{\"color\":\"darkgrey\",\"width\":0.5},\"type\":\"line\",\"x0\":82,\"x1\":82,\"y0\":22.91,\"y1\":23.57},{\"line\":{\"color\":\"darkgrey\",\"width\":0.5},\"type\":\"line\",\"x0\":82,\"x1\":82,\"y0\":29.73,\"y1\":30.39},{\"line\":{\"color\":\"darkgrey\",\"width\":0.5},\"type\":\"line\",\"x0\":82,\"x1\":82,\"y0\":53,\"y1\":52.5},{\"line\":{\"color\":\"darkgrey\",\"width\":0.5},\"type\":\"line\",\"x0\":83,\"x1\":83,\"y0\":0.2,\"y1\":0.7},{\"line\":{\"color\":\"darkgrey\",\"width\":0.5},\"type\":\"line\",\"x0\":83,\"x1\":83,\"y0\":22.91,\"y1\":23.57},{\"line\":{\"color\":\"darkgrey\",\"width\":0.5},\"type\":\"line\",\"x0\":83,\"x1\":83,\"y0\":29.73,\"y1\":30.39},{\"line\":{\"color\":\"darkgrey\",\"width\":0.5},\"type\":\"line\",\"x0\":83,\"x1\":83,\"y0\":53,\"y1\":52.5},{\"line\":{\"color\":\"darkgrey\",\"width\":0.5},\"type\":\"line\",\"x0\":84,\"x1\":84,\"y0\":0.2,\"y1\":0.7},{\"line\":{\"color\":\"darkgrey\",\"width\":0.5},\"type\":\"line\",\"x0\":84,\"x1\":84,\"y0\":22.91,\"y1\":23.57},{\"line\":{\"color\":\"darkgrey\",\"width\":0.5},\"type\":\"line\",\"x0\":84,\"x1\":84,\"y0\":29.73,\"y1\":30.39},{\"line\":{\"color\":\"darkgrey\",\"width\":0.5},\"type\":\"line\",\"x0\":84,\"x1\":84,\"y0\":53,\"y1\":52.5},{\"line\":{\"color\":\"darkgrey\",\"width\":0.5},\"type\":\"line\",\"x0\":85,\"x1\":85,\"y0\":0.2,\"y1\":0.7},{\"line\":{\"color\":\"darkgrey\",\"width\":0.5},\"type\":\"line\",\"x0\":85,\"x1\":85,\"y0\":22.91,\"y1\":23.57},{\"line\":{\"color\":\"darkgrey\",\"width\":0.5},\"type\":\"line\",\"x0\":85,\"x1\":85,\"y0\":29.73,\"y1\":30.39},{\"line\":{\"color\":\"darkgrey\",\"width\":0.5},\"type\":\"line\",\"x0\":85,\"x1\":85,\"y0\":53,\"y1\":52.5},{\"line\":{\"color\":\"darkgrey\",\"width\":0.5},\"type\":\"line\",\"x0\":86,\"x1\":86,\"y0\":0.2,\"y1\":0.7},{\"line\":{\"color\":\"darkgrey\",\"width\":0.5},\"type\":\"line\",\"x0\":86,\"x1\":86,\"y0\":22.91,\"y1\":23.57},{\"line\":{\"color\":\"darkgrey\",\"width\":0.5},\"type\":\"line\",\"x0\":86,\"x1\":86,\"y0\":29.73,\"y1\":30.39},{\"line\":{\"color\":\"darkgrey\",\"width\":0.5},\"type\":\"line\",\"x0\":86,\"x1\":86,\"y0\":53,\"y1\":52.5},{\"line\":{\"color\":\"darkgrey\",\"width\":0.5},\"type\":\"line\",\"x0\":87,\"x1\":87,\"y0\":0.2,\"y1\":0.7},{\"line\":{\"color\":\"darkgrey\",\"width\":0.5},\"type\":\"line\",\"x0\":87,\"x1\":87,\"y0\":22.91,\"y1\":23.57},{\"line\":{\"color\":\"darkgrey\",\"width\":0.5},\"type\":\"line\",\"x0\":87,\"x1\":87,\"y0\":29.73,\"y1\":30.39},{\"line\":{\"color\":\"darkgrey\",\"width\":0.5},\"type\":\"line\",\"x0\":87,\"x1\":87,\"y0\":53,\"y1\":52.5},{\"line\":{\"color\":\"darkgrey\",\"width\":0.5},\"type\":\"line\",\"x0\":88,\"x1\":88,\"y0\":0.2,\"y1\":0.7},{\"line\":{\"color\":\"darkgrey\",\"width\":0.5},\"type\":\"line\",\"x0\":88,\"x1\":88,\"y0\":22.91,\"y1\":23.57},{\"line\":{\"color\":\"darkgrey\",\"width\":0.5},\"type\":\"line\",\"x0\":88,\"x1\":88,\"y0\":29.73,\"y1\":30.39},{\"line\":{\"color\":\"darkgrey\",\"width\":0.5},\"type\":\"line\",\"x0\":88,\"x1\":88,\"y0\":53,\"y1\":52.5},{\"line\":{\"color\":\"darkgrey\",\"width\":0.5},\"type\":\"line\",\"x0\":89,\"x1\":89,\"y0\":0.2,\"y1\":0.7},{\"line\":{\"color\":\"darkgrey\",\"width\":0.5},\"type\":\"line\",\"x0\":89,\"x1\":89,\"y0\":22.91,\"y1\":23.57},{\"line\":{\"color\":\"darkgrey\",\"width\":0.5},\"type\":\"line\",\"x0\":89,\"x1\":89,\"y0\":29.73,\"y1\":30.39},{\"line\":{\"color\":\"darkgrey\",\"width\":0.5},\"type\":\"line\",\"x0\":89,\"x1\":89,\"y0\":53,\"y1\":52.5},{\"line\":{\"color\":\"darkgrey\",\"width\":0.5},\"type\":\"line\",\"x0\":90,\"x1\":90,\"y0\":0.2,\"y1\":0.7},{\"line\":{\"color\":\"darkgrey\",\"width\":0.5},\"type\":\"line\",\"x0\":90,\"x1\":90,\"y0\":22.91,\"y1\":23.57},{\"line\":{\"color\":\"darkgrey\",\"width\":0.5},\"type\":\"line\",\"x0\":90,\"x1\":90,\"y0\":29.73,\"y1\":30.39},{\"line\":{\"color\":\"darkgrey\",\"width\":0.5},\"type\":\"line\",\"x0\":90,\"x1\":90,\"y0\":53,\"y1\":52.5},{\"line\":{\"color\":\"darkgrey\",\"width\":0.5},\"type\":\"line\",\"x0\":91,\"x1\":91,\"y0\":0.2,\"y1\":0.7},{\"line\":{\"color\":\"darkgrey\",\"width\":0.5},\"type\":\"line\",\"x0\":91,\"x1\":91,\"y0\":22.91,\"y1\":23.57},{\"line\":{\"color\":\"darkgrey\",\"width\":0.5},\"type\":\"line\",\"x0\":91,\"x1\":91,\"y0\":29.73,\"y1\":30.39},{\"line\":{\"color\":\"darkgrey\",\"width\":0.5},\"type\":\"line\",\"x0\":91,\"x1\":91,\"y0\":53,\"y1\":52.5},{\"line\":{\"color\":\"darkgrey\",\"width\":0.5},\"type\":\"line\",\"x0\":92,\"x1\":92,\"y0\":0.2,\"y1\":0.7},{\"line\":{\"color\":\"darkgrey\",\"width\":0.5},\"type\":\"line\",\"x0\":92,\"x1\":92,\"y0\":22.91,\"y1\":23.57},{\"line\":{\"color\":\"darkgrey\",\"width\":0.5},\"type\":\"line\",\"x0\":92,\"x1\":92,\"y0\":29.73,\"y1\":30.39},{\"line\":{\"color\":\"darkgrey\",\"width\":0.5},\"type\":\"line\",\"x0\":92,\"x1\":92,\"y0\":53,\"y1\":52.5},{\"line\":{\"color\":\"darkgrey\",\"width\":0.5},\"type\":\"line\",\"x0\":93,\"x1\":93,\"y0\":0.2,\"y1\":0.7},{\"line\":{\"color\":\"darkgrey\",\"width\":0.5},\"type\":\"line\",\"x0\":93,\"x1\":93,\"y0\":22.91,\"y1\":23.57},{\"line\":{\"color\":\"darkgrey\",\"width\":0.5},\"type\":\"line\",\"x0\":93,\"x1\":93,\"y0\":29.73,\"y1\":30.39},{\"line\":{\"color\":\"darkgrey\",\"width\":0.5},\"type\":\"line\",\"x0\":93,\"x1\":93,\"y0\":53,\"y1\":52.5},{\"line\":{\"color\":\"darkgrey\",\"width\":0.5},\"type\":\"line\",\"x0\":94,\"x1\":94,\"y0\":0.2,\"y1\":0.7},{\"line\":{\"color\":\"darkgrey\",\"width\":0.5},\"type\":\"line\",\"x0\":94,\"x1\":94,\"y0\":22.91,\"y1\":23.57},{\"line\":{\"color\":\"darkgrey\",\"width\":0.5},\"type\":\"line\",\"x0\":94,\"x1\":94,\"y0\":29.73,\"y1\":30.39},{\"line\":{\"color\":\"darkgrey\",\"width\":0.5},\"type\":\"line\",\"x0\":94,\"x1\":94,\"y0\":53,\"y1\":52.5},{\"line\":{\"color\":\"darkgrey\",\"width\":0.5},\"type\":\"line\",\"x0\":95,\"x1\":95,\"y0\":0.2,\"y1\":0.7},{\"line\":{\"color\":\"darkgrey\",\"width\":0.5},\"type\":\"line\",\"x0\":95,\"x1\":95,\"y0\":22.91,\"y1\":23.57},{\"line\":{\"color\":\"darkgrey\",\"width\":0.5},\"type\":\"line\",\"x0\":95,\"x1\":95,\"y0\":29.73,\"y1\":30.39},{\"line\":{\"color\":\"darkgrey\",\"width\":0.5},\"type\":\"line\",\"x0\":95,\"x1\":95,\"y0\":53,\"y1\":52.5},{\"line\":{\"color\":\"darkgrey\",\"width\":0.5},\"type\":\"line\",\"x0\":96,\"x1\":96,\"y0\":0.2,\"y1\":0.7},{\"line\":{\"color\":\"darkgrey\",\"width\":0.5},\"type\":\"line\",\"x0\":96,\"x1\":96,\"y0\":22.91,\"y1\":23.57},{\"line\":{\"color\":\"darkgrey\",\"width\":0.5},\"type\":\"line\",\"x0\":96,\"x1\":96,\"y0\":29.73,\"y1\":30.39},{\"line\":{\"color\":\"darkgrey\",\"width\":0.5},\"type\":\"line\",\"x0\":96,\"x1\":96,\"y0\":53,\"y1\":52.5},{\"line\":{\"color\":\"darkgrey\",\"width\":0.5},\"type\":\"line\",\"x0\":97,\"x1\":97,\"y0\":0.2,\"y1\":0.7},{\"line\":{\"color\":\"darkgrey\",\"width\":0.5},\"type\":\"line\",\"x0\":97,\"x1\":97,\"y0\":22.91,\"y1\":23.57},{\"line\":{\"color\":\"darkgrey\",\"width\":0.5},\"type\":\"line\",\"x0\":97,\"x1\":97,\"y0\":29.73,\"y1\":30.39},{\"line\":{\"color\":\"darkgrey\",\"width\":0.5},\"type\":\"line\",\"x0\":97,\"x1\":97,\"y0\":53,\"y1\":52.5},{\"line\":{\"color\":\"darkgrey\",\"width\":0.5},\"type\":\"line\",\"x0\":98,\"x1\":98,\"y0\":0.2,\"y1\":0.7},{\"line\":{\"color\":\"darkgrey\",\"width\":0.5},\"type\":\"line\",\"x0\":98,\"x1\":98,\"y0\":22.91,\"y1\":23.57},{\"line\":{\"color\":\"darkgrey\",\"width\":0.5},\"type\":\"line\",\"x0\":98,\"x1\":98,\"y0\":29.73,\"y1\":30.39},{\"line\":{\"color\":\"darkgrey\",\"width\":0.5},\"type\":\"line\",\"x0\":98,\"x1\":98,\"y0\":53,\"y1\":52.5},{\"line\":{\"color\":\"darkgrey\",\"width\":0.5},\"type\":\"line\",\"x0\":99,\"x1\":99,\"y0\":0.2,\"y1\":0.7},{\"line\":{\"color\":\"darkgrey\",\"width\":0.5},\"type\":\"line\",\"x0\":99,\"x1\":99,\"y0\":22.91,\"y1\":23.57},{\"line\":{\"color\":\"darkgrey\",\"width\":0.5},\"type\":\"line\",\"x0\":99,\"x1\":99,\"y0\":29.73,\"y1\":30.39},{\"line\":{\"color\":\"darkgrey\",\"width\":0.5},\"type\":\"line\",\"x0\":99,\"x1\":99,\"y0\":53,\"y1\":52.5},{\"line\":{\"color\":\"darkgrey\",\"width\":0.5},\"type\":\"line\",\"x0\":100,\"x1\":100,\"y0\":0.2,\"y1\":0.7},{\"line\":{\"color\":\"darkgrey\",\"width\":0.5},\"type\":\"line\",\"x0\":100,\"x1\":100,\"y0\":22.91,\"y1\":23.57},{\"line\":{\"color\":\"darkgrey\",\"width\":0.5},\"type\":\"line\",\"x0\":100,\"x1\":100,\"y0\":29.73,\"y1\":30.39},{\"line\":{\"color\":\"darkgrey\",\"width\":0.5},\"type\":\"line\",\"x0\":100,\"x1\":100,\"y0\":53,\"y1\":52.5},{\"line\":{\"color\":\"darkgrey\",\"width\":0.5},\"type\":\"line\",\"x0\":101,\"x1\":101,\"y0\":0.2,\"y1\":0.7},{\"line\":{\"color\":\"darkgrey\",\"width\":0.5},\"type\":\"line\",\"x0\":101,\"x1\":101,\"y0\":22.91,\"y1\":23.57},{\"line\":{\"color\":\"darkgrey\",\"width\":0.5},\"type\":\"line\",\"x0\":101,\"x1\":101,\"y0\":29.73,\"y1\":30.39},{\"line\":{\"color\":\"darkgrey\",\"width\":0.5},\"type\":\"line\",\"x0\":101,\"x1\":101,\"y0\":53,\"y1\":52.5},{\"line\":{\"color\":\"darkgrey\",\"width\":0.5},\"type\":\"line\",\"x0\":102,\"x1\":102,\"y0\":0.2,\"y1\":0.7},{\"line\":{\"color\":\"darkgrey\",\"width\":0.5},\"type\":\"line\",\"x0\":102,\"x1\":102,\"y0\":22.91,\"y1\":23.57},{\"line\":{\"color\":\"darkgrey\",\"width\":0.5},\"type\":\"line\",\"x0\":102,\"x1\":102,\"y0\":29.73,\"y1\":30.39},{\"line\":{\"color\":\"darkgrey\",\"width\":0.5},\"type\":\"line\",\"x0\":102,\"x1\":102,\"y0\":53,\"y1\":52.5},{\"line\":{\"color\":\"darkgrey\",\"width\":0.5},\"type\":\"line\",\"x0\":103,\"x1\":103,\"y0\":0.2,\"y1\":0.7},{\"line\":{\"color\":\"darkgrey\",\"width\":0.5},\"type\":\"line\",\"x0\":103,\"x1\":103,\"y0\":22.91,\"y1\":23.57},{\"line\":{\"color\":\"darkgrey\",\"width\":0.5},\"type\":\"line\",\"x0\":103,\"x1\":103,\"y0\":29.73,\"y1\":30.39},{\"line\":{\"color\":\"darkgrey\",\"width\":0.5},\"type\":\"line\",\"x0\":103,\"x1\":103,\"y0\":53,\"y1\":52.5},{\"line\":{\"color\":\"darkgrey\",\"width\":0.5},\"type\":\"line\",\"x0\":104,\"x1\":104,\"y0\":0.2,\"y1\":0.7},{\"line\":{\"color\":\"darkgrey\",\"width\":0.5},\"type\":\"line\",\"x0\":104,\"x1\":104,\"y0\":22.91,\"y1\":23.57},{\"line\":{\"color\":\"darkgrey\",\"width\":0.5},\"type\":\"line\",\"x0\":104,\"x1\":104,\"y0\":29.73,\"y1\":30.39},{\"line\":{\"color\":\"darkgrey\",\"width\":0.5},\"type\":\"line\",\"x0\":104,\"x1\":104,\"y0\":53,\"y1\":52.5},{\"line\":{\"color\":\"darkgrey\",\"width\":0.5},\"type\":\"line\",\"x0\":105,\"x1\":105,\"y0\":0.2,\"y1\":0.7},{\"line\":{\"color\":\"darkgrey\",\"width\":0.5},\"type\":\"line\",\"x0\":105,\"x1\":105,\"y0\":22.91,\"y1\":23.57},{\"line\":{\"color\":\"darkgrey\",\"width\":0.5},\"type\":\"line\",\"x0\":105,\"x1\":105,\"y0\":29.73,\"y1\":30.39},{\"line\":{\"color\":\"darkgrey\",\"width\":0.5},\"type\":\"line\",\"x0\":105,\"x1\":105,\"y0\":53,\"y1\":52.5},{\"line\":{\"color\":\"darkgrey\",\"width\":0.5},\"type\":\"line\",\"x0\":106,\"x1\":106,\"y0\":0.2,\"y1\":0.7},{\"line\":{\"color\":\"darkgrey\",\"width\":0.5},\"type\":\"line\",\"x0\":106,\"x1\":106,\"y0\":22.91,\"y1\":23.57},{\"line\":{\"color\":\"darkgrey\",\"width\":0.5},\"type\":\"line\",\"x0\":106,\"x1\":106,\"y0\":29.73,\"y1\":30.39},{\"line\":{\"color\":\"darkgrey\",\"width\":0.5},\"type\":\"line\",\"x0\":106,\"x1\":106,\"y0\":53,\"y1\":52.5},{\"line\":{\"color\":\"darkgrey\",\"width\":0.5},\"type\":\"line\",\"x0\":107,\"x1\":107,\"y0\":0.2,\"y1\":0.7},{\"line\":{\"color\":\"darkgrey\",\"width\":0.5},\"type\":\"line\",\"x0\":107,\"x1\":107,\"y0\":22.91,\"y1\":23.57},{\"line\":{\"color\":\"darkgrey\",\"width\":0.5},\"type\":\"line\",\"x0\":107,\"x1\":107,\"y0\":29.73,\"y1\":30.39},{\"line\":{\"color\":\"darkgrey\",\"width\":0.5},\"type\":\"line\",\"x0\":107,\"x1\":107,\"y0\":53,\"y1\":52.5},{\"line\":{\"color\":\"darkgrey\",\"width\":0.5},\"type\":\"line\",\"x0\":108,\"x1\":108,\"y0\":0.2,\"y1\":0.7},{\"line\":{\"color\":\"darkgrey\",\"width\":0.5},\"type\":\"line\",\"x0\":108,\"x1\":108,\"y0\":22.91,\"y1\":23.57},{\"line\":{\"color\":\"darkgrey\",\"width\":0.5},\"type\":\"line\",\"x0\":108,\"x1\":108,\"y0\":29.73,\"y1\":30.39},{\"line\":{\"color\":\"darkgrey\",\"width\":0.5},\"type\":\"line\",\"x0\":108,\"x1\":108,\"y0\":53,\"y1\":52.5},{\"line\":{\"color\":\"darkgrey\",\"width\":0.5},\"type\":\"line\",\"x0\":109,\"x1\":109,\"y0\":0.2,\"y1\":0.7},{\"line\":{\"color\":\"darkgrey\",\"width\":0.5},\"type\":\"line\",\"x0\":109,\"x1\":109,\"y0\":22.91,\"y1\":23.57},{\"line\":{\"color\":\"darkgrey\",\"width\":0.5},\"type\":\"line\",\"x0\":109,\"x1\":109,\"y0\":29.73,\"y1\":30.39},{\"line\":{\"color\":\"darkgrey\",\"width\":0.5},\"type\":\"line\",\"x0\":109,\"x1\":109,\"y0\":53,\"y1\":52.5},{\"line\":{\"color\":\"dimgrey\",\"width\":1},\"type\":\"rect\",\"x0\":0,\"x1\":120,\"y0\":0,\"y1\":53.3},{\"fillcolor\":\"lightgrey\",\"layer\":\"below\",\"line\":{\"color\":\"darkgrey\",\"width\":1},\"type\":\"rect\",\"x0\":0,\"x1\":10,\"y0\":0,\"y1\":53.3},{\"fillcolor\":\"lightgrey\",\"layer\":\"below\",\"line\":{\"color\":\"darkgrey\",\"width\":1},\"type\":\"rect\",\"x0\":110,\"x1\":120,\"y0\":0,\"y1\":53.3}],\"xaxis\":{\"constrain\":\"domain\",\"range\":[0.4299999999999997,61.98],\"showgrid\":false,\"showticklabels\":false},\"yaxis\":{\"range\":[-0.5,54],\"scaleanchor\":\"x\",\"scaleratio\":1,\"showgrid\":false,\"showticklabels\":false},\"template\":{\"data\":{\"histogram2dcontour\":[{\"type\":\"histogram2dcontour\",\"colorbar\":{\"outlinewidth\":0,\"ticks\":\"\"},\"colorscale\":[[0.0,\"#0d0887\"],[0.1111111111111111,\"#46039f\"],[0.2222222222222222,\"#7201a8\"],[0.3333333333333333,\"#9c179e\"],[0.4444444444444444,\"#bd3786\"],[0.5555555555555556,\"#d8576b\"],[0.6666666666666666,\"#ed7953\"],[0.7777777777777778,\"#fb9f3a\"],[0.8888888888888888,\"#fdca26\"],[1.0,\"#f0f921\"]]}],\"choropleth\":[{\"type\":\"choropleth\",\"colorbar\":{\"outlinewidth\":0,\"ticks\":\"\"}}],\"histogram2d\":[{\"type\":\"histogram2d\",\"colorbar\":{\"outlinewidth\":0,\"ticks\":\"\"},\"colorscale\":[[0.0,\"#0d0887\"],[0.1111111111111111,\"#46039f\"],[0.2222222222222222,\"#7201a8\"],[0.3333333333333333,\"#9c179e\"],[0.4444444444444444,\"#bd3786\"],[0.5555555555555556,\"#d8576b\"],[0.6666666666666666,\"#ed7953\"],[0.7777777777777778,\"#fb9f3a\"],[0.8888888888888888,\"#fdca26\"],[1.0,\"#f0f921\"]]}],\"heatmap\":[{\"type\":\"heatmap\",\"colorbar\":{\"outlinewidth\":0,\"ticks\":\"\"},\"colorscale\":[[0.0,\"#0d0887\"],[0.1111111111111111,\"#46039f\"],[0.2222222222222222,\"#7201a8\"],[0.3333333333333333,\"#9c179e\"],[0.4444444444444444,\"#bd3786\"],[0.5555555555555556,\"#d8576b\"],[0.6666666666666666,\"#ed7953\"],[0.7777777777777778,\"#fb9f3a\"],[0.8888888888888888,\"#fdca26\"],[1.0,\"#f0f921\"]]}],\"heatmapgl\":[{\"type\":\"heatmapgl\",\"colorbar\":{\"outlinewidth\":0,\"ticks\":\"\"},\"colorscale\":[[0.0,\"#0d0887\"],[0.1111111111111111,\"#46039f\"],[0.2222222222222222,\"#7201a8\"],[0.3333333333333333,\"#9c179e\"],[0.4444444444444444,\"#bd3786\"],[0.5555555555555556,\"#d8576b\"],[0.6666666666666666,\"#ed7953\"],[0.7777777777777778,\"#fb9f3a\"],[0.8888888888888888,\"#fdca26\"],[1.0,\"#f0f921\"]]}],\"contourcarpet\":[{\"type\":\"contourcarpet\",\"colorbar\":{\"outlinewidth\":0,\"ticks\":\"\"}}],\"contour\":[{\"type\":\"contour\",\"colorbar\":{\"outlinewidth\":0,\"ticks\":\"\"},\"colorscale\":[[0.0,\"#0d0887\"],[0.1111111111111111,\"#46039f\"],[0.2222222222222222,\"#7201a8\"],[0.3333333333333333,\"#9c179e\"],[0.4444444444444444,\"#bd3786\"],[0.5555555555555556,\"#d8576b\"],[0.6666666666666666,\"#ed7953\"],[0.7777777777777778,\"#fb9f3a\"],[0.8888888888888888,\"#fdca26\"],[1.0,\"#f0f921\"]]}],\"surface\":[{\"type\":\"surface\",\"colorbar\":{\"outlinewidth\":0,\"ticks\":\"\"},\"colorscale\":[[0.0,\"#0d0887\"],[0.1111111111111111,\"#46039f\"],[0.2222222222222222,\"#7201a8\"],[0.3333333333333333,\"#9c179e\"],[0.4444444444444444,\"#bd3786\"],[0.5555555555555556,\"#d8576b\"],[0.6666666666666666,\"#ed7953\"],[0.7777777777777778,\"#fb9f3a\"],[0.8888888888888888,\"#fdca26\"],[1.0,\"#f0f921\"]]}],\"mesh3d\":[{\"type\":\"mesh3d\",\"colorbar\":{\"outlinewidth\":0,\"ticks\":\"\"}}],\"scatter\":[{\"fillpattern\":{\"fillmode\":\"overlay\",\"size\":10,\"solidity\":0.2},\"type\":\"scatter\"}],\"parcoords\":[{\"type\":\"parcoords\",\"line\":{\"colorbar\":{\"outlinewidth\":0,\"ticks\":\"\"}}}],\"scatterpolargl\":[{\"type\":\"scatterpolargl\",\"marker\":{\"colorbar\":{\"outlinewidth\":0,\"ticks\":\"\"}}}],\"bar\":[{\"error_x\":{\"color\":\"#2a3f5f\"},\"error_y\":{\"color\":\"#2a3f5f\"},\"marker\":{\"line\":{\"color\":\"#E5ECF6\",\"width\":0.5},\"pattern\":{\"fillmode\":\"overlay\",\"size\":10,\"solidity\":0.2}},\"type\":\"bar\"}],\"scattergeo\":[{\"type\":\"scattergeo\",\"marker\":{\"colorbar\":{\"outlinewidth\":0,\"ticks\":\"\"}}}],\"scatterpolar\":[{\"type\":\"scatterpolar\",\"marker\":{\"colorbar\":{\"outlinewidth\":0,\"ticks\":\"\"}}}],\"histogram\":[{\"marker\":{\"pattern\":{\"fillmode\":\"overlay\",\"size\":10,\"solidity\":0.2}},\"type\":\"histogram\"}],\"scattergl\":[{\"type\":\"scattergl\",\"marker\":{\"colorbar\":{\"outlinewidth\":0,\"ticks\":\"\"}}}],\"scatter3d\":[{\"type\":\"scatter3d\",\"line\":{\"colorbar\":{\"outlinewidth\":0,\"ticks\":\"\"}},\"marker\":{\"colorbar\":{\"outlinewidth\":0,\"ticks\":\"\"}}}],\"scattermapbox\":[{\"type\":\"scattermapbox\",\"marker\":{\"colorbar\":{\"outlinewidth\":0,\"ticks\":\"\"}}}],\"scatterternary\":[{\"type\":\"scatterternary\",\"marker\":{\"colorbar\":{\"outlinewidth\":0,\"ticks\":\"\"}}}],\"scattercarpet\":[{\"type\":\"scattercarpet\",\"marker\":{\"colorbar\":{\"outlinewidth\":0,\"ticks\":\"\"}}}],\"carpet\":[{\"aaxis\":{\"endlinecolor\":\"#2a3f5f\",\"gridcolor\":\"white\",\"linecolor\":\"white\",\"minorgridcolor\":\"white\",\"startlinecolor\":\"#2a3f5f\"},\"baxis\":{\"endlinecolor\":\"#2a3f5f\",\"gridcolor\":\"white\",\"linecolor\":\"white\",\"minorgridcolor\":\"white\",\"startlinecolor\":\"#2a3f5f\"},\"type\":\"carpet\"}],\"table\":[{\"cells\":{\"fill\":{\"color\":\"#EBF0F8\"},\"line\":{\"color\":\"white\"}},\"header\":{\"fill\":{\"color\":\"#C8D4E3\"},\"line\":{\"color\":\"white\"}},\"type\":\"table\"}],\"barpolar\":[{\"marker\":{\"line\":{\"color\":\"#E5ECF6\",\"width\":0.5},\"pattern\":{\"fillmode\":\"overlay\",\"size\":10,\"solidity\":0.2}},\"type\":\"barpolar\"}],\"pie\":[{\"automargin\":true,\"type\":\"pie\"}]},\"layout\":{\"autotypenumbers\":\"strict\",\"colorway\":[\"#636efa\",\"#EF553B\",\"#00cc96\",\"#ab63fa\",\"#FFA15A\",\"#19d3f3\",\"#FF6692\",\"#B6E880\",\"#FF97FF\",\"#FECB52\"],\"font\":{\"color\":\"#2a3f5f\"},\"hovermode\":\"closest\",\"hoverlabel\":{\"align\":\"left\"},\"paper_bgcolor\":\"white\",\"plot_bgcolor\":\"#E5ECF6\",\"polar\":{\"bgcolor\":\"#E5ECF6\",\"angularaxis\":{\"gridcolor\":\"white\",\"linecolor\":\"white\",\"ticks\":\"\"},\"radialaxis\":{\"gridcolor\":\"white\",\"linecolor\":\"white\",\"ticks\":\"\"}},\"ternary\":{\"bgcolor\":\"#E5ECF6\",\"aaxis\":{\"gridcolor\":\"white\",\"linecolor\":\"white\",\"ticks\":\"\"},\"baxis\":{\"gridcolor\":\"white\",\"linecolor\":\"white\",\"ticks\":\"\"},\"caxis\":{\"gridcolor\":\"white\",\"linecolor\":\"white\",\"ticks\":\"\"}},\"coloraxis\":{\"colorbar\":{\"outlinewidth\":0,\"ticks\":\"\"}},\"colorscale\":{\"sequential\":[[0.0,\"#0d0887\"],[0.1111111111111111,\"#46039f\"],[0.2222222222222222,\"#7201a8\"],[0.3333333333333333,\"#9c179e\"],[0.4444444444444444,\"#bd3786\"],[0.5555555555555556,\"#d8576b\"],[0.6666666666666666,\"#ed7953\"],[0.7777777777777778,\"#fb9f3a\"],[0.8888888888888888,\"#fdca26\"],[1.0,\"#f0f921\"]],\"sequentialminus\":[[0.0,\"#0d0887\"],[0.1111111111111111,\"#46039f\"],[0.2222222222222222,\"#7201a8\"],[0.3333333333333333,\"#9c179e\"],[0.4444444444444444,\"#bd3786\"],[0.5555555555555556,\"#d8576b\"],[0.6666666666666666,\"#ed7953\"],[0.7777777777777778,\"#fb9f3a\"],[0.8888888888888888,\"#fdca26\"],[1.0,\"#f0f921\"]],\"diverging\":[[0,\"#8e0152\"],[0.1,\"#c51b7d\"],[0.2,\"#de77ae\"],[0.3,\"#f1b6da\"],[0.4,\"#fde0ef\"],[0.5,\"#f7f7f7\"],[0.6,\"#e6f5d0\"],[0.7,\"#b8e186\"],[0.8,\"#7fbc41\"],[0.9,\"#4d9221\"],[1,\"#276419\"]]},\"xaxis\":{\"gridcolor\":\"white\",\"linecolor\":\"white\",\"ticks\":\"\",\"title\":{\"standoff\":15},\"zerolinecolor\":\"white\",\"automargin\":true,\"zerolinewidth\":2},\"yaxis\":{\"gridcolor\":\"white\",\"linecolor\":\"white\",\"ticks\":\"\",\"title\":{\"standoff\":15},\"zerolinecolor\":\"white\",\"automargin\":true,\"zerolinewidth\":2},\"scene\":{\"xaxis\":{\"backgroundcolor\":\"#E5ECF6\",\"gridcolor\":\"white\",\"linecolor\":\"white\",\"showbackground\":true,\"ticks\":\"\",\"zerolinecolor\":\"white\",\"gridwidth\":2},\"yaxis\":{\"backgroundcolor\":\"#E5ECF6\",\"gridcolor\":\"white\",\"linecolor\":\"white\",\"showbackground\":true,\"ticks\":\"\",\"zerolinecolor\":\"white\",\"gridwidth\":2},\"zaxis\":{\"backgroundcolor\":\"#E5ECF6\",\"gridcolor\":\"white\",\"linecolor\":\"white\",\"showbackground\":true,\"ticks\":\"\",\"zerolinecolor\":\"white\",\"gridwidth\":2}},\"shapedefaults\":{\"line\":{\"color\":\"#2a3f5f\"}},\"annotationdefaults\":{\"arrowcolor\":\"#2a3f5f\",\"arrowhead\":0,\"arrowwidth\":1},\"geo\":{\"bgcolor\":\"white\",\"landcolor\":\"#E5ECF6\",\"subunitcolor\":\"white\",\"showland\":true,\"showlakes\":true,\"lakecolor\":\"white\"},\"title\":{\"x\":0.05},\"mapbox\":{\"style\":\"light\"}}},\"annotations\":[{\"font\":{\"color\":\"grey\",\"size\":8},\"showarrow\":false,\"text\":\"10\",\"x\":19,\"xref\":\"x\",\"y\":5,\"yref\":\"y\"},{\"font\":{\"color\":\"grey\",\"size\":8},\"showarrow\":false,\"text\":\"10\",\"textangle\":-180,\"x\":19,\"xref\":\"x\",\"y\":48.3,\"yref\":\"y\"},{\"font\":{\"color\":\"grey\",\"size\":8},\"showarrow\":false,\"text\":\"20\",\"x\":29,\"xref\":\"x\",\"y\":5,\"yref\":\"y\"},{\"font\":{\"color\":\"grey\",\"size\":8},\"showarrow\":false,\"text\":\"20\",\"textangle\":-180,\"x\":29,\"xref\":\"x\",\"y\":48.3,\"yref\":\"y\"},{\"font\":{\"color\":\"grey\",\"size\":8},\"showarrow\":false,\"text\":\"30\",\"x\":39,\"xref\":\"x\",\"y\":5,\"yref\":\"y\"},{\"font\":{\"color\":\"grey\",\"size\":8},\"showarrow\":false,\"text\":\"30\",\"textangle\":-180,\"x\":39,\"xref\":\"x\",\"y\":48.3,\"yref\":\"y\"},{\"font\":{\"color\":\"grey\",\"size\":8},\"showarrow\":false,\"text\":\"40\",\"x\":49,\"xref\":\"x\",\"y\":5,\"yref\":\"y\"},{\"font\":{\"color\":\"grey\",\"size\":8},\"showarrow\":false,\"text\":\"40\",\"textangle\":-180,\"x\":49,\"xref\":\"x\",\"y\":48.3,\"yref\":\"y\"},{\"font\":{\"color\":\"grey\",\"size\":8},\"showarrow\":false,\"text\":\"50\",\"x\":59,\"xref\":\"x\",\"y\":5,\"yref\":\"y\"},{\"font\":{\"color\":\"grey\",\"size\":8},\"showarrow\":false,\"text\":\"50\",\"textangle\":-180,\"x\":59,\"xref\":\"x\",\"y\":48.3,\"yref\":\"y\"},{\"font\":{\"color\":\"grey\",\"size\":8},\"showarrow\":false,\"text\":\"40\",\"x\":69,\"xref\":\"x\",\"y\":5,\"yref\":\"y\"},{\"font\":{\"color\":\"grey\",\"size\":8},\"showarrow\":false,\"text\":\"40\",\"textangle\":-180,\"x\":69,\"xref\":\"x\",\"y\":48.3,\"yref\":\"y\"},{\"font\":{\"color\":\"grey\",\"size\":8},\"showarrow\":false,\"text\":\"30\",\"x\":79,\"xref\":\"x\",\"y\":5,\"yref\":\"y\"},{\"font\":{\"color\":\"grey\",\"size\":8},\"showarrow\":false,\"text\":\"30\",\"textangle\":-180,\"x\":79,\"xref\":\"x\",\"y\":48.3,\"yref\":\"y\"},{\"font\":{\"color\":\"grey\",\"size\":8},\"showarrow\":false,\"text\":\"20\",\"x\":89,\"xref\":\"x\",\"y\":5,\"yref\":\"y\"},{\"font\":{\"color\":\"grey\",\"size\":8},\"showarrow\":false,\"text\":\"20\",\"textangle\":-180,\"x\":89,\"xref\":\"x\",\"y\":48.3,\"yref\":\"y\"},{\"font\":{\"color\":\"grey\",\"size\":8},\"showarrow\":false,\"text\":\"10\",\"x\":99,\"xref\":\"x\",\"y\":5,\"yref\":\"y\"},{\"font\":{\"color\":\"grey\",\"size\":8},\"showarrow\":false,\"text\":\"10\",\"textangle\":-180,\"x\":99,\"xref\":\"x\",\"y\":48.3,\"yref\":\"y\"}],\"title\":{\"font\":{\"size\":12},\"yanchor\":\"top\",\"x\":0.5,\"y\":0.98},\"margin\":{\"t\":20},\"sliders\":[{\"active\":0,\"font\":{\"size\":10},\"steps\":[{\"args\":[{\"visible\":[true,true,false,false,false,false,false,false,false,false,false,false,false,false,false,false,false,false,false,false,false,false,false,false,false,false,false,false,false,false,false,false,false,false,false,false,false,false,false,false,false,false,false,false,false,false,false,false]},{\"title\":\"Event: nan\",\"font\":{\"size\":10}}],\"label\":\"frame1\",\"method\":\"update\"},{\"args\":[{\"visible\":[false,false,true,true,false,false,false,false,false,false,false,false,false,false,false,false,false,false,false,false,false,false,false,false,false,false,false,false,false,false,false,false,false,false,false,false,false,false,false,false,false,false,false,false,false,false,false,false]},{\"title\":\"Event: pass_arrived\",\"font\":{\"size\":10}}],\"label\":\"frame2\",\"method\":\"update\"},{\"args\":[{\"visible\":[false,false,false,false,true,true,false,false,false,false,false,false,false,false,false,false,false,false,false,false,false,false,false,false,false,false,false,false,false,false,false,false,false,false,false,false,false,false,false,false,false,false,false,false,false,false,false,false]},{\"title\":\"Event: nan\",\"font\":{\"size\":10}}],\"label\":\"frame3\",\"method\":\"update\"},{\"args\":[{\"visible\":[false,false,false,false,false,false,true,true,false,false,false,false,false,false,false,false,false,false,false,false,false,false,false,false,false,false,false,false,false,false,false,false,false,false,false,false,false,false,false,false,false,false,false,false,false,false,false,false]},{\"title\":\"Event: nan\",\"font\":{\"size\":10}}],\"label\":\"frame4\",\"method\":\"update\"},{\"args\":[{\"visible\":[false,false,false,false,false,false,false,false,true,true,false,false,false,false,false,false,false,false,false,false,false,false,false,false,false,false,false,false,false,false,false,false,false,false,false,false,false,false,false,false,false,false,false,false,false,false,false,false]},{\"title\":\"Event: nan\",\"font\":{\"size\":10}}],\"label\":\"frame5\",\"method\":\"update\"},{\"args\":[{\"visible\":[false,false,false,false,false,false,false,false,false,false,true,true,false,false,false,false,false,false,false,false,false,false,false,false,false,false,false,false,false,false,false,false,false,false,false,false,false,false,false,false,false,false,false,false,false,false,false,false]},{\"title\":\"Event: pass_outcome_caught\",\"font\":{\"size\":10}}],\"label\":\"frame6\",\"method\":\"update\"},{\"args\":[{\"visible\":[false,false,false,false,false,false,false,false,false,false,false,false,true,true,false,false,false,false,false,false,false,false,false,false,false,false,false,false,false,false,false,false,false,false,false,false,false,false,false,false,false,false,false,false,false,false,false,false]},{\"title\":\"Event: nan\",\"font\":{\"size\":10}}],\"label\":\"frame7\",\"method\":\"update\"},{\"args\":[{\"visible\":[false,false,false,false,false,false,false,false,false,false,false,false,false,false,true,true,false,false,false,false,false,false,false,false,false,false,false,false,false,false,false,false,false,false,false,false,false,false,false,false,false,false,false,false,false,false,false,false]},{\"title\":\"Event: nan\",\"font\":{\"size\":10}}],\"label\":\"frame8\",\"method\":\"update\"},{\"args\":[{\"visible\":[false,false,false,false,false,false,false,false,false,false,false,false,false,false,false,false,true,true,false,false,false,false,false,false,false,false,false,false,false,false,false,false,false,false,false,false,false,false,false,false,false,false,false,false,false,false,false,false]},{\"title\":\"Event: nan\",\"font\":{\"size\":10}}],\"label\":\"frame9\",\"method\":\"update\"},{\"args\":[{\"visible\":[false,false,false,false,false,false,false,false,false,false,false,false,false,false,false,false,false,false,true,true,false,false,false,false,false,false,false,false,false,false,false,false,false,false,false,false,false,false,false,false,false,false,false,false,false,false,false,false]},{\"title\":\"Event: nan\",\"font\":{\"size\":10}}],\"label\":\"frame10\",\"method\":\"update\"},{\"args\":[{\"visible\":[false,false,false,false,false,false,false,false,false,false,false,false,false,false,false,false,false,false,false,false,true,true,false,false,false,false,false,false,false,false,false,false,false,false,false,false,false,false,false,false,false,false,false,false,false,false,false,false]},{\"title\":\"Event: nan\",\"font\":{\"size\":10}}],\"label\":\"frame11\",\"method\":\"update\"},{\"args\":[{\"visible\":[false,false,false,false,false,false,false,false,false,false,false,false,false,false,false,false,false,false,false,false,false,false,true,true,false,false,false,false,false,false,false,false,false,false,false,false,false,false,false,false,false,false,false,false,false,false,false,false]},{\"title\":\"Event: nan\",\"font\":{\"size\":10}}],\"label\":\"frame12\",\"method\":\"update\"},{\"args\":[{\"visible\":[false,false,false,false,false,false,false,false,false,false,false,false,false,false,false,false,false,false,false,false,false,false,false,false,true,true,false,false,false,false,false,false,false,false,false,false,false,false,false,false,false,false,false,false,false,false,false,false]},{\"title\":\"Event: nan\",\"font\":{\"size\":10}}],\"label\":\"frame13\",\"method\":\"update\"},{\"args\":[{\"visible\":[false,false,false,false,false,false,false,false,false,false,false,false,false,false,false,false,false,false,false,false,false,false,false,false,false,false,true,true,false,false,false,false,false,false,false,false,false,false,false,false,false,false,false,false,false,false,false,false]},{\"title\":\"Event: nan\",\"font\":{\"size\":10}}],\"label\":\"frame14\",\"method\":\"update\"},{\"args\":[{\"visible\":[false,false,false,false,false,false,false,false,false,false,false,false,false,false,false,false,false,false,false,false,false,false,false,false,false,false,false,false,true,true,false,false,false,false,false,false,false,false,false,false,false,false,false,false,false,false,false,false]},{\"title\":\"Event: nan\",\"font\":{\"size\":10}}],\"label\":\"frame15\",\"method\":\"update\"},{\"args\":[{\"visible\":[false,false,false,false,false,false,false,false,false,false,false,false,false,false,false,false,false,false,false,false,false,false,false,false,false,false,false,false,false,false,true,true,false,false,false,false,false,false,false,false,false,false,false,false,false,false,false,false]},{\"title\":\"Event: nan\",\"font\":{\"size\":10}}],\"label\":\"frame16\",\"method\":\"update\"},{\"args\":[{\"visible\":[false,false,false,false,false,false,false,false,false,false,false,false,false,false,false,false,false,false,false,false,false,false,false,false,false,false,false,false,false,false,false,false,true,true,false,false,false,false,false,false,false,false,false,false,false,false,false,false]},{\"title\":\"Event: first_contact\",\"font\":{\"size\":10}}],\"label\":\"frame17\",\"method\":\"update\"},{\"args\":[{\"visible\":[false,false,false,false,false,false,false,false,false,false,false,false,false,false,false,false,false,false,false,false,false,false,false,false,false,false,false,false,false,false,false,false,false,false,true,true,false,false,false,false,false,false,false,false,false,false,false,false]},{\"title\":\"Event: nan\",\"font\":{\"size\":10}}],\"label\":\"frame18\",\"method\":\"update\"},{\"args\":[{\"visible\":[false,false,false,false,false,false,false,false,false,false,false,false,false,false,false,false,false,false,false,false,false,false,false,false,false,false,false,false,false,false,false,false,false,false,false,false,true,true,false,false,false,false,false,false,false,false,false,false]},{\"title\":\"Event: nan\",\"font\":{\"size\":10}}],\"label\":\"frame19\",\"method\":\"update\"},{\"args\":[{\"visible\":[false,false,false,false,false,false,false,false,false,false,false,false,false,false,false,false,false,false,false,false,false,false,false,false,false,false,false,false,false,false,false,false,false,false,false,false,false,false,true,true,false,false,false,false,false,false,false,false]},{\"title\":\"Event: tackle\",\"font\":{\"size\":10}}],\"label\":\"frame20\",\"method\":\"update\"},{\"args\":[{\"visible\":[false,false,false,false,false,false,false,false,false,false,false,false,false,false,false,false,false,false,false,false,false,false,false,false,false,false,false,false,false,false,false,false,false,false,false,false,false,false,false,false,true,true,false,false,false,false,false,false]},{\"title\":\"Event: nan\",\"font\":{\"size\":10}}],\"label\":\"frame21\",\"method\":\"update\"},{\"args\":[{\"visible\":[false,false,false,false,false,false,false,false,false,false,false,false,false,false,false,false,false,false,false,false,false,false,false,false,false,false,false,false,false,false,false,false,false,false,false,false,false,false,false,false,false,false,true,true,false,false,false,false]},{\"title\":\"Event: nan\",\"font\":{\"size\":10}}],\"label\":\"frame22\",\"method\":\"update\"},{\"args\":[{\"visible\":[false,false,false,false,false,false,false,false,false,false,false,false,false,false,false,false,false,false,false,false,false,false,false,false,false,false,false,false,false,false,false,false,false,false,false,false,false,false,false,false,false,false,false,false,true,true,false,false]},{\"title\":\"Event: nan\",\"font\":{\"size\":10}}],\"label\":\"frame23\",\"method\":\"update\"},{\"args\":[{\"visible\":[false,false,false,false,false,false,false,false,false,false,false,false,false,false,false,false,false,false,false,false,false,false,false,false,false,false,false,false,false,false,false,false,false,false,false,false,false,false,false,false,false,false,false,false,false,false,true,true]},{\"title\":\"Event: nan\",\"font\":{\"size\":10}}],\"label\":\"frame24\",\"method\":\"update\"}]}],\"width\":800,\"height\":600,\"dragmode\":false},                        {\"displayModeBar\": false, \"responsive\": true}                    ).then(function(){\n",
       "                            \n",
       "var gd = document.getElementById('1e3bb515-8291-47dd-ba5c-81a70f1fa3bf');\n",
       "var x = new MutationObserver(function (mutations, observer) {{\n",
       "        var display = window.getComputedStyle(gd).display;\n",
       "        if (!display || display === 'none') {{\n",
       "            console.log([gd, 'removed!']);\n",
       "            Plotly.purge(gd);\n",
       "            observer.disconnect();\n",
       "        }}\n",
       "}});\n",
       "\n",
       "// Listen for the removal of the full notebook cells\n",
       "var notebookContainer = gd.closest('#notebook-container');\n",
       "if (notebookContainer) {{\n",
       "    x.observe(notebookContainer, {childList: true});\n",
       "}}\n",
       "\n",
       "// Listen for the clearing of the current output cell\n",
       "var outputEl = gd.closest('.output');\n",
       "if (outputEl) {{\n",
       "    x.observe(outputEl, {childList: true});\n",
       "}}\n",
       "\n",
       "                        })                };                });            </script>        </div>"
      ]
     },
     "metadata": {},
     "output_type": "display_data"
    }
   ],
   "source": [
    "plot(2022092502, 783)"
   ]
  },
  {
   "cell_type": "code",
   "execution_count": null,
   "id": "364d8a99",
   "metadata": {},
   "outputs": [],
   "source": []
  }
 ],
 "metadata": {
  "kernelspec": {
   "display_name": "bowl",
   "language": "python",
   "name": "bowl"
  },
  "language_info": {
   "codemirror_mode": {
    "name": "ipython",
    "version": 3
   },
   "file_extension": ".py",
   "mimetype": "text/x-python",
   "name": "python",
   "nbconvert_exporter": "python",
   "pygments_lexer": "ipython3",
   "version": "3.11.4"
  }
 },
 "nbformat": 4,
 "nbformat_minor": 5
}
