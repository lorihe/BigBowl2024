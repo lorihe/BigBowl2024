{
 "cells": [
  {
   "cell_type": "markdown",
   "id": "22d9f450",
   "metadata": {},
   "source": [
    "**This notebook generates four feature variables (MPD, near_dist, leverage, caught_width), target variable (progress after caught), and censoring variable (last event), fits a CPH model.**"
   ]
  },
  {
   "cell_type": "code",
   "execution_count": 55,
   "id": "94e255bc",
   "metadata": {},
   "outputs": [
    {
     "name": "stdout",
     "output_type": "stream",
     "text": [
      "The autoreload extension is already loaded. To reload it, use:\n",
      "  %reload_ext autoreload\n"
     ]
    }
   ],
   "source": [
    "import pandas as pd\n",
    "import numpy as np\n",
    "import scipy.stats as stats\n",
    "from scipy.spatial import distance\n",
    "from scipy.spatial import cKDTree\n",
    "import math\n",
    "from numpy import cov\n",
    "\n",
    "import matplotlib.pyplot as plt\n",
    "import seaborn as sns\n",
    "sns.set(style = \"whitegrid\", palette = 'dark')\n",
    "\n",
    "from lifelines import KaplanMeierFitter\n",
    "from lifelines.utils import median_survival_times\n",
    "from lifelines.statistics import survival_difference_at_fixed_point_in_time_test\n",
    "from lifelines import CoxPHFitter\n",
    "from sklearn.preprocessing import StandardScaler\n",
    "\n",
    "import get_data\n",
    "import tackle_plot\n",
    "\n",
    "import warnings\n",
    "warnings.filterwarnings('ignore')\n",
    "%load_ext autoreload\n",
    "%autoreload 2\n",
    "\n",
    "pd.set_option('display.max_rows', None)\n",
    "pd.set_option('display.max_columns', None)\n",
    "pd.set_option('display.max_colwidth', None)"
   ]
  },
  {
   "cell_type": "code",
   "execution_count": 2,
   "id": "8e6219e9",
   "metadata": {},
   "outputs": [],
   "source": [
    "def plot(gameId, playId):\n",
    "    game = get_data.game(gameId)\n",
    "    play = get_data.play(gameId, playId)\n",
    "    tracking = get_data.tracking(gameId, playId).reset_index()\n",
    "    \n",
    "    date = game['gameDate'].item()\n",
    "    tacklers = get_data.tacklers(gameId, playId)\n",
    "    carrier = play['ballCarrierId'].item()\n",
    "    offense = play['possessionTeam'].item()\n",
    "    defense = play['defensiveTeam'].item()\n",
    "    down = play['down'].item()\n",
    "    yardstogo = play['yardsToGo'].item()\n",
    "    ablos = play['absoluteYardlineNumber'].item()    \n",
    "    \n",
    "    return tackle_plot.plot(tracking, date, tacklers, carrier, offense, defense, down, yardstogo, ablos)  "
   ]
  },
  {
   "cell_type": "code",
   "execution_count": 3,
   "id": "e5cb0f12",
   "metadata": {},
   "outputs": [],
   "source": [
    "games_all = pd.read_csv('../rawdata/games.csv')\n",
    "tackles_all = pd.read_csv('../rawdata/tackles.csv')\n",
    "players_all = pd.read_csv('../rawdata/players.csv')\n",
    "plays_all = pd.read_csv('../rawdata/plays.csv')"
   ]
  },
  {
   "cell_type": "code",
   "execution_count": 4,
   "id": "0a569106",
   "metadata": {},
   "outputs": [],
   "source": [
    "tracking_data = {}\n",
    "for i in range(9):\n",
    "    w = i + 1\n",
    "    tracking_data[w] = pd.read_csv(f'../rawdata/tracking_week_{w}.csv')"
   ]
  },
  {
   "cell_type": "markdown",
   "id": "fef3b337",
   "metadata": {},
   "source": [
    "### Prepare dataset"
   ]
  },
  {
   "cell_type": "markdown",
   "id": "181d2c65",
   "metadata": {},
   "source": [
    "Dataset 'plays_tackle' was generated in 'data_overview', merged from play data and tackle data, only including 'pass short' play, with certain abnormal data removed. "
   ]
  },
  {
   "cell_type": "code",
   "execution_count": 5,
   "id": "7b6b93a5",
   "metadata": {},
   "outputs": [],
   "source": [
    "plays_tackle = pd.read_csv('../newdata/plays_tackle.csv')"
   ]
  },
  {
   "cell_type": "code",
   "execution_count": 6,
   "id": "da0564a7",
   "metadata": {},
   "outputs": [
    {
     "data": {
      "text/plain": [
       "(6596, 42)"
      ]
     },
     "execution_count": 6,
     "metadata": {},
     "output_type": "execute_result"
    }
   ],
   "source": [
    "plays_tackle.shape"
   ]
  },
  {
   "cell_type": "markdown",
   "id": "f625d8bb",
   "metadata": {},
   "source": [
    "- Check the plays which have multiple recorded tacklers."
   ]
  },
  {
   "cell_type": "code",
   "execution_count": 7,
   "id": "c80030c2",
   "metadata": {},
   "outputs": [
    {
     "data": {
      "text/plain": [
       "(1572, 42)"
      ]
     },
     "execution_count": 7,
     "metadata": {},
     "output_type": "execute_result"
    }
   ],
   "source": [
    "plays_tackle[plays_tackle.duplicated(subset = ['gameId', 'playId'])].shape"
   ]
  },
  {
   "cell_type": "code",
   "execution_count": 8,
   "id": "1972106d",
   "metadata": {},
   "outputs": [],
   "source": [
    "duplicated_plays = plays_tackle[plays_tackle.duplicated(subset = ['gameId', 'playId'], keep = False)][\n",
    "    ['gameId', 'playId', 'nflId', 'tackle', 'assist', 'forcedFumble', 'pff_missedTackle']]"
   ]
  },
  {
   "cell_type": "code",
   "execution_count": 9,
   "id": "cff4547a",
   "metadata": {},
   "outputs": [
    {
     "data": {
      "text/plain": [
       "tackle  assist  forcedFumble  pff_missedTackle\n",
       "0.0     2.0     0.0           0.0                 420\n",
       "1.0     0.0     0.0           1.0                 391\n",
       "        1.0     0.0           0.0                 332\n",
       "0.0     2.0     0.0           1.0                  61\n",
       "1.0     1.0     0.0           1.0                  50\n",
       "        0.0     0.0           2.0                  46\n",
       "0.0     2.0     0.0           2.0                  16\n",
       "1.0     0.0     0.0           3.0                  10\n",
       "0.0     0.0     0.0           2.0                   9\n",
       "1.0     1.0     1.0           0.0                   8\n",
       "                0.0           2.0                   7\n",
       "0.0     2.0     1.0           0.0                   5\n",
       "1.0     0.0     1.0           1.0                   4\n",
       "        1.0     0.0           3.0                   2\n",
       "0.0     0.0     0.0           3.0                   1\n",
       "1.0     0.0     0.0           4.0                   1\n",
       "0.0     2.0     1.0           1.0                   1\n",
       "2.0     1.0     1.0           0.0                   1\n",
       "Name: count, dtype: int64"
      ]
     },
     "execution_count": 9,
     "metadata": {},
     "output_type": "execute_result"
    }
   ],
   "source": [
    "duplicated_plays.groupby(['gameId', 'playId'])[['tackle', 'assist', 'forcedFumble', 'pff_missedTackle']].sum().value_counts()"
   ]
  },
  {
   "cell_type": "markdown",
   "id": "2b14cd4e",
   "metadata": {},
   "source": [
    "Multiple tackler records have two main categories: 1 tackler + 1 assist/1 pff_missedTackle, 2 assist. \\\n",
    "To simplify the analysis, I'll keep the first recorded tackler for each play."
   ]
  },
  {
   "cell_type": "code",
   "execution_count": 10,
   "id": "a85063d1",
   "metadata": {},
   "outputs": [],
   "source": [
    "plays_tackle = plays_tackle.drop_duplicates(subset = ['gameId', 'playId'], keep = 'first').reset_index(drop = True)"
   ]
  },
  {
   "cell_type": "code",
   "execution_count": 11,
   "id": "70c72071",
   "metadata": {
    "scrolled": true
   },
   "outputs": [
    {
     "data": {
      "text/plain": [
       "(5024, 42)"
      ]
     },
     "execution_count": 11,
     "metadata": {},
     "output_type": "execute_result"
    }
   ],
   "source": [
    "plays_tackle.shape"
   ]
  },
  {
   "cell_type": "markdown",
   "id": "eae8d224",
   "metadata": {},
   "source": [
    "## Generate feature variables, target variable, and censoring variable"
   ]
  },
  {
   "cell_type": "markdown",
   "id": "9f36d832",
   "metadata": {},
   "source": [
    "### Introduction"
   ]
  },
  {
   "cell_type": "markdown",
   "id": "2623ffff",
   "metadata": {},
   "source": [
    "In this project, I'm applying the survival analysis method on the ball's survival duration from when it's caught in a pass to when it's 'dead'. Survival analysis was invented to analyze time-to-event data, specifically patients' survival during an observed period. Survival analysis methods are special for their abilities to deal with censored data --- for patients who were alive when the study ended, the minimum time they survived was known but the exact death time wouldn't be observed, those cases fall into one category of censored data.\n",
    "\n",
    "- **Target event**\n",
    "\n",
    "This analysis targets the occurrence of a dead ball caused by the defense team's tackling attempt/pressure, following a short pass completed by the offense team.\n",
    "\n",
    "- **Survival duration**\n",
    "\n",
    "It's not common to use survival analysis on distance-to-event data. I'd like to use this project as an experimental attempt by treating ball progress on the x-axis as the target variable. One concern is that this variable is not always increasing during the observed period like a time variable, which is typical for survival analysis. Given time, I'd like to further look into this difference and its meaning.\n",
    "\n",
    "- **Censored data**\n",
    "\n",
    "It makes sense to treat touchdown plays as right-censored data, as we know the minimum survival duration of the ball when the touchdown happens and the study (play) ends before we can observe the targeted event. However, how to treat out-of-bounds data is not so clear. Although some carriers were pushed out of bounds by the tackler which matches this analysis' purposes, some other carriers decided to step out for various reasons before the tackler got tightly close. The less pressure the carrier was under at the out-of-bounds moment, the more reasonable it was to treat the case as censored data. However, statistically the censoring data should be non-informative to avoid bias, which requires the reason for censoring is not related to the likelihood of the event occurring. No matter under which scenario the carrier decided to step out of bounds, the defense team's tackling attempts affected the decision. Therefore, in this analysis, I'm treating out-of-bounds data as targeted events instead of censored data."
   ]
  },
  {
   "cell_type": "markdown",
   "id": "2659a49c",
   "metadata": {},
   "source": [
    "### Feature variables\n",
    "\n",
    "Like many survival analyses that focus on the patient treatments/conditions at the start of the study, I generated features mainly based on the play conditions when the ball is caught as the result of a short pass. The features include:\n",
    "\n",
    "- **near_defender_MPD** \n",
    "\n",
    "'MPD (minimum possible distance)' - The minimum achievable distance between a defender and a carrier, calculated based on their current positions and velocities. A low value of MPD may indicate a good aim or good prediction from the defender, while a high value may indicate the carrier set himself free from the threat. The calculation equation is explained in 'calculate_minimum_distance'.\n",
    "'near defender' - The current primary defender near the ball carrier at the caught moment. To simplify the analysis, I choose one primary defender to calculate MPD from for each play. This approach is relevant in pass plays, where the receiver/carrier is often in a one-on-one matchup with their marker, thereby justifying choosing one defender to analyze. Note that given more time, there is space to improve this approach.\n",
    "To identify the primary defender, my first approach is to retrieve the tackler id from 'tackles' data. However, there is a risk of leaking later time information to the model which should analyze the caught moment, as the tackler id was recorded upon events that happened later. For example, if the recorded tackler is 20 yards away from the carrier at the caught moment, bringing in this data gives the model hidden information that the ball will likely survive the next few frames. In addition, the MPD of a tackler when he's 20 yards away from the carrier is not relevant.\n",
    "Therefore, I calculate the distance between both the recorded tackler and the nearest defender to the carrier at the caught moment. If the tackler is not the nearest defender and is 8 yards farther from the carrier than the nearest defender, I choose the nearest defender as the primary defender to calculate MPD from. 8 is an arbitrary choice.\n",
    "\n",
    "- **near_dist** \n",
    "\n",
    "'near_dist' - The distance between the carrier and the selected primary defender at the caught moment.\n",
    "\n",
    "- **leverage**\n",
    "\n",
    "'leverage' - Whether the primary defender has inner or outer leverage at the caught moment.\n",
    "\n",
    "- **caught_width**\n",
    "\n",
    "'caught_width' - The distance between the carrier to the sideline at the caught moment."
   ]
  },
  {
   "cell_type": "code",
   "execution_count": 12,
   "id": "48d1f652",
   "metadata": {},
   "outputs": [],
   "source": [
    "def standardize_tracking(tracking):\n",
    "    \"\"\"\n",
    "    Standardize data so all plays are seen as played from left to right\n",
    "\n",
    "    Parameters:\n",
    "    df1 (DataFrame): tracking data of one selected play.\n",
    "    Returns:\n",
    "    df1 (DataFrame): standardized tracking data of one selected play.\n",
    "    \"\"\"\n",
    "    tracking['x'] = 120-tracking['x']\n",
    "    tracking['y'] = 53.3-tracking['y']  \n",
    "    tracking['dir'] = (tracking['dir'] + 180) % 360\n",
    "    tracking['o'] = (tracking['o'] + 180) % 360\n",
    "    return tracking"
   ]
  },
  {
   "cell_type": "code",
   "execution_count": 13,
   "id": "a7b2ed9b",
   "metadata": {},
   "outputs": [],
   "source": [
    "def get_near_dist(target, points):\n",
    "    \"\"\"\n",
    "    Finds the nearest point from 'target' to a set of 'points'.\n",
    "\n",
    "    Parameters:\n",
    "    target (np.ndarray): A numpy array [x, y].\n",
    "    points (np.ndarray): A numpy array of points [[x1, y1], [x2, y2], ...].\n",
    "\n",
    "    Returns:\n",
    "    The distance to the nearest point and the index of that point in 'points'.\n",
    "    \"\"\"    \n",
    "    tree = cKDTree(points)\n",
    "    distance, index = tree.query(target)\n",
    "    return distance, index"
   ]
  },
  {
   "cell_type": "code",
   "execution_count": 14,
   "id": "b4756e08",
   "metadata": {},
   "outputs": [],
   "source": [
    "def speed_to_vector(s, diret):\n",
    "    \"\"\"\n",
    "    Converts speed and direction into a 2D velocity vector.\n",
    "\n",
    "    Parameters:\n",
    "    s (float): Speed.\n",
    "    diret (float): Direction in degrees (0-360).\n",
    "\n",
    "    Returns:\n",
    "    numpy.array: A 2D vector representing the speed and direction.\n",
    "    \"\"\"    \n",
    "    dir_radians = math.radians(diret)\n",
    "    theta = math.radians(90) - dir_radians\n",
    "\n",
    "    x = round(s * math.cos(theta),2)\n",
    "    y = round(s * math.sin(theta),2)\n",
    "    return np.array([x, y])"
   ]
  },
  {
   "cell_type": "code",
   "execution_count": 15,
   "id": "8d8015ef",
   "metadata": {},
   "outputs": [],
   "source": [
    "def calculate_MPD(df1, df2):\n",
    "    \"\"\"\n",
    "    Calculates the minimum distance between two moving objects, based on the initial positions and velocities \n",
    "    of the objects using data in df1 and df2.\n",
    "\n",
    "    Parameters:\n",
    "    df1 (DataFrame): A DataFrame containing 'x', 'y' (position coordinates), \n",
    "                     'dir' (direction), and 's' (speed) of the first object.\n",
    "    df2 (DataFrame): A DataFrame containing 'x', 'y' (position coordinates), \n",
    "                     'dir' (direction), and 's' (speed) of the second object.\n",
    "\n",
    "    Returns:\n",
    "    float: The Minimum Possible Distance (MPD) between the two objects.\n",
    "    \"\"\"\n",
    "    x_1, y_1, dir_1, s_1 = df1[['x', 'y', 'dir', 's']].iloc[0]\n",
    "    x_2, y_2, dir_2, s_2 = df2[['x', 'y', 'dir', 's']].iloc[0] \n",
    "    V1 = speed_to_vector(s_1, dir_1)\n",
    "    V2 = speed_to_vector(s_2, dir_2) \n",
    "    V_12 = V1-V2\n",
    "    \n",
    "    xy_1 = np.array([x_1, y_1])\n",
    "    xy_2 = np.array([x_2, y_2])\n",
    "    \n",
    "    cross_product = np.linalg.det(np.array([V_12, xy_1 - xy_2]))\n",
    "    V_12_abs = np.linalg.norm(V_12)\n",
    "    MPD = np.abs(cross_product) / V_12_abs    \n",
    "    \n",
    "    return MPD"
   ]
  },
  {
   "cell_type": "code",
   "execution_count": 16,
   "id": "a07a0b68",
   "metadata": {},
   "outputs": [
    {
     "name": "stdout",
     "output_type": "stream",
     "text": [
      "CPU times: total: 1min 30s\n",
      "Wall time: 55.5 s\n"
     ]
    }
   ],
   "source": [
    "%%time\n",
    "progress_data = []\n",
    "\n",
    "for idx, row in plays_tackle.iterrows():\n",
    "    gameId, playId = row['gameId'], row['playId']\n",
    "    game_week = games_all[games_all['gameId'] == gameId]['week'].item()\n",
    "    carrier = row['ballCarrierId']\n",
    "    offense = row['possessionTeam']\n",
    "    defense = row['defensiveTeam']\n",
    "   \n",
    "    tracking_w = tracking_data[game_week]\n",
    "    tracking = tracking_w[(tracking_w['gameId'] == gameId) & (tracking_w['playId'] == playId)].reset_index(drop = True)\n",
    "    if tracking.at[0, 'playDirection'] == 'left':\n",
    "        tracking = standardize_tracking(tracking)\n",
    "\n",
    "    # Get events and corresponding frameIds\n",
    "    events = tracking[['frameId', 'event']].dropna(subset=['event']).drop_duplicates().sort_values(by = 'frameId')\n",
    "    caught_frm = 6\n",
    "    # Note the special case\n",
    "    if gameId == 2022110608 and playId == 2351:\n",
    "        caught_frm = 32\n",
    "    lst_event = events.event.to_list()[-1]\n",
    "    lst_event_frm = events.frameId.to_list()[-1]    \n",
    "    \n",
    "    # Extract data when the ball is caught and when the play ends\n",
    "    caught_df = tracking[tracking['frameId'] == caught_frm]\n",
    "    lst_df = tracking[tracking['frameId'] == lst_event_frm]    \n",
    "    \n",
    "    carrier_caught_df = caught_df[caught_df['nflId'] == carrier]\n",
    "    carrier_caught_xy = carrier_caught_df[['x', 'y']].to_numpy()[0]\n",
    "    \n",
    "    # Calculate nearest defender distance to carrier    \n",
    "    defense_caught_df = caught_df[caught_df['club'] == defense].reset_index(drop = True)\n",
    "    defense_caught_xy = defense_caught_df[['x', 'y']].to_numpy()\n",
    "    \n",
    "    near_dist, index = get_near_dist(carrier_caught_xy, defense_caught_xy)\n",
    "    near_defender = defense_caught_df.iloc[index]['nflId']\n",
    "    \n",
    "    # If recorded tackler exists and tackler distance - nearest defender distance < 8, use tackler as primary\n",
    "    if not pd.isna(row['nflId']):    \n",
    "        tackler = row['nflId']\n",
    "        tackler_caught_df = caught_df[caught_df['nflId'] == tackler]\n",
    "        tackler_caught_xy = tackler_caught_df[['x', 'y']].to_numpy()[0]  \n",
    "        tackler_dist = math.dist(carrier_caught_xy, tackler_caught_xy)    \n",
    "        \n",
    "        if tackler_dist - near_dist < 8:\n",
    "            near_defender = tackler          \n",
    "\n",
    "    # Calculate MPD for the primary defender        \n",
    "    near_defender_caught_df = caught_df[caught_df['nflId'] == near_defender]\n",
    "    near_defender_caught_xy = near_defender_caught_df[['x', 'y']].to_numpy()[0]   \n",
    "    \n",
    "    near_defender_MPD = calculate_MPD(near_defender_caught_df, carrier_caught_df)\n",
    "\n",
    "    # Calculate the ball's forward progress from caught moment to end moment\n",
    "    ball_caught_x = caught_df[caught_df['displayName'] == 'football']['x'].item()\n",
    "    ball_lst_x = lst_df[lst_df['displayName'] == 'football']['x'].item()    \n",
    "    progress = ball_lst_x - ball_caught_x    \n",
    "    \n",
    "    # Get primary defender's leverage\n",
    "    if abs(26.65 - carrier_caught_xy[1]) < abs(26.65 - near_defender_caught_xy[1]):\n",
    "        leverage = 'outer'\n",
    "    elif abs(26.65 - carrier_caught_xy[1]) > abs(26.65 - near_defender_caught_xy[1]):\n",
    "        leverage = 'inner'     \n",
    "    else:\n",
    "        leverage = 'neither'\n",
    "     \n",
    "    # Get carrier's distance to sideline    \n",
    "    if carrier_caught_xy[1] <= 26.65:\n",
    "        caught_width = 26.65 - carrier_caught_xy[1]\n",
    "    else: \n",
    "        caught_width = 53.3 - carrier_caught_xy[1]\n",
    "    \n",
    "    progress_data.append({'gameId': gameId, 'playId': playId, 'progress': progress, 'lst_event': lst_event,\n",
    "                           'near_defender': near_defender, 'near_defender_MPD': near_defender_MPD,\n",
    "                           'near_dist': near_dist, 'leverage': leverage, 'caught_width': caught_width, \n",
    "                           'caught_x': ball_caught_x})  \n",
    "\n",
    "progress_df = pd.DataFrame(progress_data)"
   ]
  },
  {
   "cell_type": "code",
   "execution_count": 17,
   "id": "e23bcaf1",
   "metadata": {},
   "outputs": [
    {
     "data": {
      "text/plain": [
       "(5024, 10)"
      ]
     },
     "execution_count": 17,
     "metadata": {},
     "output_type": "execute_result"
    }
   ],
   "source": [
    "progress_df.shape"
   ]
  },
  {
   "cell_type": "code",
   "execution_count": 18,
   "id": "609b98df",
   "metadata": {},
   "outputs": [
    {
     "data": {
      "text/html": [
       "<div>\n",
       "<style scoped>\n",
       "    .dataframe tbody tr th:only-of-type {\n",
       "        vertical-align: middle;\n",
       "    }\n",
       "\n",
       "    .dataframe tbody tr th {\n",
       "        vertical-align: top;\n",
       "    }\n",
       "\n",
       "    .dataframe thead th {\n",
       "        text-align: right;\n",
       "    }\n",
       "</style>\n",
       "<table border=\"1\" class=\"dataframe\">\n",
       "  <thead>\n",
       "    <tr style=\"text-align: right;\">\n",
       "      <th></th>\n",
       "      <th>gameId</th>\n",
       "      <th>playId</th>\n",
       "      <th>progress</th>\n",
       "      <th>lst_event</th>\n",
       "      <th>near_defender</th>\n",
       "      <th>near_defender_MPD</th>\n",
       "      <th>near_dist</th>\n",
       "      <th>leverage</th>\n",
       "      <th>caught_width</th>\n",
       "      <th>caught_x</th>\n",
       "    </tr>\n",
       "  </thead>\n",
       "  <tbody>\n",
       "    <tr>\n",
       "      <th>0</th>\n",
       "      <td>2022100908</td>\n",
       "      <td>3537</td>\n",
       "      <td>2.340000</td>\n",
       "      <td>tackle</td>\n",
       "      <td>43306.0</td>\n",
       "      <td>0.318461</td>\n",
       "      <td>3.881714</td>\n",
       "      <td>inner</td>\n",
       "      <td>2.07</td>\n",
       "      <td>57.560001</td>\n",
       "    </tr>\n",
       "    <tr>\n",
       "      <th>1</th>\n",
       "      <td>2022091111</td>\n",
       "      <td>1148</td>\n",
       "      <td>2.779999</td>\n",
       "      <td>tackle</td>\n",
       "      <td>47843.0</td>\n",
       "      <td>0.831594</td>\n",
       "      <td>2.832137</td>\n",
       "      <td>outer</td>\n",
       "      <td>0.23</td>\n",
       "      <td>51.650002</td>\n",
       "    </tr>\n",
       "    <tr>\n",
       "      <th>2</th>\n",
       "      <td>2022103001</td>\n",
       "      <td>2165</td>\n",
       "      <td>9.760002</td>\n",
       "      <td>tackle</td>\n",
       "      <td>46205.0</td>\n",
       "      <td>3.444545</td>\n",
       "      <td>7.086353</td>\n",
       "      <td>inner</td>\n",
       "      <td>18.29</td>\n",
       "      <td>23.480000</td>\n",
       "    </tr>\n",
       "    <tr>\n",
       "      <th>3</th>\n",
       "      <td>2022092511</td>\n",
       "      <td>2903</td>\n",
       "      <td>6.030006</td>\n",
       "      <td>tackle</td>\n",
       "      <td>52527.0</td>\n",
       "      <td>2.751467</td>\n",
       "      <td>3.919005</td>\n",
       "      <td>inner</td>\n",
       "      <td>9.83</td>\n",
       "      <td>31.449997</td>\n",
       "    </tr>\n",
       "    <tr>\n",
       "      <th>4</th>\n",
       "      <td>2022091102</td>\n",
       "      <td>3336</td>\n",
       "      <td>0.739998</td>\n",
       "      <td>tackle</td>\n",
       "      <td>46077.0</td>\n",
       "      <td>0.735391</td>\n",
       "      <td>0.860930</td>\n",
       "      <td>inner</td>\n",
       "      <td>24.29</td>\n",
       "      <td>48.610001</td>\n",
       "    </tr>\n",
       "  </tbody>\n",
       "</table>\n",
       "</div>"
      ],
      "text/plain": [
       "       gameId  playId  progress lst_event  near_defender  near_defender_MPD  \\\n",
       "0  2022100908    3537  2.340000    tackle        43306.0           0.318461   \n",
       "1  2022091111    1148  2.779999    tackle        47843.0           0.831594   \n",
       "2  2022103001    2165  9.760002    tackle        46205.0           3.444545   \n",
       "3  2022092511    2903  6.030006    tackle        52527.0           2.751467   \n",
       "4  2022091102    3336  0.739998    tackle        46077.0           0.735391   \n",
       "\n",
       "   near_dist leverage  caught_width   caught_x  \n",
       "0   3.881714    inner          2.07  57.560001  \n",
       "1   2.832137    outer          0.23  51.650002  \n",
       "2   7.086353    inner         18.29  23.480000  \n",
       "3   3.919005    inner          9.83  31.449997  \n",
       "4   0.860930    inner         24.29  48.610001  "
      ]
     },
     "execution_count": 18,
     "metadata": {},
     "output_type": "execute_result"
    }
   ],
   "source": [
    "progress_df.head()"
   ]
  },
  {
   "cell_type": "markdown",
   "id": "9d2798f0",
   "metadata": {},
   "source": [
    "## Variable exploration and transformation"
   ]
  },
  {
   "cell_type": "markdown",
   "id": "0e9739f9",
   "metadata": {},
   "source": [
    "- Check distribution"
   ]
  },
  {
   "cell_type": "code",
   "execution_count": 19,
   "id": "e61e78d7",
   "metadata": {},
   "outputs": [
    {
     "data": {
      "text/plain": [
       "(-7.629997253417997, 72.9800033569331)"
      ]
     },
     "execution_count": 19,
     "metadata": {},
     "output_type": "execute_result"
    },
    {
     "data": {
      "image/png": "[encoded data removed]",
      "text/plain": [
       "<Figure size 800x400 with 1 Axes>"
      ]
     },
     "metadata": {},
     "output_type": "display_data"
    }
   ],
   "source": [
    "plt.figure(figsize=(8, 4))\n",
    "plt.hist(progress_df.progress, bins=100, density=True)\n",
    "plt.xlim(min(progress_df.progress), max(progress_df.progress))"
   ]
  },
  {
   "cell_type": "markdown",
   "id": "d80105e6",
   "metadata": {},
   "source": [
    "- Check negative progress"
   ]
  },
  {
   "cell_type": "code",
   "execution_count": 20,
   "id": "ff9f499c",
   "metadata": {},
   "outputs": [
    {
     "data": {
      "text/plain": [
       "(682, 10)"
      ]
     },
     "execution_count": 20,
     "metadata": {},
     "output_type": "execute_result"
    }
   ],
   "source": [
    "progress_df[progress_df['progress'] < 0].shape"
   ]
  },
  {
   "cell_type": "code",
   "execution_count": 21,
   "id": "8d76b9e7",
   "metadata": {},
   "outputs": [
    {
     "data": {
      "text/plain": [
       "(-7.629997253417997, 1.9899997711181072)"
      ]
     },
     "execution_count": 21,
     "metadata": {},
     "output_type": "execute_result"
    },
    {
     "data": {
      "image/png": "[encoded data removed]",
      "text/plain": [
       "<Figure size 800x400 with 1 Axes>"
      ]
     },
     "metadata": {},
     "output_type": "display_data"
    }
   ],
   "source": [
    "plt.figure(figsize=(8, 4))\n",
    "plt.hist(progress_df[progress_df['progress'] < 2].progress, bins=100, density=True)\n",
    "plt.xlim(min(progress_df[progress_df['progress'] < 2].progress), max(progress_df[progress_df['progress'] < 2].progress))"
   ]
  },
  {
   "cell_type": "markdown",
   "id": "0c80ea39",
   "metadata": {},
   "source": [
    "- concordance and transforming data\n",
    "\n",
    "The most frequently used evaluation metric of survival models is the concordance index, which is defined as the ratio of correctly ordered (concordant) pairs to comparable pairs. Therefore, I'll transform the data with small values (including all the negative values) into a range between 0 and 1 while keeping their original order."
   ]
  },
  {
   "cell_type": "code",
   "execution_count": 129,
   "id": "677c1eae",
   "metadata": {},
   "outputs": [],
   "source": [
    "progress_df2 = progress_df.copy()"
   ]
  },
  {
   "cell_type": "code",
   "execution_count": 117,
   "id": "12d39586",
   "metadata": {},
   "outputs": [],
   "source": [
    "def scale_value(v, left_0, right_0, left_1, right_1):\n",
    "    '''\n",
    "    Scales a value from range [left_0, right_0] and to a new range [left_1, right_1].\n",
    "    '''\n",
    "    return left_1 + ((v - left_0) * (right_1 - left_1)) / (right_0 -left_0)"
   ]
  },
  {
   "cell_type": "code",
   "execution_count": 130,
   "id": "22192911",
   "metadata": {},
   "outputs": [],
   "source": [
    "# Scale value between (0,0.8) to (0.5,0.8)\n",
    "progress_df2['progress'] = progress_df2['progress'].apply(\n",
    "    lambda x: scale_value(x, 0, 0.8, 0.5, 0.8) if x >=0 and x< 0.8 else x)"
   ]
  },
  {
   "cell_type": "code",
   "execution_count": 131,
   "id": "b483bd03",
   "metadata": {},
   "outputs": [],
   "source": [
    "# reassign value < 0\n",
    "progress_df2['progress'] = progress_df2['progress'].apply(lambda x: 0.1 if x < -1 else x)\n",
    "progress_df2['progress'] = progress_df2['progress'].apply(lambda x: 0.2 if x < -0.3 else x)\n",
    "progress_df2['progress'] = progress_df2['progress'].apply(lambda x: 0.4 if x < 0 else x)"
   ]
  },
  {
   "cell_type": "code",
   "execution_count": 132,
   "id": "e86f9200",
   "metadata": {},
   "outputs": [
    {
     "data": {
      "text/plain": [
       "Text(0.5, 1.0, 'Histogram')"
      ]
     },
     "execution_count": 132,
     "metadata": {},
     "output_type": "execute_result"
    },
    {
     "data": {
      "image/png": "[encoded data removed]",
      "text/plain": [
       "<Figure size 800x400 with 1 Axes>"
      ]
     },
     "metadata": {},
     "output_type": "display_data"
    }
   ],
   "source": [
    "plt.figure(figsize=(8, 4))\n",
    "plt.hist(progress_df2[progress_df2['progress'] < 2].progress, bins=50, density=True)\n",
    "plt.xlim(0, max(progress_df2[progress_df2['progress'] < 2].progress))\n",
    "plt.title('Histogram')"
   ]
  },
  {
   "cell_type": "code",
   "execution_count": 82,
   "id": "5a3de1ad",
   "metadata": {},
   "outputs": [
    {
     "data": {
      "image/png": "[encoded data removed]",
      "text/plain": [
       "<Figure size 1200x600 with 2 Axes>"
      ]
     },
     "metadata": {},
     "output_type": "display_data"
    }
   ],
   "source": [
    "# Check distribution of all progress value\n",
    "plt.figure(figsize=(12, 6))\n",
    "plt.subplot(2, 1, 1)\n",
    "plt.hist(progress_df2.progress, bins=100, density=True)\n",
    "plt.xlim(0, max(progress_df2.progress))\n",
    "plt.title('Histogram')\n",
    "\n",
    "plt.subplot(2, 1, 2)\n",
    "sorted_data = np.sort(progress_df2.progress)\n",
    "survival = np.log(1 - np.arange(1, len(progress_df2.progress) + 1) / len(progress_df2.progress))\n",
    "plt.plot(sorted_data, survival, 'o')\n",
    "plt.title('Log-Survival Plot')\n",
    "plt.xlim(0, max(progress_df2.progress))\n",
    "plt.tight_layout()\n",
    "plt.show()"
   ]
  },
  {
   "cell_type": "markdown",
   "id": "37e73d47",
   "metadata": {},
   "source": [
    "The straight line indicates the progress value is close to an exponential distribution."
   ]
  },
  {
   "cell_type": "code",
   "execution_count": 83,
   "id": "53314898",
   "metadata": {},
   "outputs": [
    {
     "data": {
      "text/plain": [
       "lst_event\n",
       "tackle                      3761\n",
       "out_of_bounds               1091\n",
       "touchdown                    123\n",
       "fumble                        45\n",
       "fumble_defense_recovered       2\n",
       "pass_outcome_caught            1\n",
       "first_contact                  1\n",
       "Name: count, dtype: int64"
      ]
     },
     "execution_count": 83,
     "metadata": {},
     "output_type": "execute_result"
    }
   ],
   "source": [
    "progress_df2['lst_event'].value_counts()"
   ]
  },
  {
   "cell_type": "code",
   "execution_count": 84,
   "id": "4097110e",
   "metadata": {},
   "outputs": [],
   "source": [
    "# Only touchdowns are treated as censored data\n",
    "progress_df2['lst_event'] = progress_df2['lst_event'].apply(lambda x: 0 if x == 'touchdown' else 1)"
   ]
  },
  {
   "cell_type": "code",
   "execution_count": 85,
   "id": "07102958",
   "metadata": {},
   "outputs": [
    {
     "data": {
      "text/plain": [
       "leverage\n",
       "inner      3215\n",
       "outer      1794\n",
       "neither      15\n",
       "Name: count, dtype: int64"
      ]
     },
     "execution_count": 85,
     "metadata": {},
     "output_type": "execute_result"
    }
   ],
   "source": [
    "progress_df2['leverage'].value_counts()"
   ]
  },
  {
   "cell_type": "code",
   "execution_count": 86,
   "id": "e69a189d",
   "metadata": {},
   "outputs": [],
   "source": [
    "# only 15 plays have both plays share the same y value, they are merged into 'outer category'\n",
    "progress_df2['leverage'] = progress_df2['leverage'].apply(lambda x: 0 if x == 'inner' else 1)"
   ]
  },
  {
   "cell_type": "code",
   "execution_count": 87,
   "id": "f19c8b99",
   "metadata": {},
   "outputs": [
    {
     "data": {
      "text/html": [
       "<div>\n",
       "<style scoped>\n",
       "    .dataframe tbody tr th:only-of-type {\n",
       "        vertical-align: middle;\n",
       "    }\n",
       "\n",
       "    .dataframe tbody tr th {\n",
       "        vertical-align: top;\n",
       "    }\n",
       "\n",
       "    .dataframe thead th {\n",
       "        text-align: right;\n",
       "    }\n",
       "</style>\n",
       "<table border=\"1\" class=\"dataframe\">\n",
       "  <thead>\n",
       "    <tr style=\"text-align: right;\">\n",
       "      <th></th>\n",
       "      <th>gameId</th>\n",
       "      <th>playId</th>\n",
       "      <th>progress</th>\n",
       "      <th>lst_event</th>\n",
       "      <th>near_defender</th>\n",
       "      <th>near_defender_MPD</th>\n",
       "      <th>near_dist</th>\n",
       "      <th>leverage</th>\n",
       "      <th>caught_width</th>\n",
       "      <th>caught_x</th>\n",
       "    </tr>\n",
       "  </thead>\n",
       "  <tbody>\n",
       "    <tr>\n",
       "      <th>0</th>\n",
       "      <td>2022100908</td>\n",
       "      <td>3537</td>\n",
       "      <td>2.340000</td>\n",
       "      <td>1</td>\n",
       "      <td>43306.0</td>\n",
       "      <td>0.318461</td>\n",
       "      <td>3.881714</td>\n",
       "      <td>0</td>\n",
       "      <td>2.07</td>\n",
       "      <td>57.560001</td>\n",
       "    </tr>\n",
       "    <tr>\n",
       "      <th>1</th>\n",
       "      <td>2022091111</td>\n",
       "      <td>1148</td>\n",
       "      <td>2.779999</td>\n",
       "      <td>1</td>\n",
       "      <td>47843.0</td>\n",
       "      <td>0.831594</td>\n",
       "      <td>2.832137</td>\n",
       "      <td>1</td>\n",
       "      <td>0.23</td>\n",
       "      <td>51.650002</td>\n",
       "    </tr>\n",
       "    <tr>\n",
       "      <th>2</th>\n",
       "      <td>2022103001</td>\n",
       "      <td>2165</td>\n",
       "      <td>9.760002</td>\n",
       "      <td>1</td>\n",
       "      <td>46205.0</td>\n",
       "      <td>3.444545</td>\n",
       "      <td>7.086353</td>\n",
       "      <td>0</td>\n",
       "      <td>18.29</td>\n",
       "      <td>23.480000</td>\n",
       "    </tr>\n",
       "    <tr>\n",
       "      <th>3</th>\n",
       "      <td>2022092511</td>\n",
       "      <td>2903</td>\n",
       "      <td>6.030006</td>\n",
       "      <td>1</td>\n",
       "      <td>52527.0</td>\n",
       "      <td>2.751467</td>\n",
       "      <td>3.919005</td>\n",
       "      <td>0</td>\n",
       "      <td>9.83</td>\n",
       "      <td>31.449997</td>\n",
       "    </tr>\n",
       "    <tr>\n",
       "      <th>4</th>\n",
       "      <td>2022091102</td>\n",
       "      <td>3336</td>\n",
       "      <td>0.777499</td>\n",
       "      <td>1</td>\n",
       "      <td>46077.0</td>\n",
       "      <td>0.735391</td>\n",
       "      <td>0.860930</td>\n",
       "      <td>0</td>\n",
       "      <td>24.29</td>\n",
       "      <td>48.610001</td>\n",
       "    </tr>\n",
       "  </tbody>\n",
       "</table>\n",
       "</div>"
      ],
      "text/plain": [
       "       gameId  playId  progress  lst_event  near_defender  near_defender_MPD  \\\n",
       "0  2022100908    3537  2.340000          1        43306.0           0.318461   \n",
       "1  2022091111    1148  2.779999          1        47843.0           0.831594   \n",
       "2  2022103001    2165  9.760002          1        46205.0           3.444545   \n",
       "3  2022092511    2903  6.030006          1        52527.0           2.751467   \n",
       "4  2022091102    3336  0.777499          1        46077.0           0.735391   \n",
       "\n",
       "   near_dist  leverage  caught_width   caught_x  \n",
       "0   3.881714         0          2.07  57.560001  \n",
       "1   2.832137         1          0.23  51.650002  \n",
       "2   7.086353         0         18.29  23.480000  \n",
       "3   3.919005         0          9.83  31.449997  \n",
       "4   0.860930         0         24.29  48.610001  "
      ]
     },
     "execution_count": 87,
     "metadata": {},
     "output_type": "execute_result"
    }
   ],
   "source": [
    "progress_df2.head()"
   ]
  },
  {
   "cell_type": "code",
   "execution_count": 88,
   "id": "b13d5025",
   "metadata": {},
   "outputs": [
    {
     "data": {
      "text/html": [
       "<div>\n",
       "<style scoped>\n",
       "    .dataframe tbody tr th:only-of-type {\n",
       "        vertical-align: middle;\n",
       "    }\n",
       "\n",
       "    .dataframe tbody tr th {\n",
       "        vertical-align: top;\n",
       "    }\n",
       "\n",
       "    .dataframe thead th {\n",
       "        text-align: right;\n",
       "    }\n",
       "</style>\n",
       "<table border=\"1\" class=\"dataframe\">\n",
       "  <thead>\n",
       "    <tr style=\"text-align: right;\">\n",
       "      <th></th>\n",
       "      <th>progress</th>\n",
       "      <th>near_defender_MPD</th>\n",
       "      <th>near_dist</th>\n",
       "      <th>caught_width</th>\n",
       "    </tr>\n",
       "  </thead>\n",
       "  <tbody>\n",
       "    <tr>\n",
       "      <th>progress</th>\n",
       "      <td>40.295443</td>\n",
       "      <td>5.442841</td>\n",
       "      <td>6.683952</td>\n",
       "      <td>-0.260789</td>\n",
       "    </tr>\n",
       "    <tr>\n",
       "      <th>near_defender_MPD</th>\n",
       "      <td>5.442841</td>\n",
       "      <td>4.156261</td>\n",
       "      <td>2.567403</td>\n",
       "      <td>-0.290284</td>\n",
       "    </tr>\n",
       "    <tr>\n",
       "      <th>near_dist</th>\n",
       "      <td>6.683952</td>\n",
       "      <td>2.567403</td>\n",
       "      <td>6.052818</td>\n",
       "      <td>-0.101130</td>\n",
       "    </tr>\n",
       "    <tr>\n",
       "      <th>caught_width</th>\n",
       "      <td>-0.260789</td>\n",
       "      <td>-0.290284</td>\n",
       "      <td>-0.101130</td>\n",
       "      <td>46.993859</td>\n",
       "    </tr>\n",
       "  </tbody>\n",
       "</table>\n",
       "</div>"
      ],
      "text/plain": [
       "                    progress  near_defender_MPD  near_dist  caught_width\n",
       "progress           40.295443           5.442841   6.683952     -0.260789\n",
       "near_defender_MPD   5.442841           4.156261   2.567403     -0.290284\n",
       "near_dist           6.683952           2.567403   6.052818     -0.101130\n",
       "caught_width       -0.260789          -0.290284  -0.101130     46.993859"
      ]
     },
     "execution_count": 88,
     "metadata": {},
     "output_type": "execute_result"
    }
   ],
   "source": [
    "progress_df2[['progress', 'near_defender_MPD', 'near_dist', 'caught_width']].cov()"
   ]
  },
  {
   "cell_type": "code",
   "execution_count": 89,
   "id": "04cd5010",
   "metadata": {},
   "outputs": [],
   "source": [
    "# Save dataset for the second model\n",
    "# progress_df2.to_csv('../newdata/progress_df2.csv', index = False)"
   ]
  },
  {
   "cell_type": "code",
   "execution_count": 90,
   "id": "e2a90678",
   "metadata": {},
   "outputs": [],
   "source": [
    "model_df = progress_df2[['progress', 'lst_event', 'near_defender_MPD', 'near_dist', 'caught_width', 'leverage']]"
   ]
  },
  {
   "cell_type": "code",
   "execution_count": 91,
   "id": "70bd8507",
   "metadata": {},
   "outputs": [
    {
     "data": {
      "image/png": "[encoded data removed]",
      "text/plain": [
       "<Figure size 1200x400 with 1 Axes>"
      ]
     },
     "metadata": {},
     "output_type": "display_data"
    }
   ],
   "source": [
    "# View basic fitting\n",
    "kmf = KaplanMeierFitter(label='progress')\n",
    "kmf = kmf.fit(durations=model_df['progress'], event_observed=model_df['lst_event'])\n",
    "kmf.plot(figsize=(12, 4))\n",
    "plt.show()"
   ]
  },
  {
   "cell_type": "code",
   "execution_count": 92,
   "id": "5a94efd1",
   "metadata": {},
   "outputs": [
    {
     "data": {
      "text/html": [
       "<div>\n",
       "<style scoped>\n",
       "    .dataframe tbody tr th:only-of-type {\n",
       "        vertical-align: middle;\n",
       "    }\n",
       "\n",
       "    .dataframe tbody tr th {\n",
       "        vertical-align: top;\n",
       "    }\n",
       "\n",
       "    .dataframe thead th {\n",
       "        text-align: right;\n",
       "    }\n",
       "</style>\n",
       "<table border=\"1\" class=\"dataframe\">\n",
       "  <thead>\n",
       "    <tr style=\"text-align: right;\">\n",
       "      <th></th>\n",
       "      <th>progress_lower_0.95</th>\n",
       "      <th>progress_upper_0.95</th>\n",
       "    </tr>\n",
       "  </thead>\n",
       "  <tbody>\n",
       "    <tr>\n",
       "      <th>0.5</th>\n",
       "      <td>3.419998</td>\n",
       "      <td>3.789997</td>\n",
       "    </tr>\n",
       "  </tbody>\n",
       "</table>\n",
       "</div>"
      ],
      "text/plain": [
       "     progress_lower_0.95  progress_upper_0.95\n",
       "0.5             3.419998             3.789997"
      ]
     },
     "execution_count": 92,
     "metadata": {},
     "output_type": "execute_result"
    }
   ],
   "source": [
    "median = kmf.median_survival_time_\n",
    "median_confidence_interval_ = median_survival_times(kmf.confidence_interval_)\n",
    "median_confidence_interval_"
   ]
  },
  {
   "cell_type": "markdown",
   "id": "cb26dae8",
   "metadata": {},
   "source": [
    "- Check if 'leverage' has influence on target variable"
   ]
  },
  {
   "cell_type": "code",
   "execution_count": 93,
   "id": "2e952ec7",
   "metadata": {},
   "outputs": [],
   "source": [
    "outer_leverage = model_df[model_df['leverage'] == 1]\n",
    "inner_leverage = model_df[model_df['leverage'] == 0]"
   ]
  },
  {
   "cell_type": "code",
   "execution_count": 94,
   "id": "59a8c340",
   "metadata": {},
   "outputs": [
    {
     "data": {
      "image/png": "[encoded data removed]",
      "text/plain": [
       "<Figure size 1200x400 with 1 Axes>"
      ]
     },
     "metadata": {},
     "output_type": "display_data"
    }
   ],
   "source": [
    "kmf_outer_leverage = KaplanMeierFitter(label='Outer').fit(\n",
    "    durations=outer_leverage['progress'], event_observed=outer_leverage['lst_event'])\n",
    "kmf_inner_leverage = KaplanMeierFitter(label='Inner').fit(\n",
    "    durations=inner_leverage['progress'], event_observed=inner_leverage['lst_event'])\n",
    "\n",
    "kmf_outer_leverage.plot(figsize=(12, 4))\n",
    "kmf_inner_leverage.plot(figsize=(12, 4))\n",
    "\n",
    "plt.show()"
   ]
  },
  {
   "cell_type": "code",
   "execution_count": 95,
   "id": "5956b731",
   "metadata": {},
   "outputs": [
    {
     "name": "stdout",
     "output_type": "stream",
     "text": [
      "Chi-squared(1) Test statistic=16.09041921360733 p-value=6.0388778629879436e-05\n"
     ]
    }
   ],
   "source": [
    "target_progress = 5\n",
    "results = survival_difference_at_fixed_point_in_time_test(\n",
    "    point_in_time=target_progress, fitterA = kmf_outer_leverage, fitterB = kmf_inner_leverage)\n",
    "print('Chi-squared(1) Test statistic='+str(results.test_statistic) + ' p-value='+str(results.p_value))"
   ]
  },
  {
   "cell_type": "code",
   "execution_count": 96,
   "id": "9b865d9c",
   "metadata": {},
   "outputs": [
    {
     "name": "stdout",
     "output_type": "stream",
     "text": [
      "Chi-squared(1) Test statistic=1.1664181712529813 p-value=0.2801384340118722\n"
     ]
    }
   ],
   "source": [
    "target_progress = 20\n",
    "results = survival_difference_at_fixed_point_in_time_test(\n",
    "    point_in_time=target_progress, fitterA = kmf_outer_leverage, fitterB = kmf_inner_leverage)\n",
    "print('Chi-squared(1) Test statistic='+str(results.test_statistic) + ' p-value='+str(results.p_value))"
   ]
  },
  {
   "cell_type": "markdown",
   "id": "04932ae7",
   "metadata": {},
   "source": [
    "The tests above suggest that between the two leverage groups, there is a significant difference in their probabilities of survial at progress = 5, but there isn't a significant difference in their probabilities of survial at progress = 20."
   ]
  },
  {
   "cell_type": "markdown",
   "id": "f2b8598a",
   "metadata": {},
   "source": [
    "## Fit Cox Proportional Hazards Model "
   ]
  },
  {
   "cell_type": "code",
   "execution_count": 97,
   "id": "b20ebbbe",
   "metadata": {},
   "outputs": [],
   "source": [
    "mask = np.random.rand(len(model_df)) < 0.8\n",
    "df_train = model_df[mask]\n",
    "df_test = model_df[~mask]"
   ]
  },
  {
   "cell_type": "code",
   "execution_count": 98,
   "id": "d71e74d0",
   "metadata": {},
   "outputs": [
    {
     "data": {
      "text/html": [
       "<div>\n",
       "<style scoped>\n",
       "    .dataframe tbody tr th:only-of-type {\n",
       "        vertical-align: middle;\n",
       "    }\n",
       "\n",
       "    .dataframe tbody tr th {\n",
       "        vertical-align: top;\n",
       "    }\n",
       "\n",
       "    .dataframe thead th {\n",
       "        text-align: right;\n",
       "    }\n",
       "</style>\n",
       "<table border=\"1\" class=\"dataframe\">\n",
       "  <tbody>\n",
       "    <tr>\n",
       "      <th>model</th>\n",
       "      <td>lifelines.CoxPHFitter</td>\n",
       "    </tr>\n",
       "    <tr>\n",
       "      <th>duration col</th>\n",
       "      <td>'progress'</td>\n",
       "    </tr>\n",
       "    <tr>\n",
       "      <th>event col</th>\n",
       "      <td>'lst_event'</td>\n",
       "    </tr>\n",
       "    <tr>\n",
       "      <th>baseline estimation</th>\n",
       "      <td>breslow</td>\n",
       "    </tr>\n",
       "    <tr>\n",
       "      <th>number of observations</th>\n",
       "      <td>3997</td>\n",
       "    </tr>\n",
       "    <tr>\n",
       "      <th>number of events observed</th>\n",
       "      <td>3905</td>\n",
       "    </tr>\n",
       "    <tr>\n",
       "      <th>partial log-likelihood</th>\n",
       "      <td>-27998.65</td>\n",
       "    </tr>\n",
       "    <tr>\n",
       "      <th>time fit was run</th>\n",
       "      <td>2024-01-05 19:44:31 UTC</td>\n",
       "    </tr>\n",
       "  </tbody>\n",
       "</table>\n",
       "</div><table border=\"1\" class=\"dataframe\">\n",
       "  <thead>\n",
       "    <tr style=\"text-align: right;\">\n",
       "      <th style=\"min-width: 12px;\"></th>\n",
       "      <th style=\"min-width: 12px;\">coef</th>\n",
       "      <th style=\"min-width: 12px;\">exp(coef)</th>\n",
       "      <th style=\"min-width: 12px;\">se(coef)</th>\n",
       "      <th style=\"min-width: 12px;\">coef lower 95%</th>\n",
       "      <th style=\"min-width: 12px;\">coef upper 95%</th>\n",
       "      <th style=\"min-width: 12px;\">exp(coef) lower 95%</th>\n",
       "      <th style=\"min-width: 12px;\">exp(coef) upper 95%</th>\n",
       "      <th style=\"min-width: 12px;\">cmp to</th>\n",
       "      <th style=\"min-width: 12px;\">z</th>\n",
       "      <th style=\"min-width: 12px;\">p</th>\n",
       "      <th style=\"min-width: 12px;\">-log2(p)</th>\n",
       "    </tr>\n",
       "  </thead>\n",
       "  <tbody>\n",
       "    <tr>\n",
       "      <th>near_defender_MPD</th>\n",
       "      <td>-0.15</td>\n",
       "      <td>0.86</td>\n",
       "      <td>0.01</td>\n",
       "      <td>-0.17</td>\n",
       "      <td>-0.13</td>\n",
       "      <td>0.84</td>\n",
       "      <td>0.88</td>\n",
       "      <td>0.00</td>\n",
       "      <td>-14.41</td>\n",
       "      <td>&lt;0.005</td>\n",
       "      <td>153.94</td>\n",
       "    </tr>\n",
       "    <tr>\n",
       "      <th>near_dist</th>\n",
       "      <td>-0.16</td>\n",
       "      <td>0.85</td>\n",
       "      <td>0.01</td>\n",
       "      <td>-0.18</td>\n",
       "      <td>-0.14</td>\n",
       "      <td>0.84</td>\n",
       "      <td>0.87</td>\n",
       "      <td>0.00</td>\n",
       "      <td>-19.18</td>\n",
       "      <td>&lt;0.005</td>\n",
       "      <td>270.06</td>\n",
       "    </tr>\n",
       "    <tr>\n",
       "      <th>caught_width</th>\n",
       "      <td>-0.00</td>\n",
       "      <td>1.00</td>\n",
       "      <td>0.00</td>\n",
       "      <td>-0.01</td>\n",
       "      <td>0.00</td>\n",
       "      <td>0.99</td>\n",
       "      <td>1.00</td>\n",
       "      <td>0.00</td>\n",
       "      <td>-0.80</td>\n",
       "      <td>0.42</td>\n",
       "      <td>1.24</td>\n",
       "    </tr>\n",
       "    <tr>\n",
       "      <th>leverage</th>\n",
       "      <td>0.01</td>\n",
       "      <td>1.01</td>\n",
       "      <td>0.03</td>\n",
       "      <td>-0.06</td>\n",
       "      <td>0.08</td>\n",
       "      <td>0.95</td>\n",
       "      <td>1.08</td>\n",
       "      <td>0.00</td>\n",
       "      <td>0.30</td>\n",
       "      <td>0.77</td>\n",
       "      <td>0.39</td>\n",
       "    </tr>\n",
       "  </tbody>\n",
       "</table><br><div>\n",
       "<style scoped>\n",
       "    .dataframe tbody tr th:only-of-type {\n",
       "        vertical-align: middle;\n",
       "    }\n",
       "\n",
       "    .dataframe tbody tr th {\n",
       "        vertical-align: top;\n",
       "    }\n",
       "\n",
       "    .dataframe thead th {\n",
       "        text-align: right;\n",
       "    }\n",
       "</style>\n",
       "<table border=\"1\" class=\"dataframe\">\n",
       "  <tbody>\n",
       "    <tr>\n",
       "      <th>Concordance</th>\n",
       "      <td>0.74</td>\n",
       "    </tr>\n",
       "    <tr>\n",
       "      <th>Partial AIC</th>\n",
       "      <td>56005.29</td>\n",
       "    </tr>\n",
       "    <tr>\n",
       "      <th>log-likelihood ratio test</th>\n",
       "      <td>1116.67 on 4 df</td>\n",
       "    </tr>\n",
       "    <tr>\n",
       "      <th>-log2(p) of ll-ratio test</th>\n",
       "      <td>796.38</td>\n",
       "    </tr>\n",
       "  </tbody>\n",
       "</table>\n",
       "</div>"
      ],
      "text/latex": [
       "\\begin{tabular}{lrrrrrrrrrrr}\n",
       " & coef & exp(coef) & se(coef) & coef lower 95% & coef upper 95% & exp(coef) lower 95% & exp(coef) upper 95% & cmp to & z & p & -log2(p) \\\\\n",
       "covariate &  &  &  &  &  &  &  &  &  &  &  \\\\\n",
       "near_defender_MPD & -0.15 & 0.86 & 0.01 & -0.17 & -0.13 & 0.84 & 0.88 & 0.00 & -14.41 & 0.00 & 153.94 \\\\\n",
       "near_dist & -0.16 & 0.85 & 0.01 & -0.18 & -0.14 & 0.84 & 0.87 & 0.00 & -19.18 & 0.00 & 270.06 \\\\\n",
       "caught_width & -0.00 & 1.00 & 0.00 & -0.01 & 0.00 & 0.99 & 1.00 & 0.00 & -0.80 & 0.42 & 1.24 \\\\\n",
       "leverage & 0.01 & 1.01 & 0.03 & -0.06 & 0.08 & 0.95 & 1.08 & 0.00 & 0.30 & 0.77 & 0.39 \\\\\n",
       "\\end{tabular}\n"
      ],
      "text/plain": [
       "<lifelines.CoxPHFitter: fitted with 3997 total observations, 92 right-censored observations>\n",
       "             duration col = 'progress'\n",
       "                event col = 'lst_event'\n",
       "      baseline estimation = breslow\n",
       "   number of observations = 3997\n",
       "number of events observed = 3905\n",
       "   partial log-likelihood = -27998.65\n",
       "         time fit was run = 2024-01-05 19:44:31 UTC\n",
       "\n",
       "---\n",
       "                    coef  exp(coef)   se(coef)   coef lower 95%   coef upper 95%  exp(coef) lower 95%  exp(coef) upper 95%\n",
       "covariate                                                                                                                 \n",
       "near_defender_MPD  -0.15       0.86       0.01            -0.17            -0.13                 0.84                 0.88\n",
       "near_dist          -0.16       0.85       0.01            -0.18            -0.14                 0.84                 0.87\n",
       "caught_width       -0.00       1.00       0.00            -0.01             0.00                 0.99                 1.00\n",
       "leverage            0.01       1.01       0.03            -0.06             0.08                 0.95                 1.08\n",
       "\n",
       "                    cmp to      z      p   -log2(p)\n",
       "covariate                                          \n",
       "near_defender_MPD     0.00 -14.41 <0.005     153.94\n",
       "near_dist             0.00 -19.18 <0.005     270.06\n",
       "caught_width          0.00  -0.80   0.42       1.24\n",
       "leverage              0.00   0.30   0.77       0.39\n",
       "---\n",
       "Concordance = 0.74\n",
       "Partial AIC = 56005.29\n",
       "log-likelihood ratio test = 1116.67 on 4 df\n",
       "-log2(p) of ll-ratio test = 796.38"
      ]
     },
     "metadata": {},
     "output_type": "display_data"
    }
   ],
   "source": [
    "cph_model = CoxPHFitter()\n",
    "cph_model.fit(df=df_train, duration_col='progress', event_col='lst_event')\n",
    "cph_model.print_summary()"
   ]
  },
  {
   "cell_type": "markdown",
   "id": "feea8c22",
   "metadata": {},
   "source": [
    "The model summary suggests that:\n",
    "    \n",
    "- Indicated by high '-log2(p)' value and low p-value, both 'near_defender_MPD' and 'near_dist' have a significant negative impact on the hazard (occurrence of a dead ball). Negative coef indicates that as the values of these two increase, the likelihood of the event happening decreases.   \n",
    "\n",
    "- Leverage and caught_width do not show a statistically significant effect.\n",
    "\n",
    "- The concordance index of 0.74 suggests the model has good yet not perfect predictive power. \n",
    "\n",
    "- the high overall -log2(p) suggests the overall model is statistically significant."
   ]
  },
  {
   "cell_type": "code",
   "execution_count": 99,
   "id": "f7826b86",
   "metadata": {},
   "outputs": [
    {
     "data": {
      "text/plain": [
       "<Axes: xlabel='log(HR) (95% CI)'>"
      ]
     },
     "execution_count": 99,
     "metadata": {},
     "output_type": "execute_result"
    },
    {
     "data": {
      "image/png": "[encoded data removed]",
      "text/plain": [
       "<Figure size 640x480 with 1 Axes>"
      ]
     },
     "metadata": {},
     "output_type": "display_data"
    }
   ],
   "source": [
    "cph_model.plot()"
   ]
  },
  {
   "cell_type": "markdown",
   "id": "52104130",
   "metadata": {},
   "source": [
    "- Check variable effects on survival curve"
   ]
  },
  {
   "cell_type": "code",
   "execution_count": 100,
   "id": "2b137052",
   "metadata": {},
   "outputs": [],
   "source": [
    "quartiles = model_df[['near_defender_MPD', 'near_dist', 'caught_width']].quantile([0.25, 0.50, 0.75])"
   ]
  },
  {
   "cell_type": "code",
   "execution_count": 101,
   "id": "85e1749d",
   "metadata": {},
   "outputs": [
    {
     "data": {
      "text/html": [
       "<div>\n",
       "<style scoped>\n",
       "    .dataframe tbody tr th:only-of-type {\n",
       "        vertical-align: middle;\n",
       "    }\n",
       "\n",
       "    .dataframe tbody tr th {\n",
       "        vertical-align: top;\n",
       "    }\n",
       "\n",
       "    .dataframe thead th {\n",
       "        text-align: right;\n",
       "    }\n",
       "</style>\n",
       "<table border=\"1\" class=\"dataframe\">\n",
       "  <thead>\n",
       "    <tr style=\"text-align: right;\">\n",
       "      <th></th>\n",
       "      <th>near_defender_MPD</th>\n",
       "      <th>near_dist</th>\n",
       "      <th>caught_width</th>\n",
       "    </tr>\n",
       "  </thead>\n",
       "  <tbody>\n",
       "    <tr>\n",
       "      <th>0.25</th>\n",
       "      <td>0.363336</td>\n",
       "      <td>1.580103</td>\n",
       "      <td>8.1575</td>\n",
       "    </tr>\n",
       "    <tr>\n",
       "      <th>0.50</th>\n",
       "      <td>0.764773</td>\n",
       "      <td>3.006302</td>\n",
       "      <td>13.3150</td>\n",
       "    </tr>\n",
       "    <tr>\n",
       "      <th>0.75</th>\n",
       "      <td>1.991656</td>\n",
       "      <td>4.950889</td>\n",
       "      <td>18.8200</td>\n",
       "    </tr>\n",
       "  </tbody>\n",
       "</table>\n",
       "</div>"
      ],
      "text/plain": [
       "      near_defender_MPD  near_dist  caught_width\n",
       "0.25           0.363336   1.580103        8.1575\n",
       "0.50           0.764773   3.006302       13.3150\n",
       "0.75           1.991656   4.950889       18.8200"
      ]
     },
     "execution_count": 101,
     "metadata": {},
     "output_type": "execute_result"
    }
   ],
   "source": [
    "quartiles"
   ]
  },
  {
   "cell_type": "code",
   "execution_count": 102,
   "id": "ef7ca4f7",
   "metadata": {},
   "outputs": [
    {
     "data": {
      "text/plain": [
       "<Figure size 1200x400 with 0 Axes>"
      ]
     },
     "metadata": {},
     "output_type": "display_data"
    },
    {
     "data": {
      "image/png": "[encoded data removed]",
      "text/plain": [
       "<Figure size 640x480 with 1 Axes>"
      ]
     },
     "metadata": {},
     "output_type": "display_data"
    }
   ],
   "source": [
    "plt.figure(figsize=(12, 4))\n",
    "cph_model.plot_partial_effects_on_outcome(\n",
    "    covariates = 'near_defender_MPD', values = quartiles.near_defender_MPD.round(2).to_list(), cmap = 'coolwarm')\n",
    "plt.show()"
   ]
  },
  {
   "cell_type": "code",
   "execution_count": 103,
   "id": "a197fa42",
   "metadata": {},
   "outputs": [
    {
     "data": {
      "text/plain": [
       "<Figure size 1200x400 with 0 Axes>"
      ]
     },
     "metadata": {},
     "output_type": "display_data"
    },
    {
     "data": {
      "image/png": "[encoded data removed]",
      "text/plain": [
       "<Figure size 640x480 with 1 Axes>"
      ]
     },
     "metadata": {},
     "output_type": "display_data"
    }
   ],
   "source": [
    "plt.figure(figsize=(12, 4))\n",
    "cph_model.plot_partial_effects_on_outcome(\n",
    "    covariates = 'near_dist', values = quartiles.near_dist.round(2).to_list(), cmap = 'coolwarm')\n",
    "plt.show()"
   ]
  },
  {
   "cell_type": "code",
   "execution_count": 104,
   "id": "587b2ae3",
   "metadata": {},
   "outputs": [
    {
     "data": {
      "text/plain": [
       "<Figure size 1200x400 with 0 Axes>"
      ]
     },
     "metadata": {},
     "output_type": "display_data"
    },
    {
     "data": {
      "image/png": "[encoded data removed]",
      "text/plain": [
       "<Figure size 640x480 with 1 Axes>"
      ]
     },
     "metadata": {},
     "output_type": "display_data"
    }
   ],
   "source": [
    "plt.figure(figsize=(12, 4))\n",
    "cph_model.plot_partial_effects_on_outcome(\n",
    "    covariates = 'caught_width', values = quartiles.caught_width.round(2).to_list(), cmap = 'coolwarm')\n",
    "plt.show()"
   ]
  },
  {
   "cell_type": "code",
   "execution_count": 105,
   "id": "05547a29",
   "metadata": {},
   "outputs": [
    {
     "data": {
      "text/plain": [
       "<Figure size 1200x400 with 0 Axes>"
      ]
     },
     "metadata": {},
     "output_type": "display_data"
    },
    {
     "data": {
      "image/png": "[encoded data removed]",
      "text/plain": [
       "<Figure size 640x480 with 1 Axes>"
      ]
     },
     "metadata": {},
     "output_type": "display_data"
    }
   ],
   "source": [
    "plt.figure(figsize=(12, 4))\n",
    "cph_model.plot_partial_effects_on_outcome(\n",
    "    covariates = 'leverage', values = [0,1], cmap = 'coolwarm')\n",
    "plt.show()"
   ]
  },
  {
   "cell_type": "markdown",
   "id": "7350a24d",
   "metadata": {},
   "source": [
    "In contrast to kmf model, the cph model doesn't recognize the significance of leverage's impact, thus I checked the covairance between all the variables"
   ]
  },
  {
   "cell_type": "code",
   "execution_count": 106,
   "id": "3af7e94d",
   "metadata": {},
   "outputs": [],
   "source": [
    "scaler = StandardScaler()\n",
    "standardized_df = pd.DataFrame(scaler.fit_transform(model_df), columns = model_df.columns)"
   ]
  },
  {
   "cell_type": "code",
   "execution_count": 107,
   "id": "15a8801e",
   "metadata": {},
   "outputs": [
    {
     "data": {
      "text/html": [
       "<div>\n",
       "<style scoped>\n",
       "    .dataframe tbody tr th:only-of-type {\n",
       "        vertical-align: middle;\n",
       "    }\n",
       "\n",
       "    .dataframe tbody tr th {\n",
       "        vertical-align: top;\n",
       "    }\n",
       "\n",
       "    .dataframe thead th {\n",
       "        text-align: right;\n",
       "    }\n",
       "</style>\n",
       "<table border=\"1\" class=\"dataframe\">\n",
       "  <thead>\n",
       "    <tr style=\"text-align: right;\">\n",
       "      <th></th>\n",
       "      <th>progress</th>\n",
       "      <th>lst_event</th>\n",
       "      <th>near_defender_MPD</th>\n",
       "      <th>near_dist</th>\n",
       "      <th>caught_width</th>\n",
       "      <th>leverage</th>\n",
       "    </tr>\n",
       "  </thead>\n",
       "  <tbody>\n",
       "    <tr>\n",
       "      <th>progress</th>\n",
       "      <td>1.000199</td>\n",
       "      <td>-0.141054</td>\n",
       "      <td>0.420661</td>\n",
       "      <td>0.428068</td>\n",
       "      <td>-0.005994</td>\n",
       "      <td>-0.058133</td>\n",
       "    </tr>\n",
       "    <tr>\n",
       "      <th>lst_event</th>\n",
       "      <td>-0.141054</td>\n",
       "      <td>1.000199</td>\n",
       "      <td>-0.049681</td>\n",
       "      <td>-0.020245</td>\n",
       "      <td>-0.010591</td>\n",
       "      <td>-0.004592</td>\n",
       "    </tr>\n",
       "    <tr>\n",
       "      <th>near_defender_MPD</th>\n",
       "      <td>0.420661</td>\n",
       "      <td>-0.049681</td>\n",
       "      <td>1.000199</td>\n",
       "      <td>0.511977</td>\n",
       "      <td>-0.020775</td>\n",
       "      <td>-0.060021</td>\n",
       "    </tr>\n",
       "    <tr>\n",
       "      <th>near_dist</th>\n",
       "      <td>0.428068</td>\n",
       "      <td>-0.020245</td>\n",
       "      <td>0.511977</td>\n",
       "      <td>1.000199</td>\n",
       "      <td>-0.005997</td>\n",
       "      <td>-0.058576</td>\n",
       "    </tr>\n",
       "    <tr>\n",
       "      <th>caught_width</th>\n",
       "      <td>-0.005994</td>\n",
       "      <td>-0.010591</td>\n",
       "      <td>-0.020775</td>\n",
       "      <td>-0.005997</td>\n",
       "      <td>1.000199</td>\n",
       "      <td>-0.007269</td>\n",
       "    </tr>\n",
       "    <tr>\n",
       "      <th>leverage</th>\n",
       "      <td>-0.058133</td>\n",
       "      <td>-0.004592</td>\n",
       "      <td>-0.060021</td>\n",
       "      <td>-0.058576</td>\n",
       "      <td>-0.007269</td>\n",
       "      <td>1.000199</td>\n",
       "    </tr>\n",
       "  </tbody>\n",
       "</table>\n",
       "</div>"
      ],
      "text/plain": [
       "                   progress  lst_event  near_defender_MPD  near_dist  \\\n",
       "progress           1.000199  -0.141054           0.420661   0.428068   \n",
       "lst_event         -0.141054   1.000199          -0.049681  -0.020245   \n",
       "near_defender_MPD  0.420661  -0.049681           1.000199   0.511977   \n",
       "near_dist          0.428068  -0.020245           0.511977   1.000199   \n",
       "caught_width      -0.005994  -0.010591          -0.020775  -0.005997   \n",
       "leverage          -0.058133  -0.004592          -0.060021  -0.058576   \n",
       "\n",
       "                   caught_width  leverage  \n",
       "progress              -0.005994 -0.058133  \n",
       "lst_event             -0.010591 -0.004592  \n",
       "near_defender_MPD     -0.020775 -0.060021  \n",
       "near_dist             -0.005997 -0.058576  \n",
       "caught_width           1.000199 -0.007269  \n",
       "leverage              -0.007269  1.000199  "
      ]
     },
     "execution_count": 107,
     "metadata": {},
     "output_type": "execute_result"
    }
   ],
   "source": [
    "standardized_df.cov()"
   ]
  },
  {
   "cell_type": "markdown",
   "id": "6f457ae8",
   "metadata": {},
   "source": [
    "The result suggests that :\n",
    "- leverage and caught_width both have weak covariance with all variables\n",
    "- features near_defender_MPD and near_dist have a positive covrariance close to 0.5\n",
    "- target variable progress has a positive covrariance with near_defender_MPD and near_dist both close to 0.4"
   ]
  },
  {
   "cell_type": "code",
   "execution_count": null,
   "id": "cacf2d94",
   "metadata": {},
   "outputs": [],
   "source": []
  }
 ],
 "metadata": {
  "kernelspec": {
   "display_name": "bowl",
   "language": "python",
   "name": "bowl"
  },
  "language_info": {
   "codemirror_mode": {
    "name": "ipython",
    "version": 3
   },
   "file_extension": ".py",
   "mimetype": "text/x-python",
   "name": "python",
   "nbconvert_exporter": "python",
   "pygments_lexer": "ipython3",
   "version": "3.11.4"
  }
 },
 "nbformat": 4,
 "nbformat_minor": 5
}
