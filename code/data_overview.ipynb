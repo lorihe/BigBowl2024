{
 "cells": [
  {
   "cell_type": "markdown",
   "id": "59b9864d",
   "metadata": {},
   "source": [
    "**This notebook overviews and transforms the raw data, notes the selected analysis scope, detects and handles abnormal data.**"
   ]
  },
  {
   "cell_type": "code",
   "execution_count": 1,
   "id": "7b972968",
   "metadata": {},
   "outputs": [],
   "source": [
    "import pandas as pd\n",
    "import numpy as np\n",
    "import re\n",
    "import math\n",
    "import matplotlib.pyplot as plt\n",
    "import seaborn as sns\n",
    "sns.set(style = \"whitegrid\", palette = 'dark')\n",
    "\n",
    "import warnings\n",
    "warnings.filterwarnings('ignore')\n",
    "%load_ext autoreload\n",
    "%autoreload 2\n",
    "\n",
    "# Generate separated tracking data via code below before using these local modules\n",
    "import tackle_plot\n",
    "import get_data\n",
    "\n",
    "pd.set_option('display.max_rows', None)\n",
    "pd.set_option('display.max_columns', None)\n",
    "pd.set_option('display.max_colwidth', None)"
   ]
  },
  {
   "cell_type": "code",
   "execution_count": 2,
   "id": "f81738ae",
   "metadata": {},
   "outputs": [],
   "source": [
    "games_all = pd.read_csv('../rawdata/games.csv')\n",
    "tackles_all = pd.read_csv('../rawdata/tackles.csv')\n",
    "players_all = pd.read_csv('../rawdata/players.csv')\n",
    "plays_all = pd.read_csv('../rawdata/plays.csv')"
   ]
  },
  {
   "cell_type": "code",
   "execution_count": 3,
   "id": "fde13b8c",
   "metadata": {},
   "outputs": [],
   "source": [
    "tracking_data = {}\n",
    "for i in range(9):\n",
    "    w = i + 1\n",
    "    tracking_data[w] = pd.read_csv(f'../rawdata/tracking_week_{w}.csv')"
   ]
  },
  {
   "cell_type": "markdown",
   "id": "df36f25f",
   "metadata": {},
   "source": [
    "### Separate tracking data by dates to improve plotting speed"
   ]
  },
  {
   "cell_type": "code",
   "execution_count": 4,
   "id": "5fefee95",
   "metadata": {},
   "outputs": [],
   "source": [
    "all_dates = games_all.gameDate.unique()"
   ]
  },
  {
   "cell_type": "code",
   "execution_count": 5,
   "id": "3b7dda50",
   "metadata": {},
   "outputs": [
    {
     "data": {
      "text/plain": [
       "array(['09/08/2022', '09/11/2022', '09/12/2022', '09/15/2022',\n",
       "       '09/18/2022', '09/19/2022', '09/22/2022', '09/25/2022',\n",
       "       '09/26/2022', '09/29/2022', '10/02/2022', '10/03/2022',\n",
       "       '10/06/2022', '10/09/2022', '10/10/2022', '10/13/2022',\n",
       "       '10/16/2022', '10/17/2022', '10/20/2022', '10/23/2022',\n",
       "       '10/24/2022', '10/27/2022', '10/30/2022', '10/31/2022',\n",
       "       '11/03/2022', '11/06/2022', '11/07/2022'], dtype=object)"
      ]
     },
     "execution_count": 5,
     "metadata": {},
     "output_type": "execute_result"
    }
   ],
   "source": [
    "all_dates"
   ]
  },
  {
   "cell_type": "code",
   "execution_count": 6,
   "id": "e5c78dc2",
   "metadata": {},
   "outputs": [],
   "source": [
    "%%time\n",
    "for date in all_dates:\n",
    "    week = games_all[games_all['gameDate'] == date]['week'].iloc[0]\n",
    "    date_format = date.replace('/', '')\n",
    "    date_id = date_format[4:] + date_format[:4]\n",
    "    tracking = tracking_data[week]\n",
    "    tracking['date_id'] = tracking['gameId'].apply(lambda x: str(x)[:8])\n",
    "    tracking_sub = tracking[tracking['date_id']== date_id]\n",
    "    tracking_sub = tracking_sub.drop(columns = ['date_id'])\n",
    "    tracking_sub.to_csv(f'../newdata/{date_format}.csv', index = False)"
   ]
  },
  {
   "cell_type": "markdown",
   "id": "4464aca6",
   "metadata": {},
   "source": [
    "### Plot function"
   ]
  },
  {
   "cell_type": "code",
   "execution_count": 7,
   "id": "5f5628d2",
   "metadata": {},
   "outputs": [],
   "source": [
    "def plot(gameId, playId):\n",
    "    game = get_data.game(gameId)\n",
    "    play = get_data.play(gameId, playId)\n",
    "    tracking = get_data.tracking(gameId, playId).reset_index()\n",
    "    \n",
    "    date = game['gameDate'].item()\n",
    "    tacklers = get_data.tacklers(gameId, playId)\n",
    "    carrier = play['ballCarrierId'].item()\n",
    "    offense = play['possessionTeam'].item()\n",
    "    defense = play['defensiveTeam'].item()\n",
    "    down = play['down'].item()\n",
    "    yardstogo = play['yardsToGo'].item()\n",
    "    ablos = play['absoluteYardlineNumber'].item()    \n",
    "    \n",
    "    return tackle_plot.plot(tracking, date, tacklers, carrier, offense, defense, down, yardstogo, ablos) "
   ]
  },
  {
   "cell_type": "markdown",
   "id": "255aae88",
   "metadata": {},
   "source": [
    "### play data"
   ]
  },
  {
   "cell_type": "markdown",
   "id": "571d37a1",
   "metadata": {},
   "source": [
    "- Get all play types from 'playDescription'"
   ]
  },
  {
   "cell_type": "code",
   "execution_count": 8,
   "id": "0946dfcf",
   "metadata": {},
   "outputs": [],
   "source": [
    "plays_all['action'] = plays_all['playDescription'].apply(\n",
    "    lambda x: re.findall(r'\\b[a-zA-Z\\'-]+\\.[a-zA-Z\\'-]+\\s([^.]+)\\sto\\b', x))"
   ]
  },
  {
   "cell_type": "code",
   "execution_count": 9,
   "id": "de7d859f",
   "metadata": {},
   "outputs": [],
   "source": [
    "plays_all['action'] = plays_all.apply(\n",
    "    lambda row: re.findall(r'\\b[a-zA-Z\\'-]+\\.[a-zA-Z\\'-]+\\s([^.]+)\\spushed', row['playDescription'])\n",
    "                                   if row['action'] == [] else row['action'], axis = 1)"
   ]
  },
  {
   "cell_type": "code",
   "execution_count": 10,
   "id": "2ae76312",
   "metadata": {},
   "outputs": [],
   "source": [
    "plays_all['action'] = plays_all.apply(\n",
    "    lambda row: re.findall(r'\\b[a-zA-Z\\'-]+\\.[a-zA-Z\\'-]+\\s([^.]+)\\sran', row['playDescription'])\n",
    "                                   if row['action'] == [] else row['action'], axis = 1)"
   ]
  },
  {
   "cell_type": "code",
   "execution_count": 11,
   "id": "2149e2d0",
   "metadata": {},
   "outputs": [],
   "source": [
    "plays_all['action'] = plays_all.apply(\n",
    "    lambda row: re.findall(r'\\b[a-zA-Z\\'-]+\\.[a-zA-Z\\'-]+\\s([^.]+)\\sfor\\b', row['playDescription'])\n",
    "                                   if row['action'] == [] else row['action'], axis = 1)"
   ]
  },
  {
   "cell_type": "code",
   "execution_count": 12,
   "id": "bdc72fe0",
   "metadata": {},
   "outputs": [],
   "source": [
    "plays_all['action'] = plays_all['action'].apply(lambda x: x[0] if x else None)\n",
    "plays_all['action'] = plays_all.apply(lambda row: 'scramble' \n",
    "                                   if 'scrambles' in row['playDescription']\n",
    "                                   else row['action'], axis = 1)"
   ]
  },
  {
   "cell_type": "code",
   "execution_count": 13,
   "id": "c0afc1c4",
   "metadata": {},
   "outputs": [
    {
     "data": {
      "text/plain": [
       "5"
      ]
     },
     "execution_count": 13,
     "metadata": {},
     "output_type": "execute_result"
    }
   ],
   "source": [
    "plays_all['action'].isna().sum()"
   ]
  },
  {
   "cell_type": "code",
   "execution_count": 14,
   "id": "4e33087f",
   "metadata": {},
   "outputs": [
    {
     "data": {
      "text/plain": [
       "action\n",
       "pass short right                      2049\n",
       "pass short left                       1864\n",
       "up the middle                         1536\n",
       "pass short middle                     1120\n",
       "left tackle                            838\n",
       "left end                               831\n",
       "right tackle                           815\n",
       "right guard                            814\n",
       "right end                              769\n",
       "left guard                             764\n",
       "scramble                               471\n",
       "pass deep right                        227\n",
       "pass deep left                         226\n",
       "pass deep middle                       145\n",
       "pass incomplete short right              2\n",
       "to SEA 37                                1\n",
       "to NO 5                                  1\n",
       "lines up behind center and pitches       1\n",
       "to SF 15                                 1\n",
       "to KC 10                                 1\n",
       "up the middle tackled in End Zone        1\n",
       "left guard tackled in End Zone           1\n",
       "pass incomplete deep left                1\n",
       "to BUF 24                                1\n",
       "to HST 9                                 1\n",
       "Name: count, dtype: int64"
      ]
     },
     "execution_count": 14,
     "metadata": {},
     "output_type": "execute_result"
    }
   ],
   "source": [
    "plays_all['action'].value_counts()"
   ]
  },
  {
   "cell_type": "markdown",
   "id": "0e5a78b7",
   "metadata": {},
   "source": [
    "- **Pick 'pass short' play type as the focused scope of this project**"
   ]
  },
  {
   "cell_type": "code",
   "execution_count": 15,
   "id": "134ff4da",
   "metadata": {},
   "outputs": [],
   "source": [
    "plays_ps = plays_all[plays_all['playDescription'].str.contains('pass short', regex = False, na = False)]"
   ]
  },
  {
   "cell_type": "markdown",
   "id": "344bfe6a",
   "metadata": {},
   "source": [
    "### tackle data"
   ]
  },
  {
   "cell_type": "code",
   "execution_count": 16,
   "id": "632f32fa",
   "metadata": {},
   "outputs": [
    {
     "data": {
      "text/plain": [
       "(17426, 7)"
      ]
     },
     "execution_count": 16,
     "metadata": {},
     "output_type": "execute_result"
    }
   ],
   "source": [
    "tackles_all.shape"
   ]
  },
  {
   "cell_type": "code",
   "execution_count": 17,
   "id": "adbe7968",
   "metadata": {},
   "outputs": [
    {
     "data": {
      "text/plain": [
       "gameId              0\n",
       "playId              0\n",
       "nflId               0\n",
       "tackle              0\n",
       "assist              0\n",
       "forcedFumble        0\n",
       "pff_missedTackle    0\n",
       "dtype: int64"
      ]
     },
     "execution_count": 17,
     "metadata": {},
     "output_type": "execute_result"
    }
   ],
   "source": [
    "tackles_all.isna().sum()"
   ]
  },
  {
   "cell_type": "code",
   "execution_count": 18,
   "id": "97ef5351",
   "metadata": {},
   "outputs": [
    {
     "data": {
      "text/plain": [
       "tackle  assist  forcedFumble  pff_missedTackle\n",
       "1       0       0             0                   9810\n",
       "0       1       0             0                   5428\n",
       "        0       0             1                   2013\n",
       "1       0       1             0                     74\n",
       "0       1       0             1                     42\n",
       "1       0       0             1                     34\n",
       "0       1       1             0                     24\n",
       "1       0       1             1                      1\n",
       "Name: count, dtype: int64"
      ]
     },
     "execution_count": 18,
     "metadata": {},
     "output_type": "execute_result"
    }
   ],
   "source": [
    "tackles_all[['tackle', 'assist', 'forcedFumble', 'pff_missedTackle']].value_counts()"
   ]
  },
  {
   "cell_type": "markdown",
   "id": "84c77952",
   "metadata": {},
   "source": [
    "### tackle & play & tracking data"
   ]
  },
  {
   "cell_type": "code",
   "execution_count": 19,
   "id": "cb3dcee1",
   "metadata": {},
   "outputs": [],
   "source": [
    "def standardize_tracking(tracking):\n",
    "    \"\"\"\n",
    "    Standardize data so all plays are seen as played from left to right\n",
    "\n",
    "    Parameters:\n",
    "    df1 (DataFrame): tracking data of one selected play.\n",
    "    Returns:\n",
    "    df1 (DataFrame): standardized tracking data of one selected play.\n",
    "    \"\"\"\n",
    "    if tracking.at[0, 'playDirection'] == 'left':\n",
    "        tracking['playDirection'] = 'right'\n",
    "        tracking['x'] = 120-tracking['x']\n",
    "        tracking['y'] = 53.3-tracking['y']  \n",
    "        tracking['dir'] = (tracking['dir'] + 180) % 360\n",
    "        tracking['o'] = (tracking['o'] + 180) % 360\n",
    "    return tracking"
   ]
  },
  {
   "cell_type": "code",
   "execution_count": 20,
   "id": "2740d370",
   "metadata": {},
   "outputs": [],
   "source": [
    "# Combine short pass play data and tackle data\n",
    "plays_tackle = pd.merge(plays_ps, tackles_all, on = ['gameId', 'playId'], how = 'left')"
   ]
  },
  {
   "cell_type": "code",
   "execution_count": 21,
   "id": "90ea502c",
   "metadata": {},
   "outputs": [
    {
     "data": {
      "text/plain": [
       "(6630, 41)"
      ]
     },
     "execution_count": 21,
     "metadata": {},
     "output_type": "execute_result"
    }
   ],
   "source": [
    "plays_tackle.shape"
   ]
  },
  {
   "cell_type": "code",
   "execution_count": 22,
   "id": "b9b697ea",
   "metadata": {},
   "outputs": [
    {
     "data": {
      "text/plain": [
       "tackle  assist  forcedFumble  pff_missedTackle\n",
       "1.0     0.0     0.0           0.0                 4264\n",
       "0.0     1.0     0.0           0.0                 1372\n",
       "        0.0     0.0           1.0                  726\n",
       "1.0     0.0     1.0           0.0                   33\n",
       "0.0     1.0     0.0           1.0                   20\n",
       "1.0     0.0     0.0           1.0                   15\n",
       "0.0     1.0     1.0           0.0                   14\n",
       "1.0     0.0     1.0           1.0                    1\n",
       "Name: count, dtype: int64"
      ]
     },
     "execution_count": 22,
     "metadata": {},
     "output_type": "execute_result"
    }
   ],
   "source": [
    "plays_tackle[['tackle', 'assist', 'forcedFumble', 'pff_missedTackle']].value_counts()"
   ]
  },
  {
   "cell_type": "code",
   "execution_count": 23,
   "id": "3a9c3113",
   "metadata": {},
   "outputs": [
    {
     "data": {
      "text/plain": [
       "gameId                0\n",
       "playId                0\n",
       "nflId               185\n",
       "tackle              185\n",
       "assist              185\n",
       "forcedFumble        185\n",
       "pff_missedTackle    185\n",
       "dtype: int64"
      ]
     },
     "execution_count": 23,
     "metadata": {},
     "output_type": "execute_result"
    }
   ],
   "source": [
    "plays_tackle[['gameId', 'playId', 'nflId', 'tackle', 'assist', 'forcedFumble', 'pff_missedTackle']].isna().sum()"
   ]
  },
  {
   "cell_type": "markdown",
   "id": "85f266d7",
   "metadata": {},
   "source": [
    "- Check if tracking data of each play has one and only one 'pass_outcome_caught' event at frameId == 6"
   ]
  },
  {
   "cell_type": "code",
   "execution_count": 24,
   "id": "1313f53e",
   "metadata": {},
   "outputs": [
    {
     "name": "stdout",
     "output_type": "stream",
     "text": [
      "2022110608 2351\n"
     ]
    }
   ],
   "source": [
    "for idx, row in plays_ps.iterrows():\n",
    "    \n",
    "    gameId, playId = row['gameId'], row['playId']\n",
    "    game_week = games_all[games_all['gameId'] == gameId]['week'].item()\n",
    "    \n",
    "    tracking_w = tracking_data[game_week]    \n",
    "    tracking = tracking_w[(tracking_w['gameId'] == gameId) & \n",
    "                          (tracking_w['playId'] == playId)].reset_index(drop = True)\n",
    "    # Standardize data so all plays are seen as played from left to right\n",
    "    if tracking.at[0, 'playDirection'] == 'left':\n",
    "        tracking['x'] = 120-tracking['x']\n",
    "        tracking['y'] = 53.3-tracking['y']  \n",
    "        tracking['dir'] = (tracking['dir'] + 180) % 360\n",
    "        \n",
    "    events = tracking[['frameId', 'event']].dropna(subset=['event']).drop_duplicates()\n",
    "    caughts = events[events['event'] == 'pass_outcome_caught']\n",
    "    if len(caughts) != 1 or caughts.frameId.to_list()[0] != 6:\n",
    "        print(gameId, playId)"
   ]
  },
  {
   "cell_type": "markdown",
   "id": "b4f5a33e",
   "metadata": {},
   "source": [
    "This play has two 'pass_outcome_caught' in the tracking data, the second one at frameId = 32 better fits the analysis purposes."
   ]
  },
  {
   "cell_type": "markdown",
   "id": "d9e9aabe",
   "metadata": {},
   "source": [
    "- Check carrier data at caught moments"
   ]
  },
  {
   "cell_type": "code",
   "execution_count": 25,
   "id": "6f294c75",
   "metadata": {},
   "outputs": [],
   "source": [
    "carrier_caught_all_df = pd.DataFrame()\n",
    "for idx, row in plays_ps.iterrows():\n",
    "    \n",
    "    gameId, playId = row['gameId'], row['playId']\n",
    "    game_week = games_all[games_all['gameId'] == gameId]['week'].item()\n",
    "    carrier = row['ballCarrierId']\n",
    "    \n",
    "    tracking_w = tracking_data[game_week]    \n",
    "    tracking = tracking_w[(tracking_w['gameId'] == gameId) & \n",
    "                          (tracking_w['playId'] == playId)].reset_index(drop = True)\n",
    "    tracking = standardize_tracking(tracking)\n",
    "        \n",
    "    caught_frm = 6\n",
    "    # Note the special case\n",
    "    if gameId == 2022110608 and playId == 2351:\n",
    "        caught_frm = 32\n",
    "    caught_df = tracking[tracking['frameId'] == caught_frm]\n",
    "    carrier_caught_df = caught_df[caught_df['nflId'] == carrier]\n",
    "    carrier_caught_all_df = pd.concat([carrier_caught_all_df, carrier_caught_df])\n",
    "    \n",
    "carrier_caught_all_df = carrier_caught_all_df.reset_index(drop = True)"
   ]
  },
  {
   "cell_type": "code",
   "execution_count": 26,
   "id": "c7a5918d",
   "metadata": {},
   "outputs": [
    {
     "data": {
      "text/html": [
       "<div>\n",
       "<style scoped>\n",
       "    .dataframe tbody tr th:only-of-type {\n",
       "        vertical-align: middle;\n",
       "    }\n",
       "\n",
       "    .dataframe tbody tr th {\n",
       "        vertical-align: top;\n",
       "    }\n",
       "\n",
       "    .dataframe thead th {\n",
       "        text-align: right;\n",
       "    }\n",
       "</style>\n",
       "<table border=\"1\" class=\"dataframe\">\n",
       "  <thead>\n",
       "    <tr style=\"text-align: right;\">\n",
       "      <th></th>\n",
       "      <th>gameId</th>\n",
       "      <th>playId</th>\n",
       "      <th>nflId</th>\n",
       "      <th>displayName</th>\n",
       "      <th>frameId</th>\n",
       "      <th>time</th>\n",
       "      <th>jerseyNumber</th>\n",
       "      <th>club</th>\n",
       "      <th>playDirection</th>\n",
       "      <th>x</th>\n",
       "      <th>y</th>\n",
       "      <th>s</th>\n",
       "      <th>a</th>\n",
       "      <th>dis</th>\n",
       "      <th>o</th>\n",
       "      <th>dir</th>\n",
       "      <th>event</th>\n",
       "      <th>date_id</th>\n",
       "    </tr>\n",
       "  </thead>\n",
       "  <tbody>\n",
       "    <tr>\n",
       "      <th>0</th>\n",
       "      <td>2022100908</td>\n",
       "      <td>3537</td>\n",
       "      <td>48723.0</td>\n",
       "      <td>Parker Hesse</td>\n",
       "      <td>6</td>\n",
       "      <td>2022-10-09 15:43:13.799999</td>\n",
       "      <td>46.0</td>\n",
       "      <td>ATL</td>\n",
       "      <td>right</td>\n",
       "      <td>57.48</td>\n",
       "      <td>24.58</td>\n",
       "      <td>3.30</td>\n",
       "      <td>1.62</td>\n",
       "      <td>0.32</td>\n",
       "      <td>45.64</td>\n",
       "      <td>72.68</td>\n",
       "      <td>pass_outcome_caught</td>\n",
       "      <td>20221009</td>\n",
       "    </tr>\n",
       "    <tr>\n",
       "      <th>1</th>\n",
       "      <td>2022091111</td>\n",
       "      <td>1148</td>\n",
       "      <td>42547.0</td>\n",
       "      <td>Darren Waller</td>\n",
       "      <td>6</td>\n",
       "      <td>2022-09-11 17:12:12.900000</td>\n",
       "      <td>83.0</td>\n",
       "      <td>LV</td>\n",
       "      <td>right</td>\n",
       "      <td>51.68</td>\n",
       "      <td>26.42</td>\n",
       "      <td>6.76</td>\n",
       "      <td>0.78</td>\n",
       "      <td>0.68</td>\n",
       "      <td>352.88</td>\n",
       "      <td>28.00</td>\n",
       "      <td>pass_outcome_caught</td>\n",
       "      <td>20220911</td>\n",
       "    </tr>\n",
       "    <tr>\n",
       "      <th>2</th>\n",
       "      <td>2022103001</td>\n",
       "      <td>2165</td>\n",
       "      <td>54616.0</td>\n",
       "      <td>Tyler Allgeier</td>\n",
       "      <td>6</td>\n",
       "      <td>2022-10-30 14:51:22.500000</td>\n",
       "      <td>25.0</td>\n",
       "      <td>ATL</td>\n",
       "      <td>right</td>\n",
       "      <td>22.95</td>\n",
       "      <td>35.01</td>\n",
       "      <td>6.69</td>\n",
       "      <td>0.55</td>\n",
       "      <td>0.67</td>\n",
       "      <td>84.54</td>\n",
       "      <td>30.93</td>\n",
       "      <td>pass_outcome_caught</td>\n",
       "      <td>20221030</td>\n",
       "    </tr>\n",
       "    <tr>\n",
       "      <th>3</th>\n",
       "      <td>2022092511</td>\n",
       "      <td>2903</td>\n",
       "      <td>46096.0</td>\n",
       "      <td>Rashaad Penny</td>\n",
       "      <td>6</td>\n",
       "      <td>2022-09-25 18:38:56.799999</td>\n",
       "      <td>20.0</td>\n",
       "      <td>SEA</td>\n",
       "      <td>right</td>\n",
       "      <td>31.01</td>\n",
       "      <td>43.47</td>\n",
       "      <td>5.39</td>\n",
       "      <td>2.71</td>\n",
       "      <td>0.54</td>\n",
       "      <td>70.02</td>\n",
       "      <td>31.77</td>\n",
       "      <td>pass_outcome_caught</td>\n",
       "      <td>20220925</td>\n",
       "    </tr>\n",
       "    <tr>\n",
       "      <th>4</th>\n",
       "      <td>2022091102</td>\n",
       "      <td>3336</td>\n",
       "      <td>46331.0</td>\n",
       "      <td>Ross Dwelley</td>\n",
       "      <td>6</td>\n",
       "      <td>2022-09-11 15:32:44.000000</td>\n",
       "      <td>82.0</td>\n",
       "      <td>SF</td>\n",
       "      <td>right</td>\n",
       "      <td>46.24</td>\n",
       "      <td>29.01</td>\n",
       "      <td>2.29</td>\n",
       "      <td>2.78</td>\n",
       "      <td>0.20</td>\n",
       "      <td>200.56</td>\n",
       "      <td>28.01</td>\n",
       "      <td>pass_outcome_caught</td>\n",
       "      <td>20220911</td>\n",
       "    </tr>\n",
       "  </tbody>\n",
       "</table>\n",
       "</div>"
      ],
      "text/plain": [
       "       gameId  playId    nflId     displayName  frameId  \\\n",
       "0  2022100908    3537  48723.0    Parker Hesse        6   \n",
       "1  2022091111    1148  42547.0   Darren Waller        6   \n",
       "2  2022103001    2165  54616.0  Tyler Allgeier        6   \n",
       "3  2022092511    2903  46096.0   Rashaad Penny        6   \n",
       "4  2022091102    3336  46331.0    Ross Dwelley        6   \n",
       "\n",
       "                         time  jerseyNumber club playDirection      x      y  \\\n",
       "0  2022-10-09 15:43:13.799999          46.0  ATL         right  57.48  24.58   \n",
       "1  2022-09-11 17:12:12.900000          83.0   LV         right  51.68  26.42   \n",
       "2  2022-10-30 14:51:22.500000          25.0  ATL         right  22.95  35.01   \n",
       "3  2022-09-25 18:38:56.799999          20.0  SEA         right  31.01  43.47   \n",
       "4  2022-09-11 15:32:44.000000          82.0   SF         right  46.24  29.01   \n",
       "\n",
       "      s     a   dis       o    dir                event   date_id  \n",
       "0  3.30  1.62  0.32   45.64  72.68  pass_outcome_caught  20221009  \n",
       "1  6.76  0.78  0.68  352.88  28.00  pass_outcome_caught  20220911  \n",
       "2  6.69  0.55  0.67   84.54  30.93  pass_outcome_caught  20221030  \n",
       "3  5.39  2.71  0.54   70.02  31.77  pass_outcome_caught  20220925  \n",
       "4  2.29  2.78  0.20  200.56  28.01  pass_outcome_caught  20220911  "
      ]
     },
     "execution_count": 26,
     "metadata": {},
     "output_type": "execute_result"
    }
   ],
   "source": [
    "carrier_caught_all_df.head()"
   ]
  },
  {
   "cell_type": "code",
   "execution_count": 27,
   "id": "c2287cb6",
   "metadata": {},
   "outputs": [
    {
     "data": {
      "image/png": "[encoded data removed]",
      "text/plain": [
       "<Figure size 1200x600 with 5 Axes>"
      ]
     },
     "metadata": {},
     "output_type": "display_data"
    }
   ],
   "source": [
    "plt.figure(figsize=(12, 6))\n",
    "\n",
    "for i, col in enumerate(['y', 's', 'a', 'o', 'dir']):\n",
    "    plt.subplot(2, 3, i+1)\n",
    "    plt.hist(carrier_caught_all_df[col], bins=50, density=True)\n",
    "    plt.title(f'Histogram of {col}')\n",
    "\n",
    "plt.tight_layout()\n",
    "plt.show()"
   ]
  },
  {
   "cell_type": "markdown",
   "id": "0f421729",
   "metadata": {},
   "source": [
    "- Check if any tacklers in record was never close to ballcarrier suring the whole play"
   ]
  },
  {
   "cell_type": "code",
   "execution_count": 28,
   "id": "6896d4b2",
   "metadata": {},
   "outputs": [],
   "source": [
    "plays_tackle_has_t = plays_tackle[~plays_tackle.nflId.isna()]"
   ]
  },
  {
   "cell_type": "code",
   "execution_count": 29,
   "id": "94b16327",
   "metadata": {},
   "outputs": [],
   "source": [
    "far_tacklers_idx = []\n",
    "for idx, row in plays_tackle_has_t.iterrows():\n",
    "\n",
    "    gameId, playId = row['gameId'], row['playId']\n",
    "    game_week = games_all[games_all['gameId'] == gameId]['week'].item()\n",
    "    carrier = row['ballCarrierId']\n",
    "    tackler = row['nflId']\n",
    "    tackler_name = get_data.name(tackler)\n",
    "    \n",
    "    tracking_w = tracking_data[game_week]    \n",
    "    tracking = tracking_w[(tracking_w['gameId'] == gameId) & \n",
    "                          (tracking_w['playId'] == playId)].reset_index(drop = True)\n",
    "    tracking = standardize_tracking(tracking)\n",
    "    \n",
    "    # Get events and corresponding frameIds\n",
    "    events = tracking[['frameId', 'event']].dropna(subset=['event']).drop_duplicates().sort_values(by = 'frameId')\n",
    "    caught_frm = 6\n",
    "    lst_event = events.event.to_list()[-1]\n",
    "    lst_event_frm = events.frameId.to_list()[-1]    \n",
    "    \n",
    "    # Get distance between recorded tackler and ballcarrier from when the ball is caught to the end\n",
    "    df_t = tracking[tracking['nflId'] == tackler]\n",
    "    df_c = tracking[tracking['nflId'] == carrier]\n",
    "    df_tc = pd.merge(df_t[['gameId', 'playId', 'frameId','x', 'y', 'dir', 's']], df_c[['frameId', 'x', 'y', 'dir', 's']], \n",
    "                  on = 'frameId', how = 'outer', suffixes = ('_t', '_c'))     \n",
    "    df_tc = df_tc.iloc[6:lst_event_frm, :]\n",
    "    df_tc['dist'] = df_tc.apply(lambda row: math.dist([row['x_t'], row['y_t']], [row['x_c'], row['y_c']]), axis = 1)\n",
    "    if df_tc['dist'].min() > 5:\n",
    "        far_tacklers_idx.append(idx)\n",
    "#         print(gameId, playId, tackler, tackler_name)\n",
    "#         print(tackles_all[(tackles_all['gameId'] == gameId) & (tackles_all['playId'] == playId)])\n",
    "#         plot(gameId, playId)"
   ]
  },
  {
   "cell_type": "code",
   "execution_count": 30,
   "id": "8da3279a",
   "metadata": {},
   "outputs": [
    {
     "data": {
      "text/plain": [
       "34"
      ]
     },
     "execution_count": 30,
     "metadata": {},
     "output_type": "execute_result"
    }
   ],
   "source": [
    "len(far_tacklers_idx)"
   ]
  },
  {
   "cell_type": "markdown",
   "id": "32f10116",
   "metadata": {},
   "source": [
    "In 34 plays, the recorded tackler was more than 5 yards from the ball carrier through the whole play. The details of those plays indicate causes such as: tracker malfunction, wrongly labeled for unknown reason, tackler not tackling ballcarrier, etc. All cases were deviate from analysis purposes and should be removed from the data for this analysis."
   ]
  },
  {
   "cell_type": "code",
   "execution_count": 31,
   "id": "453d5c89",
   "metadata": {},
   "outputs": [
    {
     "data": {
      "text/html": [
       "<div>\n",
       "<style scoped>\n",
       "    .dataframe tbody tr th:only-of-type {\n",
       "        vertical-align: middle;\n",
       "    }\n",
       "\n",
       "    .dataframe tbody tr th {\n",
       "        vertical-align: top;\n",
       "    }\n",
       "\n",
       "    .dataframe thead th {\n",
       "        text-align: right;\n",
       "    }\n",
       "</style>\n",
       "<table border=\"1\" class=\"dataframe\">\n",
       "  <thead>\n",
       "    <tr style=\"text-align: right;\">\n",
       "      <th></th>\n",
       "      <th>gameId</th>\n",
       "      <th>playId</th>\n",
       "      <th>tackle</th>\n",
       "      <th>assist</th>\n",
       "      <th>forcedFumble</th>\n",
       "      <th>pff_missedTackle</th>\n",
       "    </tr>\n",
       "  </thead>\n",
       "  <tbody>\n",
       "    <tr>\n",
       "      <th>64</th>\n",
       "      <td>2022092600</td>\n",
       "      <td>4008</td>\n",
       "      <td>0.0</td>\n",
       "      <td>0.0</td>\n",
       "      <td>0.0</td>\n",
       "      <td>1.0</td>\n",
       "    </tr>\n",
       "    <tr>\n",
       "      <th>219</th>\n",
       "      <td>2022100208</td>\n",
       "      <td>407</td>\n",
       "      <td>0.0</td>\n",
       "      <td>0.0</td>\n",
       "      <td>0.0</td>\n",
       "      <td>1.0</td>\n",
       "    </tr>\n",
       "    <tr>\n",
       "      <th>535</th>\n",
       "      <td>2022092505</td>\n",
       "      <td>1677</td>\n",
       "      <td>0.0</td>\n",
       "      <td>0.0</td>\n",
       "      <td>0.0</td>\n",
       "      <td>1.0</td>\n",
       "    </tr>\n",
       "    <tr>\n",
       "      <th>1168</th>\n",
       "      <td>2022092510</td>\n",
       "      <td>2798</td>\n",
       "      <td>0.0</td>\n",
       "      <td>0.0</td>\n",
       "      <td>0.0</td>\n",
       "      <td>1.0</td>\n",
       "    </tr>\n",
       "    <tr>\n",
       "      <th>1529</th>\n",
       "      <td>2022110604</td>\n",
       "      <td>3047</td>\n",
       "      <td>0.0</td>\n",
       "      <td>0.0</td>\n",
       "      <td>0.0</td>\n",
       "      <td>1.0</td>\n",
       "    </tr>\n",
       "  </tbody>\n",
       "</table>\n",
       "</div>"
      ],
      "text/plain": [
       "          gameId  playId  tackle  assist  forcedFumble  pff_missedTackle\n",
       "64    2022092600    4008     0.0     0.0           0.0               1.0\n",
       "219   2022100208     407     0.0     0.0           0.0               1.0\n",
       "535   2022092505    1677     0.0     0.0           0.0               1.0\n",
       "1168  2022092510    2798     0.0     0.0           0.0               1.0\n",
       "1529  2022110604    3047     0.0     0.0           0.0               1.0"
      ]
     },
     "execution_count": 31,
     "metadata": {},
     "output_type": "execute_result"
    }
   ],
   "source": [
    "plays_tackle_has_t.loc[far_tacklers_idx][\n",
    "    ['gameId', 'playId', 'tackle', 'assist', 'forcedFumble', 'pff_missedTackle']].head()"
   ]
  },
  {
   "cell_type": "code",
   "execution_count": 32,
   "id": "8a822dac",
   "metadata": {},
   "outputs": [
    {
     "data": {
      "text/plain": [
       "tackle  assist  forcedFumble  pff_missedTackle\n",
       "0.0     0.0     0.0           1.0                 25\n",
       "1.0     0.0     0.0           0.0                  9\n",
       "Name: count, dtype: int64"
      ]
     },
     "execution_count": 32,
     "metadata": {},
     "output_type": "execute_result"
    }
   ],
   "source": [
    "plays_tackle_has_t.loc[far_tacklers_idx][['tackle', 'assist', 'forcedFumble', 'pff_missedTackle']].value_counts()"
   ]
  },
  {
   "cell_type": "code",
   "execution_count": 33,
   "id": "b679387e",
   "metadata": {},
   "outputs": [],
   "source": [
    "plays_tackle = plays_tackle.drop(far_tacklers_idx)"
   ]
  },
  {
   "cell_type": "code",
   "execution_count": 34,
   "id": "6897770e",
   "metadata": {},
   "outputs": [],
   "source": [
    "# plays_tackle.to_csv('../newdata/plays_tackle.csv', index = False)"
   ]
  },
  {
   "cell_type": "code",
   "execution_count": null,
   "id": "99a7219e",
   "metadata": {},
   "outputs": [],
   "source": []
  }
 ],
 "metadata": {
  "kernelspec": {
   "display_name": "bowl",
   "language": "python",
   "name": "bowl"
  },
  "language_info": {
   "codemirror_mode": {
    "name": "ipython",
    "version": 3
   },
   "file_extension": ".py",
   "mimetype": "text/x-python",
   "name": "python",
   "nbconvert_exporter": "python",
   "pygments_lexer": "ipython3",
   "version": "3.11.4"
  }
 },
 "nbformat": 4,
 "nbformat_minor": 5
}
