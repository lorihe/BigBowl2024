{
 "cells": [
  {
   "cell_type": "code",
   "execution_count": 1,
   "id": "a59c16a8",
   "metadata": {},
   "outputs": [],
   "source": [
    "import pandas as pd\n",
    "import numpy as np\n",
    "import scipy.stats as stats\n",
    "from scipy.spatial import distance\n",
    "from scipy.spatial import cKDTree\n",
    "import math\n",
    "import pickle\n",
    "\n",
    "import matplotlib.pyplot as plt\n",
    "import seaborn as sns\n",
    "sns.set(style = \"whitegrid\", palette = 'dark')\n",
    "\n",
    "from lifelines import KaplanMeierFitter\n",
    "from lifelines.utils import median_survival_times\n",
    "from lifelines.statistics import survival_difference_at_fixed_point_in_time_test\n",
    "from lifelines import CoxPHFitter\n",
    "\n",
    "from sklearn.model_selection import train_test_split\n",
    "from sksurv.ensemble import ComponentwiseGradientBoostingSurvivalAnalysis\n",
    "from sksurv.ensemble import GradientBoostingSurvivalAnalysis\n",
    "from sklearn.metrics import mean_squared_error\n",
    "\n",
    "from scipy.spatial import Voronoi, voronoi_plot_2d\n",
    "from scipy.spatial import ConvexHull, Delaunay\n",
    "from scipy.spatial.distance import euclidean\n",
    "\n",
    "import get_data\n",
    "import tackle_plot\n",
    "\n",
    "import warnings\n",
    "warnings.filterwarnings('ignore')\n",
    "%load_ext autoreload\n",
    "%autoreload 2\n",
    "\n",
    "pd.set_option('display.max_rows', None)\n",
    "pd.set_option('display.max_columns', None)\n",
    "pd.set_option('display.max_colwidth', None)"
   ]
  },
  {
   "cell_type": "code",
   "execution_count": 2,
   "id": "058fb4e6",
   "metadata": {},
   "outputs": [],
   "source": [
    "def plot(gameId, playId):\n",
    "    game = get_data.game(gameId)\n",
    "    play = get_data.play(gameId, playId)\n",
    "    tracking = get_data.tracking(gameId, playId).reset_index()\n",
    "    \n",
    "    date = game['gameDate'].item()\n",
    "    tacklers = get_data.tacklers(gameId, playId)\n",
    "    carrier = play['ballCarrierId'].item()\n",
    "    offence = play['possessionTeam'].item()\n",
    "    defence = play['defensiveTeam'].item()\n",
    "    down = play['down'].item()\n",
    "    yardstogo = play['yardsToGo'].item()\n",
    "    ablos = play['absoluteYardlineNumber'].item()   \n",
    "    \n",
    "    fig0, fig = tackle_plot.plot(tracking, date, tacklers, carrier, offence, defence, down, yardstogo, ablos) \n",
    "    \n",
    "    fig0.show(config={'displayModeBar': False})    \n",
    "    fig.show(config={'displayModeBar': False})"
   ]
  },
  {
   "cell_type": "code",
   "execution_count": 3,
   "id": "5305392d",
   "metadata": {},
   "outputs": [],
   "source": [
    "progress_df3 = pd.read_csv('../newdata/progress_df3.csv')"
   ]
  },
  {
   "cell_type": "markdown",
   "id": "1b1159fe",
   "metadata": {},
   "source": [
    "## Gradient Boost Models"
   ]
  },
  {
   "cell_type": "markdown",
   "id": "7d4354e6",
   "metadata": {},
   "source": [
    "scikit-survival provided two types of gradient boost models:\n",
    "- GradientBoostingSurvivalAnalysis: uses regression tree base learner. \n",
    "- ComponentwiseGradientBoostingSurvivalAnalysis: uses component-wise least squares as base learner.\n",
    "\n",
    "Similar to the CPH model, these two gradient boost models use the concordance index (cindex) as the main evaluation method."
   ]
  },
  {
   "cell_type": "code",
   "execution_count": 4,
   "id": "8c94f198",
   "metadata": {},
   "outputs": [],
   "source": [
    "model_df = progress_df3[['lst_event', 'progress', 'near_defender_MPD', 'near_dist', \n",
    "                         'leverage', 'caught_width', 'SoF', 'has_blocker']]"
   ]
  },
  {
   "cell_type": "code",
   "execution_count": 5,
   "id": "7ca62d26",
   "metadata": {},
   "outputs": [],
   "source": [
    "# Format the y variable to indicate censored data\n",
    "y = np.array([(event, progress) for event, progress in zip(model_df['lst_event'], model_df['progress'])],\n",
    "             dtype=[('lst_event', bool), ('progress', float)])"
   ]
  },
  {
   "cell_type": "code",
   "execution_count": 6,
   "id": "34072b4c",
   "metadata": {},
   "outputs": [],
   "source": [
    "X = model_df[['near_defender_MPD', 'near_dist', 'leverage', 'caught_width', 'SoF', 'has_blocker']]"
   ]
  },
  {
   "cell_type": "code",
   "execution_count": 7,
   "id": "7cb57e89",
   "metadata": {},
   "outputs": [],
   "source": [
    "X_train, X_test, y_train, y_test = train_test_split(X, y, test_size=0.25, random_state=0)"
   ]
  },
  {
   "cell_type": "markdown",
   "id": "8438f2c9",
   "metadata": {},
   "source": [
    "### GradientBoostingSurvivalAnalysis model"
   ]
  },
  {
   "cell_type": "markdown",
   "id": "0ab583b5",
   "metadata": {},
   "source": [
    "Find efficient hyperparameters"
   ]
  },
  {
   "cell_type": "code",
   "execution_count": 8,
   "id": "1ea7cfd2",
   "metadata": {},
   "outputs": [
    {
     "name": "stdout",
     "output_type": "stream",
     "text": [
      "CPU times: total: 6min 53s\n",
      "Wall time: 6min 53s\n"
     ]
    }
   ],
   "source": [
    "%%time\n",
    "scores_tree = {}\n",
    "gb_tree = GradientBoostingSurvivalAnalysis(learning_rate=1.0, max_depth=1, random_state=0, loss=\"coxph\")\n",
    "for i in range(1, 31):\n",
    "    n_estimators = i * 5\n",
    "    gb_tree.set_params(n_estimators=n_estimators)\n",
    "    gb_tree.fit(X_train, y_train)\n",
    "    scores_tree[n_estimators] = gb_tree.score(X_test, y_test)"
   ]
  },
  {
   "cell_type": "code",
   "execution_count": 9,
   "id": "12b369a7",
   "metadata": {},
   "outputs": [
    {
     "data": {
      "image/png": "[encoded data removed]",
      "text/plain": [
       "<Figure size 600x300 with 1 Axes>"
      ]
     },
     "metadata": {},
     "output_type": "display_data"
    }
   ],
   "source": [
    "plt.figure(figsize=(6, 3))\n",
    "plot_x, plot_y = zip(*scores_tree.items())\n",
    "plt.plot(plot_x, plot_y)\n",
    "plt.xlabel(\"n_estimator\")\n",
    "plt.ylabel(\"concordance index\")\n",
    "plt.show()"
   ]
  },
  {
   "cell_type": "code",
   "execution_count": 10,
   "id": "b39c1aed",
   "metadata": {},
   "outputs": [],
   "source": [
    "# %%time\n",
    "# cindex_tree = []\n",
    "# gb_tree = GradientBoostingSurvivalAnalysis(max_depth=1, random_state=0, loss=\"coxph\")\n",
    "\n",
    "# for learning_rate in [0.1, 0.01, 0.001]:\n",
    "#     for dropout_rate in [0, 0.1, 0.2]:\n",
    "#         for n_estimators in range(30, 140, 5):\n",
    "#             gb_tree.set_params(learning_rate = learning_rate, dropout_rate=dropout_rate, n_estimators = n_estimators)\n",
    "#             gb_tree.fit(X_train, y_train)            \n",
    "#             cindex = gb_tree.score(X_test, y_test)\n",
    "#             cindex_tree.append({'learning_rate': learning_rate, 'dropout_rate':dropout_rate, \n",
    "#                                  'n_estimators': n_estimators, 'cindex':cindex})\n",
    "            \n",
    "# cindex_tree = pd.DataFrame(cindex_tree)\n",
    "\n",
    "# max_index = cindex_tree['cindex'].idxmax()\n",
    "\n",
    "# best_lr = cindex_tree.at[max_index, 'learning_rate']\n",
    "# best_dr = cindex_tree.at[max_index, 'dropout_rate']\n",
    "# best_ne = cindex_tree.at[max_index, 'n_estimators']\n",
    "# best_lr, best_dr, best_ne"
   ]
  },
  {
   "cell_type": "code",
   "execution_count": 11,
   "id": "e53376d6",
   "metadata": {},
   "outputs": [
    {
     "data": {
      "text/html": [
       "<style>#sk-container-id-1 {color: black;}#sk-container-id-1 pre{padding: 0;}#sk-container-id-1 div.sk-toggleable {background-color: white;}#sk-container-id-1 label.sk-toggleable__label {cursor: pointer;display: block;width: 100%;margin-bottom: 0;padding: 0.3em;box-sizing: border-box;text-align: center;}#sk-container-id-1 label.sk-toggleable__label-arrow:before {content: \"▸\";float: left;margin-right: 0.25em;color: #696969;}#sk-container-id-1 label.sk-toggleable__label-arrow:hover:before {color: black;}#sk-container-id-1 div.sk-estimator:hover label.sk-toggleable__label-arrow:before {color: black;}#sk-container-id-1 div.sk-toggleable__content {max-height: 0;max-width: 0;overflow: hidden;text-align: left;background-color: #f0f8ff;}#sk-container-id-1 div.sk-toggleable__content pre {margin: 0.2em;color: black;border-radius: 0.25em;background-color: #f0f8ff;}#sk-container-id-1 input.sk-toggleable__control:checked~div.sk-toggleable__content {max-height: 200px;max-width: 100%;overflow: auto;}#sk-container-id-1 input.sk-toggleable__control:checked~label.sk-toggleable__label-arrow:before {content: \"▾\";}#sk-container-id-1 div.sk-estimator input.sk-toggleable__control:checked~label.sk-toggleable__label {background-color: #d4ebff;}#sk-container-id-1 div.sk-label input.sk-toggleable__control:checked~label.sk-toggleable__label {background-color: #d4ebff;}#sk-container-id-1 input.sk-hidden--visually {border: 0;clip: rect(1px 1px 1px 1px);clip: rect(1px, 1px, 1px, 1px);height: 1px;margin: -1px;overflow: hidden;padding: 0;position: absolute;width: 1px;}#sk-container-id-1 div.sk-estimator {font-family: monospace;background-color: #f0f8ff;border: 1px dotted black;border-radius: 0.25em;box-sizing: border-box;margin-bottom: 0.5em;}#sk-container-id-1 div.sk-estimator:hover {background-color: #d4ebff;}#sk-container-id-1 div.sk-parallel-item::after {content: \"\";width: 100%;border-bottom: 1px solid gray;flex-grow: 1;}#sk-container-id-1 div.sk-label:hover label.sk-toggleable__label {background-color: #d4ebff;}#sk-container-id-1 div.sk-serial::before {content: \"\";position: absolute;border-left: 1px solid gray;box-sizing: border-box;top: 0;bottom: 0;left: 50%;z-index: 0;}#sk-container-id-1 div.sk-serial {display: flex;flex-direction: column;align-items: center;background-color: white;padding-right: 0.2em;padding-left: 0.2em;position: relative;}#sk-container-id-1 div.sk-item {position: relative;z-index: 1;}#sk-container-id-1 div.sk-parallel {display: flex;align-items: stretch;justify-content: center;background-color: white;position: relative;}#sk-container-id-1 div.sk-item::before, #sk-container-id-1 div.sk-parallel-item::before {content: \"\";position: absolute;border-left: 1px solid gray;box-sizing: border-box;top: 0;bottom: 0;left: 50%;z-index: -1;}#sk-container-id-1 div.sk-parallel-item {display: flex;flex-direction: column;z-index: 1;position: relative;background-color: white;}#sk-container-id-1 div.sk-parallel-item:first-child::after {align-self: flex-end;width: 50%;}#sk-container-id-1 div.sk-parallel-item:last-child::after {align-self: flex-start;width: 50%;}#sk-container-id-1 div.sk-parallel-item:only-child::after {width: 0;}#sk-container-id-1 div.sk-dashed-wrapped {border: 1px dashed gray;margin: 0 0.4em 0.5em 0.4em;box-sizing: border-box;padding-bottom: 0.4em;background-color: white;}#sk-container-id-1 div.sk-label label {font-family: monospace;font-weight: bold;display: inline-block;line-height: 1.2em;}#sk-container-id-1 div.sk-label-container {text-align: center;}#sk-container-id-1 div.sk-container {/* jupyter's `normalize.less` sets `[hidden] { display: none; }` but bootstrap.min.css set `[hidden] { display: none !important; }` so we also need the `!important` here to be able to override the default hidden behavior on the sphinx rendered scikit-learn.org. See: https://github.com/scikit-learn/scikit-learn/issues/21755 */display: inline-block !important;position: relative;}#sk-container-id-1 div.sk-text-repr-fallback {display: none;}</style><div id=\"sk-container-id-1\" class=\"sk-top-container\"><div class=\"sk-text-repr-fallback\"><pre>GradientBoostingSurvivalAnalysis(max_depth=1, n_estimators=135, random_state=0)</pre><b>In a Jupyter environment, please rerun this cell to show the HTML representation or trust the notebook. <br />On GitHub, the HTML representation is unable to render, please try loading this page with nbviewer.org.</b></div><div class=\"sk-container\" hidden><div class=\"sk-item\"><div class=\"sk-estimator sk-toggleable\"><input class=\"sk-toggleable__control sk-hidden--visually\" id=\"sk-estimator-id-1\" type=\"checkbox\" checked><label for=\"sk-estimator-id-1\" class=\"sk-toggleable__label sk-toggleable__label-arrow\">GradientBoostingSurvivalAnalysis</label><div class=\"sk-toggleable__content\"><pre>GradientBoostingSurvivalAnalysis(max_depth=1, n_estimators=135, random_state=0)</pre></div></div></div></div></div>"
      ],
      "text/plain": [
       "GradientBoostingSurvivalAnalysis(max_depth=1, n_estimators=135, random_state=0)"
      ]
     },
     "execution_count": 11,
     "metadata": {},
     "output_type": "execute_result"
    }
   ],
   "source": [
    "best_lr, best_dr, best_ne = 0.1, 0.0, 135\n",
    "gb_tree = GradientBoostingSurvivalAnalysis(n_estimators=best_ne, learning_rate=best_lr, dropout_rate = best_dr,\n",
    "                                           max_depth=1, random_state=0, loss=\"coxph\")\n",
    "gb_tree.fit(X_train, y_train)"
   ]
  },
  {
   "cell_type": "code",
   "execution_count": 12,
   "id": "42bca709",
   "metadata": {},
   "outputs": [
    {
     "data": {
      "text/plain": [
       "0.7557484218553706"
      ]
     },
     "execution_count": 12,
     "metadata": {},
     "output_type": "execute_result"
    }
   ],
   "source": [
    "cindex_tree = gb_tree.score(X_test, y_test)\n",
    "cindex_tree"
   ]
  },
  {
   "cell_type": "markdown",
   "id": "88f07847",
   "metadata": {},
   "source": [
    "### Drop features 'leverage' and 'caught_width' then fit the model again"
   ]
  },
  {
   "cell_type": "code",
   "execution_count": null,
   "id": "17342af6",
   "metadata": {},
   "outputs": [],
   "source": [
    "X_1 = model_df[['near_defender_MPD', 'near_dist', 'SoF', 'has_blocker']]\n",
    "X_1_train, X_1_test, y_1_train, y_1_test = train_test_split(X_1, y, test_size=0.25, random_state=0)\n",
    "\n",
    "scores_tree_1 = {}\n",
    "gb_tree_1 = GradientBoostingSurvivalAnalysis(learning_rate=1.0, max_depth=1, random_state=0, loss=\"coxph\")\n",
    "for i in range(1, 31):\n",
    "    n_estimators = i * 5\n",
    "    gb_tree_1.set_params(n_estimators=n_estimators)\n",
    "    gb_tree_1.fit(X_1_train, y_1_train)\n",
    "    scores_tree_1[n_estimators] = gb_tree_1.score(X_1_test, y_1_test)\n",
    "    \n",
    "plt.figure(figsize=(6, 3))\n",
    "plot_x, plot_y = zip(*scores_tree_1.items())\n",
    "plt.plot(plot_x, plot_y)\n",
    "plt.xlabel(\"n_estimator\")\n",
    "plt.ylabel(\"concordance index\")\n",
    "plt.show()"
   ]
  },
  {
   "cell_type": "code",
   "execution_count": null,
   "id": "addaa4b7",
   "metadata": {},
   "outputs": [],
   "source": [
    "# %%time\n",
    "# cindex_tree = []\n",
    "# gb_tree = GradientBoostingSurvivalAnalysis(max_depth=1, random_state=0, loss=\"coxph\")\n",
    "\n",
    "# for learning_rate in [0.1, 0.01, 0.001]:\n",
    "#     for dropout_rate in [0, 0.1, 0.2]:\n",
    "#         for n_estimators in range(80, 160, 5):\n",
    "#             gb_tree.set_params(learning_rate = learning_rate, dropout_rate=dropout_rate, n_estimators = n_estimators)\n",
    "#             gb_tree.fit(X1_train, y_train)            \n",
    "#             cindex = gb_tree.score(X1_test, y_test)\n",
    "#             cindex_tree.append({'learning_rate': learning_rate, 'dropout_rate':dropout_rate, \n",
    "#                                  'n_estimators': n_estimators, 'cindex':cindex})\n",
    "            \n",
    "# cindex_tree = pd.DataFrame(cindex_tree)\n",
    "\n",
    "# max_index = cindex_tree['cindex'].idxmax()\n",
    "\n",
    "# best_lr = cindex_tree.at[max_index, 'learning_rate']\n",
    "# best_dr = cindex_tree.at[max_index, 'dropout_rate']\n",
    "# best_ne = cindex_tree.at[max_index, 'n_estimators']\n",
    "# best_lr, best_dr, best_ne"
   ]
  },
  {
   "cell_type": "code",
   "execution_count": null,
   "id": "dc33d4a3",
   "metadata": {},
   "outputs": [],
   "source": [
    "best_lr, best_dr, best_ne = 0.1, 0.0, 140\n",
    "gb_tree_1 = GradientBoostingSurvivalAnalysis(n_estimators=best_ne, learning_rate=best_lr, dropout_rate = best_dr,\n",
    "                                           max_depth=1, random_state=0, loss=\"coxph\")\n",
    "gb_tree_1.fit(X_1_train, y_1_train)\n",
    "cindex_tree = gb_tree_1.score(X_1_test, y_1_test)\n",
    "cindex_tree"
   ]
  },
  {
   "cell_type": "markdown",
   "id": "3c7bb8b3",
   "metadata": {},
   "source": [
    "### ComponentwiseGradientBoostingSurvivalAnalysis"
   ]
  },
  {
   "cell_type": "markdown",
   "id": "8d7ab873",
   "metadata": {},
   "source": [
    "Find efficient hyperparameters"
   ]
  },
  {
   "cell_type": "code",
   "execution_count": null,
   "id": "815ecea8",
   "metadata": {},
   "outputs": [],
   "source": [
    "%%time\n",
    "cindex_ls = []\n",
    "\n",
    "gb_ls = ComponentwiseGradientBoostingSurvivalAnalysis(random_state=0, loss = 'squared')\n",
    "for learning_rate in [0.1, 0.01, 0.001]:\n",
    "    for dropout_rate in [0, 0.1, 0.2, 0.3]:\n",
    "        for n_estimators in range(15, 150, 5):\n",
    "            gb_ls.set_params(learning_rate = learning_rate, dropout_rate=dropout_rate, n_estimators = n_estimators)\n",
    "            gb_ls.fit(X_train, y_train)            \n",
    "            cindex = gb_ls.score(X_test, y_test)\n",
    "            cindex_ls.append({'learning_rate': learning_rate, 'dropout_rate':dropout_rate, \n",
    "                              'n_estimators': n_estimators, 'cindex':cindex})\n",
    "cindex_ls = pd.DataFrame(cindex_ls)\n",
    "max_index = cindex_ls['cindex'].idxmax()\n",
    "\n",
    "best_lr = cindex_ls.at[max_index, 'learning_rate']\n",
    "best_dr = cindex_ls.at[max_index, 'dropout_rate']\n",
    "best_ne = cindex_ls.at[max_index, 'n_estimators']\n",
    "best_lr, best_dr, best_ne"
   ]
  },
  {
   "cell_type": "code",
   "execution_count": null,
   "id": "401fbf09",
   "metadata": {},
   "outputs": [],
   "source": [
    "gb_ls = ComponentwiseGradientBoostingSurvivalAnalysis(n_estimators=best_ne, learning_rate=best_lr, \n",
    "                                                      dropout_rate = best_dr, random_state=0, loss=\"squared\")\n",
    "gb_ls.fit(X_train, y_train)"
   ]
  },
  {
   "cell_type": "code",
   "execution_count": null,
   "id": "e4c231f8",
   "metadata": {},
   "outputs": [],
   "source": [
    "cindex_ls = gb_ls.score(X_test, y_test)\n",
    "cindex_ls"
   ]
  },
  {
   "cell_type": "markdown",
   "id": "b2f5800f",
   "metadata": {},
   "source": [
    "The cindex of this model is lower than both cph model and tree-based GB model. However, it provides suggestions on feature selection as below:"
   ]
  },
  {
   "cell_type": "code",
   "execution_count": null,
   "id": "a4bd3e07",
   "metadata": {},
   "outputs": [],
   "source": [
    "coef = pd.Series(gb_ls.coef_, [\"Intercept\"] + X.columns.tolist())\n",
    "\n",
    "print(\"Number of non-zero coefficients:\", (coef != 0).sum())\n",
    "coef_nz = coef[coef != 0]\n",
    "coef_order = coef_nz.abs().sort_values(ascending=False).index\n",
    "coef_nz.loc[coef_order]"
   ]
  },
  {
   "cell_type": "markdown",
   "id": "5af5254e",
   "metadata": {},
   "source": [
    "The model suggests drop 'caught_with' like previous models. The low coefficient of SoF implies its non-linear impact on the target variable."
   ]
  },
  {
   "cell_type": "markdown",
   "id": "e7d8baf9",
   "metadata": {},
   "source": [
    "## Check predicted probability distribution and rsme "
   ]
  },
  {
   "cell_type": "markdown",
   "id": "aa72a37c",
   "metadata": {},
   "source": [
    "- use tree-based model to predict probability"
   ]
  },
  {
   "cell_type": "code",
   "execution_count": null,
   "id": "af4d92ea",
   "metadata": {},
   "outputs": [],
   "source": [
    "def plot_prob(df_predict):\n",
    "    \n",
    "    '''\n",
    "    Trains a Cox Proportional Hazards model on specified dataset, evaluates its performance on a test set, \n",
    "    and visualizes the results.\n",
    "\n",
    "    Args:\n",
    "    - model_df (DataFrame): The input dataframe for modeling.\n",
    "    - robust (bool, optional): If True, a robust fitting approach is used. Default is False.\n",
    "    '''    \n",
    "    fig, (ax1, ax2) = plt.subplots(1, 2, figsize=(15, 5), gridspec_kw={'width_ratios': [1, 5]})\n",
    "\n",
    "    # Histogram of Predicted Probabilities\n",
    "    n, bins, patches = ax1.hist(df_predict['Predicted_Probability'], bins=6, alpha=0.7)\n",
    "    ax1.set_title('Histogram of Predicted Probabilities')\n",
    "    ax1.set_xlabel('Predicted Probability')\n",
    "    ax1.set_ylabel('Frequency')\n",
    "\n",
    "    for i in range(len(patches)):\n",
    "        ax1.text(patches[i].xy[0] + patches[i].get_width() / 2, patches[i].get_height(), \n",
    "                 f'{n[i]/len(df_predict):.2f}', ha='center', va='bottom')\n",
    "        \n",
    "    # Scatter Plot of Predicted Probabilities vs Progress\n",
    "    sns.scatterplot(data=df_predict, x='progress', y='Predicted_Probability', s=5, ax=ax2)\n",
    "    ax2.set_title('GB Model - Scatter Plot of Predicted Probabilities vs Progress')\n",
    "    ax2.set_xlabel('Progress')\n",
    "    ax2.set_ylabel('Predicted Probability')\n",
    "\n",
    "    plt.tight_layout()\n",
    "    plt.show()"
   ]
  },
  {
   "cell_type": "code",
   "execution_count": null,
   "id": "29bb51d3",
   "metadata": {},
   "outputs": [],
   "source": [
    "X_test_reset = X_test.reset_index(drop = True)"
   ]
  },
  {
   "cell_type": "code",
   "execution_count": null,
   "id": "1e2a45bc",
   "metadata": {},
   "outputs": [],
   "source": [
    "predict_df = pd.DataFrame()\n",
    "predict_df['progress'] = [y[1] for y in y_test]\n",
    "predict_df = pd.merge(predict_df, X_test_reset, left_index = True, right_index = True)"
   ]
  },
  {
   "cell_type": "code",
   "execution_count": null,
   "id": "38ab219c",
   "metadata": {},
   "outputs": [],
   "source": [
    "predict_df['sf'] = gb_tree.predict_survival_function(X_test_reset)"
   ]
  },
  {
   "cell_type": "code",
   "execution_count": null,
   "id": "1ea5321a",
   "metadata": {},
   "outputs": [],
   "source": [
    "predict_probs = []\n",
    "for index, row in predict_df.iterrows():\n",
    "    sf = row['sf']\n",
    "    survival_function = pd.DataFrame({'probability': sf.y}, index=sf.x)\n",
    "    progress = math.floor(row['progress']*10)/10\n",
    "    closest_idx = abs(survival_function.index - progress).argmin()\n",
    "    progress = survival_function.index[closest_idx]\n",
    "    probability = survival_function.loc[progress, 'probability']\n",
    "    predict_probs.append(probability)    "
   ]
  },
  {
   "cell_type": "code",
   "execution_count": null,
   "id": "1c1e3aef",
   "metadata": {},
   "outputs": [],
   "source": [
    "predict_df['Predicted_Probability'] = predict_probs\n",
    "predict_df['Predicted_Probability'] = predict_df['Predicted_Probability'].round(2)"
   ]
  },
  {
   "cell_type": "code",
   "execution_count": null,
   "id": "e0d43bc6",
   "metadata": {},
   "outputs": [],
   "source": [
    "plot_prob(predict_df)"
   ]
  },
  {
   "cell_type": "code",
   "execution_count": null,
   "id": "9080e065",
   "metadata": {},
   "outputs": [],
   "source": [
    "X_1_test_reset = X_1_test.reset_index(drop = True)\n",
    "predict_df_1 = pd.DataFrame()\n",
    "predict_df_1['progress'] = [y[1] for y in y_1_test]\n",
    "predict_df_1 = pd.merge(predict_df_1, X_1_test_reset, left_index = True, right_index = True)\n",
    "predict_df_1['sf'] = gb_tree_1.predict_survival_function(X_1_test_reset)\n",
    "\n",
    "predict_probs_1 = []\n",
    "for index, row in predict_df_1.iterrows():\n",
    "    sf = row['sf']\n",
    "    survival_function = pd.DataFrame({'probability': sf.y}, index=sf.x)\n",
    "    progress = math.floor(row['progress']*10)/10\n",
    "    closest_idx = abs(survival_function.index - progress).argmin()\n",
    "    progress = survival_function.index[closest_idx]\n",
    "    probability = survival_function.loc[progress, 'probability']\n",
    "    predict_probs_1.append(probability)    \n",
    "\n",
    "predict_df_1['Predicted_Probability'] = predict_probs_1\n",
    "predict_df_1['Predicted_Probability'] = predict_df_1['Predicted_Probability'].round(2)\n",
    "plot_prob(predict_df_1)"
   ]
  },
  {
   "cell_type": "markdown",
   "id": "189afb09",
   "metadata": {},
   "source": [
    "The CPH model and the Gradient Boost model showed different prediction patterns. The CPH model tends to set a limit on the lower end of probability when predicting small number durations. The Gradient Boost model tends to set a limit on the higher end of probability when predicting large number durations. Considering the significance of meaningful prediction on small number durations, I chose the Gradient Boost model for the following model application. In addition, as not enough evidence shows features 'leverage' and 'caught_width' are significant, I chose the Gradient Boost model with these two being dropped as the final model."
   ]
  },
  {
   "cell_type": "markdown",
   "id": "9a93b813",
   "metadata": {},
   "source": [
    "- Use component-wise least squares model to predict duration"
   ]
  },
  {
   "cell_type": "code",
   "execution_count": null,
   "id": "7bb5e016",
   "metadata": {},
   "outputs": [],
   "source": [
    "predict_df['ex_progress'] = gb_ls.predict(X_test_reset)\n",
    "predict_df['error'] = predict_df['ex_progress'] - predict_df['progress']\n",
    "rmse = np.sqrt(mean_squared_error(predict_df['progress'], predict_df['ex_progress']))\n",
    "rmse"
   ]
  },
  {
   "cell_type": "code",
   "execution_count": null,
   "id": "7a7e8285",
   "metadata": {},
   "outputs": [],
   "source": [
    "plt.figure(figsize=(12, 4))\n",
    "sns.scatterplot(data = predict_df, x = 'progress', y = 'error', s = 5)"
   ]
  },
  {
   "cell_type": "code",
   "execution_count": null,
   "id": "f0d45f5d",
   "metadata": {},
   "outputs": [],
   "source": [
    "# with open('../saved_models/gb_tree.pkl', 'wb') as file:\n",
    "#     pickle.dump(gb_tree, file)"
   ]
  },
  {
   "cell_type": "code",
   "execution_count": null,
   "id": "286f4001",
   "metadata": {},
   "outputs": [],
   "source": [
    "# with open('../saved_models/gb_tree_1.pkl', 'wb') as file:\n",
    "#     pickle.dump(gb_tree_1, file)"
   ]
  },
  {
   "cell_type": "code",
   "execution_count": null,
   "id": "ed98674c",
   "metadata": {},
   "outputs": [],
   "source": [
    "# with open('../saved_models/gb_ls.pkl', 'wb') as file:\n",
    "#     pickle.dump(gb_ls, file)"
   ]
  },
  {
   "cell_type": "code",
   "execution_count": null,
   "id": "3da326bb",
   "metadata": {},
   "outputs": [],
   "source": []
  }
 ],
 "metadata": {
  "kernelspec": {
   "display_name": "bowl",
   "language": "python",
   "name": "bowl"
  },
  "language_info": {
   "codemirror_mode": {
    "name": "ipython",
    "version": 3
   },
   "file_extension": ".py",
   "mimetype": "text/x-python",
   "name": "python",
   "nbconvert_exporter": "python",
   "pygments_lexer": "ipython3",
   "version": "3.11.4"
  }
 },
 "nbformat": 4,
 "nbformat_minor": 5
}
